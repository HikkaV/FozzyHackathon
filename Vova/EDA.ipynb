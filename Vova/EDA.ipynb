{
 "cells": [
  {
   "cell_type": "markdown",
   "metadata": {},
   "source": [
    "# EDA"
   ]
  },
  {
   "cell_type": "code",
   "execution_count": 2,
   "metadata": {},
   "outputs": [],
   "source": [
    "import pandas as pd\n",
    "import numpy as np\n",
    "import seaborn as sns\n",
    "sns.set()"
   ]
  },
  {
   "cell_type": "code",
   "execution_count": 3,
   "metadata": {},
   "outputs": [],
   "source": [
    "import matplotlib.pyplot as plt"
   ]
  },
  {
   "cell_type": "markdown",
   "metadata": {},
   "source": [
    "### geo params"
   ]
  },
  {
   "cell_type": "code",
   "execution_count": 4,
   "metadata": {},
   "outputs": [],
   "source": [
    "geo_params = pd.read_csv('../geo_params.csv')"
   ]
  },
  {
   "cell_type": "code",
   "execution_count": 5,
   "metadata": {},
   "outputs": [
    {
     "data": {
      "text/html": [
       "<div>\n",
       "<style scoped>\n",
       "    .dataframe tbody tr th:only-of-type {\n",
       "        vertical-align: middle;\n",
       "    }\n",
       "\n",
       "    .dataframe tbody tr th {\n",
       "        vertical-align: top;\n",
       "    }\n",
       "\n",
       "    .dataframe thead th {\n",
       "        text-align: right;\n",
       "    }\n",
       "</style>\n",
       "<table border=\"1\" class=\"dataframe\">\n",
       "  <thead>\n",
       "    <tr style=\"text-align: right;\">\n",
       "      <th></th>\n",
       "      <th>geoCluster</th>\n",
       "      <th>cityId</th>\n",
       "    </tr>\n",
       "  </thead>\n",
       "  <tbody>\n",
       "    <tr>\n",
       "      <th>0</th>\n",
       "      <td>21</td>\n",
       "      <td>1</td>\n",
       "    </tr>\n",
       "    <tr>\n",
       "      <th>1</th>\n",
       "      <td>47</td>\n",
       "      <td>1</td>\n",
       "    </tr>\n",
       "    <tr>\n",
       "      <th>2</th>\n",
       "      <td>48</td>\n",
       "      <td>1</td>\n",
       "    </tr>\n",
       "    <tr>\n",
       "      <th>3</th>\n",
       "      <td>92</td>\n",
       "      <td>1</td>\n",
       "    </tr>\n",
       "    <tr>\n",
       "      <th>4</th>\n",
       "      <td>112</td>\n",
       "      <td>1</td>\n",
       "    </tr>\n",
       "  </tbody>\n",
       "</table>\n",
       "</div>"
      ],
      "text/plain": [
       "   geoCluster  cityId\n",
       "0          21       1\n",
       "1          47       1\n",
       "2          48       1\n",
       "3          92       1\n",
       "4         112       1"
      ]
     },
     "execution_count": 5,
     "metadata": {},
     "output_type": "execute_result"
    }
   ],
   "source": [
    "geo_params.head()"
   ]
  },
  {
   "cell_type": "code",
   "execution_count": 6,
   "metadata": {},
   "outputs": [
    {
     "data": {
      "text/plain": [
       "515"
      ]
     },
     "execution_count": 6,
     "metadata": {},
     "output_type": "execute_result"
    }
   ],
   "source": [
    "geo_params['geoCluster'].nunique()"
   ]
  },
  {
   "cell_type": "code",
   "execution_count": 7,
   "metadata": {},
   "outputs": [
    {
     "data": {
      "text/plain": [
       "3"
      ]
     },
     "execution_count": 7,
     "metadata": {},
     "output_type": "execute_result"
    }
   ],
   "source": [
    "geo_params['cityId'].nunique()"
   ]
  },
  {
   "cell_type": "code",
   "execution_count": 8,
   "metadata": {},
   "outputs": [
    {
     "data": {
      "text/plain": [
       "0     450\n",
       "1      64\n",
       "25      1\n",
       "Name: cityId, dtype: int64"
      ]
     },
     "execution_count": 8,
     "metadata": {},
     "output_type": "execute_result"
    }
   ],
   "source": [
    "geo_params['cityId'].value_counts()"
   ]
  },
  {
   "cell_type": "code",
   "execution_count": 9,
   "metadata": {},
   "outputs": [
    {
     "data": {
      "text/plain": [
       "53    681\n",
       "Name: geoCluster, dtype: int64"
      ]
     },
     "execution_count": 9,
     "metadata": {},
     "output_type": "execute_result"
    }
   ],
   "source": [
    "geo_params[geo_params['cityId']==25]['geoCluster']"
   ]
  },
  {
   "cell_type": "code",
   "execution_count": 10,
   "metadata": {},
   "outputs": [
    {
     "data": {
      "text/plain": [
       "cityId\n",
       "0     450\n",
       "1      64\n",
       "25      1\n",
       "Name: geoCluster, dtype: int64"
      ]
     },
     "execution_count": 10,
     "metadata": {},
     "output_type": "execute_result"
    }
   ],
   "source": [
    "geo_params.groupby('cityId')['geoCluster'].size()"
   ]
  },
  {
   "cell_type": "markdown",
   "metadata": {},
   "source": [
    "### test data "
   ]
  },
  {
   "cell_type": "code",
   "execution_count": 11,
   "metadata": {},
   "outputs": [],
   "source": [
    "test_data = pd.read_csv('../test_data.csv')"
   ]
  },
  {
   "cell_type": "code",
   "execution_count": 12,
   "metadata": {},
   "outputs": [
    {
     "data": {
      "text/html": [
       "<div>\n",
       "<style scoped>\n",
       "    .dataframe tbody tr th:only-of-type {\n",
       "        vertical-align: middle;\n",
       "    }\n",
       "\n",
       "    .dataframe tbody tr th {\n",
       "        vertical-align: top;\n",
       "    }\n",
       "\n",
       "    .dataframe thead th {\n",
       "        text-align: right;\n",
       "    }\n",
       "</style>\n",
       "<table border=\"1\" class=\"dataframe\">\n",
       "  <thead>\n",
       "    <tr style=\"text-align: right;\">\n",
       "      <th></th>\n",
       "      <th>ID</th>\n",
       "      <th>geoCluster</th>\n",
       "      <th>SKU</th>\n",
       "      <th>date</th>\n",
       "      <th>price</th>\n",
       "    </tr>\n",
       "  </thead>\n",
       "  <tbody>\n",
       "    <tr>\n",
       "      <th>0</th>\n",
       "      <td>RR1666030</td>\n",
       "      <td>21</td>\n",
       "      <td>32485</td>\n",
       "      <td>2021-07-20</td>\n",
       "      <td>66.69</td>\n",
       "    </tr>\n",
       "  </tbody>\n",
       "</table>\n",
       "</div>"
      ],
      "text/plain": [
       "          ID  geoCluster    SKU        date  price\n",
       "0  RR1666030          21  32485  2021-07-20  66.69"
      ]
     },
     "execution_count": 12,
     "metadata": {},
     "output_type": "execute_result"
    }
   ],
   "source": [
    "test_data.head(1)"
   ]
  },
  {
   "cell_type": "code",
   "execution_count": 13,
   "metadata": {},
   "outputs": [
    {
     "data": {
      "text/plain": [
       "(1666028, 5)"
      ]
     },
     "execution_count": 13,
     "metadata": {},
     "output_type": "execute_result"
    }
   ],
   "source": [
    "test_data.shape"
   ]
  },
  {
   "cell_type": "code",
   "execution_count": 14,
   "metadata": {},
   "outputs": [
    {
     "data": {
      "text/plain": [
       "0"
      ]
     },
     "execution_count": 14,
     "metadata": {},
     "output_type": "execute_result"
    }
   ],
   "source": [
    "test_data['price'].isna().sum()"
   ]
  },
  {
   "cell_type": "code",
   "execution_count": 15,
   "metadata": {},
   "outputs": [
    {
     "data": {
      "text/plain": [
       "1961"
      ]
     },
     "execution_count": 15,
     "metadata": {},
     "output_type": "execute_result"
    }
   ],
   "source": [
    "test_data['SKU'].nunique()"
   ]
  },
  {
   "cell_type": "code",
   "execution_count": 16,
   "metadata": {},
   "outputs": [
    {
     "data": {
      "text/plain": [
       "515"
      ]
     },
     "execution_count": 16,
     "metadata": {},
     "output_type": "execute_result"
    }
   ],
   "source": [
    "test_data.geoCluster.nunique()"
   ]
  },
  {
   "cell_type": "code",
   "execution_count": 17,
   "metadata": {},
   "outputs": [
    {
     "data": {
      "text/plain": [
       "True"
      ]
     },
     "execution_count": 17,
     "metadata": {},
     "output_type": "execute_result"
    }
   ],
   "source": [
    "681 in test_data['geoCluster'].unique()"
   ]
  },
  {
   "cell_type": "code",
   "execution_count": 18,
   "metadata": {},
   "outputs": [
    {
     "data": {
      "text/plain": [
       "0.19"
      ]
     },
     "execution_count": 18,
     "metadata": {},
     "output_type": "execute_result"
    }
   ],
   "source": [
    "test_data['price'].min()"
   ]
  },
  {
   "cell_type": "markdown",
   "metadata": {},
   "source": [
    "### sku final"
   ]
  },
  {
   "cell_type": "code",
   "execution_count": 167,
   "metadata": {},
   "outputs": [],
   "source": [
    "sku_meta = pd.read_csv('../sku_final.csv')"
   ]
  },
  {
   "cell_type": "code",
   "execution_count": 168,
   "metadata": {},
   "outputs": [
    {
     "data": {
      "text/html": [
       "<div>\n",
       "<style scoped>\n",
       "    .dataframe tbody tr th:only-of-type {\n",
       "        vertical-align: middle;\n",
       "    }\n",
       "\n",
       "    .dataframe tbody tr th {\n",
       "        vertical-align: top;\n",
       "    }\n",
       "\n",
       "    .dataframe thead th {\n",
       "        text-align: right;\n",
       "    }\n",
       "</style>\n",
       "<table border=\"1\" class=\"dataframe\">\n",
       "  <thead>\n",
       "    <tr style=\"text-align: right;\">\n",
       "      <th></th>\n",
       "      <th>SKU</th>\n",
       "      <th>productCategoryId</th>\n",
       "      <th>productCategory_caption_UKR</th>\n",
       "      <th>productCategory_caption_RU</th>\n",
       "      <th>productCategory_caption_ENG</th>\n",
       "      <th>productTypeId</th>\n",
       "      <th>productType_caption_UKR</th>\n",
       "      <th>productType_caption_RU</th>\n",
       "      <th>productType_caption_ENG</th>\n",
       "      <th>brandId</th>\n",
       "      <th>lagerUnitQuantity</th>\n",
       "      <th>lagerUnitTypeId</th>\n",
       "      <th>lagerUnitType_caption</th>\n",
       "      <th>trademark</th>\n",
       "      <th>countryOfOrigin</th>\n",
       "      <th>countryOfOrigin_caption</th>\n",
       "      <th>commodity_group</th>\n",
       "      <th>commodity_group_caption_UKR</th>\n",
       "      <th>commodity_group_caption_RU</th>\n",
       "      <th>commodity_group_caption_ENG</th>\n",
       "    </tr>\n",
       "  </thead>\n",
       "  <tbody>\n",
       "    <tr>\n",
       "      <th>0</th>\n",
       "      <td>17</td>\n",
       "      <td>5416.0</td>\n",
       "      <td>Хурма</td>\n",
       "      <td>Хурма</td>\n",
       "      <td>Persimmon</td>\n",
       "      <td>4770.0</td>\n",
       "      <td>Тропічні фрукти - Хурма - Звичайна</td>\n",
       "      <td>Тропические фрукты - Хурма - Обычная</td>\n",
       "      <td>Tropical fruit — Persimmon — Plain</td>\n",
       "      <td>NaN</td>\n",
       "      <td>1.0</td>\n",
       "      <td>1</td>\n",
       "      <td>г</td>\n",
       "      <td>NaN</td>\n",
       "      <td>NaN</td>\n",
       "      <td>NaN</td>\n",
       "      <td>5551018</td>\n",
       "      <td>Фрукти тропічні</td>\n",
       "      <td>Фрукты тропические</td>\n",
       "      <td>Tropical fruits</td>\n",
       "    </tr>\n",
       "    <tr>\n",
       "      <th>1</th>\n",
       "      <td>18</td>\n",
       "      <td>5413.0</td>\n",
       "      <td>Фейхоа</td>\n",
       "      <td>Фейхоа</td>\n",
       "      <td>Feijoa</td>\n",
       "      <td>4772.0</td>\n",
       "      <td>Тропічні фрукти - Екзотичні</td>\n",
       "      <td>Тропические фрукты - Экзотические</td>\n",
       "      <td>Tropical fruit — Exotic</td>\n",
       "      <td>NaN</td>\n",
       "      <td>1.0</td>\n",
       "      <td>1</td>\n",
       "      <td>г</td>\n",
       "      <td>NaN</td>\n",
       "      <td>NaN</td>\n",
       "      <td>NaN</td>\n",
       "      <td>5551018</td>\n",
       "      <td>Фрукти тропічні</td>\n",
       "      <td>Фрукты тропические</td>\n",
       "      <td>Tropical fruits</td>\n",
       "    </tr>\n",
       "    <tr>\n",
       "      <th>2</th>\n",
       "      <td>24</td>\n",
       "      <td>5425.0</td>\n",
       "      <td>Гранат</td>\n",
       "      <td>Гранат</td>\n",
       "      <td>Pomegranate</td>\n",
       "      <td>4760.0</td>\n",
       "      <td>Тропічні фрукти - Гранат - Звичайний</td>\n",
       "      <td>Тропические фрукты - Гранат - Обычный</td>\n",
       "      <td>Tropical fruit — Pomegranate— Plain</td>\n",
       "      <td>NaN</td>\n",
       "      <td>1.0</td>\n",
       "      <td>1</td>\n",
       "      <td>г</td>\n",
       "      <td>NaN</td>\n",
       "      <td>NaN</td>\n",
       "      <td>NaN</td>\n",
       "      <td>5551018</td>\n",
       "      <td>Фрукти тропічні</td>\n",
       "      <td>Фрукты тропические</td>\n",
       "      <td>Tropical fruits</td>\n",
       "    </tr>\n",
       "    <tr>\n",
       "      <th>3</th>\n",
       "      <td>25</td>\n",
       "      <td>5431.0</td>\n",
       "      <td>Апельсин</td>\n",
       "      <td>Апельсин</td>\n",
       "      <td>Orange</td>\n",
       "      <td>4773.0</td>\n",
       "      <td>Цитрусові фрукти - Апельсин - Звичайний</td>\n",
       "      <td>Цитрусовые фрукты - Апельсин - Обычный</td>\n",
       "      <td>Citrus fruit — Orange — Plain</td>\n",
       "      <td>NaN</td>\n",
       "      <td>1.0</td>\n",
       "      <td>2</td>\n",
       "      <td>кг</td>\n",
       "      <td>NaN</td>\n",
       "      <td>8.0</td>\n",
       "      <td>Іспанія</td>\n",
       "      <td>5551018</td>\n",
       "      <td>Фрукти тропічні</td>\n",
       "      <td>Фрукты тропические</td>\n",
       "      <td>Tropical fruits</td>\n",
       "    </tr>\n",
       "    <tr>\n",
       "      <th>4</th>\n",
       "      <td>208</td>\n",
       "      <td>5835.0</td>\n",
       "      <td>Вода України газована</td>\n",
       "      <td>Вода Украины газированная</td>\n",
       "      <td>Water, Ukraine, sparkling</td>\n",
       "      <td>3457.0</td>\n",
       "      <td>Лікувально-столова вода - Україна - ПЕТ - від ...</td>\n",
       "      <td>Лечебно-столовая вода - Украина - ПЭТ - от 1л ...</td>\n",
       "      <td>Therapeutic-table water — Ukraine — PET — from...</td>\n",
       "      <td>1241.0</td>\n",
       "      <td>1.5</td>\n",
       "      <td>3</td>\n",
       "      <td>л</td>\n",
       "      <td>3670.0</td>\n",
       "      <td>1.0</td>\n",
       "      <td>Україна</td>\n",
       "      <td>5550022</td>\n",
       "      <td>Вода Мфнеральна</td>\n",
       "      <td>Вода Минеральная</td>\n",
       "      <td>Mineral water</td>\n",
       "    </tr>\n",
       "  </tbody>\n",
       "</table>\n",
       "</div>"
      ],
      "text/plain": [
       "   SKU  productCategoryId productCategory_caption_UKR  \\\n",
       "0   17             5416.0                       Хурма   \n",
       "1   18             5413.0                      Фейхоа   \n",
       "2   24             5425.0                      Гранат   \n",
       "3   25             5431.0                    Апельсин   \n",
       "4  208             5835.0       Вода України газована   \n",
       "\n",
       "  productCategory_caption_RU productCategory_caption_ENG  productTypeId  \\\n",
       "0                      Хурма                   Persimmon         4770.0   \n",
       "1                     Фейхоа                      Feijoa         4772.0   \n",
       "2                     Гранат                 Pomegranate         4760.0   \n",
       "3                   Апельсин                      Orange         4773.0   \n",
       "4  Вода Украины газированная   Water, Ukraine, sparkling         3457.0   \n",
       "\n",
       "                             productType_caption_UKR  \\\n",
       "0                 Тропічні фрукти - Хурма - Звичайна   \n",
       "1                        Тропічні фрукти - Екзотичні   \n",
       "2               Тропічні фрукти - Гранат - Звичайний   \n",
       "3            Цитрусові фрукти - Апельсин - Звичайний   \n",
       "4  Лікувально-столова вода - Україна - ПЕТ - від ...   \n",
       "\n",
       "                              productType_caption_RU  \\\n",
       "0               Тропические фрукты - Хурма - Обычная   \n",
       "1                  Тропические фрукты - Экзотические   \n",
       "2              Тропические фрукты - Гранат - Обычный   \n",
       "3             Цитрусовые фрукты - Апельсин - Обычный   \n",
       "4  Лечебно-столовая вода - Украина - ПЭТ - от 1л ...   \n",
       "\n",
       "                             productType_caption_ENG  brandId  \\\n",
       "0                 Tropical fruit — Persimmon — Plain      NaN   \n",
       "1                            Tropical fruit — Exotic      NaN   \n",
       "2                Tropical fruit — Pomegranate— Plain      NaN   \n",
       "3                      Citrus fruit — Orange — Plain      NaN   \n",
       "4  Therapeutic-table water — Ukraine — PET — from...   1241.0   \n",
       "\n",
       "   lagerUnitQuantity  lagerUnitTypeId lagerUnitType_caption  trademark  \\\n",
       "0                1.0                1            г                 NaN   \n",
       "1                1.0                1            г                 NaN   \n",
       "2                1.0                1            г                 NaN   \n",
       "3                1.0                2            кг                NaN   \n",
       "4                1.5                3            л              3670.0   \n",
       "\n",
       "   countryOfOrigin countryOfOrigin_caption  commodity_group  \\\n",
       "0              NaN                     NaN          5551018   \n",
       "1              NaN                     NaN          5551018   \n",
       "2              NaN                     NaN          5551018   \n",
       "3              8.0                 Іспанія          5551018   \n",
       "4              1.0                 Україна          5550022   \n",
       "\n",
       "  commodity_group_caption_UKR commodity_group_caption_RU  \\\n",
       "0             Фрукти тропічні         Фрукты тропические   \n",
       "1             Фрукти тропічні         Фрукты тропические   \n",
       "2             Фрукти тропічні         Фрукты тропические   \n",
       "3             Фрукти тропічні         Фрукты тропические   \n",
       "4             Вода Мфнеральна           Вода Минеральная   \n",
       "\n",
       "  commodity_group_caption_ENG  \n",
       "0             Tropical fruits  \n",
       "1             Tropical fruits  \n",
       "2             Tropical fruits  \n",
       "3             Tropical fruits  \n",
       "4               Mineral water  "
      ]
     },
     "execution_count": 168,
     "metadata": {},
     "output_type": "execute_result"
    }
   ],
   "source": [
    "sku_meta.head()"
   ]
  },
  {
   "cell_type": "code",
   "execution_count": 21,
   "metadata": {},
   "outputs": [
    {
     "data": {
      "text/plain": [
       "1961"
      ]
     },
     "execution_count": 21,
     "metadata": {},
     "output_type": "execute_result"
    }
   ],
   "source": [
    "sku_meta['SKU'].nunique()"
   ]
  },
  {
   "cell_type": "code",
   "execution_count": 22,
   "metadata": {},
   "outputs": [
    {
     "data": {
      "text/plain": [
       "Йогурти                                                       210\n",
       "Десерти молочні                                               132\n",
       "Сири напівтверді насипні                                       90\n",
       "Сири напівтверді пластової                                     89\n",
       "Вода України газована                                          69\n",
       "                                                             ... \n",
       "Здоба дрібноштучних з сухофруктами власного виробництва         1\n",
       "Батон з добавками власного виробництва                          1\n",
       "Здоба дрібноштучних з яєчної начинкою власного виробництва      1\n",
       "Круасан з м'ясною начинкою власного виробництва                 1\n",
       "Слойка з ягідної начинкою допік                                 1\n",
       "Name: productCategory_caption_UKR, Length: 186, dtype: int64"
      ]
     },
     "execution_count": 22,
     "metadata": {},
     "output_type": "execute_result"
    }
   ],
   "source": [
    "sku_meta['productCategory_caption_UKR'].value_counts()"
   ]
  },
  {
   "cell_type": "code",
   "execution_count": 23,
   "metadata": {},
   "outputs": [
    {
     "data": {
      "text/plain": [
       "Випічка                        730\n",
       "Йогуртно-десертна продукція    474\n",
       "Сири на вагу                   349\n",
       "Вода Мфнеральна                265\n",
       "Фрукти тропічні                143\n",
       "Name: commodity_group_caption_UKR, dtype: int64"
      ]
     },
     "execution_count": 23,
     "metadata": {},
     "output_type": "execute_result"
    }
   ],
   "source": [
    "sku_meta['commodity_group_caption_UKR'].value_counts()"
   ]
  },
  {
   "cell_type": "code",
   "execution_count": 24,
   "metadata": {},
   "outputs": [
    {
     "data": {
      "text/plain": [
       "845"
      ]
     },
     "execution_count": 24,
     "metadata": {},
     "output_type": "execute_result"
    }
   ],
   "source": [
    "sku_meta['brandId'].isna().sum()"
   ]
  },
  {
   "cell_type": "code",
   "execution_count": 25,
   "metadata": {},
   "outputs": [
    {
     "data": {
      "text/plain": [
       "array(['г         ', 'кг        ', 'л         ', 'шт        ',\n",
       "       'мл        '], dtype=object)"
      ]
     },
     "execution_count": 25,
     "metadata": {},
     "output_type": "execute_result"
    }
   ],
   "source": [
    "sku_meta['lagerUnitType_caption'].unique()"
   ]
  },
  {
   "cell_type": "code",
   "execution_count": 26,
   "metadata": {},
   "outputs": [],
   "source": [
    "sku_meta['lagerUnitType_caption'] = sku_meta['lagerUnitType_caption'].str.strip()"
   ]
  },
  {
   "cell_type": "code",
   "execution_count": 27,
   "metadata": {},
   "outputs": [
    {
     "data": {
      "text/plain": [
       "217"
      ]
     },
     "execution_count": 27,
     "metadata": {},
     "output_type": "execute_result"
    }
   ],
   "source": [
    "sku_meta['productTypeId'].isna().sum()"
   ]
  },
  {
   "cell_type": "code",
   "execution_count": 28,
   "metadata": {},
   "outputs": [
    {
     "data": {
      "text/plain": [
       "Україна           474\n",
       "Нідерланди         60\n",
       "Італія             56\n",
       "Франція            52\n",
       "Німеччина          14\n",
       "Грузія              8\n",
       "Польща              8\n",
       "Іспанія             7\n",
       "Швейцарія           4\n",
       "Хорватія            4\n",
       "Латвія              3\n",
       "Великобританія      3\n",
       "Данія               2\n",
       "Греція              2\n",
       "Азербайджан         2\n",
       "Туреччина           2\n",
       "Австрія             2\n",
       "Болгарія            1\n",
       "Вірменія            1\n",
       "Фіджі               1\n",
       "Бельгія             1\n",
       "Росія               1\n",
       "Таїланд             1\n",
       "Китай               1\n",
       "Name: countryOfOrigin_caption, dtype: int64"
      ]
     },
     "execution_count": 28,
     "metadata": {},
     "output_type": "execute_result"
    }
   ],
   "source": [
    "sku_meta['countryOfOrigin_caption'].value_counts()"
   ]
  },
  {
   "cell_type": "code",
   "execution_count": 29,
   "metadata": {},
   "outputs": [
    {
     "data": {
      "text/plain": [
       "0"
      ]
     },
     "execution_count": 29,
     "metadata": {},
     "output_type": "execute_result"
    }
   ],
   "source": [
    "sku_meta['commodity_group'].isna().sum()"
   ]
  },
  {
   "cell_type": "code",
   "execution_count": 30,
   "metadata": {},
   "outputs": [
    {
     "data": {
      "text/plain": [
       "SKU                               0\n",
       "productCategoryId                 0\n",
       "productCategory_caption_UKR     154\n",
       "productCategory_caption_RU        0\n",
       "productCategory_caption_ENG     154\n",
       "productTypeId                   217\n",
       "productType_caption_UKR         398\n",
       "productType_caption_RU          217\n",
       "productType_caption_ENG         398\n",
       "brandId                         845\n",
       "lagerUnitQuantity                 0\n",
       "lagerUnitTypeId                   0\n",
       "lagerUnitType_caption             0\n",
       "trademark                        88\n",
       "countryOfOrigin                1251\n",
       "countryOfOrigin_caption        1251\n",
       "commodity_group                   0\n",
       "commodity_group_caption_UKR       0\n",
       "commodity_group_caption_RU        0\n",
       "commodity_group_caption_ENG       0\n",
       "dtype: int64"
      ]
     },
     "execution_count": 30,
     "metadata": {},
     "output_type": "execute_result"
    }
   ],
   "source": [
    "sku_meta.isna().sum()"
   ]
  },
  {
   "cell_type": "code",
   "execution_count": 31,
   "metadata": {},
   "outputs": [],
   "source": [
    "description = np.hstack(sku_meta['productCategory_caption_RU'].apply(lambda x: x.split(' ')))"
   ]
  },
  {
   "cell_type": "code",
   "execution_count": 32,
   "metadata": {},
   "outputs": [],
   "source": [
    "unique_tokens_desc, frequency_desc = np.unique(description, return_counts=True)"
   ]
  },
  {
   "cell_type": "code",
   "execution_count": 33,
   "metadata": {},
   "outputs": [
    {
     "data": {
      "text/plain": [
       "[('с', 516),\n",
       " ('собств', 360),\n",
       " ('производства', 351),\n",
       " ('Сыры', 348),\n",
       " ('начинкой', 301),\n",
       " ('Вода', 265),\n",
       " ('произв', 218),\n",
       " ('собственного', 215),\n",
       " ('Йогурты', 210),\n",
       " ('полутвердые', 206),\n",
       " ('без', 162),\n",
       " ('Украины', 162),\n",
       " ('молочные', 144),\n",
       " ('Сдоба', 133),\n",
       " ('допек', 132),\n",
       " ('Хлеб', 132),\n",
       " ('Десерты', 132),\n",
       " ('добавками', 127),\n",
       " ('газированная', 124),\n",
       " ('добавок', 109),\n",
       " ('импортная', 103),\n",
       " ('негазированная', 101),\n",
       " ('мясной', 96),\n",
       " ('подовый', 90),\n",
       " ('насыпные', 90),\n",
       " ('пластовой', 89),\n",
       " ('мелкошт', 79),\n",
       " ('Творог', 79),\n",
       " ('пшеничный', 77),\n",
       " ('Слойка', 66),\n",
       " ('Пицца', 65),\n",
       " ('мягкие', 62),\n",
       " ('мелкоштучная', 59),\n",
       " ('твердые', 57),\n",
       " ('плесень', 49),\n",
       " ('ягодной', 46),\n",
       " ('Булка', 44),\n",
       " ('Багет', 43),\n",
       " ('начинки', 42),\n",
       " ('фруктовой', 40),\n",
       " ('слабогазированная', 40),\n",
       " ('ржано-пшеничный', 35),\n",
       " ('овощной', 32),\n",
       " ('видовые', 32),\n",
       " ('глазурованный', 30),\n",
       " ('Сырок', 30),\n",
       " ('Чиабатта', 25),\n",
       " ('маковой', 24),\n",
       " ('светлая', 23),\n",
       " ('руч', 23),\n",
       " ('работы', 23),\n",
       " ('пекарня', 23),\n",
       " ('крупнопористые', 23),\n",
       " ('добав', 23),\n",
       " ('голубая', 23),\n",
       " ('белая', 23),\n",
       " ('Печенье', 23),\n",
       " ('Круассан', 23),\n",
       " ('фрукты', 22),\n",
       " ('Экзотические', 22),\n",
       " ('СП', 21),\n",
       " ('ржано-пшен', 20),\n",
       " ('рассольные', 20),\n",
       " ('сдобный', 19),\n",
       " ('Сендвич', 19),\n",
       " ('зерновой', 18),\n",
       " ('Мандарин', 18),\n",
       " ('отрубями', 17),\n",
       " ('песочный', 15),\n",
       " ('Пирог', 15),\n",
       " ('Донат', 15),\n",
       " ('сырной', 14),\n",
       " ('рассолом', 14),\n",
       " ('Бутерброд', 14),\n",
       " ('творожной', 13),\n",
       " ('пармезановые', 13),\n",
       " ('кремом', 13),\n",
       " ('Лаваш', 13),\n",
       " ('Кекс', 13),\n",
       " ('кремо-творожные', 12),\n",
       " ('гауда', 12),\n",
       " ('Бисквиты', 12),\n",
       " ('Апельсин', 12),\n",
       " ('мясом', 11),\n",
       " ('Пасха', 11),\n",
       " ('Киви', 11),\n",
       " ('подовая', 10),\n",
       " ('Манго', 10),\n",
       " ('Авокадо', 10),\n",
       " ('шоколадной', 9),\n",
       " ('масляно-молочным', 8),\n",
       " ('грузинский', 8),\n",
       " ('тостовый', 7),\n",
       " ('Хурма', 7),\n",
       " ('Сырники', 7),\n",
       " ('Маффин', 7),\n",
       " ('Грейпфрут', 7),\n",
       " ('Батон', 7),\n",
       " ('рассола', 6),\n",
       " ('изделия', 6),\n",
       " ('желе', 6),\n",
       " ('Штрудель', 6),\n",
       " ('Сушка', 6),\n",
       " ('Пудинги,', 6),\n",
       " ('Плюшка', 6),\n",
       " ('Песочные', 6),\n",
       " ('Лимон', 6),\n",
       " ('экзотич', 5),\n",
       " ('фруктами', 5),\n",
       " ('сухофруктами', 5),\n",
       " ('сладкие', 5),\n",
       " ('синнабон', 5),\n",
       " ('порционная', 5),\n",
       " ('мытая', 5),\n",
       " ('масляно-молоч', 5),\n",
       " ('корка', 5),\n",
       " ('зерновая', 5),\n",
       " ('Фокаччо', 5),\n",
       " ('Помело', 5),\n",
       " ('Пампушка', 5),\n",
       " ('Кокос', 5),\n",
       " ('Закваски', 5),\n",
       " ('Гранат', 5),\n",
       " ('Булочки', 5),\n",
       " ('Банан', 5),\n",
       " ('Ананас', 5),\n",
       " ('нач', 4),\n",
       " ('мелкоштучн', 4),\n",
       " ('баба', 4),\n",
       " ('Ромовая', 4),\n",
       " ('Инжир', 4),\n",
       " ('Берлинер', 4),\n",
       " ('творожн', 3),\n",
       " ('со', 3),\n",
       " ('сладкой', 3),\n",
       " ('производ', 3),\n",
       " ('плавленые', 3),\n",
       " ('ореховой', 3),\n",
       " ('морепродуктами', 3),\n",
       " ('миндальной', 3),\n",
       " ('комбинированная', 3),\n",
       " ('ягодной\\xa0', 2),\n",
       " ('темная', 2),\n",
       " ('произ', 2),\n",
       " ('набор', 2),\n",
       " ('колбасный', 2),\n",
       " ('Шаурма', 2),\n",
       " ('Фруктовый', 2),\n",
       " ('Пончик', 2),\n",
       " ('Пахлава', 2),\n",
       " ('Каштан', 2),\n",
       " ('яичной', 1),\n",
       " ('сыром', 1),\n",
       " ('сырники', 1),\n",
       " ('производств', 1),\n",
       " ('панировочный', 1),\n",
       " ('пакерня', 1),\n",
       " ('морепродуктов', 1),\n",
       " ('из', 1),\n",
       " ('бутербродный', 1),\n",
       " ('Финики', 1),\n",
       " ('Физалис', 1),\n",
       " ('Фейхоа', 1),\n",
       " ('Сухарь', 1),\n",
       " ('Свити', 1),\n",
       " ('Пита', 1),\n",
       " ('Лайм', 1),\n",
       " ('Запеканка,', 1),\n",
       " ('Бергамот', 1),\n",
       " ('Айва', 1)]"
      ]
     },
     "execution_count": 33,
     "metadata": {},
     "output_type": "execute_result"
    }
   ],
   "source": [
    "sorted(list(zip(unique_tokens_desc, frequency_desc)),key=lambda x: x[1])[::-1]"
   ]
  },
  {
   "cell_type": "code",
   "execution_count": 34,
   "metadata": {},
   "outputs": [],
   "source": [
    "sku_meta = sku_meta[['SKU','lagerUnitType_caption','commodity_group','productCategory_caption_RU']]"
   ]
  },
  {
   "cell_type": "markdown",
   "metadata": {},
   "source": [
    "### train data"
   ]
  },
  {
   "cell_type": "code",
   "execution_count": 35,
   "metadata": {},
   "outputs": [],
   "source": [
    "train_data = pd.read_csv('../train_final.csv')"
   ]
  },
  {
   "cell_type": "code",
   "execution_count": 36,
   "metadata": {},
   "outputs": [
    {
     "data": {
      "text/plain": [
       "(27956445, 6)"
      ]
     },
     "execution_count": 36,
     "metadata": {},
     "output_type": "execute_result"
    }
   ],
   "source": [
    "train_data.shape"
   ]
  },
  {
   "cell_type": "code",
   "execution_count": 37,
   "metadata": {},
   "outputs": [],
   "source": [
    "def change_type(df, col, type_):\n",
    "    df[col] = df[col].astype(type_)\n",
    "    return df"
   ]
  },
  {
   "cell_type": "code",
   "execution_count": 38,
   "metadata": {},
   "outputs": [
    {
     "data": {
      "text/html": [
       "<div>\n",
       "<style scoped>\n",
       "    .dataframe tbody tr th:only-of-type {\n",
       "        vertical-align: middle;\n",
       "    }\n",
       "\n",
       "    .dataframe tbody tr th {\n",
       "        vertical-align: top;\n",
       "    }\n",
       "\n",
       "    .dataframe thead th {\n",
       "        text-align: right;\n",
       "    }\n",
       "</style>\n",
       "<table border=\"1\" class=\"dataframe\">\n",
       "  <thead>\n",
       "    <tr style=\"text-align: right;\">\n",
       "      <th></th>\n",
       "      <th>geoCluster</th>\n",
       "      <th>SKU</th>\n",
       "      <th>price</th>\n",
       "      <th>sales</th>\n",
       "    </tr>\n",
       "  </thead>\n",
       "  <tbody>\n",
       "    <tr>\n",
       "      <th>count</th>\n",
       "      <td>2.795644e+07</td>\n",
       "      <td>2.795644e+07</td>\n",
       "      <td>1.981387e+06</td>\n",
       "      <td>1.981387e+06</td>\n",
       "    </tr>\n",
       "    <tr>\n",
       "      <th>mean</th>\n",
       "      <td>2.229731e+03</td>\n",
       "      <td>5.473637e+05</td>\n",
       "      <td>8.558095e+01</td>\n",
       "      <td>3.011340e+00</td>\n",
       "    </tr>\n",
       "    <tr>\n",
       "      <th>std</th>\n",
       "      <td>2.593208e+02</td>\n",
       "      <td>2.664443e+05</td>\n",
       "      <td>1.406909e+02</td>\n",
       "      <td>3.583562e+00</td>\n",
       "    </tr>\n",
       "    <tr>\n",
       "      <th>min</th>\n",
       "      <td>2.100000e+01</td>\n",
       "      <td>1.700000e+01</td>\n",
       "      <td>0.000000e+00</td>\n",
       "      <td>1.000000e-03</td>\n",
       "    </tr>\n",
       "    <tr>\n",
       "      <th>25%</th>\n",
       "      <td>2.047000e+03</td>\n",
       "      <td>4.098970e+05</td>\n",
       "      <td>2.139000e+01</td>\n",
       "      <td>1.000000e+00</td>\n",
       "    </tr>\n",
       "    <tr>\n",
       "      <th>50%</th>\n",
       "      <td>2.158000e+03</td>\n",
       "      <td>6.128430e+05</td>\n",
       "      <td>3.699000e+01</td>\n",
       "      <td>2.000000e+00</td>\n",
       "    </tr>\n",
       "    <tr>\n",
       "      <th>75%</th>\n",
       "      <td>2.279000e+03</td>\n",
       "      <td>7.750170e+05</td>\n",
       "      <td>6.829000e+01</td>\n",
       "      <td>4.000000e+00</td>\n",
       "    </tr>\n",
       "    <tr>\n",
       "      <th>max</th>\n",
       "      <td>3.230000e+03</td>\n",
       "      <td>8.738030e+05</td>\n",
       "      <td>7.246890e+03</td>\n",
       "      <td>8.010000e+02</td>\n",
       "    </tr>\n",
       "  </tbody>\n",
       "</table>\n",
       "</div>"
      ],
      "text/plain": [
       "         geoCluster           SKU         price         sales\n",
       "count  2.795644e+07  2.795644e+07  1.981387e+06  1.981387e+06\n",
       "mean   2.229731e+03  5.473637e+05  8.558095e+01  3.011340e+00\n",
       "std    2.593208e+02  2.664443e+05  1.406909e+02  3.583562e+00\n",
       "min    2.100000e+01  1.700000e+01  0.000000e+00  1.000000e-03\n",
       "25%    2.047000e+03  4.098970e+05  2.139000e+01  1.000000e+00\n",
       "50%    2.158000e+03  6.128430e+05  3.699000e+01  2.000000e+00\n",
       "75%    2.279000e+03  7.750170e+05  6.829000e+01  4.000000e+00\n",
       "max    3.230000e+03  8.738030e+05  7.246890e+03  8.010000e+02"
      ]
     },
     "execution_count": 38,
     "metadata": {},
     "output_type": "execute_result"
    }
   ],
   "source": [
    "train_data.describe()"
   ]
  },
  {
   "cell_type": "code",
   "execution_count": 39,
   "metadata": {},
   "outputs": [],
   "source": [
    "train_data = change_type(train_data, 'geoCluster', 'uint16')\n",
    "train_data = change_type(train_data, 'SKU', 'uint32')"
   ]
  },
  {
   "cell_type": "code",
   "execution_count": 40,
   "metadata": {},
   "outputs": [
    {
     "data": {
      "text/html": [
       "<div>\n",
       "<style scoped>\n",
       "    .dataframe tbody tr th:only-of-type {\n",
       "        vertical-align: middle;\n",
       "    }\n",
       "\n",
       "    .dataframe tbody tr th {\n",
       "        vertical-align: top;\n",
       "    }\n",
       "\n",
       "    .dataframe thead th {\n",
       "        text-align: right;\n",
       "    }\n",
       "</style>\n",
       "<table border=\"1\" class=\"dataframe\">\n",
       "  <thead>\n",
       "    <tr style=\"text-align: right;\">\n",
       "      <th></th>\n",
       "      <th>ID</th>\n",
       "      <th>geoCluster</th>\n",
       "      <th>SKU</th>\n",
       "      <th>date</th>\n",
       "      <th>price</th>\n",
       "      <th>sales</th>\n",
       "    </tr>\n",
       "  </thead>\n",
       "  <tbody>\n",
       "    <tr>\n",
       "      <th>0</th>\n",
       "      <td>RR27956447</td>\n",
       "      <td>21</td>\n",
       "      <td>32485</td>\n",
       "      <td>2021-07-08</td>\n",
       "      <td>39.69</td>\n",
       "      <td>0.9</td>\n",
       "    </tr>\n",
       "    <tr>\n",
       "      <th>1</th>\n",
       "      <td>RR27956448</td>\n",
       "      <td>21</td>\n",
       "      <td>32485</td>\n",
       "      <td>2021-07-09</td>\n",
       "      <td>NaN</td>\n",
       "      <td>NaN</td>\n",
       "    </tr>\n",
       "    <tr>\n",
       "      <th>2</th>\n",
       "      <td>RR27956449</td>\n",
       "      <td>21</td>\n",
       "      <td>32485</td>\n",
       "      <td>2021-07-10</td>\n",
       "      <td>NaN</td>\n",
       "      <td>NaN</td>\n",
       "    </tr>\n",
       "    <tr>\n",
       "      <th>3</th>\n",
       "      <td>RR27956450</td>\n",
       "      <td>21</td>\n",
       "      <td>32485</td>\n",
       "      <td>2021-07-11</td>\n",
       "      <td>NaN</td>\n",
       "      <td>NaN</td>\n",
       "    </tr>\n",
       "    <tr>\n",
       "      <th>4</th>\n",
       "      <td>RR27956451</td>\n",
       "      <td>21</td>\n",
       "      <td>32485</td>\n",
       "      <td>2021-07-12</td>\n",
       "      <td>NaN</td>\n",
       "      <td>NaN</td>\n",
       "    </tr>\n",
       "  </tbody>\n",
       "</table>\n",
       "</div>"
      ],
      "text/plain": [
       "           ID  geoCluster    SKU        date  price  sales\n",
       "0  RR27956447          21  32485  2021-07-08  39.69    0.9\n",
       "1  RR27956448          21  32485  2021-07-09    NaN    NaN\n",
       "2  RR27956449          21  32485  2021-07-10    NaN    NaN\n",
       "3  RR27956450          21  32485  2021-07-11    NaN    NaN\n",
       "4  RR27956451          21  32485  2021-07-12    NaN    NaN"
      ]
     },
     "execution_count": 40,
     "metadata": {},
     "output_type": "execute_result"
    }
   ],
   "source": [
    "train_data.head()"
   ]
  },
  {
   "cell_type": "code",
   "execution_count": 41,
   "metadata": {},
   "outputs": [
    {
     "data": {
      "text/plain": [
       "True"
      ]
     },
     "execution_count": 41,
     "metadata": {},
     "output_type": "execute_result"
    }
   ],
   "source": [
    "train_data['price'].isna().sum()==train_data['sales'].isna().sum()"
   ]
  },
  {
   "cell_type": "code",
   "execution_count": 42,
   "metadata": {},
   "outputs": [
    {
     "data": {
      "text/plain": [
       "('2020-01-01', '2021-07-19')"
      ]
     },
     "execution_count": 42,
     "metadata": {},
     "output_type": "execute_result"
    }
   ],
   "source": [
    "train_data['date'].min(), train_data['date'].max()"
   ]
  },
  {
   "cell_type": "code",
   "execution_count": 43,
   "metadata": {},
   "outputs": [],
   "source": [
    "train_data['date'] = pd.to_datetime(train_data['date'])"
   ]
  },
  {
   "cell_type": "code",
   "execution_count": 44,
   "metadata": {},
   "outputs": [],
   "source": [
    "train_data['month'] = train_data['date'].dt.month"
   ]
  },
  {
   "cell_type": "code",
   "execution_count": 45,
   "metadata": {},
   "outputs": [],
   "source": [
    "train_data['day'] = train_data['date'].dt.day"
   ]
  },
  {
   "cell_type": "code",
   "execution_count": 46,
   "metadata": {},
   "outputs": [],
   "source": [
    "train_data['weekday'] = train_data['date'].dt.weekday"
   ]
  },
  {
   "cell_type": "code",
   "execution_count": 47,
   "metadata": {},
   "outputs": [
    {
     "name": "stderr",
     "output_type": "stream",
     "text": [
      "/home/ec2-user/anaconda3/envs/amazonei_tensorflow2_p36/lib/python3.6/site-packages/ipykernel/__main__.py:1: FutureWarning: Series.dt.weekofyear and Series.dt.week have been deprecated.  Please use Series.dt.isocalendar().week instead.\n",
      "  if __name__ == '__main__':\n"
     ]
    }
   ],
   "source": [
    "train_data['week_num'] = train_data['date'].dt.week"
   ]
  },
  {
   "cell_type": "code",
   "execution_count": 48,
   "metadata": {},
   "outputs": [
    {
     "data": {
      "text/html": [
       "<div>\n",
       "<style scoped>\n",
       "    .dataframe tbody tr th:only-of-type {\n",
       "        vertical-align: middle;\n",
       "    }\n",
       "\n",
       "    .dataframe tbody tr th {\n",
       "        vertical-align: top;\n",
       "    }\n",
       "\n",
       "    .dataframe thead th {\n",
       "        text-align: right;\n",
       "    }\n",
       "</style>\n",
       "<table border=\"1\" class=\"dataframe\">\n",
       "  <thead>\n",
       "    <tr style=\"text-align: right;\">\n",
       "      <th></th>\n",
       "      <th>ID</th>\n",
       "      <th>geoCluster</th>\n",
       "      <th>SKU</th>\n",
       "      <th>date</th>\n",
       "      <th>price</th>\n",
       "      <th>sales</th>\n",
       "      <th>month</th>\n",
       "      <th>day</th>\n",
       "      <th>weekday</th>\n",
       "      <th>week_num</th>\n",
       "    </tr>\n",
       "  </thead>\n",
       "  <tbody>\n",
       "    <tr>\n",
       "      <th>0</th>\n",
       "      <td>RR27956447</td>\n",
       "      <td>21</td>\n",
       "      <td>32485</td>\n",
       "      <td>2021-07-08</td>\n",
       "      <td>39.69</td>\n",
       "      <td>0.9</td>\n",
       "      <td>7</td>\n",
       "      <td>8</td>\n",
       "      <td>3</td>\n",
       "      <td>27</td>\n",
       "    </tr>\n",
       "    <tr>\n",
       "      <th>1</th>\n",
       "      <td>RR27956448</td>\n",
       "      <td>21</td>\n",
       "      <td>32485</td>\n",
       "      <td>2021-07-09</td>\n",
       "      <td>NaN</td>\n",
       "      <td>NaN</td>\n",
       "      <td>7</td>\n",
       "      <td>9</td>\n",
       "      <td>4</td>\n",
       "      <td>27</td>\n",
       "    </tr>\n",
       "  </tbody>\n",
       "</table>\n",
       "</div>"
      ],
      "text/plain": [
       "           ID  geoCluster    SKU       date  price  sales  month  day  \\\n",
       "0  RR27956447          21  32485 2021-07-08  39.69    0.9      7    8   \n",
       "1  RR27956448          21  32485 2021-07-09    NaN    NaN      7    9   \n",
       "\n",
       "   weekday  week_num  \n",
       "0        3        27  \n",
       "1        4        27  "
      ]
     },
     "execution_count": 48,
     "metadata": {},
     "output_type": "execute_result"
    }
   ],
   "source": [
    "train_data.head(2)"
   ]
  },
  {
   "cell_type": "code",
   "execution_count": 49,
   "metadata": {},
   "outputs": [
    {
     "data": {
      "text/plain": [
       "(27956445, 10)"
      ]
     },
     "execution_count": 49,
     "metadata": {},
     "output_type": "execute_result"
    }
   ],
   "source": [
    "train_data.shape"
   ]
  },
  {
   "cell_type": "code",
   "execution_count": 50,
   "metadata": {},
   "outputs": [],
   "source": [
    "train_data = train_data.merge(sku_meta, on='SKU', how ='inner')"
   ]
  },
  {
   "cell_type": "code",
   "execution_count": 51,
   "metadata": {},
   "outputs": [
    {
     "data": {
      "text/plain": [
       "(27956445, 13)"
      ]
     },
     "execution_count": 51,
     "metadata": {},
     "output_type": "execute_result"
    }
   ],
   "source": [
    "train_data.shape"
   ]
  },
  {
   "cell_type": "code",
   "execution_count": 52,
   "metadata": {},
   "outputs": [
    {
     "name": "stdout",
     "output_type": "stream",
     "text": [
      "<class 'pandas.core.frame.DataFrame'>\n",
      "Int64Index: 27956445 entries, 0 to 27956444\n",
      "Data columns (total 13 columns):\n",
      " #   Column                      Dtype         \n",
      "---  ------                      -----         \n",
      " 0   ID                          object        \n",
      " 1   geoCluster                  uint16        \n",
      " 2   SKU                         uint32        \n",
      " 3   date                        datetime64[ns]\n",
      " 4   price                       float64       \n",
      " 5   sales                       float64       \n",
      " 6   month                       int64         \n",
      " 7   day                         int64         \n",
      " 8   weekday                     int64         \n",
      " 9   week_num                    int64         \n",
      " 10  lagerUnitType_caption       object        \n",
      " 11  commodity_group             int64         \n",
      " 12  productCategory_caption_RU  object        \n",
      "dtypes: datetime64[ns](1), float64(2), int64(5), object(3), uint16(1), uint32(1)\n",
      "memory usage: 2.7+ GB\n"
     ]
    }
   ],
   "source": [
    "train_data.info()"
   ]
  },
  {
   "cell_type": "code",
   "execution_count": 53,
   "metadata": {},
   "outputs": [],
   "source": [
    "train_data = train_data.merge(geo_params, on='geoCluster', how='inner')"
   ]
  },
  {
   "cell_type": "code",
   "execution_count": 54,
   "metadata": {},
   "outputs": [
    {
     "name": "stdout",
     "output_type": "stream",
     "text": [
      "<class 'pandas.core.frame.DataFrame'>\n",
      "Int64Index: 27956445 entries, 0 to 27956444\n",
      "Data columns (total 14 columns):\n",
      " #   Column                      Dtype         \n",
      "---  ------                      -----         \n",
      " 0   ID                          object        \n",
      " 1   geoCluster                  uint16        \n",
      " 2   SKU                         uint32        \n",
      " 3   date                        datetime64[ns]\n",
      " 4   price                       float64       \n",
      " 5   sales                       float64       \n",
      " 6   month                       int64         \n",
      " 7   day                         int64         \n",
      " 8   weekday                     int64         \n",
      " 9   week_num                    int64         \n",
      " 10  lagerUnitType_caption       object        \n",
      " 11  commodity_group             int64         \n",
      " 12  productCategory_caption_RU  object        \n",
      " 13  cityId                      int64         \n",
      "dtypes: datetime64[ns](1), float64(2), int64(6), object(3), uint16(1), uint32(1)\n",
      "memory usage: 2.9+ GB\n"
     ]
    }
   ],
   "source": [
    "train_data.info()"
   ]
  },
  {
   "cell_type": "code",
   "execution_count": 55,
   "metadata": {},
   "outputs": [],
   "source": [
    "train_data = change_type(train_data, 'weekday', 'uint8')\n",
    "train_data = change_type(train_data, 'day', 'uint8')\n",
    "train_data = change_type(train_data, 'month', 'uint8')\n",
    "train_data = change_type(train_data, 'cityId', 'uint8')\n",
    "train_data = change_type(train_data, 'commodity_group', 'uint8')"
   ]
  },
  {
   "cell_type": "code",
   "execution_count": 56,
   "metadata": {},
   "outputs": [],
   "source": [
    "train_data = change_type(train_data, 'week_num', 'uint8')"
   ]
  },
  {
   "cell_type": "code",
   "execution_count": 57,
   "metadata": {},
   "outputs": [
    {
     "name": "stdout",
     "output_type": "stream",
     "text": [
      "<class 'pandas.core.frame.DataFrame'>\n",
      "Int64Index: 27956445 entries, 0 to 27956444\n",
      "Data columns (total 14 columns):\n",
      " #   Column                      Dtype         \n",
      "---  ------                      -----         \n",
      " 0   ID                          object        \n",
      " 1   geoCluster                  uint16        \n",
      " 2   SKU                         uint32        \n",
      " 3   date                        datetime64[ns]\n",
      " 4   price                       float64       \n",
      " 5   sales                       float64       \n",
      " 6   month                       uint8         \n",
      " 7   day                         uint8         \n",
      " 8   weekday                     uint8         \n",
      " 9   week_num                    uint8         \n",
      " 10  lagerUnitType_caption       object        \n",
      " 11  commodity_group             uint8         \n",
      " 12  productCategory_caption_RU  object        \n",
      " 13  cityId                      uint8         \n",
      "dtypes: datetime64[ns](1), float64(2), object(3), uint16(1), uint32(1), uint8(6)\n",
      "memory usage: 1.8+ GB\n"
     ]
    }
   ],
   "source": [
    "train_data.info()"
   ]
  },
  {
   "cell_type": "code",
   "execution_count": 58,
   "metadata": {},
   "outputs": [],
   "source": [
    "unique_products = train_data['SKU'].unique()"
   ]
  },
  {
   "cell_type": "code",
   "execution_count": 59,
   "metadata": {},
   "outputs": [],
   "source": [
    "import gc"
   ]
  },
  {
   "cell_type": "code",
   "execution_count": 60,
   "metadata": {},
   "outputs": [],
   "source": [
    "del geo_params, sku_meta;\n",
    "gc.collect();"
   ]
  },
  {
   "cell_type": "markdown",
   "metadata": {},
   "source": [
    "### Products in train data - a subset of products in test one (thus we better not use SKU id as feature)"
   ]
  },
  {
   "cell_type": "code",
   "execution_count": 61,
   "metadata": {},
   "outputs": [
    {
     "data": {
      "text/plain": [
       "1925"
      ]
     },
     "execution_count": 61,
     "metadata": {},
     "output_type": "execute_result"
    }
   ],
   "source": [
    "len(unique_products)"
   ]
  },
  {
   "cell_type": "code",
   "execution_count": 62,
   "metadata": {},
   "outputs": [
    {
     "data": {
      "text/plain": [
       "False"
      ]
     },
     "execution_count": 62,
     "metadata": {},
     "output_type": "execute_result"
    }
   ],
   "source": [
    "len(set(unique_products).intersection(test_data['SKU'].unique()))==test_data['SKU'].nunique()"
   ]
  },
  {
   "cell_type": "code",
   "execution_count": 63,
   "metadata": {},
   "outputs": [
    {
     "data": {
      "text/plain": [
       "1961"
      ]
     },
     "execution_count": 63,
     "metadata": {},
     "output_type": "execute_result"
    }
   ],
   "source": [
    "test_data['SKU'].nunique()"
   ]
  },
  {
   "cell_type": "code",
   "execution_count": 64,
   "metadata": {},
   "outputs": [
    {
     "data": {
      "text/plain": [
       "True"
      ]
     },
     "execution_count": 64,
     "metadata": {},
     "output_type": "execute_result"
    }
   ],
   "source": [
    "len(set(unique_products).intersection(test_data['SKU'].unique()))==len(unique_products)"
   ]
  },
  {
   "cell_type": "markdown",
   "metadata": {},
   "source": [
    "### Same with geo cluster"
   ]
  },
  {
   "cell_type": "code",
   "execution_count": 65,
   "metadata": {},
   "outputs": [],
   "source": [
    "unique_geo_cluster = train_data['geoCluster'].unique()"
   ]
  },
  {
   "cell_type": "code",
   "execution_count": 66,
   "metadata": {},
   "outputs": [
    {
     "data": {
      "text/plain": [
       "512"
      ]
     },
     "execution_count": 66,
     "metadata": {},
     "output_type": "execute_result"
    }
   ],
   "source": [
    "len(unique_geo_cluster)"
   ]
  },
  {
   "cell_type": "code",
   "execution_count": 67,
   "metadata": {},
   "outputs": [
    {
     "data": {
      "text/plain": [
       "515"
      ]
     },
     "execution_count": 67,
     "metadata": {},
     "output_type": "execute_result"
    }
   ],
   "source": [
    "test_data['geoCluster'].nunique()"
   ]
  },
  {
   "cell_type": "code",
   "execution_count": 68,
   "metadata": {},
   "outputs": [
    {
     "data": {
      "text/plain": [
       "(27956445, 14)"
      ]
     },
     "execution_count": 68,
     "metadata": {},
     "output_type": "execute_result"
    }
   ],
   "source": [
    "train_data.shape"
   ]
  },
  {
   "cell_type": "markdown",
   "metadata": {},
   "source": [
    "### most of rows are nans, meaning that the some products were not sold "
   ]
  },
  {
   "cell_type": "code",
   "execution_count": 69,
   "metadata": {},
   "outputs": [
    {
     "data": {
      "text/plain": [
       "0.9291259314265459"
      ]
     },
     "execution_count": 69,
     "metadata": {},
     "output_type": "execute_result"
    }
   ],
   "source": [
    "train_data['price'].isna().sum()/train_data.shape[0]"
   ]
  },
  {
   "cell_type": "code",
   "execution_count": 70,
   "metadata": {},
   "outputs": [
    {
     "data": {
      "text/plain": [
       "801.0"
      ]
     },
     "execution_count": 70,
     "metadata": {},
     "output_type": "execute_result"
    }
   ],
   "source": [
    "train_data.sales.max()"
   ]
  },
  {
   "cell_type": "code",
   "execution_count": 71,
   "metadata": {},
   "outputs": [
    {
     "data": {
      "text/plain": [
       "<AxesSubplot:xlabel='sales', ylabel='Count'>"
      ]
     },
     "execution_count": 71,
     "metadata": {},
     "output_type": "execute_result"
    },
    {
     "data": {
      "image/png": "[encoded data removed]",
      "text/plain": [
       "<Figure size 864x864 with 1 Axes>"
      ]
     },
     "metadata": {},
     "output_type": "display_data"
    }
   ],
   "source": [
    "plt.figure(figsize=(12,12))\n",
    "sns.histplot(np.log1p(train_data.sales))"
   ]
  },
  {
   "cell_type": "code",
   "execution_count": 72,
   "metadata": {},
   "outputs": [
    {
     "data": {
      "text/plain": [
       "г     17766168\n",
       "кг     5650497\n",
       "л      3371374\n",
       "шт     1164050\n",
       "мл        4356\n",
       "Name: lagerUnitType_caption, dtype: int64"
      ]
     },
     "execution_count": 72,
     "metadata": {},
     "output_type": "execute_result"
    }
   ],
   "source": [
    "train_data['lagerUnitType_caption'].value_counts()"
   ]
  },
  {
   "cell_type": "code",
   "execution_count": 73,
   "metadata": {},
   "outputs": [
    {
     "data": {
      "text/plain": [
       "(array([ 13.,  17.,  99., 231., 234., 262., 233., 244., 337., 255.]),\n",
       " array([ 0.        ,  1.18017594,  2.36035187,  3.54052781,  4.72070375,\n",
       "         5.90087969,  7.08105562,  8.26123156,  9.4414075 , 10.62158344,\n",
       "        11.80175937]),\n",
       " <BarContainer object of 10 artists>)"
      ]
     },
     "execution_count": 73,
     "metadata": {},
     "output_type": "execute_result"
    },
    {
     "data": {
      "image/png": "[encoded data removed]",
      "text/plain": [
       "<Figure size 432x288 with 1 Axes>"
      ]
     },
     "metadata": {},
     "output_type": "display_data"
    }
   ],
   "source": [
    "plt.hist(np.log(train_data['SKU'].value_counts()))"
   ]
  },
  {
   "cell_type": "markdown",
   "metadata": {},
   "source": [
    "### price is different for the same product and is affected by the date and geoCluster"
   ]
  },
  {
   "cell_type": "code",
   "execution_count": 74,
   "metadata": {},
   "outputs": [
    {
     "data": {
      "text/html": [
       "<div>\n",
       "<style scoped>\n",
       "    .dataframe tbody tr th:only-of-type {\n",
       "        vertical-align: middle;\n",
       "    }\n",
       "\n",
       "    .dataframe tbody tr th {\n",
       "        vertical-align: top;\n",
       "    }\n",
       "\n",
       "    .dataframe thead th {\n",
       "        text-align: right;\n",
       "    }\n",
       "</style>\n",
       "<table border=\"1\" class=\"dataframe\">\n",
       "  <thead>\n",
       "    <tr style=\"text-align: right;\">\n",
       "      <th></th>\n",
       "      <th>ID</th>\n",
       "      <th>geoCluster</th>\n",
       "      <th>SKU</th>\n",
       "      <th>date</th>\n",
       "      <th>price</th>\n",
       "      <th>sales</th>\n",
       "      <th>month</th>\n",
       "      <th>day</th>\n",
       "      <th>weekday</th>\n",
       "      <th>week_num</th>\n",
       "      <th>lagerUnitType_caption</th>\n",
       "      <th>commodity_group</th>\n",
       "      <th>productCategory_caption_RU</th>\n",
       "      <th>cityId</th>\n",
       "    </tr>\n",
       "  </thead>\n",
       "  <tbody>\n",
       "    <tr>\n",
       "      <th>4475</th>\n",
       "      <td>RR27956766</td>\n",
       "      <td>148</td>\n",
       "      <td>32490</td>\n",
       "      <td>2021-05-17</td>\n",
       "      <td>41.09</td>\n",
       "      <td>2.0</td>\n",
       "      <td>5</td>\n",
       "      <td>17</td>\n",
       "      <td>0</td>\n",
       "      <td>20</td>\n",
       "      <td>шт</td>\n",
       "      <td>170</td>\n",
       "      <td>Авокадо</td>\n",
       "      <td>1</td>\n",
       "    </tr>\n",
       "    <tr>\n",
       "      <th>4725</th>\n",
       "      <td>RR27957175</td>\n",
       "      <td>148</td>\n",
       "      <td>34604</td>\n",
       "      <td>2021-04-25</td>\n",
       "      <td>141.99</td>\n",
       "      <td>3.0</td>\n",
       "      <td>4</td>\n",
       "      <td>25</td>\n",
       "      <td>6</td>\n",
       "      <td>16</td>\n",
       "      <td>шт</td>\n",
       "      <td>170</td>\n",
       "      <td>Ананас</td>\n",
       "      <td>1</td>\n",
       "    </tr>\n",
       "    <tr>\n",
       "      <th>10142</th>\n",
       "      <td>RR27957763</td>\n",
       "      <td>310</td>\n",
       "      <td>32490</td>\n",
       "      <td>2021-04-20</td>\n",
       "      <td>36.89</td>\n",
       "      <td>3.0</td>\n",
       "      <td>4</td>\n",
       "      <td>20</td>\n",
       "      <td>1</td>\n",
       "      <td>16</td>\n",
       "      <td>шт</td>\n",
       "      <td>170</td>\n",
       "      <td>Авокадо</td>\n",
       "      <td>1</td>\n",
       "    </tr>\n",
       "    <tr>\n",
       "      <th>10506</th>\n",
       "      <td>RR27958124</td>\n",
       "      <td>310</td>\n",
       "      <td>49207</td>\n",
       "      <td>2021-04-26</td>\n",
       "      <td>42.59</td>\n",
       "      <td>1.0</td>\n",
       "      <td>4</td>\n",
       "      <td>26</td>\n",
       "      <td>0</td>\n",
       "      <td>17</td>\n",
       "      <td>шт</td>\n",
       "      <td>170</td>\n",
       "      <td>Манго</td>\n",
       "      <td>1</td>\n",
       "    </tr>\n",
       "    <tr>\n",
       "      <th>13946</th>\n",
       "      <td>RR27959397</td>\n",
       "      <td>491</td>\n",
       "      <td>32507</td>\n",
       "      <td>2021-04-18</td>\n",
       "      <td>68.09</td>\n",
       "      <td>2.0</td>\n",
       "      <td>4</td>\n",
       "      <td>18</td>\n",
       "      <td>6</td>\n",
       "      <td>15</td>\n",
       "      <td>шт</td>\n",
       "      <td>170</td>\n",
       "      <td>Киви</td>\n",
       "      <td>1</td>\n",
       "    </tr>\n",
       "    <tr>\n",
       "      <th>...</th>\n",
       "      <td>...</td>\n",
       "      <td>...</td>\n",
       "      <td>...</td>\n",
       "      <td>...</td>\n",
       "      <td>...</td>\n",
       "      <td>...</td>\n",
       "      <td>...</td>\n",
       "      <td>...</td>\n",
       "      <td>...</td>\n",
       "      <td>...</td>\n",
       "      <td>...</td>\n",
       "      <td>...</td>\n",
       "      <td>...</td>\n",
       "      <td>...</td>\n",
       "    </tr>\n",
       "    <tr>\n",
       "      <th>27907129</th>\n",
       "      <td>RR31319322</td>\n",
       "      <td>3230</td>\n",
       "      <td>838137</td>\n",
       "      <td>2021-07-18</td>\n",
       "      <td>52.59</td>\n",
       "      <td>4.0</td>\n",
       "      <td>7</td>\n",
       "      <td>18</td>\n",
       "      <td>6</td>\n",
       "      <td>28</td>\n",
       "      <td>шт</td>\n",
       "      <td>170</td>\n",
       "      <td>Авокадо</td>\n",
       "      <td>0</td>\n",
       "    </tr>\n",
       "    <tr>\n",
       "      <th>27917082</th>\n",
       "      <td>RR27967393</td>\n",
       "      <td>1677</td>\n",
       "      <td>32490</td>\n",
       "      <td>2021-06-22</td>\n",
       "      <td>24.09</td>\n",
       "      <td>1.0</td>\n",
       "      <td>6</td>\n",
       "      <td>22</td>\n",
       "      <td>1</td>\n",
       "      <td>25</td>\n",
       "      <td>шт</td>\n",
       "      <td>170</td>\n",
       "      <td>Авокадо</td>\n",
       "      <td>0</td>\n",
       "    </tr>\n",
       "    <tr>\n",
       "      <th>27917116</th>\n",
       "      <td>RR27972756</td>\n",
       "      <td>1879</td>\n",
       "      <td>32490</td>\n",
       "      <td>2021-05-25</td>\n",
       "      <td>28.39</td>\n",
       "      <td>1.0</td>\n",
       "      <td>5</td>\n",
       "      <td>25</td>\n",
       "      <td>1</td>\n",
       "      <td>21</td>\n",
       "      <td>шт</td>\n",
       "      <td>170</td>\n",
       "      <td>Авокадо</td>\n",
       "      <td>0</td>\n",
       "    </tr>\n",
       "    <tr>\n",
       "      <th>27917588</th>\n",
       "      <td>RR30683481</td>\n",
       "      <td>2422</td>\n",
       "      <td>32490</td>\n",
       "      <td>2021-06-29</td>\n",
       "      <td>39.69</td>\n",
       "      <td>2.0</td>\n",
       "      <td>6</td>\n",
       "      <td>29</td>\n",
       "      <td>1</td>\n",
       "      <td>26</td>\n",
       "      <td>шт</td>\n",
       "      <td>170</td>\n",
       "      <td>Авокадо</td>\n",
       "      <td>0</td>\n",
       "    </tr>\n",
       "    <tr>\n",
       "      <th>27918103</th>\n",
       "      <td>RR31314552</td>\n",
       "      <td>3166</td>\n",
       "      <td>32490</td>\n",
       "      <td>2021-06-23</td>\n",
       "      <td>24.19</td>\n",
       "      <td>2.0</td>\n",
       "      <td>6</td>\n",
       "      <td>23</td>\n",
       "      <td>2</td>\n",
       "      <td>25</td>\n",
       "      <td>шт</td>\n",
       "      <td>170</td>\n",
       "      <td>Авокадо</td>\n",
       "      <td>0</td>\n",
       "    </tr>\n",
       "  </tbody>\n",
       "</table>\n",
       "<p>108169 rows × 14 columns</p>\n",
       "</div>"
      ],
      "text/plain": [
       "                  ID  geoCluster     SKU       date   price  sales  month  \\\n",
       "4475      RR27956766         148   32490 2021-05-17   41.09    2.0      5   \n",
       "4725      RR27957175         148   34604 2021-04-25  141.99    3.0      4   \n",
       "10142     RR27957763         310   32490 2021-04-20   36.89    3.0      4   \n",
       "10506     RR27958124         310   49207 2021-04-26   42.59    1.0      4   \n",
       "13946     RR27959397         491   32507 2021-04-18   68.09    2.0      4   \n",
       "...              ...         ...     ...        ...     ...    ...    ...   \n",
       "27907129  RR31319322        3230  838137 2021-07-18   52.59    4.0      7   \n",
       "27917082  RR27967393        1677   32490 2021-06-22   24.09    1.0      6   \n",
       "27917116  RR27972756        1879   32490 2021-05-25   28.39    1.0      5   \n",
       "27917588  RR30683481        2422   32490 2021-06-29   39.69    2.0      6   \n",
       "27918103  RR31314552        3166   32490 2021-06-23   24.19    2.0      6   \n",
       "\n",
       "          day  weekday  week_num lagerUnitType_caption  commodity_group  \\\n",
       "4475       17        0        20                    шт              170   \n",
       "4725       25        6        16                    шт              170   \n",
       "10142      20        1        16                    шт              170   \n",
       "10506      26        0        17                    шт              170   \n",
       "13946      18        6        15                    шт              170   \n",
       "...       ...      ...       ...                   ...              ...   \n",
       "27907129   18        6        28                    шт              170   \n",
       "27917082   22        1        25                    шт              170   \n",
       "27917116   25        1        21                    шт              170   \n",
       "27917588   29        1        26                    шт              170   \n",
       "27918103   23        2        25                    шт              170   \n",
       "\n",
       "         productCategory_caption_RU  cityId  \n",
       "4475                        Авокадо       1  \n",
       "4725                         Ананас       1  \n",
       "10142                       Авокадо       1  \n",
       "10506                         Манго       1  \n",
       "13946                          Киви       1  \n",
       "...                             ...     ...  \n",
       "27907129                    Авокадо       0  \n",
       "27917082                    Авокадо       0  \n",
       "27917116                    Авокадо       0  \n",
       "27917588                    Авокадо       0  \n",
       "27918103                    Авокадо       0  \n",
       "\n",
       "[108169 rows x 14 columns]"
      ]
     },
     "execution_count": 74,
     "metadata": {},
     "output_type": "execute_result"
    }
   ],
   "source": [
    "train_data[train_data['lagerUnitType_caption']=='шт'].dropna(how='any')"
   ]
  },
  {
   "cell_type": "code",
   "execution_count": 75,
   "metadata": {},
   "outputs": [
    {
     "data": {
      "text/html": [
       "<div>\n",
       "<style scoped>\n",
       "    .dataframe tbody tr th:only-of-type {\n",
       "        vertical-align: middle;\n",
       "    }\n",
       "\n",
       "    .dataframe tbody tr th {\n",
       "        vertical-align: top;\n",
       "    }\n",
       "\n",
       "    .dataframe thead th {\n",
       "        text-align: right;\n",
       "    }\n",
       "</style>\n",
       "<table border=\"1\" class=\"dataframe\">\n",
       "  <thead>\n",
       "    <tr style=\"text-align: right;\">\n",
       "      <th></th>\n",
       "      <th>ID</th>\n",
       "      <th>geoCluster</th>\n",
       "      <th>SKU</th>\n",
       "      <th>date</th>\n",
       "      <th>price</th>\n",
       "      <th>sales</th>\n",
       "      <th>month</th>\n",
       "      <th>day</th>\n",
       "      <th>weekday</th>\n",
       "      <th>week_num</th>\n",
       "      <th>lagerUnitType_caption</th>\n",
       "      <th>commodity_group</th>\n",
       "      <th>productCategory_caption_RU</th>\n",
       "      <th>cityId</th>\n",
       "    </tr>\n",
       "  </thead>\n",
       "  <tbody>\n",
       "    <tr>\n",
       "      <th>12310891</th>\n",
       "      <td>RR29415559</td>\n",
       "      <td>2126</td>\n",
       "      <td>32490</td>\n",
       "      <td>2020-04-05</td>\n",
       "      <td>28.49</td>\n",
       "      <td>1.0</td>\n",
       "      <td>4</td>\n",
       "      <td>5</td>\n",
       "      <td>6</td>\n",
       "      <td>14</td>\n",
       "      <td>шт</td>\n",
       "      <td>170</td>\n",
       "      <td>Авокадо</td>\n",
       "      <td>0</td>\n",
       "    </tr>\n",
       "    <tr>\n",
       "      <th>10526607</th>\n",
       "      <td>RR29197996</td>\n",
       "      <td>2091</td>\n",
       "      <td>32490</td>\n",
       "      <td>2020-04-05</td>\n",
       "      <td>28.49</td>\n",
       "      <td>2.0</td>\n",
       "      <td>4</td>\n",
       "      <td>5</td>\n",
       "      <td>6</td>\n",
       "      <td>14</td>\n",
       "      <td>шт</td>\n",
       "      <td>170</td>\n",
       "      <td>Авокадо</td>\n",
       "      <td>0</td>\n",
       "    </tr>\n",
       "    <tr>\n",
       "      <th>15695677</th>\n",
       "      <td>RR29829193</td>\n",
       "      <td>2201</td>\n",
       "      <td>32490</td>\n",
       "      <td>2020-04-05</td>\n",
       "      <td>28.49</td>\n",
       "      <td>1.0</td>\n",
       "      <td>4</td>\n",
       "      <td>5</td>\n",
       "      <td>6</td>\n",
       "      <td>14</td>\n",
       "      <td>шт</td>\n",
       "      <td>170</td>\n",
       "      <td>Авокадо</td>\n",
       "      <td>0</td>\n",
       "    </tr>\n",
       "    <tr>\n",
       "      <th>11147102</th>\n",
       "      <td>RR29282890</td>\n",
       "      <td>2113</td>\n",
       "      <td>32490</td>\n",
       "      <td>2020-04-06</td>\n",
       "      <td>28.49</td>\n",
       "      <td>7.0</td>\n",
       "      <td>4</td>\n",
       "      <td>6</td>\n",
       "      <td>0</td>\n",
       "      <td>15</td>\n",
       "      <td>шт</td>\n",
       "      <td>170</td>\n",
       "      <td>Авокадо</td>\n",
       "      <td>0</td>\n",
       "    </tr>\n",
       "    <tr>\n",
       "      <th>23318299</th>\n",
       "      <td>RR30726977</td>\n",
       "      <td>2508</td>\n",
       "      <td>32490</td>\n",
       "      <td>2020-04-06</td>\n",
       "      <td>29.09</td>\n",
       "      <td>4.0</td>\n",
       "      <td>4</td>\n",
       "      <td>6</td>\n",
       "      <td>0</td>\n",
       "      <td>15</td>\n",
       "      <td>шт</td>\n",
       "      <td>170</td>\n",
       "      <td>Авокадо</td>\n",
       "      <td>0</td>\n",
       "    </tr>\n",
       "    <tr>\n",
       "      <th>20744798</th>\n",
       "      <td>RR30400163</td>\n",
       "      <td>2276</td>\n",
       "      <td>32490</td>\n",
       "      <td>2020-04-06</td>\n",
       "      <td>28.49</td>\n",
       "      <td>2.0</td>\n",
       "      <td>4</td>\n",
       "      <td>6</td>\n",
       "      <td>0</td>\n",
       "      <td>15</td>\n",
       "      <td>шт</td>\n",
       "      <td>170</td>\n",
       "      <td>Авокадо</td>\n",
       "      <td>0</td>\n",
       "    </tr>\n",
       "    <tr>\n",
       "      <th>11328524</th>\n",
       "      <td>RR29302084</td>\n",
       "      <td>2115</td>\n",
       "      <td>32490</td>\n",
       "      <td>2020-04-06</td>\n",
       "      <td>28.49</td>\n",
       "      <td>3.0</td>\n",
       "      <td>4</td>\n",
       "      <td>6</td>\n",
       "      <td>0</td>\n",
       "      <td>15</td>\n",
       "      <td>шт</td>\n",
       "      <td>170</td>\n",
       "      <td>Авокадо</td>\n",
       "      <td>0</td>\n",
       "    </tr>\n",
       "    <tr>\n",
       "      <th>5768895</th>\n",
       "      <td>RR28631046</td>\n",
       "      <td>2040</td>\n",
       "      <td>32490</td>\n",
       "      <td>2020-04-07</td>\n",
       "      <td>28.49</td>\n",
       "      <td>3.0</td>\n",
       "      <td>4</td>\n",
       "      <td>7</td>\n",
       "      <td>1</td>\n",
       "      <td>15</td>\n",
       "      <td>шт</td>\n",
       "      <td>170</td>\n",
       "      <td>Авокадо</td>\n",
       "      <td>0</td>\n",
       "    </tr>\n",
       "    <tr>\n",
       "      <th>3665779</th>\n",
       "      <td>RR28382148</td>\n",
       "      <td>2022</td>\n",
       "      <td>32490</td>\n",
       "      <td>2020-04-07</td>\n",
       "      <td>28.49</td>\n",
       "      <td>4.0</td>\n",
       "      <td>4</td>\n",
       "      <td>7</td>\n",
       "      <td>1</td>\n",
       "      <td>15</td>\n",
       "      <td>шт</td>\n",
       "      <td>170</td>\n",
       "      <td>Авокадо</td>\n",
       "      <td>0</td>\n",
       "    </tr>\n",
       "    <tr>\n",
       "      <th>1119668</th>\n",
       "      <td>RR28092915</td>\n",
       "      <td>1995</td>\n",
       "      <td>32490</td>\n",
       "      <td>2020-04-07</td>\n",
       "      <td>28.49</td>\n",
       "      <td>5.0</td>\n",
       "      <td>4</td>\n",
       "      <td>7</td>\n",
       "      <td>1</td>\n",
       "      <td>15</td>\n",
       "      <td>шт</td>\n",
       "      <td>170</td>\n",
       "      <td>Авокадо</td>\n",
       "      <td>0</td>\n",
       "    </tr>\n",
       "  </tbody>\n",
       "</table>\n",
       "</div>"
      ],
      "text/plain": [
       "                  ID  geoCluster    SKU       date  price  sales  month  day  \\\n",
       "12310891  RR29415559        2126  32490 2020-04-05  28.49    1.0      4    5   \n",
       "10526607  RR29197996        2091  32490 2020-04-05  28.49    2.0      4    5   \n",
       "15695677  RR29829193        2201  32490 2020-04-05  28.49    1.0      4    5   \n",
       "11147102  RR29282890        2113  32490 2020-04-06  28.49    7.0      4    6   \n",
       "23318299  RR30726977        2508  32490 2020-04-06  29.09    4.0      4    6   \n",
       "20744798  RR30400163        2276  32490 2020-04-06  28.49    2.0      4    6   \n",
       "11328524  RR29302084        2115  32490 2020-04-06  28.49    3.0      4    6   \n",
       "5768895   RR28631046        2040  32490 2020-04-07  28.49    3.0      4    7   \n",
       "3665779   RR28382148        2022  32490 2020-04-07  28.49    4.0      4    7   \n",
       "1119668   RR28092915        1995  32490 2020-04-07  28.49    5.0      4    7   \n",
       "\n",
       "          weekday  week_num lagerUnitType_caption  commodity_group  \\\n",
       "12310891        6        14                    шт              170   \n",
       "10526607        6        14                    шт              170   \n",
       "15695677        6        14                    шт              170   \n",
       "11147102        0        15                    шт              170   \n",
       "23318299        0        15                    шт              170   \n",
       "20744798        0        15                    шт              170   \n",
       "11328524        0        15                    шт              170   \n",
       "5768895         1        15                    шт              170   \n",
       "3665779         1        15                    шт              170   \n",
       "1119668         1        15                    шт              170   \n",
       "\n",
       "         productCategory_caption_RU  cityId  \n",
       "12310891                    Авокадо       0  \n",
       "10526607                    Авокадо       0  \n",
       "15695677                    Авокадо       0  \n",
       "11147102                    Авокадо       0  \n",
       "23318299                    Авокадо       0  \n",
       "20744798                    Авокадо       0  \n",
       "11328524                    Авокадо       0  \n",
       "5768895                     Авокадо       0  \n",
       "3665779                     Авокадо       0  \n",
       "1119668                     Авокадо       0  "
      ]
     },
     "execution_count": 75,
     "metadata": {},
     "output_type": "execute_result"
    }
   ],
   "source": [
    "train_data[train_data['SKU']==32490].dropna(how='any').sort_values(by='date').head(10)"
   ]
  },
  {
   "cell_type": "code",
   "execution_count": 76,
   "metadata": {},
   "outputs": [
    {
     "data": {
      "image/png": "[encoded data removed]",
      "text/plain": [
       "<Figure size 432x288 with 1 Axes>"
      ]
     },
     "metadata": {},
     "output_type": "display_data"
    }
   ],
   "source": [
    "plt.hist(train_data.groupby('geoCluster')['SKU'].nunique());"
   ]
  },
  {
   "cell_type": "code",
   "execution_count": 77,
   "metadata": {},
   "outputs": [
    {
     "data": {
      "text/html": [
       "<div>\n",
       "<style scoped>\n",
       "    .dataframe tbody tr th:only-of-type {\n",
       "        vertical-align: middle;\n",
       "    }\n",
       "\n",
       "    .dataframe tbody tr th {\n",
       "        vertical-align: top;\n",
       "    }\n",
       "\n",
       "    .dataframe thead th {\n",
       "        text-align: right;\n",
       "    }\n",
       "</style>\n",
       "<table border=\"1\" class=\"dataframe\">\n",
       "  <thead>\n",
       "    <tr style=\"text-align: right;\">\n",
       "      <th></th>\n",
       "      <th>ID</th>\n",
       "      <th>geoCluster</th>\n",
       "      <th>SKU</th>\n",
       "      <th>date</th>\n",
       "      <th>price</th>\n",
       "      <th>sales</th>\n",
       "      <th>month</th>\n",
       "      <th>day</th>\n",
       "      <th>weekday</th>\n",
       "      <th>week_num</th>\n",
       "      <th>lagerUnitType_caption</th>\n",
       "      <th>commodity_group</th>\n",
       "      <th>productCategory_caption_RU</th>\n",
       "      <th>cityId</th>\n",
       "    </tr>\n",
       "  </thead>\n",
       "  <tbody>\n",
       "    <tr>\n",
       "      <th>27940725</th>\n",
       "      <td>RR43963070</td>\n",
       "      <td>2065</td>\n",
       "      <td>63037</td>\n",
       "      <td>2020-01-08</td>\n",
       "      <td>14.99</td>\n",
       "      <td>3.0</td>\n",
       "      <td>1</td>\n",
       "      <td>8</td>\n",
       "      <td>2</td>\n",
       "      <td>2</td>\n",
       "      <td>л</td>\n",
       "      <td>198</td>\n",
       "      <td>Вода Украины слабогазированная</td>\n",
       "      <td>0</td>\n",
       "    </tr>\n",
       "    <tr>\n",
       "      <th>27941284</th>\n",
       "      <td>RR43964553</td>\n",
       "      <td>2065</td>\n",
       "      <td>369991</td>\n",
       "      <td>2020-01-08</td>\n",
       "      <td>16.59</td>\n",
       "      <td>2.0</td>\n",
       "      <td>1</td>\n",
       "      <td>8</td>\n",
       "      <td>2</td>\n",
       "      <td>2</td>\n",
       "      <td>л</td>\n",
       "      <td>198</td>\n",
       "      <td>Вода Украины негазированная</td>\n",
       "      <td>0</td>\n",
       "    </tr>\n",
       "    <tr>\n",
       "      <th>27940730</th>\n",
       "      <td>RR43963075</td>\n",
       "      <td>2065</td>\n",
       "      <td>63037</td>\n",
       "      <td>2020-01-13</td>\n",
       "      <td>14.99</td>\n",
       "      <td>1.0</td>\n",
       "      <td>1</td>\n",
       "      <td>13</td>\n",
       "      <td>0</td>\n",
       "      <td>3</td>\n",
       "      <td>л</td>\n",
       "      <td>198</td>\n",
       "      <td>Вода Украины слабогазированная</td>\n",
       "      <td>0</td>\n",
       "    </tr>\n",
       "    <tr>\n",
       "      <th>27940732</th>\n",
       "      <td>RR43963077</td>\n",
       "      <td>2065</td>\n",
       "      <td>63037</td>\n",
       "      <td>2020-01-15</td>\n",
       "      <td>14.99</td>\n",
       "      <td>1.0</td>\n",
       "      <td>1</td>\n",
       "      <td>15</td>\n",
       "      <td>2</td>\n",
       "      <td>3</td>\n",
       "      <td>л</td>\n",
       "      <td>198</td>\n",
       "      <td>Вода Украины слабогазированная</td>\n",
       "      <td>0</td>\n",
       "    </tr>\n",
       "    <tr>\n",
       "      <th>27940733</th>\n",
       "      <td>RR43963078</td>\n",
       "      <td>2065</td>\n",
       "      <td>63037</td>\n",
       "      <td>2020-01-16</td>\n",
       "      <td>14.99</td>\n",
       "      <td>1.0</td>\n",
       "      <td>1</td>\n",
       "      <td>16</td>\n",
       "      <td>3</td>\n",
       "      <td>3</td>\n",
       "      <td>л</td>\n",
       "      <td>198</td>\n",
       "      <td>Вода Украины слабогазированная</td>\n",
       "      <td>0</td>\n",
       "    </tr>\n",
       "    <tr>\n",
       "      <th>27940737</th>\n",
       "      <td>RR43963082</td>\n",
       "      <td>2065</td>\n",
       "      <td>63037</td>\n",
       "      <td>2020-01-20</td>\n",
       "      <td>14.99</td>\n",
       "      <td>2.0</td>\n",
       "      <td>1</td>\n",
       "      <td>20</td>\n",
       "      <td>0</td>\n",
       "      <td>4</td>\n",
       "      <td>л</td>\n",
       "      <td>198</td>\n",
       "      <td>Вода Украины слабогазированная</td>\n",
       "      <td>0</td>\n",
       "    </tr>\n",
       "    <tr>\n",
       "      <th>27940738</th>\n",
       "      <td>RR43963083</td>\n",
       "      <td>2065</td>\n",
       "      <td>63037</td>\n",
       "      <td>2020-01-21</td>\n",
       "      <td>14.99</td>\n",
       "      <td>1.0</td>\n",
       "      <td>1</td>\n",
       "      <td>21</td>\n",
       "      <td>1</td>\n",
       "      <td>4</td>\n",
       "      <td>л</td>\n",
       "      <td>198</td>\n",
       "      <td>Вода Украины слабогазированная</td>\n",
       "      <td>0</td>\n",
       "    </tr>\n",
       "    <tr>\n",
       "      <th>27940740</th>\n",
       "      <td>RR43963085</td>\n",
       "      <td>2065</td>\n",
       "      <td>63037</td>\n",
       "      <td>2020-01-23</td>\n",
       "      <td>14.99</td>\n",
       "      <td>2.0</td>\n",
       "      <td>1</td>\n",
       "      <td>23</td>\n",
       "      <td>3</td>\n",
       "      <td>4</td>\n",
       "      <td>л</td>\n",
       "      <td>198</td>\n",
       "      <td>Вода Украины слабогазированная</td>\n",
       "      <td>0</td>\n",
       "    </tr>\n",
       "    <tr>\n",
       "      <th>27938796</th>\n",
       "      <td>RR43962530</td>\n",
       "      <td>2065</td>\n",
       "      <td>34635</td>\n",
       "      <td>2020-01-27</td>\n",
       "      <td>14.99</td>\n",
       "      <td>1.0</td>\n",
       "      <td>1</td>\n",
       "      <td>27</td>\n",
       "      <td>0</td>\n",
       "      <td>5</td>\n",
       "      <td>л</td>\n",
       "      <td>198</td>\n",
       "      <td>Вода Украины негазированная</td>\n",
       "      <td>0</td>\n",
       "    </tr>\n",
       "    <tr>\n",
       "      <th>27939336</th>\n",
       "      <td>RR43965112</td>\n",
       "      <td>2065</td>\n",
       "      <td>534443</td>\n",
       "      <td>2020-01-27</td>\n",
       "      <td>40.59</td>\n",
       "      <td>1.0</td>\n",
       "      <td>1</td>\n",
       "      <td>27</td>\n",
       "      <td>0</td>\n",
       "      <td>5</td>\n",
       "      <td>л</td>\n",
       "      <td>198</td>\n",
       "      <td>Вода импортная газированная</td>\n",
       "      <td>0</td>\n",
       "    </tr>\n",
       "  </tbody>\n",
       "</table>\n",
       "</div>"
      ],
      "text/plain": [
       "                  ID  geoCluster     SKU       date  price  sales  month  day  \\\n",
       "27940725  RR43963070        2065   63037 2020-01-08  14.99    3.0      1    8   \n",
       "27941284  RR43964553        2065  369991 2020-01-08  16.59    2.0      1    8   \n",
       "27940730  RR43963075        2065   63037 2020-01-13  14.99    1.0      1   13   \n",
       "27940732  RR43963077        2065   63037 2020-01-15  14.99    1.0      1   15   \n",
       "27940733  RR43963078        2065   63037 2020-01-16  14.99    1.0      1   16   \n",
       "27940737  RR43963082        2065   63037 2020-01-20  14.99    2.0      1   20   \n",
       "27940738  RR43963083        2065   63037 2020-01-21  14.99    1.0      1   21   \n",
       "27940740  RR43963085        2065   63037 2020-01-23  14.99    2.0      1   23   \n",
       "27938796  RR43962530        2065   34635 2020-01-27  14.99    1.0      1   27   \n",
       "27939336  RR43965112        2065  534443 2020-01-27  40.59    1.0      1   27   \n",
       "\n",
       "          weekday  week_num lagerUnitType_caption  commodity_group  \\\n",
       "27940725        2         2                     л              198   \n",
       "27941284        2         2                     л              198   \n",
       "27940730        0         3                     л              198   \n",
       "27940732        2         3                     л              198   \n",
       "27940733        3         3                     л              198   \n",
       "27940737        0         4                     л              198   \n",
       "27940738        1         4                     л              198   \n",
       "27940740        3         4                     л              198   \n",
       "27938796        0         5                     л              198   \n",
       "27939336        0         5                     л              198   \n",
       "\n",
       "              productCategory_caption_RU  cityId  \n",
       "27940725  Вода Украины слабогазированная       0  \n",
       "27941284     Вода Украины негазированная       0  \n",
       "27940730  Вода Украины слабогазированная       0  \n",
       "27940732  Вода Украины слабогазированная       0  \n",
       "27940733  Вода Украины слабогазированная       0  \n",
       "27940737  Вода Украины слабогазированная       0  \n",
       "27940738  Вода Украины слабогазированная       0  \n",
       "27940740  Вода Украины слабогазированная       0  \n",
       "27938796     Вода Украины негазированная       0  \n",
       "27939336     Вода импортная газированная       0  "
      ]
     },
     "execution_count": 77,
     "metadata": {},
     "output_type": "execute_result"
    }
   ],
   "source": [
    "train_data[train_data['lagerUnitType_caption']=='л'].dropna(how='any').sort_values(by='date').head(10)"
   ]
  },
  {
   "cell_type": "code",
   "execution_count": 78,
   "metadata": {},
   "outputs": [
    {
     "data": {
      "text/plain": [
       "1.0"
      ]
     },
     "execution_count": 78,
     "metadata": {},
     "output_type": "execute_result"
    }
   ],
   "source": [
    "train_data[train_data['lagerUnitType_caption']=='л']['sales'].min()"
   ]
  },
  {
   "cell_type": "code",
   "execution_count": 79,
   "metadata": {},
   "outputs": [
    {
     "data": {
      "text/plain": [
       "489.0"
      ]
     },
     "execution_count": 79,
     "metadata": {},
     "output_type": "execute_result"
    }
   ],
   "source": [
    "train_data[train_data['lagerUnitType_caption']=='л']['sales'].max()"
   ]
  },
  {
   "cell_type": "code",
   "execution_count": 80,
   "metadata": {},
   "outputs": [
    {
     "data": {
      "text/html": [
       "<div>\n",
       "<style scoped>\n",
       "    .dataframe tbody tr th:only-of-type {\n",
       "        vertical-align: middle;\n",
       "    }\n",
       "\n",
       "    .dataframe tbody tr th {\n",
       "        vertical-align: top;\n",
       "    }\n",
       "\n",
       "    .dataframe thead th {\n",
       "        text-align: right;\n",
       "    }\n",
       "</style>\n",
       "<table border=\"1\" class=\"dataframe\">\n",
       "  <thead>\n",
       "    <tr style=\"text-align: right;\">\n",
       "      <th></th>\n",
       "      <th>ID</th>\n",
       "      <th>geoCluster</th>\n",
       "      <th>SKU</th>\n",
       "      <th>date</th>\n",
       "      <th>price</th>\n",
       "      <th>sales</th>\n",
       "      <th>month</th>\n",
       "      <th>day</th>\n",
       "      <th>weekday</th>\n",
       "      <th>week_num</th>\n",
       "      <th>lagerUnitType_caption</th>\n",
       "      <th>commodity_group</th>\n",
       "      <th>productCategory_caption_RU</th>\n",
       "      <th>cityId</th>\n",
       "    </tr>\n",
       "  </thead>\n",
       "  <tbody>\n",
       "    <tr>\n",
       "      <th>2995759</th>\n",
       "      <td>RR28312211</td>\n",
       "      <td>2016</td>\n",
       "      <td>126831</td>\n",
       "      <td>2020-04-01</td>\n",
       "      <td>117.89</td>\n",
       "      <td>1.7</td>\n",
       "      <td>4</td>\n",
       "      <td>1</td>\n",
       "      <td>2</td>\n",
       "      <td>14</td>\n",
       "      <td>кг</td>\n",
       "      <td>170</td>\n",
       "      <td>Лимон</td>\n",
       "      <td>0</td>\n",
       "    </tr>\n",
       "    <tr>\n",
       "      <th>2995760</th>\n",
       "      <td>RR28312212</td>\n",
       "      <td>2016</td>\n",
       "      <td>126831</td>\n",
       "      <td>2020-04-02</td>\n",
       "      <td>117.89</td>\n",
       "      <td>0.5</td>\n",
       "      <td>4</td>\n",
       "      <td>2</td>\n",
       "      <td>3</td>\n",
       "      <td>14</td>\n",
       "      <td>кг</td>\n",
       "      <td>170</td>\n",
       "      <td>Лимон</td>\n",
       "      <td>0</td>\n",
       "    </tr>\n",
       "    <tr>\n",
       "      <th>23807804</th>\n",
       "      <td>RR49949551</td>\n",
       "      <td>2542</td>\n",
       "      <td>543663</td>\n",
       "      <td>2020-04-04</td>\n",
       "      <td>283.99</td>\n",
       "      <td>1.1</td>\n",
       "      <td>4</td>\n",
       "      <td>4</td>\n",
       "      <td>5</td>\n",
       "      <td>14</td>\n",
       "      <td>кг</td>\n",
       "      <td>16</td>\n",
       "      <td>Сыры мягкие белая плесень</td>\n",
       "      <td>0</td>\n",
       "    </tr>\n",
       "    <tr>\n",
       "      <th>15124798</th>\n",
       "      <td>RR48628818</td>\n",
       "      <td>2187</td>\n",
       "      <td>543663</td>\n",
       "      <td>2020-04-04</td>\n",
       "      <td>283.99</td>\n",
       "      <td>1.0</td>\n",
       "      <td>4</td>\n",
       "      <td>4</td>\n",
       "      <td>5</td>\n",
       "      <td>14</td>\n",
       "      <td>кг</td>\n",
       "      <td>16</td>\n",
       "      <td>Сыры мягкие белая плесень</td>\n",
       "      <td>0</td>\n",
       "    </tr>\n",
       "    <tr>\n",
       "      <th>4058242</th>\n",
       "      <td>RR46799969</td>\n",
       "      <td>2023</td>\n",
       "      <td>543663</td>\n",
       "      <td>2020-04-04</td>\n",
       "      <td>283.99</td>\n",
       "      <td>1.1</td>\n",
       "      <td>4</td>\n",
       "      <td>4</td>\n",
       "      <td>5</td>\n",
       "      <td>14</td>\n",
       "      <td>кг</td>\n",
       "      <td>16</td>\n",
       "      <td>Сыры мягкие белая плесень</td>\n",
       "      <td>0</td>\n",
       "    </tr>\n",
       "    <tr>\n",
       "      <th>9381135</th>\n",
       "      <td>RR52311643</td>\n",
       "      <td>2069</td>\n",
       "      <td>363713</td>\n",
       "      <td>2020-04-04</td>\n",
       "      <td>73.89</td>\n",
       "      <td>0.7</td>\n",
       "      <td>4</td>\n",
       "      <td>4</td>\n",
       "      <td>5</td>\n",
       "      <td>14</td>\n",
       "      <td>кг</td>\n",
       "      <td>76</td>\n",
       "      <td>Хлеб подовый ржано-пшен зерновой собств произв</td>\n",
       "      <td>0</td>\n",
       "    </tr>\n",
       "    <tr>\n",
       "      <th>9381136</th>\n",
       "      <td>RR52311644</td>\n",
       "      <td>2069</td>\n",
       "      <td>363713</td>\n",
       "      <td>2020-04-05</td>\n",
       "      <td>73.89</td>\n",
       "      <td>0.7</td>\n",
       "      <td>4</td>\n",
       "      <td>5</td>\n",
       "      <td>6</td>\n",
       "      <td>14</td>\n",
       "      <td>кг</td>\n",
       "      <td>76</td>\n",
       "      <td>Хлеб подовый ржано-пшен зерновой собств произв</td>\n",
       "      <td>0</td>\n",
       "    </tr>\n",
       "    <tr>\n",
       "      <th>11774544</th>\n",
       "      <td>RR48077969</td>\n",
       "      <td>2119</td>\n",
       "      <td>47330</td>\n",
       "      <td>2020-04-05</td>\n",
       "      <td>240.09</td>\n",
       "      <td>0.5</td>\n",
       "      <td>4</td>\n",
       "      <td>5</td>\n",
       "      <td>6</td>\n",
       "      <td>14</td>\n",
       "      <td>кг</td>\n",
       "      <td>16</td>\n",
       "      <td>Сыры полутвердые крупнопористые</td>\n",
       "      <td>0</td>\n",
       "    </tr>\n",
       "    <tr>\n",
       "      <th>13167566</th>\n",
       "      <td>RR48289548</td>\n",
       "      <td>2144</td>\n",
       "      <td>47330</td>\n",
       "      <td>2020-04-05</td>\n",
       "      <td>240.09</td>\n",
       "      <td>0.3</td>\n",
       "      <td>4</td>\n",
       "      <td>5</td>\n",
       "      <td>6</td>\n",
       "      <td>14</td>\n",
       "      <td>кг</td>\n",
       "      <td>16</td>\n",
       "      <td>Сыры полутвердые крупнопористые</td>\n",
       "      <td>0</td>\n",
       "    </tr>\n",
       "    <tr>\n",
       "      <th>10601644</th>\n",
       "      <td>RR47898180</td>\n",
       "      <td>2091</td>\n",
       "      <td>64165</td>\n",
       "      <td>2020-04-05</td>\n",
       "      <td>360.79</td>\n",
       "      <td>0.9</td>\n",
       "      <td>4</td>\n",
       "      <td>5</td>\n",
       "      <td>6</td>\n",
       "      <td>14</td>\n",
       "      <td>кг</td>\n",
       "      <td>16</td>\n",
       "      <td>Сыры полутвердые насыпные</td>\n",
       "      <td>0</td>\n",
       "    </tr>\n",
       "  </tbody>\n",
       "</table>\n",
       "</div>"
      ],
      "text/plain": [
       "                  ID  geoCluster     SKU       date   price  sales  month  \\\n",
       "2995759   RR28312211        2016  126831 2020-04-01  117.89    1.7      4   \n",
       "2995760   RR28312212        2016  126831 2020-04-02  117.89    0.5      4   \n",
       "23807804  RR49949551        2542  543663 2020-04-04  283.99    1.1      4   \n",
       "15124798  RR48628818        2187  543663 2020-04-04  283.99    1.0      4   \n",
       "4058242   RR46799969        2023  543663 2020-04-04  283.99    1.1      4   \n",
       "9381135   RR52311643        2069  363713 2020-04-04   73.89    0.7      4   \n",
       "9381136   RR52311644        2069  363713 2020-04-05   73.89    0.7      4   \n",
       "11774544  RR48077969        2119   47330 2020-04-05  240.09    0.5      4   \n",
       "13167566  RR48289548        2144   47330 2020-04-05  240.09    0.3      4   \n",
       "10601644  RR47898180        2091   64165 2020-04-05  360.79    0.9      4   \n",
       "\n",
       "          day  weekday  week_num lagerUnitType_caption  commodity_group  \\\n",
       "2995759     1        2        14                    кг              170   \n",
       "2995760     2        3        14                    кг              170   \n",
       "23807804    4        5        14                    кг               16   \n",
       "15124798    4        5        14                    кг               16   \n",
       "4058242     4        5        14                    кг               16   \n",
       "9381135     4        5        14                    кг               76   \n",
       "9381136     5        6        14                    кг               76   \n",
       "11774544    5        6        14                    кг               16   \n",
       "13167566    5        6        14                    кг               16   \n",
       "10601644    5        6        14                    кг               16   \n",
       "\n",
       "                              productCategory_caption_RU  cityId  \n",
       "2995759                                            Лимон       0  \n",
       "2995760                                            Лимон       0  \n",
       "23807804                       Сыры мягкие белая плесень       0  \n",
       "15124798                       Сыры мягкие белая плесень       0  \n",
       "4058242                        Сыры мягкие белая плесень       0  \n",
       "9381135   Хлеб подовый ржано-пшен зерновой собств произв       0  \n",
       "9381136   Хлеб подовый ржано-пшен зерновой собств произв       0  \n",
       "11774544                 Сыры полутвердые крупнопористые       0  \n",
       "13167566                 Сыры полутвердые крупнопористые       0  \n",
       "10601644                       Сыры полутвердые насыпные       0  "
      ]
     },
     "execution_count": 80,
     "metadata": {},
     "output_type": "execute_result"
    }
   ],
   "source": [
    "train_data[train_data['lagerUnitType_caption']=='кг'].dropna(how='any').sort_values(by='date').head(10)"
   ]
  },
  {
   "cell_type": "code",
   "execution_count": 81,
   "metadata": {},
   "outputs": [
    {
     "data": {
      "text/plain": [
       "0.001"
      ]
     },
     "execution_count": 81,
     "metadata": {},
     "output_type": "execute_result"
    }
   ],
   "source": [
    "train_data[train_data['lagerUnitType_caption']=='кг']['sales'].min()"
   ]
  },
  {
   "cell_type": "code",
   "execution_count": 82,
   "metadata": {},
   "outputs": [
    {
     "data": {
      "text/html": [
       "<div>\n",
       "<style scoped>\n",
       "    .dataframe tbody tr th:only-of-type {\n",
       "        vertical-align: middle;\n",
       "    }\n",
       "\n",
       "    .dataframe tbody tr th {\n",
       "        vertical-align: top;\n",
       "    }\n",
       "\n",
       "    .dataframe thead th {\n",
       "        text-align: right;\n",
       "    }\n",
       "</style>\n",
       "<table border=\"1\" class=\"dataframe\">\n",
       "  <thead>\n",
       "    <tr style=\"text-align: right;\">\n",
       "      <th></th>\n",
       "      <th>ID</th>\n",
       "      <th>geoCluster</th>\n",
       "      <th>SKU</th>\n",
       "      <th>date</th>\n",
       "      <th>price</th>\n",
       "      <th>sales</th>\n",
       "      <th>month</th>\n",
       "      <th>day</th>\n",
       "      <th>weekday</th>\n",
       "      <th>week_num</th>\n",
       "      <th>lagerUnitType_caption</th>\n",
       "      <th>commodity_group</th>\n",
       "      <th>productCategory_caption_RU</th>\n",
       "      <th>cityId</th>\n",
       "    </tr>\n",
       "  </thead>\n",
       "  <tbody>\n",
       "    <tr>\n",
       "      <th>27942907</th>\n",
       "      <td>RR52304931</td>\n",
       "      <td>2065</td>\n",
       "      <td>507343</td>\n",
       "      <td>2020-01-03</td>\n",
       "      <td>7.19</td>\n",
       "      <td>6.0</td>\n",
       "      <td>1</td>\n",
       "      <td>3</td>\n",
       "      <td>4</td>\n",
       "      <td>1</td>\n",
       "      <td>г</td>\n",
       "      <td>76</td>\n",
       "      <td>Булка мелкоштучная без добавок допек</td>\n",
       "      <td>0</td>\n",
       "    </tr>\n",
       "    <tr>\n",
       "      <th>27942912</th>\n",
       "      <td>RR52304936</td>\n",
       "      <td>2065</td>\n",
       "      <td>507343</td>\n",
       "      <td>2020-01-08</td>\n",
       "      <td>7.19</td>\n",
       "      <td>4.0</td>\n",
       "      <td>1</td>\n",
       "      <td>8</td>\n",
       "      <td>2</td>\n",
       "      <td>2</td>\n",
       "      <td>г</td>\n",
       "      <td>76</td>\n",
       "      <td>Булка мелкоштучная без добавок допек</td>\n",
       "      <td>0</td>\n",
       "    </tr>\n",
       "    <tr>\n",
       "      <th>27942913</th>\n",
       "      <td>RR52304937</td>\n",
       "      <td>2065</td>\n",
       "      <td>507343</td>\n",
       "      <td>2020-01-09</td>\n",
       "      <td>7.19</td>\n",
       "      <td>1.0</td>\n",
       "      <td>1</td>\n",
       "      <td>9</td>\n",
       "      <td>3</td>\n",
       "      <td>2</td>\n",
       "      <td>г</td>\n",
       "      <td>76</td>\n",
       "      <td>Булка мелкоштучная без добавок допек</td>\n",
       "      <td>0</td>\n",
       "    </tr>\n",
       "    <tr>\n",
       "      <th>27942917</th>\n",
       "      <td>RR52304941</td>\n",
       "      <td>2065</td>\n",
       "      <td>507343</td>\n",
       "      <td>2020-01-13</td>\n",
       "      <td>7.19</td>\n",
       "      <td>1.0</td>\n",
       "      <td>1</td>\n",
       "      <td>13</td>\n",
       "      <td>0</td>\n",
       "      <td>3</td>\n",
       "      <td>г</td>\n",
       "      <td>76</td>\n",
       "      <td>Булка мелкоштучная без добавок допек</td>\n",
       "      <td>0</td>\n",
       "    </tr>\n",
       "    <tr>\n",
       "      <th>27942353</th>\n",
       "      <td>RR52305495</td>\n",
       "      <td>2065</td>\n",
       "      <td>556482</td>\n",
       "      <td>2020-01-13</td>\n",
       "      <td>8.59</td>\n",
       "      <td>2.0</td>\n",
       "      <td>1</td>\n",
       "      <td>13</td>\n",
       "      <td>0</td>\n",
       "      <td>3</td>\n",
       "      <td>г</td>\n",
       "      <td>76</td>\n",
       "      <td>Булка мелкоштучная зерновая допек</td>\n",
       "      <td>0</td>\n",
       "    </tr>\n",
       "    <tr>\n",
       "      <th>27942354</th>\n",
       "      <td>RR52305496</td>\n",
       "      <td>2065</td>\n",
       "      <td>556482</td>\n",
       "      <td>2020-01-14</td>\n",
       "      <td>8.59</td>\n",
       "      <td>2.0</td>\n",
       "      <td>1</td>\n",
       "      <td>14</td>\n",
       "      <td>1</td>\n",
       "      <td>3</td>\n",
       "      <td>г</td>\n",
       "      <td>76</td>\n",
       "      <td>Булка мелкоштучная зерновая допек</td>\n",
       "      <td>0</td>\n",
       "    </tr>\n",
       "    <tr>\n",
       "      <th>27942926</th>\n",
       "      <td>RR52304950</td>\n",
       "      <td>2065</td>\n",
       "      <td>507343</td>\n",
       "      <td>2020-01-22</td>\n",
       "      <td>7.19</td>\n",
       "      <td>1.0</td>\n",
       "      <td>1</td>\n",
       "      <td>22</td>\n",
       "      <td>2</td>\n",
       "      <td>4</td>\n",
       "      <td>г</td>\n",
       "      <td>76</td>\n",
       "      <td>Булка мелкоштучная без добавок допек</td>\n",
       "      <td>0</td>\n",
       "    </tr>\n",
       "    <tr>\n",
       "      <th>27942931</th>\n",
       "      <td>RR52304955</td>\n",
       "      <td>2065</td>\n",
       "      <td>507343</td>\n",
       "      <td>2020-01-27</td>\n",
       "      <td>7.19</td>\n",
       "      <td>3.0</td>\n",
       "      <td>1</td>\n",
       "      <td>27</td>\n",
       "      <td>0</td>\n",
       "      <td>5</td>\n",
       "      <td>г</td>\n",
       "      <td>76</td>\n",
       "      <td>Булка мелкоштучная без добавок допек</td>\n",
       "      <td>0</td>\n",
       "    </tr>\n",
       "    <tr>\n",
       "      <th>27942367</th>\n",
       "      <td>RR52305509</td>\n",
       "      <td>2065</td>\n",
       "      <td>556482</td>\n",
       "      <td>2020-01-27</td>\n",
       "      <td>8.59</td>\n",
       "      <td>2.0</td>\n",
       "      <td>1</td>\n",
       "      <td>27</td>\n",
       "      <td>0</td>\n",
       "      <td>5</td>\n",
       "      <td>г</td>\n",
       "      <td>76</td>\n",
       "      <td>Булка мелкоштучная зерновая допек</td>\n",
       "      <td>0</td>\n",
       "    </tr>\n",
       "    <tr>\n",
       "      <th>27942939</th>\n",
       "      <td>RR52304963</td>\n",
       "      <td>2065</td>\n",
       "      <td>507343</td>\n",
       "      <td>2020-02-04</td>\n",
       "      <td>7.19</td>\n",
       "      <td>3.0</td>\n",
       "      <td>2</td>\n",
       "      <td>4</td>\n",
       "      <td>1</td>\n",
       "      <td>6</td>\n",
       "      <td>г</td>\n",
       "      <td>76</td>\n",
       "      <td>Булка мелкоштучная без добавок допек</td>\n",
       "      <td>0</td>\n",
       "    </tr>\n",
       "  </tbody>\n",
       "</table>\n",
       "</div>"
      ],
      "text/plain": [
       "                  ID  geoCluster     SKU       date  price  sales  month  day  \\\n",
       "27942907  RR52304931        2065  507343 2020-01-03   7.19    6.0      1    3   \n",
       "27942912  RR52304936        2065  507343 2020-01-08   7.19    4.0      1    8   \n",
       "27942913  RR52304937        2065  507343 2020-01-09   7.19    1.0      1    9   \n",
       "27942917  RR52304941        2065  507343 2020-01-13   7.19    1.0      1   13   \n",
       "27942353  RR52305495        2065  556482 2020-01-13   8.59    2.0      1   13   \n",
       "27942354  RR52305496        2065  556482 2020-01-14   8.59    2.0      1   14   \n",
       "27942926  RR52304950        2065  507343 2020-01-22   7.19    1.0      1   22   \n",
       "27942931  RR52304955        2065  507343 2020-01-27   7.19    3.0      1   27   \n",
       "27942367  RR52305509        2065  556482 2020-01-27   8.59    2.0      1   27   \n",
       "27942939  RR52304963        2065  507343 2020-02-04   7.19    3.0      2    4   \n",
       "\n",
       "          weekday  week_num lagerUnitType_caption  commodity_group  \\\n",
       "27942907        4         1                     г               76   \n",
       "27942912        2         2                     г               76   \n",
       "27942913        3         2                     г               76   \n",
       "27942917        0         3                     г               76   \n",
       "27942353        0         3                     г               76   \n",
       "27942354        1         3                     г               76   \n",
       "27942926        2         4                     г               76   \n",
       "27942931        0         5                     г               76   \n",
       "27942367        0         5                     г               76   \n",
       "27942939        1         6                     г               76   \n",
       "\n",
       "                    productCategory_caption_RU  cityId  \n",
       "27942907  Булка мелкоштучная без добавок допек       0  \n",
       "27942912  Булка мелкоштучная без добавок допек       0  \n",
       "27942913  Булка мелкоштучная без добавок допек       0  \n",
       "27942917  Булка мелкоштучная без добавок допек       0  \n",
       "27942353     Булка мелкоштучная зерновая допек       0  \n",
       "27942354     Булка мелкоштучная зерновая допек       0  \n",
       "27942926  Булка мелкоштучная без добавок допек       0  \n",
       "27942931  Булка мелкоштучная без добавок допек       0  \n",
       "27942367     Булка мелкоштучная зерновая допек       0  \n",
       "27942939  Булка мелкоштучная без добавок допек       0  "
      ]
     },
     "execution_count": 82,
     "metadata": {},
     "output_type": "execute_result"
    }
   ],
   "source": [
    "train_data[train_data['lagerUnitType_caption']=='г'].dropna(how='any').sort_values(by='date').head(10)"
   ]
  },
  {
   "cell_type": "code",
   "execution_count": 83,
   "metadata": {},
   "outputs": [],
   "source": [
    "train_data['sales'] = train_data['sales'].fillna(0)"
   ]
  },
  {
   "cell_type": "code",
   "execution_count": 84,
   "metadata": {},
   "outputs": [
    {
     "data": {
      "text/plain": [
       "<AxesSubplot:xlabel='date'>"
      ]
     },
     "execution_count": 84,
     "metadata": {},
     "output_type": "execute_result"
    },
    {
     "data": {
      "image/png": "[encoded data removed]",
      "text/plain": [
       "<Figure size 432x288 with 1 Axes>"
      ]
     },
     "metadata": {},
     "output_type": "display_data"
    }
   ],
   "source": [
    "train_data[(train_data['SKU']==507343) & (~train_data['sales'].isna())][['geoCluster', 'date', 'day','price', 'sales']]\\\n",
    ".sort_values(by=['date','geoCluster']).plot(x = 'date', y = 'price')\n"
   ]
  },
  {
   "cell_type": "code",
   "execution_count": 85,
   "metadata": {},
   "outputs": [
    {
     "data": {
      "text/plain": [
       "<AxesSubplot:xlabel='date'>"
      ]
     },
     "execution_count": 85,
     "metadata": {},
     "output_type": "execute_result"
    },
    {
     "data": {
      "image/png": "[encoded data removed]",
      "text/plain": [
       "<Figure size 432x288 with 1 Axes>"
      ]
     },
     "metadata": {},
     "output_type": "display_data"
    }
   ],
   "source": [
    "train_data[(train_data['SKU']==126831) & (~train_data['sales'].isna())][['geoCluster', 'date', 'day','price', 'sales']]\\\n",
    ".sort_values(by=['date','geoCluster']).plot(x = 'date', y = 'price')\n"
   ]
  },
  {
   "cell_type": "code",
   "execution_count": 86,
   "metadata": {},
   "outputs": [
    {
     "data": {
      "text/plain": [
       "0.0"
      ]
     },
     "execution_count": 86,
     "metadata": {},
     "output_type": "execute_result"
    }
   ],
   "source": [
    "train_data[train_data['lagerUnitType_caption']=='г']['sales'].min()"
   ]
  },
  {
   "cell_type": "markdown",
   "metadata": {},
   "source": [
    "### working with price"
   ]
  },
  {
   "cell_type": "code",
   "execution_count": 87,
   "metadata": {},
   "outputs": [
    {
     "data": {
      "text/html": [
       "<div>\n",
       "<style scoped>\n",
       "    .dataframe tbody tr th:only-of-type {\n",
       "        vertical-align: middle;\n",
       "    }\n",
       "\n",
       "    .dataframe tbody tr th {\n",
       "        vertical-align: top;\n",
       "    }\n",
       "\n",
       "    .dataframe thead th {\n",
       "        text-align: right;\n",
       "    }\n",
       "</style>\n",
       "<table border=\"1\" class=\"dataframe\">\n",
       "  <thead>\n",
       "    <tr style=\"text-align: right;\">\n",
       "      <th></th>\n",
       "      <th>date</th>\n",
       "      <th>price</th>\n",
       "    </tr>\n",
       "  </thead>\n",
       "  <tbody>\n",
       "    <tr>\n",
       "      <th>27942907</th>\n",
       "      <td>2020-01-03</td>\n",
       "      <td>7.19</td>\n",
       "    </tr>\n",
       "    <tr>\n",
       "      <th>27942908</th>\n",
       "      <td>2020-01-04</td>\n",
       "      <td>7.19</td>\n",
       "    </tr>\n",
       "    <tr>\n",
       "      <th>27942909</th>\n",
       "      <td>2020-01-05</td>\n",
       "      <td>7.19</td>\n",
       "    </tr>\n",
       "    <tr>\n",
       "      <th>27942910</th>\n",
       "      <td>2020-01-06</td>\n",
       "      <td>7.19</td>\n",
       "    </tr>\n",
       "    <tr>\n",
       "      <th>27942911</th>\n",
       "      <td>2020-01-07</td>\n",
       "      <td>7.19</td>\n",
       "    </tr>\n",
       "    <tr>\n",
       "      <th>...</th>\n",
       "      <td>...</td>\n",
       "      <td>...</td>\n",
       "    </tr>\n",
       "    <tr>\n",
       "      <th>27943466</th>\n",
       "      <td>2021-07-15</td>\n",
       "      <td>7.19</td>\n",
       "    </tr>\n",
       "    <tr>\n",
       "      <th>27943467</th>\n",
       "      <td>2021-07-16</td>\n",
       "      <td>7.19</td>\n",
       "    </tr>\n",
       "    <tr>\n",
       "      <th>27943468</th>\n",
       "      <td>2021-07-17</td>\n",
       "      <td>7.19</td>\n",
       "    </tr>\n",
       "    <tr>\n",
       "      <th>27943469</th>\n",
       "      <td>2021-07-18</td>\n",
       "      <td>7.19</td>\n",
       "    </tr>\n",
       "    <tr>\n",
       "      <th>27943470</th>\n",
       "      <td>2021-07-19</td>\n",
       "      <td>7.19</td>\n",
       "    </tr>\n",
       "  </tbody>\n",
       "</table>\n",
       "<p>564 rows × 2 columns</p>\n",
       "</div>"
      ],
      "text/plain": [
       "               date  price\n",
       "27942907 2020-01-03   7.19\n",
       "27942908 2020-01-04   7.19\n",
       "27942909 2020-01-05   7.19\n",
       "27942910 2020-01-06   7.19\n",
       "27942911 2020-01-07   7.19\n",
       "...             ...    ...\n",
       "27943466 2021-07-15   7.19\n",
       "27943467 2021-07-16   7.19\n",
       "27943468 2021-07-17   7.19\n",
       "27943469 2021-07-18   7.19\n",
       "27943470 2021-07-19   7.19\n",
       "\n",
       "[564 rows x 2 columns]"
      ]
     },
     "execution_count": 87,
     "metadata": {},
     "output_type": "execute_result"
    }
   ],
   "source": [
    "train_data[(train_data['SKU']==507343) & (train_data['geoCluster']==2065)].sort_values(by='date')[['date','price']].interpolate()"
   ]
  },
  {
   "cell_type": "code",
   "execution_count": 88,
   "metadata": {},
   "outputs": [
    {
     "data": {
      "text/plain": [
       "<AxesSubplot:xlabel='date'>"
      ]
     },
     "execution_count": 88,
     "metadata": {},
     "output_type": "execute_result"
    },
    {
     "data": {
      "image/png": "[encoded data removed]",
      "text/plain": [
       "<Figure size 432x288 with 1 Axes>"
      ]
     },
     "metadata": {},
     "output_type": "display_data"
    }
   ],
   "source": [
    "train_data[(train_data['SKU']==507343) & (train_data['geoCluster']==2065) & (~train_data['price'].isna())]\\\n",
    ".sort_values(by='date').plot(x='date',y='price')"
   ]
  },
  {
   "cell_type": "code",
   "execution_count": 89,
   "metadata": {},
   "outputs": [
    {
     "data": {
      "text/plain": [
       "<AxesSubplot:xlabel='date'>"
      ]
     },
     "execution_count": 89,
     "metadata": {},
     "output_type": "execute_result"
    },
    {
     "data": {
      "image/png": "[encoded data removed]",
      "text/plain": [
       "<Figure size 432x288 with 1 Axes>"
      ]
     },
     "metadata": {},
     "output_type": "display_data"
    }
   ],
   "source": [
    "train_data[(train_data['SKU']==507343) & (train_data['geoCluster']==1867) & (~train_data['price'].isna())]\\\n",
    ".sort_values(by='date').plot(x='date',y='price')"
   ]
  },
  {
   "cell_type": "code",
   "execution_count": 90,
   "metadata": {},
   "outputs": [],
   "source": [
    "price_date_spec_sku = train_data[(train_data['SKU']==507343)].groupby(['geoCluster','cityId']).agg({'price':list, 'date':list})"
   ]
  },
  {
   "cell_type": "code",
   "execution_count": 91,
   "metadata": {},
   "outputs": [],
   "source": [
    "tmp = price_date_spec_sku['price'].apply(lambda x: set([i for i in x if not np.isnan(i)]))"
   ]
  },
  {
   "cell_type": "code",
   "execution_count": 92,
   "metadata": {},
   "outputs": [
    {
     "data": {
      "text/plain": [
       "geoCluster  cityId\n",
       "1934        0               {8.59, 5.99}\n",
       "1995        0               {8.59, 5.99}\n",
       "2013        0               {8.59, 5.99}\n",
       "2017        0               {8.59, 5.99}\n",
       "2028        0               {8.59, 5.99}\n",
       "2033        0               {8.59, 8.19}\n",
       "2049        0               {8.59, 7.89}\n",
       "2053        0               {8.59, 6.89}\n",
       "2149        0         {8.59, 8.09, 7.69}\n",
       "2226        0               {8.59, 7.29}\n",
       "2382        0          {8.59, 0.0, 5.99}\n",
       "2735        0         {8.59, 5.99, 6.89}\n",
       "2746        0               {8.59, 8.19}\n",
       "2750        0               {8.59, 5.99}\n",
       "3168        0               {8.59, 6.59}\n",
       "Name: price, dtype: object"
      ]
     },
     "execution_count": 92,
     "metadata": {},
     "output_type": "execute_result"
    }
   ],
   "source": [
    "tmp[tmp.apply(lambda x: len(x)>1)]"
   ]
  },
  {
   "cell_type": "code",
   "execution_count": 93,
   "metadata": {},
   "outputs": [
    {
     "data": {
      "text/plain": [
       "<AxesSubplot:xlabel='date'>"
      ]
     },
     "execution_count": 93,
     "metadata": {},
     "output_type": "execute_result"
    },
    {
     "data": {
      "image/png": "[encoded data removed]",
      "text/plain": [
       "<Figure size 432x288 with 1 Axes>"
      ]
     },
     "metadata": {},
     "output_type": "display_data"
    }
   ],
   "source": [
    "train_data[(train_data['SKU']==507343) & (train_data['geoCluster']==2033) & (~train_data['price'].isna())].plot('date','price')"
   ]
  },
  {
   "cell_type": "code",
   "execution_count": 94,
   "metadata": {},
   "outputs": [
    {
     "data": {
      "text/html": [
       "<div>\n",
       "<style scoped>\n",
       "    .dataframe tbody tr th:only-of-type {\n",
       "        vertical-align: middle;\n",
       "    }\n",
       "\n",
       "    .dataframe tbody tr th {\n",
       "        vertical-align: top;\n",
       "    }\n",
       "\n",
       "    .dataframe thead th {\n",
       "        text-align: right;\n",
       "    }\n",
       "</style>\n",
       "<table border=\"1\" class=\"dataframe\">\n",
       "  <thead>\n",
       "    <tr style=\"text-align: right;\">\n",
       "      <th></th>\n",
       "      <th>ID</th>\n",
       "      <th>geoCluster</th>\n",
       "      <th>SKU</th>\n",
       "      <th>date</th>\n",
       "      <th>price</th>\n",
       "      <th>sales</th>\n",
       "      <th>month</th>\n",
       "      <th>day</th>\n",
       "      <th>weekday</th>\n",
       "      <th>week_num</th>\n",
       "      <th>lagerUnitType_caption</th>\n",
       "      <th>commodity_group</th>\n",
       "      <th>productCategory_caption_RU</th>\n",
       "      <th>cityId</th>\n",
       "    </tr>\n",
       "  </thead>\n",
       "  <tbody>\n",
       "    <tr>\n",
       "      <th>5197436</th>\n",
       "      <td>RR51556975</td>\n",
       "      <td>2033</td>\n",
       "      <td>507343</td>\n",
       "      <td>2021-04-18</td>\n",
       "      <td>8.19</td>\n",
       "      <td>5.0</td>\n",
       "      <td>4</td>\n",
       "      <td>18</td>\n",
       "      <td>6</td>\n",
       "      <td>15</td>\n",
       "      <td>г</td>\n",
       "      <td>76</td>\n",
       "      <td>Булка мелкоштучная без добавок допек</td>\n",
       "      <td>0</td>\n",
       "    </tr>\n",
       "  </tbody>\n",
       "</table>\n",
       "</div>"
      ],
      "text/plain": [
       "                 ID  geoCluster     SKU       date  price  sales  month  day  \\\n",
       "5197436  RR51556975        2033  507343 2021-04-18   8.19    5.0      4   18   \n",
       "\n",
       "         weekday  week_num lagerUnitType_caption  commodity_group  \\\n",
       "5197436        6        15                     г               76   \n",
       "\n",
       "                   productCategory_caption_RU  cityId  \n",
       "5197436  Булка мелкоштучная без добавок допек       0  "
      ]
     },
     "execution_count": 94,
     "metadata": {},
     "output_type": "execute_result"
    }
   ],
   "source": [
    "train_data[(train_data['SKU']==507343) & (train_data['geoCluster']==2033) & (train_data['price']==8.19)]"
   ]
  },
  {
   "cell_type": "code",
   "execution_count": 95,
   "metadata": {},
   "outputs": [],
   "source": [
    "# price in one geoCluster is not dependant on price and discounts in other, thus simply interpolating\n",
    "# also it could be that in the same cities the price for same product is the same"
   ]
  },
  {
   "cell_type": "code",
   "execution_count": 96,
   "metadata": {},
   "outputs": [],
   "source": [
    "import tqdm"
   ]
  },
  {
   "cell_type": "code",
   "execution_count": 97,
   "metadata": {},
   "outputs": [],
   "source": [
    "to_interpolate = train_data[['SKU','geoCluster','price','date']]\n",
    "to_interpolate = to_interpolate.groupby(['geoCluster','SKU'])"
   ]
  },
  {
   "cell_type": "code",
   "execution_count": 98,
   "metadata": {},
   "outputs": [],
   "source": [
    "interpolated = to_interpolate.apply(lambda x: x.sort_values(by='date').interpolate())"
   ]
  },
  {
   "cell_type": "code",
   "execution_count": 99,
   "metadata": {},
   "outputs": [
    {
     "data": {
      "text/plain": [
       "51506"
      ]
     },
     "execution_count": 99,
     "metadata": {},
     "output_type": "execute_result"
    }
   ],
   "source": [
    "interpolated['price'].isna().sum()"
   ]
  },
  {
   "cell_type": "code",
   "execution_count": 100,
   "metadata": {},
   "outputs": [],
   "source": [
    "interpolated = interpolated[['price','date']].reset_index()"
   ]
  },
  {
   "cell_type": "code",
   "execution_count": 101,
   "metadata": {},
   "outputs": [],
   "source": [
    "### logic to handle cases not handled by interpolation"
   ]
  },
  {
   "cell_type": "code",
   "execution_count": 102,
   "metadata": {},
   "outputs": [
    {
     "data": {
      "text/plain": [
       "SKU     geoCluster\n",
       "873803  3209          566\n",
       "612305  2221          566\n",
       "642700  3095          566\n",
       "666063  2116          566\n",
       "690818  2709          566\n",
       "                     ... \n",
       "857555  2052          566\n",
       "866585  2808          566\n",
       "866586  2578          566\n",
       "867714  2133          566\n",
       "4211    2071          566\n",
       "Length: 91, dtype: int64"
      ]
     },
     "execution_count": 102,
     "metadata": {},
     "output_type": "execute_result"
    }
   ],
   "source": [
    "interpolated[interpolated['price'].isna()][['SKU','geoCluster']].value_counts()"
   ]
  },
  {
   "cell_type": "code",
   "execution_count": 103,
   "metadata": {},
   "outputs": [
    {
     "data": {
      "text/plain": [
       "array([nan])"
      ]
     },
     "execution_count": 103,
     "metadata": {},
     "output_type": "execute_result"
    }
   ],
   "source": [
    "interpolated[interpolated['SKU']==873803]['price'].unique()"
   ]
  },
  {
   "cell_type": "code",
   "execution_count": 104,
   "metadata": {},
   "outputs": [
    {
     "data": {
      "text/plain": [
       "55"
      ]
     },
     "execution_count": 104,
     "metadata": {},
     "output_type": "execute_result"
    }
   ],
   "source": [
    "interpolated[interpolated['price'].isna()]['SKU'].nunique()"
   ]
  },
  {
   "cell_type": "code",
   "execution_count": 105,
   "metadata": {},
   "outputs": [
    {
     "data": {
      "text/plain": [
       "27956445"
      ]
     },
     "execution_count": 105,
     "metadata": {},
     "output_type": "execute_result"
    }
   ],
   "source": [
    "len(interpolated)"
   ]
  },
  {
   "cell_type": "code",
   "execution_count": 106,
   "metadata": {},
   "outputs": [],
   "source": [
    "interpolated[interpolated['price'].isna()]['SKU'].to_frame().drop_duplicates().to_csv('no_price.csv',index=False)"
   ]
  },
  {
   "cell_type": "code",
   "execution_count": 107,
   "metadata": {},
   "outputs": [
    {
     "data": {
      "text/html": [
       "<div>\n",
       "<style scoped>\n",
       "    .dataframe tbody tr th:only-of-type {\n",
       "        vertical-align: middle;\n",
       "    }\n",
       "\n",
       "    .dataframe tbody tr th {\n",
       "        vertical-align: top;\n",
       "    }\n",
       "\n",
       "    .dataframe thead th {\n",
       "        text-align: right;\n",
       "    }\n",
       "</style>\n",
       "<table border=\"1\" class=\"dataframe\">\n",
       "  <thead>\n",
       "    <tr style=\"text-align: right;\">\n",
       "      <th></th>\n",
       "      <th>geoCluster</th>\n",
       "      <th>SKU</th>\n",
       "      <th>level_2</th>\n",
       "      <th>price</th>\n",
       "      <th>date</th>\n",
       "    </tr>\n",
       "  </thead>\n",
       "  <tbody>\n",
       "    <tr>\n",
       "      <th>0</th>\n",
       "      <td>21</td>\n",
       "      <td>32485</td>\n",
       "      <td>0</td>\n",
       "      <td>39.69</td>\n",
       "      <td>2021-07-08</td>\n",
       "    </tr>\n",
       "  </tbody>\n",
       "</table>\n",
       "</div>"
      ],
      "text/plain": [
       "   geoCluster    SKU  level_2  price       date\n",
       "0          21  32485        0  39.69 2021-07-08"
      ]
     },
     "execution_count": 107,
     "metadata": {},
     "output_type": "execute_result"
    }
   ],
   "source": [
    "interpolated.head(1)"
   ]
  },
  {
   "cell_type": "code",
   "execution_count": 108,
   "metadata": {},
   "outputs": [
    {
     "data": {
      "text/plain": [
       "27956445"
      ]
     },
     "execution_count": 108,
     "metadata": {},
     "output_type": "execute_result"
    }
   ],
   "source": [
    "len(train_data)"
   ]
  },
  {
   "cell_type": "code",
   "execution_count": 109,
   "metadata": {},
   "outputs": [
    {
     "data": {
      "text/plain": [
       "25975058"
      ]
     },
     "execution_count": 109,
     "metadata": {},
     "output_type": "execute_result"
    }
   ],
   "source": [
    "train_data['price'].isna().sum()"
   ]
  },
  {
   "cell_type": "code",
   "execution_count": 110,
   "metadata": {},
   "outputs": [],
   "source": [
    "train_data = train_data.drop(columns='price').merge(interpolated, on=['date','SKU','geoCluster'])"
   ]
  },
  {
   "cell_type": "code",
   "execution_count": 111,
   "metadata": {},
   "outputs": [],
   "source": [
    "train_data.drop(columns='level_2',inplace=True)"
   ]
  },
  {
   "cell_type": "code",
   "execution_count": 112,
   "metadata": {},
   "outputs": [
    {
     "data": {
      "text/plain": [
       "array(['Десерты молочные', 'Манго', 'Инжир', 'Йогурты',\n",
       "       'Сыры полутвердые насыпные', 'Творог', 'Сыры твердые пармезановые',\n",
       "       'Вода Украины негазированная', 'Вода Украины газированная',\n",
       "       'Вода Украины слабогазированная', 'Авокадо',\n",
       "       'Сдоба мелкошт с овощной начинкой собств произв',\n",
       "       'Сырок глазурованный', 'Бисквиты молочные', 'Сыры твердые видовые',\n",
       "       'Вода импортная газированная', 'Сыры мягкие белая плесень',\n",
       "       'Багет без добавок допек',\n",
       "       'Слойка с овощной начинкой собств производства',\n",
       "       'Чиабатта светлая без добавок допек',\n",
       "       'Сыры полутвердые крупнопористые', 'Мандарин',\n",
       "       'Экзотические фрукты'], dtype=object)"
      ]
     },
     "execution_count": 112,
     "metadata": {},
     "output_type": "execute_result"
    }
   ],
   "source": [
    "train_data[train_data['price'].isna()]['productCategory_caption_RU'].unique()"
   ]
  },
  {
   "cell_type": "code",
   "execution_count": 113,
   "metadata": {},
   "outputs": [
    {
     "data": {
      "text/plain": [
       "0    51506\n",
       "Name: cityId, dtype: int64"
      ]
     },
     "execution_count": 113,
     "metadata": {},
     "output_type": "execute_result"
    }
   ],
   "source": [
    "train_data[train_data['price'].isna()]['cityId'].value_counts()"
   ]
  },
  {
   "cell_type": "code",
   "execution_count": 114,
   "metadata": {},
   "outputs": [
    {
     "data": {
      "text/plain": [
       "51506"
      ]
     },
     "execution_count": 114,
     "metadata": {},
     "output_type": "execute_result"
    }
   ],
   "source": [
    "train_data['price'].isna().sum()"
   ]
  },
  {
   "cell_type": "code",
   "execution_count": 115,
   "metadata": {},
   "outputs": [],
   "source": [
    "### no dependency between number of sales in geoCluster and date"
   ]
  },
  {
   "cell_type": "code",
   "execution_count": 116,
   "metadata": {},
   "outputs": [],
   "source": [
    "with_nans_sku = train_data[train_data['price'].isna()]['SKU'].unique()"
   ]
  },
  {
   "cell_type": "code",
   "execution_count": 117,
   "metadata": {},
   "outputs": [
    {
     "data": {
      "text/html": [
       "<div>\n",
       "<style scoped>\n",
       "    .dataframe tbody tr th:only-of-type {\n",
       "        vertical-align: middle;\n",
       "    }\n",
       "\n",
       "    .dataframe tbody tr th {\n",
       "        vertical-align: top;\n",
       "    }\n",
       "\n",
       "    .dataframe thead th {\n",
       "        text-align: right;\n",
       "    }\n",
       "</style>\n",
       "<table border=\"1\" class=\"dataframe\">\n",
       "  <thead>\n",
       "    <tr style=\"text-align: right;\">\n",
       "      <th></th>\n",
       "      <th>price</th>\n",
       "    </tr>\n",
       "    <tr>\n",
       "      <th>geoCluster</th>\n",
       "      <th></th>\n",
       "    </tr>\n",
       "  </thead>\n",
       "  <tbody>\n",
       "    <tr>\n",
       "      <th>1934</th>\n",
       "      <td>0.0</td>\n",
       "    </tr>\n",
       "    <tr>\n",
       "      <th>2021</th>\n",
       "      <td>32.0</td>\n",
       "    </tr>\n",
       "    <tr>\n",
       "      <th>2033</th>\n",
       "      <td>0.0</td>\n",
       "    </tr>\n",
       "    <tr>\n",
       "      <th>2043</th>\n",
       "      <td>47.0</td>\n",
       "    </tr>\n",
       "    <tr>\n",
       "      <th>2049</th>\n",
       "      <td>6.0</td>\n",
       "    </tr>\n",
       "    <tr>\n",
       "      <th>2077</th>\n",
       "      <td>44.0</td>\n",
       "    </tr>\n",
       "    <tr>\n",
       "      <th>2126</th>\n",
       "      <td>0.0</td>\n",
       "    </tr>\n",
       "    <tr>\n",
       "      <th>2170</th>\n",
       "      <td>0.0</td>\n",
       "    </tr>\n",
       "    <tr>\n",
       "      <th>2245</th>\n",
       "      <td>0.0</td>\n",
       "    </tr>\n",
       "    <tr>\n",
       "      <th>2358</th>\n",
       "      <td>7.0</td>\n",
       "    </tr>\n",
       "    <tr>\n",
       "      <th>2750</th>\n",
       "      <td>15.0</td>\n",
       "    </tr>\n",
       "    <tr>\n",
       "      <th>2795</th>\n",
       "      <td>0.0</td>\n",
       "    </tr>\n",
       "    <tr>\n",
       "      <th>2808</th>\n",
       "      <td>4.0</td>\n",
       "    </tr>\n",
       "  </tbody>\n",
       "</table>\n",
       "</div>"
      ],
      "text/plain": [
       "            price\n",
       "geoCluster       \n",
       "1934          0.0\n",
       "2021         32.0\n",
       "2033          0.0\n",
       "2043         47.0\n",
       "2049          6.0\n",
       "2077         44.0\n",
       "2126          0.0\n",
       "2170          0.0\n",
       "2245          0.0\n",
       "2358          7.0\n",
       "2750         15.0\n",
       "2795          0.0\n",
       "2808          4.0"
      ]
     },
     "execution_count": 117,
     "metadata": {},
     "output_type": "execute_result"
    }
   ],
   "source": [
    "train_data[(train_data['SKU']==844052)].groupby('geoCluster').agg({'price':lambda x: len([i for i in x if not np.isnan(i)])}).sort_index()"
   ]
  },
  {
   "cell_type": "code",
   "execution_count": 118,
   "metadata": {},
   "outputs": [],
   "source": [
    "geoClusters_spec_prod = train_data[(train_data['SKU']==844052)].groupby('geoCluster')\\\n",
    ".agg({'price':lambda x: len([i for i in x if not np.isnan(i)])}).to_dict()"
   ]
  },
  {
   "cell_type": "code",
   "execution_count": 119,
   "metadata": {},
   "outputs": [],
   "source": [
    "geoClusters_spec_prod = geoClusters_spec_prod['price']"
   ]
  },
  {
   "cell_type": "code",
   "execution_count": 120,
   "metadata": {},
   "outputs": [],
   "source": [
    "geoClusters_spec_prod_sales = [k for k,v in geoClusters_spec_prod.items() if v>0]"
   ]
  },
  {
   "cell_type": "code",
   "execution_count": 121,
   "metadata": {},
   "outputs": [
    {
     "data": {
      "text/plain": [
       "(Timestamp('2020-01-01 00:00:00'), Timestamp('2021-07-19 00:00:00'))"
      ]
     },
     "execution_count": 121,
     "metadata": {},
     "output_type": "execute_result"
    }
   ],
   "source": [
    "train_data[train_data['geoCluster'].isin(geoClusters_spec_prod_sales)].date.min(), train_data[train_data['geoCluster'].isin(geoClusters_spec_prod_sales)].date.max()"
   ]
  },
  {
   "cell_type": "code",
   "execution_count": 122,
   "metadata": {},
   "outputs": [],
   "source": [
    "geoClusters_spec_no_prod_sales = [k for k,v in geoClusters_spec_prod.items() if v==0]"
   ]
  },
  {
   "cell_type": "code",
   "execution_count": 123,
   "metadata": {},
   "outputs": [
    {
     "data": {
      "text/plain": [
       "(Timestamp('2020-01-01 00:00:00'), Timestamp('2021-07-19 00:00:00'))"
      ]
     },
     "execution_count": 123,
     "metadata": {},
     "output_type": "execute_result"
    }
   ],
   "source": [
    "train_data[train_data['geoCluster'].isin(geoClusters_spec_no_prod_sales)].date.min(), train_data[train_data['geoCluster'].isin(geoClusters_spec_no_prod_sales)].date.max()"
   ]
  },
  {
   "cell_type": "code",
   "execution_count": 124,
   "metadata": {},
   "outputs": [
    {
     "data": {
      "text/plain": [
       "(Timestamp('2021-06-03 00:00:00'), Timestamp('2021-07-19 00:00:00'))"
      ]
     },
     "execution_count": 124,
     "metadata": {},
     "output_type": "execute_result"
    }
   ],
   "source": [
    "train_data[(train_data['geoCluster'].isin(geoClusters_spec_prod_sales)) & (train_data['SKU']==844052)].date.min(),\\\n",
    "train_data[(train_data['geoCluster'].isin(geoClusters_spec_prod_sales)) & (train_data['SKU']==844052)].date.max()\n"
   ]
  },
  {
   "cell_type": "code",
   "execution_count": 125,
   "metadata": {},
   "outputs": [
    {
     "data": {
      "text/plain": [
       "(Timestamp('2020-01-01 00:00:00'), Timestamp('2021-07-19 00:00:00'))"
      ]
     },
     "execution_count": 125,
     "metadata": {},
     "output_type": "execute_result"
    }
   ],
   "source": [
    "train_data[(train_data['geoCluster'].isin(geoClusters_spec_no_prod_sales)) & (train_data['SKU']==844052)].date.min(),\\\n",
    "train_data[(train_data['geoCluster'].isin(geoClusters_spec_no_prod_sales)) & (train_data['SKU']==844052)].date.max()\n"
   ]
  },
  {
   "cell_type": "code",
   "execution_count": 126,
   "metadata": {},
   "outputs": [],
   "source": [
    "### filling with mean"
   ]
  },
  {
   "cell_type": "code",
   "execution_count": 130,
   "metadata": {},
   "outputs": [],
   "source": [
    "list_price = train_data.groupby('SKU').agg({'price':list})"
   ]
  },
  {
   "cell_type": "code",
   "execution_count": 132,
   "metadata": {},
   "outputs": [],
   "source": [
    "list_price['filter'] = list_price.price.apply(lambda x: all([np.isnan(i) for i in x ]))"
   ]
  },
  {
   "cell_type": "code",
   "execution_count": 133,
   "metadata": {},
   "outputs": [
    {
     "data": {
      "text/plain": [
       "5"
      ]
     },
     "execution_count": 133,
     "metadata": {},
     "output_type": "execute_result"
    }
   ],
   "source": [
    "list_price['filter'].sum()"
   ]
  },
  {
   "cell_type": "code",
   "execution_count": 134,
   "metadata": {},
   "outputs": [],
   "source": [
    "list_price = list_price[list_price['filter']==True]"
   ]
  },
  {
   "cell_type": "code",
   "execution_count": 142,
   "metadata": {},
   "outputs": [],
   "source": [
    "list_price.reset_index(inplace=True)"
   ]
  },
  {
   "cell_type": "code",
   "execution_count": 139,
   "metadata": {},
   "outputs": [],
   "source": [
    "list_price[['SKU']].merge(train_data, how='left').to_csv('no_price.csv',index=False)"
   ]
  },
  {
   "cell_type": "code",
   "execution_count": 145,
   "metadata": {},
   "outputs": [
    {
     "data": {
      "text/plain": [
       "array(['Йогурты', 'Десерты молочные', 'Творог'], dtype=object)"
      ]
     },
     "execution_count": 145,
     "metadata": {},
     "output_type": "execute_result"
    }
   ],
   "source": [
    "train_data[train_data['SKU'].isin(list_price['SKU'].unique())]['productCategory_caption_RU'].unique()"
   ]
  },
  {
   "cell_type": "code",
   "execution_count": 148,
   "metadata": {},
   "outputs": [
    {
     "data": {
      "text/plain": [
       "array([179], dtype=uint8)"
      ]
     },
     "execution_count": 148,
     "metadata": {},
     "output_type": "execute_result"
    }
   ],
   "source": [
    "train_data[train_data['SKU'].isin(list_price['SKU'].unique())]['commodity_group'].unique()"
   ]
  },
  {
   "cell_type": "code",
   "execution_count": 159,
   "metadata": {},
   "outputs": [
    {
     "name": "stderr",
     "output_type": "stream",
     "text": [
      "100%|██████████| 55/55 [00:18<00:00,  2.95it/s]\n"
     ]
    }
   ],
   "source": [
    "for i in tqdm.tqdm(with_nans_sku):\n",
    "    mean_price = train_data[train_data['SKU']==i]['price'].mean()\n",
    "    if np.isnan(mean_price):\n",
    "        categories = train_data[train_data['SKU']==i][['cityId','productCategory_caption_RU']].drop_duplicates().values\n",
    "        cities, captions = categories[:,0], categories[:,1]\n",
    "        mean_price = train_data[(train_data['cityId'].isin(cities)) & (train_data['productCategory_caption_RU'].isin(captions))]['price'].mean()\n",
    "    train_data.loc[train_data['SKU']==i, 'price'] = mean_price"
   ]
  },
  {
   "cell_type": "code",
   "execution_count": 160,
   "metadata": {},
   "outputs": [
    {
     "data": {
      "text/plain": [
       "0"
      ]
     },
     "execution_count": 160,
     "metadata": {},
     "output_type": "execute_result"
    }
   ],
   "source": [
    "train_data.price.isna().sum()"
   ]
  },
  {
   "cell_type": "markdown",
   "metadata": {},
   "source": [
    "### revanue feature and analysis"
   ]
  },
  {
   "cell_type": "code",
   "execution_count": 165,
   "metadata": {},
   "outputs": [
    {
     "data": {
      "text/plain": [
       "array(['г', 'л', 'шт', 'кг', 'мл'], dtype=object)"
      ]
     },
     "execution_count": 165,
     "metadata": {},
     "output_type": "execute_result"
    }
   ],
   "source": [
    "train_data['lagerUnitType_caption'].unique()"
   ]
  },
  {
   "cell_type": "code",
   "execution_count": 166,
   "metadata": {},
   "outputs": [
    {
     "data": {
      "text/html": [
       "<div>\n",
       "<style scoped>\n",
       "    .dataframe tbody tr th:only-of-type {\n",
       "        vertical-align: middle;\n",
       "    }\n",
       "\n",
       "    .dataframe tbody tr th {\n",
       "        vertical-align: top;\n",
       "    }\n",
       "\n",
       "    .dataframe thead th {\n",
       "        text-align: right;\n",
       "    }\n",
       "</style>\n",
       "<table border=\"1\" class=\"dataframe\">\n",
       "  <thead>\n",
       "    <tr style=\"text-align: right;\">\n",
       "      <th></th>\n",
       "      <th>ID</th>\n",
       "      <th>geoCluster</th>\n",
       "      <th>SKU</th>\n",
       "      <th>date</th>\n",
       "      <th>sales</th>\n",
       "      <th>month</th>\n",
       "      <th>day</th>\n",
       "      <th>weekday</th>\n",
       "      <th>week_num</th>\n",
       "      <th>lagerUnitType_caption</th>\n",
       "      <th>commodity_group</th>\n",
       "      <th>productCategory_caption_RU</th>\n",
       "      <th>cityId</th>\n",
       "      <th>price</th>\n",
       "      <th>revanue</th>\n",
       "    </tr>\n",
       "  </thead>\n",
       "  <tbody>\n",
       "    <tr>\n",
       "      <th>0</th>\n",
       "      <td>RR27956447</td>\n",
       "      <td>21</td>\n",
       "      <td>32485</td>\n",
       "      <td>2021-07-08</td>\n",
       "      <td>0.9</td>\n",
       "      <td>7</td>\n",
       "      <td>8</td>\n",
       "      <td>3</td>\n",
       "      <td>27</td>\n",
       "      <td>г</td>\n",
       "      <td>170</td>\n",
       "      <td>Банан</td>\n",
       "      <td>1</td>\n",
       "      <td>39.69</td>\n",
       "      <td>35.721</td>\n",
       "    </tr>\n",
       "    <tr>\n",
       "      <th>1</th>\n",
       "      <td>RR27956448</td>\n",
       "      <td>21</td>\n",
       "      <td>32485</td>\n",
       "      <td>2021-07-09</td>\n",
       "      <td>0.0</td>\n",
       "      <td>7</td>\n",
       "      <td>9</td>\n",
       "      <td>4</td>\n",
       "      <td>27</td>\n",
       "      <td>г</td>\n",
       "      <td>170</td>\n",
       "      <td>Банан</td>\n",
       "      <td>1</td>\n",
       "      <td>39.69</td>\n",
       "      <td>0.000</td>\n",
       "    </tr>\n",
       "    <tr>\n",
       "      <th>2</th>\n",
       "      <td>RR27956449</td>\n",
       "      <td>21</td>\n",
       "      <td>32485</td>\n",
       "      <td>2021-07-10</td>\n",
       "      <td>0.0</td>\n",
       "      <td>7</td>\n",
       "      <td>10</td>\n",
       "      <td>5</td>\n",
       "      <td>27</td>\n",
       "      <td>г</td>\n",
       "      <td>170</td>\n",
       "      <td>Банан</td>\n",
       "      <td>1</td>\n",
       "      <td>39.69</td>\n",
       "      <td>0.000</td>\n",
       "    </tr>\n",
       "    <tr>\n",
       "      <th>3</th>\n",
       "      <td>RR27956450</td>\n",
       "      <td>21</td>\n",
       "      <td>32485</td>\n",
       "      <td>2021-07-11</td>\n",
       "      <td>0.0</td>\n",
       "      <td>7</td>\n",
       "      <td>11</td>\n",
       "      <td>6</td>\n",
       "      <td>27</td>\n",
       "      <td>г</td>\n",
       "      <td>170</td>\n",
       "      <td>Банан</td>\n",
       "      <td>1</td>\n",
       "      <td>39.69</td>\n",
       "      <td>0.000</td>\n",
       "    </tr>\n",
       "    <tr>\n",
       "      <th>4</th>\n",
       "      <td>RR27956451</td>\n",
       "      <td>21</td>\n",
       "      <td>32485</td>\n",
       "      <td>2021-07-12</td>\n",
       "      <td>0.0</td>\n",
       "      <td>7</td>\n",
       "      <td>12</td>\n",
       "      <td>0</td>\n",
       "      <td>28</td>\n",
       "      <td>г</td>\n",
       "      <td>170</td>\n",
       "      <td>Банан</td>\n",
       "      <td>1</td>\n",
       "      <td>39.69</td>\n",
       "      <td>0.000</td>\n",
       "    </tr>\n",
       "  </tbody>\n",
       "</table>\n",
       "</div>"
      ],
      "text/plain": [
       "           ID  geoCluster    SKU       date  sales  month  day  weekday  \\\n",
       "0  RR27956447          21  32485 2021-07-08    0.9      7    8        3   \n",
       "1  RR27956448          21  32485 2021-07-09    0.0      7    9        4   \n",
       "2  RR27956449          21  32485 2021-07-10    0.0      7   10        5   \n",
       "3  RR27956450          21  32485 2021-07-11    0.0      7   11        6   \n",
       "4  RR27956451          21  32485 2021-07-12    0.0      7   12        0   \n",
       "\n",
       "   week_num lagerUnitType_caption  commodity_group productCategory_caption_RU  \\\n",
       "0        27                     г              170                      Банан   \n",
       "1        27                     г              170                      Банан   \n",
       "2        27                     г              170                      Банан   \n",
       "3        27                     г              170                      Банан   \n",
       "4        28                     г              170                      Банан   \n",
       "\n",
       "   cityId  price  revanue  \n",
       "0       1  39.69   35.721  \n",
       "1       1  39.69    0.000  \n",
       "2       1  39.69    0.000  \n",
       "3       1  39.69    0.000  \n",
       "4       1  39.69    0.000  "
      ]
     },
     "execution_count": 166,
     "metadata": {},
     "output_type": "execute_result"
    }
   ],
   "source": [
    "train_data[train_data['lagerUnitType_caption']=='г'].head(5)"
   ]
  },
  {
   "cell_type": "code",
   "execution_count": 170,
   "metadata": {},
   "outputs": [
    {
     "data": {
      "text/plain": [
       "Index(['SKU', 'productCategoryId', 'productCategory_caption_UKR',\n",
       "       'productCategory_caption_RU', 'productCategory_caption_ENG',\n",
       "       'productTypeId', 'productType_caption_UKR', 'productType_caption_RU',\n",
       "       'productType_caption_ENG', 'brandId', 'lagerUnitQuantity',\n",
       "       'lagerUnitTypeId', 'lagerUnitType_caption', 'trademark',\n",
       "       'countryOfOrigin', 'countryOfOrigin_caption', 'commodity_group',\n",
       "       'commodity_group_caption_UKR', 'commodity_group_caption_RU',\n",
       "       'commodity_group_caption_ENG'],\n",
       "      dtype='object')"
      ]
     },
     "execution_count": 170,
     "metadata": {},
     "output_type": "execute_result"
    }
   ],
   "source": [
    "sku_meta.columns"
   ]
  },
  {
   "cell_type": "code",
   "execution_count": 171,
   "metadata": {},
   "outputs": [],
   "source": [
    "train_data = train_data.merge(sku_meta[['SKU','lagerUnitQuantity','lagerUnitTypeId']], on=['SKU'], how='inner')"
   ]
  },
  {
   "cell_type": "code",
   "execution_count": 172,
   "metadata": {},
   "outputs": [],
   "source": [
    "train_data = change_type(train_data, 'lagerUnitTypeId', 'uint8')"
   ]
  },
  {
   "cell_type": "code",
   "execution_count": 175,
   "metadata": {},
   "outputs": [
    {
     "data": {
      "text/html": [
       "<div>\n",
       "<style scoped>\n",
       "    .dataframe tbody tr th:only-of-type {\n",
       "        vertical-align: middle;\n",
       "    }\n",
       "\n",
       "    .dataframe tbody tr th {\n",
       "        vertical-align: top;\n",
       "    }\n",
       "\n",
       "    .dataframe thead th {\n",
       "        text-align: right;\n",
       "    }\n",
       "</style>\n",
       "<table border=\"1\" class=\"dataframe\">\n",
       "  <thead>\n",
       "    <tr style=\"text-align: right;\">\n",
       "      <th></th>\n",
       "      <th>ID</th>\n",
       "      <th>geoCluster</th>\n",
       "      <th>SKU</th>\n",
       "      <th>date</th>\n",
       "      <th>sales</th>\n",
       "      <th>month</th>\n",
       "      <th>day</th>\n",
       "      <th>weekday</th>\n",
       "      <th>week_num</th>\n",
       "      <th>lagerUnitType_caption</th>\n",
       "      <th>commodity_group</th>\n",
       "      <th>productCategory_caption_RU</th>\n",
       "      <th>cityId</th>\n",
       "      <th>price</th>\n",
       "      <th>revanue</th>\n",
       "      <th>lagerUnitQuantity</th>\n",
       "      <th>lagerUnitTypeId</th>\n",
       "    </tr>\n",
       "  </thead>\n",
       "  <tbody>\n",
       "    <tr>\n",
       "      <th>0</th>\n",
       "      <td>RR27956447</td>\n",
       "      <td>21</td>\n",
       "      <td>32485</td>\n",
       "      <td>2021-07-08</td>\n",
       "      <td>0.9</td>\n",
       "      <td>7</td>\n",
       "      <td>8</td>\n",
       "      <td>3</td>\n",
       "      <td>27</td>\n",
       "      <td>г</td>\n",
       "      <td>170</td>\n",
       "      <td>Банан</td>\n",
       "      <td>1</td>\n",
       "      <td>39.69</td>\n",
       "      <td>35.721</td>\n",
       "      <td>1.0</td>\n",
       "      <td>1</td>\n",
       "    </tr>\n",
       "    <tr>\n",
       "      <th>1</th>\n",
       "      <td>RR27956448</td>\n",
       "      <td>21</td>\n",
       "      <td>32485</td>\n",
       "      <td>2021-07-09</td>\n",
       "      <td>0.0</td>\n",
       "      <td>7</td>\n",
       "      <td>9</td>\n",
       "      <td>4</td>\n",
       "      <td>27</td>\n",
       "      <td>г</td>\n",
       "      <td>170</td>\n",
       "      <td>Банан</td>\n",
       "      <td>1</td>\n",
       "      <td>39.69</td>\n",
       "      <td>0.000</td>\n",
       "      <td>1.0</td>\n",
       "      <td>1</td>\n",
       "    </tr>\n",
       "    <tr>\n",
       "      <th>2</th>\n",
       "      <td>RR27956449</td>\n",
       "      <td>21</td>\n",
       "      <td>32485</td>\n",
       "      <td>2021-07-10</td>\n",
       "      <td>0.0</td>\n",
       "      <td>7</td>\n",
       "      <td>10</td>\n",
       "      <td>5</td>\n",
       "      <td>27</td>\n",
       "      <td>г</td>\n",
       "      <td>170</td>\n",
       "      <td>Банан</td>\n",
       "      <td>1</td>\n",
       "      <td>39.69</td>\n",
       "      <td>0.000</td>\n",
       "      <td>1.0</td>\n",
       "      <td>1</td>\n",
       "    </tr>\n",
       "    <tr>\n",
       "      <th>3</th>\n",
       "      <td>RR27956450</td>\n",
       "      <td>21</td>\n",
       "      <td>32485</td>\n",
       "      <td>2021-07-11</td>\n",
       "      <td>0.0</td>\n",
       "      <td>7</td>\n",
       "      <td>11</td>\n",
       "      <td>6</td>\n",
       "      <td>27</td>\n",
       "      <td>г</td>\n",
       "      <td>170</td>\n",
       "      <td>Банан</td>\n",
       "      <td>1</td>\n",
       "      <td>39.69</td>\n",
       "      <td>0.000</td>\n",
       "      <td>1.0</td>\n",
       "      <td>1</td>\n",
       "    </tr>\n",
       "    <tr>\n",
       "      <th>4</th>\n",
       "      <td>RR27956451</td>\n",
       "      <td>21</td>\n",
       "      <td>32485</td>\n",
       "      <td>2021-07-12</td>\n",
       "      <td>0.0</td>\n",
       "      <td>7</td>\n",
       "      <td>12</td>\n",
       "      <td>0</td>\n",
       "      <td>28</td>\n",
       "      <td>г</td>\n",
       "      <td>170</td>\n",
       "      <td>Банан</td>\n",
       "      <td>1</td>\n",
       "      <td>39.69</td>\n",
       "      <td>0.000</td>\n",
       "      <td>1.0</td>\n",
       "      <td>1</td>\n",
       "    </tr>\n",
       "  </tbody>\n",
       "</table>\n",
       "</div>"
      ],
      "text/plain": [
       "           ID  geoCluster    SKU       date  sales  month  day  weekday  \\\n",
       "0  RR27956447          21  32485 2021-07-08    0.9      7    8        3   \n",
       "1  RR27956448          21  32485 2021-07-09    0.0      7    9        4   \n",
       "2  RR27956449          21  32485 2021-07-10    0.0      7   10        5   \n",
       "3  RR27956450          21  32485 2021-07-11    0.0      7   11        6   \n",
       "4  RR27956451          21  32485 2021-07-12    0.0      7   12        0   \n",
       "\n",
       "   week_num lagerUnitType_caption  commodity_group productCategory_caption_RU  \\\n",
       "0        27                     г              170                      Банан   \n",
       "1        27                     г              170                      Банан   \n",
       "2        27                     г              170                      Банан   \n",
       "3        27                     г              170                      Банан   \n",
       "4        28                     г              170                      Банан   \n",
       "\n",
       "   cityId  price  revanue  lagerUnitQuantity  lagerUnitTypeId  \n",
       "0       1  39.69   35.721                1.0                1  \n",
       "1       1  39.69    0.000                1.0                1  \n",
       "2       1  39.69    0.000                1.0                1  \n",
       "3       1  39.69    0.000                1.0                1  \n",
       "4       1  39.69    0.000                1.0                1  "
      ]
     },
     "execution_count": 175,
     "metadata": {},
     "output_type": "execute_result"
    }
   ],
   "source": [
    "train_data[train_data['lagerUnitType_caption']=='г'].head(5)"
   ]
  },
  {
   "cell_type": "code",
   "execution_count": 179,
   "metadata": {},
   "outputs": [],
   "source": [
    "train_data['counts'] = train_data['sales']/train_data['lagerUnitQuantity']"
   ]
  },
  {
   "cell_type": "code",
   "execution_count": 181,
   "metadata": {},
   "outputs": [
    {
     "data": {
      "text/plain": [
       "801.0"
      ]
     },
     "execution_count": 181,
     "metadata": {},
     "output_type": "execute_result"
    }
   ],
   "source": [
    "train_data['counts'].max()"
   ]
  },
  {
   "cell_type": "code",
   "execution_count": 182,
   "metadata": {},
   "outputs": [],
   "source": [
    "train_data['revanue'] = train_data['counts']*train_data['price']"
   ]
  },
  {
   "cell_type": "code",
   "execution_count": 183,
   "metadata": {},
   "outputs": [
    {
     "data": {
      "text/plain": [
       "7246.89"
      ]
     },
     "execution_count": 183,
     "metadata": {},
     "output_type": "execute_result"
    }
   ],
   "source": [
    "train_data['price'].max()"
   ]
  },
  {
   "cell_type": "code",
   "execution_count": 185,
   "metadata": {},
   "outputs": [
    {
     "name": "stdout",
     "output_type": "stream",
     "text": [
      "<class 'pandas.core.frame.DataFrame'>\n",
      "Int64Index: 27956445 entries, 0 to 27956444\n",
      "Data columns (total 18 columns):\n",
      " #   Column                      Dtype         \n",
      "---  ------                      -----         \n",
      " 0   ID                          object        \n",
      " 1   geoCluster                  uint16        \n",
      " 2   SKU                         uint32        \n",
      " 3   date                        datetime64[ns]\n",
      " 4   sales                       float64       \n",
      " 5   month                       uint8         \n",
      " 6   day                         uint8         \n",
      " 7   weekday                     uint8         \n",
      " 8   week_num                    uint8         \n",
      " 9   lagerUnitType_caption       object        \n",
      " 10  commodity_group             uint8         \n",
      " 11  productCategory_caption_RU  object        \n",
      " 12  cityId                      uint8         \n",
      " 13  price                       float64       \n",
      " 14  lagerUnitQuantity           float64       \n",
      " 15  lagerUnitTypeId             uint8         \n",
      " 16  counts                      float64       \n",
      " 17  revanue                     float64       \n",
      "dtypes: datetime64[ns](1), float64(5), object(3), uint16(1), uint32(1), uint8(7)\n",
      "memory usage: 2.4+ GB\n"
     ]
    }
   ],
   "source": [
    "train_data.info()"
   ]
  },
  {
   "cell_type": "code",
   "execution_count": 187,
   "metadata": {},
   "outputs": [],
   "source": [
    "train_data.drop(columns='counts',inplace=True)"
   ]
  },
  {
   "cell_type": "code",
   "execution_count": 191,
   "metadata": {},
   "outputs": [
    {
     "data": {
      "text/plain": [
       "54562.56"
      ]
     },
     "execution_count": 191,
     "metadata": {},
     "output_type": "execute_result"
    }
   ],
   "source": [
    "train_data.revanue.max()"
   ]
  },
  {
   "cell_type": "code",
   "execution_count": 192,
   "metadata": {},
   "outputs": [
    {
     "data": {
      "text/plain": [
       "ID                            0\n",
       "geoCluster                    0\n",
       "SKU                           0\n",
       "date                          0\n",
       "sales                         0\n",
       "month                         0\n",
       "day                           0\n",
       "weekday                       0\n",
       "week_num                      0\n",
       "lagerUnitType_caption         0\n",
       "commodity_group               0\n",
       "productCategory_caption_RU    0\n",
       "cityId                        0\n",
       "price                         0\n",
       "lagerUnitQuantity             0\n",
       "lagerUnitTypeId               0\n",
       "revanue                       0\n",
       "dtype: int64"
      ]
     },
     "execution_count": 192,
     "metadata": {},
     "output_type": "execute_result"
    }
   ],
   "source": [
    "train_data.isna().sum()"
   ]
  },
  {
   "cell_type": "code",
   "execution_count": 196,
   "metadata": {},
   "outputs": [],
   "source": [
    "train_data = change_type(train_data, 'sales', 'float32')"
   ]
  },
  {
   "cell_type": "code",
   "execution_count": 197,
   "metadata": {},
   "outputs": [
    {
     "name": "stdout",
     "output_type": "stream",
     "text": [
      "<class 'pandas.core.frame.DataFrame'>\n",
      "Int64Index: 27956445 entries, 0 to 27956444\n",
      "Data columns (total 17 columns):\n",
      " #   Column                      Dtype         \n",
      "---  ------                      -----         \n",
      " 0   ID                          object        \n",
      " 1   geoCluster                  uint16        \n",
      " 2   SKU                         uint32        \n",
      " 3   date                        datetime64[ns]\n",
      " 4   sales                       float32       \n",
      " 5   month                       uint8         \n",
      " 6   day                         uint8         \n",
      " 7   weekday                     uint8         \n",
      " 8   week_num                    uint8         \n",
      " 9   lagerUnitType_caption       object        \n",
      " 10  commodity_group             uint8         \n",
      " 11  productCategory_caption_RU  object        \n",
      " 12  cityId                      uint8         \n",
      " 13  price                       float32       \n",
      " 14  lagerUnitQuantity           float32       \n",
      " 15  lagerUnitTypeId             uint8         \n",
      " 16  revanue                     float32       \n",
      "dtypes: datetime64[ns](1), float32(4), object(3), uint16(1), uint32(1), uint8(7)\n",
      "memory usage: 1.8+ GB\n"
     ]
    }
   ],
   "source": [
    "train_data.info()"
   ]
  },
  {
   "cell_type": "markdown",
   "metadata": {},
   "source": [
    "### analysis of ravenue"
   ]
  },
  {
   "cell_type": "code",
   "execution_count": 205,
   "metadata": {},
   "outputs": [
    {
     "data": {
      "image/png": "[encoded data removed]",
      "text/plain": [
       "<Figure size 432x288 with 1 Axes>"
      ]
     },
     "metadata": {},
     "output_type": "display_data"
    }
   ],
   "source": [
    "train_data.groupby('month').agg({'sales':'sum'}).plot();"
   ]
  },
  {
   "cell_type": "code",
   "execution_count": 200,
   "metadata": {},
   "outputs": [
    {
     "data": {
      "image/png": "[encoded data removed]",
      "text/plain": [
       "<Figure size 432x288 with 1 Axes>"
      ]
     },
     "metadata": {},
     "output_type": "display_data"
    }
   ],
   "source": [
    "train_data.groupby('month').agg({'revanue':'sum'}).plot();"
   ]
  },
  {
   "cell_type": "code",
   "execution_count": 206,
   "metadata": {},
   "outputs": [
    {
     "data": {
      "image/png": "[encoded data removed]",
      "text/plain": [
       "<Figure size 432x288 with 1 Axes>"
      ]
     },
     "metadata": {},
     "output_type": "display_data"
    }
   ],
   "source": [
    "train_data.groupby('week_num').agg({'sales':'sum'}).plot();"
   ]
  },
  {
   "cell_type": "code",
   "execution_count": 202,
   "metadata": {},
   "outputs": [
    {
     "data": {
      "image/png": "[encoded data removed]",
      "text/plain": [
       "<Figure size 432x288 with 1 Axes>"
      ]
     },
     "metadata": {},
     "output_type": "display_data"
    }
   ],
   "source": [
    "train_data.groupby('week_num').agg({'revanue':'sum'}).plot();"
   ]
  },
  {
   "cell_type": "code",
   "execution_count": 207,
   "metadata": {},
   "outputs": [
    {
     "data": {
      "image/png": "[encoded data removed]",
      "text/plain": [
       "<Figure size 432x288 with 1 Axes>"
      ]
     },
     "metadata": {},
     "output_type": "display_data"
    }
   ],
   "source": [
    "train_data.groupby('week_num').agg({'revanue':'mean'}).plot();"
   ]
  },
  {
   "cell_type": "code",
   "execution_count": 208,
   "metadata": {},
   "outputs": [
    {
     "data": {
      "image/png": "[encoded data removed]",
      "text/plain": [
       "<Figure size 432x288 with 1 Axes>"
      ]
     },
     "metadata": {},
     "output_type": "display_data"
    }
   ],
   "source": [
    "train_data.groupby('weekday').agg({'revanue':'mean'}).plot();"
   ]
  },
  {
   "cell_type": "code",
   "execution_count": 210,
   "metadata": {},
   "outputs": [
    {
     "data": {
      "image/png": "[encoded data removed]",
      "text/plain": [
       "<Figure size 432x288 with 1 Axes>"
      ]
     },
     "metadata": {},
     "output_type": "display_data"
    }
   ],
   "source": [
    "train_data.groupby('weekday').agg({'sales':'sum'}).plot();"
   ]
  },
  {
   "cell_type": "code",
   "execution_count": 214,
   "metadata": {},
   "outputs": [
    {
     "data": {
      "text/html": [
       "<div>\n",
       "<style scoped>\n",
       "    .dataframe tbody tr th:only-of-type {\n",
       "        vertical-align: middle;\n",
       "    }\n",
       "\n",
       "    .dataframe tbody tr th {\n",
       "        vertical-align: top;\n",
       "    }\n",
       "\n",
       "    .dataframe thead th {\n",
       "        text-align: right;\n",
       "    }\n",
       "</style>\n",
       "<table border=\"1\" class=\"dataframe\">\n",
       "  <thead>\n",
       "    <tr style=\"text-align: right;\">\n",
       "      <th></th>\n",
       "      <th>sales</th>\n",
       "    </tr>\n",
       "    <tr>\n",
       "      <th>geoCluster</th>\n",
       "      <th></th>\n",
       "    </tr>\n",
       "  </thead>\n",
       "  <tbody>\n",
       "    <tr>\n",
       "      <th>2054</th>\n",
       "      <td>166547.750000</td>\n",
       "    </tr>\n",
       "    <tr>\n",
       "      <th>2043</th>\n",
       "      <td>155805.953125</td>\n",
       "    </tr>\n",
       "    <tr>\n",
       "      <th>2735</th>\n",
       "      <td>144372.843750</td>\n",
       "    </tr>\n",
       "    <tr>\n",
       "      <th>2049</th>\n",
       "      <td>133697.453125</td>\n",
       "    </tr>\n",
       "    <tr>\n",
       "      <th>2022</th>\n",
       "      <td>111406.937500</td>\n",
       "    </tr>\n",
       "    <tr>\n",
       "      <th>2149</th>\n",
       "      <td>105604.242188</td>\n",
       "    </tr>\n",
       "    <tr>\n",
       "      <th>1935</th>\n",
       "      <td>105348.507812</td>\n",
       "    </tr>\n",
       "    <tr>\n",
       "      <th>2021</th>\n",
       "      <td>102543.117188</td>\n",
       "    </tr>\n",
       "    <tr>\n",
       "      <th>2056</th>\n",
       "      <td>97179.359375</td>\n",
       "    </tr>\n",
       "    <tr>\n",
       "      <th>2031</th>\n",
       "      <td>85398.828125</td>\n",
       "    </tr>\n",
       "  </tbody>\n",
       "</table>\n",
       "</div>"
      ],
      "text/plain": [
       "                    sales\n",
       "geoCluster               \n",
       "2054        166547.750000\n",
       "2043        155805.953125\n",
       "2735        144372.843750\n",
       "2049        133697.453125\n",
       "2022        111406.937500\n",
       "2149        105604.242188\n",
       "1935        105348.507812\n",
       "2021        102543.117188\n",
       "2056         97179.359375\n",
       "2031         85398.828125"
      ]
     },
     "execution_count": 214,
     "metadata": {},
     "output_type": "execute_result"
    }
   ],
   "source": [
    "train_data.groupby('geoCluster').agg({'sales':'sum'}).sort_values(by='sales')[::-1][:10]"
   ]
  },
  {
   "cell_type": "code",
   "execution_count": 217,
   "metadata": {},
   "outputs": [
    {
     "data": {
      "text/html": [
       "<div>\n",
       "<style scoped>\n",
       "    .dataframe tbody tr th:only-of-type {\n",
       "        vertical-align: middle;\n",
       "    }\n",
       "\n",
       "    .dataframe tbody tr th {\n",
       "        vertical-align: top;\n",
       "    }\n",
       "\n",
       "    .dataframe thead th {\n",
       "        text-align: right;\n",
       "    }\n",
       "</style>\n",
       "<table border=\"1\" class=\"dataframe\">\n",
       "  <thead>\n",
       "    <tr style=\"text-align: right;\">\n",
       "      <th></th>\n",
       "      <th>revanue</th>\n",
       "    </tr>\n",
       "    <tr>\n",
       "      <th>geoCluster</th>\n",
       "      <th></th>\n",
       "    </tr>\n",
       "  </thead>\n",
       "  <tbody>\n",
       "    <tr>\n",
       "      <th>2054</th>\n",
       "      <td>4770067.00</td>\n",
       "    </tr>\n",
       "    <tr>\n",
       "      <th>2735</th>\n",
       "      <td>4423000.50</td>\n",
       "    </tr>\n",
       "    <tr>\n",
       "      <th>2043</th>\n",
       "      <td>4202479.50</td>\n",
       "    </tr>\n",
       "    <tr>\n",
       "      <th>2049</th>\n",
       "      <td>3682008.75</td>\n",
       "    </tr>\n",
       "    <tr>\n",
       "      <th>1935</th>\n",
       "      <td>3152000.25</td>\n",
       "    </tr>\n",
       "    <tr>\n",
       "      <th>2149</th>\n",
       "      <td>3024535.75</td>\n",
       "    </tr>\n",
       "    <tr>\n",
       "      <th>2022</th>\n",
       "      <td>2878047.75</td>\n",
       "    </tr>\n",
       "    <tr>\n",
       "      <th>2031</th>\n",
       "      <td>2675516.00</td>\n",
       "    </tr>\n",
       "    <tr>\n",
       "      <th>2021</th>\n",
       "      <td>2587044.00</td>\n",
       "    </tr>\n",
       "    <tr>\n",
       "      <th>2056</th>\n",
       "      <td>2477402.75</td>\n",
       "    </tr>\n",
       "  </tbody>\n",
       "</table>\n",
       "</div>"
      ],
      "text/plain": [
       "               revanue\n",
       "geoCluster            \n",
       "2054        4770067.00\n",
       "2735        4423000.50\n",
       "2043        4202479.50\n",
       "2049        3682008.75\n",
       "1935        3152000.25\n",
       "2149        3024535.75\n",
       "2022        2878047.75\n",
       "2031        2675516.00\n",
       "2021        2587044.00\n",
       "2056        2477402.75"
      ]
     },
     "execution_count": 217,
     "metadata": {},
     "output_type": "execute_result"
    }
   ],
   "source": [
    "train_data.groupby('geoCluster').agg({'revanue':'sum'}).sort_values(by='revanue')[::-1][:10]"
   ]
  },
  {
   "cell_type": "markdown",
   "metadata": {},
   "source": [
    "### analysis of date blocks"
   ]
  },
  {
   "cell_type": "code",
   "execution_count": 222,
   "metadata": {},
   "outputs": [
    {
     "data": {
      "text/plain": [
       "30    222326\n",
       "31    227813\n",
       "32    232363\n",
       "33    237139\n",
       "34    241971\n",
       "35    246734\n",
       "36    251779\n",
       "37    256565\n",
       "38    261961\n",
       "39    267483\n",
       "Name: week_num, dtype: int64"
      ]
     },
     "execution_count": 222,
     "metadata": {},
     "output_type": "execute_result"
    }
   ],
   "source": [
    "train_data['week_num'].value_counts().sort_values()[:10]"
   ]
  },
  {
   "cell_type": "code",
   "execution_count": 224,
   "metadata": {},
   "outputs": [
    {
     "data": {
      "text/plain": [
       "Timestamp('2021-07-19 00:00:00')"
      ]
     },
     "execution_count": 224,
     "metadata": {},
     "output_type": "execute_result"
    }
   ],
   "source": [
    "train_data['date'].max()"
   ]
  },
  {
   "cell_type": "code",
   "execution_count": 225,
   "metadata": {},
   "outputs": [
    {
     "data": {
      "text/html": [
       "<div>\n",
       "<style scoped>\n",
       "    .dataframe tbody tr th:only-of-type {\n",
       "        vertical-align: middle;\n",
       "    }\n",
       "\n",
       "    .dataframe tbody tr th {\n",
       "        vertical-align: top;\n",
       "    }\n",
       "\n",
       "    .dataframe thead th {\n",
       "        text-align: right;\n",
       "    }\n",
       "</style>\n",
       "<table border=\"1\" class=\"dataframe\">\n",
       "  <thead>\n",
       "    <tr style=\"text-align: right;\">\n",
       "      <th></th>\n",
       "      <th>ID</th>\n",
       "      <th>geoCluster</th>\n",
       "      <th>SKU</th>\n",
       "      <th>date</th>\n",
       "      <th>sales</th>\n",
       "      <th>month</th>\n",
       "      <th>day</th>\n",
       "      <th>weekday</th>\n",
       "      <th>week_num</th>\n",
       "      <th>lagerUnitType_caption</th>\n",
       "      <th>commodity_group</th>\n",
       "      <th>productCategory_caption_RU</th>\n",
       "      <th>cityId</th>\n",
       "      <th>price</th>\n",
       "      <th>lagerUnitQuantity</th>\n",
       "      <th>lagerUnitTypeId</th>\n",
       "      <th>revanue</th>\n",
       "    </tr>\n",
       "  </thead>\n",
       "  <tbody>\n",
       "    <tr>\n",
       "      <th>11</th>\n",
       "      <td>RR27956458</td>\n",
       "      <td>21</td>\n",
       "      <td>32485</td>\n",
       "      <td>2021-07-19</td>\n",
       "      <td>0.0</td>\n",
       "      <td>7</td>\n",
       "      <td>19</td>\n",
       "      <td>0</td>\n",
       "      <td>29</td>\n",
       "      <td>г</td>\n",
       "      <td>170</td>\n",
       "      <td>Банан</td>\n",
       "      <td>1</td>\n",
       "      <td>39.689999</td>\n",
       "      <td>1.0</td>\n",
       "      <td>1</td>\n",
       "      <td>0.0</td>\n",
       "    </tr>\n",
       "    <tr>\n",
       "      <th>26</th>\n",
       "      <td>RR27956473</td>\n",
       "      <td>92</td>\n",
       "      <td>32485</td>\n",
       "      <td>2021-07-19</td>\n",
       "      <td>0.0</td>\n",
       "      <td>7</td>\n",
       "      <td>19</td>\n",
       "      <td>0</td>\n",
       "      <td>29</td>\n",
       "      <td>г</td>\n",
       "      <td>170</td>\n",
       "      <td>Банан</td>\n",
       "      <td>1</td>\n",
       "      <td>38.290001</td>\n",
       "      <td>1.0</td>\n",
       "      <td>1</td>\n",
       "      <td>0.0</td>\n",
       "    </tr>\n",
       "    <tr>\n",
       "      <th>80</th>\n",
       "      <td>RR27956542</td>\n",
       "      <td>112</td>\n",
       "      <td>32485</td>\n",
       "      <td>2021-07-19</td>\n",
       "      <td>0.0</td>\n",
       "      <td>7</td>\n",
       "      <td>19</td>\n",
       "      <td>0</td>\n",
       "      <td>29</td>\n",
       "      <td>г</td>\n",
       "      <td>170</td>\n",
       "      <td>Банан</td>\n",
       "      <td>1</td>\n",
       "      <td>45.389999</td>\n",
       "      <td>1.0</td>\n",
       "      <td>1</td>\n",
       "      <td>0.0</td>\n",
       "    </tr>\n",
       "    <tr>\n",
       "      <th>171</th>\n",
       "      <td>RR27956680</td>\n",
       "      <td>131</td>\n",
       "      <td>32485</td>\n",
       "      <td>2021-07-19</td>\n",
       "      <td>0.0</td>\n",
       "      <td>7</td>\n",
       "      <td>19</td>\n",
       "      <td>0</td>\n",
       "      <td>29</td>\n",
       "      <td>г</td>\n",
       "      <td>170</td>\n",
       "      <td>Банан</td>\n",
       "      <td>1</td>\n",
       "      <td>43.990002</td>\n",
       "      <td>1.0</td>\n",
       "      <td>1</td>\n",
       "      <td>0.0</td>\n",
       "    </tr>\n",
       "    <tr>\n",
       "      <th>256</th>\n",
       "      <td>RR27956765</td>\n",
       "      <td>148</td>\n",
       "      <td>32485</td>\n",
       "      <td>2021-07-19</td>\n",
       "      <td>0.0</td>\n",
       "      <td>7</td>\n",
       "      <td>19</td>\n",
       "      <td>0</td>\n",
       "      <td>29</td>\n",
       "      <td>г</td>\n",
       "      <td>170</td>\n",
       "      <td>Банан</td>\n",
       "      <td>1</td>\n",
       "      <td>43.990002</td>\n",
       "      <td>1.0</td>\n",
       "      <td>1</td>\n",
       "      <td>0.0</td>\n",
       "    </tr>\n",
       "    <tr>\n",
       "      <th>...</th>\n",
       "      <td>...</td>\n",
       "      <td>...</td>\n",
       "      <td>...</td>\n",
       "      <td>...</td>\n",
       "      <td>...</td>\n",
       "      <td>...</td>\n",
       "      <td>...</td>\n",
       "      <td>...</td>\n",
       "      <td>...</td>\n",
       "      <td>...</td>\n",
       "      <td>...</td>\n",
       "      <td>...</td>\n",
       "      <td>...</td>\n",
       "      <td>...</td>\n",
       "      <td>...</td>\n",
       "      <td>...</td>\n",
       "      <td>...</td>\n",
       "    </tr>\n",
       "    <tr>\n",
       "      <th>27956389</th>\n",
       "      <td>RR55912696</td>\n",
       "      <td>3230</td>\n",
       "      <td>802919</td>\n",
       "      <td>2021-07-19</td>\n",
       "      <td>0.0</td>\n",
       "      <td>7</td>\n",
       "      <td>19</td>\n",
       "      <td>0</td>\n",
       "      <td>29</td>\n",
       "      <td>кг</td>\n",
       "      <td>76</td>\n",
       "      <td>Хлеб подовый пшеничный с добавками собств произв</td>\n",
       "      <td>0</td>\n",
       "      <td>80.989998</td>\n",
       "      <td>1.0</td>\n",
       "      <td>2</td>\n",
       "      <td>0.0</td>\n",
       "    </tr>\n",
       "    <tr>\n",
       "      <th>27956403</th>\n",
       "      <td>RR55912780</td>\n",
       "      <td>3230</td>\n",
       "      <td>802927</td>\n",
       "      <td>2021-07-19</td>\n",
       "      <td>0.0</td>\n",
       "      <td>7</td>\n",
       "      <td>19</td>\n",
       "      <td>0</td>\n",
       "      <td>29</td>\n",
       "      <td>кг</td>\n",
       "      <td>76</td>\n",
       "      <td>Хлеб подовый пшеничный с добавками собств произв</td>\n",
       "      <td>0</td>\n",
       "      <td>161.990005</td>\n",
       "      <td>1.0</td>\n",
       "      <td>2</td>\n",
       "      <td>0.0</td>\n",
       "    </tr>\n",
       "    <tr>\n",
       "      <th>27956420</th>\n",
       "      <td>RR55912815</td>\n",
       "      <td>3230</td>\n",
       "      <td>803415</td>\n",
       "      <td>2021-07-19</td>\n",
       "      <td>0.0</td>\n",
       "      <td>7</td>\n",
       "      <td>19</td>\n",
       "      <td>0</td>\n",
       "      <td>29</td>\n",
       "      <td>кг</td>\n",
       "      <td>76</td>\n",
       "      <td>Печенье руч работы пекарня без добав собств пр...</td>\n",
       "      <td>0</td>\n",
       "      <td>497.089996</td>\n",
       "      <td>1.0</td>\n",
       "      <td>2</td>\n",
       "      <td>0.0</td>\n",
       "    </tr>\n",
       "    <tr>\n",
       "      <th>27956426</th>\n",
       "      <td>RR50630856</td>\n",
       "      <td>1677</td>\n",
       "      <td>871159</td>\n",
       "      <td>2021-07-19</td>\n",
       "      <td>0.0</td>\n",
       "      <td>7</td>\n",
       "      <td>19</td>\n",
       "      <td>0</td>\n",
       "      <td>29</td>\n",
       "      <td>г</td>\n",
       "      <td>76</td>\n",
       "      <td>Пицца с мясной начинкой допек</td>\n",
       "      <td>0</td>\n",
       "      <td>113.589996</td>\n",
       "      <td>500.0</td>\n",
       "      <td>1</td>\n",
       "      <td>0.0</td>\n",
       "    </tr>\n",
       "    <tr>\n",
       "      <th>27956444</th>\n",
       "      <td>RR50596010</td>\n",
       "      <td>117</td>\n",
       "      <td>871159</td>\n",
       "      <td>2021-07-19</td>\n",
       "      <td>0.0</td>\n",
       "      <td>7</td>\n",
       "      <td>19</td>\n",
       "      <td>0</td>\n",
       "      <td>29</td>\n",
       "      <td>г</td>\n",
       "      <td>76</td>\n",
       "      <td>Пицца с мясной начинкой допек</td>\n",
       "      <td>1</td>\n",
       "      <td>113.589996</td>\n",
       "      <td>500.0</td>\n",
       "      <td>1</td>\n",
       "      <td>0.0</td>\n",
       "    </tr>\n",
       "  </tbody>\n",
       "</table>\n",
       "<p>115831 rows × 17 columns</p>\n",
       "</div>"
      ],
      "text/plain": [
       "                  ID  geoCluster     SKU       date  sales  month  day  \\\n",
       "11        RR27956458          21   32485 2021-07-19    0.0      7   19   \n",
       "26        RR27956473          92   32485 2021-07-19    0.0      7   19   \n",
       "80        RR27956542         112   32485 2021-07-19    0.0      7   19   \n",
       "171       RR27956680         131   32485 2021-07-19    0.0      7   19   \n",
       "256       RR27956765         148   32485 2021-07-19    0.0      7   19   \n",
       "...              ...         ...     ...        ...    ...    ...  ...   \n",
       "27956389  RR55912696        3230  802919 2021-07-19    0.0      7   19   \n",
       "27956403  RR55912780        3230  802927 2021-07-19    0.0      7   19   \n",
       "27956420  RR55912815        3230  803415 2021-07-19    0.0      7   19   \n",
       "27956426  RR50630856        1677  871159 2021-07-19    0.0      7   19   \n",
       "27956444  RR50596010         117  871159 2021-07-19    0.0      7   19   \n",
       "\n",
       "          weekday  week_num lagerUnitType_caption  commodity_group  \\\n",
       "11              0        29                     г              170   \n",
       "26              0        29                     г              170   \n",
       "80              0        29                     г              170   \n",
       "171             0        29                     г              170   \n",
       "256             0        29                     г              170   \n",
       "...           ...       ...                   ...              ...   \n",
       "27956389        0        29                    кг               76   \n",
       "27956403        0        29                    кг               76   \n",
       "27956420        0        29                    кг               76   \n",
       "27956426        0        29                     г               76   \n",
       "27956444        0        29                     г               76   \n",
       "\n",
       "                                 productCategory_caption_RU  cityId  \\\n",
       "11                                                    Банан       1   \n",
       "26                                                    Банан       1   \n",
       "80                                                    Банан       1   \n",
       "171                                                   Банан       1   \n",
       "256                                                   Банан       1   \n",
       "...                                                     ...     ...   \n",
       "27956389   Хлеб подовый пшеничный с добавками собств произв       0   \n",
       "27956403   Хлеб подовый пшеничный с добавками собств произв       0   \n",
       "27956420  Печенье руч работы пекарня без добав собств пр...       0   \n",
       "27956426                      Пицца с мясной начинкой допек       0   \n",
       "27956444                      Пицца с мясной начинкой допек       1   \n",
       "\n",
       "               price  lagerUnitQuantity  lagerUnitTypeId  revanue  \n",
       "11         39.689999                1.0                1      0.0  \n",
       "26         38.290001                1.0                1      0.0  \n",
       "80         45.389999                1.0                1      0.0  \n",
       "171        43.990002                1.0                1      0.0  \n",
       "256        43.990002                1.0                1      0.0  \n",
       "...              ...                ...              ...      ...  \n",
       "27956389   80.989998                1.0                2      0.0  \n",
       "27956403  161.990005                1.0                2      0.0  \n",
       "27956420  497.089996                1.0                2      0.0  \n",
       "27956426  113.589996              500.0                1      0.0  \n",
       "27956444  113.589996              500.0                1      0.0  \n",
       "\n",
       "[115831 rows x 17 columns]"
      ]
     },
     "execution_count": 225,
     "metadata": {},
     "output_type": "execute_result"
    }
   ],
   "source": [
    "train_data[train_data['date']==train_data['date'].max()]"
   ]
  },
  {
   "cell_type": "code",
   "execution_count": 230,
   "metadata": {},
   "outputs": [
    {
     "name": "stdout",
     "output_type": "stream",
     "text": [
      "<class 'pandas.core.frame.DataFrame'>\n",
      "Int64Index: 27956445 entries, 0 to 27956444\n",
      "Data columns (total 17 columns):\n",
      " #   Column                      Dtype         \n",
      "---  ------                      -----         \n",
      " 0   ID                          object        \n",
      " 1   geoCluster                  uint16        \n",
      " 2   SKU                         uint32        \n",
      " 3   date                        datetime64[ns]\n",
      " 4   sales                       float32       \n",
      " 5   month                       uint8         \n",
      " 6   day                         uint8         \n",
      " 7   weekday                     uint8         \n",
      " 8   week_num                    uint8         \n",
      " 9   lagerUnitType_caption       object        \n",
      " 10  commodity_group             uint8         \n",
      " 11  productCategory_caption_RU  object        \n",
      " 12  cityId                      uint8         \n",
      " 13  price                       float32       \n",
      " 14  lagerUnitQuantity           float32       \n",
      " 15  lagerUnitTypeId             uint8         \n",
      " 16  revanue                     float32       \n",
      "dtypes: datetime64[ns](1), float32(4), object(3), uint16(1), uint32(1), uint8(7)\n",
      "memory usage: 1.8+ GB\n"
     ]
    }
   ],
   "source": [
    "train_data.info()"
   ]
  },
  {
   "cell_type": "code",
   "execution_count": 231,
   "metadata": {},
   "outputs": [],
   "source": [
    "train_data.to_csv('train_data.csv', index=False)"
   ]
  },
  {
   "cell_type": "code",
   "execution_count": null,
   "metadata": {},
   "outputs": [],
   "source": []
  }
 ],
 "metadata": {
  "kernelspec": {
   "display_name": "conda_amazonei_tensorflow2_p36",
   "language": "python",
   "name": "conda_amazonei_tensorflow2_p36"
  },
  "language_info": {
   "codemirror_mode": {
    "name": "ipython",
    "version": 3
   },
   "file_extension": ".py",
   "mimetype": "text/x-python",
   "name": "python",
   "nbconvert_exporter": "python",
   "pygments_lexer": "ipython3",
   "version": "3.6.13"
  }
 },
 "nbformat": 4,
 "nbformat_minor": 4
}
