{
 "cells": [
  {
   "cell_type": "code",
   "execution_count": 79,
   "id": "e8ad69f5-abd2-4b36-b088-255b7d0df3d4",
   "metadata": {},
   "outputs": [],
   "source": [
    "import pandas as pd\n",
    "import numpy as np\n",
    "import matplotlib.pyplot as plt\n",
    "import sys\n",
    "import heapq\n",
    "from queue import PriorityQueue\n",
    "import copy"
   ]
  },
  {
   "cell_type": "code",
   "execution_count": 80,
   "id": "c17bf69d",
   "metadata": {},
   "outputs": [],
   "source": [
    "from tqdm import tqdm"
   ]
  },
  {
   "cell_type": "code",
   "execution_count": 81,
   "id": "4952cd24",
   "metadata": {},
   "outputs": [],
   "source": [
    "import six\n",
    "import sys\n",
    "sys.modules['sklearn.externals.six'] = six\n",
    "import mlrose"
   ]
  },
  {
   "cell_type": "markdown",
   "id": "bfb02a9b",
   "metadata": {},
   "source": [
    "# GRAPH STUFF"
   ]
  },
  {
   "cell_type": "code",
   "execution_count": 82,
   "id": "e9483e98-2557-4bb6-b07d-f9fe468890f8",
   "metadata": {},
   "outputs": [],
   "source": [
    "mapa = pd.read_csv(\"darkstore_map.csv\", sep=\";\")"
   ]
  },
  {
   "cell_type": "code",
   "execution_count": 83,
   "id": "875a88ae-18e6-457d-b6c7-9fa94fbc7b77",
   "metadata": {},
   "outputs": [
    {
     "data": {
      "text/html": [
       "<div>\n",
       "<style scoped>\n",
       "    .dataframe tbody tr th:only-of-type {\n",
       "        vertical-align: middle;\n",
       "    }\n",
       "\n",
       "    .dataframe tbody tr th {\n",
       "        vertical-align: top;\n",
       "    }\n",
       "\n",
       "    .dataframe thead th {\n",
       "        text-align: right;\n",
       "    }\n",
       "</style>\n",
       "<table border=\"1\" class=\"dataframe\">\n",
       "  <thead>\n",
       "    <tr style=\"text-align: right;\">\n",
       "      <th></th>\n",
       "      <th>SECTION</th>\n",
       "      <th>LEVEL</th>\n",
       "      <th>LAGERID</th>\n",
       "    </tr>\n",
       "  </thead>\n",
       "  <tbody>\n",
       "    <tr>\n",
       "      <th>0</th>\n",
       "      <td>1</td>\n",
       "      <td>1</td>\n",
       "      <td>1</td>\n",
       "    </tr>\n",
       "    <tr>\n",
       "      <th>1</th>\n",
       "      <td>1</td>\n",
       "      <td>2</td>\n",
       "      <td>2</td>\n",
       "    </tr>\n",
       "    <tr>\n",
       "      <th>2</th>\n",
       "      <td>1</td>\n",
       "      <td>3</td>\n",
       "      <td>3</td>\n",
       "    </tr>\n",
       "    <tr>\n",
       "      <th>3</th>\n",
       "      <td>2</td>\n",
       "      <td>1</td>\n",
       "      <td>4</td>\n",
       "    </tr>\n",
       "    <tr>\n",
       "      <th>4</th>\n",
       "      <td>2</td>\n",
       "      <td>2</td>\n",
       "      <td>5</td>\n",
       "    </tr>\n",
       "  </tbody>\n",
       "</table>\n",
       "</div>"
      ],
      "text/plain": [
       "   SECTION  LEVEL  LAGERID\n",
       "0        1      1        1\n",
       "1        1      2        2\n",
       "2        1      3        3\n",
       "3        2      1        4\n",
       "4        2      2        5"
      ]
     },
     "execution_count": 83,
     "metadata": {},
     "output_type": "execute_result"
    }
   ],
   "source": [
    "mapa.head()"
   ]
  },
  {
   "cell_type": "code",
   "execution_count": 84,
   "id": "1840c56c-774c-4cd0-b3bf-8802dcca484d",
   "metadata": {},
   "outputs": [],
   "source": [
    "cheque =  pd.read_csv(\"cheques_public.csv\", sep=\";\")"
   ]
  },
  {
   "cell_type": "code",
   "execution_count": 85,
   "id": "f1d73cd1-c212-478f-898f-ef9b0e3e4d9d",
   "metadata": {},
   "outputs": [
    {
     "data": {
      "text/html": [
       "<div>\n",
       "<style scoped>\n",
       "    .dataframe tbody tr th:only-of-type {\n",
       "        vertical-align: middle;\n",
       "    }\n",
       "\n",
       "    .dataframe tbody tr th {\n",
       "        vertical-align: top;\n",
       "    }\n",
       "\n",
       "    .dataframe thead th {\n",
       "        text-align: right;\n",
       "    }\n",
       "</style>\n",
       "<table border=\"1\" class=\"dataframe\">\n",
       "  <thead>\n",
       "    <tr style=\"text-align: right;\">\n",
       "      <th></th>\n",
       "      <th>CHEQUEID</th>\n",
       "      <th>LAGERID</th>\n",
       "      <th>KOLVO</th>\n",
       "    </tr>\n",
       "  </thead>\n",
       "  <tbody>\n",
       "    <tr>\n",
       "      <th>0</th>\n",
       "      <td>22311</td>\n",
       "      <td>1</td>\n",
       "      <td>1.0</td>\n",
       "    </tr>\n",
       "    <tr>\n",
       "      <th>1</th>\n",
       "      <td>22311</td>\n",
       "      <td>2</td>\n",
       "      <td>1.0</td>\n",
       "    </tr>\n",
       "    <tr>\n",
       "      <th>2</th>\n",
       "      <td>22311</td>\n",
       "      <td>3</td>\n",
       "      <td>1.0</td>\n",
       "    </tr>\n",
       "    <tr>\n",
       "      <th>3</th>\n",
       "      <td>22311</td>\n",
       "      <td>4</td>\n",
       "      <td>1.0</td>\n",
       "    </tr>\n",
       "    <tr>\n",
       "      <th>4</th>\n",
       "      <td>22311</td>\n",
       "      <td>5</td>\n",
       "      <td>1.0</td>\n",
       "    </tr>\n",
       "  </tbody>\n",
       "</table>\n",
       "</div>"
      ],
      "text/plain": [
       "   CHEQUEID  LAGERID  KOLVO\n",
       "0     22311        1    1.0\n",
       "1     22311        2    1.0\n",
       "2     22311        3    1.0\n",
       "3     22311        4    1.0\n",
       "4     22311        5    1.0"
      ]
     },
     "execution_count": 85,
     "metadata": {},
     "output_type": "execute_result"
    }
   ],
   "source": [
    "cheque.head()"
   ]
  },
  {
   "cell_type": "code",
   "execution_count": 86,
   "id": "cfe4671a-a6da-4fc1-95b1-33388f0fdbd6",
   "metadata": {},
   "outputs": [],
   "source": [
    "section_to_node_dct = {0:0, 1:1, 2:2, 3:3, 4:4, 5:5, 6:6, 7:28, 8:27, 9:26, 10:25, 11:24, 12:23, 13:22, 14:21, 15:28, 16:27, 17:26, 18:25, 19:24, 20:23, 21:22, 22:21, 23:7, 24:8, 25:9, 26:10, 27:11, 28:12, 29:13, 30:14, 31:7, 32:8, 33:9, 34:10, 35:11, 36:12, 37:13, 38:14, 39:20, 40:19, 41:18, 42:17, 43:16, 44:15}\n",
    "node_to_section_dct = dict((v,k) for k,v in section_to_node_dct.items())\n",
    "\n",
    "def section_to_node(section):\n",
    "    return section_to_node_dct[section]\n",
    "\n",
    "def node_to_section(node):\n",
    "    return node_to_section_dct[node]"
   ]
  },
  {
   "cell_type": "code",
   "execution_count": 87,
   "id": "c7f20e7c-1728-4ca1-a125-c3819903edcb",
   "metadata": {},
   "outputs": [],
   "source": [
    "graph_one_side = {(0, 1): 8,\n",
    "        (0, 20): 18,\n",
    "        (1, 2): 2,\n",
    "        (2, 3): 2,\n",
    "        (3, 4): 2,\n",
    "        (4, 5): 2,\n",
    "        (5, 6): 2,\n",
    "         \n",
    "        (5, 7): 2,\n",
    "        (7, 8): 2,\n",
    "        (8, 9): 2,\n",
    "        (9, 10): 2,\n",
    "        (10, 11): 2,\n",
    "        (11, 12): 2,\n",
    "        (12, 13): 2,\n",
    "        (13, 14): 2,\n",
    "         \n",
    "        (14, 16): 2,\n",
    "        (16, 15): 2,\n",
    "        (16, 17): 2,\n",
    "        (17, 18): 2,\n",
    "        (18, 19): 2,\n",
    "         \n",
    "        (19, 20): 2,\n",
    "        (19, 21): 2,\n",
    "        (21, 22): 2,\n",
    "        (22, 23): 2,\n",
    "        (23, 24): 2,\n",
    "        (24, 25): 2,\n",
    "        (25, 26): 2,\n",
    "        (26, 27): 2,\n",
    "        (27, 28): 2,\n",
    "        (28, 2): 2}"
   ]
  },
  {
   "cell_type": "code",
   "execution_count": 88,
   "id": "66385521-31fa-4cad-9142-ff234fd3170a",
   "metadata": {},
   "outputs": [],
   "source": [
    "graph_another_side = {(k[1], k[0]):v for k,v in graph_one_side.items()}"
   ]
  },
  {
   "cell_type": "code",
   "execution_count": 89,
   "id": "9c31102f-26bb-4956-9397-ef93aacb7100",
   "metadata": {},
   "outputs": [],
   "source": [
    "graph = {**graph_one_side, **graph_another_side}"
   ]
  },
  {
   "cell_type": "code",
   "execution_count": 90,
   "id": "6c7de88f-b63f-4c7c-8486-ac5814c29ebd",
   "metadata": {},
   "outputs": [],
   "source": [
    "class Graph:\n",
    "    def __init__(self, num_of_vertices):\n",
    "        self.v = num_of_vertices\n",
    "        self.edges = [[-1 for i in range(num_of_vertices)] for j in range(num_of_vertices)]\n",
    "        self.visited = []\n",
    "        \n",
    "    def add_edge(self, u, v, weight):\n",
    "        self.edges[u][v] = weight\n",
    "        self.edges[v][u] = weight\n",
    "        \n",
    "    def dijkstra(self, start_vertex):\n",
    "        D = {v:float('inf') for v in range(self.v)}\n",
    "        D[start_vertex] = 0\n",
    "\n",
    "        pq = PriorityQueue()\n",
    "        pq.put((0, start_vertex))\n",
    "\n",
    "        while not pq.empty():\n",
    "            (dist, current_vertex) = pq.get()\n",
    "            self.visited.append(current_vertex)\n",
    "\n",
    "            for neighbor in range(self.v):\n",
    "                if self.edges[current_vertex][neighbor] != -1:\n",
    "                    distance = self.edges[current_vertex][neighbor]\n",
    "                    if neighbor not in self.visited:\n",
    "                        old_cost = D[neighbor]\n",
    "                        new_cost = D[current_vertex] + distance\n",
    "                        if new_cost < old_cost:\n",
    "                            pq.put((new_cost, neighbor))\n",
    "                            D[neighbor] = new_cost\n",
    "        return D"
   ]
  },
  {
   "cell_type": "code",
   "execution_count": 91,
   "id": "8a7d965d-2441-4249-a191-0fda5d1a9880",
   "metadata": {},
   "outputs": [],
   "source": [
    "g = Graph(29)\n",
    "\n",
    "for key, value in graph_one_side.items():\n",
    "    g.add_edge(key[0], key[1], value)"
   ]
  },
  {
   "cell_type": "code",
   "execution_count": 92,
   "id": "ef08df8d-4def-43e3-ba96-00e2fbfeddae",
   "metadata": {},
   "outputs": [
    {
     "name": "stdout",
     "output_type": "stream",
     "text": [
      "Distance from vertex 0 to vertex 0 is 0\n",
      "Distance from vertex 0 to vertex 1 is 8\n",
      "Distance from vertex 0 to vertex 2 is 10\n",
      "Distance from vertex 0 to vertex 3 is 12\n",
      "Distance from vertex 0 to vertex 4 is 14\n",
      "Distance from vertex 0 to vertex 5 is 16\n",
      "Distance from vertex 0 to vertex 6 is 18\n",
      "Distance from vertex 0 to vertex 7 is 18\n",
      "Distance from vertex 0 to vertex 8 is 20\n",
      "Distance from vertex 0 to vertex 9 is 22\n",
      "Distance from vertex 0 to vertex 10 is 24\n",
      "Distance from vertex 0 to vertex 11 is 26\n",
      "Distance from vertex 0 to vertex 12 is 28\n",
      "Distance from vertex 0 to vertex 13 is 30\n",
      "Distance from vertex 0 to vertex 14 is 28\n",
      "Distance from vertex 0 to vertex 15 is 28\n",
      "Distance from vertex 0 to vertex 16 is 26\n",
      "Distance from vertex 0 to vertex 17 is 24\n",
      "Distance from vertex 0 to vertex 18 is 22\n",
      "Distance from vertex 0 to vertex 19 is 20\n",
      "Distance from vertex 0 to vertex 20 is 18\n",
      "Distance from vertex 0 to vertex 21 is 22\n",
      "Distance from vertex 0 to vertex 22 is 24\n",
      "Distance from vertex 0 to vertex 23 is 22\n",
      "Distance from vertex 0 to vertex 24 is 20\n",
      "Distance from vertex 0 to vertex 25 is 18\n",
      "Distance from vertex 0 to vertex 26 is 16\n",
      "Distance from vertex 0 to vertex 27 is 14\n",
      "Distance from vertex 0 to vertex 28 is 12\n"
     ]
    }
   ],
   "source": [
    "D = g.dijkstra(0)\n",
    "\n",
    "for vertex in range(len(D)):\n",
    "    print(\"Distance from vertex 0 to vertex\", vertex, \"is\", D[vertex])"
   ]
  },
  {
   "cell_type": "code",
   "execution_count": 93,
   "id": "810ac9d7-6a48-4771-a617-df8a72ac9645",
   "metadata": {},
   "outputs": [],
   "source": [
    "def get_optimal_distance_between_nodes(node_a, node_b, graph):\n",
    "    D = graph.dijkstra(node_a)\n",
    "    # for vertex in range(len(D)):\n",
    "    #     print(\"Distance from vertex 0 to vertex\", vertex, \"is\", D[vertex])\n",
    "        \n",
    "    return D[node_b]\n",
    "\n",
    "def get_optimal_distance_between_sections(sec_a, sec_b, graph):\n",
    "    node_a = section_to_node(sec_a)\n",
    "    node_b = section_to_node(sec_b)\n",
    "    \n",
    "    # print(node_a, node_b)\n",
    "    \n",
    "    return get_optimal_distance_between_nodes(node_a, node_b, graph)"
   ]
  },
  {
   "cell_type": "code",
   "execution_count": 94,
   "id": "56d0484f-ffe8-455c-99fa-a734039440de",
   "metadata": {},
   "outputs": [],
   "source": [
    "g = Graph(29)\n",
    "\n",
    "for key, value in graph_one_side.items():\n",
    "    g.add_edge(key[0], key[1], value)"
   ]
  },
  {
   "cell_type": "code",
   "execution_count": 95,
   "id": "b8b55f59-55a5-4c34-b9ed-9c8814f73973",
   "metadata": {},
   "outputs": [
    {
     "data": {
      "text/plain": [
       "22"
      ]
     },
     "execution_count": 95,
     "metadata": {},
     "output_type": "execute_result"
    }
   ],
   "source": [
    "get_optimal_distance_between_sections(12, 24, copy.deepcopy(g))"
   ]
  },
  {
   "cell_type": "code",
   "execution_count": 96,
   "id": "a6c93880",
   "metadata": {},
   "outputs": [],
   "source": [
    "def unique_custom(x):\n",
    "    to_del = []\n",
    "    dict_freq = {}\n",
    "    for c,i in enumerate(x):\n",
    "        freq = dict_freq.get(i,0)\n",
    "        if freq==1:\n",
    "            to_del.append(c)\n",
    "        else:\n",
    "            dict_freq.update({i:freq+1})\n",
    "            \n",
    "    return [i for c,i in enumerate(x) if not c in to_del]"
   ]
  },
  {
   "cell_type": "markdown",
   "id": "24bd77df",
   "metadata": {},
   "source": [
    "## Creation of one function"
   ]
  },
  {
   "cell_type": "code",
   "execution_count": 19,
   "id": "c7eb2072",
   "metadata": {
    "scrolled": true
   },
   "outputs": [
    {
     "data": {
      "text/html": [
       "<div>\n",
       "<style scoped>\n",
       "    .dataframe tbody tr th:only-of-type {\n",
       "        vertical-align: middle;\n",
       "    }\n",
       "\n",
       "    .dataframe tbody tr th {\n",
       "        vertical-align: top;\n",
       "    }\n",
       "\n",
       "    .dataframe thead th {\n",
       "        text-align: right;\n",
       "    }\n",
       "</style>\n",
       "<table border=\"1\" class=\"dataframe\">\n",
       "  <thead>\n",
       "    <tr style=\"text-align: right;\">\n",
       "      <th></th>\n",
       "      <th>CHEQUEID</th>\n",
       "      <th>LAGERID</th>\n",
       "      <th>KOLVO</th>\n",
       "    </tr>\n",
       "  </thead>\n",
       "  <tbody>\n",
       "    <tr>\n",
       "      <th>0</th>\n",
       "      <td>22311</td>\n",
       "      <td>1</td>\n",
       "      <td>1.0</td>\n",
       "    </tr>\n",
       "    <tr>\n",
       "      <th>1</th>\n",
       "      <td>22311</td>\n",
       "      <td>2</td>\n",
       "      <td>1.0</td>\n",
       "    </tr>\n",
       "    <tr>\n",
       "      <th>2</th>\n",
       "      <td>22311</td>\n",
       "      <td>3</td>\n",
       "      <td>1.0</td>\n",
       "    </tr>\n",
       "    <tr>\n",
       "      <th>3</th>\n",
       "      <td>22311</td>\n",
       "      <td>4</td>\n",
       "      <td>1.0</td>\n",
       "    </tr>\n",
       "    <tr>\n",
       "      <th>4</th>\n",
       "      <td>22311</td>\n",
       "      <td>5</td>\n",
       "      <td>1.0</td>\n",
       "    </tr>\n",
       "    <tr>\n",
       "      <th>5</th>\n",
       "      <td>22311</td>\n",
       "      <td>6</td>\n",
       "      <td>1.0</td>\n",
       "    </tr>\n",
       "    <tr>\n",
       "      <th>6</th>\n",
       "      <td>22311</td>\n",
       "      <td>7</td>\n",
       "      <td>1.0</td>\n",
       "    </tr>\n",
       "    <tr>\n",
       "      <th>7</th>\n",
       "      <td>22311</td>\n",
       "      <td>8</td>\n",
       "      <td>1.0</td>\n",
       "    </tr>\n",
       "    <tr>\n",
       "      <th>8</th>\n",
       "      <td>22311</td>\n",
       "      <td>9</td>\n",
       "      <td>1.0</td>\n",
       "    </tr>\n",
       "    <tr>\n",
       "      <th>9</th>\n",
       "      <td>22311</td>\n",
       "      <td>10</td>\n",
       "      <td>1.0</td>\n",
       "    </tr>\n",
       "  </tbody>\n",
       "</table>\n",
       "</div>"
      ],
      "text/plain": [
       "   CHEQUEID  LAGERID  KOLVO\n",
       "0     22311        1    1.0\n",
       "1     22311        2    1.0\n",
       "2     22311        3    1.0\n",
       "3     22311        4    1.0\n",
       "4     22311        5    1.0\n",
       "5     22311        6    1.0\n",
       "6     22311        7    1.0\n",
       "7     22311        8    1.0\n",
       "8     22311        9    1.0\n",
       "9     22311       10    1.0"
      ]
     },
     "execution_count": 19,
     "metadata": {},
     "output_type": "execute_result"
    }
   ],
   "source": [
    "cheque[cheque['CHEQUEID']==22311]"
   ]
  },
  {
   "cell_type": "code",
   "execution_count": 20,
   "id": "16990222",
   "metadata": {},
   "outputs": [],
   "source": [
    "cheque = pd.merge(cheque, mapa, on='LAGERID', how='left')"
   ]
  },
  {
   "cell_type": "code",
   "execution_count": 21,
   "id": "f33a5e26",
   "metadata": {
    "scrolled": true
   },
   "outputs": [],
   "source": [
    "cheque['TIME_SPENT_GETTING'] = cheque['KOLVO']*cheque['LEVEL']"
   ]
  },
  {
   "cell_type": "code",
   "execution_count": 22,
   "id": "84addb48",
   "metadata": {
    "scrolled": true
   },
   "outputs": [],
   "source": [
    "aggregated = cheque.groupby('CHEQUEID', as_index=False).agg({'SECTION':list,\"TIME_SPENT_GETTING\":sum })"
   ]
  },
  {
   "cell_type": "code",
   "execution_count": 23,
   "id": "eda6f6d3",
   "metadata": {},
   "outputs": [],
   "source": [
    "dict_section = aggregated.set_index('CHEQUEID')['SECTION'].to_dict()\n",
    "dict_time_getting = aggregated.set_index('CHEQUEID')['TIME_SPENT_GETTING'].to_dict()"
   ]
  },
  {
   "cell_type": "code",
   "execution_count": 24,
   "id": "3162ddf8",
   "metadata": {},
   "outputs": [],
   "source": [
    "overall_dict = {}\n",
    "for k,v in dict_section.items():\n",
    "    time = dict_time_getting.get(k)\n",
    "    overall_dict.update({k:(v, time)})"
   ]
  },
  {
   "cell_type": "markdown",
   "id": "a8be88ee",
   "metadata": {},
   "source": [
    "# Faster function"
   ]
  },
  {
   "cell_type": "code",
   "execution_count": 97,
   "id": "0d4674a3",
   "metadata": {},
   "outputs": [],
   "source": [
    "def compute_distances(sections,g):\n",
    "    sections=unique_custom(sections)\n",
    "    mapping = dict([(i,c+1) for c,i in enumerate(sections)])\n",
    "    sections.insert(0,0)\n",
    "\n",
    "    distances = []\n",
    "    for i in range(len(sections)):\n",
    "        for j in range(i+1,len(sections)):\n",
    "            distances.append((sections[i],sections[j],get_optimal_distance_between_sections(sections[i], sections[j], copy.deepcopy(g))))\n",
    "    distances = [(mapping.get(i[0],0),mapping.get(i[1],0),i[2]) for i in distances]\n",
    "    to_exclude = 0\n",
    "    new_distances = []\n",
    "    for i in distances:\n",
    "        if i[-1]==0:\n",
    "            to_exclude+=1\n",
    "            new_distances.append([i[0],i[1],1])\n",
    "        else:\n",
    "            new_distances.append(i)\n",
    "    distances = new_distances\n",
    "    return (distances,to_exclude, len(sections))\n"
   ]
  },
  {
   "cell_type": "code",
   "execution_count": 98,
   "id": "00ae6920",
   "metadata": {},
   "outputs": [],
   "source": [
    "def pre_compute_distances_with_all(sections,all_distances):\n",
    "    sections=unique_custom(sections)\n",
    "    mapping = dict([(i,c+1) for c,i in enumerate(sections)])\n",
    "    sections.insert(0,0)\n",
    "    distances = []\n",
    "    for i in range(len(sections)):\n",
    "        for j in range(i+1,len(sections)):\n",
    "            idx1 = (sections[i],sections[j])\n",
    "            idx2 = (sections[j],sections[i])\n",
    "            distance = all_distances.get(idx1, all_distances.get(idx2))            \n",
    "            distances.append((sections[i],sections[j],distance))\n",
    "    distances = [(mapping.get(i[0],0),mapping.get(i[1],0),i[2]) for i in distances]\n",
    "    to_exclude = 0\n",
    "    new_distances = []\n",
    "    for i in distances:\n",
    "        if i[-1]==0:\n",
    "            to_exclude+=1\n",
    "            new_distances.append([i[0],i[1],1])\n",
    "        else:\n",
    "            new_distances.append(i)\n",
    "    distances = new_distances\n",
    "    return (distances,to_exclude, len(sections))\n"
   ]
  },
  {
   "cell_type": "code",
   "execution_count": 99,
   "id": "0604ec56",
   "metadata": {},
   "outputs": [],
   "source": [
    "def compute_distances_all(num_all, g):\n",
    "    sections=[i for i in range(0,num_all+1)]\n",
    "    distances = {}\n",
    "    for i in range(len(sections)):\n",
    "        for j in range(i+1,len(sections)):\n",
    "            distances.update({(sections[i],sections[j]):get_optimal_distance_between_sections(sections[i], sections[j], copy.deepcopy(g))})\n",
    "\n",
    "    return distances\n"
   ]
  },
  {
   "cell_type": "code",
   "execution_count": 100,
   "id": "4decc4c0",
   "metadata": {},
   "outputs": [],
   "source": [
    "def find_best_path_dist(distances, len_sections, evaluate=False):\n",
    "    fitness_dists = mlrose.TravellingSales(distances = distances)\n",
    "    problem_fit = mlrose.TSPOpt(length = len_sections, fitness_fn = fitness_dists, maximize=False)\n",
    "    if not evaluate:\n",
    "        best_state, best_fitness = mlrose.random_hill_climb(problem_fit, random_state = 0, max_iters=4, restarts=1, max_attempts=12)\n",
    "    else:\n",
    "        best_state, best_fitness = mlrose.random_hill_climb(problem_fit, random_state = 0, max_iters=100, restarts=5, max_attempts=30)\n",
    "    return best_fitness"
   ]
  },
  {
   "cell_type": "code",
   "execution_count": 101,
   "id": "cf0cd15b",
   "metadata": {},
   "outputs": [],
   "source": [
    "def loss(distances, to_exclude,len_sections, time_get_goods, evaluate=False):\n",
    "    #finding best path dist\n",
    "    best_path_dist = find_best_path_dist(distances,len_sections, evaluate)\n",
    "    #finding time to spend on taking goods\n",
    "    loss_ = time_get_goods+best_path_dist-to_exclude\n",
    "    return loss_\n",
    "    "
   ]
  },
  {
   "cell_type": "code",
   "execution_count": 71,
   "id": "b84a7750",
   "metadata": {},
   "outputs": [
    {
     "name": "stderr",
     "output_type": "stream",
     "text": [
      "100%|███████████████████████████████████████| 5822/5822 [06:07<00:00, 15.85it/s]\n"
     ]
    }
   ],
   "source": [
    "objective = 0\n",
    "for v in tqdm(dict_with_distances.values()):\n",
    "    distance,to_exclude, len_section = v[0]\n",
    "    time_get_goods = v[1]\n",
    "    objective+=loss(distance,to_exclude, len_section, time_get_goods)"
   ]
  },
  {
   "cell_type": "code",
   "execution_count": 72,
   "id": "a96f160a",
   "metadata": {},
   "outputs": [
    {
     "data": {
      "text/plain": [
       "414136.0"
      ]
     },
     "execution_count": 72,
     "metadata": {},
     "output_type": "execute_result"
    }
   ],
   "source": [
    "objective"
   ]
  },
  {
   "cell_type": "code",
   "execution_count": 102,
   "id": "6b9098d9",
   "metadata": {
    "scrolled": true
   },
   "outputs": [],
   "source": [
    "all_distances = compute_distances_all(44, g)"
   ]
  },
  {
   "cell_type": "code",
   "execution_count": 103,
   "id": "4f08843d",
   "metadata": {},
   "outputs": [
    {
     "data": {
      "text/plain": [
       "8"
      ]
     },
     "execution_count": 103,
     "metadata": {},
     "output_type": "execute_result"
    }
   ],
   "source": [
    "all_distances.get((0,1))"
   ]
  },
  {
   "cell_type": "markdown",
   "id": "b5e3961d",
   "metadata": {},
   "source": [
    "# Testing submission"
   ]
  },
  {
   "cell_type": "code",
   "execution_count": 55,
   "id": "d901a457",
   "metadata": {},
   "outputs": [],
   "source": [
    "test_sub = pd.read_csv('test_sub_new.csv', sep=';')"
   ]
  },
  {
   "cell_type": "code",
   "execution_count": 56,
   "id": "576ae677",
   "metadata": {},
   "outputs": [],
   "source": [
    "new_cheques = pd.read_csv('cheques_public.csv', sep=';')"
   ]
  },
  {
   "cell_type": "code",
   "execution_count": 57,
   "id": "3425525a",
   "metadata": {},
   "outputs": [
    {
     "data": {
      "text/html": [
       "<div>\n",
       "<style scoped>\n",
       "    .dataframe tbody tr th:only-of-type {\n",
       "        vertical-align: middle;\n",
       "    }\n",
       "\n",
       "    .dataframe tbody tr th {\n",
       "        vertical-align: top;\n",
       "    }\n",
       "\n",
       "    .dataframe thead th {\n",
       "        text-align: right;\n",
       "    }\n",
       "</style>\n",
       "<table border=\"1\" class=\"dataframe\">\n",
       "  <thead>\n",
       "    <tr style=\"text-align: right;\">\n",
       "      <th></th>\n",
       "      <th>SECTION</th>\n",
       "      <th>LEVEL</th>\n",
       "      <th>LAGERID</th>\n",
       "    </tr>\n",
       "  </thead>\n",
       "  <tbody>\n",
       "    <tr>\n",
       "      <th>0</th>\n",
       "      <td>1</td>\n",
       "      <td>1</td>\n",
       "      <td>15</td>\n",
       "    </tr>\n",
       "    <tr>\n",
       "      <th>1</th>\n",
       "      <td>1</td>\n",
       "      <td>2</td>\n",
       "      <td>29</td>\n",
       "    </tr>\n",
       "    <tr>\n",
       "      <th>2</th>\n",
       "      <td>1</td>\n",
       "      <td>3</td>\n",
       "      <td>3</td>\n",
       "    </tr>\n",
       "    <tr>\n",
       "      <th>3</th>\n",
       "      <td>2</td>\n",
       "      <td>1</td>\n",
       "      <td>7</td>\n",
       "    </tr>\n",
       "    <tr>\n",
       "      <th>4</th>\n",
       "      <td>2</td>\n",
       "      <td>2</td>\n",
       "      <td>57</td>\n",
       "    </tr>\n",
       "    <tr>\n",
       "      <th>...</th>\n",
       "      <td>...</td>\n",
       "      <td>...</td>\n",
       "      <td>...</td>\n",
       "    </tr>\n",
       "    <tr>\n",
       "      <th>127</th>\n",
       "      <td>43</td>\n",
       "      <td>2</td>\n",
       "      <td>124</td>\n",
       "    </tr>\n",
       "    <tr>\n",
       "      <th>128</th>\n",
       "      <td>43</td>\n",
       "      <td>3</td>\n",
       "      <td>93</td>\n",
       "    </tr>\n",
       "    <tr>\n",
       "      <th>129</th>\n",
       "      <td>44</td>\n",
       "      <td>1</td>\n",
       "      <td>8</td>\n",
       "    </tr>\n",
       "    <tr>\n",
       "      <th>130</th>\n",
       "      <td>44</td>\n",
       "      <td>2</td>\n",
       "      <td>120</td>\n",
       "    </tr>\n",
       "    <tr>\n",
       "      <th>131</th>\n",
       "      <td>44</td>\n",
       "      <td>3</td>\n",
       "      <td>66</td>\n",
       "    </tr>\n",
       "  </tbody>\n",
       "</table>\n",
       "<p>132 rows × 3 columns</p>\n",
       "</div>"
      ],
      "text/plain": [
       "     SECTION  LEVEL  LAGERID\n",
       "0          1      1       15\n",
       "1          1      2       29\n",
       "2          1      3        3\n",
       "3          2      1        7\n",
       "4          2      2       57\n",
       "..       ...    ...      ...\n",
       "127       43      2      124\n",
       "128       43      3       93\n",
       "129       44      1        8\n",
       "130       44      2      120\n",
       "131       44      3       66\n",
       "\n",
       "[132 rows x 3 columns]"
      ]
     },
     "execution_count": 57,
     "metadata": {},
     "output_type": "execute_result"
    }
   ],
   "source": [
    "test_sub"
   ]
  },
  {
   "cell_type": "code",
   "execution_count": 58,
   "id": "0aa46c86",
   "metadata": {},
   "outputs": [],
   "source": [
    "new_cheques = new_cheques.merge(test_sub, on='LAGERID', how='left')"
   ]
  },
  {
   "cell_type": "code",
   "execution_count": 59,
   "id": "e361dcf7",
   "metadata": {},
   "outputs": [],
   "source": [
    "new_cheques['TIME_SPENT_GETTING'] = new_cheques['KOLVO']*new_cheques['LEVEL']"
   ]
  },
  {
   "cell_type": "code",
   "execution_count": 60,
   "id": "f5e244ba",
   "metadata": {},
   "outputs": [],
   "source": [
    "aggregated = new_cheques.groupby('CHEQUEID', as_index=False).agg({'SECTION':list,\"TIME_SPENT_GETTING\":sum })"
   ]
  },
  {
   "cell_type": "code",
   "execution_count": 61,
   "id": "b9ed4d9a",
   "metadata": {},
   "outputs": [],
   "source": [
    "dict_section = aggregated.set_index('CHEQUEID')['SECTION'].to_dict()\n",
    "dict_time_getting = aggregated.set_index('CHEQUEID')['TIME_SPENT_GETTING'].to_dict()"
   ]
  },
  {
   "cell_type": "code",
   "execution_count": 62,
   "id": "a0073224",
   "metadata": {},
   "outputs": [],
   "source": [
    "overall_dict = {}\n",
    "for k,v in dict_section.items():\n",
    "    time = dict_time_getting.get(k)\n",
    "    overall_dict.update({k:(v, time)})"
   ]
  },
  {
   "cell_type": "code",
   "execution_count": 136,
   "id": "5f89f19c",
   "metadata": {},
   "outputs": [
    {
     "name": "stderr",
     "output_type": "stream",
     "text": [
      "100%|███████████████████████████████████████| 5822/5822 [01:22<00:00, 70.54it/s]\n"
     ]
    }
   ],
   "source": [
    "dict_with_distances = {}\n",
    "for k,v in tqdm(overall_dict.items()):\n",
    "    distances = compute_distances(v[0], copy.deepcopy(g))\n",
    "    dict_with_distances.update({k:(distances, v[1])})"
   ]
  },
  {
   "cell_type": "code",
   "execution_count": 122,
   "id": "a9549b67",
   "metadata": {},
   "outputs": [
    {
     "name": "stderr",
     "output_type": "stream",
     "text": [
      "100%|███████████████████████████████████████| 5822/5822 [01:44<00:00, 55.65it/s]\n"
     ]
    }
   ],
   "source": [
    "objective = 0\n",
    "for v in tqdm(dict_with_distances.values()):\n",
    "    distance,to_exclude, len_section = v[0]\n",
    "    time_get_goods = v[1]\n",
    "    objective+=loss(distance,to_exclude, len_section, time_get_goods)"
   ]
  },
  {
   "cell_type": "markdown",
   "id": "a3432fd2",
   "metadata": {},
   "source": [
    "# Optimization class"
   ]
  },
  {
   "cell_type": "code",
   "execution_count": 104,
   "id": "ccd489fa",
   "metadata": {},
   "outputs": [],
   "source": [
    "class Optimization:\n",
    "    def __init__(self, cheque_df, test_sub, graph, all_distances, evaluate=False):\n",
    "        self.evaluate = evaluate\n",
    "        self.cheque_df = cheque_df\n",
    "        self.test_sub = test_sub\n",
    "        self.graph = graph\n",
    "        self.all_distances = all_distances\n",
    "        self.evaluate = evaluate\n",
    "    \n",
    "    def create_needed_data(self, x):\n",
    "        self.test_sub['LAGERID'] = x\n",
    "        cheque_df = self.cheque_df.merge(self.test_sub, on='LAGERID', how='left')\n",
    "        cheque_df['TIME_SPENT_GETTING'] = cheque_df['KOLVO']*cheque_df['LEVEL']\n",
    "        aggregated = cheque_df.groupby('CHEQUEID', as_index=False).agg({'SECTION':list,\"TIME_SPENT_GETTING\":sum })\n",
    "        dict_section = aggregated.set_index('CHEQUEID')['SECTION'].to_dict()\n",
    "        dict_time_getting = aggregated.set_index('CHEQUEID')['TIME_SPENT_GETTING'].to_dict()\n",
    "        overall_dict = {}\n",
    "        for k,v in dict_section.items():\n",
    "            time = dict_time_getting.get(k)\n",
    "            overall_dict.update({k:(v, time)})\n",
    "        return overall_dict\n",
    "\n",
    "\n",
    "    def pre_compute_distances(self,overall_dict):\n",
    "        dict_with_distances = {}\n",
    "        for k,v in tqdm(overall_dict.items()):\n",
    "            distances = pre_compute_distances_with_all(v[0], self.all_distances)\n",
    "            dict_with_distances.update({k:(distances, v[1])})\n",
    "        return dict_with_distances\n",
    "\n",
    "    def compute_objective(self,dict_with_distances):\n",
    "        objective = 0\n",
    "        for v in tqdm(dict_with_distances.values()):\n",
    "            distance,to_exclude, len_section = v[0]\n",
    "            time_get_goods = v[1]\n",
    "            objective+=loss(distance,to_exclude, len_section, time_get_goods, self.evaluate)\n",
    "        return objective\n",
    "    \n",
    "        \n",
    "        "
   ]
  },
  {
   "cell_type": "code",
   "execution_count": 105,
   "id": "5d08907e",
   "metadata": {},
   "outputs": [],
   "source": [
    "opt_class = Optimization(cheque_df=pd.read_csv('cheques_public.csv', sep=';'), test_sub=pd.read_csv('darkstore_map.csv', sep=';'), \n",
    "            graph=g, all_distances=all_distances, evaluate=True)"
   ]
  },
  {
   "cell_type": "code",
   "execution_count": 70,
   "id": "edd6271e",
   "metadata": {},
   "outputs": [],
   "source": [
    "# initial = pd.read_csv('sort_in_clust_by_dist_to_zero.csv', sep=',').rename(columns={'SORTED_LAGERID':'LAGERID'})['LAGERID'].values"
   ]
  },
  {
   "cell_type": "code",
   "execution_count": 71,
   "id": "47fe3b44",
   "metadata": {},
   "outputs": [],
   "source": [
    "initial = pd.read_csv('clustered_only_sub.csv', sep=',')['LAGERID'].values"
   ]
  },
  {
   "cell_type": "code",
   "execution_count": 72,
   "id": "f6152550",
   "metadata": {},
   "outputs": [],
   "source": [
    "def minimization_function(x, solution_idx):\n",
    "    global opt_class\n",
    "    dict_with_distances = opt_class.pre_compute_distances(opt_class.create_needed_data(x))\n",
    "    return opt_class.compute_objective(dict_with_distances)*(-1)"
   ]
  },
  {
   "cell_type": "code",
   "execution_count": 73,
   "id": "798672cf",
   "metadata": {},
   "outputs": [
    {
     "name": "stderr",
     "output_type": "stream",
     "text": [
      "100%|████████████████████████████████████| 5822/5822 [00:00<00:00, 22112.07it/s]\n",
      "100%|███████████████████████████████████████| 5822/5822 [02:53<00:00, 33.55it/s]\n"
     ]
    },
    {
     "data": {
      "text/plain": [
       "-398122.0"
      ]
     },
     "execution_count": 73,
     "metadata": {},
     "output_type": "execute_result"
    }
   ],
   "source": [
    "minimization_function(initial,0)"
   ]
  },
  {
   "cell_type": "code",
   "execution_count": 74,
   "id": "fdec5c21",
   "metadata": {},
   "outputs": [
    {
     "name": "stderr",
     "output_type": "stream",
     "text": [
      "100%|████████████████████████████████████| 5822/5822 [00:00<00:00, 27017.60it/s]\n",
      "100%|███████████████████████████████████████| 5822/5822 [03:05<00:00, 31.43it/s]\n"
     ]
    },
    {
     "data": {
      "text/plain": [
       "-411595.0"
      ]
     },
     "execution_count": 74,
     "metadata": {},
     "output_type": "execute_result"
    }
   ],
   "source": [
    "initial = pd.read_csv('sort_in_clust_by_dist_to_zero.csv', sep=',').rename(columns={'SORTED_LAGERID':'LAGERID'})['LAGERID'].values\n",
    "minimization_function(initial,0)"
   ]
  },
  {
   "cell_type": "code",
   "execution_count": 76,
   "id": "f03f6626",
   "metadata": {},
   "outputs": [
    {
     "name": "stderr",
     "output_type": "stream",
     "text": [
      "100%|████████████████████████████████████| 5822/5822 [00:00<00:00, 30751.84it/s]\n",
      "100%|███████████████████████████████████████| 5822/5822 [02:29<00:00, 38.99it/s]\n"
     ]
    },
    {
     "data": {
      "text/plain": [
       "-398210.0"
      ]
     },
     "execution_count": 76,
     "metadata": {},
     "output_type": "execute_result"
    }
   ],
   "source": [
    "initial = pd.read_csv('test_sub_new.csv', sep=';')['LAGERID'].values\n",
    "minimization_function(initial,0)"
   ]
  },
  {
   "cell_type": "code",
   "execution_count": 78,
   "id": "df0b81ab",
   "metadata": {},
   "outputs": [
    {
     "name": "stderr",
     "output_type": "stream",
     "text": [
      "100%|████████████████████████████████████| 5822/5822 [00:00<00:00, 39307.51it/s]\n",
      "100%|███████████████████████████████████████| 5822/5822 [02:46<00:00, 34.97it/s]\n"
     ]
    },
    {
     "data": {
      "text/plain": [
       "-416096.0"
      ]
     },
     "execution_count": 78,
     "metadata": {},
     "output_type": "execute_result"
    }
   ],
   "source": [
    "initial = pd.read_csv('darkstore_map.csv', sep=';')['LAGERID'].values\n",
    "minimization_function(initial,0)"
   ]
  },
  {
   "cell_type": "code",
   "execution_count": 106,
   "id": "518059e1",
   "metadata": {},
   "outputs": [],
   "source": [
    "initial_ga_cust_mut = [ 44,  26,  50, 126,   2, 116,  42, 114,  27,  69, 123,  53,  98,\n",
    "        21, 130,  32,  25,  28,  12,  60,  83,  31,  90,  17,  78, 122,\n",
    "        55,  41, 129,  19,  85,  79, 100,  33,  37,  89,   5,  88,  81,\n",
    "       119,   4,  18,  15,  29,   3,   7,  57,  14,  30,  51, 107,  20,\n",
    "       118,  80,  87,  95,  75,  38,  22, 106, 105,  23,  45,   1,  40,\n",
    "        68,  64,  77,   9,  84,  91,  46,  54,  92,  82,  71, 125,  39,\n",
    "        10,  99, 121,   6, 108, 131, 128,  59, 110,  58,  52,  24,  62,\n",
    "       112, 115,  86,  35,  94,  49, 104,  74, 127,  11,  97,  43, 109,\n",
    "        70,  67,  72,  13,  61,  36, 117,  93,  47, 132,  34,  96, 111,\n",
    "       113,  63,  16, 103, 102,  56, 101,  65,  73,  76, 124,  48,   8,\n",
    "       120,  66]"
   ]
  },
  {
   "cell_type": "code",
   "execution_count": 107,
   "id": "253380d5",
   "metadata": {},
   "outputs": [
    {
     "name": "stderr",
     "output_type": "stream",
     "text": [
      "100%|████████████████████████████████████| 5822/5822 [00:00<00:00, 20058.78it/s]\n",
      "100%|███████████████████████████████████████| 5822/5822 [02:48<00:00, 34.51it/s]\n"
     ]
    },
    {
     "data": {
      "text/plain": [
       "-395241.0"
      ]
     },
     "execution_count": 107,
     "metadata": {},
     "output_type": "execute_result"
    }
   ],
   "source": [
    "minimization_function(initial_ga_cust_mut,0)"
   ]
  },
  {
   "cell_type": "code",
   "execution_count": 108,
   "id": "21132c63",
   "metadata": {},
   "outputs": [],
   "source": [
    "initial_ga_cust_mut2 = [ 83,  98,  21, 130,  32,  25,  51,  12,  60,  31,  90,  17,  78,\n",
    "       122,  55, 125,   1,  19,  27,  69, 123,  44,  26,  53,  85,  50,\n",
    "       126,  79, 100,  33,  37,  89,   5,  88,  81, 119,   4,  18,  28,\n",
    "       107,  43, 118,  15,  29,   3,   7,  57,  14,  30,   2, 116,  42,\n",
    "       114,  80,  87,  95,  75,  38,  22, 106, 105,  35,  45, 129,  40,\n",
    "        68,  64,  77,   9,  84,  41,  46,  54,  92,  82,  71,  91,  39,\n",
    "        10,  99, 121,   6, 108, 131,   8,  59, 110,  16,  52,  24,  62,\n",
    "       112, 115,  86,  23,  94,  49, 104, 128, 127,  11,  97,  20, 109,\n",
    "        70,  67,  72,  13,  74,  36, 117,  48,  47, 132,  34,  96, 111,\n",
    "       113,  61,  63,  58, 103, 102,  56,  76,  65,  73, 101, 124,  93,\n",
    "       120,  66]"
   ]
  },
  {
   "cell_type": "code",
   "execution_count": 109,
   "id": "43863731",
   "metadata": {},
   "outputs": [
    {
     "name": "stderr",
     "output_type": "stream",
     "text": [
      "100%|████████████████████████████████████| 5822/5822 [00:00<00:00, 20949.01it/s]\n",
      "100%|███████████████████████████████████████| 5822/5822 [02:36<00:00, 37.19it/s]\n"
     ]
    },
    {
     "data": {
      "text/plain": [
       "-394871.0"
      ]
     },
     "execution_count": 109,
     "metadata": {},
     "output_type": "execute_result"
    }
   ],
   "source": [
    "minimization_function(initial_ga_cust_mut2,0)"
   ]
  },
  {
   "cell_type": "code",
   "execution_count": 110,
   "id": "dba3905b",
   "metadata": {},
   "outputs": [],
   "source": [
    "initial_ga = [  2, 116,  42,  57,  14,  30, 114,  27,  69, 123,  44,  26,  53,\n",
    "        98,  21, 130,  32,  25,  51,  12,  60,  83,  31,  90,  17,  78,\n",
    "       122,  55,  41, 129,  19,  94,  50, 126,  79,  70,  33,  37,  89,\n",
    "         5,  67,  81,  15,  29,   3,   7,  48, 100, 119,   4,  96,  28,\n",
    "       107,  20, 118,  80,  87,  95,  75, 108,  38,  22, 106, 105,  23,\n",
    "        45,   1,  40,  68,  64,  77,   9,  84,  91,  46,  54,  92,  82,\n",
    "        71, 125,  39,  10,  99, 102, 121,   6, 131,  74,  59, 110,  58,\n",
    "        24,  62, 112, 115,  86,  35,  85,  49, 104, 128, 127,  11,  97,\n",
    "        43, 109,  88,  72,  13,  61,  36, 117,  52, 120,  47, 132,  34,\n",
    "        18, 111, 113,  63,  16, 103,  56,  76,  65,  73, 101, 124,  93,\n",
    "         8,  66]"
   ]
  },
  {
   "cell_type": "code",
   "execution_count": 111,
   "id": "1ac04b4f",
   "metadata": {},
   "outputs": [
    {
     "name": "stderr",
     "output_type": "stream",
     "text": [
      "100%|████████████████████████████████████| 5822/5822 [00:00<00:00, 40021.17it/s]\n",
      "100%|███████████████████████████████████████| 5822/5822 [02:10<00:00, 44.65it/s]\n"
     ]
    },
    {
     "data": {
      "text/plain": [
       "-393957.0"
      ]
     },
     "execution_count": 111,
     "metadata": {},
     "output_type": "execute_result"
    }
   ],
   "source": [
    "minimization_function(initial_ga,0)"
   ]
  },
  {
   "cell_type": "markdown",
   "id": "0ec85d45",
   "metadata": {},
   "source": [
    "# Genetic stuff"
   ]
  },
  {
   "cell_type": "code",
   "execution_count": 275,
   "id": "d889b58f",
   "metadata": {},
   "outputs": [
    {
     "data": {
      "text/plain": [
       "(132, 1)"
      ]
     },
     "execution_count": 275,
     "metadata": {},
     "output_type": "execute_result"
    }
   ],
   "source": [
    "max(initial), min(initial)"
   ]
  },
  {
   "cell_type": "code",
   "execution_count": 276,
   "id": "bcdafb63",
   "metadata": {},
   "outputs": [],
   "source": [
    "import pygad"
   ]
  },
  {
   "cell_type": "code",
   "execution_count": 381,
   "id": "25a1df0c",
   "metadata": {},
   "outputs": [],
   "source": [
    "fitness_function = minimization_function\n",
    "num_generations = 25 # Number of generations.\n",
    "num_parents_mating = 5 # Number of solutions to be selected as parents in the mating pool.\n",
    "sol_per_pop = 22 # Number of solutions in the population.\n",
    "num_genes = 132  \n",
    "\n",
    "init_range_low = 1\n",
    "init_range_high = 132\n",
    "\n",
    "parent_selection_type = \"rank\" # Type of parent selection.\n",
    "keep_parents = 5 # Number of parents to keep in the next population. -1 means keep all parents and 0 means keep nothing.\n",
    "\n",
    "# Parameters of the mutation operation.\n",
    "mutation_type = \"swap\" # Type of the mutation operator.\n",
    "mutation_percent_genes = 10 \n"
   ]
  },
  {
   "cell_type": "code",
   "execution_count": 382,
   "id": "c8936228",
   "metadata": {},
   "outputs": [],
   "source": [
    "population_list = []\n",
    "gene_space = [i for i in range(1, 132+1)]\n",
    "for i in range(sol_per_pop):\n",
    "    nxm_random_num=list(np.random.permutation(gene_space)) \n",
    "    population_list.append(nxm_random_num)\n",
    "initial1 = pd.read_csv('darkstore_map.csv', sep=';')['LAGERID'].values\n",
    "initial2 = pd.read_csv('test_sub_new.csv', sep=';')['LAGERID'].values\n",
    "initial3 = pd.read_csv('clustered_only_sub', sep=';')['LAGERID'].values\n",
    "\n",
    "population_list.append(initial)"
   ]
  },
  {
   "cell_type": "code",
   "execution_count": 383,
   "id": "b33ecde1",
   "metadata": {},
   "outputs": [],
   "source": [
    "def on_generation(ga):\n",
    "    print(\"Generation\", ga.generations_completed)\n",
    "    print(ga.population)"
   ]
  },
  {
   "cell_type": "code",
   "execution_count": 384,
   "id": "59a56ea5",
   "metadata": {},
   "outputs": [],
   "source": [
    "def crossover_func(parents, offspring_size, ga_instance):\n",
    "    offspring = []\n",
    "    idx = 0\n",
    "    while len(offspring) != offspring_size[0]:\n",
    "        childP1 = []\n",
    "        childP2 = []\n",
    "        parent1 = parents[idx % parents.shape[0], :].copy()\n",
    "        parent2 = parents[(idx + 1) % parents.shape[0], :].copy()\n",
    "        \n",
    "        geneA = int(random.random() * len(parent1))\n",
    "        geneB = int(random.random() * len(parent1))\n",
    "    \n",
    "        startGene = min(geneA, geneB)\n",
    "        endGene = max(geneA, geneB)\n",
    "\n",
    "        for i in range(startGene, endGene):\n",
    "            childP1.append(parent1[i])\n",
    "            \n",
    "        childP2 = [item for item in parent2 if item not in childP1]\n",
    "        \n",
    "        offspring.append(np.array(childP1+childP2))\n",
    "\n",
    "        idx += 1\n",
    "\n",
    "    return np.array(offspring)"
   ]
  },
  {
   "cell_type": "code",
   "execution_count": 385,
   "id": "ef2b3e41",
   "metadata": {},
   "outputs": [],
   "source": [
    "ga_instance = pygad.GA(num_generations=num_generations,\n",
    "                       num_genes=num_genes,\n",
    "                       mutation_percent_genes = mutation_percent_genes, \n",
    "                       initial_population=population_list,\n",
    "                       parent_selection_type=parent_selection_type,\n",
    "                       sol_per_pop = len(population_list),\n",
    "                       gene_space = gene_space,\n",
    "                       num_parents_mating=num_parents_mating,\n",
    "                       mutation_type=mutation_type,\n",
    "                       fitness_func=fitness_function,\n",
    "                       crossover_type = crossover_func,\n",
    "                       gene_type=int,\n",
    "                       on_generation=on_generation,\n",
    "                       allow_duplicate_genes=False)"
   ]
  },
  {
   "cell_type": "code",
   "execution_count": null,
   "id": "93938031",
   "metadata": {},
   "outputs": [
    {
     "data": {
      "text/plain": [
       "CHEQUEID    0\n",
       "LAGERID     0\n",
       "KOLVO       0\n",
       "SECTION     0\n",
       "LEVEL       0\n",
       "dtype: int64"
      ]
     },
     "metadata": {},
     "output_type": "display_data"
    },
    {
     "name": "stderr",
     "output_type": "stream",
     "text": [
      "100%|████████████████████████████████████| 5822/5822 [00:00<00:00, 38924.42it/s]\n",
      "100%|██████████████████████████████████████| 5822/5822 [00:05<00:00, 972.28it/s]\n"
     ]
    },
    {
     "data": {
      "text/plain": [
       "CHEQUEID    0\n",
       "LAGERID     0\n",
       "KOLVO       0\n",
       "SECTION     0\n",
       "LEVEL       0\n",
       "dtype: int64"
      ]
     },
     "metadata": {},
     "output_type": "display_data"
    },
    {
     "name": "stderr",
     "output_type": "stream",
     "text": [
      "100%|████████████████████████████████████| 5822/5822 [00:00<00:00, 28292.18it/s]\n",
      "100%|██████████████████████████████████████| 5822/5822 [00:05<00:00, 982.16it/s]\n"
     ]
    },
    {
     "data": {
      "text/plain": [
       "CHEQUEID    0\n",
       "LAGERID     0\n",
       "KOLVO       0\n",
       "SECTION     0\n",
       "LEVEL       0\n",
       "dtype: int64"
      ]
     },
     "metadata": {},
     "output_type": "display_data"
    },
    {
     "name": "stderr",
     "output_type": "stream",
     "text": [
      "100%|████████████████████████████████████| 5822/5822 [00:00<00:00, 35583.54it/s]\n",
      "100%|██████████████████████████████████████| 5822/5822 [00:06<00:00, 932.92it/s]\n"
     ]
    },
    {
     "data": {
      "text/plain": [
       "CHEQUEID    0\n",
       "LAGERID     0\n",
       "KOLVO       0\n",
       "SECTION     0\n",
       "LEVEL       0\n",
       "dtype: int64"
      ]
     },
     "metadata": {},
     "output_type": "display_data"
    },
    {
     "name": "stderr",
     "output_type": "stream",
     "text": [
      "100%|████████████████████████████████████| 5822/5822 [00:00<00:00, 37493.53it/s]\n",
      "100%|██████████████████████████████████████| 5822/5822 [00:06<00:00, 938.24it/s]\n"
     ]
    },
    {
     "data": {
      "text/plain": [
       "CHEQUEID    0\n",
       "LAGERID     0\n",
       "KOLVO       0\n",
       "SECTION     0\n",
       "LEVEL       0\n",
       "dtype: int64"
      ]
     },
     "metadata": {},
     "output_type": "display_data"
    },
    {
     "name": "stderr",
     "output_type": "stream",
     "text": [
      "100%|████████████████████████████████████| 5822/5822 [00:00<00:00, 16604.35it/s]\n",
      "100%|██████████████████████████████████████| 5822/5822 [00:05<00:00, 993.98it/s]\n"
     ]
    },
    {
     "data": {
      "text/plain": [
       "CHEQUEID    0\n",
       "LAGERID     0\n",
       "KOLVO       0\n",
       "SECTION     0\n",
       "LEVEL       0\n",
       "dtype: int64"
      ]
     },
     "metadata": {},
     "output_type": "display_data"
    },
    {
     "name": "stderr",
     "output_type": "stream",
     "text": [
      "100%|████████████████████████████████████| 5822/5822 [00:00<00:00, 36240.27it/s]\n",
      "100%|██████████████████████████████████████| 5822/5822 [00:05<00:00, 975.87it/s]\n"
     ]
    },
    {
     "data": {
      "text/plain": [
       "CHEQUEID    0\n",
       "LAGERID     0\n",
       "KOLVO       0\n",
       "SECTION     0\n",
       "LEVEL       0\n",
       "dtype: int64"
      ]
     },
     "metadata": {},
     "output_type": "display_data"
    },
    {
     "name": "stderr",
     "output_type": "stream",
     "text": [
      "100%|████████████████████████████████████| 5822/5822 [00:00<00:00, 30619.66it/s]\n",
      "100%|██████████████████████████████████████| 5822/5822 [00:06<00:00, 954.25it/s]\n"
     ]
    },
    {
     "data": {
      "text/plain": [
       "CHEQUEID    0\n",
       "LAGERID     0\n",
       "KOLVO       0\n",
       "SECTION     0\n",
       "LEVEL       0\n",
       "dtype: int64"
      ]
     },
     "metadata": {},
     "output_type": "display_data"
    },
    {
     "name": "stderr",
     "output_type": "stream",
     "text": [
      "100%|████████████████████████████████████| 5822/5822 [00:00<00:00, 17490.62it/s]\n",
      "100%|██████████████████████████████████████| 5822/5822 [00:05<00:00, 984.26it/s]\n"
     ]
    },
    {
     "data": {
      "text/plain": [
       "CHEQUEID    0\n",
       "LAGERID     0\n",
       "KOLVO       0\n",
       "SECTION     0\n",
       "LEVEL       0\n",
       "dtype: int64"
      ]
     },
     "metadata": {},
     "output_type": "display_data"
    },
    {
     "name": "stderr",
     "output_type": "stream",
     "text": [
      "100%|████████████████████████████████████| 5822/5822 [00:00<00:00, 36635.27it/s]\n",
      "100%|██████████████████████████████████████| 5822/5822 [00:05<00:00, 974.91it/s]\n"
     ]
    },
    {
     "data": {
      "text/plain": [
       "CHEQUEID    0\n",
       "LAGERID     0\n",
       "KOLVO       0\n",
       "SECTION     0\n",
       "LEVEL       0\n",
       "dtype: int64"
      ]
     },
     "metadata": {},
     "output_type": "display_data"
    },
    {
     "name": "stderr",
     "output_type": "stream",
     "text": [
      "100%|████████████████████████████████████| 5822/5822 [00:00<00:00, 41465.43it/s]\n",
      "100%|█████████████████████████████████████| 5822/5822 [00:05<00:00, 1114.13it/s]\n"
     ]
    },
    {
     "data": {
      "text/plain": [
       "CHEQUEID    0\n",
       "LAGERID     0\n",
       "KOLVO       0\n",
       "SECTION     0\n",
       "LEVEL       0\n",
       "dtype: int64"
      ]
     },
     "metadata": {},
     "output_type": "display_data"
    },
    {
     "name": "stderr",
     "output_type": "stream",
     "text": [
      "100%|████████████████████████████████████| 5822/5822 [00:00<00:00, 40569.99it/s]\n",
      "100%|█████████████████████████████████████| 5822/5822 [00:05<00:00, 1070.77it/s]\n"
     ]
    },
    {
     "data": {
      "text/plain": [
       "CHEQUEID    0\n",
       "LAGERID     0\n",
       "KOLVO       0\n",
       "SECTION     0\n",
       "LEVEL       0\n",
       "dtype: int64"
      ]
     },
     "metadata": {},
     "output_type": "display_data"
    },
    {
     "name": "stderr",
     "output_type": "stream",
     "text": [
      "100%|████████████████████████████████████| 5822/5822 [00:00<00:00, 36055.13it/s]\n",
      "100%|██████████████████████████████████████| 5822/5822 [00:05<00:00, 983.68it/s]\n"
     ]
    },
    {
     "data": {
      "text/plain": [
       "CHEQUEID    0\n",
       "LAGERID     0\n",
       "KOLVO       0\n",
       "SECTION     0\n",
       "LEVEL       0\n",
       "dtype: int64"
      ]
     },
     "metadata": {},
     "output_type": "display_data"
    },
    {
     "name": "stderr",
     "output_type": "stream",
     "text": [
      "100%|████████████████████████████████████| 5822/5822 [00:00<00:00, 39351.66it/s]\n",
      "100%|█████████████████████████████████████| 5822/5822 [00:05<00:00, 1035.68it/s]\n"
     ]
    },
    {
     "data": {
      "text/plain": [
       "CHEQUEID    0\n",
       "LAGERID     0\n",
       "KOLVO       0\n",
       "SECTION     0\n",
       "LEVEL       0\n",
       "dtype: int64"
      ]
     },
     "metadata": {},
     "output_type": "display_data"
    },
    {
     "name": "stderr",
     "output_type": "stream",
     "text": [
      "100%|████████████████████████████████████| 5822/5822 [00:00<00:00, 39372.72it/s]\n",
      "100%|██████████████████████████████████████| 5822/5822 [00:06<00:00, 962.19it/s]\n"
     ]
    },
    {
     "data": {
      "text/plain": [
       "CHEQUEID    0\n",
       "LAGERID     0\n",
       "KOLVO       0\n",
       "SECTION     0\n",
       "LEVEL       0\n",
       "dtype: int64"
      ]
     },
     "metadata": {},
     "output_type": "display_data"
    },
    {
     "name": "stderr",
     "output_type": "stream",
     "text": [
      "100%|████████████████████████████████████| 5822/5822 [00:00<00:00, 30902.02it/s]\n",
      "100%|█████████████████████████████████████| 5822/5822 [00:05<00:00, 1059.95it/s]\n"
     ]
    },
    {
     "data": {
      "text/plain": [
       "CHEQUEID    0\n",
       "LAGERID     0\n",
       "KOLVO       0\n",
       "SECTION     0\n",
       "LEVEL       0\n",
       "dtype: int64"
      ]
     },
     "metadata": {},
     "output_type": "display_data"
    },
    {
     "name": "stderr",
     "output_type": "stream",
     "text": [
      "100%|████████████████████████████████████| 5822/5822 [00:00<00:00, 22341.87it/s]\n",
      "100%|██████████████████████████████████████| 5822/5822 [00:06<00:00, 939.47it/s]\n"
     ]
    },
    {
     "data": {
      "text/plain": [
       "CHEQUEID    0\n",
       "LAGERID     0\n",
       "KOLVO       0\n",
       "SECTION     0\n",
       "LEVEL       0\n",
       "dtype: int64"
      ]
     },
     "metadata": {},
     "output_type": "display_data"
    },
    {
     "name": "stderr",
     "output_type": "stream",
     "text": [
      "100%|████████████████████████████████████| 5822/5822 [00:00<00:00, 25751.25it/s]\n",
      "100%|██████████████████████████████████████| 5822/5822 [00:08<00:00, 700.08it/s]\n"
     ]
    },
    {
     "data": {
      "text/plain": [
       "CHEQUEID    0\n",
       "LAGERID     0\n",
       "KOLVO       0\n",
       "SECTION     0\n",
       "LEVEL       0\n",
       "dtype: int64"
      ]
     },
     "metadata": {},
     "output_type": "display_data"
    },
    {
     "name": "stderr",
     "output_type": "stream",
     "text": [
      "100%|████████████████████████████████████| 5822/5822 [00:00<00:00, 28958.99it/s]\n",
      "100%|██████████████████████████████████████| 5822/5822 [00:06<00:00, 843.36it/s]\n"
     ]
    },
    {
     "data": {
      "text/plain": [
       "CHEQUEID    0\n",
       "LAGERID     0\n",
       "KOLVO       0\n",
       "SECTION     0\n",
       "LEVEL       0\n",
       "dtype: int64"
      ]
     },
     "metadata": {},
     "output_type": "display_data"
    },
    {
     "name": "stderr",
     "output_type": "stream",
     "text": [
      "100%|████████████████████████████████████| 5822/5822 [00:00<00:00, 18044.26it/s]\n",
      "100%|██████████████████████████████████████| 5822/5822 [00:06<00:00, 898.50it/s]\n"
     ]
    },
    {
     "data": {
      "text/plain": [
       "CHEQUEID    0\n",
       "LAGERID     0\n",
       "KOLVO       0\n",
       "SECTION     0\n",
       "LEVEL       0\n",
       "dtype: int64"
      ]
     },
     "metadata": {},
     "output_type": "display_data"
    },
    {
     "name": "stderr",
     "output_type": "stream",
     "text": [
      "100%|████████████████████████████████████| 5822/5822 [00:00<00:00, 30394.42it/s]\n",
      "100%|██████████████████████████████████████| 5822/5822 [00:05<00:00, 987.33it/s]\n"
     ]
    },
    {
     "data": {
      "text/plain": [
       "CHEQUEID    0\n",
       "LAGERID     0\n",
       "KOLVO       0\n",
       "SECTION     0\n",
       "LEVEL       0\n",
       "dtype: int64"
      ]
     },
     "metadata": {},
     "output_type": "display_data"
    },
    {
     "name": "stderr",
     "output_type": "stream",
     "text": [
      "100%|████████████████████████████████████| 5822/5822 [00:00<00:00, 32764.22it/s]\n",
      "100%|█████████████████████████████████████| 5822/5822 [00:05<00:00, 1028.77it/s]\n"
     ]
    },
    {
     "data": {
      "text/plain": [
       "CHEQUEID    0\n",
       "LAGERID     0\n",
       "KOLVO       0\n",
       "SECTION     0\n",
       "LEVEL       0\n",
       "dtype: int64"
      ]
     },
     "metadata": {},
     "output_type": "display_data"
    },
    {
     "name": "stderr",
     "output_type": "stream",
     "text": [
      "100%|████████████████████████████████████| 5822/5822 [00:00<00:00, 21872.36it/s]\n",
      "100%|█████████████████████████████████████| 5822/5822 [00:05<00:00, 1016.19it/s]\n"
     ]
    },
    {
     "data": {
      "text/plain": [
       "CHEQUEID    0\n",
       "LAGERID     0\n",
       "KOLVO       0\n",
       "SECTION     0\n",
       "LEVEL       0\n",
       "dtype: int64"
      ]
     },
     "metadata": {},
     "output_type": "display_data"
    },
    {
     "name": "stderr",
     "output_type": "stream",
     "text": [
      "100%|████████████████████████████████████| 5822/5822 [00:00<00:00, 37168.75it/s]\n",
      "100%|█████████████████████████████████████| 5822/5822 [00:05<00:00, 1032.83it/s]\n"
     ]
    },
    {
     "data": {
      "text/plain": [
       "CHEQUEID    0\n",
       "LAGERID     0\n",
       "KOLVO       0\n",
       "SECTION     0\n",
       "LEVEL       0\n",
       "dtype: int64"
      ]
     },
     "metadata": {},
     "output_type": "display_data"
    },
    {
     "name": "stderr",
     "output_type": "stream",
     "text": [
      "100%|████████████████████████████████████| 5822/5822 [00:00<00:00, 39405.76it/s]\n",
      "100%|█████████████████████████████████████| 5822/5822 [00:05<00:00, 1015.74it/s]\n"
     ]
    },
    {
     "data": {
      "text/plain": [
       "CHEQUEID    0\n",
       "LAGERID     0\n",
       "KOLVO       0\n",
       "SECTION     0\n",
       "LEVEL       0\n",
       "dtype: int64"
      ]
     },
     "metadata": {},
     "output_type": "display_data"
    },
    {
     "name": "stderr",
     "output_type": "stream",
     "text": [
      "100%|████████████████████████████████████| 5822/5822 [00:00<00:00, 30488.07it/s]\n",
      "100%|█████████████████████████████████████| 5822/5822 [00:05<00:00, 1099.11it/s]\n"
     ]
    },
    {
     "data": {
      "text/plain": [
       "CHEQUEID    0\n",
       "LAGERID     0\n",
       "KOLVO       0\n",
       "SECTION     0\n",
       "LEVEL       0\n",
       "dtype: int64"
      ]
     },
     "metadata": {},
     "output_type": "display_data"
    },
    {
     "name": "stderr",
     "output_type": "stream",
     "text": [
      "100%|████████████████████████████████████| 5822/5822 [00:00<00:00, 32844.60it/s]\n",
      "100%|█████████████████████████████████████| 5822/5822 [00:05<00:00, 1023.10it/s]\n"
     ]
    },
    {
     "data": {
      "text/plain": [
       "CHEQUEID    0\n",
       "LAGERID     0\n",
       "KOLVO       0\n",
       "SECTION     0\n",
       "LEVEL       0\n",
       "dtype: int64"
      ]
     },
     "metadata": {},
     "output_type": "display_data"
    },
    {
     "name": "stderr",
     "output_type": "stream",
     "text": [
      "100%|████████████████████████████████████| 5822/5822 [00:00<00:00, 40742.05it/s]\n",
      "100%|██████████████████████████████████████| 5822/5822 [00:06<00:00, 934.76it/s]\n"
     ]
    },
    {
     "data": {
      "text/plain": [
       "CHEQUEID    0\n",
       "LAGERID     0\n",
       "KOLVO       0\n",
       "SECTION     0\n",
       "LEVEL       0\n",
       "dtype: int64"
      ]
     },
     "metadata": {},
     "output_type": "display_data"
    },
    {
     "name": "stderr",
     "output_type": "stream",
     "text": [
      "100%|████████████████████████████████████| 5822/5822 [00:00<00:00, 36565.54it/s]\n",
      "100%|█████████████████████████████████████| 5822/5822 [00:05<00:00, 1016.95it/s]\n"
     ]
    },
    {
     "data": {
      "text/plain": [
       "CHEQUEID    0\n",
       "LAGERID     0\n",
       "KOLVO       0\n",
       "SECTION     0\n",
       "LEVEL       0\n",
       "dtype: int64"
      ]
     },
     "metadata": {},
     "output_type": "display_data"
    },
    {
     "name": "stderr",
     "output_type": "stream",
     "text": [
      "100%|████████████████████████████████████| 5822/5822 [00:00<00:00, 25206.30it/s]\n",
      "100%|██████████████████████████████████████| 5822/5822 [00:06<00:00, 958.97it/s]\n"
     ]
    },
    {
     "data": {
      "text/plain": [
       "CHEQUEID    0\n",
       "LAGERID     0\n",
       "KOLVO       0\n",
       "SECTION     0\n",
       "LEVEL       0\n",
       "dtype: int64"
      ]
     },
     "metadata": {},
     "output_type": "display_data"
    },
    {
     "name": "stderr",
     "output_type": "stream",
     "text": [
      "100%|████████████████████████████████████| 5822/5822 [00:00<00:00, 18610.32it/s]\n",
      "100%|█████████████████████████████████████| 5822/5822 [00:05<00:00, 1030.47it/s]\n"
     ]
    },
    {
     "data": {
      "text/plain": [
       "CHEQUEID    0\n",
       "LAGERID     0\n",
       "KOLVO       0\n",
       "SECTION     0\n",
       "LEVEL       0\n",
       "dtype: int64"
      ]
     },
     "metadata": {},
     "output_type": "display_data"
    },
    {
     "name": "stderr",
     "output_type": "stream",
     "text": [
      "100%|████████████████████████████████████| 5822/5822 [00:00<00:00, 40774.84it/s]\n",
      "100%|██████████████████████████████████████| 5822/5822 [00:06<00:00, 945.09it/s]\n"
     ]
    },
    {
     "data": {
      "text/plain": [
       "CHEQUEID    0\n",
       "LAGERID     0\n",
       "KOLVO       0\n",
       "SECTION     0\n",
       "LEVEL       0\n",
       "dtype: int64"
      ]
     },
     "metadata": {},
     "output_type": "display_data"
    },
    {
     "name": "stderr",
     "output_type": "stream",
     "text": [
      "100%|████████████████████████████████████| 5822/5822 [00:00<00:00, 39038.92it/s]\n",
      "100%|██████████████████████████████████████| 5822/5822 [00:05<00:00, 995.51it/s]\n"
     ]
    },
    {
     "data": {
      "text/plain": [
       "CHEQUEID    0\n",
       "LAGERID     0\n",
       "KOLVO       0\n",
       "SECTION     0\n",
       "LEVEL       0\n",
       "dtype: int64"
      ]
     },
     "metadata": {},
     "output_type": "display_data"
    },
    {
     "name": "stderr",
     "output_type": "stream",
     "text": [
      "100%|████████████████████████████████████| 5822/5822 [00:00<00:00, 19018.01it/s]\n",
      "100%|██████████████████████████████████████| 5822/5822 [00:06<00:00, 956.03it/s]\n"
     ]
    },
    {
     "data": {
      "text/plain": [
       "CHEQUEID    0\n",
       "LAGERID     0\n",
       "KOLVO       0\n",
       "SECTION     0\n",
       "LEVEL       0\n",
       "dtype: int64"
      ]
     },
     "metadata": {},
     "output_type": "display_data"
    },
    {
     "name": "stderr",
     "output_type": "stream",
     "text": [
      "100%|████████████████████████████████████| 5822/5822 [00:00<00:00, 39028.26it/s]\n",
      "100%|██████████████████████████████████████| 5822/5822 [00:05<00:00, 971.60it/s]\n"
     ]
    },
    {
     "data": {
      "text/plain": [
       "CHEQUEID    0\n",
       "LAGERID     0\n",
       "KOLVO       0\n",
       "SECTION     0\n",
       "LEVEL       0\n",
       "dtype: int64"
      ]
     },
     "metadata": {},
     "output_type": "display_data"
    },
    {
     "name": "stderr",
     "output_type": "stream",
     "text": [
      "100%|████████████████████████████████████| 5822/5822 [00:00<00:00, 30924.32it/s]\n",
      "100%|██████████████████████████████████████| 5822/5822 [00:06<00:00, 839.78it/s]\n"
     ]
    },
    {
     "data": {
      "text/plain": [
       "CHEQUEID    0\n",
       "LAGERID     0\n",
       "KOLVO       0\n",
       "SECTION     0\n",
       "LEVEL       0\n",
       "dtype: int64"
      ]
     },
     "metadata": {},
     "output_type": "display_data"
    },
    {
     "name": "stderr",
     "output_type": "stream",
     "text": [
      "100%|████████████████████████████████████| 5822/5822 [00:00<00:00, 17388.45it/s]\n",
      "100%|██████████████████████████████████████| 5822/5822 [00:06<00:00, 960.77it/s]\n"
     ]
    },
    {
     "data": {
      "text/plain": [
       "CHEQUEID    0\n",
       "LAGERID     0\n",
       "KOLVO       0\n",
       "SECTION     0\n",
       "LEVEL       0\n",
       "dtype: int64"
      ]
     },
     "metadata": {},
     "output_type": "display_data"
    },
    {
     "name": "stderr",
     "output_type": "stream",
     "text": [
      "100%|████████████████████████████████████| 5822/5822 [00:00<00:00, 37116.66it/s]\n",
      "100%|██████████████████████████████████████| 5822/5822 [00:06<00:00, 873.71it/s]\n"
     ]
    },
    {
     "data": {
      "text/plain": [
       "CHEQUEID    0\n",
       "LAGERID     0\n",
       "KOLVO       0\n",
       "SECTION     0\n",
       "LEVEL       0\n",
       "dtype: int64"
      ]
     },
     "metadata": {},
     "output_type": "display_data"
    },
    {
     "name": "stderr",
     "output_type": "stream",
     "text": [
      "100%|████████████████████████████████████| 5822/5822 [00:00<00:00, 38346.01it/s]\n",
      "100%|█████████████████████████████████████| 5822/5822 [00:05<00:00, 1002.34it/s]\n"
     ]
    },
    {
     "data": {
      "text/plain": [
       "CHEQUEID    0\n",
       "LAGERID     0\n",
       "KOLVO       0\n",
       "SECTION     0\n",
       "LEVEL       0\n",
       "dtype: int64"
      ]
     },
     "metadata": {},
     "output_type": "display_data"
    },
    {
     "name": "stderr",
     "output_type": "stream",
     "text": [
      "100%|████████████████████████████████████| 5822/5822 [00:00<00:00, 29678.04it/s]\n",
      "100%|██████████████████████████████████████| 5822/5822 [00:06<00:00, 885.19it/s]\n"
     ]
    },
    {
     "data": {
      "text/plain": [
       "CHEQUEID    0\n",
       "LAGERID     0\n",
       "KOLVO       0\n",
       "SECTION     0\n",
       "LEVEL       0\n",
       "dtype: int64"
      ]
     },
     "metadata": {},
     "output_type": "display_data"
    },
    {
     "name": "stderr",
     "output_type": "stream",
     "text": [
      "100%|████████████████████████████████████| 5822/5822 [00:00<00:00, 39434.27it/s]\n",
      "100%|█████████████████████████████████████| 5822/5822 [00:05<00:00, 1115.17it/s]\n"
     ]
    },
    {
     "data": {
      "text/plain": [
       "CHEQUEID    0\n",
       "LAGERID     0\n",
       "KOLVO       0\n",
       "SECTION     0\n",
       "LEVEL       0\n",
       "dtype: int64"
      ]
     },
     "metadata": {},
     "output_type": "display_data"
    },
    {
     "name": "stderr",
     "output_type": "stream",
     "text": [
      "100%|████████████████████████████████████| 5822/5822 [00:00<00:00, 22633.54it/s]\n",
      "100%|██████████████████████████████████████| 5822/5822 [00:06<00:00, 832.79it/s]\n"
     ]
    },
    {
     "data": {
      "text/plain": [
       "CHEQUEID    0\n",
       "LAGERID     0\n",
       "KOLVO       0\n",
       "SECTION     0\n",
       "LEVEL       0\n",
       "dtype: int64"
      ]
     },
     "metadata": {},
     "output_type": "display_data"
    },
    {
     "name": "stderr",
     "output_type": "stream",
     "text": [
      "100%|████████████████████████████████████| 5822/5822 [00:00<00:00, 30018.94it/s]\n",
      "100%|██████████████████████████████████████| 5822/5822 [00:05<00:00, 971.71it/s]\n"
     ]
    },
    {
     "data": {
      "text/plain": [
       "CHEQUEID    0\n",
       "LAGERID     0\n",
       "KOLVO       0\n",
       "SECTION     0\n",
       "LEVEL       0\n",
       "dtype: int64"
      ]
     },
     "metadata": {},
     "output_type": "display_data"
    },
    {
     "name": "stderr",
     "output_type": "stream",
     "text": [
      "100%|████████████████████████████████████| 5822/5822 [00:00<00:00, 40554.76it/s]\n",
      "100%|██████████████████████████████████████| 5822/5822 [00:05<00:00, 974.11it/s]\n"
     ]
    },
    {
     "data": {
      "text/plain": [
       "CHEQUEID    0\n",
       "LAGERID     0\n",
       "KOLVO       0\n",
       "SECTION     0\n",
       "LEVEL       0\n",
       "dtype: int64"
      ]
     },
     "metadata": {},
     "output_type": "display_data"
    },
    {
     "name": "stderr",
     "output_type": "stream",
     "text": [
      "100%|████████████████████████████████████| 5822/5822 [00:00<00:00, 20876.07it/s]\n",
      "100%|██████████████████████████████████████| 5822/5822 [00:06<00:00, 959.77it/s]\n"
     ]
    },
    {
     "data": {
      "text/plain": [
       "CHEQUEID    0\n",
       "LAGERID     0\n",
       "KOLVO       0\n",
       "SECTION     0\n",
       "LEVEL       0\n",
       "dtype: int64"
      ]
     },
     "metadata": {},
     "output_type": "display_data"
    },
    {
     "name": "stderr",
     "output_type": "stream",
     "text": [
      "100%|████████████████████████████████████| 5822/5822 [00:00<00:00, 39272.04it/s]\n",
      "100%|█████████████████████████████████████| 5822/5822 [00:05<00:00, 1050.57it/s]\n"
     ]
    },
    {
     "data": {
      "text/plain": [
       "CHEQUEID    0\n",
       "LAGERID     0\n",
       "KOLVO       0\n",
       "SECTION     0\n",
       "LEVEL       0\n",
       "dtype: int64"
      ]
     },
     "metadata": {},
     "output_type": "display_data"
    },
    {
     "name": "stderr",
     "output_type": "stream",
     "text": [
      "100%|████████████████████████████████████| 5822/5822 [00:00<00:00, 31489.31it/s]\n",
      "100%|██████████████████████████████████████| 5822/5822 [00:06<00:00, 961.64it/s]\n"
     ]
    },
    {
     "data": {
      "text/plain": [
       "CHEQUEID    0\n",
       "LAGERID     0\n",
       "KOLVO       0\n",
       "SECTION     0\n",
       "LEVEL       0\n",
       "dtype: int64"
      ]
     },
     "metadata": {},
     "output_type": "display_data"
    },
    {
     "name": "stderr",
     "output_type": "stream",
     "text": [
      "100%|████████████████████████████████████| 5822/5822 [00:00<00:00, 17472.63it/s]\n",
      "100%|█████████████████████████████████████| 5822/5822 [00:05<00:00, 1060.90it/s]"
     ]
    },
    {
     "name": "stdout",
     "output_type": "stream",
     "text": [
      "Generation 1\n",
      "[[  1   2   3 ... 130 131 132]\n",
      " [ 70 119 118 ...   6  71 108]\n",
      " [  1  39  24 ...  26  82   9]\n",
      " ...\n",
      " [ 73  98  22 ...  16 100  83]\n",
      " [ 45  26  95 ... 128 129 131]\n",
      " [ 86  87  88 ... 124   6  71]]\n"
     ]
    },
    {
     "name": "stderr",
     "output_type": "stream",
     "text": [
      "\n"
     ]
    },
    {
     "data": {
      "text/plain": [
       "CHEQUEID    0\n",
       "LAGERID     0\n",
       "KOLVO       0\n",
       "SECTION     0\n",
       "LEVEL       0\n",
       "dtype: int64"
      ]
     },
     "metadata": {},
     "output_type": "display_data"
    },
    {
     "name": "stderr",
     "output_type": "stream",
     "text": [
      "100%|████████████████████████████████████| 5822/5822 [00:00<00:00, 38026.72it/s]\n",
      "100%|█████████████████████████████████████| 5822/5822 [00:05<00:00, 1029.35it/s]\n"
     ]
    },
    {
     "data": {
      "text/plain": [
       "CHEQUEID    0\n",
       "LAGERID     0\n",
       "KOLVO       0\n",
       "SECTION     0\n",
       "LEVEL       0\n",
       "dtype: int64"
      ]
     },
     "metadata": {},
     "output_type": "display_data"
    },
    {
     "name": "stderr",
     "output_type": "stream",
     "text": [
      "100%|████████████████████████████████████| 5822/5822 [00:00<00:00, 40034.69it/s]\n",
      "100%|██████████████████████████████████████| 5822/5822 [00:05<00:00, 990.16it/s]\n"
     ]
    },
    {
     "data": {
      "text/plain": [
       "CHEQUEID    0\n",
       "LAGERID     0\n",
       "KOLVO       0\n",
       "SECTION     0\n",
       "LEVEL       0\n",
       "dtype: int64"
      ]
     },
     "metadata": {},
     "output_type": "display_data"
    },
    {
     "name": "stderr",
     "output_type": "stream",
     "text": [
      "100%|████████████████████████████████████| 5822/5822 [00:00<00:00, 41481.41it/s]\n",
      "100%|█████████████████████████████████████| 5822/5822 [00:05<00:00, 1083.27it/s]\n"
     ]
    },
    {
     "data": {
      "text/plain": [
       "CHEQUEID    0\n",
       "LAGERID     0\n",
       "KOLVO       0\n",
       "SECTION     0\n",
       "LEVEL       0\n",
       "dtype: int64"
      ]
     },
     "metadata": {},
     "output_type": "display_data"
    },
    {
     "name": "stderr",
     "output_type": "stream",
     "text": [
      "100%|████████████████████████████████████| 5822/5822 [00:00<00:00, 36300.34it/s]\n",
      "100%|██████████████████████████████████████| 5822/5822 [00:05<00:00, 993.81it/s]\n"
     ]
    },
    {
     "data": {
      "text/plain": [
       "CHEQUEID    0\n",
       "LAGERID     0\n",
       "KOLVO       0\n",
       "SECTION     0\n",
       "LEVEL       0\n",
       "dtype: int64"
      ]
     },
     "metadata": {},
     "output_type": "display_data"
    },
    {
     "name": "stderr",
     "output_type": "stream",
     "text": [
      "100%|████████████████████████████████████| 5822/5822 [00:00<00:00, 17575.89it/s]\n",
      "100%|█████████████████████████████████████| 5822/5822 [00:05<00:00, 1078.05it/s]\n"
     ]
    },
    {
     "data": {
      "text/plain": [
       "CHEQUEID    0\n",
       "LAGERID     0\n",
       "KOLVO       0\n",
       "SECTION     0\n",
       "LEVEL       0\n",
       "dtype: int64"
      ]
     },
     "metadata": {},
     "output_type": "display_data"
    },
    {
     "name": "stderr",
     "output_type": "stream",
     "text": [
      "100%|████████████████████████████████████| 5822/5822 [00:00<00:00, 37730.47it/s]\n",
      "100%|█████████████████████████████████████| 5822/5822 [00:05<00:00, 1013.95it/s]\n"
     ]
    },
    {
     "data": {
      "text/plain": [
       "CHEQUEID    0\n",
       "LAGERID     0\n",
       "KOLVO       0\n",
       "SECTION     0\n",
       "LEVEL       0\n",
       "dtype: int64"
      ]
     },
     "metadata": {},
     "output_type": "display_data"
    },
    {
     "name": "stderr",
     "output_type": "stream",
     "text": [
      "100%|████████████████████████████████████| 5822/5822 [00:00<00:00, 37504.65it/s]\n",
      "100%|█████████████████████████████████████| 5822/5822 [00:05<00:00, 1111.50it/s]\n"
     ]
    },
    {
     "data": {
      "text/plain": [
       "CHEQUEID    0\n",
       "LAGERID     0\n",
       "KOLVO       0\n",
       "SECTION     0\n",
       "LEVEL       0\n",
       "dtype: int64"
      ]
     },
     "metadata": {},
     "output_type": "display_data"
    },
    {
     "name": "stderr",
     "output_type": "stream",
     "text": [
      "100%|████████████████████████████████████| 5822/5822 [00:00<00:00, 21959.19it/s]\n",
      "100%|█████████████████████████████████████| 5822/5822 [00:05<00:00, 1070.58it/s]\n"
     ]
    },
    {
     "data": {
      "text/plain": [
       "CHEQUEID    0\n",
       "LAGERID     0\n",
       "KOLVO       0\n",
       "SECTION     0\n",
       "LEVEL       0\n",
       "dtype: int64"
      ]
     },
     "metadata": {},
     "output_type": "display_data"
    },
    {
     "name": "stderr",
     "output_type": "stream",
     "text": [
      "100%|████████████████████████████████████| 5822/5822 [00:00<00:00, 39120.29it/s]\n",
      "100%|██████████████████████████████████████| 5822/5822 [00:06<00:00, 953.54it/s]\n"
     ]
    },
    {
     "data": {
      "text/plain": [
       "CHEQUEID    0\n",
       "LAGERID     0\n",
       "KOLVO       0\n",
       "SECTION     0\n",
       "LEVEL       0\n",
       "dtype: int64"
      ]
     },
     "metadata": {},
     "output_type": "display_data"
    },
    {
     "name": "stderr",
     "output_type": "stream",
     "text": [
      "100%|████████████████████████████████████| 5822/5822 [00:00<00:00, 39292.96it/s]\n",
      "100%|█████████████████████████████████████| 5822/5822 [00:05<00:00, 1104.41it/s]\n"
     ]
    },
    {
     "data": {
      "text/plain": [
       "CHEQUEID    0\n",
       "LAGERID     0\n",
       "KOLVO       0\n",
       "SECTION     0\n",
       "LEVEL       0\n",
       "dtype: int64"
      ]
     },
     "metadata": {},
     "output_type": "display_data"
    },
    {
     "name": "stderr",
     "output_type": "stream",
     "text": [
      "100%|████████████████████████████████████| 5822/5822 [00:00<00:00, 22186.64it/s]\n",
      "100%|█████████████████████████████████████| 5822/5822 [00:05<00:00, 1119.50it/s]\n"
     ]
    },
    {
     "data": {
      "text/plain": [
       "CHEQUEID    0\n",
       "LAGERID     0\n",
       "KOLVO       0\n",
       "SECTION     0\n",
       "LEVEL       0\n",
       "dtype: int64"
      ]
     },
     "metadata": {},
     "output_type": "display_data"
    },
    {
     "name": "stderr",
     "output_type": "stream",
     "text": [
      "100%|████████████████████████████████████| 5822/5822 [00:00<00:00, 40088.38it/s]\n",
      "100%|█████████████████████████████████████| 5822/5822 [00:05<00:00, 1049.18it/s]\n"
     ]
    },
    {
     "data": {
      "text/plain": [
       "CHEQUEID    0\n",
       "LAGERID     0\n",
       "KOLVO       0\n",
       "SECTION     0\n",
       "LEVEL       0\n",
       "dtype: int64"
      ]
     },
     "metadata": {},
     "output_type": "display_data"
    },
    {
     "name": "stderr",
     "output_type": "stream",
     "text": [
      "100%|████████████████████████████████████| 5822/5822 [00:00<00:00, 40414.28it/s]\n",
      "100%|█████████████████████████████████████| 5822/5822 [00:05<00:00, 1101.86it/s]\n"
     ]
    },
    {
     "data": {
      "text/plain": [
       "CHEQUEID    0\n",
       "LAGERID     0\n",
       "KOLVO       0\n",
       "SECTION     0\n",
       "LEVEL       0\n",
       "dtype: int64"
      ]
     },
     "metadata": {},
     "output_type": "display_data"
    },
    {
     "name": "stderr",
     "output_type": "stream",
     "text": [
      "100%|████████████████████████████████████| 5822/5822 [00:00<00:00, 22006.85it/s]\n",
      "100%|█████████████████████████████████████| 5822/5822 [00:05<00:00, 1128.32it/s]\n"
     ]
    },
    {
     "data": {
      "text/plain": [
       "CHEQUEID    0\n",
       "LAGERID     0\n",
       "KOLVO       0\n",
       "SECTION     0\n",
       "LEVEL       0\n",
       "dtype: int64"
      ]
     },
     "metadata": {},
     "output_type": "display_data"
    },
    {
     "name": "stderr",
     "output_type": "stream",
     "text": [
      "100%|████████████████████████████████████| 5822/5822 [00:00<00:00, 33364.86it/s]\n",
      "100%|█████████████████████████████████████| 5822/5822 [00:05<00:00, 1104.50it/s]\n"
     ]
    },
    {
     "data": {
      "text/plain": [
       "CHEQUEID    0\n",
       "LAGERID     0\n",
       "KOLVO       0\n",
       "SECTION     0\n",
       "LEVEL       0\n",
       "dtype: int64"
      ]
     },
     "metadata": {},
     "output_type": "display_data"
    },
    {
     "name": "stderr",
     "output_type": "stream",
     "text": [
      "100%|████████████████████████████████████| 5822/5822 [00:00<00:00, 41451.35it/s]\n",
      "100%|█████████████████████████████████████| 5822/5822 [00:05<00:00, 1159.06it/s]\n"
     ]
    },
    {
     "data": {
      "text/plain": [
       "CHEQUEID    0\n",
       "LAGERID     0\n",
       "KOLVO       0\n",
       "SECTION     0\n",
       "LEVEL       0\n",
       "dtype: int64"
      ]
     },
     "metadata": {},
     "output_type": "display_data"
    },
    {
     "name": "stderr",
     "output_type": "stream",
     "text": [
      "100%|████████████████████████████████████| 5822/5822 [00:00<00:00, 38461.25it/s]\n",
      "100%|█████████████████████████████████████| 5822/5822 [00:05<00:00, 1057.31it/s]\n"
     ]
    },
    {
     "data": {
      "text/plain": [
       "CHEQUEID    0\n",
       "LAGERID     0\n",
       "KOLVO       0\n",
       "SECTION     0\n",
       "LEVEL       0\n",
       "dtype: int64"
      ]
     },
     "metadata": {},
     "output_type": "display_data"
    },
    {
     "name": "stderr",
     "output_type": "stream",
     "text": [
      "100%|████████████████████████████████████| 5822/5822 [00:00<00:00, 34703.77it/s]\n",
      "100%|█████████████████████████████████████| 5822/5822 [00:05<00:00, 1036.67it/s]\n"
     ]
    },
    {
     "data": {
      "text/plain": [
       "CHEQUEID    0\n",
       "LAGERID     0\n",
       "KOLVO       0\n",
       "SECTION     0\n",
       "LEVEL       0\n",
       "dtype: int64"
      ]
     },
     "metadata": {},
     "output_type": "display_data"
    },
    {
     "name": "stderr",
     "output_type": "stream",
     "text": [
      "100%|████████████████████████████████████| 5822/5822 [00:00<00:00, 22088.82it/s]\n",
      "100%|█████████████████████████████████████| 5822/5822 [00:05<00:00, 1053.00it/s]\n"
     ]
    },
    {
     "data": {
      "text/plain": [
       "CHEQUEID    0\n",
       "LAGERID     0\n",
       "KOLVO       0\n",
       "SECTION     0\n",
       "LEVEL       0\n",
       "dtype: int64"
      ]
     },
     "metadata": {},
     "output_type": "display_data"
    },
    {
     "name": "stderr",
     "output_type": "stream",
     "text": [
      "100%|████████████████████████████████████| 5822/5822 [00:00<00:00, 40571.20it/s]\n",
      "100%|██████████████████████████████████████| 5822/5822 [00:05<00:00, 983.77it/s]\n"
     ]
    },
    {
     "data": {
      "text/plain": [
       "CHEQUEID    0\n",
       "LAGERID     0\n",
       "KOLVO       0\n",
       "SECTION     0\n",
       "LEVEL       0\n",
       "dtype: int64"
      ]
     },
     "metadata": {},
     "output_type": "display_data"
    },
    {
     "name": "stderr",
     "output_type": "stream",
     "text": [
      "100%|████████████████████████████████████| 5822/5822 [00:00<00:00, 34253.29it/s]\n",
      "100%|██████████████████████████████████████| 5822/5822 [00:06<00:00, 832.78it/s]"
     ]
    },
    {
     "name": "stdout",
     "output_type": "stream",
     "text": [
      "Generation 2\n",
      "[[  1   2   3 ... 130 131 132]\n",
      " [ 70 119 118 ...   6  71 108]\n",
      " [ 87  10 129 ... 128 131 132]\n",
      " ...\n",
      " [101 102 103 ...  26  82   9]\n",
      " [ 64  97  84 ... 130 131 132]\n",
      " [ 55  56  57 ... 124   6 108]]\n"
     ]
    },
    {
     "name": "stderr",
     "output_type": "stream",
     "text": [
      "\n"
     ]
    },
    {
     "data": {
      "text/plain": [
       "CHEQUEID    0\n",
       "LAGERID     0\n",
       "KOLVO       0\n",
       "SECTION     0\n",
       "LEVEL       0\n",
       "dtype: int64"
      ]
     },
     "metadata": {},
     "output_type": "display_data"
    },
    {
     "name": "stderr",
     "output_type": "stream",
     "text": [
      "100%|████████████████████████████████████| 5822/5822 [00:00<00:00, 18544.96it/s]\n",
      "100%|█████████████████████████████████████| 5822/5822 [00:05<00:00, 1050.20it/s]\n"
     ]
    },
    {
     "data": {
      "text/plain": [
       "CHEQUEID    0\n",
       "LAGERID     0\n",
       "KOLVO       0\n",
       "SECTION     0\n",
       "LEVEL       0\n",
       "dtype: int64"
      ]
     },
     "metadata": {},
     "output_type": "display_data"
    },
    {
     "name": "stderr",
     "output_type": "stream",
     "text": [
      "100%|████████████████████████████████████| 5822/5822 [00:00<00:00, 31143.69it/s]\n",
      "100%|██████████████████████████████████████| 5822/5822 [00:05<00:00, 972.05it/s]\n"
     ]
    },
    {
     "data": {
      "text/plain": [
       "CHEQUEID    0\n",
       "LAGERID     0\n",
       "KOLVO       0\n",
       "SECTION     0\n",
       "LEVEL       0\n",
       "dtype: int64"
      ]
     },
     "metadata": {},
     "output_type": "display_data"
    },
    {
     "name": "stderr",
     "output_type": "stream",
     "text": [
      "100%|████████████████████████████████████| 5822/5822 [00:00<00:00, 38368.24it/s]\n",
      "100%|█████████████████████████████████████| 5822/5822 [00:05<00:00, 1091.72it/s]\n"
     ]
    },
    {
     "data": {
      "text/plain": [
       "CHEQUEID    0\n",
       "LAGERID     0\n",
       "KOLVO       0\n",
       "SECTION     0\n",
       "LEVEL       0\n",
       "dtype: int64"
      ]
     },
     "metadata": {},
     "output_type": "display_data"
    },
    {
     "name": "stderr",
     "output_type": "stream",
     "text": [
      "100%|████████████████████████████████████| 5822/5822 [00:00<00:00, 20875.84it/s]\n",
      "100%|█████████████████████████████████████| 5822/5822 [00:05<00:00, 1060.29it/s]\n"
     ]
    },
    {
     "data": {
      "text/plain": [
       "CHEQUEID    0\n",
       "LAGERID     0\n",
       "KOLVO       0\n",
       "SECTION     0\n",
       "LEVEL       0\n",
       "dtype: int64"
      ]
     },
     "metadata": {},
     "output_type": "display_data"
    },
    {
     "name": "stderr",
     "output_type": "stream",
     "text": [
      "100%|████████████████████████████████████| 5822/5822 [00:00<00:00, 40645.69it/s]\n",
      "100%|█████████████████████████████████████| 5822/5822 [00:05<00:00, 1122.92it/s]\n"
     ]
    },
    {
     "data": {
      "text/plain": [
       "CHEQUEID    0\n",
       "LAGERID     0\n",
       "KOLVO       0\n",
       "SECTION     0\n",
       "LEVEL       0\n",
       "dtype: int64"
      ]
     },
     "metadata": {},
     "output_type": "display_data"
    },
    {
     "name": "stderr",
     "output_type": "stream",
     "text": [
      "100%|████████████████████████████████████| 5822/5822 [00:00<00:00, 40530.66it/s]\n",
      "100%|█████████████████████████████████████| 5822/5822 [00:05<00:00, 1115.45it/s]\n"
     ]
    },
    {
     "data": {
      "text/plain": [
       "CHEQUEID    0\n",
       "LAGERID     0\n",
       "KOLVO       0\n",
       "SECTION     0\n",
       "LEVEL       0\n",
       "dtype: int64"
      ]
     },
     "metadata": {},
     "output_type": "display_data"
    },
    {
     "name": "stderr",
     "output_type": "stream",
     "text": [
      "100%|████████████████████████████████████| 5822/5822 [00:00<00:00, 22423.44it/s]\n",
      "100%|█████████████████████████████████████| 5822/5822 [00:05<00:00, 1082.07it/s]\n"
     ]
    },
    {
     "data": {
      "text/plain": [
       "CHEQUEID    0\n",
       "LAGERID     0\n",
       "KOLVO       0\n",
       "SECTION     0\n",
       "LEVEL       0\n",
       "dtype: int64"
      ]
     },
     "metadata": {},
     "output_type": "display_data"
    },
    {
     "name": "stderr",
     "output_type": "stream",
     "text": [
      "100%|████████████████████████████████████| 5822/5822 [00:00<00:00, 39599.26it/s]\n",
      "100%|█████████████████████████████████████| 5822/5822 [00:05<00:00, 1110.63it/s]\n"
     ]
    },
    {
     "data": {
      "text/plain": [
       "CHEQUEID    0\n",
       "LAGERID     0\n",
       "KOLVO       0\n",
       "SECTION     0\n",
       "LEVEL       0\n",
       "dtype: int64"
      ]
     },
     "metadata": {},
     "output_type": "display_data"
    },
    {
     "name": "stderr",
     "output_type": "stream",
     "text": [
      "100%|████████████████████████████████████| 5822/5822 [00:00<00:00, 40974.35it/s]\n",
      "100%|█████████████████████████████████████| 5822/5822 [00:05<00:00, 1121.48it/s]\n"
     ]
    },
    {
     "data": {
      "text/plain": [
       "CHEQUEID    0\n",
       "LAGERID     0\n",
       "KOLVO       0\n",
       "SECTION     0\n",
       "LEVEL       0\n",
       "dtype: int64"
      ]
     },
     "metadata": {},
     "output_type": "display_data"
    },
    {
     "name": "stderr",
     "output_type": "stream",
     "text": [
      "100%|████████████████████████████████████| 5822/5822 [00:00<00:00, 36819.05it/s]\n",
      "100%|█████████████████████████████████████| 5822/5822 [00:05<00:00, 1130.86it/s]\n"
     ]
    },
    {
     "data": {
      "text/plain": [
       "CHEQUEID    0\n",
       "LAGERID     0\n",
       "KOLVO       0\n",
       "SECTION     0\n",
       "LEVEL       0\n",
       "dtype: int64"
      ]
     },
     "metadata": {},
     "output_type": "display_data"
    },
    {
     "name": "stderr",
     "output_type": "stream",
     "text": [
      "100%|████████████████████████████████████| 5822/5822 [00:00<00:00, 40060.50it/s]\n",
      "100%|█████████████████████████████████████| 5822/5822 [00:05<00:00, 1141.86it/s]\n"
     ]
    },
    {
     "data": {
      "text/plain": [
       "CHEQUEID    0\n",
       "LAGERID     0\n",
       "KOLVO       0\n",
       "SECTION     0\n",
       "LEVEL       0\n",
       "dtype: int64"
      ]
     },
     "metadata": {},
     "output_type": "display_data"
    },
    {
     "name": "stderr",
     "output_type": "stream",
     "text": [
      "100%|████████████████████████████████████| 5822/5822 [00:00<00:00, 22170.08it/s]\n",
      "100%|█████████████████████████████████████| 5822/5822 [00:05<00:00, 1111.73it/s]\n"
     ]
    },
    {
     "data": {
      "text/plain": [
       "CHEQUEID    0\n",
       "LAGERID     0\n",
       "KOLVO       0\n",
       "SECTION     0\n",
       "LEVEL       0\n",
       "dtype: int64"
      ]
     },
     "metadata": {},
     "output_type": "display_data"
    },
    {
     "name": "stderr",
     "output_type": "stream",
     "text": [
      "100%|████████████████████████████████████| 5822/5822 [00:00<00:00, 39656.94it/s]\n",
      "100%|█████████████████████████████████████| 5822/5822 [00:05<00:00, 1102.76it/s]\n"
     ]
    },
    {
     "data": {
      "text/plain": [
       "CHEQUEID    0\n",
       "LAGERID     0\n",
       "KOLVO       0\n",
       "SECTION     0\n",
       "LEVEL       0\n",
       "dtype: int64"
      ]
     },
     "metadata": {},
     "output_type": "display_data"
    },
    {
     "name": "stderr",
     "output_type": "stream",
     "text": [
      "100%|████████████████████████████████████| 5822/5822 [00:00<00:00, 39862.81it/s]\n",
      "100%|█████████████████████████████████████| 5822/5822 [00:05<00:00, 1113.90it/s]\n"
     ]
    },
    {
     "data": {
      "text/plain": [
       "CHEQUEID    0\n",
       "LAGERID     0\n",
       "KOLVO       0\n",
       "SECTION     0\n",
       "LEVEL       0\n",
       "dtype: int64"
      ]
     },
     "metadata": {},
     "output_type": "display_data"
    },
    {
     "name": "stderr",
     "output_type": "stream",
     "text": [
      "100%|████████████████████████████████████| 5822/5822 [00:00<00:00, 21425.03it/s]\n",
      "100%|█████████████████████████████████████| 5822/5822 [00:05<00:00, 1112.45it/s]\n"
     ]
    },
    {
     "data": {
      "text/plain": [
       "CHEQUEID    0\n",
       "LAGERID     0\n",
       "KOLVO       0\n",
       "SECTION     0\n",
       "LEVEL       0\n",
       "dtype: int64"
      ]
     },
     "metadata": {},
     "output_type": "display_data"
    },
    {
     "name": "stderr",
     "output_type": "stream",
     "text": [
      "100%|████████████████████████████████████| 5822/5822 [00:00<00:00, 40976.28it/s]\n",
      "100%|█████████████████████████████████████| 5822/5822 [00:05<00:00, 1109.98it/s]\n"
     ]
    },
    {
     "data": {
      "text/plain": [
       "CHEQUEID    0\n",
       "LAGERID     0\n",
       "KOLVO       0\n",
       "SECTION     0\n",
       "LEVEL       0\n",
       "dtype: int64"
      ]
     },
     "metadata": {},
     "output_type": "display_data"
    },
    {
     "name": "stderr",
     "output_type": "stream",
     "text": [
      "100%|████████████████████████████████████| 5822/5822 [00:00<00:00, 40754.36it/s]\n",
      "100%|█████████████████████████████████████| 5822/5822 [00:05<00:00, 1130.54it/s]\n"
     ]
    },
    {
     "data": {
      "text/plain": [
       "CHEQUEID    0\n",
       "LAGERID     0\n",
       "KOLVO       0\n",
       "SECTION     0\n",
       "LEVEL       0\n",
       "dtype: int64"
      ]
     },
     "metadata": {},
     "output_type": "display_data"
    },
    {
     "name": "stderr",
     "output_type": "stream",
     "text": [
      "100%|████████████████████████████████████| 5822/5822 [00:00<00:00, 20920.92it/s]\n",
      "100%|█████████████████████████████████████| 5822/5822 [00:05<00:00, 1051.62it/s]\n"
     ]
    },
    {
     "data": {
      "text/plain": [
       "CHEQUEID    0\n",
       "LAGERID     0\n",
       "KOLVO       0\n",
       "SECTION     0\n",
       "LEVEL       0\n",
       "dtype: int64"
      ]
     },
     "metadata": {},
     "output_type": "display_data"
    },
    {
     "name": "stderr",
     "output_type": "stream",
     "text": [
      "100%|████████████████████████████████████| 5822/5822 [00:00<00:00, 21644.08it/s]\n",
      "100%|██████████████████████████████████████| 5822/5822 [00:06<00:00, 905.07it/s]\n"
     ]
    },
    {
     "data": {
      "text/plain": [
       "CHEQUEID    0\n",
       "LAGERID     0\n",
       "KOLVO       0\n",
       "SECTION     0\n",
       "LEVEL       0\n",
       "dtype: int64"
      ]
     },
     "metadata": {},
     "output_type": "display_data"
    },
    {
     "name": "stderr",
     "output_type": "stream",
     "text": [
      "100%|████████████████████████████████████| 5822/5822 [00:00<00:00, 35400.26it/s]\n",
      "100%|██████████████████████████████████████| 5822/5822 [00:06<00:00, 933.95it/s]\n"
     ]
    },
    {
     "data": {
      "text/plain": [
       "CHEQUEID    0\n",
       "LAGERID     0\n",
       "KOLVO       0\n",
       "SECTION     0\n",
       "LEVEL       0\n",
       "dtype: int64"
      ]
     },
     "metadata": {},
     "output_type": "display_data"
    },
    {
     "name": "stderr",
     "output_type": "stream",
     "text": [
      "100%|████████████████████████████████████| 5822/5822 [00:00<00:00, 33743.28it/s]\n",
      "100%|█████████████████████████████████████| 5822/5822 [00:05<00:00, 1086.34it/s]"
     ]
    },
    {
     "name": "stdout",
     "output_type": "stream",
     "text": [
      "Generation 3\n",
      "[[ 17 117 118 ... 130 131 132]\n",
      " [  1   2   3 ... 130 131 132]\n",
      " [ 64  97  84 ... 130 131 132]\n",
      " ...\n",
      " [123  55  96 ... 128 131 132]\n",
      " [ 41  42  43 ... 130 131 132]\n",
      " [118  85  22 ... 130 131 132]]\n"
     ]
    },
    {
     "name": "stderr",
     "output_type": "stream",
     "text": [
      "\n"
     ]
    },
    {
     "data": {
      "text/plain": [
       "CHEQUEID    0\n",
       "LAGERID     0\n",
       "KOLVO       0\n",
       "SECTION     0\n",
       "LEVEL       0\n",
       "dtype: int64"
      ]
     },
     "metadata": {},
     "output_type": "display_data"
    },
    {
     "name": "stderr",
     "output_type": "stream",
     "text": [
      "100%|████████████████████████████████████| 5822/5822 [00:00<00:00, 40004.65it/s]\n",
      "100%|█████████████████████████████████████| 5822/5822 [00:05<00:00, 1145.52it/s]\n"
     ]
    },
    {
     "data": {
      "text/plain": [
       "CHEQUEID    0\n",
       "LAGERID     0\n",
       "KOLVO       0\n",
       "SECTION     0\n",
       "LEVEL       0\n",
       "dtype: int64"
      ]
     },
     "metadata": {},
     "output_type": "display_data"
    },
    {
     "name": "stderr",
     "output_type": "stream",
     "text": [
      "100%|████████████████████████████████████| 5822/5822 [00:00<00:00, 21851.30it/s]\n",
      "100%|█████████████████████████████████████| 5822/5822 [00:05<00:00, 1126.25it/s]\n"
     ]
    },
    {
     "data": {
      "text/plain": [
       "CHEQUEID    0\n",
       "LAGERID     0\n",
       "KOLVO       0\n",
       "SECTION     0\n",
       "LEVEL       0\n",
       "dtype: int64"
      ]
     },
     "metadata": {},
     "output_type": "display_data"
    },
    {
     "name": "stderr",
     "output_type": "stream",
     "text": [
      "100%|████████████████████████████████████| 5822/5822 [00:00<00:00, 36513.27it/s]\n",
      "100%|██████████████████████████████████████| 5822/5822 [00:06<00:00, 868.07it/s]\n"
     ]
    },
    {
     "data": {
      "text/plain": [
       "CHEQUEID    0\n",
       "LAGERID     0\n",
       "KOLVO       0\n",
       "SECTION     0\n",
       "LEVEL       0\n",
       "dtype: int64"
      ]
     },
     "metadata": {},
     "output_type": "display_data"
    },
    {
     "name": "stderr",
     "output_type": "stream",
     "text": [
      "100%|████████████████████████████████████| 5822/5822 [00:00<00:00, 31145.36it/s]\n",
      "100%|██████████████████████████████████████| 5822/5822 [00:06<00:00, 913.33it/s]\n"
     ]
    },
    {
     "data": {
      "text/plain": [
       "CHEQUEID    0\n",
       "LAGERID     0\n",
       "KOLVO       0\n",
       "SECTION     0\n",
       "LEVEL       0\n",
       "dtype: int64"
      ]
     },
     "metadata": {},
     "output_type": "display_data"
    },
    {
     "name": "stderr",
     "output_type": "stream",
     "text": [
      "100%|████████████████████████████████████| 5822/5822 [00:00<00:00, 15933.43it/s]\n",
      "100%|██████████████████████████████████████| 5822/5822 [00:06<00:00, 905.50it/s]\n"
     ]
    },
    {
     "data": {
      "text/plain": [
       "CHEQUEID    0\n",
       "LAGERID     0\n",
       "KOLVO       0\n",
       "SECTION     0\n",
       "LEVEL       0\n",
       "dtype: int64"
      ]
     },
     "metadata": {},
     "output_type": "display_data"
    },
    {
     "name": "stderr",
     "output_type": "stream",
     "text": [
      "100%|████████████████████████████████████| 5822/5822 [00:00<00:00, 32795.59it/s]\n",
      "100%|█████████████████████████████████████| 5822/5822 [00:05<00:00, 1056.90it/s]\n"
     ]
    },
    {
     "data": {
      "text/plain": [
       "CHEQUEID    0\n",
       "LAGERID     0\n",
       "KOLVO       0\n",
       "SECTION     0\n",
       "LEVEL       0\n",
       "dtype: int64"
      ]
     },
     "metadata": {},
     "output_type": "display_data"
    },
    {
     "name": "stderr",
     "output_type": "stream",
     "text": [
      "100%|████████████████████████████████████| 5822/5822 [00:00<00:00, 40039.02it/s]\n",
      "100%|██████████████████████████████████████| 5822/5822 [00:06<00:00, 938.07it/s]\n"
     ]
    },
    {
     "data": {
      "text/plain": [
       "CHEQUEID    0\n",
       "LAGERID     0\n",
       "KOLVO       0\n",
       "SECTION     0\n",
       "LEVEL       0\n",
       "dtype: int64"
      ]
     },
     "metadata": {},
     "output_type": "display_data"
    },
    {
     "name": "stderr",
     "output_type": "stream",
     "text": [
      "100%|████████████████████████████████████| 5822/5822 [00:00<00:00, 19747.30it/s]\n",
      "100%|██████████████████████████████████████| 5822/5822 [00:06<00:00, 923.88it/s]\n"
     ]
    },
    {
     "data": {
      "text/plain": [
       "CHEQUEID    0\n",
       "LAGERID     0\n",
       "KOLVO       0\n",
       "SECTION     0\n",
       "LEVEL       0\n",
       "dtype: int64"
      ]
     },
     "metadata": {},
     "output_type": "display_data"
    },
    {
     "name": "stderr",
     "output_type": "stream",
     "text": [
      "100%|████████████████████████████████████| 5822/5822 [00:00<00:00, 28171.29it/s]\n",
      "100%|█████████████████████████████████████| 5822/5822 [00:05<00:00, 1068.68it/s]\n"
     ]
    },
    {
     "data": {
      "text/plain": [
       "CHEQUEID    0\n",
       "LAGERID     0\n",
       "KOLVO       0\n",
       "SECTION     0\n",
       "LEVEL       0\n",
       "dtype: int64"
      ]
     },
     "metadata": {},
     "output_type": "display_data"
    },
    {
     "name": "stderr",
     "output_type": "stream",
     "text": [
      "100%|████████████████████████████████████| 5822/5822 [00:00<00:00, 33654.74it/s]\n",
      "100%|██████████████████████████████████████| 5822/5822 [00:06<00:00, 967.61it/s]\n"
     ]
    },
    {
     "data": {
      "text/plain": [
       "CHEQUEID    0\n",
       "LAGERID     0\n",
       "KOLVO       0\n",
       "SECTION     0\n",
       "LEVEL       0\n",
       "dtype: int64"
      ]
     },
     "metadata": {},
     "output_type": "display_data"
    },
    {
     "name": "stderr",
     "output_type": "stream",
     "text": [
      "100%|████████████████████████████████████| 5822/5822 [00:00<00:00, 20566.41it/s]\n",
      "100%|██████████████████████████████████████| 5822/5822 [00:06<00:00, 874.46it/s]\n"
     ]
    },
    {
     "data": {
      "text/plain": [
       "CHEQUEID    0\n",
       "LAGERID     0\n",
       "KOLVO       0\n",
       "SECTION     0\n",
       "LEVEL       0\n",
       "dtype: int64"
      ]
     },
     "metadata": {},
     "output_type": "display_data"
    },
    {
     "name": "stderr",
     "output_type": "stream",
     "text": [
      "100%|████████████████████████████████████| 5822/5822 [00:00<00:00, 39792.52it/s]\n",
      "100%|██████████████████████████████████████| 5822/5822 [00:06<00:00, 913.67it/s]\n"
     ]
    },
    {
     "data": {
      "text/plain": [
       "CHEQUEID    0\n",
       "LAGERID     0\n",
       "KOLVO       0\n",
       "SECTION     0\n",
       "LEVEL       0\n",
       "dtype: int64"
      ]
     },
     "metadata": {},
     "output_type": "display_data"
    },
    {
     "name": "stderr",
     "output_type": "stream",
     "text": [
      "100%|████████████████████████████████████| 5822/5822 [00:00<00:00, 36996.77it/s]\n",
      "100%|█████████████████████████████████████| 5822/5822 [00:05<00:00, 1045.26it/s]\n"
     ]
    },
    {
     "data": {
      "text/plain": [
       "CHEQUEID    0\n",
       "LAGERID     0\n",
       "KOLVO       0\n",
       "SECTION     0\n",
       "LEVEL       0\n",
       "dtype: int64"
      ]
     },
     "metadata": {},
     "output_type": "display_data"
    },
    {
     "name": "stderr",
     "output_type": "stream",
     "text": [
      "100%|████████████████████████████████████| 5822/5822 [00:00<00:00, 34566.32it/s]\n",
      "100%|█████████████████████████████████████| 5822/5822 [00:05<00:00, 1040.29it/s]\n"
     ]
    },
    {
     "data": {
      "text/plain": [
       "CHEQUEID    0\n",
       "LAGERID     0\n",
       "KOLVO       0\n",
       "SECTION     0\n",
       "LEVEL       0\n",
       "dtype: int64"
      ]
     },
     "metadata": {},
     "output_type": "display_data"
    },
    {
     "name": "stderr",
     "output_type": "stream",
     "text": [
      "100%|████████████████████████████████████| 5822/5822 [00:00<00:00, 34184.34it/s]\n",
      "100%|██████████████████████████████████████| 5822/5822 [00:05<00:00, 998.18it/s]\n"
     ]
    },
    {
     "data": {
      "text/plain": [
       "CHEQUEID    0\n",
       "LAGERID     0\n",
       "KOLVO       0\n",
       "SECTION     0\n",
       "LEVEL       0\n",
       "dtype: int64"
      ]
     },
     "metadata": {},
     "output_type": "display_data"
    },
    {
     "name": "stderr",
     "output_type": "stream",
     "text": [
      "100%|████████████████████████████████████| 5822/5822 [00:00<00:00, 20231.78it/s]\n",
      "100%|█████████████████████████████████████| 5822/5822 [00:05<00:00, 1041.99it/s]\n"
     ]
    },
    {
     "data": {
      "text/plain": [
       "CHEQUEID    0\n",
       "LAGERID     0\n",
       "KOLVO       0\n",
       "SECTION     0\n",
       "LEVEL       0\n",
       "dtype: int64"
      ]
     },
     "metadata": {},
     "output_type": "display_data"
    },
    {
     "name": "stderr",
     "output_type": "stream",
     "text": [
      "100%|████████████████████████████████████| 5822/5822 [00:00<00:00, 39762.07it/s]\n",
      "100%|█████████████████████████████████████| 5822/5822 [00:05<00:00, 1052.24it/s]\n"
     ]
    },
    {
     "data": {
      "text/plain": [
       "CHEQUEID    0\n",
       "LAGERID     0\n",
       "KOLVO       0\n",
       "SECTION     0\n",
       "LEVEL       0\n",
       "dtype: int64"
      ]
     },
     "metadata": {},
     "output_type": "display_data"
    },
    {
     "name": "stderr",
     "output_type": "stream",
     "text": [
      "100%|████████████████████████████████████| 5822/5822 [00:00<00:00, 37825.86it/s]\n",
      "100%|█████████████████████████████████████| 5822/5822 [00:05<00:00, 1064.04it/s]\n"
     ]
    },
    {
     "data": {
      "text/plain": [
       "CHEQUEID    0\n",
       "LAGERID     0\n",
       "KOLVO       0\n",
       "SECTION     0\n",
       "LEVEL       0\n",
       "dtype: int64"
      ]
     },
     "metadata": {},
     "output_type": "display_data"
    },
    {
     "name": "stderr",
     "output_type": "stream",
     "text": [
      "100%|████████████████████████████████████| 5822/5822 [00:00<00:00, 19354.99it/s]\n",
      "100%|█████████████████████████████████████| 5822/5822 [00:05<00:00, 1031.84it/s]\n"
     ]
    },
    {
     "data": {
      "text/plain": [
       "CHEQUEID    0\n",
       "LAGERID     0\n",
       "KOLVO       0\n",
       "SECTION     0\n",
       "LEVEL       0\n",
       "dtype: int64"
      ]
     },
     "metadata": {},
     "output_type": "display_data"
    },
    {
     "name": "stderr",
     "output_type": "stream",
     "text": [
      "100%|████████████████████████████████████| 5822/5822 [00:00<00:00, 40953.60it/s]\n",
      "100%|█████████████████████████████████████| 5822/5822 [00:05<00:00, 1115.79it/s]\n"
     ]
    },
    {
     "data": {
      "text/plain": [
       "CHEQUEID    0\n",
       "LAGERID     0\n",
       "KOLVO       0\n",
       "SECTION     0\n",
       "LEVEL       0\n",
       "dtype: int64"
      ]
     },
     "metadata": {},
     "output_type": "display_data"
    },
    {
     "name": "stderr",
     "output_type": "stream",
     "text": [
      "100%|████████████████████████████████████| 5822/5822 [00:00<00:00, 40733.56it/s]\n",
      "100%|█████████████████████████████████████| 5822/5822 [00:05<00:00, 1105.76it/s]"
     ]
    },
    {
     "name": "stdout",
     "output_type": "stream",
     "text": [
      "Generation 4\n",
      "[[ 17 117 118 ... 130 131 132]\n",
      " [ 41  42  43 ... 130 131 132]\n",
      " [ 41  42  43 ... 130 131 132]\n",
      " ...\n",
      " [ 35  36  37 ... 130 131 132]\n",
      " [ 21  22  23 ... 130 131 132]\n",
      " [111  92   1 ... 130 131 132]]\n"
     ]
    },
    {
     "name": "stderr",
     "output_type": "stream",
     "text": [
      "\n"
     ]
    },
    {
     "data": {
      "text/plain": [
       "CHEQUEID    0\n",
       "LAGERID     0\n",
       "KOLVO       0\n",
       "SECTION     0\n",
       "LEVEL       0\n",
       "dtype: int64"
      ]
     },
     "metadata": {},
     "output_type": "display_data"
    },
    {
     "name": "stderr",
     "output_type": "stream",
     "text": [
      "100%|████████████████████████████████████| 5822/5822 [00:00<00:00, 21869.87it/s]\n",
      "100%|█████████████████████████████████████| 5822/5822 [00:05<00:00, 1107.57it/s]\n"
     ]
    },
    {
     "data": {
      "text/plain": [
       "CHEQUEID    0\n",
       "LAGERID     0\n",
       "KOLVO       0\n",
       "SECTION     0\n",
       "LEVEL       0\n",
       "dtype: int64"
      ]
     },
     "metadata": {},
     "output_type": "display_data"
    },
    {
     "name": "stderr",
     "output_type": "stream",
     "text": [
      "100%|████████████████████████████████████| 5822/5822 [00:00<00:00, 38763.71it/s]\n",
      "100%|█████████████████████████████████████| 5822/5822 [00:05<00:00, 1109.13it/s]\n"
     ]
    },
    {
     "data": {
      "text/plain": [
       "CHEQUEID    0\n",
       "LAGERID     0\n",
       "KOLVO       0\n",
       "SECTION     0\n",
       "LEVEL       0\n",
       "dtype: int64"
      ]
     },
     "metadata": {},
     "output_type": "display_data"
    },
    {
     "name": "stderr",
     "output_type": "stream",
     "text": [
      "100%|████████████████████████████████████| 5822/5822 [00:00<00:00, 38928.83it/s]\n",
      "100%|█████████████████████████████████████| 5822/5822 [00:05<00:00, 1126.91it/s]\n"
     ]
    },
    {
     "data": {
      "text/plain": [
       "CHEQUEID    0\n",
       "LAGERID     0\n",
       "KOLVO       0\n",
       "SECTION     0\n",
       "LEVEL       0\n",
       "dtype: int64"
      ]
     },
     "metadata": {},
     "output_type": "display_data"
    },
    {
     "name": "stderr",
     "output_type": "stream",
     "text": [
      "100%|████████████████████████████████████| 5822/5822 [00:00<00:00, 41044.81it/s]\n",
      "100%|█████████████████████████████████████| 5822/5822 [00:05<00:00, 1133.95it/s]\n"
     ]
    },
    {
     "data": {
      "text/plain": [
       "CHEQUEID    0\n",
       "LAGERID     0\n",
       "KOLVO       0\n",
       "SECTION     0\n",
       "LEVEL       0\n",
       "dtype: int64"
      ]
     },
     "metadata": {},
     "output_type": "display_data"
    },
    {
     "name": "stderr",
     "output_type": "stream",
     "text": [
      "100%|████████████████████████████████████| 5822/5822 [00:00<00:00, 34246.27it/s]\n",
      "100%|█████████████████████████████████████| 5822/5822 [00:05<00:00, 1071.08it/s]\n"
     ]
    },
    {
     "data": {
      "text/plain": [
       "CHEQUEID    0\n",
       "LAGERID     0\n",
       "KOLVO       0\n",
       "SECTION     0\n",
       "LEVEL       0\n",
       "dtype: int64"
      ]
     },
     "metadata": {},
     "output_type": "display_data"
    },
    {
     "name": "stderr",
     "output_type": "stream",
     "text": [
      "100%|████████████████████████████████████| 5822/5822 [00:00<00:00, 22372.76it/s]\n",
      "100%|█████████████████████████████████████| 5822/5822 [00:05<00:00, 1095.31it/s]\n"
     ]
    },
    {
     "data": {
      "text/plain": [
       "CHEQUEID    0\n",
       "LAGERID     0\n",
       "KOLVO       0\n",
       "SECTION     0\n",
       "LEVEL       0\n",
       "dtype: int64"
      ]
     },
     "metadata": {},
     "output_type": "display_data"
    },
    {
     "name": "stderr",
     "output_type": "stream",
     "text": [
      "100%|████████████████████████████████████| 5822/5822 [00:00<00:00, 42281.91it/s]\n",
      "100%|█████████████████████████████████████| 5822/5822 [00:05<00:00, 1125.83it/s]\n"
     ]
    },
    {
     "data": {
      "text/plain": [
       "CHEQUEID    0\n",
       "LAGERID     0\n",
       "KOLVO       0\n",
       "SECTION     0\n",
       "LEVEL       0\n",
       "dtype: int64"
      ]
     },
     "metadata": {},
     "output_type": "display_data"
    },
    {
     "name": "stderr",
     "output_type": "stream",
     "text": [
      "100%|████████████████████████████████████| 5822/5822 [00:00<00:00, 39012.29it/s]\n",
      "100%|█████████████████████████████████████| 5822/5822 [00:05<00:00, 1130.59it/s]\n"
     ]
    },
    {
     "data": {
      "text/plain": [
       "CHEQUEID    0\n",
       "LAGERID     0\n",
       "KOLVO       0\n",
       "SECTION     0\n",
       "LEVEL       0\n",
       "dtype: int64"
      ]
     },
     "metadata": {},
     "output_type": "display_data"
    },
    {
     "name": "stderr",
     "output_type": "stream",
     "text": [
      "100%|████████████████████████████████████| 5822/5822 [00:00<00:00, 21297.14it/s]\n",
      "100%|█████████████████████████████████████| 5822/5822 [00:05<00:00, 1138.46it/s]\n"
     ]
    },
    {
     "data": {
      "text/plain": [
       "CHEQUEID    0\n",
       "LAGERID     0\n",
       "KOLVO       0\n",
       "SECTION     0\n",
       "LEVEL       0\n",
       "dtype: int64"
      ]
     },
     "metadata": {},
     "output_type": "display_data"
    },
    {
     "name": "stderr",
     "output_type": "stream",
     "text": [
      "100%|████████████████████████████████████| 5822/5822 [00:00<00:00, 40807.21it/s]\n",
      "100%|█████████████████████████████████████| 5822/5822 [00:05<00:00, 1144.58it/s]\n"
     ]
    },
    {
     "data": {
      "text/plain": [
       "CHEQUEID    0\n",
       "LAGERID     0\n",
       "KOLVO       0\n",
       "SECTION     0\n",
       "LEVEL       0\n",
       "dtype: int64"
      ]
     },
     "metadata": {},
     "output_type": "display_data"
    },
    {
     "name": "stderr",
     "output_type": "stream",
     "text": [
      "100%|████████████████████████████████████| 5822/5822 [00:00<00:00, 40890.23it/s]\n",
      "100%|█████████████████████████████████████| 5822/5822 [00:05<00:00, 1140.51it/s]\n"
     ]
    },
    {
     "data": {
      "text/plain": [
       "CHEQUEID    0\n",
       "LAGERID     0\n",
       "KOLVO       0\n",
       "SECTION     0\n",
       "LEVEL       0\n",
       "dtype: int64"
      ]
     },
     "metadata": {},
     "output_type": "display_data"
    },
    {
     "name": "stderr",
     "output_type": "stream",
     "text": [
      "100%|████████████████████████████████████| 5822/5822 [00:00<00:00, 41185.89it/s]\n",
      "100%|█████████████████████████████████████| 5822/5822 [00:05<00:00, 1131.42it/s]\n"
     ]
    },
    {
     "data": {
      "text/plain": [
       "CHEQUEID    0\n",
       "LAGERID     0\n",
       "KOLVO       0\n",
       "SECTION     0\n",
       "LEVEL       0\n",
       "dtype: int64"
      ]
     },
     "metadata": {},
     "output_type": "display_data"
    },
    {
     "name": "stderr",
     "output_type": "stream",
     "text": [
      "100%|████████████████████████████████████| 5822/5822 [00:00<00:00, 39834.71it/s]\n",
      "100%|█████████████████████████████████████| 5822/5822 [00:05<00:00, 1124.49it/s]\n"
     ]
    },
    {
     "data": {
      "text/plain": [
       "CHEQUEID    0\n",
       "LAGERID     0\n",
       "KOLVO       0\n",
       "SECTION     0\n",
       "LEVEL       0\n",
       "dtype: int64"
      ]
     },
     "metadata": {},
     "output_type": "display_data"
    },
    {
     "name": "stderr",
     "output_type": "stream",
     "text": [
      "100%|████████████████████████████████████| 5822/5822 [00:00<00:00, 21689.39it/s]\n",
      "100%|█████████████████████████████████████| 5822/5822 [00:05<00:00, 1094.89it/s]\n"
     ]
    },
    {
     "data": {
      "text/plain": [
       "CHEQUEID    0\n",
       "LAGERID     0\n",
       "KOLVO       0\n",
       "SECTION     0\n",
       "LEVEL       0\n",
       "dtype: int64"
      ]
     },
     "metadata": {},
     "output_type": "display_data"
    },
    {
     "name": "stderr",
     "output_type": "stream",
     "text": [
      "100%|████████████████████████████████████| 5822/5822 [00:00<00:00, 41150.91it/s]\n",
      "100%|█████████████████████████████████████| 5822/5822 [00:05<00:00, 1113.45it/s]\n"
     ]
    },
    {
     "data": {
      "text/plain": [
       "CHEQUEID    0\n",
       "LAGERID     0\n",
       "KOLVO       0\n",
       "SECTION     0\n",
       "LEVEL       0\n",
       "dtype: int64"
      ]
     },
     "metadata": {},
     "output_type": "display_data"
    },
    {
     "name": "stderr",
     "output_type": "stream",
     "text": [
      "100%|████████████████████████████████████| 5822/5822 [00:00<00:00, 40232.50it/s]\n",
      "100%|█████████████████████████████████████| 5822/5822 [00:05<00:00, 1131.17it/s]\n"
     ]
    },
    {
     "data": {
      "text/plain": [
       "CHEQUEID    0\n",
       "LAGERID     0\n",
       "KOLVO       0\n",
       "SECTION     0\n",
       "LEVEL       0\n",
       "dtype: int64"
      ]
     },
     "metadata": {},
     "output_type": "display_data"
    },
    {
     "name": "stderr",
     "output_type": "stream",
     "text": [
      "100%|████████████████████████████████████| 5822/5822 [00:00<00:00, 22542.57it/s]\n",
      "100%|█████████████████████████████████████| 5822/5822 [00:05<00:00, 1104.37it/s]\n"
     ]
    },
    {
     "data": {
      "text/plain": [
       "CHEQUEID    0\n",
       "LAGERID     0\n",
       "KOLVO       0\n",
       "SECTION     0\n",
       "LEVEL       0\n",
       "dtype: int64"
      ]
     },
     "metadata": {},
     "output_type": "display_data"
    },
    {
     "name": "stderr",
     "output_type": "stream",
     "text": [
      "100%|████████████████████████████████████| 5822/5822 [00:00<00:00, 40819.49it/s]\n",
      "100%|█████████████████████████████████████| 5822/5822 [00:05<00:00, 1121.98it/s]\n"
     ]
    },
    {
     "data": {
      "text/plain": [
       "CHEQUEID    0\n",
       "LAGERID     0\n",
       "KOLVO       0\n",
       "SECTION     0\n",
       "LEVEL       0\n",
       "dtype: int64"
      ]
     },
     "metadata": {},
     "output_type": "display_data"
    },
    {
     "name": "stderr",
     "output_type": "stream",
     "text": [
      "100%|████████████████████████████████████| 5822/5822 [00:00<00:00, 39804.26it/s]\n",
      "100%|██████████████████████████████████████| 5822/5822 [00:06<00:00, 954.15it/s]\n"
     ]
    },
    {
     "data": {
      "text/plain": [
       "CHEQUEID    0\n",
       "LAGERID     0\n",
       "KOLVO       0\n",
       "SECTION     0\n",
       "LEVEL       0\n",
       "dtype: int64"
      ]
     },
     "metadata": {},
     "output_type": "display_data"
    },
    {
     "name": "stderr",
     "output_type": "stream",
     "text": [
      "100%|████████████████████████████████████| 5822/5822 [00:00<00:00, 20165.91it/s]\n",
      "100%|██████████████████████████████████████| 5822/5822 [00:06<00:00, 926.76it/s]\n"
     ]
    },
    {
     "data": {
      "text/plain": [
       "CHEQUEID    0\n",
       "LAGERID     0\n",
       "KOLVO       0\n",
       "SECTION     0\n",
       "LEVEL       0\n",
       "dtype: int64"
      ]
     },
     "metadata": {},
     "output_type": "display_data"
    },
    {
     "name": "stderr",
     "output_type": "stream",
     "text": [
      "100%|████████████████████████████████████| 5822/5822 [00:00<00:00, 30610.52it/s]\n",
      "100%|██████████████████████████████████████| 5822/5822 [00:06<00:00, 933.88it/s]\n"
     ]
    },
    {
     "name": "stdout",
     "output_type": "stream",
     "text": [
      "Generation 5\n",
      "[[ 17 117 118 ... 130 131 132]\n",
      " [ 41  42  43 ... 130 131 132]\n",
      " [ 92   1   2 ... 130 131 132]\n",
      " ...\n",
      " [ 42  43  44 ... 130 131 132]\n",
      " [ 56 128  58 ... 130 131 132]\n",
      " [ 32  33  34 ... 130 131  99]]\n"
     ]
    },
    {
     "data": {
      "text/plain": [
       "CHEQUEID    0\n",
       "LAGERID     0\n",
       "KOLVO       0\n",
       "SECTION     0\n",
       "LEVEL       0\n",
       "dtype: int64"
      ]
     },
     "metadata": {},
     "output_type": "display_data"
    },
    {
     "name": "stderr",
     "output_type": "stream",
     "text": [
      "100%|████████████████████████████████████| 5822/5822 [00:00<00:00, 39528.81it/s]\n",
      "100%|█████████████████████████████████████| 5822/5822 [00:05<00:00, 1114.04it/s]\n"
     ]
    },
    {
     "data": {
      "text/plain": [
       "CHEQUEID    0\n",
       "LAGERID     0\n",
       "KOLVO       0\n",
       "SECTION     0\n",
       "LEVEL       0\n",
       "dtype: int64"
      ]
     },
     "metadata": {},
     "output_type": "display_data"
    },
    {
     "name": "stderr",
     "output_type": "stream",
     "text": [
      "100%|████████████████████████████████████| 5822/5822 [00:00<00:00, 21965.83it/s]\n",
      "100%|█████████████████████████████████████| 5822/5822 [00:05<00:00, 1137.16it/s]\n"
     ]
    },
    {
     "data": {
      "text/plain": [
       "CHEQUEID    0\n",
       "LAGERID     0\n",
       "KOLVO       0\n",
       "SECTION     0\n",
       "LEVEL       0\n",
       "dtype: int64"
      ]
     },
     "metadata": {},
     "output_type": "display_data"
    },
    {
     "name": "stderr",
     "output_type": "stream",
     "text": [
      "100%|████████████████████████████████████| 5822/5822 [00:00<00:00, 41449.24it/s]\n",
      "100%|█████████████████████████████████████| 5822/5822 [00:05<00:00, 1150.17it/s]\n"
     ]
    },
    {
     "data": {
      "text/plain": [
       "CHEQUEID    0\n",
       "LAGERID     0\n",
       "KOLVO       0\n",
       "SECTION     0\n",
       "LEVEL       0\n",
       "dtype: int64"
      ]
     },
     "metadata": {},
     "output_type": "display_data"
    },
    {
     "name": "stderr",
     "output_type": "stream",
     "text": [
      "100%|████████████████████████████████████| 5822/5822 [00:00<00:00, 42253.66it/s]\n",
      "100%|█████████████████████████████████████| 5822/5822 [00:05<00:00, 1112.87it/s]\n"
     ]
    },
    {
     "data": {
      "text/plain": [
       "CHEQUEID    0\n",
       "LAGERID     0\n",
       "KOLVO       0\n",
       "SECTION     0\n",
       "LEVEL       0\n",
       "dtype: int64"
      ]
     },
     "metadata": {},
     "output_type": "display_data"
    },
    {
     "name": "stderr",
     "output_type": "stream",
     "text": [
      "100%|████████████████████████████████████| 5822/5822 [00:00<00:00, 22007.50it/s]\n",
      "100%|█████████████████████████████████████| 5822/5822 [00:05<00:00, 1117.23it/s]\n"
     ]
    },
    {
     "data": {
      "text/plain": [
       "CHEQUEID    0\n",
       "LAGERID     0\n",
       "KOLVO       0\n",
       "SECTION     0\n",
       "LEVEL       0\n",
       "dtype: int64"
      ]
     },
     "metadata": {},
     "output_type": "display_data"
    },
    {
     "name": "stderr",
     "output_type": "stream",
     "text": [
      "100%|████████████████████████████████████| 5822/5822 [00:00<00:00, 41676.89it/s]\n",
      "100%|█████████████████████████████████████| 5822/5822 [00:05<00:00, 1098.92it/s]\n"
     ]
    },
    {
     "data": {
      "text/plain": [
       "CHEQUEID    0\n",
       "LAGERID     0\n",
       "KOLVO       0\n",
       "SECTION     0\n",
       "LEVEL       0\n",
       "dtype: int64"
      ]
     },
     "metadata": {},
     "output_type": "display_data"
    },
    {
     "name": "stderr",
     "output_type": "stream",
     "text": [
      "100%|████████████████████████████████████| 5822/5822 [00:00<00:00, 40372.52it/s]\n",
      "100%|█████████████████████████████████████| 5822/5822 [00:05<00:00, 1124.04it/s]\n"
     ]
    },
    {
     "data": {
      "text/plain": [
       "CHEQUEID    0\n",
       "LAGERID     0\n",
       "KOLVO       0\n",
       "SECTION     0\n",
       "LEVEL       0\n",
       "dtype: int64"
      ]
     },
     "metadata": {},
     "output_type": "display_data"
    },
    {
     "name": "stderr",
     "output_type": "stream",
     "text": [
      "100%|████████████████████████████████████| 5822/5822 [00:00<00:00, 39534.18it/s]\n",
      "100%|█████████████████████████████████████| 5822/5822 [00:05<00:00, 1080.13it/s]\n"
     ]
    },
    {
     "data": {
      "text/plain": [
       "CHEQUEID    0\n",
       "LAGERID     0\n",
       "KOLVO       0\n",
       "SECTION     0\n",
       "LEVEL       0\n",
       "dtype: int64"
      ]
     },
     "metadata": {},
     "output_type": "display_data"
    },
    {
     "name": "stderr",
     "output_type": "stream",
     "text": [
      "100%|████████████████████████████████████| 5822/5822 [00:00<00:00, 39168.99it/s]\n",
      "100%|█████████████████████████████████████| 5822/5822 [00:05<00:00, 1133.53it/s]\n"
     ]
    },
    {
     "data": {
      "text/plain": [
       "CHEQUEID    0\n",
       "LAGERID     0\n",
       "KOLVO       0\n",
       "SECTION     0\n",
       "LEVEL       0\n",
       "dtype: int64"
      ]
     },
     "metadata": {},
     "output_type": "display_data"
    },
    {
     "name": "stderr",
     "output_type": "stream",
     "text": [
      "100%|████████████████████████████████████| 5822/5822 [00:00<00:00, 21442.09it/s]\n",
      "100%|█████████████████████████████████████| 5822/5822 [00:05<00:00, 1072.60it/s]\n"
     ]
    },
    {
     "data": {
      "text/plain": [
       "CHEQUEID    0\n",
       "LAGERID     0\n",
       "KOLVO       0\n",
       "SECTION     0\n",
       "LEVEL       0\n",
       "dtype: int64"
      ]
     },
     "metadata": {},
     "output_type": "display_data"
    },
    {
     "name": "stderr",
     "output_type": "stream",
     "text": [
      "100%|████████████████████████████████████| 5822/5822 [00:00<00:00, 28579.30it/s]\n",
      "100%|██████████████████████████████████████| 5822/5822 [00:06<00:00, 932.49it/s]\n"
     ]
    },
    {
     "data": {
      "text/plain": [
       "CHEQUEID    0\n",
       "LAGERID     0\n",
       "KOLVO       0\n",
       "SECTION     0\n",
       "LEVEL       0\n",
       "dtype: int64"
      ]
     },
     "metadata": {},
     "output_type": "display_data"
    },
    {
     "name": "stderr",
     "output_type": "stream",
     "text": [
      "100%|████████████████████████████████████| 5822/5822 [00:00<00:00, 41241.05it/s]\n",
      "100%|██████████████████████████████████████| 5822/5822 [00:05<00:00, 987.99it/s]\n"
     ]
    },
    {
     "data": {
      "text/plain": [
       "CHEQUEID    0\n",
       "LAGERID     0\n",
       "KOLVO       0\n",
       "SECTION     0\n",
       "LEVEL       0\n",
       "dtype: int64"
      ]
     },
     "metadata": {},
     "output_type": "display_data"
    },
    {
     "name": "stderr",
     "output_type": "stream",
     "text": [
      "100%|████████████████████████████████████| 5822/5822 [00:00<00:00, 18895.00it/s]\n",
      "100%|█████████████████████████████████████| 5822/5822 [00:05<00:00, 1113.24it/s]\n"
     ]
    },
    {
     "data": {
      "text/plain": [
       "CHEQUEID    0\n",
       "LAGERID     0\n",
       "KOLVO       0\n",
       "SECTION     0\n",
       "LEVEL       0\n",
       "dtype: int64"
      ]
     },
     "metadata": {},
     "output_type": "display_data"
    },
    {
     "name": "stderr",
     "output_type": "stream",
     "text": [
      "100%|████████████████████████████████████| 5822/5822 [00:00<00:00, 40180.80it/s]\n",
      "100%|█████████████████████████████████████| 5822/5822 [00:05<00:00, 1119.50it/s]\n"
     ]
    },
    {
     "data": {
      "text/plain": [
       "CHEQUEID    0\n",
       "LAGERID     0\n",
       "KOLVO       0\n",
       "SECTION     0\n",
       "LEVEL       0\n",
       "dtype: int64"
      ]
     },
     "metadata": {},
     "output_type": "display_data"
    },
    {
     "name": "stderr",
     "output_type": "stream",
     "text": [
      "100%|████████████████████████████████████| 5822/5822 [00:00<00:00, 40148.10it/s]\n",
      "100%|██████████████████████████████████████| 5822/5822 [00:06<00:00, 922.15it/s]\n"
     ]
    },
    {
     "data": {
      "text/plain": [
       "CHEQUEID    0\n",
       "LAGERID     0\n",
       "KOLVO       0\n",
       "SECTION     0\n",
       "LEVEL       0\n",
       "dtype: int64"
      ]
     },
     "metadata": {},
     "output_type": "display_data"
    },
    {
     "name": "stderr",
     "output_type": "stream",
     "text": [
      "100%|████████████████████████████████████| 5822/5822 [00:00<00:00, 17019.70it/s]\n",
      "100%|█████████████████████████████████████| 5822/5822 [00:05<00:00, 1066.15it/s]\n"
     ]
    },
    {
     "data": {
      "text/plain": [
       "CHEQUEID    0\n",
       "LAGERID     0\n",
       "KOLVO       0\n",
       "SECTION     0\n",
       "LEVEL       0\n",
       "dtype: int64"
      ]
     },
     "metadata": {},
     "output_type": "display_data"
    },
    {
     "name": "stderr",
     "output_type": "stream",
     "text": [
      "100%|████████████████████████████████████| 5822/5822 [00:00<00:00, 41072.63it/s]\n",
      "100%|█████████████████████████████████████| 5822/5822 [00:05<00:00, 1032.89it/s]\n"
     ]
    },
    {
     "data": {
      "text/plain": [
       "CHEQUEID    0\n",
       "LAGERID     0\n",
       "KOLVO       0\n",
       "SECTION     0\n",
       "LEVEL       0\n",
       "dtype: int64"
      ]
     },
     "metadata": {},
     "output_type": "display_data"
    },
    {
     "name": "stderr",
     "output_type": "stream",
     "text": [
      "100%|████████████████████████████████████| 5822/5822 [00:00<00:00, 32241.09it/s]\n",
      "100%|█████████████████████████████████████| 5822/5822 [00:05<00:00, 1118.91it/s]\n"
     ]
    },
    {
     "data": {
      "text/plain": [
       "CHEQUEID    0\n",
       "LAGERID     0\n",
       "KOLVO       0\n",
       "SECTION     0\n",
       "LEVEL       0\n",
       "dtype: int64"
      ]
     },
     "metadata": {},
     "output_type": "display_data"
    },
    {
     "name": "stderr",
     "output_type": "stream",
     "text": [
      "100%|████████████████████████████████████| 5822/5822 [00:00<00:00, 21185.54it/s]\n",
      "100%|█████████████████████████████████████| 5822/5822 [00:05<00:00, 1151.83it/s]\n"
     ]
    },
    {
     "data": {
      "text/plain": [
       "CHEQUEID    0\n",
       "LAGERID     0\n",
       "KOLVO       0\n",
       "SECTION     0\n",
       "LEVEL       0\n",
       "dtype: int64"
      ]
     },
     "metadata": {},
     "output_type": "display_data"
    },
    {
     "name": "stderr",
     "output_type": "stream",
     "text": [
      "100%|████████████████████████████████████| 5822/5822 [00:00<00:00, 40515.26it/s]\n",
      "100%|█████████████████████████████████████| 5822/5822 [00:05<00:00, 1123.16it/s]\n"
     ]
    },
    {
     "data": {
      "text/plain": [
       "CHEQUEID    0\n",
       "LAGERID     0\n",
       "KOLVO       0\n",
       "SECTION     0\n",
       "LEVEL       0\n",
       "dtype: int64"
      ]
     },
     "metadata": {},
     "output_type": "display_data"
    },
    {
     "name": "stderr",
     "output_type": "stream",
     "text": [
      "100%|████████████████████████████████████| 5822/5822 [00:00<00:00, 38952.49it/s]\n",
      "100%|█████████████████████████████████████| 5822/5822 [00:05<00:00, 1119.02it/s]"
     ]
    },
    {
     "name": "stdout",
     "output_type": "stream",
     "text": [
      "Generation 6\n",
      "[[ 17 117 118 ... 130 131 132]\n",
      " [ 41  42  43 ... 130 131 132]\n",
      " [ 92   1   2 ... 130 131 132]\n",
      " ...\n",
      " [ 19  20  21 ... 130 131 132]\n",
      " [ 15  16  18 ... 130 131 132]\n",
      " [107 108 109 ... 130  36 132]]\n"
     ]
    },
    {
     "name": "stderr",
     "output_type": "stream",
     "text": [
      "\n"
     ]
    },
    {
     "data": {
      "text/plain": [
       "CHEQUEID    0\n",
       "LAGERID     0\n",
       "KOLVO       0\n",
       "SECTION     0\n",
       "LEVEL       0\n",
       "dtype: int64"
      ]
     },
     "metadata": {},
     "output_type": "display_data"
    },
    {
     "name": "stderr",
     "output_type": "stream",
     "text": [
      "100%|████████████████████████████████████| 5822/5822 [00:00<00:00, 42021.21it/s]\n",
      "100%|█████████████████████████████████████| 5822/5822 [00:05<00:00, 1143.09it/s]\n"
     ]
    },
    {
     "data": {
      "text/plain": [
       "CHEQUEID    0\n",
       "LAGERID     0\n",
       "KOLVO       0\n",
       "SECTION     0\n",
       "LEVEL       0\n",
       "dtype: int64"
      ]
     },
     "metadata": {},
     "output_type": "display_data"
    },
    {
     "name": "stderr",
     "output_type": "stream",
     "text": [
      "100%|████████████████████████████████████| 5822/5822 [00:00<00:00, 40276.96it/s]\n",
      "100%|█████████████████████████████████████| 5822/5822 [00:05<00:00, 1116.57it/s]\n"
     ]
    },
    {
     "data": {
      "text/plain": [
       "CHEQUEID    0\n",
       "LAGERID     0\n",
       "KOLVO       0\n",
       "SECTION     0\n",
       "LEVEL       0\n",
       "dtype: int64"
      ]
     },
     "metadata": {},
     "output_type": "display_data"
    },
    {
     "name": "stderr",
     "output_type": "stream",
     "text": [
      "100%|████████████████████████████████████| 5822/5822 [00:00<00:00, 21683.69it/s]\n",
      "100%|█████████████████████████████████████| 5822/5822 [00:05<00:00, 1117.05it/s]\n"
     ]
    },
    {
     "data": {
      "text/plain": [
       "CHEQUEID    0\n",
       "LAGERID     0\n",
       "KOLVO       0\n",
       "SECTION     0\n",
       "LEVEL       0\n",
       "dtype: int64"
      ]
     },
     "metadata": {},
     "output_type": "display_data"
    },
    {
     "name": "stderr",
     "output_type": "stream",
     "text": [
      "100%|████████████████████████████████████| 5822/5822 [00:00<00:00, 41114.12it/s]\n",
      "100%|█████████████████████████████████████| 5822/5822 [00:05<00:00, 1137.98it/s]\n"
     ]
    },
    {
     "data": {
      "text/plain": [
       "CHEQUEID    0\n",
       "LAGERID     0\n",
       "KOLVO       0\n",
       "SECTION     0\n",
       "LEVEL       0\n",
       "dtype: int64"
      ]
     },
     "metadata": {},
     "output_type": "display_data"
    },
    {
     "name": "stderr",
     "output_type": "stream",
     "text": [
      "100%|████████████████████████████████████| 5822/5822 [00:00<00:00, 30689.77it/s]\n",
      "100%|█████████████████████████████████████| 5822/5822 [00:05<00:00, 1037.88it/s]\n"
     ]
    },
    {
     "data": {
      "text/plain": [
       "CHEQUEID    0\n",
       "LAGERID     0\n",
       "KOLVO       0\n",
       "SECTION     0\n",
       "LEVEL       0\n",
       "dtype: int64"
      ]
     },
     "metadata": {},
     "output_type": "display_data"
    },
    {
     "name": "stderr",
     "output_type": "stream",
     "text": [
      "100%|████████████████████████████████████| 5822/5822 [00:00<00:00, 21512.83it/s]\n",
      "100%|█████████████████████████████████████| 5822/5822 [00:05<00:00, 1036.26it/s]\n"
     ]
    },
    {
     "data": {
      "text/plain": [
       "CHEQUEID    0\n",
       "LAGERID     0\n",
       "KOLVO       0\n",
       "SECTION     0\n",
       "LEVEL       0\n",
       "dtype: int64"
      ]
     },
     "metadata": {},
     "output_type": "display_data"
    },
    {
     "name": "stderr",
     "output_type": "stream",
     "text": [
      "100%|████████████████████████████████████| 5822/5822 [00:00<00:00, 39456.19it/s]\n",
      "100%|█████████████████████████████████████| 5822/5822 [00:05<00:00, 1081.03it/s]\n"
     ]
    },
    {
     "data": {
      "text/plain": [
       "CHEQUEID    0\n",
       "LAGERID     0\n",
       "KOLVO       0\n",
       "SECTION     0\n",
       "LEVEL       0\n",
       "dtype: int64"
      ]
     },
     "metadata": {},
     "output_type": "display_data"
    },
    {
     "name": "stderr",
     "output_type": "stream",
     "text": [
      "100%|████████████████████████████████████| 5822/5822 [00:00<00:00, 40285.93it/s]\n",
      "100%|██████████████████████████████████████| 5822/5822 [00:06<00:00, 938.64it/s]\n"
     ]
    },
    {
     "data": {
      "text/plain": [
       "CHEQUEID    0\n",
       "LAGERID     0\n",
       "KOLVO       0\n",
       "SECTION     0\n",
       "LEVEL       0\n",
       "dtype: int64"
      ]
     },
     "metadata": {},
     "output_type": "display_data"
    },
    {
     "name": "stderr",
     "output_type": "stream",
     "text": [
      "100%|████████████████████████████████████| 5822/5822 [00:00<00:00, 20104.64it/s]\n",
      "100%|█████████████████████████████████████| 5822/5822 [00:05<00:00, 1060.31it/s]\n"
     ]
    },
    {
     "data": {
      "text/plain": [
       "CHEQUEID    0\n",
       "LAGERID     0\n",
       "KOLVO       0\n",
       "SECTION     0\n",
       "LEVEL       0\n",
       "dtype: int64"
      ]
     },
     "metadata": {},
     "output_type": "display_data"
    },
    {
     "name": "stderr",
     "output_type": "stream",
     "text": [
      "100%|████████████████████████████████████| 5822/5822 [00:00<00:00, 38699.76it/s]\n",
      "100%|█████████████████████████████████████| 5822/5822 [00:05<00:00, 1112.72it/s]\n"
     ]
    },
    {
     "data": {
      "text/plain": [
       "CHEQUEID    0\n",
       "LAGERID     0\n",
       "KOLVO       0\n",
       "SECTION     0\n",
       "LEVEL       0\n",
       "dtype: int64"
      ]
     },
     "metadata": {},
     "output_type": "display_data"
    },
    {
     "name": "stderr",
     "output_type": "stream",
     "text": [
      "100%|████████████████████████████████████| 5822/5822 [00:00<00:00, 40980.40it/s]\n",
      "100%|█████████████████████████████████████| 5822/5822 [00:05<00:00, 1115.22it/s]\n"
     ]
    },
    {
     "data": {
      "text/plain": [
       "CHEQUEID    0\n",
       "LAGERID     0\n",
       "KOLVO       0\n",
       "SECTION     0\n",
       "LEVEL       0\n",
       "dtype: int64"
      ]
     },
     "metadata": {},
     "output_type": "display_data"
    },
    {
     "name": "stderr",
     "output_type": "stream",
     "text": [
      "100%|████████████████████████████████████| 5822/5822 [00:00<00:00, 40232.24it/s]\n",
      "100%|█████████████████████████████████████| 5822/5822 [00:05<00:00, 1121.88it/s]\n"
     ]
    },
    {
     "data": {
      "text/plain": [
       "CHEQUEID    0\n",
       "LAGERID     0\n",
       "KOLVO       0\n",
       "SECTION     0\n",
       "LEVEL       0\n",
       "dtype: int64"
      ]
     },
     "metadata": {},
     "output_type": "display_data"
    },
    {
     "name": "stderr",
     "output_type": "stream",
     "text": [
      "100%|████████████████████████████████████| 5822/5822 [00:00<00:00, 39735.48it/s]\n",
      "100%|█████████████████████████████████████| 5822/5822 [00:05<00:00, 1129.78it/s]\n"
     ]
    },
    {
     "data": {
      "text/plain": [
       "CHEQUEID    0\n",
       "LAGERID     0\n",
       "KOLVO       0\n",
       "SECTION     0\n",
       "LEVEL       0\n",
       "dtype: int64"
      ]
     },
     "metadata": {},
     "output_type": "display_data"
    },
    {
     "name": "stderr",
     "output_type": "stream",
     "text": [
      "100%|████████████████████████████████████| 5822/5822 [00:00<00:00, 40095.30it/s]\n",
      "100%|█████████████████████████████████████| 5822/5822 [00:05<00:00, 1139.60it/s]\n"
     ]
    },
    {
     "data": {
      "text/plain": [
       "CHEQUEID    0\n",
       "LAGERID     0\n",
       "KOLVO       0\n",
       "SECTION     0\n",
       "LEVEL       0\n",
       "dtype: int64"
      ]
     },
     "metadata": {},
     "output_type": "display_data"
    },
    {
     "name": "stderr",
     "output_type": "stream",
     "text": [
      "100%|████████████████████████████████████| 5822/5822 [00:00<00:00, 39962.62it/s]\n",
      "100%|█████████████████████████████████████| 5822/5822 [00:05<00:00, 1135.73it/s]\n"
     ]
    },
    {
     "data": {
      "text/plain": [
       "CHEQUEID    0\n",
       "LAGERID     0\n",
       "KOLVO       0\n",
       "SECTION     0\n",
       "LEVEL       0\n",
       "dtype: int64"
      ]
     },
     "metadata": {},
     "output_type": "display_data"
    },
    {
     "name": "stderr",
     "output_type": "stream",
     "text": [
      "100%|████████████████████████████████████| 5822/5822 [00:00<00:00, 40686.52it/s]\n",
      "100%|█████████████████████████████████████| 5822/5822 [00:05<00:00, 1088.75it/s]\n"
     ]
    },
    {
     "data": {
      "text/plain": [
       "CHEQUEID    0\n",
       "LAGERID     0\n",
       "KOLVO       0\n",
       "SECTION     0\n",
       "LEVEL       0\n",
       "dtype: int64"
      ]
     },
     "metadata": {},
     "output_type": "display_data"
    },
    {
     "name": "stderr",
     "output_type": "stream",
     "text": [
      "100%|████████████████████████████████████| 5822/5822 [00:00<00:00, 22321.89it/s]\n",
      "100%|█████████████████████████████████████| 5822/5822 [00:05<00:00, 1101.84it/s]\n"
     ]
    },
    {
     "data": {
      "text/plain": [
       "CHEQUEID    0\n",
       "LAGERID     0\n",
       "KOLVO       0\n",
       "SECTION     0\n",
       "LEVEL       0\n",
       "dtype: int64"
      ]
     },
     "metadata": {},
     "output_type": "display_data"
    },
    {
     "name": "stderr",
     "output_type": "stream",
     "text": [
      "100%|████████████████████████████████████| 5822/5822 [00:00<00:00, 40991.41it/s]\n",
      "100%|█████████████████████████████████████| 5822/5822 [00:05<00:00, 1100.11it/s]\n"
     ]
    },
    {
     "data": {
      "text/plain": [
       "CHEQUEID    0\n",
       "LAGERID     0\n",
       "KOLVO       0\n",
       "SECTION     0\n",
       "LEVEL       0\n",
       "dtype: int64"
      ]
     },
     "metadata": {},
     "output_type": "display_data"
    },
    {
     "name": "stderr",
     "output_type": "stream",
     "text": [
      "100%|████████████████████████████████████| 5822/5822 [00:00<00:00, 40226.40it/s]\n",
      "100%|█████████████████████████████████████| 5822/5822 [00:05<00:00, 1126.15it/s]\n"
     ]
    },
    {
     "data": {
      "text/plain": [
       "CHEQUEID    0\n",
       "LAGERID     0\n",
       "KOLVO       0\n",
       "SECTION     0\n",
       "LEVEL       0\n",
       "dtype: int64"
      ]
     },
     "metadata": {},
     "output_type": "display_data"
    },
    {
     "name": "stderr",
     "output_type": "stream",
     "text": [
      "100%|████████████████████████████████████| 5822/5822 [00:00<00:00, 21664.14it/s]\n",
      "100%|█████████████████████████████████████| 5822/5822 [00:05<00:00, 1151.80it/s]\n"
     ]
    },
    {
     "data": {
      "text/plain": [
       "CHEQUEID    0\n",
       "LAGERID     0\n",
       "KOLVO       0\n",
       "SECTION     0\n",
       "LEVEL       0\n",
       "dtype: int64"
      ]
     },
     "metadata": {},
     "output_type": "display_data"
    },
    {
     "name": "stderr",
     "output_type": "stream",
     "text": [
      "100%|████████████████████████████████████| 5822/5822 [00:00<00:00, 41060.47it/s]\n",
      "100%|█████████████████████████████████████| 5822/5822 [00:05<00:00, 1144.81it/s]"
     ]
    },
    {
     "name": "stdout",
     "output_type": "stream",
     "text": [
      "Generation 7\n",
      "[[ 17 117 118 ... 130 131 132]\n",
      " [120 121 122 ... 130 131 132]\n",
      " [ 17 117 118 ... 130 131 132]\n",
      " ...\n",
      " [ 41  42  43 ... 130  66 132]\n",
      " [  1   2   3 ... 130 131 132]\n",
      " [  8   9  10 ... 130 131 132]]\n"
     ]
    },
    {
     "name": "stderr",
     "output_type": "stream",
     "text": [
      "\n"
     ]
    },
    {
     "data": {
      "text/plain": [
       "CHEQUEID    0\n",
       "LAGERID     0\n",
       "KOLVO       0\n",
       "SECTION     0\n",
       "LEVEL       0\n",
       "dtype: int64"
      ]
     },
     "metadata": {},
     "output_type": "display_data"
    },
    {
     "name": "stderr",
     "output_type": "stream",
     "text": [
      "100%|████████████████████████████████████| 5822/5822 [00:00<00:00, 41409.73it/s]\n",
      "100%|█████████████████████████████████████| 5822/5822 [00:05<00:00, 1127.60it/s]\n"
     ]
    },
    {
     "data": {
      "text/plain": [
       "CHEQUEID    0\n",
       "LAGERID     0\n",
       "KOLVO       0\n",
       "SECTION     0\n",
       "LEVEL       0\n",
       "dtype: int64"
      ]
     },
     "metadata": {},
     "output_type": "display_data"
    },
    {
     "name": "stderr",
     "output_type": "stream",
     "text": [
      "100%|████████████████████████████████████| 5822/5822 [00:00<00:00, 41004.62it/s]\n",
      "100%|█████████████████████████████████████| 5822/5822 [00:05<00:00, 1100.44it/s]\n"
     ]
    },
    {
     "data": {
      "text/plain": [
       "CHEQUEID    0\n",
       "LAGERID     0\n",
       "KOLVO       0\n",
       "SECTION     0\n",
       "LEVEL       0\n",
       "dtype: int64"
      ]
     },
     "metadata": {},
     "output_type": "display_data"
    },
    {
     "name": "stderr",
     "output_type": "stream",
     "text": [
      "100%|████████████████████████████████████| 5822/5822 [00:00<00:00, 40898.11it/s]\n",
      "100%|█████████████████████████████████████| 5822/5822 [00:05<00:00, 1127.38it/s]\n"
     ]
    },
    {
     "data": {
      "text/plain": [
       "CHEQUEID    0\n",
       "LAGERID     0\n",
       "KOLVO       0\n",
       "SECTION     0\n",
       "LEVEL       0\n",
       "dtype: int64"
      ]
     },
     "metadata": {},
     "output_type": "display_data"
    },
    {
     "name": "stderr",
     "output_type": "stream",
     "text": [
      "100%|████████████████████████████████████| 5822/5822 [00:00<00:00, 22322.85it/s]\n",
      "100%|█████████████████████████████████████| 5822/5822 [00:05<00:00, 1109.93it/s]\n"
     ]
    },
    {
     "data": {
      "text/plain": [
       "CHEQUEID    0\n",
       "LAGERID     0\n",
       "KOLVO       0\n",
       "SECTION     0\n",
       "LEVEL       0\n",
       "dtype: int64"
      ]
     },
     "metadata": {},
     "output_type": "display_data"
    },
    {
     "name": "stderr",
     "output_type": "stream",
     "text": [
      "100%|████████████████████████████████████| 5822/5822 [00:00<00:00, 40992.51it/s]\n",
      "100%|█████████████████████████████████████| 5822/5822 [00:05<00:00, 1136.81it/s]\n"
     ]
    },
    {
     "data": {
      "text/plain": [
       "CHEQUEID    0\n",
       "LAGERID     0\n",
       "KOLVO       0\n",
       "SECTION     0\n",
       "LEVEL       0\n",
       "dtype: int64"
      ]
     },
     "metadata": {},
     "output_type": "display_data"
    },
    {
     "name": "stderr",
     "output_type": "stream",
     "text": [
      "100%|████████████████████████████████████| 5822/5822 [00:00<00:00, 41196.73it/s]\n",
      "100%|█████████████████████████████████████| 5822/5822 [00:05<00:00, 1114.17it/s]\n"
     ]
    },
    {
     "data": {
      "text/plain": [
       "CHEQUEID    0\n",
       "LAGERID     0\n",
       "KOLVO       0\n",
       "SECTION     0\n",
       "LEVEL       0\n",
       "dtype: int64"
      ]
     },
     "metadata": {},
     "output_type": "display_data"
    },
    {
     "name": "stderr",
     "output_type": "stream",
     "text": [
      "100%|████████████████████████████████████| 5822/5822 [00:00<00:00, 22306.52it/s]\n",
      "100%|█████████████████████████████████████| 5822/5822 [00:05<00:00, 1099.90it/s]\n"
     ]
    },
    {
     "data": {
      "text/plain": [
       "CHEQUEID    0\n",
       "LAGERID     0\n",
       "KOLVO       0\n",
       "SECTION     0\n",
       "LEVEL       0\n",
       "dtype: int64"
      ]
     },
     "metadata": {},
     "output_type": "display_data"
    },
    {
     "name": "stderr",
     "output_type": "stream",
     "text": [
      "100%|████████████████████████████████████| 5822/5822 [00:00<00:00, 39655.91it/s]\n",
      "100%|█████████████████████████████████████| 5822/5822 [00:05<00:00, 1116.49it/s]\n"
     ]
    },
    {
     "data": {
      "text/plain": [
       "CHEQUEID    0\n",
       "LAGERID     0\n",
       "KOLVO       0\n",
       "SECTION     0\n",
       "LEVEL       0\n",
       "dtype: int64"
      ]
     },
     "metadata": {},
     "output_type": "display_data"
    },
    {
     "name": "stderr",
     "output_type": "stream",
     "text": [
      "100%|████████████████████████████████████| 5822/5822 [00:00<00:00, 41596.03it/s]\n",
      "100%|█████████████████████████████████████| 5822/5822 [00:05<00:00, 1134.44it/s]\n"
     ]
    },
    {
     "data": {
      "text/plain": [
       "CHEQUEID    0\n",
       "LAGERID     0\n",
       "KOLVO       0\n",
       "SECTION     0\n",
       "LEVEL       0\n",
       "dtype: int64"
      ]
     },
     "metadata": {},
     "output_type": "display_data"
    },
    {
     "name": "stderr",
     "output_type": "stream",
     "text": [
      "100%|████████████████████████████████████| 5822/5822 [00:00<00:00, 21747.73it/s]\n",
      "100%|██████████████████████████████████████| 5822/5822 [00:05<00:00, 982.41it/s]\n"
     ]
    },
    {
     "data": {
      "text/plain": [
       "CHEQUEID    0\n",
       "LAGERID     0\n",
       "KOLVO       0\n",
       "SECTION     0\n",
       "LEVEL       0\n",
       "dtype: int64"
      ]
     },
     "metadata": {},
     "output_type": "display_data"
    },
    {
     "name": "stderr",
     "output_type": "stream",
     "text": [
      "100%|████████████████████████████████████| 5822/5822 [00:00<00:00, 29579.61it/s]\n",
      "100%|█████████████████████████████████████| 5822/5822 [00:05<00:00, 1090.47it/s]\n"
     ]
    },
    {
     "data": {
      "text/plain": [
       "CHEQUEID    0\n",
       "LAGERID     0\n",
       "KOLVO       0\n",
       "SECTION     0\n",
       "LEVEL       0\n",
       "dtype: int64"
      ]
     },
     "metadata": {},
     "output_type": "display_data"
    },
    {
     "name": "stderr",
     "output_type": "stream",
     "text": [
      "100%|████████████████████████████████████| 5822/5822 [00:00<00:00, 39244.78it/s]\n",
      "100%|█████████████████████████████████████| 5822/5822 [00:05<00:00, 1109.78it/s]\n"
     ]
    },
    {
     "data": {
      "text/plain": [
       "CHEQUEID    0\n",
       "LAGERID     0\n",
       "KOLVO       0\n",
       "SECTION     0\n",
       "LEVEL       0\n",
       "dtype: int64"
      ]
     },
     "metadata": {},
     "output_type": "display_data"
    },
    {
     "name": "stderr",
     "output_type": "stream",
     "text": [
      "100%|████████████████████████████████████| 5822/5822 [00:00<00:00, 20199.64it/s]\n",
      "100%|█████████████████████████████████████| 5822/5822 [00:05<00:00, 1099.24it/s]\n"
     ]
    },
    {
     "data": {
      "text/plain": [
       "CHEQUEID    0\n",
       "LAGERID     0\n",
       "KOLVO       0\n",
       "SECTION     0\n",
       "LEVEL       0\n",
       "dtype: int64"
      ]
     },
     "metadata": {},
     "output_type": "display_data"
    },
    {
     "name": "stderr",
     "output_type": "stream",
     "text": [
      "100%|████████████████████████████████████| 5822/5822 [00:00<00:00, 41050.26it/s]\n",
      "100%|█████████████████████████████████████| 5822/5822 [00:05<00:00, 1105.66it/s]\n"
     ]
    },
    {
     "data": {
      "text/plain": [
       "CHEQUEID    0\n",
       "LAGERID     0\n",
       "KOLVO       0\n",
       "SECTION     0\n",
       "LEVEL       0\n",
       "dtype: int64"
      ]
     },
     "metadata": {},
     "output_type": "display_data"
    },
    {
     "name": "stderr",
     "output_type": "stream",
     "text": [
      "100%|████████████████████████████████████| 5822/5822 [00:00<00:00, 39258.78it/s]\n",
      "100%|█████████████████████████████████████| 5822/5822 [00:05<00:00, 1101.85it/s]\n"
     ]
    },
    {
     "data": {
      "text/plain": [
       "CHEQUEID    0\n",
       "LAGERID     0\n",
       "KOLVO       0\n",
       "SECTION     0\n",
       "LEVEL       0\n",
       "dtype: int64"
      ]
     },
     "metadata": {},
     "output_type": "display_data"
    },
    {
     "name": "stderr",
     "output_type": "stream",
     "text": [
      "100%|████████████████████████████████████| 5822/5822 [00:00<00:00, 22587.78it/s]\n",
      "100%|█████████████████████████████████████| 5822/5822 [00:05<00:00, 1134.21it/s]\n"
     ]
    },
    {
     "data": {
      "text/plain": [
       "CHEQUEID    0\n",
       "LAGERID     0\n",
       "KOLVO       0\n",
       "SECTION     0\n",
       "LEVEL       0\n",
       "dtype: int64"
      ]
     },
     "metadata": {},
     "output_type": "display_data"
    },
    {
     "name": "stderr",
     "output_type": "stream",
     "text": [
      "100%|████████████████████████████████████| 5822/5822 [00:00<00:00, 40812.32it/s]\n",
      "100%|█████████████████████████████████████| 5822/5822 [00:05<00:00, 1123.89it/s]\n"
     ]
    },
    {
     "data": {
      "text/plain": [
       "CHEQUEID    0\n",
       "LAGERID     0\n",
       "KOLVO       0\n",
       "SECTION     0\n",
       "LEVEL       0\n",
       "dtype: int64"
      ]
     },
     "metadata": {},
     "output_type": "display_data"
    },
    {
     "name": "stderr",
     "output_type": "stream",
     "text": [
      "100%|████████████████████████████████████| 5822/5822 [00:00<00:00, 42194.23it/s]\n",
      "100%|█████████████████████████████████████| 5822/5822 [00:05<00:00, 1102.56it/s]\n"
     ]
    },
    {
     "data": {
      "text/plain": [
       "CHEQUEID    0\n",
       "LAGERID     0\n",
       "KOLVO       0\n",
       "SECTION     0\n",
       "LEVEL       0\n",
       "dtype: int64"
      ]
     },
     "metadata": {},
     "output_type": "display_data"
    },
    {
     "name": "stderr",
     "output_type": "stream",
     "text": [
      "100%|████████████████████████████████████| 5822/5822 [00:00<00:00, 21415.37it/s]\n",
      "100%|█████████████████████████████████████| 5822/5822 [00:05<00:00, 1133.38it/s]\n"
     ]
    },
    {
     "data": {
      "text/plain": [
       "CHEQUEID    0\n",
       "LAGERID     0\n",
       "KOLVO       0\n",
       "SECTION     0\n",
       "LEVEL       0\n",
       "dtype: int64"
      ]
     },
     "metadata": {},
     "output_type": "display_data"
    },
    {
     "name": "stderr",
     "output_type": "stream",
     "text": [
      "100%|████████████████████████████████████| 5822/5822 [00:00<00:00, 37478.86it/s]\n",
      "100%|█████████████████████████████████████| 5822/5822 [00:05<00:00, 1107.73it/s]\n"
     ]
    },
    {
     "data": {
      "text/plain": [
       "CHEQUEID    0\n",
       "LAGERID     0\n",
       "KOLVO       0\n",
       "SECTION     0\n",
       "LEVEL       0\n",
       "dtype: int64"
      ]
     },
     "metadata": {},
     "output_type": "display_data"
    },
    {
     "name": "stderr",
     "output_type": "stream",
     "text": [
      "100%|████████████████████████████████████| 5822/5822 [00:00<00:00, 33098.58it/s]\n",
      "100%|██████████████████████████████████████| 5822/5822 [00:06<00:00, 910.32it/s]"
     ]
    },
    {
     "name": "stdout",
     "output_type": "stream",
     "text": [
      "Generation 8\n",
      "[[ 17 117 118 ... 130 131 132]\n",
      " [120 121 122 ... 130 131 132]\n",
      " [ 17 117 118 ... 130 131 132]\n",
      " ...\n",
      " [ 61  62  63 ... 130 131 132]\n",
      " [ 14  15  16 ... 130 131 132]\n",
      " [111  92   1 ... 130 131 132]]\n"
     ]
    },
    {
     "name": "stderr",
     "output_type": "stream",
     "text": [
      "\n"
     ]
    },
    {
     "data": {
      "text/plain": [
       "CHEQUEID    0\n",
       "LAGERID     0\n",
       "KOLVO       0\n",
       "SECTION     0\n",
       "LEVEL       0\n",
       "dtype: int64"
      ]
     },
     "metadata": {},
     "output_type": "display_data"
    },
    {
     "name": "stderr",
     "output_type": "stream",
     "text": [
      "100%|████████████████████████████████████| 5822/5822 [00:00<00:00, 32911.09it/s]\n",
      "100%|█████████████████████████████████████| 5822/5822 [00:05<00:00, 1036.89it/s]\n"
     ]
    },
    {
     "data": {
      "text/plain": [
       "CHEQUEID    0\n",
       "LAGERID     0\n",
       "KOLVO       0\n",
       "SECTION     0\n",
       "LEVEL       0\n",
       "dtype: int64"
      ]
     },
     "metadata": {},
     "output_type": "display_data"
    },
    {
     "name": "stderr",
     "output_type": "stream",
     "text": [
      "100%|████████████████████████████████████| 5822/5822 [00:00<00:00, 38275.39it/s]\n",
      "100%|██████████████████████████████████████| 5822/5822 [00:05<00:00, 986.86it/s]\n"
     ]
    },
    {
     "data": {
      "text/plain": [
       "CHEQUEID    0\n",
       "LAGERID     0\n",
       "KOLVO       0\n",
       "SECTION     0\n",
       "LEVEL       0\n",
       "dtype: int64"
      ]
     },
     "metadata": {},
     "output_type": "display_data"
    },
    {
     "name": "stderr",
     "output_type": "stream",
     "text": [
      "100%|████████████████████████████████████| 5822/5822 [00:00<00:00, 21093.53it/s]\n",
      "100%|█████████████████████████████████████| 5822/5822 [00:05<00:00, 1015.04it/s]\n"
     ]
    },
    {
     "data": {
      "text/plain": [
       "CHEQUEID    0\n",
       "LAGERID     0\n",
       "KOLVO       0\n",
       "SECTION     0\n",
       "LEVEL       0\n",
       "dtype: int64"
      ]
     },
     "metadata": {},
     "output_type": "display_data"
    },
    {
     "name": "stderr",
     "output_type": "stream",
     "text": [
      "100%|████████████████████████████████████| 5822/5822 [00:00<00:00, 38785.38it/s]\n",
      "100%|█████████████████████████████████████| 5822/5822 [00:05<00:00, 1030.88it/s]\n"
     ]
    },
    {
     "data": {
      "text/plain": [
       "CHEQUEID    0\n",
       "LAGERID     0\n",
       "KOLVO       0\n",
       "SECTION     0\n",
       "LEVEL       0\n",
       "dtype: int64"
      ]
     },
     "metadata": {},
     "output_type": "display_data"
    },
    {
     "name": "stderr",
     "output_type": "stream",
     "text": [
      "100%|████████████████████████████████████| 5822/5822 [00:00<00:00, 41066.27it/s]\n",
      "100%|██████████████████████████████████████| 5822/5822 [00:06<00:00, 842.74it/s]\n"
     ]
    },
    {
     "data": {
      "text/plain": [
       "CHEQUEID    0\n",
       "LAGERID     0\n",
       "KOLVO       0\n",
       "SECTION     0\n",
       "LEVEL       0\n",
       "dtype: int64"
      ]
     },
     "metadata": {},
     "output_type": "display_data"
    },
    {
     "name": "stderr",
     "output_type": "stream",
     "text": [
      "100%|████████████████████████████████████| 5822/5822 [00:00<00:00, 12853.99it/s]\n",
      "100%|██████████████████████████████████████| 5822/5822 [00:07<00:00, 819.07it/s]\n"
     ]
    },
    {
     "data": {
      "text/plain": [
       "CHEQUEID    0\n",
       "LAGERID     0\n",
       "KOLVO       0\n",
       "SECTION     0\n",
       "LEVEL       0\n",
       "dtype: int64"
      ]
     },
     "metadata": {},
     "output_type": "display_data"
    },
    {
     "name": "stderr",
     "output_type": "stream",
     "text": [
      "100%|████████████████████████████████████| 5822/5822 [00:00<00:00, 40632.63it/s]\n",
      "100%|█████████████████████████████████████| 5822/5822 [00:05<00:00, 1153.40it/s]\n"
     ]
    },
    {
     "data": {
      "text/plain": [
       "CHEQUEID    0\n",
       "LAGERID     0\n",
       "KOLVO       0\n",
       "SECTION     0\n",
       "LEVEL       0\n",
       "dtype: int64"
      ]
     },
     "metadata": {},
     "output_type": "display_data"
    },
    {
     "name": "stderr",
     "output_type": "stream",
     "text": [
      "100%|████████████████████████████████████| 5822/5822 [00:00<00:00, 38831.15it/s]\n",
      "100%|█████████████████████████████████████| 5822/5822 [00:05<00:00, 1110.90it/s]\n"
     ]
    },
    {
     "data": {
      "text/plain": [
       "CHEQUEID    0\n",
       "LAGERID     0\n",
       "KOLVO       0\n",
       "SECTION     0\n",
       "LEVEL       0\n",
       "dtype: int64"
      ]
     },
     "metadata": {},
     "output_type": "display_data"
    },
    {
     "name": "stderr",
     "output_type": "stream",
     "text": [
      "100%|████████████████████████████████████| 5822/5822 [00:00<00:00, 23049.39it/s]\n",
      "100%|█████████████████████████████████████| 5822/5822 [00:04<00:00, 1182.49it/s]\n"
     ]
    },
    {
     "data": {
      "text/plain": [
       "CHEQUEID    0\n",
       "LAGERID     0\n",
       "KOLVO       0\n",
       "SECTION     0\n",
       "LEVEL       0\n",
       "dtype: int64"
      ]
     },
     "metadata": {},
     "output_type": "display_data"
    },
    {
     "name": "stderr",
     "output_type": "stream",
     "text": [
      "100%|████████████████████████████████████| 5822/5822 [00:00<00:00, 42760.05it/s]\n",
      "100%|█████████████████████████████████████| 5822/5822 [00:04<00:00, 1166.81it/s]\n"
     ]
    },
    {
     "data": {
      "text/plain": [
       "CHEQUEID    0\n",
       "LAGERID     0\n",
       "KOLVO       0\n",
       "SECTION     0\n",
       "LEVEL       0\n",
       "dtype: int64"
      ]
     },
     "metadata": {},
     "output_type": "display_data"
    },
    {
     "name": "stderr",
     "output_type": "stream",
     "text": [
      "100%|████████████████████████████████████| 5822/5822 [00:00<00:00, 42950.10it/s]\n",
      "100%|█████████████████████████████████████| 5822/5822 [00:04<00:00, 1184.87it/s]\n"
     ]
    },
    {
     "data": {
      "text/plain": [
       "CHEQUEID    0\n",
       "LAGERID     0\n",
       "KOLVO       0\n",
       "SECTION     0\n",
       "LEVEL       0\n",
       "dtype: int64"
      ]
     },
     "metadata": {},
     "output_type": "display_data"
    },
    {
     "name": "stderr",
     "output_type": "stream",
     "text": [
      "100%|████████████████████████████████████| 5822/5822 [00:00<00:00, 22781.88it/s]\n",
      "100%|█████████████████████████████████████| 5822/5822 [00:04<00:00, 1169.74it/s]\n"
     ]
    },
    {
     "data": {
      "text/plain": [
       "CHEQUEID    0\n",
       "LAGERID     0\n",
       "KOLVO       0\n",
       "SECTION     0\n",
       "LEVEL       0\n",
       "dtype: int64"
      ]
     },
     "metadata": {},
     "output_type": "display_data"
    },
    {
     "name": "stderr",
     "output_type": "stream",
     "text": [
      "100%|████████████████████████████████████| 5822/5822 [00:00<00:00, 43241.32it/s]\n",
      "100%|█████████████████████████████████████| 5822/5822 [00:04<00:00, 1190.18it/s]\n"
     ]
    },
    {
     "data": {
      "text/plain": [
       "CHEQUEID    0\n",
       "LAGERID     0\n",
       "KOLVO       0\n",
       "SECTION     0\n",
       "LEVEL       0\n",
       "dtype: int64"
      ]
     },
     "metadata": {},
     "output_type": "display_data"
    },
    {
     "name": "stderr",
     "output_type": "stream",
     "text": [
      "100%|████████████████████████████████████| 5822/5822 [00:00<00:00, 42919.91it/s]\n",
      "100%|█████████████████████████████████████| 5822/5822 [00:05<00:00, 1113.19it/s]\n"
     ]
    },
    {
     "data": {
      "text/plain": [
       "CHEQUEID    0\n",
       "LAGERID     0\n",
       "KOLVO       0\n",
       "SECTION     0\n",
       "LEVEL       0\n",
       "dtype: int64"
      ]
     },
     "metadata": {},
     "output_type": "display_data"
    },
    {
     "name": "stderr",
     "output_type": "stream",
     "text": [
      "100%|████████████████████████████████████| 5822/5822 [00:00<00:00, 22774.49it/s]\n",
      "100%|█████████████████████████████████████| 5822/5822 [00:05<00:00, 1162.82it/s]\n"
     ]
    },
    {
     "data": {
      "text/plain": [
       "CHEQUEID    0\n",
       "LAGERID     0\n",
       "KOLVO       0\n",
       "SECTION     0\n",
       "LEVEL       0\n",
       "dtype: int64"
      ]
     },
     "metadata": {},
     "output_type": "display_data"
    },
    {
     "name": "stderr",
     "output_type": "stream",
     "text": [
      "100%|████████████████████████████████████| 5822/5822 [00:00<00:00, 41254.78it/s]\n",
      "100%|██████████████████████████████████████| 5822/5822 [00:07<00:00, 765.49it/s]\n"
     ]
    },
    {
     "data": {
      "text/plain": [
       "CHEQUEID    0\n",
       "LAGERID     0\n",
       "KOLVO       0\n",
       "SECTION     0\n",
       "LEVEL       0\n",
       "dtype: int64"
      ]
     },
     "metadata": {},
     "output_type": "display_data"
    },
    {
     "name": "stderr",
     "output_type": "stream",
     "text": [
      "100%|████████████████████████████████████| 5822/5822 [00:00<00:00, 33058.52it/s]\n",
      "100%|██████████████████████████████████████| 5822/5822 [00:06<00:00, 915.01it/s]\n"
     ]
    },
    {
     "data": {
      "text/plain": [
       "CHEQUEID    0\n",
       "LAGERID     0\n",
       "KOLVO       0\n",
       "SECTION     0\n",
       "LEVEL       0\n",
       "dtype: int64"
      ]
     },
     "metadata": {},
     "output_type": "display_data"
    },
    {
     "name": "stderr",
     "output_type": "stream",
     "text": [
      "100%|████████████████████████████████████| 5822/5822 [00:00<00:00, 30754.44it/s]\n",
      "100%|██████████████████████████████████████| 5822/5822 [00:06<00:00, 871.42it/s]\n"
     ]
    },
    {
     "data": {
      "text/plain": [
       "CHEQUEID    0\n",
       "LAGERID     0\n",
       "KOLVO       0\n",
       "SECTION     0\n",
       "LEVEL       0\n",
       "dtype: int64"
      ]
     },
     "metadata": {},
     "output_type": "display_data"
    },
    {
     "name": "stderr",
     "output_type": "stream",
     "text": [
      "100%|████████████████████████████████████| 5822/5822 [00:00<00:00, 40642.24it/s]\n",
      "100%|█████████████████████████████████████| 5822/5822 [00:05<00:00, 1084.30it/s]\n"
     ]
    },
    {
     "data": {
      "text/plain": [
       "CHEQUEID    0\n",
       "LAGERID     0\n",
       "KOLVO       0\n",
       "SECTION     0\n",
       "LEVEL       0\n",
       "dtype: int64"
      ]
     },
     "metadata": {},
     "output_type": "display_data"
    },
    {
     "name": "stderr",
     "output_type": "stream",
     "text": [
      "100%|████████████████████████████████████| 5822/5822 [00:00<00:00, 21567.04it/s]\n",
      "100%|██████████████████████████████████████| 5822/5822 [00:06<00:00, 906.27it/s]\n"
     ]
    },
    {
     "data": {
      "text/plain": [
       "CHEQUEID    0\n",
       "LAGERID     0\n",
       "KOLVO       0\n",
       "SECTION     0\n",
       "LEVEL       0\n",
       "dtype: int64"
      ]
     },
     "metadata": {},
     "output_type": "display_data"
    },
    {
     "name": "stderr",
     "output_type": "stream",
     "text": [
      "100%|████████████████████████████████████| 5822/5822 [00:00<00:00, 34236.43it/s]\n",
      "100%|██████████████████████████████████████| 5822/5822 [00:06<00:00, 853.70it/s]"
     ]
    },
    {
     "name": "stdout",
     "output_type": "stream",
     "text": [
      "Generation 9\n",
      "[[ 17 117 118 ... 130 131 132]\n",
      " [120 121 122 ... 130 131 132]\n",
      " [ 17 117 118 ... 130 131 132]\n",
      " ...\n",
      " [  5   6   7 ... 130 131 132]\n",
      " [ 10  11  12 ... 130 131 132]\n",
      " [ 17 117 118 ... 130 131 132]]\n"
     ]
    },
    {
     "name": "stderr",
     "output_type": "stream",
     "text": [
      "\n"
     ]
    },
    {
     "data": {
      "text/plain": [
       "CHEQUEID    0\n",
       "LAGERID     0\n",
       "KOLVO       0\n",
       "SECTION     0\n",
       "LEVEL       0\n",
       "dtype: int64"
      ]
     },
     "metadata": {},
     "output_type": "display_data"
    },
    {
     "name": "stderr",
     "output_type": "stream",
     "text": [
      "100%|████████████████████████████████████| 5822/5822 [00:00<00:00, 31911.35it/s]\n",
      "100%|█████████████████████████████████████| 5822/5822 [00:05<00:00, 1037.83it/s]\n"
     ]
    },
    {
     "data": {
      "text/plain": [
       "CHEQUEID    0\n",
       "LAGERID     0\n",
       "KOLVO       0\n",
       "SECTION     0\n",
       "LEVEL       0\n",
       "dtype: int64"
      ]
     },
     "metadata": {},
     "output_type": "display_data"
    },
    {
     "name": "stderr",
     "output_type": "stream",
     "text": [
      "100%|████████████████████████████████████| 5822/5822 [00:00<00:00, 22066.67it/s]\n",
      "100%|█████████████████████████████████████| 5822/5822 [00:05<00:00, 1037.01it/s]\n"
     ]
    },
    {
     "data": {
      "text/plain": [
       "CHEQUEID    0\n",
       "LAGERID     0\n",
       "KOLVO       0\n",
       "SECTION     0\n",
       "LEVEL       0\n",
       "dtype: int64"
      ]
     },
     "metadata": {},
     "output_type": "display_data"
    },
    {
     "name": "stderr",
     "output_type": "stream",
     "text": [
      "100%|████████████████████████████████████| 5822/5822 [00:00<00:00, 32809.65it/s]\n",
      "100%|█████████████████████████████████████| 5822/5822 [00:05<00:00, 1089.05it/s]\n"
     ]
    },
    {
     "data": {
      "text/plain": [
       "CHEQUEID    0\n",
       "LAGERID     0\n",
       "KOLVO       0\n",
       "SECTION     0\n",
       "LEVEL       0\n",
       "dtype: int64"
      ]
     },
     "metadata": {},
     "output_type": "display_data"
    },
    {
     "name": "stderr",
     "output_type": "stream",
     "text": [
      "100%|████████████████████████████████████| 5822/5822 [00:00<00:00, 38617.44it/s]\n",
      "100%|██████████████████████████████████████| 5822/5822 [00:07<00:00, 796.30it/s]\n"
     ]
    },
    {
     "data": {
      "text/plain": [
       "CHEQUEID    0\n",
       "LAGERID     0\n",
       "KOLVO       0\n",
       "SECTION     0\n",
       "LEVEL       0\n",
       "dtype: int64"
      ]
     },
     "metadata": {},
     "output_type": "display_data"
    },
    {
     "name": "stderr",
     "output_type": "stream",
     "text": [
      "100%|████████████████████████████████████| 5822/5822 [00:00<00:00, 16509.89it/s]\n",
      "100%|██████████████████████████████████████| 5822/5822 [00:06<00:00, 884.10it/s]\n"
     ]
    },
    {
     "data": {
      "text/plain": [
       "CHEQUEID    0\n",
       "LAGERID     0\n",
       "KOLVO       0\n",
       "SECTION     0\n",
       "LEVEL       0\n",
       "dtype: int64"
      ]
     },
     "metadata": {},
     "output_type": "display_data"
    },
    {
     "name": "stderr",
     "output_type": "stream",
     "text": [
      "100%|████████████████████████████████████| 5822/5822 [00:00<00:00, 23541.02it/s]\n",
      "100%|██████████████████████████████████████| 5822/5822 [00:06<00:00, 894.65it/s]\n"
     ]
    },
    {
     "data": {
      "text/plain": [
       "CHEQUEID    0\n",
       "LAGERID     0\n",
       "KOLVO       0\n",
       "SECTION     0\n",
       "LEVEL       0\n",
       "dtype: int64"
      ]
     },
     "metadata": {},
     "output_type": "display_data"
    },
    {
     "name": "stderr",
     "output_type": "stream",
     "text": [
      "100%|████████████████████████████████████| 5822/5822 [00:00<00:00, 28742.68it/s]\n",
      "100%|██████████████████████████████████████| 5822/5822 [00:06<00:00, 909.89it/s]\n"
     ]
    },
    {
     "data": {
      "text/plain": [
       "CHEQUEID    0\n",
       "LAGERID     0\n",
       "KOLVO       0\n",
       "SECTION     0\n",
       "LEVEL       0\n",
       "dtype: int64"
      ]
     },
     "metadata": {},
     "output_type": "display_data"
    },
    {
     "name": "stderr",
     "output_type": "stream",
     "text": [
      "100%|████████████████████████████████████| 5822/5822 [00:00<00:00, 17193.93it/s]\n",
      "100%|██████████████████████████████████████| 5822/5822 [00:06<00:00, 951.50it/s]\n"
     ]
    },
    {
     "data": {
      "text/plain": [
       "CHEQUEID    0\n",
       "LAGERID     0\n",
       "KOLVO       0\n",
       "SECTION     0\n",
       "LEVEL       0\n",
       "dtype: int64"
      ]
     },
     "metadata": {},
     "output_type": "display_data"
    },
    {
     "name": "stderr",
     "output_type": "stream",
     "text": [
      "100%|████████████████████████████████████| 5822/5822 [00:00<00:00, 37161.40it/s]\n",
      "100%|█████████████████████████████████████| 5822/5822 [00:05<00:00, 1027.16it/s]\n"
     ]
    },
    {
     "data": {
      "text/plain": [
       "CHEQUEID    0\n",
       "LAGERID     0\n",
       "KOLVO       0\n",
       "SECTION     0\n",
       "LEVEL       0\n",
       "dtype: int64"
      ]
     },
     "metadata": {},
     "output_type": "display_data"
    },
    {
     "name": "stderr",
     "output_type": "stream",
     "text": [
      "100%|████████████████████████████████████| 5822/5822 [00:00<00:00, 35305.21it/s]\n",
      "100%|█████████████████████████████████████| 5822/5822 [00:05<00:00, 1044.27it/s]\n"
     ]
    },
    {
     "data": {
      "text/plain": [
       "CHEQUEID    0\n",
       "LAGERID     0\n",
       "KOLVO       0\n",
       "SECTION     0\n",
       "LEVEL       0\n",
       "dtype: int64"
      ]
     },
     "metadata": {},
     "output_type": "display_data"
    },
    {
     "name": "stderr",
     "output_type": "stream",
     "text": [
      "100%|████████████████████████████████████| 5822/5822 [00:00<00:00, 20179.75it/s]\n",
      "100%|█████████████████████████████████████| 5822/5822 [00:05<00:00, 1032.08it/s]\n"
     ]
    },
    {
     "data": {
      "text/plain": [
       "CHEQUEID    0\n",
       "LAGERID     0\n",
       "KOLVO       0\n",
       "SECTION     0\n",
       "LEVEL       0\n",
       "dtype: int64"
      ]
     },
     "metadata": {},
     "output_type": "display_data"
    },
    {
     "name": "stderr",
     "output_type": "stream",
     "text": [
      "100%|████████████████████████████████████| 5822/5822 [00:00<00:00, 17803.25it/s]\n",
      "100%|█████████████████████████████████████| 5822/5822 [00:05<00:00, 1009.10it/s]\n"
     ]
    },
    {
     "data": {
      "text/plain": [
       "CHEQUEID    0\n",
       "LAGERID     0\n",
       "KOLVO       0\n",
       "SECTION     0\n",
       "LEVEL       0\n",
       "dtype: int64"
      ]
     },
     "metadata": {},
     "output_type": "display_data"
    },
    {
     "name": "stderr",
     "output_type": "stream",
     "text": [
      "100%|████████████████████████████████████| 5822/5822 [00:00<00:00, 34412.63it/s]\n",
      "100%|██████████████████████████████████████| 5822/5822 [00:06<00:00, 955.21it/s]\n"
     ]
    },
    {
     "data": {
      "text/plain": [
       "CHEQUEID    0\n",
       "LAGERID     0\n",
       "KOLVO       0\n",
       "SECTION     0\n",
       "LEVEL       0\n",
       "dtype: int64"
      ]
     },
     "metadata": {},
     "output_type": "display_data"
    },
    {
     "name": "stderr",
     "output_type": "stream",
     "text": [
      "100%|████████████████████████████████████| 5822/5822 [00:00<00:00, 36636.26it/s]\n",
      "100%|█████████████████████████████████████| 5822/5822 [00:05<00:00, 1014.53it/s]\n"
     ]
    },
    {
     "data": {
      "text/plain": [
       "CHEQUEID    0\n",
       "LAGERID     0\n",
       "KOLVO       0\n",
       "SECTION     0\n",
       "LEVEL       0\n",
       "dtype: int64"
      ]
     },
     "metadata": {},
     "output_type": "display_data"
    },
    {
     "name": "stderr",
     "output_type": "stream",
     "text": [
      "100%|████████████████████████████████████| 5822/5822 [00:00<00:00, 32989.79it/s]\n",
      "100%|█████████████████████████████████████| 5822/5822 [00:05<00:00, 1078.12it/s]\n"
     ]
    },
    {
     "data": {
      "text/plain": [
       "CHEQUEID    0\n",
       "LAGERID     0\n",
       "KOLVO       0\n",
       "SECTION     0\n",
       "LEVEL       0\n",
       "dtype: int64"
      ]
     },
     "metadata": {},
     "output_type": "display_data"
    },
    {
     "name": "stderr",
     "output_type": "stream",
     "text": [
      "100%|████████████████████████████████████| 5822/5822 [00:00<00:00, 21471.60it/s]\n",
      "100%|█████████████████████████████████████| 5822/5822 [00:05<00:00, 1073.23it/s]\n"
     ]
    },
    {
     "data": {
      "text/plain": [
       "CHEQUEID    0\n",
       "LAGERID     0\n",
       "KOLVO       0\n",
       "SECTION     0\n",
       "LEVEL       0\n",
       "dtype: int64"
      ]
     },
     "metadata": {},
     "output_type": "display_data"
    },
    {
     "name": "stderr",
     "output_type": "stream",
     "text": [
      "100%|████████████████████████████████████| 5822/5822 [00:00<00:00, 39450.58it/s]\n",
      "100%|█████████████████████████████████████| 5822/5822 [00:05<00:00, 1037.25it/s]\n"
     ]
    },
    {
     "data": {
      "text/plain": [
       "CHEQUEID    0\n",
       "LAGERID     0\n",
       "KOLVO       0\n",
       "SECTION     0\n",
       "LEVEL       0\n",
       "dtype: int64"
      ]
     },
     "metadata": {},
     "output_type": "display_data"
    },
    {
     "name": "stderr",
     "output_type": "stream",
     "text": [
      "100%|████████████████████████████████████| 5822/5822 [00:00<00:00, 39899.74it/s]\n",
      "100%|█████████████████████████████████████| 5822/5822 [00:05<00:00, 1056.84it/s]\n"
     ]
    },
    {
     "data": {
      "text/plain": [
       "CHEQUEID    0\n",
       "LAGERID     0\n",
       "KOLVO       0\n",
       "SECTION     0\n",
       "LEVEL       0\n",
       "dtype: int64"
      ]
     },
     "metadata": {},
     "output_type": "display_data"
    },
    {
     "name": "stderr",
     "output_type": "stream",
     "text": [
      "100%|████████████████████████████████████| 5822/5822 [00:00<00:00, 17611.37it/s]\n",
      "100%|██████████████████████████████████████| 5822/5822 [00:06<00:00, 928.52it/s]\n"
     ]
    },
    {
     "data": {
      "text/plain": [
       "CHEQUEID    0\n",
       "LAGERID     0\n",
       "KOLVO       0\n",
       "SECTION     0\n",
       "LEVEL       0\n",
       "dtype: int64"
      ]
     },
     "metadata": {},
     "output_type": "display_data"
    },
    {
     "name": "stderr",
     "output_type": "stream",
     "text": [
      "100%|████████████████████████████████████| 5822/5822 [00:00<00:00, 34909.51it/s]\n",
      "100%|██████████████████████████████████████| 5822/5822 [00:06<00:00, 951.11it/s]\n"
     ]
    },
    {
     "data": {
      "text/plain": [
       "CHEQUEID    0\n",
       "LAGERID     0\n",
       "KOLVO       0\n",
       "SECTION     0\n",
       "LEVEL       0\n",
       "dtype: int64"
      ]
     },
     "metadata": {},
     "output_type": "display_data"
    },
    {
     "name": "stderr",
     "output_type": "stream",
     "text": [
      "100%|████████████████████████████████████| 5822/5822 [00:00<00:00, 39160.82it/s]\n",
      "100%|█████████████████████████████████████| 5822/5822 [00:05<00:00, 1121.19it/s]\n"
     ]
    },
    {
     "name": "stdout",
     "output_type": "stream",
     "text": [
      "Generation 10\n",
      "[[ 17 117 118 ... 130 131 132]\n",
      " [120 121 122 ... 130 131 132]\n",
      " [ 17 117 118 ... 130 131 132]\n",
      " ...\n",
      " [ 19  20  21 ... 129 130 132]\n",
      " [ 16  17 103 ... 130 131 132]\n",
      " [ 74  75  76 ... 130 131 132]]\n"
     ]
    },
    {
     "data": {
      "text/plain": [
       "CHEQUEID    0\n",
       "LAGERID     0\n",
       "KOLVO       0\n",
       "SECTION     0\n",
       "LEVEL       0\n",
       "dtype: int64"
      ]
     },
     "metadata": {},
     "output_type": "display_data"
    },
    {
     "name": "stderr",
     "output_type": "stream",
     "text": [
      "100%|████████████████████████████████████| 5822/5822 [00:00<00:00, 21865.13it/s]\n",
      "100%|█████████████████████████████████████| 5822/5822 [00:05<00:00, 1156.29it/s]\n"
     ]
    },
    {
     "data": {
      "text/plain": [
       "CHEQUEID    0\n",
       "LAGERID     0\n",
       "KOLVO       0\n",
       "SECTION     0\n",
       "LEVEL       0\n",
       "dtype: int64"
      ]
     },
     "metadata": {},
     "output_type": "display_data"
    },
    {
     "name": "stderr",
     "output_type": "stream",
     "text": [
      "100%|████████████████████████████████████| 5822/5822 [00:00<00:00, 38994.35it/s]\n",
      "100%|█████████████████████████████████████| 5822/5822 [00:05<00:00, 1096.84it/s]\n"
     ]
    },
    {
     "data": {
      "text/plain": [
       "CHEQUEID    0\n",
       "LAGERID     0\n",
       "KOLVO       0\n",
       "SECTION     0\n",
       "LEVEL       0\n",
       "dtype: int64"
      ]
     },
     "metadata": {},
     "output_type": "display_data"
    },
    {
     "name": "stderr",
     "output_type": "stream",
     "text": [
      "100%|████████████████████████████████████| 5822/5822 [00:00<00:00, 41115.78it/s]\n",
      "100%|█████████████████████████████████████| 5822/5822 [00:05<00:00, 1133.94it/s]\n"
     ]
    },
    {
     "data": {
      "text/plain": [
       "CHEQUEID    0\n",
       "LAGERID     0\n",
       "KOLVO       0\n",
       "SECTION     0\n",
       "LEVEL       0\n",
       "dtype: int64"
      ]
     },
     "metadata": {},
     "output_type": "display_data"
    },
    {
     "name": "stderr",
     "output_type": "stream",
     "text": [
      "100%|████████████████████████████████████| 5822/5822 [00:00<00:00, 21328.26it/s]\n",
      "100%|█████████████████████████████████████| 5822/5822 [00:05<00:00, 1124.69it/s]\n"
     ]
    },
    {
     "data": {
      "text/plain": [
       "CHEQUEID    0\n",
       "LAGERID     0\n",
       "KOLVO       0\n",
       "SECTION     0\n",
       "LEVEL       0\n",
       "dtype: int64"
      ]
     },
     "metadata": {},
     "output_type": "display_data"
    },
    {
     "name": "stderr",
     "output_type": "stream",
     "text": [
      "100%|████████████████████████████████████| 5822/5822 [00:00<00:00, 39718.93it/s]\n",
      "100%|█████████████████████████████████████| 5822/5822 [00:05<00:00, 1112.57it/s]\n"
     ]
    },
    {
     "data": {
      "text/plain": [
       "CHEQUEID    0\n",
       "LAGERID     0\n",
       "KOLVO       0\n",
       "SECTION     0\n",
       "LEVEL       0\n",
       "dtype: int64"
      ]
     },
     "metadata": {},
     "output_type": "display_data"
    },
    {
     "name": "stderr",
     "output_type": "stream",
     "text": [
      "100%|████████████████████████████████████| 5822/5822 [00:00<00:00, 40083.45it/s]\n",
      "100%|█████████████████████████████████████| 5822/5822 [00:05<00:00, 1113.60it/s]\n"
     ]
    },
    {
     "data": {
      "text/plain": [
       "CHEQUEID    0\n",
       "LAGERID     0\n",
       "KOLVO       0\n",
       "SECTION     0\n",
       "LEVEL       0\n",
       "dtype: int64"
      ]
     },
     "metadata": {},
     "output_type": "display_data"
    },
    {
     "name": "stderr",
     "output_type": "stream",
     "text": [
      "100%|████████████████████████████████████| 5822/5822 [00:00<00:00, 21872.67it/s]\n",
      "100%|█████████████████████████████████████| 5822/5822 [00:05<00:00, 1136.95it/s]\n"
     ]
    },
    {
     "data": {
      "text/plain": [
       "CHEQUEID    0\n",
       "LAGERID     0\n",
       "KOLVO       0\n",
       "SECTION     0\n",
       "LEVEL       0\n",
       "dtype: int64"
      ]
     },
     "metadata": {},
     "output_type": "display_data"
    },
    {
     "name": "stderr",
     "output_type": "stream",
     "text": [
      "100%|████████████████████████████████████| 5822/5822 [00:00<00:00, 41062.54it/s]\n",
      "100%|█████████████████████████████████████| 5822/5822 [00:05<00:00, 1118.55it/s]\n"
     ]
    },
    {
     "data": {
      "text/plain": [
       "CHEQUEID    0\n",
       "LAGERID     0\n",
       "KOLVO       0\n",
       "SECTION     0\n",
       "LEVEL       0\n",
       "dtype: int64"
      ]
     },
     "metadata": {},
     "output_type": "display_data"
    },
    {
     "name": "stderr",
     "output_type": "stream",
     "text": [
      "100%|████████████████████████████████████| 5822/5822 [00:00<00:00, 41090.25it/s]\n",
      "100%|█████████████████████████████████████| 5822/5822 [00:05<00:00, 1131.44it/s]\n"
     ]
    },
    {
     "data": {
      "text/plain": [
       "CHEQUEID    0\n",
       "LAGERID     0\n",
       "KOLVO       0\n",
       "SECTION     0\n",
       "LEVEL       0\n",
       "dtype: int64"
      ]
     },
     "metadata": {},
     "output_type": "display_data"
    },
    {
     "name": "stderr",
     "output_type": "stream",
     "text": [
      "100%|████████████████████████████████████| 5822/5822 [00:00<00:00, 21889.43it/s]\n",
      "100%|█████████████████████████████████████| 5822/5822 [00:05<00:00, 1021.11it/s]\n"
     ]
    },
    {
     "data": {
      "text/plain": [
       "CHEQUEID    0\n",
       "LAGERID     0\n",
       "KOLVO       0\n",
       "SECTION     0\n",
       "LEVEL       0\n",
       "dtype: int64"
      ]
     },
     "metadata": {},
     "output_type": "display_data"
    },
    {
     "name": "stderr",
     "output_type": "stream",
     "text": [
      "100%|████████████████████████████████████| 5822/5822 [00:00<00:00, 34608.60it/s]\n",
      "100%|█████████████████████████████████████| 5822/5822 [00:05<00:00, 1078.84it/s]\n"
     ]
    },
    {
     "data": {
      "text/plain": [
       "CHEQUEID    0\n",
       "LAGERID     0\n",
       "KOLVO       0\n",
       "SECTION     0\n",
       "LEVEL       0\n",
       "dtype: int64"
      ]
     },
     "metadata": {},
     "output_type": "display_data"
    },
    {
     "name": "stderr",
     "output_type": "stream",
     "text": [
      "100%|████████████████████████████████████| 5822/5822 [00:00<00:00, 41451.56it/s]\n",
      "100%|██████████████████████████████████████| 5822/5822 [00:06<00:00, 934.84it/s]\n"
     ]
    },
    {
     "data": {
      "text/plain": [
       "CHEQUEID    0\n",
       "LAGERID     0\n",
       "KOLVO       0\n",
       "SECTION     0\n",
       "LEVEL       0\n",
       "dtype: int64"
      ]
     },
     "metadata": {},
     "output_type": "display_data"
    },
    {
     "name": "stderr",
     "output_type": "stream",
     "text": [
      "100%|████████████████████████████████████| 5822/5822 [00:00<00:00, 19190.33it/s]\n",
      "100%|██████████████████████████████████████| 5822/5822 [00:06<00:00, 903.62it/s]\n"
     ]
    },
    {
     "data": {
      "text/plain": [
       "CHEQUEID    0\n",
       "LAGERID     0\n",
       "KOLVO       0\n",
       "SECTION     0\n",
       "LEVEL       0\n",
       "dtype: int64"
      ]
     },
     "metadata": {},
     "output_type": "display_data"
    },
    {
     "name": "stderr",
     "output_type": "stream",
     "text": [
      "100%|████████████████████████████████████| 5822/5822 [00:00<00:00, 35449.80it/s]\n",
      "100%|██████████████████████████████████████| 5822/5822 [00:06<00:00, 959.79it/s]\n"
     ]
    },
    {
     "data": {
      "text/plain": [
       "CHEQUEID    0\n",
       "LAGERID     0\n",
       "KOLVO       0\n",
       "SECTION     0\n",
       "LEVEL       0\n",
       "dtype: int64"
      ]
     },
     "metadata": {},
     "output_type": "display_data"
    },
    {
     "name": "stderr",
     "output_type": "stream",
     "text": [
      "100%|████████████████████████████████████| 5822/5822 [00:00<00:00, 18934.13it/s]\n",
      "100%|█████████████████████████████████████| 5822/5822 [00:05<00:00, 1024.10it/s]\n"
     ]
    },
    {
     "data": {
      "text/plain": [
       "CHEQUEID    0\n",
       "LAGERID     0\n",
       "KOLVO       0\n",
       "SECTION     0\n",
       "LEVEL       0\n",
       "dtype: int64"
      ]
     },
     "metadata": {},
     "output_type": "display_data"
    },
    {
     "name": "stderr",
     "output_type": "stream",
     "text": [
      "100%|████████████████████████████████████| 5822/5822 [00:00<00:00, 34633.58it/s]\n",
      "100%|█████████████████████████████████████| 5822/5822 [00:05<00:00, 1035.08it/s]\n"
     ]
    },
    {
     "data": {
      "text/plain": [
       "CHEQUEID    0\n",
       "LAGERID     0\n",
       "KOLVO       0\n",
       "SECTION     0\n",
       "LEVEL       0\n",
       "dtype: int64"
      ]
     },
     "metadata": {},
     "output_type": "display_data"
    },
    {
     "name": "stderr",
     "output_type": "stream",
     "text": [
      "100%|████████████████████████████████████| 5822/5822 [00:00<00:00, 35603.56it/s]\n",
      "100%|█████████████████████████████████████| 5822/5822 [00:05<00:00, 1012.87it/s]\n"
     ]
    },
    {
     "data": {
      "text/plain": [
       "CHEQUEID    0\n",
       "LAGERID     0\n",
       "KOLVO       0\n",
       "SECTION     0\n",
       "LEVEL       0\n",
       "dtype: int64"
      ]
     },
     "metadata": {},
     "output_type": "display_data"
    },
    {
     "name": "stderr",
     "output_type": "stream",
     "text": [
      "100%|████████████████████████████████████| 5822/5822 [00:00<00:00, 17856.65it/s]\n",
      "100%|██████████████████████████████████████| 5822/5822 [00:06<00:00, 916.03it/s]\n"
     ]
    },
    {
     "data": {
      "text/plain": [
       "CHEQUEID    0\n",
       "LAGERID     0\n",
       "KOLVO       0\n",
       "SECTION     0\n",
       "LEVEL       0\n",
       "dtype: int64"
      ]
     },
     "metadata": {},
     "output_type": "display_data"
    },
    {
     "name": "stderr",
     "output_type": "stream",
     "text": [
      "100%|████████████████████████████████████| 5822/5822 [00:00<00:00, 37414.77it/s]\n",
      "100%|█████████████████████████████████████| 5822/5822 [00:05<00:00, 1035.59it/s]\n"
     ]
    },
    {
     "data": {
      "text/plain": [
       "CHEQUEID    0\n",
       "LAGERID     0\n",
       "KOLVO       0\n",
       "SECTION     0\n",
       "LEVEL       0\n",
       "dtype: int64"
      ]
     },
     "metadata": {},
     "output_type": "display_data"
    },
    {
     "name": "stderr",
     "output_type": "stream",
     "text": [
      "100%|████████████████████████████████████| 5822/5822 [00:00<00:00, 36280.71it/s]\n",
      "100%|██████████████████████████████████████| 5822/5822 [00:05<00:00, 999.42it/s]\n"
     ]
    },
    {
     "data": {
      "text/plain": [
       "CHEQUEID    0\n",
       "LAGERID     0\n",
       "KOLVO       0\n",
       "SECTION     0\n",
       "LEVEL       0\n",
       "dtype: int64"
      ]
     },
     "metadata": {},
     "output_type": "display_data"
    },
    {
     "name": "stderr",
     "output_type": "stream",
     "text": [
      "100%|████████████████████████████████████| 5822/5822 [00:00<00:00, 17560.15it/s]\n",
      "100%|█████████████████████████████████████| 5822/5822 [00:05<00:00, 1078.36it/s]"
     ]
    },
    {
     "name": "stdout",
     "output_type": "stream",
     "text": [
      "Generation 11\n",
      "[[ 44  45  46 ... 130 131 132]\n",
      " [ 14  15  16 ... 130 131 132]\n",
      " [ 17 117 118 ... 130 131 132]\n",
      " ...\n",
      " [121 122  92 ... 130 131 132]\n",
      " [  5   6   7 ... 130 131 132]\n",
      " [ 37  38  39 ... 130 131 132]]\n"
     ]
    },
    {
     "name": "stderr",
     "output_type": "stream",
     "text": [
      "\n"
     ]
    },
    {
     "data": {
      "text/plain": [
       "CHEQUEID    0\n",
       "LAGERID     0\n",
       "KOLVO       0\n",
       "SECTION     0\n",
       "LEVEL       0\n",
       "dtype: int64"
      ]
     },
     "metadata": {},
     "output_type": "display_data"
    },
    {
     "name": "stderr",
     "output_type": "stream",
     "text": [
      "100%|████████████████████████████████████| 5822/5822 [00:00<00:00, 38707.86it/s]\n",
      "100%|█████████████████████████████████████| 5822/5822 [00:05<00:00, 1037.94it/s]\n"
     ]
    },
    {
     "data": {
      "text/plain": [
       "CHEQUEID    0\n",
       "LAGERID     0\n",
       "KOLVO       0\n",
       "SECTION     0\n",
       "LEVEL       0\n",
       "dtype: int64"
      ]
     },
     "metadata": {},
     "output_type": "display_data"
    },
    {
     "name": "stderr",
     "output_type": "stream",
     "text": [
      "100%|████████████████████████████████████| 5822/5822 [00:00<00:00, 27524.47it/s]\n",
      "100%|█████████████████████████████████████| 5822/5822 [00:05<00:00, 1052.41it/s]\n"
     ]
    },
    {
     "data": {
      "text/plain": [
       "CHEQUEID    0\n",
       "LAGERID     0\n",
       "KOLVO       0\n",
       "SECTION     0\n",
       "LEVEL       0\n",
       "dtype: int64"
      ]
     },
     "metadata": {},
     "output_type": "display_data"
    },
    {
     "name": "stderr",
     "output_type": "stream",
     "text": [
      "100%|████████████████████████████████████| 5822/5822 [00:00<00:00, 20751.27it/s]\n",
      "100%|██████████████████████████████████████| 5822/5822 [00:06<00:00, 962.32it/s]\n"
     ]
    },
    {
     "data": {
      "text/plain": [
       "CHEQUEID    0\n",
       "LAGERID     0\n",
       "KOLVO       0\n",
       "SECTION     0\n",
       "LEVEL       0\n",
       "dtype: int64"
      ]
     },
     "metadata": {},
     "output_type": "display_data"
    },
    {
     "name": "stderr",
     "output_type": "stream",
     "text": [
      "100%|████████████████████████████████████| 5822/5822 [00:00<00:00, 27503.88it/s]\n",
      "100%|██████████████████████████████████████| 5822/5822 [00:05<00:00, 977.61it/s]\n"
     ]
    },
    {
     "data": {
      "text/plain": [
       "CHEQUEID    0\n",
       "LAGERID     0\n",
       "KOLVO       0\n",
       "SECTION     0\n",
       "LEVEL       0\n",
       "dtype: int64"
      ]
     },
     "metadata": {},
     "output_type": "display_data"
    },
    {
     "name": "stderr",
     "output_type": "stream",
     "text": [
      "100%|████████████████████████████████████| 5822/5822 [00:00<00:00, 36536.88it/s]\n",
      "100%|██████████████████████████████████████| 5822/5822 [00:06<00:00, 947.35it/s]\n"
     ]
    },
    {
     "data": {
      "text/plain": [
       "CHEQUEID    0\n",
       "LAGERID     0\n",
       "KOLVO       0\n",
       "SECTION     0\n",
       "LEVEL       0\n",
       "dtype: int64"
      ]
     },
     "metadata": {},
     "output_type": "display_data"
    },
    {
     "name": "stderr",
     "output_type": "stream",
     "text": [
      "100%|████████████████████████████████████| 5822/5822 [00:00<00:00, 40174.25it/s]\n",
      "100%|█████████████████████████████████████| 5822/5822 [00:05<00:00, 1138.80it/s]\n"
     ]
    },
    {
     "data": {
      "text/plain": [
       "CHEQUEID    0\n",
       "LAGERID     0\n",
       "KOLVO       0\n",
       "SECTION     0\n",
       "LEVEL       0\n",
       "dtype: int64"
      ]
     },
     "metadata": {},
     "output_type": "display_data"
    },
    {
     "name": "stderr",
     "output_type": "stream",
     "text": [
      "100%|████████████████████████████████████| 5822/5822 [00:00<00:00, 41206.04it/s]\n",
      "100%|█████████████████████████████████████| 5822/5822 [00:05<00:00, 1148.61it/s]\n"
     ]
    },
    {
     "data": {
      "text/plain": [
       "CHEQUEID    0\n",
       "LAGERID     0\n",
       "KOLVO       0\n",
       "SECTION     0\n",
       "LEVEL       0\n",
       "dtype: int64"
      ]
     },
     "metadata": {},
     "output_type": "display_data"
    },
    {
     "name": "stderr",
     "output_type": "stream",
     "text": [
      "100%|████████████████████████████████████| 5822/5822 [00:00<00:00, 22460.19it/s]\n",
      "100%|█████████████████████████████████████| 5822/5822 [00:05<00:00, 1120.28it/s]\n"
     ]
    },
    {
     "data": {
      "text/plain": [
       "CHEQUEID    0\n",
       "LAGERID     0\n",
       "KOLVO       0\n",
       "SECTION     0\n",
       "LEVEL       0\n",
       "dtype: int64"
      ]
     },
     "metadata": {},
     "output_type": "display_data"
    },
    {
     "name": "stderr",
     "output_type": "stream",
     "text": [
      "100%|████████████████████████████████████| 5822/5822 [00:00<00:00, 37585.52it/s]\n",
      "100%|█████████████████████████████████████| 5822/5822 [00:05<00:00, 1074.54it/s]\n"
     ]
    },
    {
     "data": {
      "text/plain": [
       "CHEQUEID    0\n",
       "LAGERID     0\n",
       "KOLVO       0\n",
       "SECTION     0\n",
       "LEVEL       0\n",
       "dtype: int64"
      ]
     },
     "metadata": {},
     "output_type": "display_data"
    },
    {
     "name": "stderr",
     "output_type": "stream",
     "text": [
      "100%|████████████████████████████████████| 5822/5822 [00:00<00:00, 41110.31it/s]\n",
      "100%|█████████████████████████████████████| 5822/5822 [00:05<00:00, 1084.26it/s]\n"
     ]
    },
    {
     "data": {
      "text/plain": [
       "CHEQUEID    0\n",
       "LAGERID     0\n",
       "KOLVO       0\n",
       "SECTION     0\n",
       "LEVEL       0\n",
       "dtype: int64"
      ]
     },
     "metadata": {},
     "output_type": "display_data"
    },
    {
     "name": "stderr",
     "output_type": "stream",
     "text": [
      "100%|████████████████████████████████████| 5822/5822 [00:00<00:00, 22413.77it/s]\n",
      "100%|█████████████████████████████████████| 5822/5822 [00:05<00:00, 1027.61it/s]\n"
     ]
    },
    {
     "data": {
      "text/plain": [
       "CHEQUEID    0\n",
       "LAGERID     0\n",
       "KOLVO       0\n",
       "SECTION     0\n",
       "LEVEL       0\n",
       "dtype: int64"
      ]
     },
     "metadata": {},
     "output_type": "display_data"
    },
    {
     "name": "stderr",
     "output_type": "stream",
     "text": [
      "100%|████████████████████████████████████| 5822/5822 [00:00<00:00, 41973.39it/s]\n",
      "100%|█████████████████████████████████████| 5822/5822 [00:05<00:00, 1056.47it/s]\n"
     ]
    },
    {
     "data": {
      "text/plain": [
       "CHEQUEID    0\n",
       "LAGERID     0\n",
       "KOLVO       0\n",
       "SECTION     0\n",
       "LEVEL       0\n",
       "dtype: int64"
      ]
     },
     "metadata": {},
     "output_type": "display_data"
    },
    {
     "name": "stderr",
     "output_type": "stream",
     "text": [
      "100%|████████████████████████████████████| 5822/5822 [00:00<00:00, 33359.75it/s]\n",
      "100%|█████████████████████████████████████| 5822/5822 [00:05<00:00, 1043.92it/s]\n"
     ]
    },
    {
     "data": {
      "text/plain": [
       "CHEQUEID    0\n",
       "LAGERID     0\n",
       "KOLVO       0\n",
       "SECTION     0\n",
       "LEVEL       0\n",
       "dtype: int64"
      ]
     },
     "metadata": {},
     "output_type": "display_data"
    },
    {
     "name": "stderr",
     "output_type": "stream",
     "text": [
      "100%|████████████████████████████████████| 5822/5822 [00:00<00:00, 39199.61it/s]\n",
      "100%|█████████████████████████████████████| 5822/5822 [00:05<00:00, 1103.31it/s]\n"
     ]
    },
    {
     "data": {
      "text/plain": [
       "CHEQUEID    0\n",
       "LAGERID     0\n",
       "KOLVO       0\n",
       "SECTION     0\n",
       "LEVEL       0\n",
       "dtype: int64"
      ]
     },
     "metadata": {},
     "output_type": "display_data"
    },
    {
     "name": "stderr",
     "output_type": "stream",
     "text": [
      "100%|████████████████████████████████████| 5822/5822 [00:00<00:00, 38237.45it/s]\n",
      "100%|█████████████████████████████████████| 5822/5822 [00:05<00:00, 1117.04it/s]\n"
     ]
    },
    {
     "data": {
      "text/plain": [
       "CHEQUEID    0\n",
       "LAGERID     0\n",
       "KOLVO       0\n",
       "SECTION     0\n",
       "LEVEL       0\n",
       "dtype: int64"
      ]
     },
     "metadata": {},
     "output_type": "display_data"
    },
    {
     "name": "stderr",
     "output_type": "stream",
     "text": [
      "100%|████████████████████████████████████| 5822/5822 [00:00<00:00, 22547.90it/s]\n",
      "100%|█████████████████████████████████████| 5822/5822 [00:05<00:00, 1069.51it/s]\n"
     ]
    },
    {
     "data": {
      "text/plain": [
       "CHEQUEID    0\n",
       "LAGERID     0\n",
       "KOLVO       0\n",
       "SECTION     0\n",
       "LEVEL       0\n",
       "dtype: int64"
      ]
     },
     "metadata": {},
     "output_type": "display_data"
    },
    {
     "name": "stderr",
     "output_type": "stream",
     "text": [
      "100%|████████████████████████████████████| 5822/5822 [00:00<00:00, 40966.79it/s]\n",
      "100%|█████████████████████████████████████| 5822/5822 [00:05<00:00, 1115.98it/s]\n"
     ]
    },
    {
     "data": {
      "text/plain": [
       "CHEQUEID    0\n",
       "LAGERID     0\n",
       "KOLVO       0\n",
       "SECTION     0\n",
       "LEVEL       0\n",
       "dtype: int64"
      ]
     },
     "metadata": {},
     "output_type": "display_data"
    },
    {
     "name": "stderr",
     "output_type": "stream",
     "text": [
      "100%|████████████████████████████████████| 5822/5822 [00:00<00:00, 41515.48it/s]\n",
      "100%|█████████████████████████████████████| 5822/5822 [00:05<00:00, 1140.77it/s]\n"
     ]
    },
    {
     "data": {
      "text/plain": [
       "CHEQUEID    0\n",
       "LAGERID     0\n",
       "KOLVO       0\n",
       "SECTION     0\n",
       "LEVEL       0\n",
       "dtype: int64"
      ]
     },
     "metadata": {},
     "output_type": "display_data"
    },
    {
     "name": "stderr",
     "output_type": "stream",
     "text": [
      "100%|████████████████████████████████████| 5822/5822 [00:00<00:00, 22294.83it/s]\n",
      "100%|█████████████████████████████████████| 5822/5822 [00:05<00:00, 1137.81it/s]\n"
     ]
    },
    {
     "data": {
      "text/plain": [
       "CHEQUEID    0\n",
       "LAGERID     0\n",
       "KOLVO       0\n",
       "SECTION     0\n",
       "LEVEL       0\n",
       "dtype: int64"
      ]
     },
     "metadata": {},
     "output_type": "display_data"
    },
    {
     "name": "stderr",
     "output_type": "stream",
     "text": [
      "100%|████████████████████████████████████| 5822/5822 [00:00<00:00, 41164.37it/s]\n",
      "100%|█████████████████████████████████████| 5822/5822 [00:05<00:00, 1141.29it/s]\n"
     ]
    },
    {
     "data": {
      "text/plain": [
       "CHEQUEID    0\n",
       "LAGERID     0\n",
       "KOLVO       0\n",
       "SECTION     0\n",
       "LEVEL       0\n",
       "dtype: int64"
      ]
     },
     "metadata": {},
     "output_type": "display_data"
    },
    {
     "name": "stderr",
     "output_type": "stream",
     "text": [
      "100%|████████████████████████████████████| 5822/5822 [00:00<00:00, 38615.12it/s]\n",
      "100%|█████████████████████████████████████| 5822/5822 [00:05<00:00, 1098.79it/s]"
     ]
    },
    {
     "name": "stdout",
     "output_type": "stream",
     "text": [
      "Generation 12\n",
      "[[ 44  45  46 ... 130 131 132]\n",
      " [ 14  15  16 ... 130 131 132]\n",
      " [ 14  15  16 ...  59 131 132]\n",
      " ...\n",
      " [ 27  28  29 ... 130 131 132]\n",
      " [ 11  12  13 ... 130 131 132]\n",
      " [ 15  16  17 ... 130 131 132]]\n"
     ]
    },
    {
     "name": "stderr",
     "output_type": "stream",
     "text": [
      "\n"
     ]
    },
    {
     "data": {
      "text/plain": [
       "CHEQUEID    0\n",
       "LAGERID     0\n",
       "KOLVO       0\n",
       "SECTION     0\n",
       "LEVEL       0\n",
       "dtype: int64"
      ]
     },
     "metadata": {},
     "output_type": "display_data"
    },
    {
     "name": "stderr",
     "output_type": "stream",
     "text": [
      "100%|████████████████████████████████████| 5822/5822 [00:00<00:00, 21922.56it/s]\n",
      "100%|█████████████████████████████████████| 5822/5822 [00:05<00:00, 1143.34it/s]\n"
     ]
    },
    {
     "data": {
      "text/plain": [
       "CHEQUEID    0\n",
       "LAGERID     0\n",
       "KOLVO       0\n",
       "SECTION     0\n",
       "LEVEL       0\n",
       "dtype: int64"
      ]
     },
     "metadata": {},
     "output_type": "display_data"
    },
    {
     "name": "stderr",
     "output_type": "stream",
     "text": [
      "100%|████████████████████████████████████| 5822/5822 [00:00<00:00, 37646.07it/s]\n",
      "100%|█████████████████████████████████████| 5822/5822 [00:05<00:00, 1138.50it/s]\n"
     ]
    },
    {
     "data": {
      "text/plain": [
       "CHEQUEID    0\n",
       "LAGERID     0\n",
       "KOLVO       0\n",
       "SECTION     0\n",
       "LEVEL       0\n",
       "dtype: int64"
      ]
     },
     "metadata": {},
     "output_type": "display_data"
    },
    {
     "name": "stderr",
     "output_type": "stream",
     "text": [
      "100%|████████████████████████████████████| 5822/5822 [00:00<00:00, 42000.90it/s]\n",
      "100%|█████████████████████████████████████| 5822/5822 [00:05<00:00, 1121.63it/s]\n"
     ]
    },
    {
     "data": {
      "text/plain": [
       "CHEQUEID    0\n",
       "LAGERID     0\n",
       "KOLVO       0\n",
       "SECTION     0\n",
       "LEVEL       0\n",
       "dtype: int64"
      ]
     },
     "metadata": {},
     "output_type": "display_data"
    },
    {
     "name": "stderr",
     "output_type": "stream",
     "text": [
      "100%|████████████████████████████████████| 5822/5822 [00:00<00:00, 21608.89it/s]\n",
      "100%|█████████████████████████████████████| 5822/5822 [00:05<00:00, 1103.22it/s]\n"
     ]
    },
    {
     "data": {
      "text/plain": [
       "CHEQUEID    0\n",
       "LAGERID     0\n",
       "KOLVO       0\n",
       "SECTION     0\n",
       "LEVEL       0\n",
       "dtype: int64"
      ]
     },
     "metadata": {},
     "output_type": "display_data"
    },
    {
     "name": "stderr",
     "output_type": "stream",
     "text": [
      "100%|████████████████████████████████████| 5822/5822 [00:00<00:00, 40822.90it/s]\n",
      "100%|█████████████████████████████████████| 5822/5822 [00:05<00:00, 1104.06it/s]\n"
     ]
    },
    {
     "data": {
      "text/plain": [
       "CHEQUEID    0\n",
       "LAGERID     0\n",
       "KOLVO       0\n",
       "SECTION     0\n",
       "LEVEL       0\n",
       "dtype: int64"
      ]
     },
     "metadata": {},
     "output_type": "display_data"
    },
    {
     "name": "stderr",
     "output_type": "stream",
     "text": [
      "100%|████████████████████████████████████| 5822/5822 [00:00<00:00, 39142.62it/s]\n",
      "100%|█████████████████████████████████████| 5822/5822 [00:05<00:00, 1141.67it/s]\n"
     ]
    },
    {
     "data": {
      "text/plain": [
       "CHEQUEID    0\n",
       "LAGERID     0\n",
       "KOLVO       0\n",
       "SECTION     0\n",
       "LEVEL       0\n",
       "dtype: int64"
      ]
     },
     "metadata": {},
     "output_type": "display_data"
    },
    {
     "name": "stderr",
     "output_type": "stream",
     "text": [
      "100%|████████████████████████████████████| 5822/5822 [00:00<00:00, 39967.33it/s]\n",
      "100%|█████████████████████████████████████| 5822/5822 [00:05<00:00, 1122.64it/s]\n"
     ]
    },
    {
     "data": {
      "text/plain": [
       "CHEQUEID    0\n",
       "LAGERID     0\n",
       "KOLVO       0\n",
       "SECTION     0\n",
       "LEVEL       0\n",
       "dtype: int64"
      ]
     },
     "metadata": {},
     "output_type": "display_data"
    },
    {
     "name": "stderr",
     "output_type": "stream",
     "text": [
      "100%|████████████████████████████████████| 5822/5822 [00:00<00:00, 39003.45it/s]\n",
      "100%|█████████████████████████████████████| 5822/5822 [00:05<00:00, 1135.14it/s]\n"
     ]
    },
    {
     "data": {
      "text/plain": [
       "CHEQUEID    0\n",
       "LAGERID     0\n",
       "KOLVO       0\n",
       "SECTION     0\n",
       "LEVEL       0\n",
       "dtype: int64"
      ]
     },
     "metadata": {},
     "output_type": "display_data"
    },
    {
     "name": "stderr",
     "output_type": "stream",
     "text": [
      "100%|████████████████████████████████████| 5822/5822 [00:00<00:00, 22046.03it/s]\n",
      "100%|█████████████████████████████████████| 5822/5822 [00:05<00:00, 1114.47it/s]\n"
     ]
    },
    {
     "data": {
      "text/plain": [
       "CHEQUEID    0\n",
       "LAGERID     0\n",
       "KOLVO       0\n",
       "SECTION     0\n",
       "LEVEL       0\n",
       "dtype: int64"
      ]
     },
     "metadata": {},
     "output_type": "display_data"
    },
    {
     "name": "stderr",
     "output_type": "stream",
     "text": [
      "100%|████████████████████████████████████| 5822/5822 [00:00<00:00, 41031.22it/s]\n",
      "100%|█████████████████████████████████████| 5822/5822 [00:05<00:00, 1146.83it/s]\n"
     ]
    },
    {
     "data": {
      "text/plain": [
       "CHEQUEID    0\n",
       "LAGERID     0\n",
       "KOLVO       0\n",
       "SECTION     0\n",
       "LEVEL       0\n",
       "dtype: int64"
      ]
     },
     "metadata": {},
     "output_type": "display_data"
    },
    {
     "name": "stderr",
     "output_type": "stream",
     "text": [
      "100%|████████████████████████████████████| 5822/5822 [00:00<00:00, 40071.02it/s]\n",
      "100%|█████████████████████████████████████| 5822/5822 [00:05<00:00, 1157.60it/s]\n"
     ]
    },
    {
     "data": {
      "text/plain": [
       "CHEQUEID    0\n",
       "LAGERID     0\n",
       "KOLVO       0\n",
       "SECTION     0\n",
       "LEVEL       0\n",
       "dtype: int64"
      ]
     },
     "metadata": {},
     "output_type": "display_data"
    },
    {
     "name": "stderr",
     "output_type": "stream",
     "text": [
      "100%|████████████████████████████████████| 5822/5822 [00:00<00:00, 22239.12it/s]\n",
      "100%|█████████████████████████████████████| 5822/5822 [00:05<00:00, 1131.38it/s]\n"
     ]
    },
    {
     "data": {
      "text/plain": [
       "CHEQUEID    0\n",
       "LAGERID     0\n",
       "KOLVO       0\n",
       "SECTION     0\n",
       "LEVEL       0\n",
       "dtype: int64"
      ]
     },
     "metadata": {},
     "output_type": "display_data"
    },
    {
     "name": "stderr",
     "output_type": "stream",
     "text": [
      "100%|████████████████████████████████████| 5822/5822 [00:00<00:00, 40876.00it/s]\n",
      "100%|█████████████████████████████████████| 5822/5822 [00:05<00:00, 1117.34it/s]\n"
     ]
    },
    {
     "data": {
      "text/plain": [
       "CHEQUEID    0\n",
       "LAGERID     0\n",
       "KOLVO       0\n",
       "SECTION     0\n",
       "LEVEL       0\n",
       "dtype: int64"
      ]
     },
     "metadata": {},
     "output_type": "display_data"
    },
    {
     "name": "stderr",
     "output_type": "stream",
     "text": [
      "100%|████████████████████████████████████| 5822/5822 [00:00<00:00, 32976.87it/s]\n",
      "100%|██████████████████████████████████████| 5822/5822 [00:05<00:00, 998.11it/s]\n"
     ]
    },
    {
     "data": {
      "text/plain": [
       "CHEQUEID    0\n",
       "LAGERID     0\n",
       "KOLVO       0\n",
       "SECTION     0\n",
       "LEVEL       0\n",
       "dtype: int64"
      ]
     },
     "metadata": {},
     "output_type": "display_data"
    },
    {
     "name": "stderr",
     "output_type": "stream",
     "text": [
      "100%|████████████████████████████████████| 5822/5822 [00:00<00:00, 27270.11it/s]\n",
      "100%|██████████████████████████████████████| 5822/5822 [00:06<00:00, 962.23it/s]\n"
     ]
    },
    {
     "data": {
      "text/plain": [
       "CHEQUEID    0\n",
       "LAGERID     0\n",
       "KOLVO       0\n",
       "SECTION     0\n",
       "LEVEL       0\n",
       "dtype: int64"
      ]
     },
     "metadata": {},
     "output_type": "display_data"
    },
    {
     "name": "stderr",
     "output_type": "stream",
     "text": [
      "100%|████████████████████████████████████| 5822/5822 [00:00<00:00, 40638.86it/s]\n",
      "100%|█████████████████████████████████████| 5822/5822 [00:05<00:00, 1076.78it/s]\n"
     ]
    },
    {
     "data": {
      "text/plain": [
       "CHEQUEID    0\n",
       "LAGERID     0\n",
       "KOLVO       0\n",
       "SECTION     0\n",
       "LEVEL       0\n",
       "dtype: int64"
      ]
     },
     "metadata": {},
     "output_type": "display_data"
    },
    {
     "name": "stderr",
     "output_type": "stream",
     "text": [
      "100%|████████████████████████████████████| 5822/5822 [00:00<00:00, 21964.59it/s]\n",
      "100%|█████████████████████████████████████| 5822/5822 [00:05<00:00, 1127.16it/s]\n"
     ]
    },
    {
     "data": {
      "text/plain": [
       "CHEQUEID    0\n",
       "LAGERID     0\n",
       "KOLVO       0\n",
       "SECTION     0\n",
       "LEVEL       0\n",
       "dtype: int64"
      ]
     },
     "metadata": {},
     "output_type": "display_data"
    },
    {
     "name": "stderr",
     "output_type": "stream",
     "text": [
      "100%|████████████████████████████████████| 5822/5822 [00:00<00:00, 41687.84it/s]\n",
      "100%|██████████████████████████████████████| 5822/5822 [00:06<00:00, 937.50it/s]\n"
     ]
    },
    {
     "data": {
      "text/plain": [
       "CHEQUEID    0\n",
       "LAGERID     0\n",
       "KOLVO       0\n",
       "SECTION     0\n",
       "LEVEL       0\n",
       "dtype: int64"
      ]
     },
     "metadata": {},
     "output_type": "display_data"
    },
    {
     "name": "stderr",
     "output_type": "stream",
     "text": [
      "100%|████████████████████████████████████| 5822/5822 [00:00<00:00, 32638.05it/s]\n",
      "100%|██████████████████████████████████████| 5822/5822 [00:06<00:00, 965.29it/s]\n"
     ]
    },
    {
     "data": {
      "text/plain": [
       "CHEQUEID    0\n",
       "LAGERID     0\n",
       "KOLVO       0\n",
       "SECTION     0\n",
       "LEVEL       0\n",
       "dtype: int64"
      ]
     },
     "metadata": {},
     "output_type": "display_data"
    },
    {
     "name": "stderr",
     "output_type": "stream",
     "text": [
      "100%|████████████████████████████████████| 5822/5822 [00:00<00:00, 21906.60it/s]\n",
      "100%|█████████████████████████████████████| 5822/5822 [00:05<00:00, 1106.43it/s]\n"
     ]
    },
    {
     "data": {
      "text/plain": [
       "CHEQUEID    0\n",
       "LAGERID     0\n",
       "KOLVO       0\n",
       "SECTION     0\n",
       "LEVEL       0\n",
       "dtype: int64"
      ]
     },
     "metadata": {},
     "output_type": "display_data"
    },
    {
     "name": "stderr",
     "output_type": "stream",
     "text": [
      "100%|████████████████████████████████████| 5822/5822 [00:00<00:00, 42200.21it/s]\n",
      "100%|█████████████████████████████████████| 5822/5822 [00:05<00:00, 1143.10it/s]"
     ]
    },
    {
     "name": "stdout",
     "output_type": "stream",
     "text": [
      "Generation 13\n",
      "[[ 44  45  46 ... 130 131 132]\n",
      " [ 14  15  16 ... 130 131 132]\n",
      " [ 14  15  16 ...  59 131 132]\n",
      " ...\n",
      " [ 62  63  64 ... 130 131 132]\n",
      " [ 83  84  86 ... 130 131 132]\n",
      " [  5   6   7 ... 130 131 132]]\n"
     ]
    },
    {
     "name": "stderr",
     "output_type": "stream",
     "text": [
      "\n"
     ]
    },
    {
     "data": {
      "text/plain": [
       "CHEQUEID    0\n",
       "LAGERID     0\n",
       "KOLVO       0\n",
       "SECTION     0\n",
       "LEVEL       0\n",
       "dtype: int64"
      ]
     },
     "metadata": {},
     "output_type": "display_data"
    },
    {
     "name": "stderr",
     "output_type": "stream",
     "text": [
      "100%|████████████████████████████████████| 5822/5822 [00:00<00:00, 41579.81it/s]\n",
      "100%|█████████████████████████████████████| 5822/5822 [00:05<00:00, 1154.91it/s]\n"
     ]
    },
    {
     "data": {
      "text/plain": [
       "CHEQUEID    0\n",
       "LAGERID     0\n",
       "KOLVO       0\n",
       "SECTION     0\n",
       "LEVEL       0\n",
       "dtype: int64"
      ]
     },
     "metadata": {},
     "output_type": "display_data"
    },
    {
     "name": "stderr",
     "output_type": "stream",
     "text": [
      "100%|████████████████████████████████████| 5822/5822 [00:00<00:00, 22135.54it/s]\n",
      "100%|█████████████████████████████████████| 5822/5822 [00:05<00:00, 1106.27it/s]\n"
     ]
    },
    {
     "data": {
      "text/plain": [
       "CHEQUEID    0\n",
       "LAGERID     0\n",
       "KOLVO       0\n",
       "SECTION     0\n",
       "LEVEL       0\n",
       "dtype: int64"
      ]
     },
     "metadata": {},
     "output_type": "display_data"
    },
    {
     "name": "stderr",
     "output_type": "stream",
     "text": [
      "100%|████████████████████████████████████| 5822/5822 [00:00<00:00, 28017.21it/s]\n",
      "100%|█████████████████████████████████████| 5822/5822 [00:05<00:00, 1073.20it/s]\n"
     ]
    },
    {
     "data": {
      "text/plain": [
       "CHEQUEID    0\n",
       "LAGERID     0\n",
       "KOLVO       0\n",
       "SECTION     0\n",
       "LEVEL       0\n",
       "dtype: int64"
      ]
     },
     "metadata": {},
     "output_type": "display_data"
    },
    {
     "name": "stderr",
     "output_type": "stream",
     "text": [
      "100%|████████████████████████████████████| 5822/5822 [00:00<00:00, 39694.27it/s]\n",
      "100%|█████████████████████████████████████| 5822/5822 [00:05<00:00, 1109.89it/s]\n"
     ]
    },
    {
     "data": {
      "text/plain": [
       "CHEQUEID    0\n",
       "LAGERID     0\n",
       "KOLVO       0\n",
       "SECTION     0\n",
       "LEVEL       0\n",
       "dtype: int64"
      ]
     },
     "metadata": {},
     "output_type": "display_data"
    },
    {
     "name": "stderr",
     "output_type": "stream",
     "text": [
      "100%|████████████████████████████████████| 5822/5822 [00:00<00:00, 41622.54it/s]\n",
      "100%|█████████████████████████████████████| 5822/5822 [00:05<00:00, 1101.99it/s]\n"
     ]
    },
    {
     "data": {
      "text/plain": [
       "CHEQUEID    0\n",
       "LAGERID     0\n",
       "KOLVO       0\n",
       "SECTION     0\n",
       "LEVEL       0\n",
       "dtype: int64"
      ]
     },
     "metadata": {},
     "output_type": "display_data"
    },
    {
     "name": "stderr",
     "output_type": "stream",
     "text": [
      "100%|████████████████████████████████████| 5822/5822 [00:00<00:00, 39197.47it/s]\n",
      "100%|█████████████████████████████████████| 5822/5822 [00:05<00:00, 1146.27it/s]\n"
     ]
    },
    {
     "data": {
      "text/plain": [
       "CHEQUEID    0\n",
       "LAGERID     0\n",
       "KOLVO       0\n",
       "SECTION     0\n",
       "LEVEL       0\n",
       "dtype: int64"
      ]
     },
     "metadata": {},
     "output_type": "display_data"
    },
    {
     "name": "stderr",
     "output_type": "stream",
     "text": [
      "100%|████████████████████████████████████| 5822/5822 [00:00<00:00, 21354.39it/s]\n",
      "100%|█████████████████████████████████████| 5822/5822 [00:05<00:00, 1075.03it/s]\n"
     ]
    },
    {
     "data": {
      "text/plain": [
       "CHEQUEID    0\n",
       "LAGERID     0\n",
       "KOLVO       0\n",
       "SECTION     0\n",
       "LEVEL       0\n",
       "dtype: int64"
      ]
     },
     "metadata": {},
     "output_type": "display_data"
    },
    {
     "name": "stderr",
     "output_type": "stream",
     "text": [
      "100%|████████████████████████████████████| 5822/5822 [00:00<00:00, 32703.97it/s]\n",
      "100%|██████████████████████████████████████| 5822/5822 [00:06<00:00, 929.56it/s]\n"
     ]
    },
    {
     "data": {
      "text/plain": [
       "CHEQUEID    0\n",
       "LAGERID     0\n",
       "KOLVO       0\n",
       "SECTION     0\n",
       "LEVEL       0\n",
       "dtype: int64"
      ]
     },
     "metadata": {},
     "output_type": "display_data"
    },
    {
     "name": "stderr",
     "output_type": "stream",
     "text": [
      "100%|████████████████████████████████████| 5822/5822 [00:00<00:00, 36320.32it/s]\n",
      "100%|██████████████████████████████████████| 5822/5822 [00:06<00:00, 952.88it/s]\n"
     ]
    },
    {
     "data": {
      "text/plain": [
       "CHEQUEID    0\n",
       "LAGERID     0\n",
       "KOLVO       0\n",
       "SECTION     0\n",
       "LEVEL       0\n",
       "dtype: int64"
      ]
     },
     "metadata": {},
     "output_type": "display_data"
    },
    {
     "name": "stderr",
     "output_type": "stream",
     "text": [
      "100%|████████████████████████████████████| 5822/5822 [00:00<00:00, 18320.34it/s]\n",
      "100%|██████████████████████████████████████| 5822/5822 [00:07<00:00, 827.10it/s]\n"
     ]
    },
    {
     "data": {
      "text/plain": [
       "CHEQUEID    0\n",
       "LAGERID     0\n",
       "KOLVO       0\n",
       "SECTION     0\n",
       "LEVEL       0\n",
       "dtype: int64"
      ]
     },
     "metadata": {},
     "output_type": "display_data"
    },
    {
     "name": "stderr",
     "output_type": "stream",
     "text": [
      "100%|████████████████████████████████████| 5822/5822 [00:00<00:00, 40597.10it/s]\n",
      "100%|██████████████████████████████████████| 5822/5822 [00:07<00:00, 777.89it/s]\n"
     ]
    },
    {
     "data": {
      "text/plain": [
       "CHEQUEID    0\n",
       "LAGERID     0\n",
       "KOLVO       0\n",
       "SECTION     0\n",
       "LEVEL       0\n",
       "dtype: int64"
      ]
     },
     "metadata": {},
     "output_type": "display_data"
    },
    {
     "name": "stderr",
     "output_type": "stream",
     "text": [
      "100%|████████████████████████████████████| 5822/5822 [00:00<00:00, 40934.79it/s]\n",
      "100%|█████████████████████████████████████| 5822/5822 [00:05<00:00, 1016.54it/s]\n"
     ]
    },
    {
     "data": {
      "text/plain": [
       "CHEQUEID    0\n",
       "LAGERID     0\n",
       "KOLVO       0\n",
       "SECTION     0\n",
       "LEVEL       0\n",
       "dtype: int64"
      ]
     },
     "metadata": {},
     "output_type": "display_data"
    },
    {
     "name": "stderr",
     "output_type": "stream",
     "text": [
      "100%|████████████████████████████████████| 5822/5822 [00:00<00:00, 18406.46it/s]\n",
      "100%|██████████████████████████████████████| 5822/5822 [00:06<00:00, 915.22it/s]\n"
     ]
    },
    {
     "data": {
      "text/plain": [
       "CHEQUEID    0\n",
       "LAGERID     0\n",
       "KOLVO       0\n",
       "SECTION     0\n",
       "LEVEL       0\n",
       "dtype: int64"
      ]
     },
     "metadata": {},
     "output_type": "display_data"
    },
    {
     "name": "stderr",
     "output_type": "stream",
     "text": [
      "100%|████████████████████████████████████| 5822/5822 [00:00<00:00, 40300.96it/s]\n",
      "100%|██████████████████████████████████████| 5822/5822 [00:06<00:00, 966.14it/s]\n"
     ]
    },
    {
     "data": {
      "text/plain": [
       "CHEQUEID    0\n",
       "LAGERID     0\n",
       "KOLVO       0\n",
       "SECTION     0\n",
       "LEVEL       0\n",
       "dtype: int64"
      ]
     },
     "metadata": {},
     "output_type": "display_data"
    },
    {
     "name": "stderr",
     "output_type": "stream",
     "text": [
      "100%|████████████████████████████████████| 5822/5822 [00:00<00:00, 37268.88it/s]\n",
      "100%|█████████████████████████████████████| 5822/5822 [00:05<00:00, 1044.06it/s]\n"
     ]
    },
    {
     "data": {
      "text/plain": [
       "CHEQUEID    0\n",
       "LAGERID     0\n",
       "KOLVO       0\n",
       "SECTION     0\n",
       "LEVEL       0\n",
       "dtype: int64"
      ]
     },
     "metadata": {},
     "output_type": "display_data"
    },
    {
     "name": "stderr",
     "output_type": "stream",
     "text": [
      "100%|████████████████████████████████████| 5822/5822 [00:00<00:00, 37307.08it/s]\n",
      "100%|██████████████████████████████████████| 5822/5822 [00:05<00:00, 972.83it/s]\n"
     ]
    },
    {
     "data": {
      "text/plain": [
       "CHEQUEID    0\n",
       "LAGERID     0\n",
       "KOLVO       0\n",
       "SECTION     0\n",
       "LEVEL       0\n",
       "dtype: int64"
      ]
     },
     "metadata": {},
     "output_type": "display_data"
    },
    {
     "name": "stderr",
     "output_type": "stream",
     "text": [
      "100%|████████████████████████████████████| 5822/5822 [00:00<00:00, 39802.32it/s]\n",
      "100%|█████████████████████████████████████| 5822/5822 [00:05<00:00, 1011.12it/s]\n"
     ]
    },
    {
     "data": {
      "text/plain": [
       "CHEQUEID    0\n",
       "LAGERID     0\n",
       "KOLVO       0\n",
       "SECTION     0\n",
       "LEVEL       0\n",
       "dtype: int64"
      ]
     },
     "metadata": {},
     "output_type": "display_data"
    },
    {
     "name": "stderr",
     "output_type": "stream",
     "text": [
      "100%|████████████████████████████████████| 5822/5822 [00:00<00:00, 21091.76it/s]\n",
      "100%|█████████████████████████████████████| 5822/5822 [00:05<00:00, 1037.85it/s]\n"
     ]
    },
    {
     "data": {
      "text/plain": [
       "CHEQUEID    0\n",
       "LAGERID     0\n",
       "KOLVO       0\n",
       "SECTION     0\n",
       "LEVEL       0\n",
       "dtype: int64"
      ]
     },
     "metadata": {},
     "output_type": "display_data"
    },
    {
     "name": "stderr",
     "output_type": "stream",
     "text": [
      "100%|████████████████████████████████████| 5822/5822 [00:00<00:00, 42461.37it/s]\n",
      "100%|██████████████████████████████████████| 5822/5822 [00:08<00:00, 692.47it/s]\n"
     ]
    },
    {
     "data": {
      "text/plain": [
       "CHEQUEID    0\n",
       "LAGERID     0\n",
       "KOLVO       0\n",
       "SECTION     0\n",
       "LEVEL       0\n",
       "dtype: int64"
      ]
     },
     "metadata": {},
     "output_type": "display_data"
    },
    {
     "name": "stderr",
     "output_type": "stream",
     "text": [
      "100%|████████████████████████████████████| 5822/5822 [00:00<00:00, 35658.05it/s]\n",
      "100%|██████████████████████████████████████| 5822/5822 [00:08<00:00, 703.49it/s]\n"
     ]
    },
    {
     "data": {
      "text/plain": [
       "CHEQUEID    0\n",
       "LAGERID     0\n",
       "KOLVO       0\n",
       "SECTION     0\n",
       "LEVEL       0\n",
       "dtype: int64"
      ]
     },
     "metadata": {},
     "output_type": "display_data"
    },
    {
     "name": "stderr",
     "output_type": "stream",
     "text": [
      "100%|████████████████████████████████████| 5822/5822 [00:00<00:00, 18876.73it/s]\n",
      "100%|██████████████████████████████████████| 5822/5822 [00:06<00:00, 852.11it/s]"
     ]
    },
    {
     "name": "stdout",
     "output_type": "stream",
     "text": [
      "Generation 14\n",
      "[[  5   6   7 ... 130 131 132]\n",
      " [ 44  45  46 ... 130 131 132]\n",
      " [ 19  20  21 ... 130 131 132]\n",
      " ...\n",
      " [ 13  14  15 ... 129 130 131]\n",
      " [ 54  55  56 ... 130 131 132]\n",
      " [ 69   7   8 ... 130 131 132]]\n"
     ]
    },
    {
     "name": "stderr",
     "output_type": "stream",
     "text": [
      "\n"
     ]
    },
    {
     "data": {
      "text/plain": [
       "CHEQUEID    0\n",
       "LAGERID     0\n",
       "KOLVO       0\n",
       "SECTION     0\n",
       "LEVEL       0\n",
       "dtype: int64"
      ]
     },
     "metadata": {},
     "output_type": "display_data"
    },
    {
     "name": "stderr",
     "output_type": "stream",
     "text": [
      "100%|████████████████████████████████████| 5822/5822 [00:00<00:00, 34834.27it/s]\n",
      "100%|██████████████████████████████████████| 5822/5822 [00:06<00:00, 908.26it/s]\n"
     ]
    },
    {
     "data": {
      "text/plain": [
       "CHEQUEID    0\n",
       "LAGERID     0\n",
       "KOLVO       0\n",
       "SECTION     0\n",
       "LEVEL       0\n",
       "dtype: int64"
      ]
     },
     "metadata": {},
     "output_type": "display_data"
    },
    {
     "name": "stderr",
     "output_type": "stream",
     "text": [
      "100%|████████████████████████████████████| 5822/5822 [00:00<00:00, 35464.32it/s]\n",
      "100%|█████████████████████████████████████| 5822/5822 [00:05<00:00, 1063.05it/s]\n"
     ]
    },
    {
     "data": {
      "text/plain": [
       "CHEQUEID    0\n",
       "LAGERID     0\n",
       "KOLVO       0\n",
       "SECTION     0\n",
       "LEVEL       0\n",
       "dtype: int64"
      ]
     },
     "metadata": {},
     "output_type": "display_data"
    },
    {
     "name": "stderr",
     "output_type": "stream",
     "text": [
      "100%|████████████████████████████████████| 5822/5822 [00:00<00:00, 21406.94it/s]\n",
      "100%|█████████████████████████████████████| 5822/5822 [00:05<00:00, 1000.38it/s]\n"
     ]
    },
    {
     "data": {
      "text/plain": [
       "CHEQUEID    0\n",
       "LAGERID     0\n",
       "KOLVO       0\n",
       "SECTION     0\n",
       "LEVEL       0\n",
       "dtype: int64"
      ]
     },
     "metadata": {},
     "output_type": "display_data"
    },
    {
     "name": "stderr",
     "output_type": "stream",
     "text": [
      "100%|████████████████████████████████████| 5822/5822 [00:00<00:00, 30245.71it/s]\n",
      "100%|█████████████████████████████████████| 5822/5822 [00:05<00:00, 1011.95it/s]\n"
     ]
    },
    {
     "data": {
      "text/plain": [
       "CHEQUEID    0\n",
       "LAGERID     0\n",
       "KOLVO       0\n",
       "SECTION     0\n",
       "LEVEL       0\n",
       "dtype: int64"
      ]
     },
     "metadata": {},
     "output_type": "display_data"
    },
    {
     "name": "stderr",
     "output_type": "stream",
     "text": [
      "100%|████████████████████████████████████| 5822/5822 [00:00<00:00, 33710.44it/s]\n",
      "100%|█████████████████████████████████████| 5822/5822 [00:05<00:00, 1033.16it/s]\n"
     ]
    },
    {
     "data": {
      "text/plain": [
       "CHEQUEID    0\n",
       "LAGERID     0\n",
       "KOLVO       0\n",
       "SECTION     0\n",
       "LEVEL       0\n",
       "dtype: int64"
      ]
     },
     "metadata": {},
     "output_type": "display_data"
    },
    {
     "name": "stderr",
     "output_type": "stream",
     "text": [
      "100%|████████████████████████████████████| 5822/5822 [00:00<00:00, 20748.32it/s]\n",
      "100%|█████████████████████████████████████| 5822/5822 [00:05<00:00, 1044.73it/s]\n"
     ]
    },
    {
     "data": {
      "text/plain": [
       "CHEQUEID    0\n",
       "LAGERID     0\n",
       "KOLVO       0\n",
       "SECTION     0\n",
       "LEVEL       0\n",
       "dtype: int64"
      ]
     },
     "metadata": {},
     "output_type": "display_data"
    },
    {
     "name": "stderr",
     "output_type": "stream",
     "text": [
      "100%|████████████████████████████████████| 5822/5822 [00:00<00:00, 42001.84it/s]\n",
      "100%|██████████████████████████████████████| 5822/5822 [00:05<00:00, 995.29it/s]\n"
     ]
    },
    {
     "data": {
      "text/plain": [
       "CHEQUEID    0\n",
       "LAGERID     0\n",
       "KOLVO       0\n",
       "SECTION     0\n",
       "LEVEL       0\n",
       "dtype: int64"
      ]
     },
     "metadata": {},
     "output_type": "display_data"
    },
    {
     "name": "stderr",
     "output_type": "stream",
     "text": [
      "100%|████████████████████████████████████| 5822/5822 [00:00<00:00, 32518.44it/s]\n",
      "100%|██████████████████████████████████████| 5822/5822 [00:07<00:00, 729.36it/s]\n"
     ]
    },
    {
     "data": {
      "text/plain": [
       "CHEQUEID    0\n",
       "LAGERID     0\n",
       "KOLVO       0\n",
       "SECTION     0\n",
       "LEVEL       0\n",
       "dtype: int64"
      ]
     },
     "metadata": {},
     "output_type": "display_data"
    },
    {
     "name": "stderr",
     "output_type": "stream",
     "text": [
      "100%|████████████████████████████████████| 5822/5822 [00:00<00:00, 16323.16it/s]\n",
      "100%|██████████████████████████████████████| 5822/5822 [00:06<00:00, 935.03it/s]\n"
     ]
    },
    {
     "data": {
      "text/plain": [
       "CHEQUEID    0\n",
       "LAGERID     0\n",
       "KOLVO       0\n",
       "SECTION     0\n",
       "LEVEL       0\n",
       "dtype: int64"
      ]
     },
     "metadata": {},
     "output_type": "display_data"
    },
    {
     "name": "stderr",
     "output_type": "stream",
     "text": [
      "100%|████████████████████████████████████| 5822/5822 [00:00<00:00, 22193.36it/s]\n",
      "100%|██████████████████████████████████████| 5822/5822 [00:06<00:00, 962.99it/s]\n"
     ]
    },
    {
     "data": {
      "text/plain": [
       "CHEQUEID    0\n",
       "LAGERID     0\n",
       "KOLVO       0\n",
       "SECTION     0\n",
       "LEVEL       0\n",
       "dtype: int64"
      ]
     },
     "metadata": {},
     "output_type": "display_data"
    },
    {
     "name": "stderr",
     "output_type": "stream",
     "text": [
      "100%|████████████████████████████████████| 5822/5822 [00:00<00:00, 41321.86it/s]\n",
      "100%|██████████████████████████████████████| 5822/5822 [00:05<00:00, 991.28it/s]\n"
     ]
    },
    {
     "data": {
      "text/plain": [
       "CHEQUEID    0\n",
       "LAGERID     0\n",
       "KOLVO       0\n",
       "SECTION     0\n",
       "LEVEL       0\n",
       "dtype: int64"
      ]
     },
     "metadata": {},
     "output_type": "display_data"
    },
    {
     "name": "stderr",
     "output_type": "stream",
     "text": [
      "100%|████████████████████████████████████| 5822/5822 [00:00<00:00, 18489.11it/s]\n",
      "100%|█████████████████████████████████████| 5822/5822 [00:05<00:00, 1054.56it/s]\n"
     ]
    },
    {
     "data": {
      "text/plain": [
       "CHEQUEID    0\n",
       "LAGERID     0\n",
       "KOLVO       0\n",
       "SECTION     0\n",
       "LEVEL       0\n",
       "dtype: int64"
      ]
     },
     "metadata": {},
     "output_type": "display_data"
    },
    {
     "name": "stderr",
     "output_type": "stream",
     "text": [
      "100%|████████████████████████████████████| 5822/5822 [00:00<00:00, 38125.51it/s]\n",
      "100%|█████████████████████████████████████| 5822/5822 [00:05<00:00, 1125.69it/s]\n"
     ]
    },
    {
     "data": {
      "text/plain": [
       "CHEQUEID    0\n",
       "LAGERID     0\n",
       "KOLVO       0\n",
       "SECTION     0\n",
       "LEVEL       0\n",
       "dtype: int64"
      ]
     },
     "metadata": {},
     "output_type": "display_data"
    },
    {
     "name": "stderr",
     "output_type": "stream",
     "text": [
      "100%|████████████████████████████████████| 5822/5822 [00:00<00:00, 40134.57it/s]\n",
      "100%|█████████████████████████████████████| 5822/5822 [00:05<00:00, 1073.30it/s]\n"
     ]
    },
    {
     "data": {
      "text/plain": [
       "CHEQUEID    0\n",
       "LAGERID     0\n",
       "KOLVO       0\n",
       "SECTION     0\n",
       "LEVEL       0\n",
       "dtype: int64"
      ]
     },
     "metadata": {},
     "output_type": "display_data"
    },
    {
     "name": "stderr",
     "output_type": "stream",
     "text": [
      "100%|████████████████████████████████████| 5822/5822 [00:00<00:00, 21798.06it/s]\n",
      "100%|█████████████████████████████████████| 5822/5822 [00:05<00:00, 1061.05it/s]\n"
     ]
    },
    {
     "data": {
      "text/plain": [
       "CHEQUEID    0\n",
       "LAGERID     0\n",
       "KOLVO       0\n",
       "SECTION     0\n",
       "LEVEL       0\n",
       "dtype: int64"
      ]
     },
     "metadata": {},
     "output_type": "display_data"
    },
    {
     "name": "stderr",
     "output_type": "stream",
     "text": [
      "100%|████████████████████████████████████| 5822/5822 [00:00<00:00, 39691.62it/s]\n",
      "100%|█████████████████████████████████████| 5822/5822 [00:05<00:00, 1128.23it/s]\n"
     ]
    },
    {
     "data": {
      "text/plain": [
       "CHEQUEID    0\n",
       "LAGERID     0\n",
       "KOLVO       0\n",
       "SECTION     0\n",
       "LEVEL       0\n",
       "dtype: int64"
      ]
     },
     "metadata": {},
     "output_type": "display_data"
    },
    {
     "name": "stderr",
     "output_type": "stream",
     "text": [
      "100%|████████████████████████████████████| 5822/5822 [00:00<00:00, 41429.76it/s]\n",
      "100%|█████████████████████████████████████| 5822/5822 [00:05<00:00, 1067.45it/s]\n"
     ]
    },
    {
     "data": {
      "text/plain": [
       "CHEQUEID    0\n",
       "LAGERID     0\n",
       "KOLVO       0\n",
       "SECTION     0\n",
       "LEVEL       0\n",
       "dtype: int64"
      ]
     },
     "metadata": {},
     "output_type": "display_data"
    },
    {
     "name": "stderr",
     "output_type": "stream",
     "text": [
      "100%|████████████████████████████████████| 5822/5822 [00:00<00:00, 38962.74it/s]\n",
      "100%|██████████████████████████████████████| 5822/5822 [00:06<00:00, 969.68it/s]\n"
     ]
    },
    {
     "data": {
      "text/plain": [
       "CHEQUEID    0\n",
       "LAGERID     0\n",
       "KOLVO       0\n",
       "SECTION     0\n",
       "LEVEL       0\n",
       "dtype: int64"
      ]
     },
     "metadata": {},
     "output_type": "display_data"
    },
    {
     "name": "stderr",
     "output_type": "stream",
     "text": [
      "100%|████████████████████████████████████| 5822/5822 [00:00<00:00, 36980.13it/s]\n",
      "100%|█████████████████████████████████████| 5822/5822 [00:05<00:00, 1052.54it/s]\n"
     ]
    },
    {
     "data": {
      "text/plain": [
       "CHEQUEID    0\n",
       "LAGERID     0\n",
       "KOLVO       0\n",
       "SECTION     0\n",
       "LEVEL       0\n",
       "dtype: int64"
      ]
     },
     "metadata": {},
     "output_type": "display_data"
    },
    {
     "name": "stderr",
     "output_type": "stream",
     "text": [
      "100%|████████████████████████████████████| 5822/5822 [00:00<00:00, 21854.99it/s]\n",
      "100%|█████████████████████████████████████| 5822/5822 [00:05<00:00, 1088.76it/s]\n"
     ]
    },
    {
     "data": {
      "text/plain": [
       "CHEQUEID    0\n",
       "LAGERID     0\n",
       "KOLVO       0\n",
       "SECTION     0\n",
       "LEVEL       0\n",
       "dtype: int64"
      ]
     },
     "metadata": {},
     "output_type": "display_data"
    },
    {
     "name": "stderr",
     "output_type": "stream",
     "text": [
      "100%|████████████████████████████████████| 5822/5822 [00:00<00:00, 38765.99it/s]\n",
      "100%|█████████████████████████████████████| 5822/5822 [00:05<00:00, 1141.30it/s]"
     ]
    },
    {
     "name": "stdout",
     "output_type": "stream",
     "text": [
      "Generation 15\n",
      "[[  5   6   7 ... 130 131 132]\n",
      " [ 44  45  46 ... 130 131 132]\n",
      " [ 19  20  21 ... 130 131 132]\n",
      " ...\n",
      " [107  14  15 ... 130 131 132]\n",
      " [ 79  80  81 ... 130 131 132]\n",
      " [ 19 105  21 ... 130 131 132]]\n"
     ]
    },
    {
     "name": "stderr",
     "output_type": "stream",
     "text": [
      "\n"
     ]
    },
    {
     "data": {
      "text/plain": [
       "CHEQUEID    0\n",
       "LAGERID     0\n",
       "KOLVO       0\n",
       "SECTION     0\n",
       "LEVEL       0\n",
       "dtype: int64"
      ]
     },
     "metadata": {},
     "output_type": "display_data"
    },
    {
     "name": "stderr",
     "output_type": "stream",
     "text": [
      "100%|████████████████████████████████████| 5822/5822 [00:00<00:00, 39871.20it/s]\n",
      "100%|██████████████████████████████████████| 5822/5822 [00:05<00:00, 984.26it/s]\n"
     ]
    },
    {
     "data": {
      "text/plain": [
       "CHEQUEID    0\n",
       "LAGERID     0\n",
       "KOLVO       0\n",
       "SECTION     0\n",
       "LEVEL       0\n",
       "dtype: int64"
      ]
     },
     "metadata": {},
     "output_type": "display_data"
    },
    {
     "name": "stderr",
     "output_type": "stream",
     "text": [
      "100%|████████████████████████████████████| 5822/5822 [00:00<00:00, 18501.93it/s]\n",
      "100%|██████████████████████████████████████| 5822/5822 [00:06<00:00, 923.88it/s]\n"
     ]
    },
    {
     "data": {
      "text/plain": [
       "CHEQUEID    0\n",
       "LAGERID     0\n",
       "KOLVO       0\n",
       "SECTION     0\n",
       "LEVEL       0\n",
       "dtype: int64"
      ]
     },
     "metadata": {},
     "output_type": "display_data"
    },
    {
     "name": "stderr",
     "output_type": "stream",
     "text": [
      "100%|████████████████████████████████████| 5822/5822 [00:00<00:00, 40314.13it/s]\n",
      "100%|█████████████████████████████████████| 5822/5822 [00:05<00:00, 1066.30it/s]\n"
     ]
    },
    {
     "data": {
      "text/plain": [
       "CHEQUEID    0\n",
       "LAGERID     0\n",
       "KOLVO       0\n",
       "SECTION     0\n",
       "LEVEL       0\n",
       "dtype: int64"
      ]
     },
     "metadata": {},
     "output_type": "display_data"
    },
    {
     "name": "stderr",
     "output_type": "stream",
     "text": [
      "100%|████████████████████████████████████| 5822/5822 [00:00<00:00, 40382.13it/s]\n",
      "100%|█████████████████████████████████████| 5822/5822 [00:05<00:00, 1101.02it/s]\n"
     ]
    },
    {
     "data": {
      "text/plain": [
       "CHEQUEID    0\n",
       "LAGERID     0\n",
       "KOLVO       0\n",
       "SECTION     0\n",
       "LEVEL       0\n",
       "dtype: int64"
      ]
     },
     "metadata": {},
     "output_type": "display_data"
    },
    {
     "name": "stderr",
     "output_type": "stream",
     "text": [
      "100%|████████████████████████████████████| 5822/5822 [00:00<00:00, 27461.10it/s]\n",
      "100%|██████████████████████████████████████| 5822/5822 [00:06<00:00, 914.83it/s]\n"
     ]
    },
    {
     "data": {
      "text/plain": [
       "CHEQUEID    0\n",
       "LAGERID     0\n",
       "KOLVO       0\n",
       "SECTION     0\n",
       "LEVEL       0\n",
       "dtype: int64"
      ]
     },
     "metadata": {},
     "output_type": "display_data"
    },
    {
     "name": "stderr",
     "output_type": "stream",
     "text": [
      "100%|████████████████████████████████████| 5822/5822 [00:00<00:00, 41414.23it/s]\n",
      "100%|█████████████████████████████████████| 5822/5822 [00:05<00:00, 1101.52it/s]\n"
     ]
    },
    {
     "data": {
      "text/plain": [
       "CHEQUEID    0\n",
       "LAGERID     0\n",
       "KOLVO       0\n",
       "SECTION     0\n",
       "LEVEL       0\n",
       "dtype: int64"
      ]
     },
     "metadata": {},
     "output_type": "display_data"
    },
    {
     "name": "stderr",
     "output_type": "stream",
     "text": [
      "100%|████████████████████████████████████| 5822/5822 [00:00<00:00, 21673.82it/s]\n",
      "100%|█████████████████████████████████████| 5822/5822 [00:05<00:00, 1110.75it/s]\n"
     ]
    },
    {
     "data": {
      "text/plain": [
       "CHEQUEID    0\n",
       "LAGERID     0\n",
       "KOLVO       0\n",
       "SECTION     0\n",
       "LEVEL       0\n",
       "dtype: int64"
      ]
     },
     "metadata": {},
     "output_type": "display_data"
    },
    {
     "name": "stderr",
     "output_type": "stream",
     "text": [
      "100%|████████████████████████████████████| 5822/5822 [00:00<00:00, 39710.27it/s]\n",
      "100%|█████████████████████████████████████| 5822/5822 [00:05<00:00, 1011.62it/s]\n"
     ]
    },
    {
     "data": {
      "text/plain": [
       "CHEQUEID    0\n",
       "LAGERID     0\n",
       "KOLVO       0\n",
       "SECTION     0\n",
       "LEVEL       0\n",
       "dtype: int64"
      ]
     },
     "metadata": {},
     "output_type": "display_data"
    },
    {
     "name": "stderr",
     "output_type": "stream",
     "text": [
      "100%|████████████████████████████████████| 5822/5822 [00:00<00:00, 34809.54it/s]\n",
      "100%|█████████████████████████████████████| 5822/5822 [00:05<00:00, 1101.43it/s]\n"
     ]
    },
    {
     "data": {
      "text/plain": [
       "CHEQUEID    0\n",
       "LAGERID     0\n",
       "KOLVO       0\n",
       "SECTION     0\n",
       "LEVEL       0\n",
       "dtype: int64"
      ]
     },
     "metadata": {},
     "output_type": "display_data"
    },
    {
     "name": "stderr",
     "output_type": "stream",
     "text": [
      "100%|████████████████████████████████████| 5822/5822 [00:00<00:00, 21339.71it/s]\n",
      "100%|█████████████████████████████████████| 5822/5822 [00:05<00:00, 1105.48it/s]\n"
     ]
    },
    {
     "data": {
      "text/plain": [
       "CHEQUEID    0\n",
       "LAGERID     0\n",
       "KOLVO       0\n",
       "SECTION     0\n",
       "LEVEL       0\n",
       "dtype: int64"
      ]
     },
     "metadata": {},
     "output_type": "display_data"
    },
    {
     "name": "stderr",
     "output_type": "stream",
     "text": [
      "100%|████████████████████████████████████| 5822/5822 [00:00<00:00, 39401.18it/s]\n",
      "100%|█████████████████████████████████████| 5822/5822 [00:05<00:00, 1140.91it/s]\n"
     ]
    },
    {
     "data": {
      "text/plain": [
       "CHEQUEID    0\n",
       "LAGERID     0\n",
       "KOLVO       0\n",
       "SECTION     0\n",
       "LEVEL       0\n",
       "dtype: int64"
      ]
     },
     "metadata": {},
     "output_type": "display_data"
    },
    {
     "name": "stderr",
     "output_type": "stream",
     "text": [
      "100%|████████████████████████████████████| 5822/5822 [00:00<00:00, 40959.57it/s]\n",
      "100%|█████████████████████████████████████| 5822/5822 [00:05<00:00, 1123.45it/s]\n"
     ]
    },
    {
     "data": {
      "text/plain": [
       "CHEQUEID    0\n",
       "LAGERID     0\n",
       "KOLVO       0\n",
       "SECTION     0\n",
       "LEVEL       0\n",
       "dtype: int64"
      ]
     },
     "metadata": {},
     "output_type": "display_data"
    },
    {
     "name": "stderr",
     "output_type": "stream",
     "text": [
      "100%|████████████████████████████████████| 5822/5822 [00:00<00:00, 21768.14it/s]\n",
      "100%|█████████████████████████████████████| 5822/5822 [00:05<00:00, 1130.21it/s]\n"
     ]
    },
    {
     "data": {
      "text/plain": [
       "CHEQUEID    0\n",
       "LAGERID     0\n",
       "KOLVO       0\n",
       "SECTION     0\n",
       "LEVEL       0\n",
       "dtype: int64"
      ]
     },
     "metadata": {},
     "output_type": "display_data"
    },
    {
     "name": "stderr",
     "output_type": "stream",
     "text": [
      "100%|████████████████████████████████████| 5822/5822 [00:00<00:00, 40477.18it/s]\n",
      "100%|█████████████████████████████████████| 5822/5822 [00:05<00:00, 1111.68it/s]\n"
     ]
    },
    {
     "data": {
      "text/plain": [
       "CHEQUEID    0\n",
       "LAGERID     0\n",
       "KOLVO       0\n",
       "SECTION     0\n",
       "LEVEL       0\n",
       "dtype: int64"
      ]
     },
     "metadata": {},
     "output_type": "display_data"
    },
    {
     "name": "stderr",
     "output_type": "stream",
     "text": [
      "100%|████████████████████████████████████| 5822/5822 [00:00<00:00, 40737.16it/s]\n",
      "100%|█████████████████████████████████████| 5822/5822 [00:05<00:00, 1144.96it/s]\n"
     ]
    },
    {
     "data": {
      "text/plain": [
       "CHEQUEID    0\n",
       "LAGERID     0\n",
       "KOLVO       0\n",
       "SECTION     0\n",
       "LEVEL       0\n",
       "dtype: int64"
      ]
     },
     "metadata": {},
     "output_type": "display_data"
    },
    {
     "name": "stderr",
     "output_type": "stream",
     "text": [
      "100%|████████████████████████████████████| 5822/5822 [00:00<00:00, 21467.71it/s]\n",
      "100%|█████████████████████████████████████| 5822/5822 [00:05<00:00, 1117.14it/s]\n"
     ]
    },
    {
     "data": {
      "text/plain": [
       "CHEQUEID    0\n",
       "LAGERID     0\n",
       "KOLVO       0\n",
       "SECTION     0\n",
       "LEVEL       0\n",
       "dtype: int64"
      ]
     },
     "metadata": {},
     "output_type": "display_data"
    },
    {
     "name": "stderr",
     "output_type": "stream",
     "text": [
      "100%|████████████████████████████████████| 5822/5822 [00:00<00:00, 39272.29it/s]\n",
      "100%|█████████████████████████████████████| 5822/5822 [00:05<00:00, 1139.17it/s]\n"
     ]
    },
    {
     "data": {
      "text/plain": [
       "CHEQUEID    0\n",
       "LAGERID     0\n",
       "KOLVO       0\n",
       "SECTION     0\n",
       "LEVEL       0\n",
       "dtype: int64"
      ]
     },
     "metadata": {},
     "output_type": "display_data"
    },
    {
     "name": "stderr",
     "output_type": "stream",
     "text": [
      "100%|████████████████████████████████████| 5822/5822 [00:00<00:00, 39242.13it/s]\n",
      "100%|█████████████████████████████████████| 5822/5822 [00:05<00:00, 1136.27it/s]\n"
     ]
    },
    {
     "data": {
      "text/plain": [
       "CHEQUEID    0\n",
       "LAGERID     0\n",
       "KOLVO       0\n",
       "SECTION     0\n",
       "LEVEL       0\n",
       "dtype: int64"
      ]
     },
     "metadata": {},
     "output_type": "display_data"
    },
    {
     "name": "stderr",
     "output_type": "stream",
     "text": [
      "100%|████████████████████████████████████| 5822/5822 [00:00<00:00, 22148.75it/s]\n",
      "100%|█████████████████████████████████████| 5822/5822 [00:05<00:00, 1100.79it/s]\n"
     ]
    },
    {
     "data": {
      "text/plain": [
       "CHEQUEID    0\n",
       "LAGERID     0\n",
       "KOLVO       0\n",
       "SECTION     0\n",
       "LEVEL       0\n",
       "dtype: int64"
      ]
     },
     "metadata": {},
     "output_type": "display_data"
    },
    {
     "name": "stderr",
     "output_type": "stream",
     "text": [
      "100%|████████████████████████████████████| 5822/5822 [00:00<00:00, 39973.87it/s]\n",
      "100%|█████████████████████████████████████| 5822/5822 [00:05<00:00, 1119.52it/s]\n"
     ]
    },
    {
     "data": {
      "text/plain": [
       "CHEQUEID    0\n",
       "LAGERID     0\n",
       "KOLVO       0\n",
       "SECTION     0\n",
       "LEVEL       0\n",
       "dtype: int64"
      ]
     },
     "metadata": {},
     "output_type": "display_data"
    },
    {
     "name": "stderr",
     "output_type": "stream",
     "text": [
      "100%|████████████████████████████████████| 5822/5822 [00:00<00:00, 38532.31it/s]\n",
      "100%|█████████████████████████████████████| 5822/5822 [00:05<00:00, 1097.57it/s]"
     ]
    },
    {
     "name": "stdout",
     "output_type": "stream",
     "text": [
      "Generation 16\n",
      "[[  5   6   7 ... 130 131 132]\n",
      " [  5   6  61 ... 130 131 132]\n",
      " [ 44  45  46 ... 130 131 132]\n",
      " ...\n",
      " [ 48  49  50 ... 129 130 131]\n",
      " [ 45  46  47 ... 129 130 131]\n",
      " [ 87  88  90 ... 130 131 132]]\n"
     ]
    },
    {
     "name": "stderr",
     "output_type": "stream",
     "text": [
      "\n"
     ]
    },
    {
     "data": {
      "text/plain": [
       "CHEQUEID    0\n",
       "LAGERID     0\n",
       "KOLVO       0\n",
       "SECTION     0\n",
       "LEVEL       0\n",
       "dtype: int64"
      ]
     },
     "metadata": {},
     "output_type": "display_data"
    },
    {
     "name": "stderr",
     "output_type": "stream",
     "text": [
      "100%|████████████████████████████████████| 5822/5822 [00:00<00:00, 22161.41it/s]\n",
      " 47%|█████████████████▎                   | 2716/5822 [00:02<00:02, 1152.95it/s]"
     ]
    }
   ],
   "source": [
    "ga_instance.run()\n"
   ]
  },
  {
   "cell_type": "code",
   "execution_count": null,
   "id": "85368dda",
   "metadata": {},
   "outputs": [],
   "source": [
    "solution, solution_fitness, solution_idx = ga_instance.best_solution()\n",
    "print(\"best_solution: {solution}\".format(solution =solution)) "
   ]
  },
  {
   "cell_type": "code",
   "execution_count": null,
   "id": "b61c8166",
   "metadata": {},
   "outputs": [],
   "source": [
    "solution"
   ]
  },
  {
   "cell_type": "code",
   "execution_count": null,
   "id": "2a44117b",
   "metadata": {},
   "outputs": [],
   "source": [
    "solution_fitness"
   ]
  },
  {
   "cell_type": "code",
   "execution_count": null,
   "id": "a64ccbb2",
   "metadata": {},
   "outputs": [],
   "source": [
    "minimization_function(solution,0)"
   ]
  },
  {
   "cell_type": "code",
   "execution_count": null,
   "id": "70ef4d2e",
   "metadata": {},
   "outputs": [],
   "source": [
    "fitnesses = ga_instance.best_solutions_fitness()"
   ]
  },
  {
   "cell_type": "code",
   "execution_count": null,
   "id": "002b2375",
   "metadata": {},
   "outputs": [],
   "source": []
  }
 ],
 "metadata": {
  "kernelspec": {
   "display_name": "Python 3 (ipykernel)",
   "language": "python",
   "name": "python3"
  },
  "language_info": {
   "codemirror_mode": {
    "name": "ipython",
    "version": 3
   },
   "file_extension": ".py",
   "mimetype": "text/x-python",
   "name": "python",
   "nbconvert_exporter": "python",
   "pygments_lexer": "ipython3",
   "version": "3.9.7"
  }
 },
 "nbformat": 4,
 "nbformat_minor": 5
}
