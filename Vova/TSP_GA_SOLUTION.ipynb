{
 "cells": [
  {
   "cell_type": "code",
   "execution_count": 1,
   "id": "e8ad69f5-abd2-4b36-b088-255b7d0df3d4",
   "metadata": {},
   "outputs": [],
   "source": [
    "import pandas as pd\n",
    "import numpy as np\n",
    "import matplotlib.pyplot as plt\n",
    "import sys\n",
    "import heapq\n",
    "from queue import PriorityQueue\n",
    "import random\n",
    "import copy"
   ]
  },
  {
   "cell_type": "code",
   "execution_count": 2,
   "id": "c17bf69d",
   "metadata": {},
   "outputs": [],
   "source": [
    "from tqdm import tqdm"
   ]
  },
  {
   "cell_type": "code",
   "execution_count": 3,
   "id": "4952cd24",
   "metadata": {},
   "outputs": [],
   "source": [
    "import six\n",
    "import sys\n",
    "sys.modules['sklearn.externals.six'] = six\n",
    "import mlrose"
   ]
  },
  {
   "cell_type": "markdown",
   "id": "bfb02a9b",
   "metadata": {},
   "source": [
    "# GRAPH STUFF"
   ]
  },
  {
   "cell_type": "code",
   "execution_count": 4,
   "id": "e9483e98-2557-4bb6-b07d-f9fe468890f8",
   "metadata": {},
   "outputs": [],
   "source": [
    "mapa = pd.read_csv(\"darkstore_map.csv\", sep=\";\")"
   ]
  },
  {
   "cell_type": "code",
   "execution_count": 5,
   "id": "875a88ae-18e6-457d-b6c7-9fa94fbc7b77",
   "metadata": {},
   "outputs": [
    {
     "data": {
      "text/html": [
       "<div>\n",
       "<style scoped>\n",
       "    .dataframe tbody tr th:only-of-type {\n",
       "        vertical-align: middle;\n",
       "    }\n",
       "\n",
       "    .dataframe tbody tr th {\n",
       "        vertical-align: top;\n",
       "    }\n",
       "\n",
       "    .dataframe thead th {\n",
       "        text-align: right;\n",
       "    }\n",
       "</style>\n",
       "<table border=\"1\" class=\"dataframe\">\n",
       "  <thead>\n",
       "    <tr style=\"text-align: right;\">\n",
       "      <th></th>\n",
       "      <th>SECTION</th>\n",
       "      <th>LEVEL</th>\n",
       "      <th>LAGERID</th>\n",
       "    </tr>\n",
       "  </thead>\n",
       "  <tbody>\n",
       "    <tr>\n",
       "      <th>0</th>\n",
       "      <td>1</td>\n",
       "      <td>1</td>\n",
       "      <td>1</td>\n",
       "    </tr>\n",
       "    <tr>\n",
       "      <th>1</th>\n",
       "      <td>1</td>\n",
       "      <td>2</td>\n",
       "      <td>2</td>\n",
       "    </tr>\n",
       "    <tr>\n",
       "      <th>2</th>\n",
       "      <td>1</td>\n",
       "      <td>3</td>\n",
       "      <td>3</td>\n",
       "    </tr>\n",
       "    <tr>\n",
       "      <th>3</th>\n",
       "      <td>2</td>\n",
       "      <td>1</td>\n",
       "      <td>4</td>\n",
       "    </tr>\n",
       "    <tr>\n",
       "      <th>4</th>\n",
       "      <td>2</td>\n",
       "      <td>2</td>\n",
       "      <td>5</td>\n",
       "    </tr>\n",
       "  </tbody>\n",
       "</table>\n",
       "</div>"
      ],
      "text/plain": [
       "   SECTION  LEVEL  LAGERID\n",
       "0        1      1        1\n",
       "1        1      2        2\n",
       "2        1      3        3\n",
       "3        2      1        4\n",
       "4        2      2        5"
      ]
     },
     "execution_count": 5,
     "metadata": {},
     "output_type": "execute_result"
    }
   ],
   "source": [
    "mapa.head()"
   ]
  },
  {
   "cell_type": "code",
   "execution_count": 6,
   "id": "1840c56c-774c-4cd0-b3bf-8802dcca484d",
   "metadata": {},
   "outputs": [],
   "source": [
    "cheque =  pd.read_csv(\"cheques_public.csv\", sep=\";\")"
   ]
  },
  {
   "cell_type": "code",
   "execution_count": 7,
   "id": "f1d73cd1-c212-478f-898f-ef9b0e3e4d9d",
   "metadata": {},
   "outputs": [
    {
     "data": {
      "text/html": [
       "<div>\n",
       "<style scoped>\n",
       "    .dataframe tbody tr th:only-of-type {\n",
       "        vertical-align: middle;\n",
       "    }\n",
       "\n",
       "    .dataframe tbody tr th {\n",
       "        vertical-align: top;\n",
       "    }\n",
       "\n",
       "    .dataframe thead th {\n",
       "        text-align: right;\n",
       "    }\n",
       "</style>\n",
       "<table border=\"1\" class=\"dataframe\">\n",
       "  <thead>\n",
       "    <tr style=\"text-align: right;\">\n",
       "      <th></th>\n",
       "      <th>CHEQUEID</th>\n",
       "      <th>LAGERID</th>\n",
       "      <th>KOLVO</th>\n",
       "    </tr>\n",
       "  </thead>\n",
       "  <tbody>\n",
       "    <tr>\n",
       "      <th>0</th>\n",
       "      <td>22311</td>\n",
       "      <td>1</td>\n",
       "      <td>1.0</td>\n",
       "    </tr>\n",
       "    <tr>\n",
       "      <th>1</th>\n",
       "      <td>22311</td>\n",
       "      <td>2</td>\n",
       "      <td>1.0</td>\n",
       "    </tr>\n",
       "    <tr>\n",
       "      <th>2</th>\n",
       "      <td>22311</td>\n",
       "      <td>3</td>\n",
       "      <td>1.0</td>\n",
       "    </tr>\n",
       "    <tr>\n",
       "      <th>3</th>\n",
       "      <td>22311</td>\n",
       "      <td>4</td>\n",
       "      <td>1.0</td>\n",
       "    </tr>\n",
       "    <tr>\n",
       "      <th>4</th>\n",
       "      <td>22311</td>\n",
       "      <td>5</td>\n",
       "      <td>1.0</td>\n",
       "    </tr>\n",
       "  </tbody>\n",
       "</table>\n",
       "</div>"
      ],
      "text/plain": [
       "   CHEQUEID  LAGERID  KOLVO\n",
       "0     22311        1    1.0\n",
       "1     22311        2    1.0\n",
       "2     22311        3    1.0\n",
       "3     22311        4    1.0\n",
       "4     22311        5    1.0"
      ]
     },
     "execution_count": 7,
     "metadata": {},
     "output_type": "execute_result"
    }
   ],
   "source": [
    "cheque.head()"
   ]
  },
  {
   "cell_type": "code",
   "execution_count": 8,
   "id": "cfe4671a-a6da-4fc1-95b1-33388f0fdbd6",
   "metadata": {},
   "outputs": [],
   "source": [
    "section_to_node_dct = {0:0, 1:1, 2:2, 3:3, 4:4, 5:5, 6:6, 7:28, 8:27, 9:26, 10:25, 11:24, 12:23, 13:22, 14:21, 15:28, 16:27, 17:26, 18:25, 19:24, 20:23, 21:22, 22:21, 23:7, 24:8, 25:9, 26:10, 27:11, 28:12, 29:13, 30:14, 31:7, 32:8, 33:9, 34:10, 35:11, 36:12, 37:13, 38:14, 39:20, 40:19, 41:18, 42:17, 43:16, 44:15}\n",
    "node_to_section_dct = dict((v,k) for k,v in section_to_node_dct.items())\n",
    "\n",
    "def section_to_node(section):\n",
    "    return section_to_node_dct[section]\n",
    "\n",
    "def node_to_section(node):\n",
    "    return node_to_section_dct[node]"
   ]
  },
  {
   "cell_type": "code",
   "execution_count": 9,
   "id": "c7f20e7c-1728-4ca1-a125-c3819903edcb",
   "metadata": {},
   "outputs": [],
   "source": [
    "graph_one_side = {(0, 1): 8,\n",
    "        (0, 20): 18,\n",
    "        (1, 2): 2,\n",
    "        (2, 3): 2,\n",
    "        (3, 4): 2,\n",
    "        (4, 5): 2,\n",
    "        (5, 6): 2,\n",
    "         \n",
    "        (5, 7): 2,\n",
    "        (7, 8): 2,\n",
    "        (8, 9): 2,\n",
    "        (9, 10): 2,\n",
    "        (10, 11): 2,\n",
    "        (11, 12): 2,\n",
    "        (12, 13): 2,\n",
    "        (13, 14): 2,\n",
    "         \n",
    "        (14, 16): 2,\n",
    "        (16, 15): 2,\n",
    "        (16, 17): 2,\n",
    "        (17, 18): 2,\n",
    "        (18, 19): 2,\n",
    "         \n",
    "        (19, 20): 2,\n",
    "        (19, 21): 2,\n",
    "        (21, 22): 2,\n",
    "        (22, 23): 2,\n",
    "        (23, 24): 2,\n",
    "        (24, 25): 2,\n",
    "        (25, 26): 2,\n",
    "        (26, 27): 2,\n",
    "        (27, 28): 2,\n",
    "        (28, 2): 2}"
   ]
  },
  {
   "cell_type": "code",
   "execution_count": 10,
   "id": "66385521-31fa-4cad-9142-ff234fd3170a",
   "metadata": {},
   "outputs": [],
   "source": [
    "graph_another_side = {(k[1], k[0]):v for k,v in graph_one_side.items()}"
   ]
  },
  {
   "cell_type": "code",
   "execution_count": 11,
   "id": "9c31102f-26bb-4956-9397-ef93aacb7100",
   "metadata": {},
   "outputs": [],
   "source": [
    "graph = {**graph_one_side, **graph_another_side}"
   ]
  },
  {
   "cell_type": "code",
   "execution_count": 12,
   "id": "6c7de88f-b63f-4c7c-8486-ac5814c29ebd",
   "metadata": {},
   "outputs": [],
   "source": [
    "class Graph:\n",
    "    def __init__(self, num_of_vertices):\n",
    "        self.v = num_of_vertices\n",
    "        self.edges = [[-1 for i in range(num_of_vertices)] for j in range(num_of_vertices)]\n",
    "        self.visited = []\n",
    "        \n",
    "    def add_edge(self, u, v, weight):\n",
    "        self.edges[u][v] = weight\n",
    "        self.edges[v][u] = weight\n",
    "        \n",
    "    def dijkstra(self, start_vertex):\n",
    "        D = {v:float('inf') for v in range(self.v)}\n",
    "        D[start_vertex] = 0\n",
    "\n",
    "        pq = PriorityQueue()\n",
    "        pq.put((0, start_vertex))\n",
    "\n",
    "        while not pq.empty():\n",
    "            (dist, current_vertex) = pq.get()\n",
    "            self.visited.append(current_vertex)\n",
    "\n",
    "            for neighbor in range(self.v):\n",
    "                if self.edges[current_vertex][neighbor] != -1:\n",
    "                    distance = self.edges[current_vertex][neighbor]\n",
    "                    if neighbor not in self.visited:\n",
    "                        old_cost = D[neighbor]\n",
    "                        new_cost = D[current_vertex] + distance\n",
    "                        if new_cost < old_cost:\n",
    "                            pq.put((new_cost, neighbor))\n",
    "                            D[neighbor] = new_cost\n",
    "        return D"
   ]
  },
  {
   "cell_type": "code",
   "execution_count": 13,
   "id": "8a7d965d-2441-4249-a191-0fda5d1a9880",
   "metadata": {},
   "outputs": [],
   "source": [
    "g = Graph(29)\n",
    "\n",
    "for key, value in graph_one_side.items():\n",
    "    g.add_edge(key[0], key[1], value)"
   ]
  },
  {
   "cell_type": "code",
   "execution_count": 14,
   "id": "ef08df8d-4def-43e3-ba96-00e2fbfeddae",
   "metadata": {},
   "outputs": [
    {
     "name": "stdout",
     "output_type": "stream",
     "text": [
      "Distance from vertex 0 to vertex 0 is 0\n",
      "Distance from vertex 0 to vertex 1 is 8\n",
      "Distance from vertex 0 to vertex 2 is 10\n",
      "Distance from vertex 0 to vertex 3 is 12\n",
      "Distance from vertex 0 to vertex 4 is 14\n",
      "Distance from vertex 0 to vertex 5 is 16\n",
      "Distance from vertex 0 to vertex 6 is 18\n",
      "Distance from vertex 0 to vertex 7 is 18\n",
      "Distance from vertex 0 to vertex 8 is 20\n",
      "Distance from vertex 0 to vertex 9 is 22\n",
      "Distance from vertex 0 to vertex 10 is 24\n",
      "Distance from vertex 0 to vertex 11 is 26\n",
      "Distance from vertex 0 to vertex 12 is 28\n",
      "Distance from vertex 0 to vertex 13 is 30\n",
      "Distance from vertex 0 to vertex 14 is 28\n",
      "Distance from vertex 0 to vertex 15 is 28\n",
      "Distance from vertex 0 to vertex 16 is 26\n",
      "Distance from vertex 0 to vertex 17 is 24\n",
      "Distance from vertex 0 to vertex 18 is 22\n",
      "Distance from vertex 0 to vertex 19 is 20\n",
      "Distance from vertex 0 to vertex 20 is 18\n",
      "Distance from vertex 0 to vertex 21 is 22\n",
      "Distance from vertex 0 to vertex 22 is 24\n",
      "Distance from vertex 0 to vertex 23 is 22\n",
      "Distance from vertex 0 to vertex 24 is 20\n",
      "Distance from vertex 0 to vertex 25 is 18\n",
      "Distance from vertex 0 to vertex 26 is 16\n",
      "Distance from vertex 0 to vertex 27 is 14\n",
      "Distance from vertex 0 to vertex 28 is 12\n"
     ]
    }
   ],
   "source": [
    "D = g.dijkstra(0)\n",
    "\n",
    "for vertex in range(len(D)):\n",
    "    print(\"Distance from vertex 0 to vertex\", vertex, \"is\", D[vertex])"
   ]
  },
  {
   "cell_type": "code",
   "execution_count": 15,
   "id": "810ac9d7-6a48-4771-a617-df8a72ac9645",
   "metadata": {},
   "outputs": [],
   "source": [
    "def get_optimal_distance_between_nodes(node_a, node_b, graph):\n",
    "    D = graph.dijkstra(node_a)\n",
    "    # for vertex in range(len(D)):\n",
    "    #     print(\"Distance from vertex 0 to vertex\", vertex, \"is\", D[vertex])\n",
    "        \n",
    "    return D[node_b]\n",
    "\n",
    "def get_optimal_distance_between_sections(sec_a, sec_b, graph):\n",
    "    node_a = section_to_node(sec_a)\n",
    "    node_b = section_to_node(sec_b)\n",
    "    \n",
    "    # print(node_a, node_b)\n",
    "    \n",
    "    return get_optimal_distance_between_nodes(node_a, node_b, graph)"
   ]
  },
  {
   "cell_type": "code",
   "execution_count": 16,
   "id": "56d0484f-ffe8-455c-99fa-a734039440de",
   "metadata": {},
   "outputs": [],
   "source": [
    "g = Graph(29)\n",
    "\n",
    "for key, value in graph_one_side.items():\n",
    "    g.add_edge(key[0], key[1], value)"
   ]
  },
  {
   "cell_type": "code",
   "execution_count": 17,
   "id": "b8b55f59-55a5-4c34-b9ed-9c8814f73973",
   "metadata": {},
   "outputs": [
    {
     "data": {
      "text/plain": [
       "22"
      ]
     },
     "execution_count": 17,
     "metadata": {},
     "output_type": "execute_result"
    }
   ],
   "source": [
    "get_optimal_distance_between_sections(12, 24, copy.deepcopy(g))"
   ]
  },
  {
   "cell_type": "code",
   "execution_count": 18,
   "id": "a6c93880",
   "metadata": {},
   "outputs": [],
   "source": [
    "def unique_custom(x):\n",
    "    to_del = []\n",
    "    dict_freq = {}\n",
    "    for c,i in enumerate(x):\n",
    "        freq = dict_freq.get(i,0)\n",
    "        if freq==1:\n",
    "            to_del.append(c)\n",
    "        else:\n",
    "            dict_freq.update({i:freq+1})\n",
    "            \n",
    "    return [i for c,i in enumerate(x) if not c in to_del]"
   ]
  },
  {
   "cell_type": "markdown",
   "id": "a8be88ee",
   "metadata": {},
   "source": [
    "# Faster function"
   ]
  },
  {
   "cell_type": "code",
   "execution_count": 19,
   "id": "0d4674a3",
   "metadata": {},
   "outputs": [],
   "source": [
    "def compute_distances(sections,g):\n",
    "    sections=unique_custom(sections)\n",
    "    mapping = dict([(i,c+1) for c,i in enumerate(sections)])\n",
    "    sections.insert(0,0)\n",
    "\n",
    "    distances = []\n",
    "    for i in range(len(sections)):\n",
    "        for j in range(i+1,len(sections)):\n",
    "            distances.append((sections[i],sections[j],get_optimal_distance_between_sections(sections[i], sections[j], copy.deepcopy(g))))\n",
    "    distances = [(mapping.get(i[0],0),mapping.get(i[1],0),i[2]) for i in distances]\n",
    "    to_exclude = 0\n",
    "    new_distances = []\n",
    "    for i in distances:\n",
    "        if i[-1]==0:\n",
    "            to_exclude+=1\n",
    "            new_distances.append([i[0],i[1],1])\n",
    "        else:\n",
    "            new_distances.append(i)\n",
    "    distances = new_distances\n",
    "    return (distances,to_exclude, len(sections))\n"
   ]
  },
  {
   "cell_type": "code",
   "execution_count": 20,
   "id": "d58c2a2a",
   "metadata": {},
   "outputs": [],
   "source": [
    "def pre_compute_distances_with_all(sections,all_distances):\n",
    "    sections=unique_custom(sections)\n",
    "    mapping = dict([(i,c+1) for c,i in enumerate(sections)])\n",
    "    sections.insert(0,0)\n",
    "    distances = []\n",
    "    for i in range(len(sections)):\n",
    "        for j in range(i+1,len(sections)):\n",
    "            idx1 = (sections[i],sections[j])\n",
    "            idx2 = (sections[j],sections[i])\n",
    "            distance = all_distances.get(idx1, all_distances.get(idx2))            \n",
    "            distances.append((sections[i],sections[j],distance))\n",
    "    distances = [(mapping.get(i[0],0),mapping.get(i[1],0),i[2]) for i in distances]\n",
    "    to_exclude = 0\n",
    "    new_distances = []\n",
    "    for i in distances:\n",
    "        if i[-1]==0:\n",
    "            to_exclude+=1\n",
    "            new_distances.append([i[0],i[1],1])\n",
    "        else:\n",
    "            new_distances.append(i)\n",
    "    distances = new_distances\n",
    "    return (distances,to_exclude, len(sections))\n"
   ]
  },
  {
   "cell_type": "code",
   "execution_count": 21,
   "id": "0604ec56",
   "metadata": {},
   "outputs": [],
   "source": [
    "def compute_distances_all(num_all, g):\n",
    "    sections=[i for i in range(0,num_all+1)]\n",
    "    distances = {}\n",
    "    for i in range(len(sections)):\n",
    "        for j in range(i+1,len(sections)):\n",
    "            distances.update({(sections[i],sections[j]):get_optimal_distance_between_sections(sections[i], sections[j], copy.deepcopy(g))})\n",
    "\n",
    "    return distances\n"
   ]
  },
  {
   "cell_type": "code",
   "execution_count": 59,
   "id": "4decc4c0",
   "metadata": {},
   "outputs": [],
   "source": [
    "def find_best_path_dist(distances, len_sections, evaluate=False):\n",
    "    fitness_dists = mlrose.TravellingSales(distances = distances)\n",
    "    problem_fit = mlrose.TSPOpt(length = len_sections, fitness_fn = fitness_dists, maximize=False)\n",
    "    if not evaluate:\n",
    "        best_state, best_fitness = mlrose.random_hill_climb(problem_fit, random_state = 0, max_iters=4, restarts=1, max_attempts=12)\n",
    "    else:\n",
    "        best_state, best_fitness = mlrose.random_hill_climb(problem_fit, random_state = 0, restarts=20, max_attempts=100)\n",
    "    return best_fitness"
   ]
  },
  {
   "cell_type": "code",
   "execution_count": 23,
   "id": "cf0cd15b",
   "metadata": {},
   "outputs": [],
   "source": [
    "def loss(distances, to_exclude,len_sections, time_get_goods, evaluate=False):\n",
    "    #finding best path dist\n",
    "    best_path_dist = find_best_path_dist(distances,len_sections, evaluate)\n",
    "    #finding time to spend on taking goods\n",
    "    loss_ = time_get_goods+best_path_dist-to_exclude\n",
    "    return loss_\n",
    "    "
   ]
  },
  {
   "cell_type": "markdown",
   "id": "5a380c26",
   "metadata": {},
   "source": [
    "# Computing all distances"
   ]
  },
  {
   "cell_type": "code",
   "execution_count": 25,
   "id": "6b9098d9",
   "metadata": {
    "scrolled": true
   },
   "outputs": [],
   "source": [
    "all_distances = compute_distances_all(44, g)"
   ]
  },
  {
   "cell_type": "code",
   "execution_count": 26,
   "id": "210c1e69",
   "metadata": {},
   "outputs": [
    {
     "data": {
      "text/plain": [
       "8"
      ]
     },
     "execution_count": 26,
     "metadata": {},
     "output_type": "execute_result"
    }
   ],
   "source": [
    "all_distances.get((0,1))"
   ]
  },
  {
   "cell_type": "markdown",
   "id": "a3432fd2",
   "metadata": {},
   "source": [
    "# Optimization class"
   ]
  },
  {
   "cell_type": "code",
   "execution_count": 56,
   "id": "ccd489fa",
   "metadata": {},
   "outputs": [],
   "source": [
    "class Optimization:\n",
    "    def __init__(self, cheque_df, test_sub, graph, all_distances, evaluate=False):\n",
    "        self.evaluate = evaluate\n",
    "        self.cheque_df = cheque_df\n",
    "        self.test_sub = test_sub\n",
    "        self.graph = graph\n",
    "        self.all_distances = all_distances\n",
    "        self.evaluate = evaluate\n",
    "    \n",
    "    def create_needed_data(self, x):\n",
    "        self.test_sub['LAGERID'] = x\n",
    "        cheque_df = self.cheque_df.merge(self.test_sub, on='LAGERID', how='left')\n",
    "        cheque_df['TIME_SPENT_GETTING'] = cheque_df['KOLVO']*cheque_df['LEVEL']\n",
    "        aggregated = cheque_df.groupby('CHEQUEID', as_index=False).agg({'SECTION':list,\"TIME_SPENT_GETTING\":sum })\n",
    "        dict_section = aggregated.set_index('CHEQUEID')['SECTION'].to_dict()\n",
    "        dict_time_getting = aggregated.set_index('CHEQUEID')['TIME_SPENT_GETTING'].to_dict()\n",
    "        overall_dict = {}\n",
    "        for k,v in dict_section.items():\n",
    "            time = dict_time_getting.get(k)\n",
    "            overall_dict.update({k:(v, time)})\n",
    "        return overall_dict\n",
    "\n",
    "\n",
    "    def pre_compute_distances(self,overall_dict):\n",
    "        dict_with_distances = {}\n",
    "        for k,v in overall_dict.items():\n",
    "            distances = pre_compute_distances_with_all(v[0], self.all_distances)\n",
    "            dict_with_distances.update({k:(distances, v[1])})\n",
    "        return dict_with_distances\n",
    "\n",
    "    def compute_objective(self,dict_with_distances):\n",
    "        objective = 0\n",
    "        for v in tqdm(dict_with_distances.values()):\n",
    "            distance,to_exclude, len_section = v[0]\n",
    "            time_get_goods = v[1]\n",
    "            objective+=loss(distance,to_exclude, len_section, time_get_goods, self.evaluate)\n",
    "        return objective\n",
    "    \n",
    "        \n",
    "        "
   ]
  },
  {
   "cell_type": "code",
   "execution_count": 28,
   "id": "5d08907e",
   "metadata": {},
   "outputs": [],
   "source": [
    "opt_class = Optimization(cheque_df=pd.read_csv('cheques_public.csv', sep=';'), test_sub=pd.read_csv('darkstore_map.csv', sep=';'), \n",
    "            graph=g, all_distances=all_distances, evaluate=False)\n"
   ]
  },
  {
   "cell_type": "code",
   "execution_count": 29,
   "id": "f6152550",
   "metadata": {},
   "outputs": [],
   "source": [
    "def minimization_function(x, solution_idx):\n",
    "    global opt_class\n",
    "    dict_with_distances = opt_class.pre_compute_distances(opt_class.create_needed_data(x))\n",
    "    return opt_class.compute_objective(dict_with_distances)*(-1)"
   ]
  },
  {
   "cell_type": "markdown",
   "id": "0ec85d45",
   "metadata": {},
   "source": [
    "# Genetic stuff"
   ]
  },
  {
   "cell_type": "code",
   "execution_count": 30,
   "id": "bcdafb63",
   "metadata": {},
   "outputs": [],
   "source": [
    "import pygad"
   ]
  },
  {
   "cell_type": "code",
   "execution_count": 31,
   "id": "25a1df0c",
   "metadata": {},
   "outputs": [],
   "source": [
    "fitness_function = minimization_function\n",
    "num_generations = 75 # Number of generations.\n",
    "num_parents_mating = 5 # Number of solutions to be selected as parents in the mating pool.\n",
    "sol_per_pop = 32 # Number of solutions in the population.\n",
    "num_genes = 132  \n",
    "\n",
    "init_range_low = 1\n",
    "init_range_high = 132\n",
    "\n",
    "parent_selection_type = \"rank\" # Type of parent selection.\n",
    "keep_parents = 10 # Number of parents to keep in the next population. -1 means keep all parents and 0 means keep nothing.\n",
    "\n",
    "# Parameters of the mutation operation.\n",
    "mutation_type = \"swap\" # Type of the mutation operator.\n",
    "mutation_percent_genes = 20 \n"
   ]
  },
  {
   "cell_type": "code",
   "execution_count": 32,
   "id": "694746e5",
   "metadata": {},
   "outputs": [],
   "source": [
    "initial_ga_cust_mut = [ 44,  26,  50, 126,   2, 116,  42, 114,  27,  69, 123,  53,  98,\n",
    "        21, 130,  32,  25,  28,  12,  60,  83,  31,  90,  17,  78, 122,\n",
    "        55,  41, 129,  19,  85,  79, 100,  33,  37,  89,   5,  88,  81,\n",
    "       119,   4,  18,  15,  29,   3,   7,  57,  14,  30,  51, 107,  20,\n",
    "       118,  80,  87,  95,  75,  38,  22, 106, 105,  23,  45,   1,  40,\n",
    "        68,  64,  77,   9,  84,  91,  46,  54,  92,  82,  71, 125,  39,\n",
    "        10,  99, 121,   6, 108, 131, 128,  59, 110,  58,  52,  24,  62,\n",
    "       112, 115,  86,  35,  94,  49, 104,  74, 127,  11,  97,  43, 109,\n",
    "        70,  67,  72,  13,  61,  36, 117,  93,  47, 132,  34,  96, 111,\n",
    "       113,  63,  16, 103, 102,  56, 101,  65,  73,  76, 124,  48,   8,\n",
    "       120,  66]\n",
    "\n",
    "initial_ga_cust_mut2 = [ 83,  98,  21, 130,  32,  25,  51,  12,  60,  31,  90,  17,  78,\n",
    "       122,  55, 125,   1,  19,  27,  69, 123,  44,  26,  53,  85,  50,\n",
    "       126,  79, 100,  33,  37,  89,   5,  88,  81, 119,   4,  18,  28,\n",
    "       107,  43, 118,  15,  29,   3,   7,  57,  14,  30,   2, 116,  42,\n",
    "       114,  80,  87,  95,  75,  38,  22, 106, 105,  35,  45, 129,  40,\n",
    "        68,  64,  77,   9,  84,  41,  46,  54,  92,  82,  71,  91,  39,\n",
    "        10,  99, 121,   6, 108, 131,   8,  59, 110,  16,  52,  24,  62,\n",
    "       112, 115,  86,  23,  94,  49, 104, 128, 127,  11,  97,  20, 109,\n",
    "        70,  67,  72,  13,  74,  36, 117,  48,  47, 132,  34,  96, 111,\n",
    "       113,  61,  63,  58, 103, 102,  56,  76,  65,  73, 101, 124,  93,\n",
    "       120,  66]\n",
    "\n",
    "initial_ga = [  2, 116,  42,  57,  14,  30, 114,  27,  69, 123,  44,  26,  53,\n",
    "        98,  21, 130,  32,  25,  51,  12,  60,  83,  31,  90,  17,  78,\n",
    "       122,  55,  41, 129,  19,  94,  50, 126,  79,  70,  33,  37,  89,\n",
    "         5,  67,  81,  15,  29,   3,   7,  48, 100, 119,   4,  96,  28,\n",
    "       107,  20, 118,  80,  87,  95,  75, 108,  38,  22, 106, 105,  23,\n",
    "        45,   1,  40,  68,  64,  77,   9,  84,  91,  46,  54,  92,  82,\n",
    "        71, 125,  39,  10,  99, 102, 121,   6, 131,  74,  59, 110,  58,\n",
    "        24,  62, 112, 115,  86,  35,  85,  49, 104, 128, 127,  11,  97,\n",
    "        43, 109,  88,  72,  13,  61,  36, 117,  52, 120,  47, 132,  34,\n",
    "        18, 111, 113,  63,  16, 103,  56,  76,  65,  73, 101, 124,  93,\n",
    "         8,  66]"
   ]
  },
  {
   "cell_type": "code",
   "execution_count": 33,
   "id": "c8936228",
   "metadata": {},
   "outputs": [],
   "source": [
    "population_list = []\n",
    "gene_space = [i for i in range(1, 132+1)]\n",
    "for i in range(sol_per_pop):\n",
    "    nxm_random_num=list(np.random.permutation(gene_space)) \n",
    "    population_list.append(nxm_random_num)\n",
    "initial1 = pd.read_csv('darkstore_map.csv', sep=';')['LAGERID'].values\n",
    "initial2 = pd.read_csv('test_sub_new.csv', sep=';')['LAGERID'].values\n",
    "initial3 = pd.read_csv('clustered_only_sub.csv', sep=',')['LAGERID'].values\n",
    "initial4 = pd.read_csv('sort_in_clust_by_dist_to_zero.csv', sep=',').rename(columns={'SORTED_LAGERID':'LAGERID'})['LAGERID'].values\n",
    "\n",
    "population_list.append(list(initial1))\n",
    "population_list.append(list(initial2))\n",
    "population_list.append(list(initial3))\n",
    "population_list.append(list(initial4))\n",
    "population_list.append(initial_ga)\n",
    "population_list.append(initial_ga_cust_mut2)\n",
    "population_list.append(initial_ga_cust_mut)\n",
    "\n"
   ]
  },
  {
   "cell_type": "code",
   "execution_count": 34,
   "id": "ced1a709",
   "metadata": {},
   "outputs": [],
   "source": [
    "def on_generation(ga):\n",
    "    print(\"Generation\", ga.generations_completed)"
   ]
  },
  {
   "cell_type": "code",
   "execution_count": 35,
   "id": "09e07237",
   "metadata": {},
   "outputs": [],
   "source": [
    "def crossover_func(parents, offspring_size, ga_instance):\n",
    "    offspring = []\n",
    "    idx = 0\n",
    "    while len(offspring) != offspring_size[0]:\n",
    "        childP1 = []\n",
    "        childP2 = []\n",
    "        parent1 = parents[idx % parents.shape[0], :].copy()\n",
    "        parent2 = parents[(idx + 1) % parents.shape[0], :].copy()\n",
    "        \n",
    "        geneA = int(random.random() * len(parent1))\n",
    "        geneB = int(random.random() * len(parent1))\n",
    "    \n",
    "        startGene = min(geneA, geneB)\n",
    "        endGene = max(geneA, geneB)\n",
    "\n",
    "        for i in range(startGene, endGene):\n",
    "            childP1.append(parent1[i])\n",
    "            \n",
    "        childP2 = [item for item in parent2 if item not in childP1]\n",
    "        \n",
    "        offspring.append(np.array(childP1+childP2))\n",
    "\n",
    "        idx += 1\n",
    "\n",
    "    return np.array(offspring)"
   ]
  },
  {
   "cell_type": "code",
   "execution_count": 36,
   "id": "5e727bb5",
   "metadata": {},
   "outputs": [],
   "source": [
    "def mutation_func(offspring, ga_instance):\n",
    "    for chromosome_idx in range(offspring.shape[0]):\n",
    "        idx1 = np.random.choice(range(offspring.shape[1]), size=1)\n",
    "        idx2 = np.random.choice([i for i in range(offspring.shape[1]) if i!=idx1], size=1)\n",
    "        prob = random.random()\n",
    "        if prob<ga_instance.mutation_percent_genes/2:\n",
    "            offspring[chromosome_idx,idx1],offspring[chromosome_idx,idx2]  = offspring[chromosome_idx,idx2],offspring[chromosome_idx,idx1]\n",
    "        elif prob>ga.mutation_percent_genes/2 and prob<ga.mutation_percent_genes:\n",
    "            gene1 = offspring[chromosome_idx,idx1][0]\n",
    "            frequency = ga_instance.frequency_dict.get(gene1)\n",
    "            most_frequent = np.argsort(frequency)[::-1][:ga_instance.n_frequency_to_get]\n",
    "            probs = frequency[most_frequent]\n",
    "            probs = probs/probs.sum()\n",
    "            gene2 = np.random.choice(most_frequent, p=probs, size=1)+1\n",
    "            idx2 = np.ravel(np.where(offspring[chromosome_idx,:]==gene2))[0]\n",
    "            if idx1==offsping.shape[1]:\n",
    "                idx1-=1\n",
    "            else:\n",
    "                idx+=1 \n",
    "            offspring[chromosome_idx,idx1],offspring[chromosome_idx,idx2]  = offspring[chromosome_idx,idx2],offspring[chromosome_idx,idx1]\n",
    "\n",
    "\n",
    "    return offspring"
   ]
  },
  {
   "cell_type": "code",
   "execution_count": 37,
   "id": "ef2b3e41",
   "metadata": {},
   "outputs": [],
   "source": [
    "ga_instance = pygad.GA(num_generations=num_generations,\n",
    "                       num_genes=num_genes,\n",
    "                       mutation_percent_genes = mutation_percent_genes, \n",
    "                       initial_population=population_list,\n",
    "                       parent_selection_type=parent_selection_type,\n",
    "                       sol_per_pop = len(population_list),\n",
    "                       gene_space = gene_space,\n",
    "                       num_parents_mating=num_parents_mating,\n",
    "                       mutation_type=mutation_func,\n",
    "                       fitness_func=fitness_function,\n",
    "                       crossover_type=crossover_func,\n",
    "                       gene_type=int,\n",
    "                       on_generation=on_generation,\n",
    "                       allow_duplicate_genes=False, \n",
    "                      save_best_solutions=False)"
   ]
  },
  {
   "cell_type": "code",
   "execution_count": null,
   "id": "d4b2db7f",
   "metadata": {},
   "outputs": [],
   "source": []
  },
  {
   "cell_type": "code",
   "execution_count": 38,
   "id": "93938031",
   "metadata": {
    "scrolled": true
   },
   "outputs": [
    {
     "name": "stdout",
     "output_type": "stream",
     "text": [
      "Generation 1\n",
      "[[  2 116  42 ...  93   8  66]\n",
      " [ 83  98  21 ...  93 120  66]\n",
      " [ 44  26  50 ...   8 120  66]\n",
      " ...\n",
      " [ 17  78 122 ...   8 120  66]\n",
      " [ 59 110  58 ...   8 120  66]\n",
      " [ 23  15  29 ...   8 120  50]]\n",
      "Generation 2\n",
      "[[  2 116  42 ...  93   8  66]\n",
      " [ 83  98  21 ...  93 120  66]\n",
      " [ 44  26  50 ...   8 120  66]\n",
      " ...\n",
      " [ 57 131  30 ...   8 120  66]\n",
      " [ 91  46  54 ...   8 120  66]\n",
      " [ 59 110  58 ... 131  74  66]]\n",
      "Generation 3\n",
      "[[  2 116  42 ...  93   8  66]\n",
      " [ 83  98  21 ...  93 120  66]\n",
      " [ 44  26  50 ...   8 120  66]\n",
      " ...\n",
      " [ 86  23  94 ...   8 120  66]\n",
      " [ 28  12  60 ...   8 120  66]\n",
      " [121   6 108 ...   8 120  66]]\n",
      "Generation 4\n",
      "[[  2 116  42 ...  93   8  66]\n",
      " [ 83  98  21 ...  93 120  66]\n",
      " [ 44  26  50 ...   8 120  66]\n",
      " ...\n",
      " [ 25  51  12 ...  93 120  66]\n",
      " [  3   7  57 ...   8 120  66]\n",
      " [ 40  68  64 ...   8 120  66]]\n",
      "Generation 5\n",
      "[[  2 116  42 ...  93   8  66]\n",
      " [ 83  98  21 ...  93 120  66]\n",
      " [ 44  26  50 ...   8 120  66]\n",
      " ...\n",
      " [107  43 118 ...   8 120  66]\n",
      " [105  23  45 ...  93 120  66]\n",
      " [ 95  75  38 ... 124 120  66]]\n",
      "Generation 6\n",
      "[[  2 116  42 ...  93   8  66]\n",
      " [ 83  98  21 ...  93 120  66]\n",
      " [ 83  98  21 ...  93 120  66]\n",
      " ...\n",
      " [ 98  21 130 ...  93 120  66]\n",
      " [ 25  51  12 ...  93 120  66]\n",
      " [ 92  82  71 ...  93 120  66]]\n",
      "Generation 7\n",
      "[[ 83  98  21 ...  93 120  66]\n",
      " [  2 116  42 ...  93   8  66]\n",
      " [ 83  98  21 ...  93 120  66]\n",
      " ...\n",
      " [ 32  25  51 ...  93 120  66]\n",
      " [100  33  37 ...  93 120  66]\n",
      " [ 95  75  38 ...   8 120  66]]\n",
      "Generation 8\n",
      "[[ 83  98  21 ...  93 120  66]\n",
      " [  2 116  42 ...  93   8  66]\n",
      " [ 83  98  21 ...  93 120  66]\n",
      " ...\n",
      " [ 20 118  80 ... 124  93  66]\n",
      " [ 90  17  78 ...  93 120  66]\n",
      " [ 82  98  91 ...   8 120  66]]\n",
      "Generation 9\n",
      "[[ 83  98  21 ...  93 120  66]\n",
      " [  2 116  42 ...  93   8  66]\n",
      " [ 83  98  21 ...  93 120  66]\n",
      " ...\n",
      " [  5  67  81 ...  93 120  66]\n",
      " [ 48  47 132 ...  93 120  66]\n",
      " [ 29   3   7 ...  37  43  66]]\n",
      "Generation 10\n",
      "[[ 83  98  21 ...  93 120  66]\n",
      " [  2 116  42 ...  93   8  66]\n",
      " [ 83  98  21 ...  93 120  66]\n",
      " ...\n",
      " [ 92  82  71 ...  93 120  66]\n",
      " [ 50 126  79 ...  93 120  66]\n",
      " [117  48  47 ...   8 120  66]]\n",
      "Generation 11\n",
      "[[ 83  98  21 ...  93 120  66]\n",
      " [  2 116  42 ...  93   8  66]\n",
      " [ 83  98  21 ...  93 120  66]\n",
      " ...\n",
      " [ 69 123  44 ...  93 120  66]\n",
      " [ 54  56  82 ...  93 120  66]\n",
      " [ 21 130  32 ...   8 120  66]]\n",
      "Generation 12\n",
      "[[ 83  98  21 ...  93 120  66]\n",
      " [  2 116  42 ...  93   8  66]\n",
      " [ 83  98  21 ...  93 120  66]\n",
      " ...\n",
      " [ 87  91  46 ...  93 120  66]\n",
      " [112 115  86 ...  62  56  66]\n",
      " [ 87  95  75 ...  93 120  66]]\n",
      "Generation 13\n",
      "[[ 83  98  21 ...  93 120  66]\n",
      " [  2 116  42 ...  93   8  66]\n",
      " [ 83  98  21 ...  93 120  66]\n",
      " ...\n",
      " [107  20 118 ...  93 120  66]\n",
      " [ 43 118  15 ...  93 120  66]\n",
      " [ 82  71  91 ...   8  48  66]]\n",
      "Generation 14\n",
      "[[ 83  98  21 ...  93 120  66]\n",
      " [ 83  98  21 ...  93 120  66]\n",
      " [  2 116  42 ...  93   8  66]\n",
      " ...\n",
      " [ 81 119   4 ... 124  93  66]\n",
      " [  3   7  48 ...  93 120  66]\n",
      " [131   8  59 ...  93 120  66]]\n",
      "Generation 15\n",
      "[[ 83  98  21 ...  93 120  66]\n",
      " [ 83  98  21 ...  93 120  66]\n",
      " [  2 116  42 ...  93   8  66]\n",
      " ...\n",
      " [ 56  76  65 ...  93   8  66]\n",
      " [ 88  72  13 ...  93 120  66]\n",
      " [103  83  98 ...  93 120  66]]\n",
      "Generation 16\n",
      "[[ 83  98  21 ...  93 120  66]\n",
      " [ 83  98  21 ...  93 120  66]\n",
      " [  2 116  42 ...  93   8  66]\n",
      " ...\n",
      " [ 21 130  32 ...  93   8  66]\n",
      " [ 79  70  33 ...  93 120  66]\n",
      " [109  70  67 ...  93 120  66]]\n",
      "Generation 17\n",
      "[[ 83  98  21 ...  93 120  66]\n",
      " [ 83  98  21 ...  63 120  66]\n",
      " [ 83  98  21 ...  93 120  66]\n",
      " ...\n",
      " [ 89   5  88 ...  93 120  66]\n",
      " [114  80  87 ... 124  93  66]\n",
      " [130  32  25 ...  93 120  66]]\n",
      "Generation 18\n",
      "[[ 83  98  21 ...  93 120  66]\n",
      " [ 83  98  21 ...  63 120  66]\n",
      " [ 83  98  21 ...  93 120  66]\n",
      " ...\n",
      " [ 26  53  85 ...  93 120  66]\n",
      " [ 17  78 122 ...  93   8  66]\n",
      " [123  44  26 ...  93 120  66]]\n",
      "Generation 19\n",
      "[[  2 116  42 ... 124  93  66]\n",
      " [ 83  98  21 ...  93 120  66]\n",
      " [ 83  98  21 ...  63 120  66]\n",
      " ...\n",
      " [ 55 125   1 ...  63 120  66]\n",
      " [ 79 100  33 ... 124  93  66]\n",
      " [114  27  69 ...  93 120  66]]\n",
      "Generation 20\n",
      "[[  2 116  42 ... 124  93  66]\n",
      " [ 83  98  21 ...  93 120  66]\n",
      " [ 83  98  21 ...  63 120  66]\n",
      " ...\n",
      " [  6 108 131 ... 124 120  66]\n",
      " [ 79 100  33 ... 124  93  66]\n",
      " [121   6 131 ...  96 102  66]]\n",
      "Generation 21\n",
      "[[  2 116  42 ... 124  93  66]\n",
      " [ 83  98  21 ...  93 120  66]\n",
      " [ 83  98  21 ...  63 120  66]\n",
      " ...\n",
      " [130  32  25 ...  63 120  66]\n",
      " [ 82  71  91 ... 124  93  66]\n",
      " [ 63 103  83 ... 110 120  66]]\n",
      "Generation 22\n",
      "[[  2 116  42 ... 124  93  66]\n",
      " [ 83  98  21 ...  93 120  66]\n",
      " [ 83  98  21 ...  63 120  66]\n",
      " ...\n",
      " [ 12  60  31 ...  63 120  66]\n",
      " [  4  18  28 ... 124  93  66]\n",
      " [ 41 129  19 ... 110 120  66]]\n",
      "Generation 23\n",
      "[[  2 116  42 ... 124  93  66]\n",
      " [ 83  98  21 ...  93 120  66]\n",
      " [ 83  98  21 ...  63 120  66]\n",
      " ...\n",
      " [ 61  83  98 ...  63 120  66]\n",
      " [ 51  12  60 ... 124  93  66]\n",
      " [  5  67  81 ... 110 120  66]]\n",
      "Generation 24\n",
      "[[  2 116  42 ... 124  93  66]\n",
      " [ 83  98  21 ...  93 120  66]\n",
      " [ 83  98  21 ...  63 120  66]\n",
      " ...\n",
      " [ 20 109  70 ...  63 120  66]\n",
      " [ 79 100  33 ... 124  93  66]\n",
      " [ 95  75 108 ... 101 124  66]]\n",
      "Generation 25\n",
      "[[  2 116  42 ... 124  93  66]\n",
      " [ 83  98  21 ...  93 120  66]\n",
      " [ 83  98  21 ...  63 120  66]\n",
      " ...\n",
      " [ 35  45 129 ...  63 120  66]\n",
      " [ 35  45 129 ... 124  93  66]\n",
      " [ 55  41 129 ... 110 120  66]]\n",
      "Generation 26\n",
      "[[  2 116  42 ... 124  93  66]\n",
      " [ 83  98  21 ...  93 120  66]\n",
      " [ 83  98  21 ...  63 120  66]\n",
      " ...\n",
      " [ 18  28 107 ...  63 120  66]\n",
      " [ 52  24  62 ... 101 124  66]\n",
      " [ 57  14  30 ... 110 120 108]]\n",
      "Generation 27\n",
      "[[  2 116  42 ... 124  93  66]\n",
      " [ 83  98  21 ...  93 120  66]\n",
      " [ 83  98  21 ...  63 120  66]\n",
      " ...\n",
      " [ 18  28 107 ...  63 120  66]\n",
      " [104 128 127 ... 124  93  66]\n",
      " [ 55  41 129 ... 110 120  66]]\n",
      "Generation 28\n",
      "[[  2 116  42 ... 124  93  66]\n",
      " [ 83  98  21 ...  93 120  66]\n",
      " [ 83  98  21 ...  63 120  66]\n",
      " ...\n",
      " [ 51  12  60 ...  63 120  66]\n",
      " [ 85  50 126 ... 124  93  66]\n",
      " [ 73 101 124 ... 110 120  66]]\n",
      "Generation 29\n",
      "[[  2 116  42 ... 124  93  66]\n",
      " [ 83  98  21 ...  93 120  66]\n",
      " [ 83  98  21 ...  63 120  66]\n",
      " ...\n",
      " [  1  19  27 ...  63 120  66]\n",
      " [118  15  29 ... 124  93  66]\n",
      " [ 28 107  20 ... 124 120  66]]\n",
      "Generation 30\n",
      "[[  2 116  42 ... 124  93  66]\n",
      " [130  32  25 ...  93 120  66]\n",
      " [ 83  98  21 ...  93 120  66]\n",
      " ...\n",
      " [ 22 106 105 ...  93 120  66]\n",
      " [ 21 130  32 ...  63 120  66]\n",
      " [ 60  31  90 ... 124  93  66]]\n",
      "Generation 31\n",
      "[[  2 116  42 ... 124  93  66]\n",
      " [130  32  25 ...  93 120  66]\n",
      " [  2 116  42 ...  93 120  66]\n",
      " ...\n",
      " [ 42 114  80 ...  93 120  66]\n",
      " [122  55  41 ...  93 120  66]\n",
      " [ 75  38  22 ...  63 120  66]]\n",
      "Generation 32\n",
      "[[  2 116  42 ... 124  93  66]\n",
      " [130  32  25 ...  93 120  66]\n",
      " [  2 116  42 ...  93 120  66]\n",
      " ...\n",
      " [ 29   3   7 ...  93 120  66]\n",
      " [126  79  70 ...  93 120  66]\n",
      " [ 62 112 115 ...  63 120  66]]\n",
      "Generation 33\n",
      "[[  2 116  42 ... 124  93  66]\n",
      " [130  32  25 ...  93 120  66]\n",
      " [  2 116  42 ...  93 120  66]\n",
      " ...\n",
      " [ 44  26  53 ...  93 120  66]\n",
      " [105  38  22 ...  93 120  66]\n",
      " [ 25  51  12 ...  63 120  66]]\n",
      "Generation 34\n",
      "[[  2 116  42 ... 124  93  66]\n",
      " [130  32  25 ...  93 120  66]\n",
      " [  2 116  42 ...  93 120  66]\n",
      " ...\n",
      " [ 38  22 106 ...  93 120  66]\n",
      " [ 90  25  78 ...  93 120  66]\n",
      " [ 50 126  79 ...  63 120  66]]\n",
      "Generation 35\n",
      "[[  2 116  42 ... 124  93  66]\n",
      " [130  32  25 ...  93 120  66]\n",
      " [  2 116  42 ...  93 120  66]\n",
      " ...\n",
      " [ 62 112 115 ...  93 120  66]\n",
      " [ 95  75  87 ...  93 120  66]\n",
      " [  9  84  41 ...  63 120  66]]\n",
      "Generation 36\n",
      "[[  2 116  42 ... 124  93  66]\n",
      " [130  32  25 ...  93 120  66]\n",
      " [  2 116  42 ...  93 120  66]\n",
      " ...\n",
      " [119   4  18 ...  93 120  66]\n",
      " [ 91  46  54 ...  93 120  66]\n",
      " [ 54  56  82 ...  63 120  66]]\n",
      "Generation 37\n",
      "[[  2 116  42 ... 124  93  66]\n",
      " [130  32  25 ...  93 120  66]\n",
      " [  2 116  42 ...  93 120  66]\n",
      " ...\n",
      " [ 33  37  89 ...  93 120  66]\n",
      " [105  23  45 ...  93 120  60]\n",
      " [  5  88  81 ...  63 120  66]]\n",
      "Generation 38\n",
      "[[  2 116  42 ... 124  93  66]\n",
      " [130  32  25 ...  93 120  66]\n",
      " [  2 116  42 ...  93 120  66]\n",
      " ...\n",
      " [ 80   2 116 ...  93 120  66]\n",
      " [  4  96  28 ...  93 120  66]\n",
      " [ 63  58 103 ... 124 120  66]]\n",
      "Generation 39\n",
      "[[ 98  83  21 ...  63 120  66]\n",
      " [  2 116  42 ... 124  93  66]\n",
      " [130  32  25 ...  93 120  66]\n",
      " ...\n",
      " [  7  48 100 ... 101  93  66]\n",
      " [ 18  28 107 ...  93 120  66]\n",
      " [ 95  75  87 ...  93 120  66]]\n"
     ]
    },
    {
     "ename": "KeyboardInterrupt",
     "evalue": "",
     "output_type": "error",
     "traceback": [
      "\u001b[0;31m---------------------------------------------------------------------------\u001b[0m",
      "\u001b[0;31mKeyboardInterrupt\u001b[0m                         Traceback (most recent call last)",
      "\u001b[0;32m/var/folders/1b/4bkzt9vx5y9b7lgzr5xr4x600000gn/T/ipykernel_16822/2557701238.py\u001b[0m in \u001b[0;36m<module>\u001b[0;34m\u001b[0m\n\u001b[0;32m----> 1\u001b[0;31m \u001b[0mga_instance\u001b[0m\u001b[0;34m.\u001b[0m\u001b[0mrun\u001b[0m\u001b[0;34m(\u001b[0m\u001b[0;34m)\u001b[0m\u001b[0;34m\u001b[0m\u001b[0;34m\u001b[0m\u001b[0m\n\u001b[0m",
      "\u001b[0;32m~/envs/hackathon_env/lib/python3.9/site-packages/pygad/pygad.py\u001b[0m in \u001b[0;36mrun\u001b[0;34m(self)\u001b[0m\n\u001b[1;32m   1259\u001b[0m \u001b[0;34m\u001b[0m\u001b[0m\n\u001b[1;32m   1260\u001b[0m             \u001b[0;31m# Measuring the fitness of each chromosome in the population. Save the fitness in the last_generation_fitness attribute.\u001b[0m\u001b[0;34m\u001b[0m\u001b[0;34m\u001b[0m\u001b[0m\n\u001b[0;32m-> 1261\u001b[0;31m             \u001b[0mself\u001b[0m\u001b[0;34m.\u001b[0m\u001b[0mlast_generation_fitness\u001b[0m \u001b[0;34m=\u001b[0m \u001b[0mself\u001b[0m\u001b[0;34m.\u001b[0m\u001b[0mcal_pop_fitness\u001b[0m\u001b[0;34m(\u001b[0m\u001b[0;34m)\u001b[0m\u001b[0;34m\u001b[0m\u001b[0;34m\u001b[0m\u001b[0m\n\u001b[0m\u001b[1;32m   1262\u001b[0m \u001b[0;34m\u001b[0m\u001b[0m\n\u001b[1;32m   1263\u001b[0m             \u001b[0mbest_solution\u001b[0m\u001b[0;34m,\u001b[0m \u001b[0mbest_solution_fitness\u001b[0m\u001b[0;34m,\u001b[0m \u001b[0mbest_match_idx\u001b[0m \u001b[0;34m=\u001b[0m \u001b[0mself\u001b[0m\u001b[0;34m.\u001b[0m\u001b[0mbest_solution\u001b[0m\u001b[0;34m(\u001b[0m\u001b[0mpop_fitness\u001b[0m\u001b[0;34m=\u001b[0m\u001b[0mself\u001b[0m\u001b[0;34m.\u001b[0m\u001b[0mlast_generation_fitness\u001b[0m\u001b[0;34m)\u001b[0m\u001b[0;34m\u001b[0m\u001b[0;34m\u001b[0m\u001b[0m\n",
      "\u001b[0;32m~/envs/hackathon_env/lib/python3.9/site-packages/pygad/pygad.py\u001b[0m in \u001b[0;36mcal_pop_fitness\u001b[0;34m(self)\u001b[0m\n\u001b[1;32m   1156\u001b[0m                 \u001b[0mfitness\u001b[0m \u001b[0;34m=\u001b[0m \u001b[0mself\u001b[0m\u001b[0;34m.\u001b[0m\u001b[0mlast_generation_fitness\u001b[0m\u001b[0;34m[\u001b[0m\u001b[0mparent_idx\u001b[0m\u001b[0;34m]\u001b[0m\u001b[0;34m\u001b[0m\u001b[0;34m\u001b[0m\u001b[0m\n\u001b[1;32m   1157\u001b[0m             \u001b[0;32melse\u001b[0m\u001b[0;34m:\u001b[0m\u001b[0;34m\u001b[0m\u001b[0;34m\u001b[0m\u001b[0m\n\u001b[0;32m-> 1158\u001b[0;31m                 \u001b[0mfitness\u001b[0m \u001b[0;34m=\u001b[0m \u001b[0mself\u001b[0m\u001b[0;34m.\u001b[0m\u001b[0mfitness_func\u001b[0m\u001b[0;34m(\u001b[0m\u001b[0msol\u001b[0m\u001b[0;34m,\u001b[0m \u001b[0msol_idx\u001b[0m\u001b[0;34m)\u001b[0m\u001b[0;34m\u001b[0m\u001b[0;34m\u001b[0m\u001b[0m\n\u001b[0m\u001b[1;32m   1159\u001b[0m             \u001b[0mpop_fitness\u001b[0m\u001b[0;34m.\u001b[0m\u001b[0mappend\u001b[0m\u001b[0;34m(\u001b[0m\u001b[0mfitness\u001b[0m\u001b[0;34m)\u001b[0m\u001b[0;34m\u001b[0m\u001b[0;34m\u001b[0m\u001b[0m\n\u001b[1;32m   1160\u001b[0m \u001b[0;34m\u001b[0m\u001b[0m\n",
      "\u001b[0;32m/var/folders/1b/4bkzt9vx5y9b7lgzr5xr4x600000gn/T/ipykernel_16822/2847422157.py\u001b[0m in \u001b[0;36mminimization_function\u001b[0;34m(x, solution_idx)\u001b[0m\n\u001b[1;32m      2\u001b[0m     \u001b[0;32mglobal\u001b[0m \u001b[0mopt_class\u001b[0m\u001b[0;34m\u001b[0m\u001b[0;34m\u001b[0m\u001b[0m\n\u001b[1;32m      3\u001b[0m     \u001b[0mdict_with_distances\u001b[0m \u001b[0;34m=\u001b[0m \u001b[0mopt_class\u001b[0m\u001b[0;34m.\u001b[0m\u001b[0mpre_compute_distances\u001b[0m\u001b[0;34m(\u001b[0m\u001b[0mopt_class\u001b[0m\u001b[0;34m.\u001b[0m\u001b[0mcreate_needed_data\u001b[0m\u001b[0;34m(\u001b[0m\u001b[0mx\u001b[0m\u001b[0;34m)\u001b[0m\u001b[0;34m)\u001b[0m\u001b[0;34m\u001b[0m\u001b[0;34m\u001b[0m\u001b[0m\n\u001b[0;32m----> 4\u001b[0;31m     \u001b[0;32mreturn\u001b[0m \u001b[0mopt_class\u001b[0m\u001b[0;34m.\u001b[0m\u001b[0mcompute_objective\u001b[0m\u001b[0;34m(\u001b[0m\u001b[0mdict_with_distances\u001b[0m\u001b[0;34m)\u001b[0m\u001b[0;34m*\u001b[0m\u001b[0;34m(\u001b[0m\u001b[0;34m-\u001b[0m\u001b[0;36m1\u001b[0m\u001b[0;34m)\u001b[0m\u001b[0;34m\u001b[0m\u001b[0;34m\u001b[0m\u001b[0m\n\u001b[0m",
      "\u001b[0;32m/var/folders/1b/4bkzt9vx5y9b7lgzr5xr4x600000gn/T/ipykernel_16822/2666242616.py\u001b[0m in \u001b[0;36mcompute_objective\u001b[0;34m(self, dict_with_distances)\u001b[0m\n\u001b[1;32m     34\u001b[0m             \u001b[0mdistance\u001b[0m\u001b[0;34m,\u001b[0m\u001b[0mto_exclude\u001b[0m\u001b[0;34m,\u001b[0m \u001b[0mlen_section\u001b[0m \u001b[0;34m=\u001b[0m \u001b[0mv\u001b[0m\u001b[0;34m[\u001b[0m\u001b[0;36m0\u001b[0m\u001b[0;34m]\u001b[0m\u001b[0;34m\u001b[0m\u001b[0;34m\u001b[0m\u001b[0m\n\u001b[1;32m     35\u001b[0m             \u001b[0mtime_get_goods\u001b[0m \u001b[0;34m=\u001b[0m \u001b[0mv\u001b[0m\u001b[0;34m[\u001b[0m\u001b[0;36m1\u001b[0m\u001b[0;34m]\u001b[0m\u001b[0;34m\u001b[0m\u001b[0;34m\u001b[0m\u001b[0m\n\u001b[0;32m---> 36\u001b[0;31m             \u001b[0mobjective\u001b[0m\u001b[0;34m+=\u001b[0m\u001b[0mloss\u001b[0m\u001b[0;34m(\u001b[0m\u001b[0mdistance\u001b[0m\u001b[0;34m,\u001b[0m\u001b[0mto_exclude\u001b[0m\u001b[0;34m,\u001b[0m \u001b[0mlen_section\u001b[0m\u001b[0;34m,\u001b[0m \u001b[0mtime_get_goods\u001b[0m\u001b[0;34m,\u001b[0m \u001b[0mself\u001b[0m\u001b[0;34m.\u001b[0m\u001b[0mevaluate\u001b[0m\u001b[0;34m)\u001b[0m\u001b[0;34m\u001b[0m\u001b[0;34m\u001b[0m\u001b[0m\n\u001b[0m\u001b[1;32m     37\u001b[0m         \u001b[0;32mreturn\u001b[0m \u001b[0mobjective\u001b[0m\u001b[0;34m\u001b[0m\u001b[0;34m\u001b[0m\u001b[0m\n\u001b[1;32m     38\u001b[0m \u001b[0;34m\u001b[0m\u001b[0m\n",
      "\u001b[0;32m/var/folders/1b/4bkzt9vx5y9b7lgzr5xr4x600000gn/T/ipykernel_16822/298448564.py\u001b[0m in \u001b[0;36mloss\u001b[0;34m(distances, to_exclude, len_sections, time_get_goods, evaluate)\u001b[0m\n\u001b[1;32m      1\u001b[0m \u001b[0;32mdef\u001b[0m \u001b[0mloss\u001b[0m\u001b[0;34m(\u001b[0m\u001b[0mdistances\u001b[0m\u001b[0;34m,\u001b[0m \u001b[0mto_exclude\u001b[0m\u001b[0;34m,\u001b[0m\u001b[0mlen_sections\u001b[0m\u001b[0;34m,\u001b[0m \u001b[0mtime_get_goods\u001b[0m\u001b[0;34m,\u001b[0m \u001b[0mevaluate\u001b[0m\u001b[0;34m=\u001b[0m\u001b[0;32mFalse\u001b[0m\u001b[0;34m)\u001b[0m\u001b[0;34m:\u001b[0m\u001b[0;34m\u001b[0m\u001b[0;34m\u001b[0m\u001b[0m\n\u001b[1;32m      2\u001b[0m     \u001b[0;31m#finding best path dist\u001b[0m\u001b[0;34m\u001b[0m\u001b[0;34m\u001b[0m\u001b[0m\n\u001b[0;32m----> 3\u001b[0;31m     \u001b[0mbest_path_dist\u001b[0m \u001b[0;34m=\u001b[0m \u001b[0mfind_best_path_dist\u001b[0m\u001b[0;34m(\u001b[0m\u001b[0mdistances\u001b[0m\u001b[0;34m,\u001b[0m\u001b[0mlen_sections\u001b[0m\u001b[0;34m,\u001b[0m \u001b[0mevaluate\u001b[0m\u001b[0;34m)\u001b[0m\u001b[0;34m\u001b[0m\u001b[0;34m\u001b[0m\u001b[0m\n\u001b[0m\u001b[1;32m      4\u001b[0m     \u001b[0;31m#finding time to spend on taking goods\u001b[0m\u001b[0;34m\u001b[0m\u001b[0;34m\u001b[0m\u001b[0m\n\u001b[1;32m      5\u001b[0m     \u001b[0mloss_\u001b[0m \u001b[0;34m=\u001b[0m \u001b[0mtime_get_goods\u001b[0m\u001b[0;34m+\u001b[0m\u001b[0mbest_path_dist\u001b[0m\u001b[0;34m-\u001b[0m\u001b[0mto_exclude\u001b[0m\u001b[0;34m\u001b[0m\u001b[0;34m\u001b[0m\u001b[0m\n",
      "\u001b[0;32m/var/folders/1b/4bkzt9vx5y9b7lgzr5xr4x600000gn/T/ipykernel_16822/1333695676.py\u001b[0m in \u001b[0;36mfind_best_path_dist\u001b[0;34m(distances, len_sections, evaluate)\u001b[0m\n\u001b[1;32m      3\u001b[0m     \u001b[0mproblem_fit\u001b[0m \u001b[0;34m=\u001b[0m \u001b[0mmlrose\u001b[0m\u001b[0;34m.\u001b[0m\u001b[0mTSPOpt\u001b[0m\u001b[0;34m(\u001b[0m\u001b[0mlength\u001b[0m \u001b[0;34m=\u001b[0m \u001b[0mlen_sections\u001b[0m\u001b[0;34m,\u001b[0m \u001b[0mfitness_fn\u001b[0m \u001b[0;34m=\u001b[0m \u001b[0mfitness_dists\u001b[0m\u001b[0;34m,\u001b[0m \u001b[0mmaximize\u001b[0m\u001b[0;34m=\u001b[0m\u001b[0;32mFalse\u001b[0m\u001b[0;34m)\u001b[0m\u001b[0;34m\u001b[0m\u001b[0;34m\u001b[0m\u001b[0m\n\u001b[1;32m      4\u001b[0m     \u001b[0;32mif\u001b[0m \u001b[0;32mnot\u001b[0m \u001b[0mevaluate\u001b[0m\u001b[0;34m:\u001b[0m\u001b[0;34m\u001b[0m\u001b[0;34m\u001b[0m\u001b[0m\n\u001b[0;32m----> 5\u001b[0;31m         \u001b[0mbest_state\u001b[0m\u001b[0;34m,\u001b[0m \u001b[0mbest_fitness\u001b[0m \u001b[0;34m=\u001b[0m \u001b[0mmlrose\u001b[0m\u001b[0;34m.\u001b[0m\u001b[0mrandom_hill_climb\u001b[0m\u001b[0;34m(\u001b[0m\u001b[0mproblem_fit\u001b[0m\u001b[0;34m,\u001b[0m \u001b[0mrandom_state\u001b[0m \u001b[0;34m=\u001b[0m \u001b[0;36m0\u001b[0m\u001b[0;34m,\u001b[0m \u001b[0mmax_iters\u001b[0m\u001b[0;34m=\u001b[0m\u001b[0;36m4\u001b[0m\u001b[0;34m,\u001b[0m \u001b[0mrestarts\u001b[0m\u001b[0;34m=\u001b[0m\u001b[0;36m1\u001b[0m\u001b[0;34m,\u001b[0m \u001b[0mmax_attempts\u001b[0m\u001b[0;34m=\u001b[0m\u001b[0;36m12\u001b[0m\u001b[0;34m)\u001b[0m\u001b[0;34m\u001b[0m\u001b[0;34m\u001b[0m\u001b[0m\n\u001b[0m\u001b[1;32m      6\u001b[0m     \u001b[0;32melse\u001b[0m\u001b[0;34m:\u001b[0m\u001b[0;34m\u001b[0m\u001b[0;34m\u001b[0m\u001b[0m\n\u001b[1;32m      7\u001b[0m         \u001b[0mbest_state\u001b[0m\u001b[0;34m,\u001b[0m \u001b[0mbest_fitness\u001b[0m \u001b[0;34m=\u001b[0m \u001b[0mmlrose\u001b[0m\u001b[0;34m.\u001b[0m\u001b[0mrandom_hill_climb\u001b[0m\u001b[0;34m(\u001b[0m\u001b[0mproblem_fit\u001b[0m\u001b[0;34m,\u001b[0m \u001b[0mrandom_state\u001b[0m \u001b[0;34m=\u001b[0m \u001b[0;36m0\u001b[0m\u001b[0;34m,\u001b[0m \u001b[0mmax_iters\u001b[0m\u001b[0;34m=\u001b[0m\u001b[0;36m100\u001b[0m\u001b[0;34m,\u001b[0m \u001b[0mrestarts\u001b[0m\u001b[0;34m=\u001b[0m\u001b[0;36m5\u001b[0m\u001b[0;34m,\u001b[0m \u001b[0mmax_attempts\u001b[0m\u001b[0;34m=\u001b[0m\u001b[0;36m30\u001b[0m\u001b[0;34m)\u001b[0m\u001b[0;34m\u001b[0m\u001b[0;34m\u001b[0m\u001b[0m\n",
      "\u001b[0;32m~/envs/hackathon_env/lib/python3.9/site-packages/mlrose/algorithms.py\u001b[0m in \u001b[0;36mrandom_hill_climb\u001b[0;34m(problem, max_attempts, max_iters, restarts, init_state, curve, random_state)\u001b[0m\n\u001b[1;32m    195\u001b[0m \u001b[0;34m\u001b[0m\u001b[0m\n\u001b[1;32m    196\u001b[0m             \u001b[0;31m# Find random neighbor and evaluate fitness\u001b[0m\u001b[0;34m\u001b[0m\u001b[0;34m\u001b[0m\u001b[0m\n\u001b[0;32m--> 197\u001b[0;31m             \u001b[0mnext_state\u001b[0m \u001b[0;34m=\u001b[0m \u001b[0mproblem\u001b[0m\u001b[0;34m.\u001b[0m\u001b[0mrandom_neighbor\u001b[0m\u001b[0;34m(\u001b[0m\u001b[0;34m)\u001b[0m\u001b[0;34m\u001b[0m\u001b[0;34m\u001b[0m\u001b[0m\n\u001b[0m\u001b[1;32m    198\u001b[0m             \u001b[0mnext_fitness\u001b[0m \u001b[0;34m=\u001b[0m \u001b[0mproblem\u001b[0m\u001b[0;34m.\u001b[0m\u001b[0meval_fitness\u001b[0m\u001b[0;34m(\u001b[0m\u001b[0mnext_state\u001b[0m\u001b[0;34m)\u001b[0m\u001b[0;34m\u001b[0m\u001b[0;34m\u001b[0m\u001b[0m\n\u001b[1;32m    199\u001b[0m \u001b[0;34m\u001b[0m\u001b[0m\n",
      "\u001b[0;32m~/envs/hackathon_env/lib/python3.9/site-packages/mlrose/opt_probs.py\u001b[0m in \u001b[0;36mrandom_neighbor\u001b[0;34m(self)\u001b[0m\n\u001b[1;32m   1028\u001b[0m             \u001b[0mState\u001b[0m \u001b[0mvector\u001b[0m \u001b[0mof\u001b[0m \u001b[0mrandom\u001b[0m \u001b[0mneighbor\u001b[0m\u001b[0;34m.\u001b[0m\u001b[0;34m\u001b[0m\u001b[0;34m\u001b[0m\u001b[0m\n\u001b[1;32m   1029\u001b[0m         \"\"\"\n\u001b[0;32m-> 1030\u001b[0;31m         \u001b[0mneighbor\u001b[0m \u001b[0;34m=\u001b[0m \u001b[0mnp\u001b[0m\u001b[0;34m.\u001b[0m\u001b[0mcopy\u001b[0m\u001b[0;34m(\u001b[0m\u001b[0mself\u001b[0m\u001b[0;34m.\u001b[0m\u001b[0mstate\u001b[0m\u001b[0;34m)\u001b[0m\u001b[0;34m\u001b[0m\u001b[0;34m\u001b[0m\u001b[0m\n\u001b[0m\u001b[1;32m   1031\u001b[0m         node1, node2 = np.random.choice(np.arange(self.length),\n\u001b[1;32m   1032\u001b[0m                                         size=2, replace=False)\n",
      "\u001b[0;32m<__array_function__ internals>\u001b[0m in \u001b[0;36mcopy\u001b[0;34m(*args, **kwargs)\u001b[0m\n",
      "\u001b[0;32m~/envs/hackathon_env/lib/python3.9/site-packages/numpy/lib/function_base.py\u001b[0m in \u001b[0;36mcopy\u001b[0;34m(a, order, subok)\u001b[0m\n\u001b[1;32m    802\u001b[0m \u001b[0;34m\u001b[0m\u001b[0m\n\u001b[1;32m    803\u001b[0m     \"\"\"\n\u001b[0;32m--> 804\u001b[0;31m     \u001b[0;32mreturn\u001b[0m \u001b[0marray\u001b[0m\u001b[0;34m(\u001b[0m\u001b[0ma\u001b[0m\u001b[0;34m,\u001b[0m \u001b[0morder\u001b[0m\u001b[0;34m=\u001b[0m\u001b[0morder\u001b[0m\u001b[0;34m,\u001b[0m \u001b[0msubok\u001b[0m\u001b[0;34m=\u001b[0m\u001b[0msubok\u001b[0m\u001b[0;34m,\u001b[0m \u001b[0mcopy\u001b[0m\u001b[0;34m=\u001b[0m\u001b[0;32mTrue\u001b[0m\u001b[0;34m)\u001b[0m\u001b[0;34m\u001b[0m\u001b[0;34m\u001b[0m\u001b[0m\n\u001b[0m\u001b[1;32m    805\u001b[0m \u001b[0;34m\u001b[0m\u001b[0m\n\u001b[1;32m    806\u001b[0m \u001b[0;31m# Basic operations\u001b[0m\u001b[0;34m\u001b[0m\u001b[0;34m\u001b[0m\u001b[0m\n",
      "\u001b[0;31mKeyboardInterrupt\u001b[0m: "
     ]
    }
   ],
   "source": [
    "ga_instance.run()\n"
   ]
  },
  {
   "cell_type": "code",
   "execution_count": null,
   "id": "85368dda",
   "metadata": {},
   "outputs": [],
   "source": [
    "solution, solution_fitness, solution_idx = ga_instance.best_solution()\n",
    "print(\"best_solution: {solution}\".format(solution =solution)) "
   ]
  },
  {
   "cell_type": "code",
   "execution_count": null,
   "id": "b61c8166",
   "metadata": {},
   "outputs": [],
   "source": [
    "solution"
   ]
  },
  {
   "cell_type": "code",
   "execution_count": null,
   "id": "695d9a21",
   "metadata": {},
   "outputs": [],
   "source": [
    "solution_fitness"
   ]
  },
  {
   "cell_type": "code",
   "execution_count": null,
   "id": "193ee592",
   "metadata": {},
   "outputs": [],
   "source": [
    "minimization_function(solution,0)"
   ]
  },
  {
   "cell_type": "code",
   "execution_count": null,
   "id": "a59f0468",
   "metadata": {},
   "outputs": [],
   "source": [
    "fitnesses = ga_instance.best_solutions_fitness"
   ]
  },
  {
   "cell_type": "code",
   "execution_count": null,
   "id": "131eac2f",
   "metadata": {},
   "outputs": [],
   "source": [
    "plt.plot(np.negative(fitnesses))"
   ]
  },
  {
   "cell_type": "code",
   "execution_count": null,
   "id": "de639182",
   "metadata": {},
   "outputs": [],
   "source": [
    "ga_instance.save('ga_trained.model')"
   ]
  },
  {
   "cell_type": "markdown",
   "id": "996a5098",
   "metadata": {},
   "source": [
    "# Scoring"
   ]
  },
  {
   "cell_type": "code",
   "execution_count": 41,
   "id": "1d072099",
   "metadata": {},
   "outputs": [],
   "source": [
    "ga_instance = pygad.load('ga_trained.model')"
   ]
  },
  {
   "cell_type": "code",
   "execution_count": 43,
   "id": "b3786ae0",
   "metadata": {},
   "outputs": [],
   "source": [
    "fitnesses = ga_instance.best_solutions_fitness"
   ]
  },
  {
   "cell_type": "code",
   "execution_count": 44,
   "id": "f6269f71",
   "metadata": {},
   "outputs": [
    {
     "data": {
      "text/plain": [
       "[<matplotlib.lines.Line2D at 0x11c90fee0>]"
      ]
     },
     "execution_count": 44,
     "metadata": {},
     "output_type": "execute_result"
    },
    {
     "data": {
      "image/png": "[encoded data removed]",
      "text/plain": [
       "<Figure size 432x288 with 1 Axes>"
      ]
     },
     "metadata": {
      "needs_background": "light"
     },
     "output_type": "display_data"
    }
   ],
   "source": [
    "plt.plot(np.negative(fitnesses))"
   ]
  },
  {
   "cell_type": "code",
   "execution_count": 45,
   "id": "3cfc569a",
   "metadata": {},
   "outputs": [],
   "source": [
    "solution = [  2, 116,  42,  57,  14,  30, 114,  27,  69, 123,  51,  26,  53,\n",
    "        98,  21, 130,  32,  25,  44,  12,  60,  83,  31,  90,  17,  78,\n",
    "       122,  55,  41, 129,  19,  94,  50, 126,  79,  70,  33,  37,  89,\n",
    "         5,  67,  81,  15,  29, 106,   3,   7,  48, 100, 119,   4,  96,\n",
    "        28, 107,  20, 118,  80,  87,  95,  75, 108,  38,  22, 105,  23,\n",
    "        45,   1,  76, 110,  64,  77,   9,  84,  91,  46,  54,  92,  82,\n",
    "        71, 125,  39,  10,  99, 102, 121,   6, 131,  74,  59,  68,  58,\n",
    "        24,  62, 112, 115,  86,  35,  85,  49, 104, 128, 127,  11,  97,\n",
    "        43, 109,  88,  72,  13,  61,  36, 117,  52, 120,  47, 132,  34,\n",
    "        18, 111, 113,  63,  16, 103,  56,  40,  65,  73, 101, 124,  93,\n",
    "         8,  66]"
   ]
  },
  {
   "cell_type": "code",
   "execution_count": 57,
   "id": "633644a1",
   "metadata": {},
   "outputs": [],
   "source": [
    "opt_class = Optimization(cheque_df=pd.read_csv('cheques_public.csv', sep=';'), test_sub=pd.read_csv('darkstore_map.csv', sep=';'), \n",
    "            graph=g, all_distances=all_distances, evaluate=True)\n"
   ]
  },
  {
   "cell_type": "code",
   "execution_count": 63,
   "id": "a7ee7195",
   "metadata": {},
   "outputs": [],
   "source": [
    "initial = pd.read_csv('test_sub_new.csv', sep=';')['LAGERID'].values"
   ]
  },
  {
   "cell_type": "code",
   "execution_count": 60,
   "id": "bfe7932b",
   "metadata": {},
   "outputs": [
    {
     "name": "stderr",
     "output_type": "stream",
     "text": [
      "100%|███████████████████████████████████████| 5822/5822 [21:59<00:00,  4.41it/s]\n"
     ]
    },
    {
     "data": {
      "text/plain": [
       "-387655.0"
      ]
     },
     "execution_count": 60,
     "metadata": {},
     "output_type": "execute_result"
    }
   ],
   "source": [
    "minimization_function(solution,0)"
   ]
  },
  {
   "cell_type": "code",
   "execution_count": 64,
   "id": "3dae6d8c",
   "metadata": {},
   "outputs": [
    {
     "name": "stderr",
     "output_type": "stream",
     "text": [
      "100%|███████████████████████████████████████| 5822/5822 [21:41<00:00,  4.47it/s]\n"
     ]
    },
    {
     "data": {
      "text/plain": [
       "-394720.0"
      ]
     },
     "execution_count": 64,
     "metadata": {},
     "output_type": "execute_result"
    }
   ],
   "source": [
    "minimization_function(initial,0)"
   ]
  },
  {
   "cell_type": "markdown",
   "id": "8bf907a6",
   "metadata": {},
   "source": [
    "# Darkstore map"
   ]
  },
  {
   "cell_type": "code",
   "execution_count": 50,
   "id": "60d31a28",
   "metadata": {},
   "outputs": [],
   "source": [
    "sub = pd.read_csv('darkstore_map.csv', sep=';')"
   ]
  },
  {
   "cell_type": "code",
   "execution_count": 51,
   "id": "021d29fc",
   "metadata": {},
   "outputs": [],
   "source": [
    "sub['LAGERID'] = solution"
   ]
  },
  {
   "cell_type": "code",
   "execution_count": 52,
   "id": "bdfa5651",
   "metadata": {},
   "outputs": [],
   "source": [
    "sub.to_csv('final_submission.csv', index=False, sep=';')"
   ]
  },
  {
   "cell_type": "code",
   "execution_count": 54,
   "id": "110cffb1",
   "metadata": {},
   "outputs": [
    {
     "data": {
      "text/plain": [
       "132"
      ]
     },
     "execution_count": 54,
     "metadata": {},
     "output_type": "execute_result"
    }
   ],
   "source": [
    "sub.LAGERID.nunique()"
   ]
  },
  {
   "cell_type": "code",
   "execution_count": 55,
   "id": "77da9620",
   "metadata": {},
   "outputs": [
    {
     "data": {
      "text/html": [
       "<div>\n",
       "<style scoped>\n",
       "    .dataframe tbody tr th:only-of-type {\n",
       "        vertical-align: middle;\n",
       "    }\n",
       "\n",
       "    .dataframe tbody tr th {\n",
       "        vertical-align: top;\n",
       "    }\n",
       "\n",
       "    .dataframe thead th {\n",
       "        text-align: right;\n",
       "    }\n",
       "</style>\n",
       "<table border=\"1\" class=\"dataframe\">\n",
       "  <thead>\n",
       "    <tr style=\"text-align: right;\">\n",
       "      <th></th>\n",
       "      <th>SECTION</th>\n",
       "      <th>LEVEL</th>\n",
       "      <th>LAGERID</th>\n",
       "    </tr>\n",
       "  </thead>\n",
       "  <tbody>\n",
       "    <tr>\n",
       "      <th>0</th>\n",
       "      <td>1</td>\n",
       "      <td>1</td>\n",
       "      <td>2</td>\n",
       "    </tr>\n",
       "    <tr>\n",
       "      <th>1</th>\n",
       "      <td>1</td>\n",
       "      <td>2</td>\n",
       "      <td>116</td>\n",
       "    </tr>\n",
       "    <tr>\n",
       "      <th>2</th>\n",
       "      <td>1</td>\n",
       "      <td>3</td>\n",
       "      <td>42</td>\n",
       "    </tr>\n",
       "    <tr>\n",
       "      <th>3</th>\n",
       "      <td>2</td>\n",
       "      <td>1</td>\n",
       "      <td>57</td>\n",
       "    </tr>\n",
       "    <tr>\n",
       "      <th>4</th>\n",
       "      <td>2</td>\n",
       "      <td>2</td>\n",
       "      <td>14</td>\n",
       "    </tr>\n",
       "    <tr>\n",
       "      <th>...</th>\n",
       "      <td>...</td>\n",
       "      <td>...</td>\n",
       "      <td>...</td>\n",
       "    </tr>\n",
       "    <tr>\n",
       "      <th>127</th>\n",
       "      <td>43</td>\n",
       "      <td>2</td>\n",
       "      <td>101</td>\n",
       "    </tr>\n",
       "    <tr>\n",
       "      <th>128</th>\n",
       "      <td>43</td>\n",
       "      <td>3</td>\n",
       "      <td>124</td>\n",
       "    </tr>\n",
       "    <tr>\n",
       "      <th>129</th>\n",
       "      <td>44</td>\n",
       "      <td>1</td>\n",
       "      <td>93</td>\n",
       "    </tr>\n",
       "    <tr>\n",
       "      <th>130</th>\n",
       "      <td>44</td>\n",
       "      <td>2</td>\n",
       "      <td>8</td>\n",
       "    </tr>\n",
       "    <tr>\n",
       "      <th>131</th>\n",
       "      <td>44</td>\n",
       "      <td>3</td>\n",
       "      <td>66</td>\n",
       "    </tr>\n",
       "  </tbody>\n",
       "</table>\n",
       "<p>132 rows × 3 columns</p>\n",
       "</div>"
      ],
      "text/plain": [
       "     SECTION  LEVEL  LAGERID\n",
       "0          1      1        2\n",
       "1          1      2      116\n",
       "2          1      3       42\n",
       "3          2      1       57\n",
       "4          2      2       14\n",
       "..       ...    ...      ...\n",
       "127       43      2      101\n",
       "128       43      3      124\n",
       "129       44      1       93\n",
       "130       44      2        8\n",
       "131       44      3       66\n",
       "\n",
       "[132 rows x 3 columns]"
      ]
     },
     "execution_count": 55,
     "metadata": {},
     "output_type": "execute_result"
    }
   ],
   "source": [
    "sub"
   ]
  },
  {
   "cell_type": "code",
   "execution_count": null,
   "id": "c9dd1244",
   "metadata": {},
   "outputs": [],
   "source": []
  }
 ],
 "metadata": {
  "kernelspec": {
   "display_name": "Python 3 (ipykernel)",
   "language": "python",
   "name": "python3"
  },
  "language_info": {
   "codemirror_mode": {
    "name": "ipython",
    "version": 3
   },
   "file_extension": ".py",
   "mimetype": "text/x-python",
   "name": "python",
   "nbconvert_exporter": "python",
   "pygments_lexer": "ipython3",
   "version": "3.9.7"
  }
 },
 "nbformat": 4,
 "nbformat_minor": 5
}
