{
 "cells": [
  {
   "cell_type": "code",
   "execution_count": 1,
   "id": "b6c88190",
   "metadata": {},
   "outputs": [],
   "source": [
    "import pandas as pd\n",
    "import matplotlib.pyplot as plt\n",
    "import seaborn as sns\n",
    "import numpy as np\n",
    "import tqdm\n",
    "sns.set()"
   ]
  },
  {
   "cell_type": "code",
   "execution_count": 2,
   "id": "737c08b0",
   "metadata": {},
   "outputs": [],
   "source": [
    "def change_type(df, col, type_):\n",
    "    df[col] = df[col].astype(type_)\n",
    "    return df"
   ]
  },
  {
   "cell_type": "code",
   "execution_count": 3,
   "id": "8f58cd64",
   "metadata": {},
   "outputs": [],
   "source": [
    "train_data = pd.read_csv('train_data.csv')"
   ]
  },
  {
   "cell_type": "code",
   "execution_count": 4,
   "id": "ab0de08a",
   "metadata": {},
   "outputs": [
    {
     "data": {
      "text/plain": [
       "(27956445, 17)"
      ]
     },
     "execution_count": 4,
     "metadata": {},
     "output_type": "execute_result"
    }
   ],
   "source": [
    "train_data.shape"
   ]
  },
  {
   "cell_type": "code",
   "execution_count": 5,
   "id": "2f2c763a",
   "metadata": {},
   "outputs": [
    {
     "name": "stdout",
     "output_type": "stream",
     "text": [
      "<class 'pandas.core.frame.DataFrame'>\n",
      "RangeIndex: 27956445 entries, 0 to 27956444\n",
      "Data columns (total 17 columns):\n",
      " #   Column                      Dtype  \n",
      "---  ------                      -----  \n",
      " 0   ID                          object \n",
      " 1   geoCluster                  int64  \n",
      " 2   SKU                         int64  \n",
      " 3   date                        object \n",
      " 4   sales                       float64\n",
      " 5   month                       int64  \n",
      " 6   day                         int64  \n",
      " 7   weekday                     int64  \n",
      " 8   week_num                    int64  \n",
      " 9   lagerUnitType_caption       object \n",
      " 10  commodity_group             int64  \n",
      " 11  productCategory_caption_RU  object \n",
      " 12  cityId                      int64  \n",
      " 13  price                       float64\n",
      " 14  lagerUnitQuantity           float64\n",
      " 15  lagerUnitTypeId             int64  \n",
      " 16  revanue                     float64\n",
      "dtypes: float64(4), int64(9), object(4)\n",
      "memory usage: 3.5+ GB\n"
     ]
    }
   ],
   "source": [
    "train_data.info()"
   ]
  },
  {
   "cell_type": "code",
   "execution_count": 6,
   "id": "db2c6791",
   "metadata": {},
   "outputs": [
    {
     "data": {
      "text/plain": [
       "198"
      ]
     },
     "execution_count": 6,
     "metadata": {},
     "output_type": "execute_result"
    }
   ],
   "source": [
    "train_data.commodity_group.max()"
   ]
  },
  {
   "cell_type": "code",
   "execution_count": 7,
   "id": "ee9cfedd",
   "metadata": {},
   "outputs": [
    {
     "data": {
      "text/plain": [
       "25"
      ]
     },
     "execution_count": 7,
     "metadata": {},
     "output_type": "execute_result"
    }
   ],
   "source": [
    "train_data.cityId.max()"
   ]
  },
  {
   "cell_type": "code",
   "execution_count": 8,
   "id": "cb694e87",
   "metadata": {},
   "outputs": [
    {
     "data": {
      "text/plain": [
       "6"
      ]
     },
     "execution_count": 8,
     "metadata": {},
     "output_type": "execute_result"
    }
   ],
   "source": [
    "train_data.lagerUnitTypeId.max()"
   ]
  },
  {
   "cell_type": "code",
   "execution_count": 9,
   "id": "66d57cc3",
   "metadata": {},
   "outputs": [
    {
     "data": {
      "text/plain": [
       "873803"
      ]
     },
     "execution_count": 9,
     "metadata": {},
     "output_type": "execute_result"
    }
   ],
   "source": [
    "train_data.SKU.max()"
   ]
  },
  {
   "cell_type": "code",
   "execution_count": 10,
   "id": "6ef06dc8",
   "metadata": {},
   "outputs": [
    {
     "data": {
      "text/plain": [
       "3230"
      ]
     },
     "execution_count": 10,
     "metadata": {},
     "output_type": "execute_result"
    }
   ],
   "source": [
    "train_data.geoCluster.max()"
   ]
  },
  {
   "cell_type": "code",
   "execution_count": 11,
   "id": "c9cada0f",
   "metadata": {},
   "outputs": [],
   "source": [
    "train_data = change_type(train_data, 'geoCluster', 'uint16')\n",
    "train_data = change_type(train_data, 'SKU', 'uint32')\n",
    "train_data = change_type(train_data, 'commodity_group', 'uint8')\n",
    "train_data = change_type(train_data, 'cityId', 'uint8')\n",
    "train_data = change_type(train_data, 'lagerUnitTypeId', 'uint8')"
   ]
  },
  {
   "cell_type": "code",
   "execution_count": 12,
   "id": "4bf53cb5",
   "metadata": {},
   "outputs": [
    {
     "name": "stdout",
     "output_type": "stream",
     "text": [
      "<class 'pandas.core.frame.DataFrame'>\n",
      "RangeIndex: 27956445 entries, 0 to 27956444\n",
      "Data columns (total 17 columns):\n",
      " #   Column                      Dtype  \n",
      "---  ------                      -----  \n",
      " 0   ID                          object \n",
      " 1   geoCluster                  uint16 \n",
      " 2   SKU                         uint32 \n",
      " 3   date                        object \n",
      " 4   sales                       float64\n",
      " 5   month                       int64  \n",
      " 6   day                         int64  \n",
      " 7   weekday                     int64  \n",
      " 8   week_num                    int64  \n",
      " 9   lagerUnitType_caption       object \n",
      " 10  commodity_group             uint8  \n",
      " 11  productCategory_caption_RU  object \n",
      " 12  cityId                      uint8  \n",
      " 13  price                       float64\n",
      " 14  lagerUnitQuantity           float64\n",
      " 15  lagerUnitTypeId             uint8  \n",
      " 16  revanue                     float64\n",
      "dtypes: float64(4), int64(4), object(4), uint16(1), uint32(1), uint8(3)\n",
      "memory usage: 2.7+ GB\n"
     ]
    }
   ],
   "source": [
    "train_data.info()"
   ]
  },
  {
   "cell_type": "code",
   "execution_count": 13,
   "id": "9b0a63bf",
   "metadata": {},
   "outputs": [],
   "source": [
    "sku_meta = pd.read_csv('../sku_final.csv')"
   ]
  },
  {
   "cell_type": "code",
   "execution_count": 14,
   "id": "1db96b7a",
   "metadata": {},
   "outputs": [],
   "source": [
    "geo_params = pd.read_csv('../geo_params.csv')"
   ]
  },
  {
   "cell_type": "code",
   "execution_count": 15,
   "id": "3733c04b",
   "metadata": {},
   "outputs": [],
   "source": [
    "test_data = pd.read_csv('../test_data.csv')"
   ]
  },
  {
   "cell_type": "code",
   "execution_count": 16,
   "id": "fbd374d8",
   "metadata": {},
   "outputs": [
    {
     "data": {
      "text/html": [
       "<div>\n",
       "<style scoped>\n",
       "    .dataframe tbody tr th:only-of-type {\n",
       "        vertical-align: middle;\n",
       "    }\n",
       "\n",
       "    .dataframe tbody tr th {\n",
       "        vertical-align: top;\n",
       "    }\n",
       "\n",
       "    .dataframe thead th {\n",
       "        text-align: right;\n",
       "    }\n",
       "</style>\n",
       "<table border=\"1\" class=\"dataframe\">\n",
       "  <thead>\n",
       "    <tr style=\"text-align: right;\">\n",
       "      <th></th>\n",
       "      <th>ID</th>\n",
       "      <th>geoCluster</th>\n",
       "      <th>SKU</th>\n",
       "      <th>date</th>\n",
       "      <th>price</th>\n",
       "    </tr>\n",
       "  </thead>\n",
       "  <tbody>\n",
       "    <tr>\n",
       "      <th>0</th>\n",
       "      <td>RR1666030</td>\n",
       "      <td>21</td>\n",
       "      <td>32485</td>\n",
       "      <td>2021-07-20</td>\n",
       "      <td>66.69</td>\n",
       "    </tr>\n",
       "    <tr>\n",
       "      <th>1</th>\n",
       "      <td>RR1666031</td>\n",
       "      <td>21</td>\n",
       "      <td>32485</td>\n",
       "      <td>2021-07-21</td>\n",
       "      <td>66.69</td>\n",
       "    </tr>\n",
       "    <tr>\n",
       "      <th>2</th>\n",
       "      <td>RR1666032</td>\n",
       "      <td>21</td>\n",
       "      <td>32485</td>\n",
       "      <td>2021-07-22</td>\n",
       "      <td>66.69</td>\n",
       "    </tr>\n",
       "    <tr>\n",
       "      <th>3</th>\n",
       "      <td>RR1666033</td>\n",
       "      <td>21</td>\n",
       "      <td>32485</td>\n",
       "      <td>2021-07-23</td>\n",
       "      <td>66.69</td>\n",
       "    </tr>\n",
       "    <tr>\n",
       "      <th>4</th>\n",
       "      <td>RR1666034</td>\n",
       "      <td>21</td>\n",
       "      <td>32485</td>\n",
       "      <td>2021-07-24</td>\n",
       "      <td>66.69</td>\n",
       "    </tr>\n",
       "  </tbody>\n",
       "</table>\n",
       "</div>"
      ],
      "text/plain": [
       "          ID  geoCluster    SKU        date  price\n",
       "0  RR1666030          21  32485  2021-07-20  66.69\n",
       "1  RR1666031          21  32485  2021-07-21  66.69\n",
       "2  RR1666032          21  32485  2021-07-22  66.69\n",
       "3  RR1666033          21  32485  2021-07-23  66.69\n",
       "4  RR1666034          21  32485  2021-07-24  66.69"
      ]
     },
     "execution_count": 16,
     "metadata": {},
     "output_type": "execute_result"
    }
   ],
   "source": [
    "test_data.head()"
   ]
  },
  {
   "cell_type": "code",
   "execution_count": 17,
   "id": "d3bbbb22",
   "metadata": {},
   "outputs": [],
   "source": [
    "train_data = train_data.sort_values(by=['week_num'])"
   ]
  },
  {
   "cell_type": "code",
   "execution_count": 18,
   "id": "a6189161",
   "metadata": {},
   "outputs": [
    {
     "data": {
      "text/plain": [
       "array([ 1,  2,  3,  4,  5,  6,  7,  8,  9, 10, 11, 12, 13, 14, 15, 16, 17,\n",
       "       18, 19, 20, 21, 22, 23, 24, 25, 26, 27, 28, 29, 30, 31, 32, 33, 34,\n",
       "       35, 36, 37, 38, 39, 40, 41, 42, 43, 44, 45, 46, 47, 48, 49, 50, 51,\n",
       "       52, 53])"
      ]
     },
     "execution_count": 18,
     "metadata": {},
     "output_type": "execute_result"
    }
   ],
   "source": [
    "train_data['week_num'].unique()"
   ]
  },
  {
   "cell_type": "code",
   "execution_count": 19,
   "id": "ab9d9478",
   "metadata": {},
   "outputs": [
    {
     "data": {
      "text/plain": [
       "0.24557248818772934"
      ]
     },
     "execution_count": 19,
     "metadata": {},
     "output_type": "execute_result"
    }
   ],
   "source": [
    "train_data[train_data['week_num'].isin([51,53])].sales.mean()"
   ]
  },
  {
   "cell_type": "code",
   "execution_count": 20,
   "id": "2fff4601",
   "metadata": {},
   "outputs": [
    {
     "data": {
      "text/plain": [
       "2043    12950\n",
       "2022    12558\n",
       "2049    12516\n",
       "2735    11984\n",
       "1935    11648\n",
       "        ...  \n",
       "607        14\n",
       "1690       14\n",
       "2668       14\n",
       "287        14\n",
       "459        14\n",
       "Name: geoCluster, Length: 515, dtype: int64"
      ]
     },
     "execution_count": 20,
     "metadata": {},
     "output_type": "execute_result"
    }
   ],
   "source": [
    "test_data['geoCluster'].value_counts()"
   ]
  },
  {
   "cell_type": "code",
   "execution_count": 21,
   "id": "c097cab1",
   "metadata": {},
   "outputs": [],
   "source": [
    "train_data = train_data.sort_values(by=['geoCluster', 'SKU','date'])"
   ]
  },
  {
   "cell_type": "code",
   "execution_count": 22,
   "id": "ad0334cd",
   "metadata": {},
   "outputs": [],
   "source": [
    "test_data = test_data.merge(sku_meta, on='SKU', how='inner')\n",
    "test_data = test_data.merge(geo_params, on=['geoCluster'], how='inner')"
   ]
  },
  {
   "cell_type": "code",
   "execution_count": 23,
   "id": "fc0b5224",
   "metadata": {},
   "outputs": [
    {
     "data": {
      "text/plain": [
       "(1666028, 25)"
      ]
     },
     "execution_count": 23,
     "metadata": {},
     "output_type": "execute_result"
    }
   ],
   "source": [
    "test_data.shape"
   ]
  },
  {
   "cell_type": "code",
   "execution_count": 24,
   "id": "73c233cc",
   "metadata": {},
   "outputs": [
    {
     "data": {
      "text/html": [
       "<div>\n",
       "<style scoped>\n",
       "    .dataframe tbody tr th:only-of-type {\n",
       "        vertical-align: middle;\n",
       "    }\n",
       "\n",
       "    .dataframe tbody tr th {\n",
       "        vertical-align: top;\n",
       "    }\n",
       "\n",
       "    .dataframe thead th {\n",
       "        text-align: right;\n",
       "    }\n",
       "</style>\n",
       "<table border=\"1\" class=\"dataframe\">\n",
       "  <thead>\n",
       "    <tr style=\"text-align: right;\">\n",
       "      <th></th>\n",
       "      <th>ID</th>\n",
       "      <th>geoCluster</th>\n",
       "      <th>SKU</th>\n",
       "      <th>date</th>\n",
       "      <th>price</th>\n",
       "      <th>productCategoryId</th>\n",
       "      <th>productCategory_caption_UKR</th>\n",
       "      <th>productCategory_caption_RU</th>\n",
       "      <th>productCategory_caption_ENG</th>\n",
       "      <th>productTypeId</th>\n",
       "      <th>...</th>\n",
       "      <th>lagerUnitTypeId</th>\n",
       "      <th>lagerUnitType_caption</th>\n",
       "      <th>trademark</th>\n",
       "      <th>countryOfOrigin</th>\n",
       "      <th>countryOfOrigin_caption</th>\n",
       "      <th>commodity_group</th>\n",
       "      <th>commodity_group_caption_UKR</th>\n",
       "      <th>commodity_group_caption_RU</th>\n",
       "      <th>commodity_group_caption_ENG</th>\n",
       "      <th>cityId</th>\n",
       "    </tr>\n",
       "  </thead>\n",
       "  <tbody>\n",
       "    <tr>\n",
       "      <th>0</th>\n",
       "      <td>RR1666030</td>\n",
       "      <td>21</td>\n",
       "      <td>32485</td>\n",
       "      <td>2021-07-20</td>\n",
       "      <td>66.69</td>\n",
       "      <td>5381.0</td>\n",
       "      <td>Банан</td>\n",
       "      <td>Банан</td>\n",
       "      <td>Banana</td>\n",
       "      <td>4752.0</td>\n",
       "      <td>...</td>\n",
       "      <td>1</td>\n",
       "      <td>г</td>\n",
       "      <td>NaN</td>\n",
       "      <td>NaN</td>\n",
       "      <td>NaN</td>\n",
       "      <td>5551018</td>\n",
       "      <td>Фрукти тропічні</td>\n",
       "      <td>Фрукты тропические</td>\n",
       "      <td>Tropical fruits</td>\n",
       "      <td>1</td>\n",
       "    </tr>\n",
       "    <tr>\n",
       "      <th>1</th>\n",
       "      <td>RR1666031</td>\n",
       "      <td>21</td>\n",
       "      <td>32485</td>\n",
       "      <td>2021-07-21</td>\n",
       "      <td>66.69</td>\n",
       "      <td>5381.0</td>\n",
       "      <td>Банан</td>\n",
       "      <td>Банан</td>\n",
       "      <td>Banana</td>\n",
       "      <td>4752.0</td>\n",
       "      <td>...</td>\n",
       "      <td>1</td>\n",
       "      <td>г</td>\n",
       "      <td>NaN</td>\n",
       "      <td>NaN</td>\n",
       "      <td>NaN</td>\n",
       "      <td>5551018</td>\n",
       "      <td>Фрукти тропічні</td>\n",
       "      <td>Фрукты тропические</td>\n",
       "      <td>Tropical fruits</td>\n",
       "      <td>1</td>\n",
       "    </tr>\n",
       "    <tr>\n",
       "      <th>2</th>\n",
       "      <td>RR1666032</td>\n",
       "      <td>21</td>\n",
       "      <td>32485</td>\n",
       "      <td>2021-07-22</td>\n",
       "      <td>66.69</td>\n",
       "      <td>5381.0</td>\n",
       "      <td>Банан</td>\n",
       "      <td>Банан</td>\n",
       "      <td>Banana</td>\n",
       "      <td>4752.0</td>\n",
       "      <td>...</td>\n",
       "      <td>1</td>\n",
       "      <td>г</td>\n",
       "      <td>NaN</td>\n",
       "      <td>NaN</td>\n",
       "      <td>NaN</td>\n",
       "      <td>5551018</td>\n",
       "      <td>Фрукти тропічні</td>\n",
       "      <td>Фрукты тропические</td>\n",
       "      <td>Tropical fruits</td>\n",
       "      <td>1</td>\n",
       "    </tr>\n",
       "    <tr>\n",
       "      <th>3</th>\n",
       "      <td>RR1666033</td>\n",
       "      <td>21</td>\n",
       "      <td>32485</td>\n",
       "      <td>2021-07-23</td>\n",
       "      <td>66.69</td>\n",
       "      <td>5381.0</td>\n",
       "      <td>Банан</td>\n",
       "      <td>Банан</td>\n",
       "      <td>Banana</td>\n",
       "      <td>4752.0</td>\n",
       "      <td>...</td>\n",
       "      <td>1</td>\n",
       "      <td>г</td>\n",
       "      <td>NaN</td>\n",
       "      <td>NaN</td>\n",
       "      <td>NaN</td>\n",
       "      <td>5551018</td>\n",
       "      <td>Фрукти тропічні</td>\n",
       "      <td>Фрукты тропические</td>\n",
       "      <td>Tropical fruits</td>\n",
       "      <td>1</td>\n",
       "    </tr>\n",
       "    <tr>\n",
       "      <th>4</th>\n",
       "      <td>RR1666034</td>\n",
       "      <td>21</td>\n",
       "      <td>32485</td>\n",
       "      <td>2021-07-24</td>\n",
       "      <td>66.69</td>\n",
       "      <td>5381.0</td>\n",
       "      <td>Банан</td>\n",
       "      <td>Банан</td>\n",
       "      <td>Banana</td>\n",
       "      <td>4752.0</td>\n",
       "      <td>...</td>\n",
       "      <td>1</td>\n",
       "      <td>г</td>\n",
       "      <td>NaN</td>\n",
       "      <td>NaN</td>\n",
       "      <td>NaN</td>\n",
       "      <td>5551018</td>\n",
       "      <td>Фрукти тропічні</td>\n",
       "      <td>Фрукты тропические</td>\n",
       "      <td>Tropical fruits</td>\n",
       "      <td>1</td>\n",
       "    </tr>\n",
       "  </tbody>\n",
       "</table>\n",
       "<p>5 rows × 25 columns</p>\n",
       "</div>"
      ],
      "text/plain": [
       "          ID  geoCluster    SKU        date  price  productCategoryId  \\\n",
       "0  RR1666030          21  32485  2021-07-20  66.69             5381.0   \n",
       "1  RR1666031          21  32485  2021-07-21  66.69             5381.0   \n",
       "2  RR1666032          21  32485  2021-07-22  66.69             5381.0   \n",
       "3  RR1666033          21  32485  2021-07-23  66.69             5381.0   \n",
       "4  RR1666034          21  32485  2021-07-24  66.69             5381.0   \n",
       "\n",
       "  productCategory_caption_UKR productCategory_caption_RU  \\\n",
       "0                       Банан                      Банан   \n",
       "1                       Банан                      Банан   \n",
       "2                       Банан                      Банан   \n",
       "3                       Банан                      Банан   \n",
       "4                       Банан                      Банан   \n",
       "\n",
       "  productCategory_caption_ENG  productTypeId  ... lagerUnitTypeId  \\\n",
       "0                      Banana         4752.0  ...               1   \n",
       "1                      Banana         4752.0  ...               1   \n",
       "2                      Banana         4752.0  ...               1   \n",
       "3                      Banana         4752.0  ...               1   \n",
       "4                      Banana         4752.0  ...               1   \n",
       "\n",
       "  lagerUnitType_caption trademark  countryOfOrigin  countryOfOrigin_caption  \\\n",
       "0            г                NaN              NaN                      NaN   \n",
       "1            г                NaN              NaN                      NaN   \n",
       "2            г                NaN              NaN                      NaN   \n",
       "3            г                NaN              NaN                      NaN   \n",
       "4            г                NaN              NaN                      NaN   \n",
       "\n",
       "   commodity_group commodity_group_caption_UKR  commodity_group_caption_RU  \\\n",
       "0          5551018             Фрукти тропічні          Фрукты тропические   \n",
       "1          5551018             Фрукти тропічні          Фрукты тропические   \n",
       "2          5551018             Фрукти тропічні          Фрукты тропические   \n",
       "3          5551018             Фрукти тропічні          Фрукты тропические   \n",
       "4          5551018             Фрукти тропічні          Фрукты тропические   \n",
       "\n",
       "   commodity_group_caption_ENG cityId  \n",
       "0              Tropical fruits      1  \n",
       "1              Tropical fruits      1  \n",
       "2              Tropical fruits      1  \n",
       "3              Tropical fruits      1  \n",
       "4              Tropical fruits      1  \n",
       "\n",
       "[5 rows x 25 columns]"
      ]
     },
     "execution_count": 24,
     "metadata": {},
     "output_type": "execute_result"
    }
   ],
   "source": [
    "test_data.head()"
   ]
  },
  {
   "cell_type": "code",
   "execution_count": 25,
   "id": "f947211b",
   "metadata": {},
   "outputs": [],
   "source": [
    "test_cols, train_cols = test_data.columns, train_data.columns\n",
    "cols_to_use = set(train_cols).intersection(test_cols)"
   ]
  },
  {
   "cell_type": "code",
   "execution_count": 26,
   "id": "53dd4db6",
   "metadata": {},
   "outputs": [],
   "source": [
    "test_data = test_data[cols_to_use]"
   ]
  },
  {
   "cell_type": "code",
   "execution_count": 27,
   "id": "cbae623c",
   "metadata": {},
   "outputs": [
    {
     "data": {
      "text/html": [
       "<div>\n",
       "<style scoped>\n",
       "    .dataframe tbody tr th:only-of-type {\n",
       "        vertical-align: middle;\n",
       "    }\n",
       "\n",
       "    .dataframe tbody tr th {\n",
       "        vertical-align: top;\n",
       "    }\n",
       "\n",
       "    .dataframe thead th {\n",
       "        text-align: right;\n",
       "    }\n",
       "</style>\n",
       "<table border=\"1\" class=\"dataframe\">\n",
       "  <thead>\n",
       "    <tr style=\"text-align: right;\">\n",
       "      <th></th>\n",
       "      <th>lagerUnitType_caption</th>\n",
       "      <th>productCategory_caption_RU</th>\n",
       "      <th>geoCluster</th>\n",
       "      <th>date</th>\n",
       "      <th>price</th>\n",
       "      <th>ID</th>\n",
       "      <th>lagerUnitQuantity</th>\n",
       "      <th>lagerUnitTypeId</th>\n",
       "      <th>cityId</th>\n",
       "      <th>commodity_group</th>\n",
       "      <th>SKU</th>\n",
       "    </tr>\n",
       "  </thead>\n",
       "  <tbody>\n",
       "    <tr>\n",
       "      <th>0</th>\n",
       "      <td>г</td>\n",
       "      <td>Банан</td>\n",
       "      <td>21</td>\n",
       "      <td>2021-07-20</td>\n",
       "      <td>66.69</td>\n",
       "      <td>RR1666030</td>\n",
       "      <td>1.0</td>\n",
       "      <td>1</td>\n",
       "      <td>1</td>\n",
       "      <td>5551018</td>\n",
       "      <td>32485</td>\n",
       "    </tr>\n",
       "    <tr>\n",
       "      <th>1</th>\n",
       "      <td>г</td>\n",
       "      <td>Банан</td>\n",
       "      <td>21</td>\n",
       "      <td>2021-07-21</td>\n",
       "      <td>66.69</td>\n",
       "      <td>RR1666031</td>\n",
       "      <td>1.0</td>\n",
       "      <td>1</td>\n",
       "      <td>1</td>\n",
       "      <td>5551018</td>\n",
       "      <td>32485</td>\n",
       "    </tr>\n",
       "    <tr>\n",
       "      <th>2</th>\n",
       "      <td>г</td>\n",
       "      <td>Банан</td>\n",
       "      <td>21</td>\n",
       "      <td>2021-07-22</td>\n",
       "      <td>66.69</td>\n",
       "      <td>RR1666032</td>\n",
       "      <td>1.0</td>\n",
       "      <td>1</td>\n",
       "      <td>1</td>\n",
       "      <td>5551018</td>\n",
       "      <td>32485</td>\n",
       "    </tr>\n",
       "    <tr>\n",
       "      <th>3</th>\n",
       "      <td>г</td>\n",
       "      <td>Банан</td>\n",
       "      <td>21</td>\n",
       "      <td>2021-07-23</td>\n",
       "      <td>66.69</td>\n",
       "      <td>RR1666033</td>\n",
       "      <td>1.0</td>\n",
       "      <td>1</td>\n",
       "      <td>1</td>\n",
       "      <td>5551018</td>\n",
       "      <td>32485</td>\n",
       "    </tr>\n",
       "    <tr>\n",
       "      <th>4</th>\n",
       "      <td>г</td>\n",
       "      <td>Банан</td>\n",
       "      <td>21</td>\n",
       "      <td>2021-07-24</td>\n",
       "      <td>66.69</td>\n",
       "      <td>RR1666034</td>\n",
       "      <td>1.0</td>\n",
       "      <td>1</td>\n",
       "      <td>1</td>\n",
       "      <td>5551018</td>\n",
       "      <td>32485</td>\n",
       "    </tr>\n",
       "  </tbody>\n",
       "</table>\n",
       "</div>"
      ],
      "text/plain": [
       "  lagerUnitType_caption productCategory_caption_RU  geoCluster        date  \\\n",
       "0            г                               Банан          21  2021-07-20   \n",
       "1            г                               Банан          21  2021-07-21   \n",
       "2            г                               Банан          21  2021-07-22   \n",
       "3            г                               Банан          21  2021-07-23   \n",
       "4            г                               Банан          21  2021-07-24   \n",
       "\n",
       "   price         ID  lagerUnitQuantity  lagerUnitTypeId  cityId  \\\n",
       "0  66.69  RR1666030                1.0                1       1   \n",
       "1  66.69  RR1666031                1.0                1       1   \n",
       "2  66.69  RR1666032                1.0                1       1   \n",
       "3  66.69  RR1666033                1.0                1       1   \n",
       "4  66.69  RR1666034                1.0                1       1   \n",
       "\n",
       "   commodity_group    SKU  \n",
       "0          5551018  32485  \n",
       "1          5551018  32485  \n",
       "2          5551018  32485  \n",
       "3          5551018  32485  \n",
       "4          5551018  32485  "
      ]
     },
     "execution_count": 27,
     "metadata": {},
     "output_type": "execute_result"
    }
   ],
   "source": [
    "test_data.head()"
   ]
  },
  {
   "cell_type": "code",
   "execution_count": 28,
   "id": "e31338a1",
   "metadata": {},
   "outputs": [],
   "source": [
    "full_data = pd.concat([train_data, test_data],axis=0)"
   ]
  },
  {
   "cell_type": "code",
   "execution_count": 29,
   "id": "c4ad7504",
   "metadata": {},
   "outputs": [
    {
     "data": {
      "text/plain": [
       "(29622473, 17)"
      ]
     },
     "execution_count": 29,
     "metadata": {},
     "output_type": "execute_result"
    }
   ],
   "source": [
    "full_data.shape"
   ]
  },
  {
   "cell_type": "code",
   "execution_count": 30,
   "id": "99dd4204",
   "metadata": {},
   "outputs": [],
   "source": [
    "import gc"
   ]
  },
  {
   "cell_type": "code",
   "execution_count": 31,
   "id": "8c52f7bd",
   "metadata": {},
   "outputs": [],
   "source": [
    "dates_test = test_data['date'].unique()"
   ]
  },
  {
   "cell_type": "code",
   "execution_count": 32,
   "id": "14cc93d4",
   "metadata": {},
   "outputs": [
    {
     "data": {
      "text/plain": [
       "(1666028, 17)"
      ]
     },
     "execution_count": 32,
     "metadata": {},
     "output_type": "execute_result"
    }
   ],
   "source": [
    "full_data[full_data['date'].isin(dates_test)].shape"
   ]
  },
  {
   "cell_type": "code",
   "execution_count": 33,
   "id": "ce48a1ae",
   "metadata": {},
   "outputs": [
    {
     "data": {
      "text/plain": [
       "(1666028, 11)"
      ]
     },
     "execution_count": 33,
     "metadata": {},
     "output_type": "execute_result"
    }
   ],
   "source": [
    "test_data.shape"
   ]
  },
  {
   "cell_type": "code",
   "execution_count": 34,
   "id": "4faa9613",
   "metadata": {},
   "outputs": [
    {
     "data": {
      "text/html": [
       "<div>\n",
       "<style scoped>\n",
       "    .dataframe tbody tr th:only-of-type {\n",
       "        vertical-align: middle;\n",
       "    }\n",
       "\n",
       "    .dataframe tbody tr th {\n",
       "        vertical-align: top;\n",
       "    }\n",
       "\n",
       "    .dataframe thead th {\n",
       "        text-align: right;\n",
       "    }\n",
       "</style>\n",
       "<table border=\"1\" class=\"dataframe\">\n",
       "  <thead>\n",
       "    <tr style=\"text-align: right;\">\n",
       "      <th></th>\n",
       "      <th>ID</th>\n",
       "      <th>geoCluster</th>\n",
       "      <th>SKU</th>\n",
       "      <th>date</th>\n",
       "      <th>sales</th>\n",
       "      <th>month</th>\n",
       "      <th>day</th>\n",
       "      <th>weekday</th>\n",
       "      <th>week_num</th>\n",
       "      <th>lagerUnitType_caption</th>\n",
       "      <th>commodity_group</th>\n",
       "      <th>productCategory_caption_RU</th>\n",
       "      <th>cityId</th>\n",
       "      <th>price</th>\n",
       "      <th>lagerUnitQuantity</th>\n",
       "      <th>lagerUnitTypeId</th>\n",
       "      <th>revanue</th>\n",
       "    </tr>\n",
       "  </thead>\n",
       "  <tbody>\n",
       "    <tr>\n",
       "      <th>1666023</th>\n",
       "      <td>RR3305649</td>\n",
       "      <td>3095</td>\n",
       "      <td>642700</td>\n",
       "      <td>2021-07-29</td>\n",
       "      <td>NaN</td>\n",
       "      <td>NaN</td>\n",
       "      <td>NaN</td>\n",
       "      <td>NaN</td>\n",
       "      <td>NaN</td>\n",
       "      <td>кг</td>\n",
       "      <td>5550352</td>\n",
       "      <td>Сыры полутвердые крупнопористые</td>\n",
       "      <td>0</td>\n",
       "      <td>113.59</td>\n",
       "      <td>1.0</td>\n",
       "      <td>2</td>\n",
       "      <td>NaN</td>\n",
       "    </tr>\n",
       "    <tr>\n",
       "      <th>1666024</th>\n",
       "      <td>RR3305650</td>\n",
       "      <td>3095</td>\n",
       "      <td>642700</td>\n",
       "      <td>2021-07-30</td>\n",
       "      <td>NaN</td>\n",
       "      <td>NaN</td>\n",
       "      <td>NaN</td>\n",
       "      <td>NaN</td>\n",
       "      <td>NaN</td>\n",
       "      <td>кг</td>\n",
       "      <td>5550352</td>\n",
       "      <td>Сыры полутвердые крупнопористые</td>\n",
       "      <td>0</td>\n",
       "      <td>113.59</td>\n",
       "      <td>1.0</td>\n",
       "      <td>2</td>\n",
       "      <td>NaN</td>\n",
       "    </tr>\n",
       "    <tr>\n",
       "      <th>1666025</th>\n",
       "      <td>RR3305651</td>\n",
       "      <td>3095</td>\n",
       "      <td>642700</td>\n",
       "      <td>2021-07-31</td>\n",
       "      <td>NaN</td>\n",
       "      <td>NaN</td>\n",
       "      <td>NaN</td>\n",
       "      <td>NaN</td>\n",
       "      <td>NaN</td>\n",
       "      <td>кг</td>\n",
       "      <td>5550352</td>\n",
       "      <td>Сыры полутвердые крупнопористые</td>\n",
       "      <td>0</td>\n",
       "      <td>113.59</td>\n",
       "      <td>1.0</td>\n",
       "      <td>2</td>\n",
       "      <td>NaN</td>\n",
       "    </tr>\n",
       "    <tr>\n",
       "      <th>1666026</th>\n",
       "      <td>RR3305652</td>\n",
       "      <td>3095</td>\n",
       "      <td>642700</td>\n",
       "      <td>2021-08-01</td>\n",
       "      <td>NaN</td>\n",
       "      <td>NaN</td>\n",
       "      <td>NaN</td>\n",
       "      <td>NaN</td>\n",
       "      <td>NaN</td>\n",
       "      <td>кг</td>\n",
       "      <td>5550352</td>\n",
       "      <td>Сыры полутвердые крупнопористые</td>\n",
       "      <td>0</td>\n",
       "      <td>113.59</td>\n",
       "      <td>1.0</td>\n",
       "      <td>2</td>\n",
       "      <td>NaN</td>\n",
       "    </tr>\n",
       "    <tr>\n",
       "      <th>1666027</th>\n",
       "      <td>RR3305653</td>\n",
       "      <td>3095</td>\n",
       "      <td>642700</td>\n",
       "      <td>2021-08-02</td>\n",
       "      <td>NaN</td>\n",
       "      <td>NaN</td>\n",
       "      <td>NaN</td>\n",
       "      <td>NaN</td>\n",
       "      <td>NaN</td>\n",
       "      <td>кг</td>\n",
       "      <td>5550352</td>\n",
       "      <td>Сыры полутвердые крупнопористые</td>\n",
       "      <td>0</td>\n",
       "      <td>113.59</td>\n",
       "      <td>1.0</td>\n",
       "      <td>2</td>\n",
       "      <td>NaN</td>\n",
       "    </tr>\n",
       "  </tbody>\n",
       "</table>\n",
       "</div>"
      ],
      "text/plain": [
       "                ID  geoCluster     SKU        date  sales  month  day  \\\n",
       "1666023  RR3305649        3095  642700  2021-07-29    NaN    NaN  NaN   \n",
       "1666024  RR3305650        3095  642700  2021-07-30    NaN    NaN  NaN   \n",
       "1666025  RR3305651        3095  642700  2021-07-31    NaN    NaN  NaN   \n",
       "1666026  RR3305652        3095  642700  2021-08-01    NaN    NaN  NaN   \n",
       "1666027  RR3305653        3095  642700  2021-08-02    NaN    NaN  NaN   \n",
       "\n",
       "         weekday  week_num lagerUnitType_caption  commodity_group  \\\n",
       "1666023      NaN       NaN            кг                  5550352   \n",
       "1666024      NaN       NaN            кг                  5550352   \n",
       "1666025      NaN       NaN            кг                  5550352   \n",
       "1666026      NaN       NaN            кг                  5550352   \n",
       "1666027      NaN       NaN            кг                  5550352   \n",
       "\n",
       "              productCategory_caption_RU  cityId   price  lagerUnitQuantity  \\\n",
       "1666023  Сыры полутвердые крупнопористые       0  113.59                1.0   \n",
       "1666024  Сыры полутвердые крупнопористые       0  113.59                1.0   \n",
       "1666025  Сыры полутвердые крупнопористые       0  113.59                1.0   \n",
       "1666026  Сыры полутвердые крупнопористые       0  113.59                1.0   \n",
       "1666027  Сыры полутвердые крупнопористые       0  113.59                1.0   \n",
       "\n",
       "         lagerUnitTypeId  revanue  \n",
       "1666023                2      NaN  \n",
       "1666024                2      NaN  \n",
       "1666025                2      NaN  \n",
       "1666026                2      NaN  \n",
       "1666027                2      NaN  "
      ]
     },
     "execution_count": 34,
     "metadata": {},
     "output_type": "execute_result"
    }
   ],
   "source": [
    "full_data.tail()"
   ]
  },
  {
   "cell_type": "markdown",
   "id": "f7ebb4a7",
   "metadata": {},
   "source": [
    "### cleaning memory"
   ]
  },
  {
   "cell_type": "code",
   "execution_count": 35,
   "id": "9c074646",
   "metadata": {},
   "outputs": [],
   "source": [
    "full_data = change_type(full_data, 'geoCluster', 'uint16')\n",
    "full_data = change_type(full_data, 'SKU', 'uint32')\n",
    "full_data = change_type(full_data, 'commodity_group', 'uint8')\n",
    "full_data = change_type(full_data, 'cityId', 'uint8')\n",
    "full_data = change_type(full_data, 'lagerUnitTypeId', 'uint8')"
   ]
  },
  {
   "cell_type": "code",
   "execution_count": 36,
   "id": "79bb3d3d",
   "metadata": {},
   "outputs": [],
   "source": [
    "del train_data, sku_meta, geo_params;\n",
    "gc.collect();"
   ]
  },
  {
   "cell_type": "markdown",
   "id": "1ecb3006",
   "metadata": {},
   "source": [
    "## creation of features"
   ]
  },
  {
   "cell_type": "code",
   "execution_count": 37,
   "id": "7ba62d67",
   "metadata": {},
   "outputs": [],
   "source": [
    "full_data.drop(columns=['lagerUnitType_caption'],inplace=True)"
   ]
  },
  {
   "cell_type": "markdown",
   "id": "0a0d139e",
   "metadata": {},
   "source": [
    "### days on the market "
   ]
  },
  {
   "cell_type": "code",
   "execution_count": 38,
   "id": "1f2435c9",
   "metadata": {},
   "outputs": [],
   "source": [
    "full_data['date'] = pd.to_datetime(full_data['date'])"
   ]
  },
  {
   "cell_type": "code",
   "execution_count": 39,
   "id": "1adf4fd3",
   "metadata": {},
   "outputs": [
    {
     "name": "stderr",
     "output_type": "stream",
     "text": [
      "100%|███████████████████████████████████████| 1961/1961 [08:30<00:00,  3.84it/s]\n"
     ]
    }
   ],
   "source": [
    "unique_SKU_list = full_data.SKU.unique()\n",
    "for sku in tqdm.tqdm(unique_SKU_list):\n",
    "    min_date = full_data[full_data['SKU'] == sku]['date'].min()\n",
    "    #print(min_date)\n",
    "    full_data.loc[full_data['SKU'] == sku , 'days_on_the_market'] = full_data.loc[full_data['SKU'] == sku,'date'] - min_date\n",
    "    #print(train_data[train_data['SKU'] == sku]['date'] - min_date)"
   ]
  },
  {
   "cell_type": "code",
   "execution_count": 40,
   "id": "c0494b70",
   "metadata": {},
   "outputs": [],
   "source": [
    "full_data['days_on_the_market']  = full_data['days_on_the_market'].dt.days"
   ]
  },
  {
   "cell_type": "code",
   "execution_count": 41,
   "id": "a20944c7",
   "metadata": {},
   "outputs": [
    {
     "data": {
      "text/plain": [
       "271.0507787786658"
      ]
     },
     "execution_count": 41,
     "metadata": {},
     "output_type": "execute_result"
    }
   ],
   "source": [
    "full_data['days_on_the_market'].mean()"
   ]
  },
  {
   "cell_type": "code",
   "execution_count": 44,
   "id": "4a70ce2e",
   "metadata": {},
   "outputs": [],
   "source": [
    "groups = full_data[['date','geoCluster','SKU']].groupby(['geoCluster','SKU'], as_index=False,sort=False)"
   ]
  },
  {
   "cell_type": "code",
   "execution_count": 45,
   "id": "67f89778",
   "metadata": {},
   "outputs": [],
   "source": [
    "days_on_the_market_geo = groups['date'].transform(lambda x: x-x.min())"
   ]
  },
  {
   "cell_type": "code",
   "execution_count": 62,
   "id": "2217a0ca",
   "metadata": {},
   "outputs": [],
   "source": [
    "full_data['days_on_the_market_geo'] = days_on_the_market_geo"
   ]
  },
  {
   "cell_type": "code",
   "execution_count": 64,
   "id": "82b31137",
   "metadata": {},
   "outputs": [],
   "source": [
    "full_data['days_on_the_market_geo'] = full_data['days_on_the_market_geo'].dt.days"
   ]
  },
  {
   "cell_type": "code",
   "execution_count": 67,
   "id": "b19c9ff6",
   "metadata": {},
   "outputs": [],
   "source": [
    "full_data = change_type(full_data, 'days_on_the_market_geo', 'int32')\n",
    "full_data = change_type(full_data, 'days_on_the_market', 'int32')"
   ]
  },
  {
   "cell_type": "code",
   "execution_count": 68,
   "id": "309fee79",
   "metadata": {},
   "outputs": [
    {
     "name": "stdout",
     "output_type": "stream",
     "text": [
      "<class 'pandas.core.frame.DataFrame'>\n",
      "Int64Index: 29622473 entries, 0 to 1666027\n",
      "Data columns (total 18 columns):\n",
      " #   Column                      Dtype         \n",
      "---  ------                      -----         \n",
      " 0   ID                          object        \n",
      " 1   geoCluster                  uint16        \n",
      " 2   SKU                         uint32        \n",
      " 3   date                        datetime64[ns]\n",
      " 4   sales                       float64       \n",
      " 5   month                       float64       \n",
      " 6   day                         float64       \n",
      " 7   weekday                     float64       \n",
      " 8   week_num                    float64       \n",
      " 9   commodity_group             uint8         \n",
      " 10  productCategory_caption_RU  object        \n",
      " 11  cityId                      uint8         \n",
      " 12  price                       float64       \n",
      " 13  lagerUnitQuantity           float64       \n",
      " 14  lagerUnitTypeId             uint8         \n",
      " 15  revanue                     float64       \n",
      " 16  days_on_the_market          int32         \n",
      " 17  days_on_the_market_geo      int32         \n",
      "dtypes: datetime64[ns](1), float64(8), int32(2), object(2), uint16(1), uint32(1), uint8(3)\n",
      "memory usage: 3.1+ GB\n"
     ]
    }
   ],
   "source": [
    "full_data.info()"
   ]
  },
  {
   "cell_type": "markdown",
   "id": "8adf000b",
   "metadata": {},
   "source": [
    "### max sales, min sales, max ravenue, min ravenue"
   ]
  },
  {
   "cell_type": "code",
   "execution_count": 69,
   "id": "14c8d79d",
   "metadata": {},
   "outputs": [],
   "source": [
    "def agg_feature(df, dates_to_exclude, to_groupby, to_agg, func='min'):\n",
    "    if not isinstance(to_groupby, list):\n",
    "        to_groupby = [to_groupby]\n",
    "    result = df[~df['date'].isin(dates_to_exclude)].groupby(to_groupby,as_index=False).agg({to_agg:func})\n",
    "    result = result.rename(columns={to_agg:to_agg+'_grouped_{}_{}'.format('_'.join(to_groupby),func)})\n",
    "    df = df.merge(result, on=to_groupby, how='left')\n",
    "    return df"
   ]
  },
  {
   "cell_type": "code",
   "execution_count": 72,
   "id": "2bb973ee",
   "metadata": {},
   "outputs": [
    {
     "name": "stderr",
     "output_type": "stream",
     "text": [
      "/tmp/ipykernel_27699/295886148.py:8: FutureWarning: Series.dt.weekofyear and Series.dt.week have been deprecated.  Please use Series.dt.isocalendar().week instead.\n",
      "  full_data['week_num'] = full_data['date'].dt.week\n"
     ]
    }
   ],
   "source": [
    "full_data['date'] = pd.to_datetime(full_data['date'])\n",
    "full_data['weekday'] = full_data['date'].dt.weekday\n",
    "full_data['day'] = full_data['date'].dt.day\n",
    "full_data['year'] = full_data['date'].dt.year\n",
    "full_data['month'] = full_data['date'].dt.month\n",
    "max_week = full_data[full_data['year']==2020]['week_num'].max()\n",
    "max_month = full_data[full_data['year']==2020]['month'].max()\n",
    "full_data['week_num'] = full_data['date'].dt.week\n",
    "full_data['month_num'] = full_data['month']\n",
    "full_data.loc[full_data['year']==2021, 'week_num'] = full_data.loc[full_data['year']==2021, 'week_num'].apply(lambda x: x+max_week)\n",
    "full_data.loc[full_data['year']==2021, 'month_num'] = full_data.loc[full_data['year']==2021, 'month_num'].apply(lambda x: x+max_month)\n",
    "full_data = change_type(full_data, 'month', 'uint8')\n",
    "full_data = change_type(full_data, 'day', 'uint8')\n",
    "full_data = change_type(full_data, 'weekday', 'uint8')\n",
    "full_data = change_type(full_data, 'week_num', 'uint8')"
   ]
  },
  {
   "cell_type": "code",
   "execution_count": 73,
   "id": "b3eae2f2",
   "metadata": {},
   "outputs": [],
   "source": [
    "full_data = agg_feature(full_data, dates_test, ['week_num','geoCluster'], 'sales', 'mean')\n",
    "full_data = agg_feature(full_data, dates_test, ['week_num','geoCluster'], 'sales', 'sum')\n",
    "full_data = agg_feature(full_data, dates_test, ['week_num','cityId'], 'sales', 'mean')\n",
    "full_data = agg_feature(full_data, dates_test, ['week_num','commodity_group'], 'sales', 'mean')\n",
    "full_data = agg_feature(full_data, dates_test, ['week_num','geoCluster'], 'revanue', 'sum')\n",
    "full_data = agg_feature(full_data, dates_test, ['week_num','geoCluster'], 'revanue', 'mean')\n",
    "full_data = agg_feature(full_data, dates_test, ['week_num','cityId'], 'revanue', 'mean')\n",
    "full_data = agg_feature(full_data, dates_test, ['week_num','commodity_group'], 'revanue', 'mean')\n",
    "full_data = agg_feature(full_data, dates_test, ['week_num','SKU'], 'revanue', 'mean')\n",
    "full_data = agg_feature(full_data, dates_test, ['week_num','SKU'], 'sales', 'mean')\n",
    "full_data = agg_feature(full_data, dates_test, ['week_num','SKU'], 'revanue', 'sum')\n",
    "full_data = agg_feature(full_data, dates_test, ['week_num','SKU'], 'sales', 'sum')\n",
    "full_data = agg_feature(full_data, dates_test, ['week_num','SKU','commodity_group'], 'revanue', 'mean')\n",
    "full_data = agg_feature(full_data, dates_test, ['week_num','SKU','commodity_group'], 'sales', 'mean')\n",
    "full_data = agg_feature(full_data, dates_test, ['week_num','SKU','commodity_group'], 'revanue', 'sum')\n",
    "full_data = agg_feature(full_data, dates_test, ['week_num','SKU','commodity_group'], 'sales', 'sum')\n",
    "full_data = agg_feature(full_data, dates_test, ['week_num','SKU','geoCluster'], 'revanue', 'mean')\n",
    "full_data = agg_feature(full_data, dates_test, ['week_num','SKU','geoCluster'], 'sales', 'mean')\n",
    "full_data = agg_feature(full_data, dates_test, ['week_num','SKU','geoCluster'], 'revanue', 'sum')\n",
    "full_data = agg_feature(full_data, dates_test, ['week_num','SKU','geoCluster'], 'sales', 'sum')"
   ]
  },
  {
   "cell_type": "code",
   "execution_count": 74,
   "id": "670aa4cb",
   "metadata": {},
   "outputs": [],
   "source": [
    "full_data = agg_feature(full_data, dates_test, ['month_num','geoCluster'], 'sales', 'mean')\n",
    "full_data = agg_feature(full_data, dates_test, ['month_num','geoCluster'], 'sales', 'sum')\n",
    "full_data = agg_feature(full_data, dates_test, ['month_num','cityId'], 'sales', 'mean')\n",
    "full_data = agg_feature(full_data, dates_test, ['month_num','commodity_group'], 'sales', 'mean')\n",
    "full_data = agg_feature(full_data, dates_test, ['month_num','geoCluster'], 'revanue', 'sum')\n",
    "full_data = agg_feature(full_data, dates_test, ['month_num','geoCluster'], 'revanue', 'mean')\n",
    "full_data = agg_feature(full_data, dates_test, ['month_num','cityId'], 'revanue', 'mean')\n",
    "full_data = agg_feature(full_data, dates_test, ['month_num','commodity_group'], 'revanue', 'mean')\n",
    "full_data = agg_feature(full_data, dates_test, ['month_num','SKU'], 'revanue', 'mean')\n",
    "full_data = agg_feature(full_data, dates_test, ['month_num','SKU'], 'sales', 'mean')\n",
    "full_data = agg_feature(full_data, dates_test, ['month_num','SKU'], 'revanue', 'sum')\n",
    "full_data = agg_feature(full_data, dates_test, ['month_num','SKU'], 'sales', 'sum')\n",
    "full_data = agg_feature(full_data, dates_test, ['month_num','SKU','commodity_group'], 'revanue', 'mean')\n",
    "full_data = agg_feature(full_data, dates_test, ['month_num','SKU','commodity_group'], 'sales', 'mean')\n",
    "full_data = agg_feature(full_data, dates_test, ['month_num','SKU','commodity_group'], 'revanue', 'sum')\n",
    "full_data = agg_feature(full_data, dates_test, ['month_num','SKU','commodity_group'], 'sales', 'sum')\n",
    "full_data = agg_feature(full_data, dates_test, ['month_num','SKU','geoCluster'], 'revanue', 'mean')\n",
    "full_data = agg_feature(full_data, dates_test, ['month_num','SKU','geoCluster'], 'sales', 'mean')\n",
    "full_data = agg_feature(full_data, dates_test, ['month_num','SKU','geoCluster'], 'revanue', 'sum')\n",
    "full_data = agg_feature(full_data, dates_test, ['month_num','SKU','geoCluster'], 'sales', 'sum')"
   ]
  },
  {
   "cell_type": "code",
   "execution_count": 75,
   "id": "71aaab54",
   "metadata": {},
   "outputs": [
    {
     "data": {
      "text/plain": [
       "(1666028, 60)"
      ]
     },
     "execution_count": 75,
     "metadata": {},
     "output_type": "execute_result"
    }
   ],
   "source": [
    "full_data[full_data['date'].isin(dates_test)].shape"
   ]
  },
  {
   "cell_type": "code",
   "execution_count": 76,
   "id": "0a72651a",
   "metadata": {},
   "outputs": [
    {
     "data": {
      "text/plain": [
       "array([ 80,  81,  82,  71,  72,  73,  74,  75,  76,  77,  78,  79,  69,\n",
       "        70,  68,  67,  52,  53, 106,  54,  55,  56,  57,  58,  59,  60,\n",
       "        61,  62,  63,  64,  65,  66,  48,  49,  50,  51,  47,  45,  46,\n",
       "        17,  18,  19,  20,  21,  22,  23,  24,  25,  26,  27,  28,  29,\n",
       "        30,  31,  32,  33,  34,  35,  36,  37,  38,  39,  40,  41,  42,\n",
       "        43,  44,  16,  15,  14,   1,   2,   3,   4,   5,   6,   7,   8,\n",
       "         9,  10,  11,  12,  13,  83,  84], dtype=uint8)"
      ]
     },
     "execution_count": 76,
     "metadata": {},
     "output_type": "execute_result"
    }
   ],
   "source": [
    "full_data.week_num.unique()"
   ]
  },
  {
   "cell_type": "code",
   "execution_count": 77,
   "id": "3ddf5073",
   "metadata": {},
   "outputs": [
    {
     "data": {
      "text/plain": [
       "ID                                                    0\n",
       "geoCluster                                            0\n",
       "SKU                                                   0\n",
       "date                                                  0\n",
       "sales                                                 0\n",
       "month                                                 0\n",
       "day                                                   0\n",
       "weekday                                               0\n",
       "week_num                                              0\n",
       "commodity_group                                       0\n",
       "productCategory_caption_RU                            0\n",
       "cityId                                                0\n",
       "price                                                 0\n",
       "lagerUnitQuantity                                     0\n",
       "lagerUnitTypeId                                       0\n",
       "revanue                                               0\n",
       "days_on_the_market                                    0\n",
       "days_on_the_market_geo                                0\n",
       "year                                                  0\n",
       "month_num                                             0\n",
       "sales_grouped_week_num_geoCluster_mean                0\n",
       "sales_grouped_week_num_geoCluster_sum                 0\n",
       "sales_grouped_week_num_cityId_mean                    0\n",
       "sales_grouped_week_num_commodity_group_mean           0\n",
       "revanue_grouped_week_num_geoCluster_sum               0\n",
       "revanue_grouped_week_num_geoCluster_mean              0\n",
       "revanue_grouped_week_num_cityId_mean                  0\n",
       "revanue_grouped_week_num_commodity_group_mean         0\n",
       "revanue_grouped_week_num_SKU_mean                     0\n",
       "sales_grouped_week_num_SKU_mean                       0\n",
       "revanue_grouped_week_num_SKU_sum                      0\n",
       "sales_grouped_week_num_SKU_sum                        0\n",
       "revanue_grouped_week_num_SKU_commodity_group_mean     0\n",
       "sales_grouped_week_num_SKU_commodity_group_mean       0\n",
       "revanue_grouped_week_num_SKU_commodity_group_sum      0\n",
       "sales_grouped_week_num_SKU_commodity_group_sum        0\n",
       "revanue_grouped_week_num_SKU_geoCluster_mean          0\n",
       "sales_grouped_week_num_SKU_geoCluster_mean            0\n",
       "revanue_grouped_week_num_SKU_geoCluster_sum           0\n",
       "sales_grouped_week_num_SKU_geoCluster_sum             0\n",
       "sales_grouped_month_num_geoCluster_mean               0\n",
       "sales_grouped_month_num_geoCluster_sum                0\n",
       "sales_grouped_month_num_cityId_mean                   0\n",
       "sales_grouped_month_num_commodity_group_mean          0\n",
       "revanue_grouped_month_num_geoCluster_sum              0\n",
       "revanue_grouped_month_num_geoCluster_mean             0\n",
       "revanue_grouped_month_num_cityId_mean                 0\n",
       "revanue_grouped_month_num_commodity_group_mean        0\n",
       "revanue_grouped_month_num_SKU_mean                    0\n",
       "sales_grouped_month_num_SKU_mean                      0\n",
       "revanue_grouped_month_num_SKU_sum                     0\n",
       "sales_grouped_month_num_SKU_sum                       0\n",
       "revanue_grouped_month_num_SKU_commodity_group_mean    0\n",
       "sales_grouped_month_num_SKU_commodity_group_mean      0\n",
       "revanue_grouped_month_num_SKU_commodity_group_sum     0\n",
       "sales_grouped_month_num_SKU_commodity_group_sum       0\n",
       "revanue_grouped_month_num_SKU_geoCluster_mean         0\n",
       "sales_grouped_month_num_SKU_geoCluster_mean           0\n",
       "revanue_grouped_month_num_SKU_geoCluster_sum          0\n",
       "sales_grouped_month_num_SKU_geoCluster_sum            0\n",
       "dtype: int64"
      ]
     },
     "execution_count": 77,
     "metadata": {},
     "output_type": "execute_result"
    }
   ],
   "source": [
    "full_data[~full_data['date'].isin(dates_test)].isna().sum()"
   ]
  },
  {
   "cell_type": "code",
   "execution_count": 78,
   "id": "30ee55d4",
   "metadata": {},
   "outputs": [
    {
     "data": {
      "text/html": [
       "<div>\n",
       "<style scoped>\n",
       "    .dataframe tbody tr th:only-of-type {\n",
       "        vertical-align: middle;\n",
       "    }\n",
       "\n",
       "    .dataframe tbody tr th {\n",
       "        vertical-align: top;\n",
       "    }\n",
       "\n",
       "    .dataframe thead th {\n",
       "        text-align: right;\n",
       "    }\n",
       "</style>\n",
       "<table border=\"1\" class=\"dataframe\">\n",
       "  <thead>\n",
       "    <tr style=\"text-align: right;\">\n",
       "      <th></th>\n",
       "      <th>ID</th>\n",
       "      <th>geoCluster</th>\n",
       "      <th>SKU</th>\n",
       "      <th>date</th>\n",
       "      <th>sales</th>\n",
       "      <th>month</th>\n",
       "      <th>day</th>\n",
       "      <th>weekday</th>\n",
       "      <th>week_num</th>\n",
       "      <th>commodity_group</th>\n",
       "      <th>...</th>\n",
       "      <th>revanue_grouped_month_num_SKU_sum</th>\n",
       "      <th>sales_grouped_month_num_SKU_sum</th>\n",
       "      <th>revanue_grouped_month_num_SKU_commodity_group_mean</th>\n",
       "      <th>sales_grouped_month_num_SKU_commodity_group_mean</th>\n",
       "      <th>revanue_grouped_month_num_SKU_commodity_group_sum</th>\n",
       "      <th>sales_grouped_month_num_SKU_commodity_group_sum</th>\n",
       "      <th>revanue_grouped_month_num_SKU_geoCluster_mean</th>\n",
       "      <th>sales_grouped_month_num_SKU_geoCluster_mean</th>\n",
       "      <th>revanue_grouped_month_num_SKU_geoCluster_sum</th>\n",
       "      <th>sales_grouped_month_num_SKU_geoCluster_sum</th>\n",
       "    </tr>\n",
       "  </thead>\n",
       "  <tbody>\n",
       "    <tr>\n",
       "      <th>29622468</th>\n",
       "      <td>RR3305649</td>\n",
       "      <td>3095</td>\n",
       "      <td>642700</td>\n",
       "      <td>2021-07-29</td>\n",
       "      <td>NaN</td>\n",
       "      <td>7</td>\n",
       "      <td>29</td>\n",
       "      <td>3</td>\n",
       "      <td>83</td>\n",
       "      <td>16</td>\n",
       "      <td>...</td>\n",
       "      <td>46638.60637</td>\n",
       "      <td>176.25</td>\n",
       "      <td>8.85151</td>\n",
       "      <td>0.03345</td>\n",
       "      <td>46638.60637</td>\n",
       "      <td>176.25</td>\n",
       "      <td>0.0</td>\n",
       "      <td>0.0</td>\n",
       "      <td>0.0</td>\n",
       "      <td>0.0</td>\n",
       "    </tr>\n",
       "    <tr>\n",
       "      <th>29622469</th>\n",
       "      <td>RR3305650</td>\n",
       "      <td>3095</td>\n",
       "      <td>642700</td>\n",
       "      <td>2021-07-30</td>\n",
       "      <td>NaN</td>\n",
       "      <td>7</td>\n",
       "      <td>30</td>\n",
       "      <td>4</td>\n",
       "      <td>83</td>\n",
       "      <td>16</td>\n",
       "      <td>...</td>\n",
       "      <td>46638.60637</td>\n",
       "      <td>176.25</td>\n",
       "      <td>8.85151</td>\n",
       "      <td>0.03345</td>\n",
       "      <td>46638.60637</td>\n",
       "      <td>176.25</td>\n",
       "      <td>0.0</td>\n",
       "      <td>0.0</td>\n",
       "      <td>0.0</td>\n",
       "      <td>0.0</td>\n",
       "    </tr>\n",
       "    <tr>\n",
       "      <th>29622470</th>\n",
       "      <td>RR3305651</td>\n",
       "      <td>3095</td>\n",
       "      <td>642700</td>\n",
       "      <td>2021-07-31</td>\n",
       "      <td>NaN</td>\n",
       "      <td>7</td>\n",
       "      <td>31</td>\n",
       "      <td>5</td>\n",
       "      <td>83</td>\n",
       "      <td>16</td>\n",
       "      <td>...</td>\n",
       "      <td>46638.60637</td>\n",
       "      <td>176.25</td>\n",
       "      <td>8.85151</td>\n",
       "      <td>0.03345</td>\n",
       "      <td>46638.60637</td>\n",
       "      <td>176.25</td>\n",
       "      <td>0.0</td>\n",
       "      <td>0.0</td>\n",
       "      <td>0.0</td>\n",
       "      <td>0.0</td>\n",
       "    </tr>\n",
       "    <tr>\n",
       "      <th>29622471</th>\n",
       "      <td>RR3305652</td>\n",
       "      <td>3095</td>\n",
       "      <td>642700</td>\n",
       "      <td>2021-08-01</td>\n",
       "      <td>NaN</td>\n",
       "      <td>8</td>\n",
       "      <td>1</td>\n",
       "      <td>6</td>\n",
       "      <td>83</td>\n",
       "      <td>16</td>\n",
       "      <td>...</td>\n",
       "      <td>NaN</td>\n",
       "      <td>NaN</td>\n",
       "      <td>NaN</td>\n",
       "      <td>NaN</td>\n",
       "      <td>NaN</td>\n",
       "      <td>NaN</td>\n",
       "      <td>NaN</td>\n",
       "      <td>NaN</td>\n",
       "      <td>NaN</td>\n",
       "      <td>NaN</td>\n",
       "    </tr>\n",
       "    <tr>\n",
       "      <th>29622472</th>\n",
       "      <td>RR3305653</td>\n",
       "      <td>3095</td>\n",
       "      <td>642700</td>\n",
       "      <td>2021-08-02</td>\n",
       "      <td>NaN</td>\n",
       "      <td>8</td>\n",
       "      <td>2</td>\n",
       "      <td>0</td>\n",
       "      <td>84</td>\n",
       "      <td>16</td>\n",
       "      <td>...</td>\n",
       "      <td>NaN</td>\n",
       "      <td>NaN</td>\n",
       "      <td>NaN</td>\n",
       "      <td>NaN</td>\n",
       "      <td>NaN</td>\n",
       "      <td>NaN</td>\n",
       "      <td>NaN</td>\n",
       "      <td>NaN</td>\n",
       "      <td>NaN</td>\n",
       "      <td>NaN</td>\n",
       "    </tr>\n",
       "  </tbody>\n",
       "</table>\n",
       "<p>5 rows × 60 columns</p>\n",
       "</div>"
      ],
      "text/plain": [
       "                 ID  geoCluster     SKU       date  sales  month  day  \\\n",
       "29622468  RR3305649        3095  642700 2021-07-29    NaN      7   29   \n",
       "29622469  RR3305650        3095  642700 2021-07-30    NaN      7   30   \n",
       "29622470  RR3305651        3095  642700 2021-07-31    NaN      7   31   \n",
       "29622471  RR3305652        3095  642700 2021-08-01    NaN      8    1   \n",
       "29622472  RR3305653        3095  642700 2021-08-02    NaN      8    2   \n",
       "\n",
       "          weekday  week_num  commodity_group  ...  \\\n",
       "29622468        3        83               16  ...   \n",
       "29622469        4        83               16  ...   \n",
       "29622470        5        83               16  ...   \n",
       "29622471        6        83               16  ...   \n",
       "29622472        0        84               16  ...   \n",
       "\n",
       "         revanue_grouped_month_num_SKU_sum  sales_grouped_month_num_SKU_sum  \\\n",
       "29622468                       46638.60637                           176.25   \n",
       "29622469                       46638.60637                           176.25   \n",
       "29622470                       46638.60637                           176.25   \n",
       "29622471                               NaN                              NaN   \n",
       "29622472                               NaN                              NaN   \n",
       "\n",
       "          revanue_grouped_month_num_SKU_commodity_group_mean  \\\n",
       "29622468                                            8.85151    \n",
       "29622469                                            8.85151    \n",
       "29622470                                            8.85151    \n",
       "29622471                                                NaN    \n",
       "29622472                                                NaN    \n",
       "\n",
       "          sales_grouped_month_num_SKU_commodity_group_mean  \\\n",
       "29622468                                           0.03345   \n",
       "29622469                                           0.03345   \n",
       "29622470                                           0.03345   \n",
       "29622471                                               NaN   \n",
       "29622472                                               NaN   \n",
       "\n",
       "          revanue_grouped_month_num_SKU_commodity_group_sum  \\\n",
       "29622468                                        46638.60637   \n",
       "29622469                                        46638.60637   \n",
       "29622470                                        46638.60637   \n",
       "29622471                                                NaN   \n",
       "29622472                                                NaN   \n",
       "\n",
       "          sales_grouped_month_num_SKU_commodity_group_sum  \\\n",
       "29622468                                           176.25   \n",
       "29622469                                           176.25   \n",
       "29622470                                           176.25   \n",
       "29622471                                              NaN   \n",
       "29622472                                              NaN   \n",
       "\n",
       "          revanue_grouped_month_num_SKU_geoCluster_mean  \\\n",
       "29622468                                            0.0   \n",
       "29622469                                            0.0   \n",
       "29622470                                            0.0   \n",
       "29622471                                            NaN   \n",
       "29622472                                            NaN   \n",
       "\n",
       "          sales_grouped_month_num_SKU_geoCluster_mean  \\\n",
       "29622468                                          0.0   \n",
       "29622469                                          0.0   \n",
       "29622470                                          0.0   \n",
       "29622471                                          NaN   \n",
       "29622472                                          NaN   \n",
       "\n",
       "          revanue_grouped_month_num_SKU_geoCluster_sum  \\\n",
       "29622468                                           0.0   \n",
       "29622469                                           0.0   \n",
       "29622470                                           0.0   \n",
       "29622471                                           NaN   \n",
       "29622472                                           NaN   \n",
       "\n",
       "          sales_grouped_month_num_SKU_geoCluster_sum  \n",
       "29622468                                         0.0  \n",
       "29622469                                         0.0  \n",
       "29622470                                         0.0  \n",
       "29622471                                         NaN  \n",
       "29622472                                         NaN  \n",
       "\n",
       "[5 rows x 60 columns]"
      ]
     },
     "execution_count": 78,
     "metadata": {},
     "output_type": "execute_result"
    }
   ],
   "source": [
    "full_data.tail()"
   ]
  },
  {
   "cell_type": "code",
   "execution_count": 79,
   "id": "a82e548d",
   "metadata": {},
   "outputs": [
    {
     "data": {
      "text/plain": [
       "Index(['ID', 'geoCluster', 'SKU', 'date', 'sales', 'month', 'day', 'weekday',\n",
       "       'week_num', 'commodity_group', 'productCategory_caption_RU', 'cityId',\n",
       "       'price', 'lagerUnitQuantity', 'lagerUnitTypeId', 'revanue',\n",
       "       'days_on_the_market', 'days_on_the_market_geo', 'year', 'month_num',\n",
       "       'sales_grouped_week_num_geoCluster_mean',\n",
       "       'sales_grouped_week_num_geoCluster_sum',\n",
       "       'sales_grouped_week_num_cityId_mean',\n",
       "       'sales_grouped_week_num_commodity_group_mean',\n",
       "       'revanue_grouped_week_num_geoCluster_sum',\n",
       "       'revanue_grouped_week_num_geoCluster_mean',\n",
       "       'revanue_grouped_week_num_cityId_mean',\n",
       "       'revanue_grouped_week_num_commodity_group_mean',\n",
       "       'revanue_grouped_week_num_SKU_mean', 'sales_grouped_week_num_SKU_mean',\n",
       "       'revanue_grouped_week_num_SKU_sum', 'sales_grouped_week_num_SKU_sum',\n",
       "       'revanue_grouped_week_num_SKU_commodity_group_mean',\n",
       "       'sales_grouped_week_num_SKU_commodity_group_mean',\n",
       "       'revanue_grouped_week_num_SKU_commodity_group_sum',\n",
       "       'sales_grouped_week_num_SKU_commodity_group_sum',\n",
       "       'revanue_grouped_week_num_SKU_geoCluster_mean',\n",
       "       'sales_grouped_week_num_SKU_geoCluster_mean',\n",
       "       'revanue_grouped_week_num_SKU_geoCluster_sum',\n",
       "       'sales_grouped_week_num_SKU_geoCluster_sum',\n",
       "       'sales_grouped_month_num_geoCluster_mean',\n",
       "       'sales_grouped_month_num_geoCluster_sum',\n",
       "       'sales_grouped_month_num_cityId_mean',\n",
       "       'sales_grouped_month_num_commodity_group_mean',\n",
       "       'revanue_grouped_month_num_geoCluster_sum',\n",
       "       'revanue_grouped_month_num_geoCluster_mean',\n",
       "       'revanue_grouped_month_num_cityId_mean',\n",
       "       'revanue_grouped_month_num_commodity_group_mean',\n",
       "       'revanue_grouped_month_num_SKU_mean',\n",
       "       'sales_grouped_month_num_SKU_mean', 'revanue_grouped_month_num_SKU_sum',\n",
       "       'sales_grouped_month_num_SKU_sum',\n",
       "       'revanue_grouped_month_num_SKU_commodity_group_mean',\n",
       "       'sales_grouped_month_num_SKU_commodity_group_mean',\n",
       "       'revanue_grouped_month_num_SKU_commodity_group_sum',\n",
       "       'sales_grouped_month_num_SKU_commodity_group_sum',\n",
       "       'revanue_grouped_month_num_SKU_geoCluster_mean',\n",
       "       'sales_grouped_month_num_SKU_geoCluster_mean',\n",
       "       'revanue_grouped_month_num_SKU_geoCluster_sum',\n",
       "       'sales_grouped_month_num_SKU_geoCluster_sum'],\n",
       "      dtype='object')"
      ]
     },
     "execution_count": 79,
     "metadata": {},
     "output_type": "execute_result"
    }
   ],
   "source": [
    "full_data.columns"
   ]
  },
  {
   "cell_type": "markdown",
   "id": "e77de7ac",
   "metadata": {},
   "source": [
    "### lag on aggregated features"
   ]
  },
  {
   "cell_type": "code",
   "execution_count": 80,
   "id": "44f6561d",
   "metadata": {},
   "outputs": [
    {
     "name": "stdout",
     "output_type": "stream",
     "text": [
      "<class 'pandas.core.frame.DataFrame'>\n",
      "Int64Index: 29622473 entries, 0 to 29622472\n",
      "Data columns (total 60 columns):\n",
      " #   Column                                              Dtype         \n",
      "---  ------                                              -----         \n",
      " 0   ID                                                  object        \n",
      " 1   geoCluster                                          uint16        \n",
      " 2   SKU                                                 uint32        \n",
      " 3   date                                                datetime64[ns]\n",
      " 4   sales                                               float64       \n",
      " 5   month                                               uint8         \n",
      " 6   day                                                 uint8         \n",
      " 7   weekday                                             uint8         \n",
      " 8   week_num                                            uint8         \n",
      " 9   commodity_group                                     uint8         \n",
      " 10  productCategory_caption_RU                          object        \n",
      " 11  cityId                                              uint8         \n",
      " 12  price                                               float64       \n",
      " 13  lagerUnitQuantity                                   float64       \n",
      " 14  lagerUnitTypeId                                     uint8         \n",
      " 15  revanue                                             float64       \n",
      " 16  days_on_the_market                                  int32         \n",
      " 17  days_on_the_market_geo                              int32         \n",
      " 18  year                                                int64         \n",
      " 19  month_num                                           int64         \n",
      " 20  sales_grouped_week_num_geoCluster_mean              float64       \n",
      " 21  sales_grouped_week_num_geoCluster_sum               float64       \n",
      " 22  sales_grouped_week_num_cityId_mean                  float64       \n",
      " 23  sales_grouped_week_num_commodity_group_mean         float64       \n",
      " 24  revanue_grouped_week_num_geoCluster_sum             float64       \n",
      " 25  revanue_grouped_week_num_geoCluster_mean            float64       \n",
      " 26  revanue_grouped_week_num_cityId_mean                float64       \n",
      " 27  revanue_grouped_week_num_commodity_group_mean       float64       \n",
      " 28  revanue_grouped_week_num_SKU_mean                   float64       \n",
      " 29  sales_grouped_week_num_SKU_mean                     float64       \n",
      " 30  revanue_grouped_week_num_SKU_sum                    float64       \n",
      " 31  sales_grouped_week_num_SKU_sum                      float64       \n",
      " 32  revanue_grouped_week_num_SKU_commodity_group_mean   float64       \n",
      " 33  sales_grouped_week_num_SKU_commodity_group_mean     float64       \n",
      " 34  revanue_grouped_week_num_SKU_commodity_group_sum    float64       \n",
      " 35  sales_grouped_week_num_SKU_commodity_group_sum      float64       \n",
      " 36  revanue_grouped_week_num_SKU_geoCluster_mean        float64       \n",
      " 37  sales_grouped_week_num_SKU_geoCluster_mean          float64       \n",
      " 38  revanue_grouped_week_num_SKU_geoCluster_sum         float64       \n",
      " 39  sales_grouped_week_num_SKU_geoCluster_sum           float64       \n",
      " 40  sales_grouped_month_num_geoCluster_mean             float64       \n",
      " 41  sales_grouped_month_num_geoCluster_sum              float64       \n",
      " 42  sales_grouped_month_num_cityId_mean                 float64       \n",
      " 43  sales_grouped_month_num_commodity_group_mean        float64       \n",
      " 44  revanue_grouped_month_num_geoCluster_sum            float64       \n",
      " 45  revanue_grouped_month_num_geoCluster_mean           float64       \n",
      " 46  revanue_grouped_month_num_cityId_mean               float64       \n",
      " 47  revanue_grouped_month_num_commodity_group_mean      float64       \n",
      " 48  revanue_grouped_month_num_SKU_mean                  float64       \n",
      " 49  sales_grouped_month_num_SKU_mean                    float64       \n",
      " 50  revanue_grouped_month_num_SKU_sum                   float64       \n",
      " 51  sales_grouped_month_num_SKU_sum                     float64       \n",
      " 52  revanue_grouped_month_num_SKU_commodity_group_mean  float64       \n",
      " 53  sales_grouped_month_num_SKU_commodity_group_mean    float64       \n",
      " 54  revanue_grouped_month_num_SKU_commodity_group_sum   float64       \n",
      " 55  sales_grouped_month_num_SKU_commodity_group_sum     float64       \n",
      " 56  revanue_grouped_month_num_SKU_geoCluster_mean       float64       \n",
      " 57  sales_grouped_month_num_SKU_geoCluster_mean         float64       \n",
      " 58  revanue_grouped_month_num_SKU_geoCluster_sum        float64       \n",
      " 59  sales_grouped_month_num_SKU_geoCluster_sum          float64       \n",
      "dtypes: datetime64[ns](1), float64(44), int32(2), int64(2), object(2), uint16(1), uint32(1), uint8(7)\n",
      "memory usage: 11.6+ GB\n"
     ]
    }
   ],
   "source": [
    "full_data.info()"
   ]
  },
  {
   "cell_type": "code",
   "execution_count": 81,
   "id": "f96e9e96",
   "metadata": {},
   "outputs": [],
   "source": [
    "for i in full_data.columns:\n",
    "    if 'float' in str(full_data[i].dtype):\n",
    "            full_data[i] = full_data[i].astype('float16')"
   ]
  },
  {
   "cell_type": "code",
   "execution_count": 82,
   "id": "6309335f",
   "metadata": {},
   "outputs": [],
   "source": [
    "def lag_feature(df, lags, agg_columns, col, time_col='week_num'):\n",
    "    agg_columns = agg_columns+[col]\n",
    "    tmp = df[agg_columns]\n",
    "    for i in lags:\n",
    "        shifted = tmp.copy()\n",
    "        shifted.columns = agg_columns[:-1]+[col+'_lag_'+str(i)]\n",
    "        shifted[time_col] += i\n",
    "        shifted = shifted.drop_duplicates(agg_columns[:-1])\n",
    "        df = pd.merge(df, shifted, on=agg_columns[:-1], how='left')\n",
    "        df[col+'_lag_'+str(i)] = df[col+'_lag_'+str(i)].fillna(0)\n",
    "    df = df.drop(columns=col)\n",
    "    return df"
   ]
  },
  {
   "cell_type": "code",
   "execution_count": 83,
   "id": "1ad6c61b",
   "metadata": {},
   "outputs": [],
   "source": [
    "full_data = lag_feature(full_data, [2,3], ['week_num','commodity_group'], 'revanue_grouped_week_num_commodity_group_mean')\n",
    "full_data = lag_feature(full_data, [2,3], ['week_num','cityId'], 'revanue_grouped_week_num_cityId_mean')\n",
    "full_data = lag_feature(full_data, [2,3], ['week_num','geoCluster'], 'revanue_grouped_week_num_geoCluster_mean')\n",
    "full_data = lag_feature(full_data, [2,3], ['week_num','geoCluster'], 'revanue_grouped_week_num_geoCluster_sum')\n",
    "full_data = lag_feature(full_data, [2,3], ['week_num','commodity_group'], 'sales_grouped_week_num_commodity_group_mean')\n",
    "full_data = lag_feature(full_data, [2,3], ['week_num','cityId'], 'sales_grouped_week_num_cityId_mean')\n",
    "full_data = lag_feature(full_data, [2,3], ['week_num','geoCluster'], 'sales_grouped_week_num_geoCluster_mean')\n",
    "full_data = lag_feature(full_data, [2,3], ['week_num','geoCluster'], 'sales_grouped_week_num_geoCluster_sum')\n",
    "full_data = lag_feature(full_data, [2,3], ['week_num','SKU'], 'sales_grouped_week_num_SKU_mean')\n",
    "full_data = lag_feature(full_data, [2,3], ['week_num','SKU'], 'sales_grouped_week_num_SKU_sum')\n",
    "full_data = lag_feature(full_data, [2,3], ['week_num','SKU'], 'revanue_grouped_week_num_SKU_sum')\n",
    "full_data = lag_feature(full_data, [2,3], ['week_num','SKU'], 'revanue_grouped_week_num_SKU_mean')\n",
    "full_data = lag_feature(full_data, [2,3], ['week_num','SKU','commodity_group'], 'revanue_grouped_week_num_SKU_commodity_group_sum')\n",
    "full_data = lag_feature(full_data, [2,3], ['week_num','SKU','commodity_group'], 'revanue_grouped_week_num_SKU_commodity_group_mean')\n",
    "full_data = lag_feature(full_data, [2,3], ['week_num','SKU','geoCluster'], 'revanue_grouped_week_num_SKU_geoCluster_sum')\n",
    "full_data = lag_feature(full_data, [2,3], ['week_num','SKU','geoCluster'], 'revanue_grouped_week_num_SKU_geoCluster_mean')\n",
    "full_data = lag_feature(full_data, [2,3], ['week_num','SKU','commodity_group'], 'sales_grouped_week_num_SKU_commodity_group_sum')\n",
    "full_data = lag_feature(full_data, [2,3], ['week_num','SKU','commodity_group'], 'sales_grouped_week_num_SKU_commodity_group_mean')\n",
    "full_data = lag_feature(full_data, [2,3], ['week_num','SKU','geoCluster'], 'sales_grouped_week_num_SKU_geoCluster_sum')\n",
    "full_data = lag_feature(full_data, [2,3], ['week_num','SKU','geoCluster'], 'sales_grouped_week_num_SKU_geoCluster_mean')\n"
   ]
  },
  {
   "cell_type": "code",
   "execution_count": 84,
   "id": "13c2e383",
   "metadata": {},
   "outputs": [],
   "source": [
    "full_data = lag_feature(full_data, [1], ['month_num','commodity_group'], 'revanue_grouped_month_num_commodity_group_mean','month_num')\n",
    "full_data = lag_feature(full_data, [1], ['month_num','cityId'], 'revanue_grouped_month_num_cityId_mean','month_num')\n",
    "full_data = lag_feature(full_data, [1], ['month_num','geoCluster'], 'revanue_grouped_month_num_geoCluster_mean','month_num')\n",
    "full_data = lag_feature(full_data, [1], ['month_num','geoCluster'], 'revanue_grouped_month_num_geoCluster_sum','month_num')\n",
    "full_data = lag_feature(full_data, [1], ['month_num','commodity_group'], 'sales_grouped_month_num_commodity_group_mean','month_num')\n",
    "full_data = lag_feature(full_data, [1], ['month_num','cityId'], 'sales_grouped_month_num_cityId_mean','month_num')\n",
    "full_data = lag_feature(full_data, [1], ['month_num','geoCluster'], 'sales_grouped_month_num_geoCluster_mean','month_num')\n",
    "full_data = lag_feature(full_data, [1], ['month_num','geoCluster'], 'sales_grouped_month_num_geoCluster_sum','month_num')\n",
    "full_data = lag_feature(full_data, [1], ['month_num','SKU'], 'sales_grouped_month_num_SKU_mean','month_num')\n",
    "full_data = lag_feature(full_data, [1], ['month_num','SKU'], 'sales_grouped_month_num_SKU_sum','month_num')\n",
    "full_data = lag_feature(full_data, [1], ['month_num','SKU'], 'revanue_grouped_month_num_SKU_sum','month_num')\n",
    "full_data = lag_feature(full_data, [1], ['month_num','SKU'], 'revanue_grouped_month_num_SKU_mean','month_num')\n",
    "full_data = lag_feature(full_data, [1], ['month_num','SKU','commodity_group'], 'revanue_grouped_month_num_SKU_commodity_group_sum','month_num')\n",
    "full_data = lag_feature(full_data, [1], ['month_num','SKU','commodity_group'], 'revanue_grouped_month_num_SKU_commodity_group_mean','month_num')\n",
    "full_data = lag_feature(full_data, [1], ['month_num','SKU','geoCluster'], 'revanue_grouped_month_num_SKU_geoCluster_sum','month_num')\n",
    "full_data = lag_feature(full_data, [1], ['month_num','SKU','geoCluster'], 'revanue_grouped_month_num_SKU_geoCluster_mean','month_num')\n",
    "full_data = lag_feature(full_data, [1], ['month_num','SKU','commodity_group'], 'sales_grouped_month_num_SKU_commodity_group_sum','month_num')\n",
    "full_data = lag_feature(full_data, [1], ['month_num','SKU','commodity_group'], 'sales_grouped_month_num_SKU_commodity_group_mean','month_num')\n",
    "full_data = lag_feature(full_data, [1], ['month_num','SKU','geoCluster'], 'sales_grouped_month_num_SKU_geoCluster_sum','month_num')\n",
    "full_data = lag_feature(full_data, [1], ['month_num','SKU','geoCluster'], 'sales_grouped_month_num_SKU_geoCluster_mean','month_num')\n"
   ]
  },
  {
   "cell_type": "code",
   "execution_count": 85,
   "id": "f31e6402",
   "metadata": {},
   "outputs": [
    {
     "name": "stdout",
     "output_type": "stream",
     "text": [
      "<class 'pandas.core.frame.DataFrame'>\n",
      "Int64Index: 29622473 entries, 0 to 29622472\n",
      "Data columns (total 80 columns):\n",
      " #   Column                                                    Dtype         \n",
      "---  ------                                                    -----         \n",
      " 0   ID                                                        object        \n",
      " 1   geoCluster                                                uint16        \n",
      " 2   SKU                                                       uint32        \n",
      " 3   date                                                      datetime64[ns]\n",
      " 4   sales                                                     float16       \n",
      " 5   month                                                     uint8         \n",
      " 6   day                                                       uint8         \n",
      " 7   weekday                                                   uint8         \n",
      " 8   week_num                                                  uint8         \n",
      " 9   commodity_group                                           uint8         \n",
      " 10  productCategory_caption_RU                                object        \n",
      " 11  cityId                                                    uint8         \n",
      " 12  price                                                     float16       \n",
      " 13  lagerUnitQuantity                                         float16       \n",
      " 14  lagerUnitTypeId                                           uint8         \n",
      " 15  revanue                                                   float16       \n",
      " 16  days_on_the_market                                        int32         \n",
      " 17  days_on_the_market_geo                                    int32         \n",
      " 18  year                                                      int64         \n",
      " 19  month_num                                                 int64         \n",
      " 20  revanue_grouped_week_num_commodity_group_mean_lag_2       float16       \n",
      " 21  revanue_grouped_week_num_commodity_group_mean_lag_3       float16       \n",
      " 22  revanue_grouped_week_num_cityId_mean_lag_2                float16       \n",
      " 23  revanue_grouped_week_num_cityId_mean_lag_3                float16       \n",
      " 24  revanue_grouped_week_num_geoCluster_mean_lag_2            float16       \n",
      " 25  revanue_grouped_week_num_geoCluster_mean_lag_3            float16       \n",
      " 26  revanue_grouped_week_num_geoCluster_sum_lag_2             float16       \n",
      " 27  revanue_grouped_week_num_geoCluster_sum_lag_3             float16       \n",
      " 28  sales_grouped_week_num_commodity_group_mean_lag_2         float16       \n",
      " 29  sales_grouped_week_num_commodity_group_mean_lag_3         float16       \n",
      " 30  sales_grouped_week_num_cityId_mean_lag_2                  float16       \n",
      " 31  sales_grouped_week_num_cityId_mean_lag_3                  float16       \n",
      " 32  sales_grouped_week_num_geoCluster_mean_lag_2              float16       \n",
      " 33  sales_grouped_week_num_geoCluster_mean_lag_3              float16       \n",
      " 34  sales_grouped_week_num_geoCluster_sum_lag_2               float16       \n",
      " 35  sales_grouped_week_num_geoCluster_sum_lag_3               float16       \n",
      " 36  sales_grouped_week_num_SKU_mean_lag_2                     float16       \n",
      " 37  sales_grouped_week_num_SKU_mean_lag_3                     float16       \n",
      " 38  sales_grouped_week_num_SKU_sum_lag_2                      float16       \n",
      " 39  sales_grouped_week_num_SKU_sum_lag_3                      float16       \n",
      " 40  revanue_grouped_week_num_SKU_sum_lag_2                    float16       \n",
      " 41  revanue_grouped_week_num_SKU_sum_lag_3                    float16       \n",
      " 42  revanue_grouped_week_num_SKU_mean_lag_2                   float16       \n",
      " 43  revanue_grouped_week_num_SKU_mean_lag_3                   float16       \n",
      " 44  revanue_grouped_week_num_SKU_commodity_group_sum_lag_2    float16       \n",
      " 45  revanue_grouped_week_num_SKU_commodity_group_sum_lag_3    float16       \n",
      " 46  revanue_grouped_week_num_SKU_commodity_group_mean_lag_2   float16       \n",
      " 47  revanue_grouped_week_num_SKU_commodity_group_mean_lag_3   float16       \n",
      " 48  revanue_grouped_week_num_SKU_geoCluster_sum_lag_2         float16       \n",
      " 49  revanue_grouped_week_num_SKU_geoCluster_sum_lag_3         float16       \n",
      " 50  revanue_grouped_week_num_SKU_geoCluster_mean_lag_2        float16       \n",
      " 51  revanue_grouped_week_num_SKU_geoCluster_mean_lag_3        float16       \n",
      " 52  sales_grouped_week_num_SKU_commodity_group_sum_lag_2      float16       \n",
      " 53  sales_grouped_week_num_SKU_commodity_group_sum_lag_3      float16       \n",
      " 54  sales_grouped_week_num_SKU_commodity_group_mean_lag_2     float16       \n",
      " 55  sales_grouped_week_num_SKU_commodity_group_mean_lag_3     float16       \n",
      " 56  sales_grouped_week_num_SKU_geoCluster_sum_lag_2           float16       \n",
      " 57  sales_grouped_week_num_SKU_geoCluster_sum_lag_3           float16       \n",
      " 58  sales_grouped_week_num_SKU_geoCluster_mean_lag_2          float16       \n",
      " 59  sales_grouped_week_num_SKU_geoCluster_mean_lag_3          float16       \n",
      " 60  revanue_grouped_month_num_commodity_group_mean_lag_1      float16       \n",
      " 61  revanue_grouped_month_num_cityId_mean_lag_1               float16       \n",
      " 62  revanue_grouped_month_num_geoCluster_mean_lag_1           float16       \n",
      " 63  revanue_grouped_month_num_geoCluster_sum_lag_1            float16       \n",
      " 64  sales_grouped_month_num_commodity_group_mean_lag_1        float16       \n",
      " 65  sales_grouped_month_num_cityId_mean_lag_1                 float16       \n",
      " 66  sales_grouped_month_num_geoCluster_mean_lag_1             float16       \n",
      " 67  sales_grouped_month_num_geoCluster_sum_lag_1              float16       \n",
      " 68  sales_grouped_month_num_SKU_mean_lag_1                    float16       \n",
      " 69  sales_grouped_month_num_SKU_sum_lag_1                     float16       \n",
      " 70  revanue_grouped_month_num_SKU_sum_lag_1                   float16       \n",
      " 71  revanue_grouped_month_num_SKU_mean_lag_1                  float16       \n",
      " 72  revanue_grouped_month_num_SKU_commodity_group_sum_lag_1   float16       \n",
      " 73  revanue_grouped_month_num_SKU_commodity_group_mean_lag_1  float16       \n",
      " 74  revanue_grouped_month_num_SKU_geoCluster_sum_lag_1        float16       \n",
      " 75  revanue_grouped_month_num_SKU_geoCluster_mean_lag_1       float16       \n",
      " 76  sales_grouped_month_num_SKU_commodity_group_sum_lag_1     float16       \n",
      " 77  sales_grouped_month_num_SKU_commodity_group_mean_lag_1    float16       \n",
      " 78  sales_grouped_month_num_SKU_geoCluster_sum_lag_1          float16       \n",
      " 79  sales_grouped_month_num_SKU_geoCluster_mean_lag_1         float16       \n",
      "dtypes: datetime64[ns](1), float16(64), int32(2), int64(2), object(2), uint16(1), uint32(1), uint8(7)\n",
      "memory usage: 5.4+ GB\n"
     ]
    }
   ],
   "source": [
    "full_data.info()"
   ]
  },
  {
   "cell_type": "markdown",
   "id": "f28a745e",
   "metadata": {},
   "source": [
    "### embeddings"
   ]
  },
  {
   "cell_type": "code",
   "execution_count": 86,
   "id": "2633824d",
   "metadata": {},
   "outputs": [],
   "source": [
    "import pickle"
   ]
  },
  {
   "cell_type": "code",
   "execution_count": 94,
   "id": "fc94c817",
   "metadata": {},
   "outputs": [],
   "source": [
    "with open('word_vectors_df_final.raw','rb') as f:\n",
    "    embeddings = pickle.load(f)"
   ]
  },
  {
   "cell_type": "code",
   "execution_count": 95,
   "id": "6c7b091e",
   "metadata": {},
   "outputs": [
    {
     "data": {
      "text/html": [
       "<div>\n",
       "<style scoped>\n",
       "    .dataframe tbody tr th:only-of-type {\n",
       "        vertical-align: middle;\n",
       "    }\n",
       "\n",
       "    .dataframe tbody tr th {\n",
       "        vertical-align: top;\n",
       "    }\n",
       "\n",
       "    .dataframe thead th {\n",
       "        text-align: right;\n",
       "    }\n",
       "</style>\n",
       "<table border=\"1\" class=\"dataframe\">\n",
       "  <thead>\n",
       "    <tr style=\"text-align: right;\">\n",
       "      <th></th>\n",
       "      <th>SKU</th>\n",
       "      <th>vector_0</th>\n",
       "      <th>vector_1</th>\n",
       "      <th>vector_2</th>\n",
       "      <th>vector_3</th>\n",
       "      <th>vector_4</th>\n",
       "      <th>vector_5</th>\n",
       "      <th>vector_6</th>\n",
       "      <th>vector_7</th>\n",
       "      <th>vector_8</th>\n",
       "      <th>...</th>\n",
       "      <th>vector_10</th>\n",
       "      <th>vector_11</th>\n",
       "      <th>vector_12</th>\n",
       "      <th>vector_13</th>\n",
       "      <th>vector_14</th>\n",
       "      <th>vector_15</th>\n",
       "      <th>vector_16</th>\n",
       "      <th>vector_17</th>\n",
       "      <th>vector_18</th>\n",
       "      <th>vector_19</th>\n",
       "    </tr>\n",
       "  </thead>\n",
       "  <tbody>\n",
       "    <tr>\n",
       "      <th>0</th>\n",
       "      <td>63037.0</td>\n",
       "      <td>-0.322937</td>\n",
       "      <td>-0.218963</td>\n",
       "      <td>0.122609</td>\n",
       "      <td>0.174993</td>\n",
       "      <td>-0.127130</td>\n",
       "      <td>0.672233</td>\n",
       "      <td>0.314452</td>\n",
       "      <td>0.703398</td>\n",
       "      <td>-0.749753</td>\n",
       "      <td>...</td>\n",
       "      <td>0.377655</td>\n",
       "      <td>0.358823</td>\n",
       "      <td>0.584701</td>\n",
       "      <td>-0.345298</td>\n",
       "      <td>-0.430201</td>\n",
       "      <td>0.682621</td>\n",
       "      <td>0.347170</td>\n",
       "      <td>0.440710</td>\n",
       "      <td>-0.373100</td>\n",
       "      <td>-0.594749</td>\n",
       "    </tr>\n",
       "    <tr>\n",
       "      <th>1</th>\n",
       "      <td>369991.0</td>\n",
       "      <td>-0.530402</td>\n",
       "      <td>-0.174640</td>\n",
       "      <td>0.669556</td>\n",
       "      <td>0.438602</td>\n",
       "      <td>-0.032044</td>\n",
       "      <td>0.589425</td>\n",
       "      <td>0.033624</td>\n",
       "      <td>-0.291766</td>\n",
       "      <td>-0.252449</td>\n",
       "      <td>...</td>\n",
       "      <td>0.654911</td>\n",
       "      <td>0.287800</td>\n",
       "      <td>0.708134</td>\n",
       "      <td>-0.425659</td>\n",
       "      <td>-0.335926</td>\n",
       "      <td>0.917610</td>\n",
       "      <td>0.296214</td>\n",
       "      <td>0.284212</td>\n",
       "      <td>-0.516138</td>\n",
       "      <td>0.192664</td>\n",
       "    </tr>\n",
       "    <tr>\n",
       "      <th>2</th>\n",
       "      <td>507343.0</td>\n",
       "      <td>0.511832</td>\n",
       "      <td>0.766874</td>\n",
       "      <td>0.526181</td>\n",
       "      <td>-0.115125</td>\n",
       "      <td>-0.058246</td>\n",
       "      <td>0.213906</td>\n",
       "      <td>-0.182968</td>\n",
       "      <td>0.336825</td>\n",
       "      <td>0.677556</td>\n",
       "      <td>...</td>\n",
       "      <td>-0.715574</td>\n",
       "      <td>0.655426</td>\n",
       "      <td>-0.187240</td>\n",
       "      <td>-0.188518</td>\n",
       "      <td>0.139906</td>\n",
       "      <td>0.625697</td>\n",
       "      <td>-0.311503</td>\n",
       "      <td>0.877174</td>\n",
       "      <td>-0.233270</td>\n",
       "      <td>0.337405</td>\n",
       "    </tr>\n",
       "    <tr>\n",
       "      <th>3</th>\n",
       "      <td>556482.0</td>\n",
       "      <td>0.659154</td>\n",
       "      <td>0.579537</td>\n",
       "      <td>-0.023390</td>\n",
       "      <td>0.132012</td>\n",
       "      <td>0.138780</td>\n",
       "      <td>-0.254804</td>\n",
       "      <td>-0.686375</td>\n",
       "      <td>0.817663</td>\n",
       "      <td>0.461126</td>\n",
       "      <td>...</td>\n",
       "      <td>-0.608602</td>\n",
       "      <td>0.589403</td>\n",
       "      <td>-0.231302</td>\n",
       "      <td>-0.571969</td>\n",
       "      <td>0.269379</td>\n",
       "      <td>0.187583</td>\n",
       "      <td>-0.512026</td>\n",
       "      <td>0.339975</td>\n",
       "      <td>-0.497821</td>\n",
       "      <td>0.599143</td>\n",
       "    </tr>\n",
       "    <tr>\n",
       "      <th>4</th>\n",
       "      <td>34635.0</td>\n",
       "      <td>-0.448837</td>\n",
       "      <td>-0.385543</td>\n",
       "      <td>0.110735</td>\n",
       "      <td>-0.216531</td>\n",
       "      <td>-0.374008</td>\n",
       "      <td>0.213050</td>\n",
       "      <td>0.677165</td>\n",
       "      <td>0.356484</td>\n",
       "      <td>-0.472856</td>\n",
       "      <td>...</td>\n",
       "      <td>0.343460</td>\n",
       "      <td>0.313001</td>\n",
       "      <td>0.404658</td>\n",
       "      <td>-0.677613</td>\n",
       "      <td>-0.911389</td>\n",
       "      <td>0.279153</td>\n",
       "      <td>0.462570</td>\n",
       "      <td>0.457193</td>\n",
       "      <td>-0.283232</td>\n",
       "      <td>-0.933827</td>\n",
       "    </tr>\n",
       "  </tbody>\n",
       "</table>\n",
       "<p>5 rows × 21 columns</p>\n",
       "</div>"
      ],
      "text/plain": [
       "        SKU  vector_0  vector_1  vector_2  vector_3  vector_4  vector_5  \\\n",
       "0   63037.0 -0.322937 -0.218963  0.122609  0.174993 -0.127130  0.672233   \n",
       "1  369991.0 -0.530402 -0.174640  0.669556  0.438602 -0.032044  0.589425   \n",
       "2  507343.0  0.511832  0.766874  0.526181 -0.115125 -0.058246  0.213906   \n",
       "3  556482.0  0.659154  0.579537 -0.023390  0.132012  0.138780 -0.254804   \n",
       "4   34635.0 -0.448837 -0.385543  0.110735 -0.216531 -0.374008  0.213050   \n",
       "\n",
       "   vector_6  vector_7  vector_8  ...  vector_10  vector_11  vector_12  \\\n",
       "0  0.314452  0.703398 -0.749753  ...   0.377655   0.358823   0.584701   \n",
       "1  0.033624 -0.291766 -0.252449  ...   0.654911   0.287800   0.708134   \n",
       "2 -0.182968  0.336825  0.677556  ...  -0.715574   0.655426  -0.187240   \n",
       "3 -0.686375  0.817663  0.461126  ...  -0.608602   0.589403  -0.231302   \n",
       "4  0.677165  0.356484 -0.472856  ...   0.343460   0.313001   0.404658   \n",
       "\n",
       "   vector_13  vector_14  vector_15  vector_16  vector_17  vector_18  vector_19  \n",
       "0  -0.345298  -0.430201   0.682621   0.347170   0.440710  -0.373100  -0.594749  \n",
       "1  -0.425659  -0.335926   0.917610   0.296214   0.284212  -0.516138   0.192664  \n",
       "2  -0.188518   0.139906   0.625697  -0.311503   0.877174  -0.233270   0.337405  \n",
       "3  -0.571969   0.269379   0.187583  -0.512026   0.339975  -0.497821   0.599143  \n",
       "4  -0.677613  -0.911389   0.279153   0.462570   0.457193  -0.283232  -0.933827  \n",
       "\n",
       "[5 rows x 21 columns]"
      ]
     },
     "execution_count": 95,
     "metadata": {},
     "output_type": "execute_result"
    }
   ],
   "source": [
    "embeddings.head()"
   ]
  },
  {
   "cell_type": "code",
   "execution_count": 96,
   "id": "4fc26f04",
   "metadata": {},
   "outputs": [
    {
     "data": {
      "text/plain": [
       "1961"
      ]
     },
     "execution_count": 96,
     "metadata": {},
     "output_type": "execute_result"
    }
   ],
   "source": [
    "embeddings['SKU'].nunique()"
   ]
  },
  {
   "cell_type": "code",
   "execution_count": 97,
   "id": "4c5abaac",
   "metadata": {},
   "outputs": [],
   "source": [
    "embeddings['SKU'] = embeddings['SKU'].astype('uint32')"
   ]
  },
  {
   "cell_type": "code",
   "execution_count": 98,
   "id": "079773f2",
   "metadata": {},
   "outputs": [],
   "source": [
    "full_data = full_data.merge(embeddings, on='SKU',how='left')"
   ]
  },
  {
   "cell_type": "code",
   "execution_count": 99,
   "id": "bde04076",
   "metadata": {},
   "outputs": [],
   "source": [
    "for i in full_data.columns:\n",
    "    if 'float' in str(full_data[i].dtype):\n",
    "            full_data[i] = full_data[i].astype('float16')"
   ]
  },
  {
   "cell_type": "markdown",
   "id": "0c07110c",
   "metadata": {},
   "source": [
    "### tf idf features"
   ]
  },
  {
   "cell_type": "code",
   "execution_count": 100,
   "id": "ed006849",
   "metadata": {},
   "outputs": [],
   "source": [
    "sku_meta = pd.read_csv('../sku_final.csv')"
   ]
  },
  {
   "cell_type": "code",
   "execution_count": 101,
   "id": "efa8ad29",
   "metadata": {},
   "outputs": [],
   "source": [
    "sku_meta['productCategory_caption_RU'] = sku_meta['productCategory_caption_RU'].str.lower()"
   ]
  },
  {
   "cell_type": "code",
   "execution_count": 102,
   "id": "8fe79092",
   "metadata": {},
   "outputs": [
    {
     "data": {
      "text/plain": [
       "874109"
      ]
     },
     "execution_count": 102,
     "metadata": {},
     "output_type": "execute_result"
    }
   ],
   "source": [
    "sku_meta['SKU'].max()\n"
   ]
  },
  {
   "cell_type": "code",
   "execution_count": 103,
   "id": "66b3a34d",
   "metadata": {},
   "outputs": [
    {
     "data": {
      "text/plain": [
       "874109"
      ]
     },
     "execution_count": 103,
     "metadata": {},
     "output_type": "execute_result"
    }
   ],
   "source": [
    "full_data['SKU'].max()"
   ]
  },
  {
   "cell_type": "code",
   "execution_count": 104,
   "id": "7d539d02",
   "metadata": {},
   "outputs": [
    {
     "data": {
      "text/plain": [
       "874109"
      ]
     },
     "execution_count": 104,
     "metadata": {},
     "output_type": "execute_result"
    }
   ],
   "source": [
    "sku_meta['SKU'].max()"
   ]
  },
  {
   "cell_type": "code",
   "execution_count": 105,
   "id": "81b222e0",
   "metadata": {},
   "outputs": [
    {
     "data": {
      "text/plain": [
       "874109"
      ]
     },
     "execution_count": 105,
     "metadata": {},
     "output_type": "execute_result"
    }
   ],
   "source": [
    "sku_meta['SKU'].max()"
   ]
  },
  {
   "cell_type": "code",
   "execution_count": 106,
   "id": "14406e31",
   "metadata": {},
   "outputs": [
    {
     "data": {
      "text/plain": [
       "0"
      ]
     },
     "execution_count": 106,
     "metadata": {},
     "output_type": "execute_result"
    }
   ],
   "source": [
    "len(set(sku_meta['SKU'].unique()).difference(full_data['SKU'].unique()))"
   ]
  },
  {
   "cell_type": "code",
   "execution_count": 107,
   "id": "1a7179fc",
   "metadata": {},
   "outputs": [],
   "source": [
    "description = np.hstack(sku_meta['productCategory_caption_RU'].apply(lambda x: x.split(' ')))\n",
    "unique_tokens_desc, frequency_desc = np.unique(description, return_counts=True)"
   ]
  },
  {
   "cell_type": "code",
   "execution_count": 108,
   "id": "81044042",
   "metadata": {},
   "outputs": [],
   "source": [
    "tokens = sorted(list(zip(unique_tokens_desc, frequency_desc)),key=lambda x: x[1])[::-1]"
   ]
  },
  {
   "cell_type": "code",
   "execution_count": 109,
   "id": "3ac4ad96",
   "metadata": {},
   "outputs": [],
   "source": [
    "top_tokens = [i[0] for i in tokens[1:21]]"
   ]
  },
  {
   "cell_type": "code",
   "execution_count": 110,
   "id": "a337622a",
   "metadata": {},
   "outputs": [
    {
     "data": {
      "text/plain": [
       "['собств',\n",
       " 'производства',\n",
       " 'сыры',\n",
       " 'начинкой',\n",
       " 'вода',\n",
       " 'произв',\n",
       " 'собственного',\n",
       " 'йогурты',\n",
       " 'полутвердые',\n",
       " 'украины',\n",
       " 'без',\n",
       " 'молочные',\n",
       " 'сдоба',\n",
       " 'хлеб',\n",
       " 'допек',\n",
       " 'десерты',\n",
       " 'добавками',\n",
       " 'газированная',\n",
       " 'добавок',\n",
       " 'импортная']"
      ]
     },
     "execution_count": 110,
     "metadata": {},
     "output_type": "execute_result"
    }
   ],
   "source": [
    "top_tokens"
   ]
  },
  {
   "cell_type": "code",
   "execution_count": 111,
   "id": "724281b7",
   "metadata": {},
   "outputs": [],
   "source": [
    "from sklearn.feature_extraction.text import TfidfVectorizer"
   ]
  },
  {
   "cell_type": "code",
   "execution_count": 112,
   "id": "b0941204",
   "metadata": {},
   "outputs": [],
   "source": [
    "vectorizer = TfidfVectorizer()"
   ]
  },
  {
   "cell_type": "code",
   "execution_count": 113,
   "id": "7c8e8c79",
   "metadata": {},
   "outputs": [],
   "source": [
    "tfidf_result = vectorizer.fit_transform(sku_meta['productCategory_caption_RU'])"
   ]
  },
  {
   "cell_type": "code",
   "execution_count": 114,
   "id": "ea5d6ef8",
   "metadata": {},
   "outputs": [],
   "source": [
    "tfidf_result = pd.DataFrame(tfidf_result.todense(), columns=vectorizer.get_feature_names())"
   ]
  },
  {
   "cell_type": "code",
   "execution_count": 115,
   "id": "6e5e1df8",
   "metadata": {},
   "outputs": [],
   "source": [
    "meta = pd.concat([sku_meta[['SKU']], tfidf_result[top_tokens]], axis=1)"
   ]
  },
  {
   "cell_type": "code",
   "execution_count": 116,
   "id": "578abe7e",
   "metadata": {},
   "outputs": [
    {
     "data": {
      "text/html": [
       "<div>\n",
       "<style scoped>\n",
       "    .dataframe tbody tr th:only-of-type {\n",
       "        vertical-align: middle;\n",
       "    }\n",
       "\n",
       "    .dataframe tbody tr th {\n",
       "        vertical-align: top;\n",
       "    }\n",
       "\n",
       "    .dataframe thead th {\n",
       "        text-align: right;\n",
       "    }\n",
       "</style>\n",
       "<table border=\"1\" class=\"dataframe\">\n",
       "  <thead>\n",
       "    <tr style=\"text-align: right;\">\n",
       "      <th></th>\n",
       "      <th>SKU</th>\n",
       "      <th>собств</th>\n",
       "      <th>производства</th>\n",
       "      <th>сыры</th>\n",
       "      <th>начинкой</th>\n",
       "      <th>вода</th>\n",
       "      <th>произв</th>\n",
       "      <th>собственного</th>\n",
       "      <th>йогурты</th>\n",
       "      <th>полутвердые</th>\n",
       "      <th>...</th>\n",
       "      <th>без</th>\n",
       "      <th>молочные</th>\n",
       "      <th>сдоба</th>\n",
       "      <th>хлеб</th>\n",
       "      <th>допек</th>\n",
       "      <th>десерты</th>\n",
       "      <th>добавками</th>\n",
       "      <th>газированная</th>\n",
       "      <th>добавок</th>\n",
       "      <th>импортная</th>\n",
       "    </tr>\n",
       "  </thead>\n",
       "  <tbody>\n",
       "    <tr>\n",
       "      <th>0</th>\n",
       "      <td>17</td>\n",
       "      <td>0.0</td>\n",
       "      <td>0.0</td>\n",
       "      <td>0.0</td>\n",
       "      <td>0.0</td>\n",
       "      <td>0.00000</td>\n",
       "      <td>0.0</td>\n",
       "      <td>0.0</td>\n",
       "      <td>0.0</td>\n",
       "      <td>0.0</td>\n",
       "      <td>...</td>\n",
       "      <td>0.0</td>\n",
       "      <td>0.0</td>\n",
       "      <td>0.0</td>\n",
       "      <td>0.0</td>\n",
       "      <td>0.0</td>\n",
       "      <td>0.0</td>\n",
       "      <td>0.0</td>\n",
       "      <td>0.000000</td>\n",
       "      <td>0.0</td>\n",
       "      <td>0.0</td>\n",
       "    </tr>\n",
       "    <tr>\n",
       "      <th>1</th>\n",
       "      <td>18</td>\n",
       "      <td>0.0</td>\n",
       "      <td>0.0</td>\n",
       "      <td>0.0</td>\n",
       "      <td>0.0</td>\n",
       "      <td>0.00000</td>\n",
       "      <td>0.0</td>\n",
       "      <td>0.0</td>\n",
       "      <td>0.0</td>\n",
       "      <td>0.0</td>\n",
       "      <td>...</td>\n",
       "      <td>0.0</td>\n",
       "      <td>0.0</td>\n",
       "      <td>0.0</td>\n",
       "      <td>0.0</td>\n",
       "      <td>0.0</td>\n",
       "      <td>0.0</td>\n",
       "      <td>0.0</td>\n",
       "      <td>0.000000</td>\n",
       "      <td>0.0</td>\n",
       "      <td>0.0</td>\n",
       "    </tr>\n",
       "    <tr>\n",
       "      <th>2</th>\n",
       "      <td>24</td>\n",
       "      <td>0.0</td>\n",
       "      <td>0.0</td>\n",
       "      <td>0.0</td>\n",
       "      <td>0.0</td>\n",
       "      <td>0.00000</td>\n",
       "      <td>0.0</td>\n",
       "      <td>0.0</td>\n",
       "      <td>0.0</td>\n",
       "      <td>0.0</td>\n",
       "      <td>...</td>\n",
       "      <td>0.0</td>\n",
       "      <td>0.0</td>\n",
       "      <td>0.0</td>\n",
       "      <td>0.0</td>\n",
       "      <td>0.0</td>\n",
       "      <td>0.0</td>\n",
       "      <td>0.0</td>\n",
       "      <td>0.000000</td>\n",
       "      <td>0.0</td>\n",
       "      <td>0.0</td>\n",
       "    </tr>\n",
       "    <tr>\n",
       "      <th>3</th>\n",
       "      <td>25</td>\n",
       "      <td>0.0</td>\n",
       "      <td>0.0</td>\n",
       "      <td>0.0</td>\n",
       "      <td>0.0</td>\n",
       "      <td>0.00000</td>\n",
       "      <td>0.0</td>\n",
       "      <td>0.0</td>\n",
       "      <td>0.0</td>\n",
       "      <td>0.0</td>\n",
       "      <td>...</td>\n",
       "      <td>0.0</td>\n",
       "      <td>0.0</td>\n",
       "      <td>0.0</td>\n",
       "      <td>0.0</td>\n",
       "      <td>0.0</td>\n",
       "      <td>0.0</td>\n",
       "      <td>0.0</td>\n",
       "      <td>0.000000</td>\n",
       "      <td>0.0</td>\n",
       "      <td>0.0</td>\n",
       "    </tr>\n",
       "    <tr>\n",
       "      <th>4</th>\n",
       "      <td>208</td>\n",
       "      <td>0.0</td>\n",
       "      <td>0.0</td>\n",
       "      <td>0.0</td>\n",
       "      <td>0.0</td>\n",
       "      <td>0.50504</td>\n",
       "      <td>0.0</td>\n",
       "      <td>0.0</td>\n",
       "      <td>0.0</td>\n",
       "      <td>0.0</td>\n",
       "      <td>...</td>\n",
       "      <td>0.0</td>\n",
       "      <td>0.0</td>\n",
       "      <td>0.0</td>\n",
       "      <td>0.0</td>\n",
       "      <td>0.0</td>\n",
       "      <td>0.0</td>\n",
       "      <td>0.0</td>\n",
       "      <td>0.632247</td>\n",
       "      <td>0.0</td>\n",
       "      <td>0.0</td>\n",
       "    </tr>\n",
       "  </tbody>\n",
       "</table>\n",
       "<p>5 rows × 21 columns</p>\n",
       "</div>"
      ],
      "text/plain": [
       "   SKU  собств  производства  сыры  начинкой     вода  произв  собственного  \\\n",
       "0   17     0.0           0.0   0.0       0.0  0.00000     0.0           0.0   \n",
       "1   18     0.0           0.0   0.0       0.0  0.00000     0.0           0.0   \n",
       "2   24     0.0           0.0   0.0       0.0  0.00000     0.0           0.0   \n",
       "3   25     0.0           0.0   0.0       0.0  0.00000     0.0           0.0   \n",
       "4  208     0.0           0.0   0.0       0.0  0.50504     0.0           0.0   \n",
       "\n",
       "   йогурты  полутвердые  ...  без  молочные  сдоба  хлеб  допек  десерты  \\\n",
       "0      0.0          0.0  ...  0.0       0.0    0.0   0.0    0.0      0.0   \n",
       "1      0.0          0.0  ...  0.0       0.0    0.0   0.0    0.0      0.0   \n",
       "2      0.0          0.0  ...  0.0       0.0    0.0   0.0    0.0      0.0   \n",
       "3      0.0          0.0  ...  0.0       0.0    0.0   0.0    0.0      0.0   \n",
       "4      0.0          0.0  ...  0.0       0.0    0.0   0.0    0.0      0.0   \n",
       "\n",
       "   добавками  газированная  добавок  импортная  \n",
       "0        0.0      0.000000      0.0        0.0  \n",
       "1        0.0      0.000000      0.0        0.0  \n",
       "2        0.0      0.000000      0.0        0.0  \n",
       "3        0.0      0.000000      0.0        0.0  \n",
       "4        0.0      0.632247      0.0        0.0  \n",
       "\n",
       "[5 rows x 21 columns]"
      ]
     },
     "execution_count": 116,
     "metadata": {},
     "output_type": "execute_result"
    }
   ],
   "source": [
    "meta.head()"
   ]
  },
  {
   "cell_type": "code",
   "execution_count": 117,
   "id": "d5afdb50",
   "metadata": {},
   "outputs": [
    {
     "data": {
      "text/plain": [
       "(1961, 21)"
      ]
     },
     "execution_count": 117,
     "metadata": {},
     "output_type": "execute_result"
    }
   ],
   "source": [
    "meta.shape"
   ]
  },
  {
   "cell_type": "code",
   "execution_count": 118,
   "id": "364a57d6",
   "metadata": {},
   "outputs": [],
   "source": [
    "for i in meta.columns:\n",
    "    if 'float' in str(meta[i].dtype):\n",
    "            meta[i] = meta[i].astype('float16')"
   ]
  },
  {
   "cell_type": "code",
   "execution_count": 119,
   "id": "46c79bf5",
   "metadata": {},
   "outputs": [
    {
     "data": {
      "text/plain": [
       "1961"
      ]
     },
     "execution_count": 119,
     "metadata": {},
     "output_type": "execute_result"
    }
   ],
   "source": [
    "len(set(full_data['SKU'].unique()).intersection(meta['SKU']))"
   ]
  },
  {
   "cell_type": "code",
   "execution_count": 120,
   "id": "b00db79d",
   "metadata": {},
   "outputs": [],
   "source": [
    "full_data = full_data.merge(meta, on='SKU', how='left')"
   ]
  },
  {
   "cell_type": "code",
   "execution_count": 121,
   "id": "608d5206",
   "metadata": {},
   "outputs": [
    {
     "name": "stdout",
     "output_type": "stream",
     "text": [
      "<class 'pandas.core.frame.DataFrame'>\n",
      "Int64Index: 29622473 entries, 0 to 29622472\n",
      "Columns: 120 entries, ID to импортная\n",
      "dtypes: datetime64[ns](1), float16(104), int32(2), int64(2), object(2), uint16(1), uint32(1), uint8(7)\n",
      "memory usage: 7.6+ GB\n"
     ]
    }
   ],
   "source": [
    "full_data.info()"
   ]
  },
  {
   "cell_type": "code",
   "execution_count": 122,
   "id": "5b0cae36",
   "metadata": {},
   "outputs": [],
   "source": [
    "dict_mapping = {'собств':'sobstv', 'производства':'proizvodstva',\n",
    "'сыры':'siri', 'начинкой':'na4inkoi', 'вода':'voda', 'произв':'proizv', \n",
    "'собственного':'sobstvennogo', 'йогурты' : 'yogurty',\n",
    "'полутвердые':'polytverdie', 'украины':'ukraini', 'без':'bez', 'молочные':'molochnie',\n",
    "'сдоба':'sdoba', 'хлеб':'hleb', 'допек':'dopek',\n",
    "'десерты':'deserti', 'добавками':'dobavkami', 'газированная':'gzirovanaya', \n",
    "'добавок':'dobavok', 'импортная':'importnaya'}"
   ]
  },
  {
   "cell_type": "code",
   "execution_count": 123,
   "id": "7e671894",
   "metadata": {},
   "outputs": [],
   "source": [
    "full_data = full_data.rename(columns=dict_mapping)"
   ]
  },
  {
   "cell_type": "markdown",
   "id": "7eaaa146",
   "metadata": {},
   "source": [
    "### holidays feture"
   ]
  },
  {
   "cell_type": "code",
   "execution_count": 124,
   "id": "b05e1433",
   "metadata": {},
   "outputs": [
    {
     "name": "stdout",
     "output_type": "stream",
     "text": [
      "Looking in indexes: https://pypi.org/simple, https://pip.repos.neuron.amazonaws.com\n",
      "Collecting holidays\n",
      "  Downloading holidays-0.11.3.1-py3-none-any.whl (155 kB)\n",
      "\u001b[K     |████████████████████████████████| 155 kB 41.3 MB/s eta 0:00:01\n",
      "\u001b[?25hRequirement already satisfied: python-dateutil in /home/ubuntu/dsteam/jupyter_env/lib/python3.8/site-packages (from holidays) (2.8.2)\n",
      "Collecting korean-lunar-calendar\n",
      "  Downloading korean_lunar_calendar-0.2.1-py3-none-any.whl (8.0 kB)\n",
      "Collecting convertdate>=2.3.0\n",
      "  Downloading convertdate-2.3.2-py3-none-any.whl (47 kB)\n",
      "\u001b[K     |████████████████████████████████| 47 kB 9.1 MB/s  eta 0:00:01\n",
      "\u001b[?25hCollecting hijri-converter\n",
      "  Downloading hijri_converter-2.2.2-py3-none-any.whl (13 kB)\n",
      "Requirement already satisfied: pytz>=2014.10 in /home/ubuntu/dsteam/jupyter_env/lib/python3.8/site-packages (from convertdate>=2.3.0->holidays) (2021.1)\n",
      "Collecting pymeeus<=1,>=0.3.13\n",
      "  Downloading PyMeeus-0.5.11.tar.gz (5.4 MB)\n",
      "\u001b[K     |████████████████████████████████| 5.4 MB 120.4 MB/s eta 0:00:01\n",
      "\u001b[?25hRequirement already satisfied: six>=1.5 in /home/ubuntu/dsteam/jupyter_env/lib/python3.8/site-packages (from python-dateutil->holidays) (1.15.0)\n",
      "Building wheels for collected packages: pymeeus\n",
      "  Building wheel for pymeeus (setup.py) ... \u001b[?25ldone\n",
      "\u001b[?25h  Created wheel for pymeeus: filename=PyMeeus-0.5.11-py3-none-any.whl size=730984 sha256=56e2543a868d5e53cece0972cc3a18c44eace5842ef633db85d7fe6b8c0540b0\n",
      "  Stored in directory: /home/ubuntu/.cache/pip/wheels/a0/8b/b2/810ae5a6f970c8be4725353400d643c90de1c0f023a9884ee7\n",
      "Successfully built pymeeus\n",
      "Installing collected packages: pymeeus, korean-lunar-calendar, hijri-converter, convertdate, holidays\n",
      "Successfully installed convertdate-2.3.2 hijri-converter-2.2.2 holidays-0.11.3.1 korean-lunar-calendar-0.2.1 pymeeus-0.5.11\n",
      "\u001b[33mWARNING: You are using pip version 21.2.4; however, version 21.3.1 is available.\n",
      "You should consider upgrading via the '/home/ubuntu/dsteam/jupyter_env/bin/python3.8 -m pip install --upgrade pip' command.\u001b[0m\n"
     ]
    }
   ],
   "source": [
    "!pip install holidays"
   ]
  },
  {
   "cell_type": "code",
   "execution_count": 125,
   "id": "b574c92c",
   "metadata": {},
   "outputs": [],
   "source": [
    "import datetime"
   ]
  },
  {
   "cell_type": "code",
   "execution_count": 126,
   "id": "4d296b25",
   "metadata": {},
   "outputs": [
    {
     "name": "stdout",
     "output_type": "stream",
     "text": [
      "2020-01-01 Новий рік\n",
      "2020-01-07 Різдво Христове (православне)\n",
      "2020-03-08 Міжнародний жіночий день\n",
      "2020-04-19 Пасха (Великдень)\n",
      "2020-05-01 День праці\n",
      "2020-05-09 День перемоги\n",
      "2020-06-07 Трійця\n",
      "2020-06-28 День Конституції України\n",
      "2020-08-24 День незалежності України\n",
      "2020-10-14 День захисника України\n",
      "2020-12-25 Різдво Христове (католицьке)\n",
      "2021-01-01 Новий рік\n",
      "2021-01-07 Різдво Христове (православне)\n",
      "2021-03-08 Міжнародний жіночий день\n",
      "2021-05-01 День праці\n",
      "2021-05-02 Пасха (Великдень)\n",
      "2021-05-09 День перемоги\n",
      "2021-06-20 Трійця\n",
      "2021-06-28 День Конституції України\n",
      "2021-08-24 День незалежності України\n",
      "2021-10-14 День захисника України\n",
      "2021-12-25 Різдво Христове (католицьке)\n"
     ]
    }
   ],
   "source": [
    "import holidays\n",
    "ukr_holidays = holidays.Ukraine()\n",
    "ukr_holidays_2020_2021 = {}\n",
    "for date, name in sorted(holidays.Ukraine(years=2020).items()):\n",
    "    print(date, name)\n",
    "    ukr_holidays_2020_2021[date] = name\n",
    "for date, name in sorted(holidays.Ukraine(years=2021).items()):\n",
    "    print(date, name)\n",
    "    ukr_holidays_2020_2021[date] = name\n",
    "\n",
    "ukr_holidays_2020_2021[datetime.datetime(2020, 11, 23)] = 'Black Friday'\n",
    "ukr_holidays_2020_2021[datetime.datetime(2020, 11, 24)] = 'Black Friday'\n",
    "ukr_holidays_2020_2021[datetime.datetime(2020, 11, 25)] = 'Black Friday'\n",
    "ukr_holidays_2020_2021[datetime.datetime(2020, 11, 26)] = 'Black Friday'\n",
    "ukr_holidays_2020_2021[datetime.datetime(2020, 11, 27)] = 'Black Friday'\n",
    "ukr_holidays_2020_2021[datetime.datetime(2020, 11, 28)] = 'Black Friday'\n",
    "ukr_holidays_2020_2021[datetime.datetime(2020, 11, 29)] = 'Black Friday'\n",
    "ukr_holidays_2020_2021_df = pd.DataFrame.from_dict(data = ukr_holidays_2020_2021.items())\n",
    "ukr_holidays_2020_2021_df.columns = ['date','holliday_name']\n",
    "ukr_holidays_2020_2021_df['date'] = pd.to_datetime(ukr_holidays_2020_2021_df['date'])\n",
    "ukr_holidays_2020_2021_df['is_holiday'] = 1"
   ]
  },
  {
   "cell_type": "code",
   "execution_count": 127,
   "id": "35546dbb",
   "metadata": {},
   "outputs": [
    {
     "data": {
      "text/html": [
       "<div>\n",
       "<style scoped>\n",
       "    .dataframe tbody tr th:only-of-type {\n",
       "        vertical-align: middle;\n",
       "    }\n",
       "\n",
       "    .dataframe tbody tr th {\n",
       "        vertical-align: top;\n",
       "    }\n",
       "\n",
       "    .dataframe thead th {\n",
       "        text-align: right;\n",
       "    }\n",
       "</style>\n",
       "<table border=\"1\" class=\"dataframe\">\n",
       "  <thead>\n",
       "    <tr style=\"text-align: right;\">\n",
       "      <th></th>\n",
       "      <th>date</th>\n",
       "      <th>holliday_name</th>\n",
       "      <th>is_holiday</th>\n",
       "    </tr>\n",
       "  </thead>\n",
       "  <tbody>\n",
       "    <tr>\n",
       "      <th>0</th>\n",
       "      <td>2020-01-01</td>\n",
       "      <td>Новий рік</td>\n",
       "      <td>1</td>\n",
       "    </tr>\n",
       "    <tr>\n",
       "      <th>1</th>\n",
       "      <td>2020-01-07</td>\n",
       "      <td>Різдво Христове (православне)</td>\n",
       "      <td>1</td>\n",
       "    </tr>\n",
       "    <tr>\n",
       "      <th>2</th>\n",
       "      <td>2020-03-08</td>\n",
       "      <td>Міжнародний жіночий день</td>\n",
       "      <td>1</td>\n",
       "    </tr>\n",
       "    <tr>\n",
       "      <th>3</th>\n",
       "      <td>2020-04-19</td>\n",
       "      <td>Пасха (Великдень)</td>\n",
       "      <td>1</td>\n",
       "    </tr>\n",
       "    <tr>\n",
       "      <th>4</th>\n",
       "      <td>2020-05-01</td>\n",
       "      <td>День праці</td>\n",
       "      <td>1</td>\n",
       "    </tr>\n",
       "  </tbody>\n",
       "</table>\n",
       "</div>"
      ],
      "text/plain": [
       "        date                  holliday_name  is_holiday\n",
       "0 2020-01-01                      Новий рік           1\n",
       "1 2020-01-07  Різдво Христове (православне)           1\n",
       "2 2020-03-08       Міжнародний жіночий день           1\n",
       "3 2020-04-19              Пасха (Великдень)           1\n",
       "4 2020-05-01                     День праці           1"
      ]
     },
     "execution_count": 127,
     "metadata": {},
     "output_type": "execute_result"
    }
   ],
   "source": [
    "ukr_holidays_2020_2021_df.head()"
   ]
  },
  {
   "cell_type": "code",
   "execution_count": 128,
   "id": "51d00f2a",
   "metadata": {},
   "outputs": [],
   "source": [
    "full_data = pd.merge(full_data, ukr_holidays_2020_2021_df[['date','is_holiday']], on = 'date', how='left')\n",
    "full_data['is_holiday'].fillna(0, inplace = True)"
   ]
  },
  {
   "cell_type": "code",
   "execution_count": 129,
   "id": "c439e84a",
   "metadata": {},
   "outputs": [
    {
     "data": {
      "text/plain": [
       "True"
      ]
     },
     "execution_count": 129,
     "metadata": {},
     "output_type": "execute_result"
    }
   ],
   "source": [
    "full_data.shape[0]==29622473"
   ]
  },
  {
   "cell_type": "code",
   "execution_count": 130,
   "id": "274d1e1d",
   "metadata": {},
   "outputs": [],
   "source": [
    "full_data = change_type(full_data, 'is_holiday','uint8')"
   ]
  },
  {
   "cell_type": "markdown",
   "id": "804c77a9",
   "metadata": {},
   "source": [
    "### is discount feature"
   ]
  },
  {
   "cell_type": "markdown",
   "id": "f16689bd",
   "metadata": {},
   "source": [
    "### lockdown feature"
   ]
  },
  {
   "cell_type": "code",
   "execution_count": 131,
   "id": "27fd5089",
   "metadata": {},
   "outputs": [],
   "source": [
    "lock_down = pd.read_csv('lockdown.csv')"
   ]
  },
  {
   "cell_type": "code",
   "execution_count": 132,
   "id": "0da5c49d",
   "metadata": {},
   "outputs": [
    {
     "data": {
      "text/html": [
       "<div>\n",
       "<style scoped>\n",
       "    .dataframe tbody tr th:only-of-type {\n",
       "        vertical-align: middle;\n",
       "    }\n",
       "\n",
       "    .dataframe tbody tr th {\n",
       "        vertical-align: top;\n",
       "    }\n",
       "\n",
       "    .dataframe thead th {\n",
       "        text-align: right;\n",
       "    }\n",
       "</style>\n",
       "<table border=\"1\" class=\"dataframe\">\n",
       "  <thead>\n",
       "    <tr style=\"text-align: right;\">\n",
       "      <th></th>\n",
       "      <th>date</th>\n",
       "      <th>lockdown</th>\n",
       "    </tr>\n",
       "  </thead>\n",
       "  <tbody>\n",
       "    <tr>\n",
       "      <th>0</th>\n",
       "      <td>2020-01-01</td>\n",
       "      <td>0</td>\n",
       "    </tr>\n",
       "    <tr>\n",
       "      <th>1</th>\n",
       "      <td>2020-01-02</td>\n",
       "      <td>0</td>\n",
       "    </tr>\n",
       "    <tr>\n",
       "      <th>2</th>\n",
       "      <td>2020-01-03</td>\n",
       "      <td>0</td>\n",
       "    </tr>\n",
       "    <tr>\n",
       "      <th>3</th>\n",
       "      <td>2020-01-04</td>\n",
       "      <td>0</td>\n",
       "    </tr>\n",
       "    <tr>\n",
       "      <th>4</th>\n",
       "      <td>2020-01-05</td>\n",
       "      <td>0</td>\n",
       "    </tr>\n",
       "  </tbody>\n",
       "</table>\n",
       "</div>"
      ],
      "text/plain": [
       "         date  lockdown\n",
       "0  2020-01-01         0\n",
       "1  2020-01-02         0\n",
       "2  2020-01-03         0\n",
       "3  2020-01-04         0\n",
       "4  2020-01-05         0"
      ]
     },
     "execution_count": 132,
     "metadata": {},
     "output_type": "execute_result"
    }
   ],
   "source": [
    "lock_down.head()"
   ]
  },
  {
   "cell_type": "code",
   "execution_count": 133,
   "id": "a4527359",
   "metadata": {},
   "outputs": [
    {
     "data": {
      "text/plain": [
       "(566, 2)"
      ]
     },
     "execution_count": 133,
     "metadata": {},
     "output_type": "execute_result"
    }
   ],
   "source": [
    "lock_down.shape"
   ]
  },
  {
   "cell_type": "code",
   "execution_count": 134,
   "id": "dc681f96",
   "metadata": {},
   "outputs": [
    {
     "data": {
      "text/plain": [
       "date          0\n",
       "lockdown    162\n",
       "dtype: int64"
      ]
     },
     "execution_count": 134,
     "metadata": {},
     "output_type": "execute_result"
    }
   ],
   "source": [
    "(lock_down==1).sum()"
   ]
  },
  {
   "cell_type": "code",
   "execution_count": 135,
   "id": "fdb1a015",
   "metadata": {},
   "outputs": [],
   "source": [
    "lock_down['date'] = pd.to_datetime(lock_down['date'])"
   ]
  },
  {
   "cell_type": "code",
   "execution_count": 136,
   "id": "efce02fd",
   "metadata": {},
   "outputs": [],
   "source": [
    "full_data = full_data.merge(lock_down, on='date', how='left')\n",
    "full_data['lockdown'].fillna(0, inplace=True)"
   ]
  },
  {
   "cell_type": "code",
   "execution_count": 137,
   "id": "c972f582",
   "metadata": {},
   "outputs": [],
   "source": [
    "full_data = change_type(full_data, 'lockdown','uint8')"
   ]
  },
  {
   "cell_type": "markdown",
   "id": "422839e8",
   "metadata": {},
   "source": [
    "### is discount"
   ]
  },
  {
   "cell_type": "code",
   "execution_count": 139,
   "id": "3abedb66",
   "metadata": {},
   "outputs": [],
   "source": [
    "discount_df = pd.read_csv('all_data_discount_short.csv')"
   ]
  },
  {
   "cell_type": "code",
   "execution_count": 140,
   "id": "a46e1b5c",
   "metadata": {},
   "outputs": [
    {
     "data": {
      "text/html": [
       "<div>\n",
       "<style scoped>\n",
       "    .dataframe tbody tr th:only-of-type {\n",
       "        vertical-align: middle;\n",
       "    }\n",
       "\n",
       "    .dataframe tbody tr th {\n",
       "        vertical-align: top;\n",
       "    }\n",
       "\n",
       "    .dataframe thead th {\n",
       "        text-align: right;\n",
       "    }\n",
       "</style>\n",
       "<table border=\"1\" class=\"dataframe\">\n",
       "  <thead>\n",
       "    <tr style=\"text-align: right;\">\n",
       "      <th></th>\n",
       "      <th>Unnamed: 0</th>\n",
       "      <th>ID</th>\n",
       "      <th>is_discount</th>\n",
       "    </tr>\n",
       "  </thead>\n",
       "  <tbody>\n",
       "    <tr>\n",
       "      <th>0</th>\n",
       "      <td>0</td>\n",
       "      <td>RR27956447</td>\n",
       "      <td>False</td>\n",
       "    </tr>\n",
       "    <tr>\n",
       "      <th>1</th>\n",
       "      <td>1</td>\n",
       "      <td>RR27956448</td>\n",
       "      <td>False</td>\n",
       "    </tr>\n",
       "    <tr>\n",
       "      <th>2</th>\n",
       "      <td>2</td>\n",
       "      <td>RR27956449</td>\n",
       "      <td>False</td>\n",
       "    </tr>\n",
       "    <tr>\n",
       "      <th>3</th>\n",
       "      <td>3</td>\n",
       "      <td>RR27956450</td>\n",
       "      <td>False</td>\n",
       "    </tr>\n",
       "    <tr>\n",
       "      <th>4</th>\n",
       "      <td>4</td>\n",
       "      <td>RR27956451</td>\n",
       "      <td>False</td>\n",
       "    </tr>\n",
       "  </tbody>\n",
       "</table>\n",
       "</div>"
      ],
      "text/plain": [
       "   Unnamed: 0          ID  is_discount\n",
       "0           0  RR27956447        False\n",
       "1           1  RR27956448        False\n",
       "2           2  RR27956449        False\n",
       "3           3  RR27956450        False\n",
       "4           4  RR27956451        False"
      ]
     },
     "execution_count": 140,
     "metadata": {},
     "output_type": "execute_result"
    }
   ],
   "source": [
    "discount_df.head(5)"
   ]
  },
  {
   "cell_type": "code",
   "execution_count": 141,
   "id": "d8e0969e",
   "metadata": {},
   "outputs": [],
   "source": [
    "discount_df['is_discount'] = discount_df['is_discount'].astype('uint8')"
   ]
  },
  {
   "cell_type": "code",
   "execution_count": 143,
   "id": "e1b3ff76",
   "metadata": {},
   "outputs": [
    {
     "data": {
      "text/plain": [
       "3576695"
      ]
     },
     "execution_count": 143,
     "metadata": {},
     "output_type": "execute_result"
    }
   ],
   "source": [
    "discount_df['is_discount'].sum()"
   ]
  },
  {
   "cell_type": "code",
   "execution_count": 144,
   "id": "20c2b976",
   "metadata": {},
   "outputs": [],
   "source": [
    "discount_df['is_discount'].drop(columns='Unnamed: 0', inplace=True)"
   ]
  },
  {
   "cell_type": "code",
   "execution_count": 145,
   "id": "7879ffdb",
   "metadata": {},
   "outputs": [
    {
     "data": {
      "text/plain": [
       "(29622473, 3)"
      ]
     },
     "execution_count": 145,
     "metadata": {},
     "output_type": "execute_result"
    }
   ],
   "source": [
    "discount_df.shape"
   ]
  },
  {
   "cell_type": "code",
   "execution_count": 146,
   "id": "909cd6cd",
   "metadata": {},
   "outputs": [
    {
     "data": {
      "text/plain": [
       "(29622473, 122)"
      ]
     },
     "execution_count": 146,
     "metadata": {},
     "output_type": "execute_result"
    }
   ],
   "source": [
    "full_data.shape"
   ]
  },
  {
   "cell_type": "code",
   "execution_count": 147,
   "id": "673ebeb8",
   "metadata": {},
   "outputs": [],
   "source": [
    "full_data = full_data.merge(discount_df, on='ID', how='left')"
   ]
  },
  {
   "cell_type": "code",
   "execution_count": 149,
   "id": "20b99846",
   "metadata": {},
   "outputs": [
    {
     "data": {
      "text/plain": [
       "array([      0,       0,       0,       0, 1666028,       0,       0,\n",
       "             0,       0,       0,       0,       0,       0,       0,\n",
       "             0, 1666028,       0,       0,       0,       0,       0,\n",
       "             0,       0,       0,       0,       0,       0,       0,\n",
       "             0,       0,       0,       0,       0,       0,       0,\n",
       "             0,       0,       0,       0,       0,       0,       0,\n",
       "             0,       0,       0,       0,       0,       0,       0,\n",
       "             0,       0,       0,       0,       0,       0,       0,\n",
       "             0,       0,       0,       0,       0,       0,       0,\n",
       "             0,       0,       0,       0,       0,       0,       0,\n",
       "             0,       0,       0,       0,       0,       0,       0,\n",
       "             0,       0,       0,       0,       0,       0,       0,\n",
       "             0,       0,       0,       0,       0,       0,       0,\n",
       "             0,       0,       0,       0,       0,       0,       0,\n",
       "             0,       0,       0,       0,       0,       0,       0,\n",
       "             0,       0,       0,       0,       0,       0,       0,\n",
       "             0,       0,       0,       0,       0,       0,       0,\n",
       "             0,       0,       0,       0,       0])"
      ]
     },
     "execution_count": 149,
     "metadata": {},
     "output_type": "execute_result"
    }
   ],
   "source": [
    "full_data.isna().sum().values"
   ]
  },
  {
   "cell_type": "code",
   "execution_count": 153,
   "id": "61057eb3",
   "metadata": {},
   "outputs": [
    {
     "data": {
      "text/plain": [
       "1666028"
      ]
     },
     "execution_count": 153,
     "metadata": {},
     "output_type": "execute_result"
    }
   ],
   "source": [
    "full_data['revanue'].isna().sum()"
   ]
  },
  {
   "cell_type": "code",
   "execution_count": 154,
   "id": "d9569d9e",
   "metadata": {},
   "outputs": [
    {
     "data": {
      "text/plain": [
       "1666028"
      ]
     },
     "execution_count": 154,
     "metadata": {},
     "output_type": "execute_result"
    }
   ],
   "source": [
    "full_data['sales'].isna().sum()"
   ]
  },
  {
   "cell_type": "markdown",
   "id": "cb74975e",
   "metadata": {},
   "source": [
    "### mean encoding"
   ]
  },
  {
   "cell_type": "markdown",
   "id": "5578ddf3",
   "metadata": {},
   "source": [
    "### train-test-submission split"
   ]
  },
  {
   "cell_type": "code",
   "execution_count": 108,
   "id": "ba06a602",
   "metadata": {},
   "outputs": [
    {
     "data": {
      "text/plain": [
       "ID                    0\n",
       "geoCluster            0\n",
       "SKU                   0\n",
       "date                  0\n",
       "sales           1666028\n",
       "                 ...   \n",
       "газированная          0\n",
       "добавок               0\n",
       "импортная             0\n",
       "is_holiday            0\n",
       "lockdown              0\n",
       "Length: 79, dtype: int64"
      ]
     },
     "execution_count": 108,
     "metadata": {},
     "output_type": "execute_result"
    }
   ],
   "source": [
    "full_data.isna().sum()"
   ]
  },
  {
   "cell_type": "code",
   "execution_count": 156,
   "id": "cc86151a",
   "metadata": {},
   "outputs": [],
   "source": [
    "full_data['split'] = 'train'\n",
    "full_data.loc[full_data['date'].isin(dates_test), 'split'] = 'sub'\n"
   ]
  },
  {
   "cell_type": "code",
   "execution_count": 157,
   "id": "1cccdda0",
   "metadata": {},
   "outputs": [],
   "source": [
    "import datetime"
   ]
  },
  {
   "cell_type": "code",
   "execution_count": 159,
   "id": "8ffa5bb7",
   "metadata": {},
   "outputs": [],
   "source": [
    "max_date = full_data[full_data['split']=='train']['date'].max()\n",
    "min_date = max_date-datetime.timedelta(days=14)"
   ]
  },
  {
   "cell_type": "code",
   "execution_count": 160,
   "id": "2373353d",
   "metadata": {},
   "outputs": [
    {
     "data": {
      "text/plain": [
       "Timestamp('2021-07-19 00:00:00')"
      ]
     },
     "execution_count": 160,
     "metadata": {},
     "output_type": "execute_result"
    }
   ],
   "source": [
    "max_date"
   ]
  },
  {
   "cell_type": "code",
   "execution_count": 161,
   "id": "9f9362b0",
   "metadata": {},
   "outputs": [],
   "source": [
    "dates_val = pd.date_range(min_date, max_date)"
   ]
  },
  {
   "cell_type": "code",
   "execution_count": 162,
   "id": "8cf181ed",
   "metadata": {},
   "outputs": [
    {
     "data": {
      "text/plain": [
       "DatetimeIndex(['2021-07-05', '2021-07-06', '2021-07-07', '2021-07-08',\n",
       "               '2021-07-09', '2021-07-10', '2021-07-11', '2021-07-12',\n",
       "               '2021-07-13', '2021-07-14', '2021-07-15', '2021-07-16',\n",
       "               '2021-07-17', '2021-07-18', '2021-07-19'],\n",
       "              dtype='datetime64[ns]', freq='D')"
      ]
     },
     "execution_count": 162,
     "metadata": {},
     "output_type": "execute_result"
    }
   ],
   "source": [
    "dates_val"
   ]
  },
  {
   "cell_type": "code",
   "execution_count": 163,
   "id": "fbd937bd",
   "metadata": {},
   "outputs": [],
   "source": [
    "full_data.loc[full_data['date'].isin(dates_val), 'split'] = 'val'\n"
   ]
  },
  {
   "cell_type": "code",
   "execution_count": 164,
   "id": "f3b83a6c",
   "metadata": {},
   "outputs": [
    {
     "data": {
      "text/plain": [
       "train    26243450\n",
       "val       1712995\n",
       "sub       1666028\n",
       "Name: split, dtype: int64"
      ]
     },
     "execution_count": 164,
     "metadata": {},
     "output_type": "execute_result"
    }
   ],
   "source": [
    "full_data['split'].value_counts()"
   ]
  },
  {
   "cell_type": "markdown",
   "id": "dfa9a7d9",
   "metadata": {},
   "source": [
    "### mean encoding"
   ]
  },
  {
   "cell_type": "code",
   "execution_count": 1,
   "id": "50d79ff4",
   "metadata": {},
   "outputs": [],
   "source": [
    "import pandas as pd"
   ]
  },
  {
   "cell_type": "code",
   "execution_count": 2,
   "id": "66861ef5",
   "metadata": {},
   "outputs": [],
   "source": [
    "full_data = pd.read_pickle('../processed/data_with_features.pkl')"
   ]
  },
  {
   "cell_type": "code",
   "execution_count": 9,
   "id": "a35e43fa",
   "metadata": {},
   "outputs": [],
   "source": [
    "def mean_encoding(df, to_group, target_col):\n",
    "    #train\n",
    "    mean_encoding_train = df[df['split'].isin(['train','val'])][to_group+[target_col]].groupby(to_group).agg({target_col:'mean'})\n",
    "    new_col = '{}_mean_encoded_by_{}_train'.format(target_col,''.join(to_group))\n",
    "    mean_encoding_train = mean_encoding_train.rename(columns={target_col:new_col})\n",
    "    df = df.merge(mean_encoding_train, on=to_group, how='left')\n",
    "    df[new_col] = df[new_col].fillna(0)\n",
    "    #val\n",
    "    mean_encoding_val = df[df['split']=='train'][to_group+[target_col]].groupby(to_group).agg({target_col:'mean'})\n",
    "    new_col = '{}_mean_encoded_by_{}_val'.format(target_col,''.join(to_group))\n",
    "    mean_encoding_val = mean_encoding_val.rename(columns={target_col:new_col})\n",
    "    df = df.merge(mean_encoding_val, on=to_group, how='left')\n",
    "    df[new_col] = df[new_col].fillna(0)\n",
    "\n",
    "    return df"
   ]
  },
  {
   "cell_type": "code",
   "execution_count": 7,
   "id": "e1011069",
   "metadata": {},
   "outputs": [],
   "source": [
    "full_data = full_data[[i for i in full_data.columns if not 'mean_encoded' in i]]"
   ]
  },
  {
   "cell_type": "code",
   "execution_count": 10,
   "id": "0f461d3e",
   "metadata": {},
   "outputs": [],
   "source": [
    "full_data = mean_encoding(full_data, ['SKU'],'sales')"
   ]
  },
  {
   "cell_type": "code",
   "execution_count": 11,
   "id": "3820a73a",
   "metadata": {},
   "outputs": [],
   "source": [
    "full_data = mean_encoding(full_data, ['geoCluster'],'sales')"
   ]
  },
  {
   "cell_type": "code",
   "execution_count": 12,
   "id": "807b75da",
   "metadata": {},
   "outputs": [],
   "source": [
    "full_data = mean_encoding(full_data, ['geoCluster','SKU'],'sales')"
   ]
  },
  {
   "cell_type": "code",
   "execution_count": 13,
   "id": "99c877a5",
   "metadata": {},
   "outputs": [
    {
     "data": {
      "text/plain": [
       "array(['ID', 'geoCluster', 'SKU', 'date', 'sales', 'month', 'day',\n",
       "       'weekday', 'week_num', 'commodity_group',\n",
       "       'productCategory_caption_RU', 'cityId', 'price',\n",
       "       'lagerUnitQuantity', 'lagerUnitTypeId', 'revanue',\n",
       "       'days_on_the_market', 'days_on_the_market_geo', 'year',\n",
       "       'month_num', 'revanue_grouped_week_num_commodity_group_mean_lag_2',\n",
       "       'revanue_grouped_week_num_commodity_group_mean_lag_3',\n",
       "       'revanue_grouped_week_num_cityId_mean_lag_2',\n",
       "       'revanue_grouped_week_num_cityId_mean_lag_3',\n",
       "       'revanue_grouped_week_num_geoCluster_mean_lag_2',\n",
       "       'revanue_grouped_week_num_geoCluster_mean_lag_3',\n",
       "       'revanue_grouped_week_num_geoCluster_sum_lag_2',\n",
       "       'revanue_grouped_week_num_geoCluster_sum_lag_3',\n",
       "       'sales_grouped_week_num_commodity_group_mean_lag_2',\n",
       "       'sales_grouped_week_num_commodity_group_mean_lag_3',\n",
       "       'sales_grouped_week_num_cityId_mean_lag_2',\n",
       "       'sales_grouped_week_num_cityId_mean_lag_3',\n",
       "       'sales_grouped_week_num_geoCluster_mean_lag_2',\n",
       "       'sales_grouped_week_num_geoCluster_mean_lag_3',\n",
       "       'sales_grouped_week_num_geoCluster_sum_lag_2',\n",
       "       'sales_grouped_week_num_geoCluster_sum_lag_3',\n",
       "       'sales_grouped_week_num_SKU_mean_lag_2',\n",
       "       'sales_grouped_week_num_SKU_mean_lag_3',\n",
       "       'sales_grouped_week_num_SKU_sum_lag_2',\n",
       "       'sales_grouped_week_num_SKU_sum_lag_3',\n",
       "       'revanue_grouped_week_num_SKU_sum_lag_2',\n",
       "       'revanue_grouped_week_num_SKU_sum_lag_3',\n",
       "       'revanue_grouped_week_num_SKU_mean_lag_2',\n",
       "       'revanue_grouped_week_num_SKU_mean_lag_3',\n",
       "       'revanue_grouped_week_num_SKU_commodity_group_sum_lag_2',\n",
       "       'revanue_grouped_week_num_SKU_commodity_group_sum_lag_3',\n",
       "       'revanue_grouped_week_num_SKU_commodity_group_mean_lag_2',\n",
       "       'revanue_grouped_week_num_SKU_commodity_group_mean_lag_3',\n",
       "       'revanue_grouped_week_num_SKU_geoCluster_sum_lag_2',\n",
       "       'revanue_grouped_week_num_SKU_geoCluster_sum_lag_3',\n",
       "       'revanue_grouped_week_num_SKU_geoCluster_mean_lag_2',\n",
       "       'revanue_grouped_week_num_SKU_geoCluster_mean_lag_3',\n",
       "       'sales_grouped_week_num_SKU_commodity_group_sum_lag_2',\n",
       "       'sales_grouped_week_num_SKU_commodity_group_sum_lag_3',\n",
       "       'sales_grouped_week_num_SKU_commodity_group_mean_lag_2',\n",
       "       'sales_grouped_week_num_SKU_commodity_group_mean_lag_3',\n",
       "       'sales_grouped_week_num_SKU_geoCluster_sum_lag_2',\n",
       "       'sales_grouped_week_num_SKU_geoCluster_sum_lag_3',\n",
       "       'sales_grouped_week_num_SKU_geoCluster_mean_lag_2',\n",
       "       'sales_grouped_week_num_SKU_geoCluster_mean_lag_3',\n",
       "       'revanue_grouped_month_num_commodity_group_mean_lag_1',\n",
       "       'revanue_grouped_month_num_cityId_mean_lag_1',\n",
       "       'revanue_grouped_month_num_geoCluster_mean_lag_1',\n",
       "       'revanue_grouped_month_num_geoCluster_sum_lag_1',\n",
       "       'sales_grouped_month_num_commodity_group_mean_lag_1',\n",
       "       'sales_grouped_month_num_cityId_mean_lag_1',\n",
       "       'sales_grouped_month_num_geoCluster_mean_lag_1',\n",
       "       'sales_grouped_month_num_geoCluster_sum_lag_1',\n",
       "       'sales_grouped_month_num_SKU_mean_lag_1',\n",
       "       'sales_grouped_month_num_SKU_sum_lag_1',\n",
       "       'revanue_grouped_month_num_SKU_sum_lag_1',\n",
       "       'revanue_grouped_month_num_SKU_mean_lag_1',\n",
       "       'revanue_grouped_month_num_SKU_commodity_group_sum_lag_1',\n",
       "       'revanue_grouped_month_num_SKU_commodity_group_mean_lag_1',\n",
       "       'revanue_grouped_month_num_SKU_geoCluster_sum_lag_1',\n",
       "       'revanue_grouped_month_num_SKU_geoCluster_mean_lag_1',\n",
       "       'sales_grouped_month_num_SKU_commodity_group_sum_lag_1',\n",
       "       'sales_grouped_month_num_SKU_commodity_group_mean_lag_1',\n",
       "       'sales_grouped_month_num_SKU_geoCluster_sum_lag_1',\n",
       "       'sales_grouped_month_num_SKU_geoCluster_mean_lag_1', 'vector_0',\n",
       "       'vector_1', 'vector_2', 'vector_3', 'vector_4', 'vector_5',\n",
       "       'vector_6', 'vector_7', 'vector_8', 'vector_9', 'vector_10',\n",
       "       'vector_11', 'vector_12', 'vector_13', 'vector_14', 'vector_15',\n",
       "       'vector_16', 'vector_17', 'vector_18', 'vector_19', 'sobstv',\n",
       "       'proizvodstva', 'siri', 'na4inkoi', 'voda', 'proizv',\n",
       "       'sobstvennogo', 'yogurty', 'polytverdie', 'ukraini', 'bez',\n",
       "       'molochnie', 'sdoba', 'hleb', 'dopek', 'deserti', 'dobavkami',\n",
       "       'gzirovanaya', 'dobavok', 'importnaya', 'is_holiday', 'lockdown',\n",
       "       'Unnamed: 0', 'is_discount', 'split',\n",
       "       'sales_mean_encoded_by_SKU_train', 'sales_mean_encoded_by_SKU_val',\n",
       "       'sales_mean_encoded_by_geoCluster_train',\n",
       "       'sales_mean_encoded_by_geoCluster_val',\n",
       "       'sales_mean_encoded_by_geoClusterSKU_train',\n",
       "       'sales_mean_encoded_by_geoClusterSKU_val'], dtype=object)"
      ]
     },
     "execution_count": 13,
     "metadata": {},
     "output_type": "execute_result"
    }
   ],
   "source": [
    "full_data.columns.values"
   ]
  },
  {
   "cell_type": "code",
   "execution_count": 14,
   "id": "7b1fa753",
   "metadata": {},
   "outputs": [
    {
     "data": {
      "text/plain": [
       "(29622473, 131)"
      ]
     },
     "execution_count": 14,
     "metadata": {},
     "output_type": "execute_result"
    }
   ],
   "source": [
    "full_data.shape"
   ]
  },
  {
   "cell_type": "markdown",
   "id": "1448078f",
   "metadata": {},
   "source": [
    "### saving"
   ]
  },
  {
   "cell_type": "code",
   "execution_count": null,
   "id": "87f219ab",
   "metadata": {},
   "outputs": [],
   "source": [
    "full_data.to_pickle('../processed/data_with_features_v2.pkl', protocol=4)"
   ]
  },
  {
   "cell_type": "code",
   "execution_count": null,
   "id": "92b5754b",
   "metadata": {},
   "outputs": [],
   "source": [
    "full_data.shape"
   ]
  },
  {
   "cell_type": "code",
   "execution_count": null,
   "id": "d93a9196",
   "metadata": {},
   "outputs": [],
   "source": []
  }
 ],
 "metadata": {
  "kernelspec": {
   "display_name": "Python 3 (ipykernel)",
   "language": "python",
   "name": "python3"
  },
  "language_info": {
   "codemirror_mode": {
    "name": "ipython",
    "version": 3
   },
   "file_extension": ".py",
   "mimetype": "text/x-python",
   "name": "python",
   "nbconvert_exporter": "python",
   "pygments_lexer": "ipython3",
   "version": "3.8.0"
  }
 },
 "nbformat": 4,
 "nbformat_minor": 5
}
