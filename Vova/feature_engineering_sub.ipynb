{
 "cells": [
  {
   "cell_type": "code",
   "execution_count": 1,
   "id": "b6c88190",
   "metadata": {},
   "outputs": [],
   "source": [
    "import pandas as pd\n",
    "import matplotlib.pyplot as plt\n",
    "import seaborn as sns\n",
    "import numpy as np\n",
    "import tqdm\n",
    "sns.set()"
   ]
  },
  {
   "cell_type": "code",
   "execution_count": 2,
   "id": "737c08b0",
   "metadata": {},
   "outputs": [],
   "source": [
    "def change_type(df, col, type_):\n",
    "    df[col] = df[col].astype(type_)\n",
    "    return df"
   ]
  },
  {
   "cell_type": "code",
   "execution_count": 3,
   "id": "8f58cd64",
   "metadata": {},
   "outputs": [],
   "source": [
    "train_data = pd.read_csv('train_data.csv')"
   ]
  },
  {
   "cell_type": "code",
   "execution_count": 4,
   "id": "ab0de08a",
   "metadata": {},
   "outputs": [
    {
     "data": {
      "text/plain": [
       "(27956445, 17)"
      ]
     },
     "execution_count": 4,
     "metadata": {},
     "output_type": "execute_result"
    }
   ],
   "source": [
    "train_data.shape"
   ]
  },
  {
   "cell_type": "code",
   "execution_count": 5,
   "id": "2f2c763a",
   "metadata": {},
   "outputs": [
    {
     "name": "stdout",
     "output_type": "stream",
     "text": [
      "<class 'pandas.core.frame.DataFrame'>\n",
      "RangeIndex: 27956445 entries, 0 to 27956444\n",
      "Data columns (total 17 columns):\n",
      " #   Column                      Dtype  \n",
      "---  ------                      -----  \n",
      " 0   ID                          object \n",
      " 1   geoCluster                  int64  \n",
      " 2   SKU                         int64  \n",
      " 3   date                        object \n",
      " 4   sales                       float64\n",
      " 5   month                       int64  \n",
      " 6   day                         int64  \n",
      " 7   weekday                     int64  \n",
      " 8   week_num                    int64  \n",
      " 9   lagerUnitType_caption       object \n",
      " 10  commodity_group             int64  \n",
      " 11  productCategory_caption_RU  object \n",
      " 12  cityId                      int64  \n",
      " 13  price                       float64\n",
      " 14  lagerUnitQuantity           float64\n",
      " 15  lagerUnitTypeId             int64  \n",
      " 16  revanue                     float64\n",
      "dtypes: float64(4), int64(9), object(4)\n",
      "memory usage: 3.5+ GB\n"
     ]
    }
   ],
   "source": [
    "train_data.info()"
   ]
  },
  {
   "cell_type": "code",
   "execution_count": 6,
   "id": "db2c6791",
   "metadata": {},
   "outputs": [
    {
     "data": {
      "text/plain": [
       "198"
      ]
     },
     "execution_count": 6,
     "metadata": {},
     "output_type": "execute_result"
    }
   ],
   "source": [
    "train_data.commodity_group.max()"
   ]
  },
  {
   "cell_type": "code",
   "execution_count": 7,
   "id": "ee9cfedd",
   "metadata": {},
   "outputs": [
    {
     "data": {
      "text/plain": [
       "25"
      ]
     },
     "execution_count": 7,
     "metadata": {},
     "output_type": "execute_result"
    }
   ],
   "source": [
    "train_data.cityId.max()"
   ]
  },
  {
   "cell_type": "code",
   "execution_count": 8,
   "id": "cb694e87",
   "metadata": {},
   "outputs": [
    {
     "data": {
      "text/plain": [
       "6"
      ]
     },
     "execution_count": 8,
     "metadata": {},
     "output_type": "execute_result"
    }
   ],
   "source": [
    "train_data.lagerUnitTypeId.max()"
   ]
  },
  {
   "cell_type": "code",
   "execution_count": 9,
   "id": "66d57cc3",
   "metadata": {},
   "outputs": [
    {
     "data": {
      "text/plain": [
       "873803"
      ]
     },
     "execution_count": 9,
     "metadata": {},
     "output_type": "execute_result"
    }
   ],
   "source": [
    "train_data.SKU.max()"
   ]
  },
  {
   "cell_type": "code",
   "execution_count": 10,
   "id": "6ef06dc8",
   "metadata": {},
   "outputs": [
    {
     "data": {
      "text/plain": [
       "3230"
      ]
     },
     "execution_count": 10,
     "metadata": {},
     "output_type": "execute_result"
    }
   ],
   "source": [
    "train_data.geoCluster.max()"
   ]
  },
  {
   "cell_type": "code",
   "execution_count": 11,
   "id": "c9cada0f",
   "metadata": {},
   "outputs": [],
   "source": [
    "train_data = change_type(train_data, 'geoCluster', 'uint16')\n",
    "train_data = change_type(train_data, 'SKU', 'uint32')\n",
    "train_data = change_type(train_data, 'commodity_group', 'uint8')\n",
    "train_data = change_type(train_data, 'cityId', 'uint8')\n",
    "train_data = change_type(train_data, 'lagerUnitTypeId', 'uint8')"
   ]
  },
  {
   "cell_type": "code",
   "execution_count": 12,
   "id": "4bf53cb5",
   "metadata": {},
   "outputs": [
    {
     "name": "stdout",
     "output_type": "stream",
     "text": [
      "<class 'pandas.core.frame.DataFrame'>\n",
      "RangeIndex: 27956445 entries, 0 to 27956444\n",
      "Data columns (total 17 columns):\n",
      " #   Column                      Dtype  \n",
      "---  ------                      -----  \n",
      " 0   ID                          object \n",
      " 1   geoCluster                  uint16 \n",
      " 2   SKU                         uint32 \n",
      " 3   date                        object \n",
      " 4   sales                       float64\n",
      " 5   month                       int64  \n",
      " 6   day                         int64  \n",
      " 7   weekday                     int64  \n",
      " 8   week_num                    int64  \n",
      " 9   lagerUnitType_caption       object \n",
      " 10  commodity_group             uint8  \n",
      " 11  productCategory_caption_RU  object \n",
      " 12  cityId                      uint8  \n",
      " 13  price                       float64\n",
      " 14  lagerUnitQuantity           float64\n",
      " 15  lagerUnitTypeId             uint8  \n",
      " 16  revanue                     float64\n",
      "dtypes: float64(4), int64(4), object(4), uint16(1), uint32(1), uint8(3)\n",
      "memory usage: 2.7+ GB\n"
     ]
    }
   ],
   "source": [
    "train_data.info()"
   ]
  },
  {
   "cell_type": "code",
   "execution_count": 13,
   "id": "9b0a63bf",
   "metadata": {},
   "outputs": [],
   "source": [
    "sku_meta = pd.read_csv('../sku_final.csv')"
   ]
  },
  {
   "cell_type": "code",
   "execution_count": 14,
   "id": "1db96b7a",
   "metadata": {},
   "outputs": [],
   "source": [
    "geo_params = pd.read_csv('../geo_params.csv')"
   ]
  },
  {
   "cell_type": "code",
   "execution_count": 15,
   "id": "3733c04b",
   "metadata": {},
   "outputs": [],
   "source": [
    "test_data = pd.read_csv('../test_data.csv')"
   ]
  },
  {
   "cell_type": "code",
   "execution_count": 16,
   "id": "fbd374d8",
   "metadata": {},
   "outputs": [
    {
     "data": {
      "text/html": [
       "<div>\n",
       "<style scoped>\n",
       "    .dataframe tbody tr th:only-of-type {\n",
       "        vertical-align: middle;\n",
       "    }\n",
       "\n",
       "    .dataframe tbody tr th {\n",
       "        vertical-align: top;\n",
       "    }\n",
       "\n",
       "    .dataframe thead th {\n",
       "        text-align: right;\n",
       "    }\n",
       "</style>\n",
       "<table border=\"1\" class=\"dataframe\">\n",
       "  <thead>\n",
       "    <tr style=\"text-align: right;\">\n",
       "      <th></th>\n",
       "      <th>ID</th>\n",
       "      <th>geoCluster</th>\n",
       "      <th>SKU</th>\n",
       "      <th>date</th>\n",
       "      <th>price</th>\n",
       "    </tr>\n",
       "  </thead>\n",
       "  <tbody>\n",
       "    <tr>\n",
       "      <th>0</th>\n",
       "      <td>RR1666030</td>\n",
       "      <td>21</td>\n",
       "      <td>32485</td>\n",
       "      <td>2021-07-20</td>\n",
       "      <td>66.69</td>\n",
       "    </tr>\n",
       "    <tr>\n",
       "      <th>1</th>\n",
       "      <td>RR1666031</td>\n",
       "      <td>21</td>\n",
       "      <td>32485</td>\n",
       "      <td>2021-07-21</td>\n",
       "      <td>66.69</td>\n",
       "    </tr>\n",
       "    <tr>\n",
       "      <th>2</th>\n",
       "      <td>RR1666032</td>\n",
       "      <td>21</td>\n",
       "      <td>32485</td>\n",
       "      <td>2021-07-22</td>\n",
       "      <td>66.69</td>\n",
       "    </tr>\n",
       "    <tr>\n",
       "      <th>3</th>\n",
       "      <td>RR1666033</td>\n",
       "      <td>21</td>\n",
       "      <td>32485</td>\n",
       "      <td>2021-07-23</td>\n",
       "      <td>66.69</td>\n",
       "    </tr>\n",
       "    <tr>\n",
       "      <th>4</th>\n",
       "      <td>RR1666034</td>\n",
       "      <td>21</td>\n",
       "      <td>32485</td>\n",
       "      <td>2021-07-24</td>\n",
       "      <td>66.69</td>\n",
       "    </tr>\n",
       "  </tbody>\n",
       "</table>\n",
       "</div>"
      ],
      "text/plain": [
       "          ID  geoCluster    SKU        date  price\n",
       "0  RR1666030          21  32485  2021-07-20  66.69\n",
       "1  RR1666031          21  32485  2021-07-21  66.69\n",
       "2  RR1666032          21  32485  2021-07-22  66.69\n",
       "3  RR1666033          21  32485  2021-07-23  66.69\n",
       "4  RR1666034          21  32485  2021-07-24  66.69"
      ]
     },
     "execution_count": 16,
     "metadata": {},
     "output_type": "execute_result"
    }
   ],
   "source": [
    "test_data.head()"
   ]
  },
  {
   "cell_type": "code",
   "execution_count": 17,
   "id": "d3bbbb22",
   "metadata": {},
   "outputs": [],
   "source": [
    "train_data = train_data.sort_values(by=['week_num'])"
   ]
  },
  {
   "cell_type": "code",
   "execution_count": 18,
   "id": "a6189161",
   "metadata": {},
   "outputs": [
    {
     "data": {
      "text/plain": [
       "array([ 1,  2,  3,  4,  5,  6,  7,  8,  9, 10, 11, 12, 13, 14, 15, 16, 17,\n",
       "       18, 19, 20, 21, 22, 23, 24, 25, 26, 27, 28, 29, 30, 31, 32, 33, 34,\n",
       "       35, 36, 37, 38, 39, 40, 41, 42, 43, 44, 45, 46, 47, 48, 49, 50, 51,\n",
       "       52, 53])"
      ]
     },
     "execution_count": 18,
     "metadata": {},
     "output_type": "execute_result"
    }
   ],
   "source": [
    "train_data['week_num'].unique()"
   ]
  },
  {
   "cell_type": "code",
   "execution_count": 19,
   "id": "ab9d9478",
   "metadata": {},
   "outputs": [
    {
     "data": {
      "text/plain": [
       "0.24557248818772717"
      ]
     },
     "execution_count": 19,
     "metadata": {},
     "output_type": "execute_result"
    }
   ],
   "source": [
    "train_data[train_data['week_num'].isin([51,53])].sales.mean()"
   ]
  },
  {
   "cell_type": "code",
   "execution_count": 20,
   "id": "2fff4601",
   "metadata": {},
   "outputs": [
    {
     "data": {
      "text/plain": [
       "2043    12950\n",
       "2022    12558\n",
       "2049    12516\n",
       "2735    11984\n",
       "1935    11648\n",
       "        ...  \n",
       "2953       14\n",
       "607        14\n",
       "3095       14\n",
       "149        14\n",
       "287        14\n",
       "Name: geoCluster, Length: 515, dtype: int64"
      ]
     },
     "execution_count": 20,
     "metadata": {},
     "output_type": "execute_result"
    }
   ],
   "source": [
    "test_data['geoCluster'].value_counts()"
   ]
  },
  {
   "cell_type": "code",
   "execution_count": 21,
   "id": "c097cab1",
   "metadata": {},
   "outputs": [],
   "source": [
    "train_data = train_data.sort_values(by=['geoCluster', 'SKU','date'])"
   ]
  },
  {
   "cell_type": "code",
   "execution_count": 22,
   "id": "ad0334cd",
   "metadata": {},
   "outputs": [],
   "source": [
    "test_data = test_data.merge(sku_meta, on='SKU', how='inner')\n",
    "test_data = test_data.merge(geo_params, on=['geoCluster'], how='inner')"
   ]
  },
  {
   "cell_type": "code",
   "execution_count": 23,
   "id": "fc0b5224",
   "metadata": {},
   "outputs": [
    {
     "data": {
      "text/plain": [
       "(1666028, 25)"
      ]
     },
     "execution_count": 23,
     "metadata": {},
     "output_type": "execute_result"
    }
   ],
   "source": [
    "test_data.shape"
   ]
  },
  {
   "cell_type": "code",
   "execution_count": 24,
   "id": "73c233cc",
   "metadata": {},
   "outputs": [
    {
     "data": {
      "text/html": [
       "<div>\n",
       "<style scoped>\n",
       "    .dataframe tbody tr th:only-of-type {\n",
       "        vertical-align: middle;\n",
       "    }\n",
       "\n",
       "    .dataframe tbody tr th {\n",
       "        vertical-align: top;\n",
       "    }\n",
       "\n",
       "    .dataframe thead th {\n",
       "        text-align: right;\n",
       "    }\n",
       "</style>\n",
       "<table border=\"1\" class=\"dataframe\">\n",
       "  <thead>\n",
       "    <tr style=\"text-align: right;\">\n",
       "      <th></th>\n",
       "      <th>ID</th>\n",
       "      <th>geoCluster</th>\n",
       "      <th>SKU</th>\n",
       "      <th>date</th>\n",
       "      <th>price</th>\n",
       "      <th>productCategoryId</th>\n",
       "      <th>productCategory_caption_UKR</th>\n",
       "      <th>productCategory_caption_RU</th>\n",
       "      <th>productCategory_caption_ENG</th>\n",
       "      <th>productTypeId</th>\n",
       "      <th>...</th>\n",
       "      <th>lagerUnitTypeId</th>\n",
       "      <th>lagerUnitType_caption</th>\n",
       "      <th>trademark</th>\n",
       "      <th>countryOfOrigin</th>\n",
       "      <th>countryOfOrigin_caption</th>\n",
       "      <th>commodity_group</th>\n",
       "      <th>commodity_group_caption_UKR</th>\n",
       "      <th>commodity_group_caption_RU</th>\n",
       "      <th>commodity_group_caption_ENG</th>\n",
       "      <th>cityId</th>\n",
       "    </tr>\n",
       "  </thead>\n",
       "  <tbody>\n",
       "    <tr>\n",
       "      <th>0</th>\n",
       "      <td>RR1666030</td>\n",
       "      <td>21</td>\n",
       "      <td>32485</td>\n",
       "      <td>2021-07-20</td>\n",
       "      <td>66.69</td>\n",
       "      <td>5381.0</td>\n",
       "      <td>Банан</td>\n",
       "      <td>Банан</td>\n",
       "      <td>Banana</td>\n",
       "      <td>4752.0</td>\n",
       "      <td>...</td>\n",
       "      <td>1</td>\n",
       "      <td>г</td>\n",
       "      <td>NaN</td>\n",
       "      <td>NaN</td>\n",
       "      <td>NaN</td>\n",
       "      <td>5551018</td>\n",
       "      <td>Фрукти тропічні</td>\n",
       "      <td>Фрукты тропические</td>\n",
       "      <td>Tropical fruits</td>\n",
       "      <td>1</td>\n",
       "    </tr>\n",
       "    <tr>\n",
       "      <th>1</th>\n",
       "      <td>RR1666031</td>\n",
       "      <td>21</td>\n",
       "      <td>32485</td>\n",
       "      <td>2021-07-21</td>\n",
       "      <td>66.69</td>\n",
       "      <td>5381.0</td>\n",
       "      <td>Банан</td>\n",
       "      <td>Банан</td>\n",
       "      <td>Banana</td>\n",
       "      <td>4752.0</td>\n",
       "      <td>...</td>\n",
       "      <td>1</td>\n",
       "      <td>г</td>\n",
       "      <td>NaN</td>\n",
       "      <td>NaN</td>\n",
       "      <td>NaN</td>\n",
       "      <td>5551018</td>\n",
       "      <td>Фрукти тропічні</td>\n",
       "      <td>Фрукты тропические</td>\n",
       "      <td>Tropical fruits</td>\n",
       "      <td>1</td>\n",
       "    </tr>\n",
       "    <tr>\n",
       "      <th>2</th>\n",
       "      <td>RR1666032</td>\n",
       "      <td>21</td>\n",
       "      <td>32485</td>\n",
       "      <td>2021-07-22</td>\n",
       "      <td>66.69</td>\n",
       "      <td>5381.0</td>\n",
       "      <td>Банан</td>\n",
       "      <td>Банан</td>\n",
       "      <td>Banana</td>\n",
       "      <td>4752.0</td>\n",
       "      <td>...</td>\n",
       "      <td>1</td>\n",
       "      <td>г</td>\n",
       "      <td>NaN</td>\n",
       "      <td>NaN</td>\n",
       "      <td>NaN</td>\n",
       "      <td>5551018</td>\n",
       "      <td>Фрукти тропічні</td>\n",
       "      <td>Фрукты тропические</td>\n",
       "      <td>Tropical fruits</td>\n",
       "      <td>1</td>\n",
       "    </tr>\n",
       "    <tr>\n",
       "      <th>3</th>\n",
       "      <td>RR1666033</td>\n",
       "      <td>21</td>\n",
       "      <td>32485</td>\n",
       "      <td>2021-07-23</td>\n",
       "      <td>66.69</td>\n",
       "      <td>5381.0</td>\n",
       "      <td>Банан</td>\n",
       "      <td>Банан</td>\n",
       "      <td>Banana</td>\n",
       "      <td>4752.0</td>\n",
       "      <td>...</td>\n",
       "      <td>1</td>\n",
       "      <td>г</td>\n",
       "      <td>NaN</td>\n",
       "      <td>NaN</td>\n",
       "      <td>NaN</td>\n",
       "      <td>5551018</td>\n",
       "      <td>Фрукти тропічні</td>\n",
       "      <td>Фрукты тропические</td>\n",
       "      <td>Tropical fruits</td>\n",
       "      <td>1</td>\n",
       "    </tr>\n",
       "    <tr>\n",
       "      <th>4</th>\n",
       "      <td>RR1666034</td>\n",
       "      <td>21</td>\n",
       "      <td>32485</td>\n",
       "      <td>2021-07-24</td>\n",
       "      <td>66.69</td>\n",
       "      <td>5381.0</td>\n",
       "      <td>Банан</td>\n",
       "      <td>Банан</td>\n",
       "      <td>Banana</td>\n",
       "      <td>4752.0</td>\n",
       "      <td>...</td>\n",
       "      <td>1</td>\n",
       "      <td>г</td>\n",
       "      <td>NaN</td>\n",
       "      <td>NaN</td>\n",
       "      <td>NaN</td>\n",
       "      <td>5551018</td>\n",
       "      <td>Фрукти тропічні</td>\n",
       "      <td>Фрукты тропические</td>\n",
       "      <td>Tropical fruits</td>\n",
       "      <td>1</td>\n",
       "    </tr>\n",
       "  </tbody>\n",
       "</table>\n",
       "<p>5 rows × 25 columns</p>\n",
       "</div>"
      ],
      "text/plain": [
       "          ID  geoCluster    SKU        date  price  productCategoryId  \\\n",
       "0  RR1666030          21  32485  2021-07-20  66.69             5381.0   \n",
       "1  RR1666031          21  32485  2021-07-21  66.69             5381.0   \n",
       "2  RR1666032          21  32485  2021-07-22  66.69             5381.0   \n",
       "3  RR1666033          21  32485  2021-07-23  66.69             5381.0   \n",
       "4  RR1666034          21  32485  2021-07-24  66.69             5381.0   \n",
       "\n",
       "  productCategory_caption_UKR productCategory_caption_RU  \\\n",
       "0                       Банан                      Банан   \n",
       "1                       Банан                      Банан   \n",
       "2                       Банан                      Банан   \n",
       "3                       Банан                      Банан   \n",
       "4                       Банан                      Банан   \n",
       "\n",
       "  productCategory_caption_ENG  productTypeId  ... lagerUnitTypeId  \\\n",
       "0                      Banana         4752.0  ...               1   \n",
       "1                      Banana         4752.0  ...               1   \n",
       "2                      Banana         4752.0  ...               1   \n",
       "3                      Banana         4752.0  ...               1   \n",
       "4                      Banana         4752.0  ...               1   \n",
       "\n",
       "  lagerUnitType_caption trademark  countryOfOrigin  countryOfOrigin_caption  \\\n",
       "0            г                NaN              NaN                      NaN   \n",
       "1            г                NaN              NaN                      NaN   \n",
       "2            г                NaN              NaN                      NaN   \n",
       "3            г                NaN              NaN                      NaN   \n",
       "4            г                NaN              NaN                      NaN   \n",
       "\n",
       "   commodity_group commodity_group_caption_UKR  commodity_group_caption_RU  \\\n",
       "0          5551018             Фрукти тропічні          Фрукты тропические   \n",
       "1          5551018             Фрукти тропічні          Фрукты тропические   \n",
       "2          5551018             Фрукти тропічні          Фрукты тропические   \n",
       "3          5551018             Фрукти тропічні          Фрукты тропические   \n",
       "4          5551018             Фрукти тропічні          Фрукты тропические   \n",
       "\n",
       "   commodity_group_caption_ENG cityId  \n",
       "0              Tropical fruits      1  \n",
       "1              Tropical fruits      1  \n",
       "2              Tropical fruits      1  \n",
       "3              Tropical fruits      1  \n",
       "4              Tropical fruits      1  \n",
       "\n",
       "[5 rows x 25 columns]"
      ]
     },
     "execution_count": 24,
     "metadata": {},
     "output_type": "execute_result"
    }
   ],
   "source": [
    "test_data.head()"
   ]
  },
  {
   "cell_type": "code",
   "execution_count": 25,
   "id": "f947211b",
   "metadata": {},
   "outputs": [],
   "source": [
    "test_cols, train_cols = test_data.columns, train_data.columns\n",
    "cols_to_use = set(train_cols).intersection(test_cols)"
   ]
  },
  {
   "cell_type": "code",
   "execution_count": 26,
   "id": "53dd4db6",
   "metadata": {},
   "outputs": [],
   "source": [
    "test_data = test_data[cols_to_use]"
   ]
  },
  {
   "cell_type": "code",
   "execution_count": 27,
   "id": "cbae623c",
   "metadata": {},
   "outputs": [
    {
     "data": {
      "text/html": [
       "<div>\n",
       "<style scoped>\n",
       "    .dataframe tbody tr th:only-of-type {\n",
       "        vertical-align: middle;\n",
       "    }\n",
       "\n",
       "    .dataframe tbody tr th {\n",
       "        vertical-align: top;\n",
       "    }\n",
       "\n",
       "    .dataframe thead th {\n",
       "        text-align: right;\n",
       "    }\n",
       "</style>\n",
       "<table border=\"1\" class=\"dataframe\">\n",
       "  <thead>\n",
       "    <tr style=\"text-align: right;\">\n",
       "      <th></th>\n",
       "      <th>SKU</th>\n",
       "      <th>geoCluster</th>\n",
       "      <th>ID</th>\n",
       "      <th>productCategory_caption_RU</th>\n",
       "      <th>lagerUnitTypeId</th>\n",
       "      <th>commodity_group</th>\n",
       "      <th>price</th>\n",
       "      <th>lagerUnitQuantity</th>\n",
       "      <th>lagerUnitType_caption</th>\n",
       "      <th>date</th>\n",
       "      <th>cityId</th>\n",
       "    </tr>\n",
       "  </thead>\n",
       "  <tbody>\n",
       "    <tr>\n",
       "      <th>0</th>\n",
       "      <td>32485</td>\n",
       "      <td>21</td>\n",
       "      <td>RR1666030</td>\n",
       "      <td>Банан</td>\n",
       "      <td>1</td>\n",
       "      <td>5551018</td>\n",
       "      <td>66.69</td>\n",
       "      <td>1.0</td>\n",
       "      <td>г</td>\n",
       "      <td>2021-07-20</td>\n",
       "      <td>1</td>\n",
       "    </tr>\n",
       "    <tr>\n",
       "      <th>1</th>\n",
       "      <td>32485</td>\n",
       "      <td>21</td>\n",
       "      <td>RR1666031</td>\n",
       "      <td>Банан</td>\n",
       "      <td>1</td>\n",
       "      <td>5551018</td>\n",
       "      <td>66.69</td>\n",
       "      <td>1.0</td>\n",
       "      <td>г</td>\n",
       "      <td>2021-07-21</td>\n",
       "      <td>1</td>\n",
       "    </tr>\n",
       "    <tr>\n",
       "      <th>2</th>\n",
       "      <td>32485</td>\n",
       "      <td>21</td>\n",
       "      <td>RR1666032</td>\n",
       "      <td>Банан</td>\n",
       "      <td>1</td>\n",
       "      <td>5551018</td>\n",
       "      <td>66.69</td>\n",
       "      <td>1.0</td>\n",
       "      <td>г</td>\n",
       "      <td>2021-07-22</td>\n",
       "      <td>1</td>\n",
       "    </tr>\n",
       "    <tr>\n",
       "      <th>3</th>\n",
       "      <td>32485</td>\n",
       "      <td>21</td>\n",
       "      <td>RR1666033</td>\n",
       "      <td>Банан</td>\n",
       "      <td>1</td>\n",
       "      <td>5551018</td>\n",
       "      <td>66.69</td>\n",
       "      <td>1.0</td>\n",
       "      <td>г</td>\n",
       "      <td>2021-07-23</td>\n",
       "      <td>1</td>\n",
       "    </tr>\n",
       "    <tr>\n",
       "      <th>4</th>\n",
       "      <td>32485</td>\n",
       "      <td>21</td>\n",
       "      <td>RR1666034</td>\n",
       "      <td>Банан</td>\n",
       "      <td>1</td>\n",
       "      <td>5551018</td>\n",
       "      <td>66.69</td>\n",
       "      <td>1.0</td>\n",
       "      <td>г</td>\n",
       "      <td>2021-07-24</td>\n",
       "      <td>1</td>\n",
       "    </tr>\n",
       "  </tbody>\n",
       "</table>\n",
       "</div>"
      ],
      "text/plain": [
       "     SKU  geoCluster         ID productCategory_caption_RU  lagerUnitTypeId  \\\n",
       "0  32485          21  RR1666030                      Банан                1   \n",
       "1  32485          21  RR1666031                      Банан                1   \n",
       "2  32485          21  RR1666032                      Банан                1   \n",
       "3  32485          21  RR1666033                      Банан                1   \n",
       "4  32485          21  RR1666034                      Банан                1   \n",
       "\n",
       "   commodity_group  price  lagerUnitQuantity lagerUnitType_caption  \\\n",
       "0          5551018  66.69                1.0            г            \n",
       "1          5551018  66.69                1.0            г            \n",
       "2          5551018  66.69                1.0            г            \n",
       "3          5551018  66.69                1.0            г            \n",
       "4          5551018  66.69                1.0            г            \n",
       "\n",
       "         date  cityId  \n",
       "0  2021-07-20       1  \n",
       "1  2021-07-21       1  \n",
       "2  2021-07-22       1  \n",
       "3  2021-07-23       1  \n",
       "4  2021-07-24       1  "
      ]
     },
     "execution_count": 27,
     "metadata": {},
     "output_type": "execute_result"
    }
   ],
   "source": [
    "test_data.head()"
   ]
  },
  {
   "cell_type": "code",
   "execution_count": 28,
   "id": "e31338a1",
   "metadata": {},
   "outputs": [],
   "source": [
    "full_data = pd.concat([train_data, test_data],axis=0)"
   ]
  },
  {
   "cell_type": "code",
   "execution_count": 29,
   "id": "c4ad7504",
   "metadata": {},
   "outputs": [
    {
     "data": {
      "text/plain": [
       "(29622473, 17)"
      ]
     },
     "execution_count": 29,
     "metadata": {},
     "output_type": "execute_result"
    }
   ],
   "source": [
    "full_data.shape"
   ]
  },
  {
   "cell_type": "code",
   "execution_count": 30,
   "id": "99dd4204",
   "metadata": {},
   "outputs": [],
   "source": [
    "import gc"
   ]
  },
  {
   "cell_type": "code",
   "execution_count": 31,
   "id": "8c52f7bd",
   "metadata": {},
   "outputs": [],
   "source": [
    "dates_test = test_data['date'].unique()"
   ]
  },
  {
   "cell_type": "code",
   "execution_count": 32,
   "id": "14cc93d4",
   "metadata": {},
   "outputs": [
    {
     "data": {
      "text/plain": [
       "(1666028, 17)"
      ]
     },
     "execution_count": 32,
     "metadata": {},
     "output_type": "execute_result"
    }
   ],
   "source": [
    "full_data[full_data['date'].isin(dates_test)].shape"
   ]
  },
  {
   "cell_type": "code",
   "execution_count": 33,
   "id": "ce48a1ae",
   "metadata": {},
   "outputs": [
    {
     "data": {
      "text/plain": [
       "(1666028, 11)"
      ]
     },
     "execution_count": 33,
     "metadata": {},
     "output_type": "execute_result"
    }
   ],
   "source": [
    "test_data.shape"
   ]
  },
  {
   "cell_type": "code",
   "execution_count": 34,
   "id": "4faa9613",
   "metadata": {},
   "outputs": [
    {
     "data": {
      "text/html": [
       "<div>\n",
       "<style scoped>\n",
       "    .dataframe tbody tr th:only-of-type {\n",
       "        vertical-align: middle;\n",
       "    }\n",
       "\n",
       "    .dataframe tbody tr th {\n",
       "        vertical-align: top;\n",
       "    }\n",
       "\n",
       "    .dataframe thead th {\n",
       "        text-align: right;\n",
       "    }\n",
       "</style>\n",
       "<table border=\"1\" class=\"dataframe\">\n",
       "  <thead>\n",
       "    <tr style=\"text-align: right;\">\n",
       "      <th></th>\n",
       "      <th>ID</th>\n",
       "      <th>geoCluster</th>\n",
       "      <th>SKU</th>\n",
       "      <th>date</th>\n",
       "      <th>sales</th>\n",
       "      <th>month</th>\n",
       "      <th>day</th>\n",
       "      <th>weekday</th>\n",
       "      <th>week_num</th>\n",
       "      <th>lagerUnitType_caption</th>\n",
       "      <th>commodity_group</th>\n",
       "      <th>productCategory_caption_RU</th>\n",
       "      <th>cityId</th>\n",
       "      <th>price</th>\n",
       "      <th>lagerUnitQuantity</th>\n",
       "      <th>lagerUnitTypeId</th>\n",
       "      <th>revanue</th>\n",
       "    </tr>\n",
       "  </thead>\n",
       "  <tbody>\n",
       "    <tr>\n",
       "      <th>1666023</th>\n",
       "      <td>RR3305649</td>\n",
       "      <td>3095</td>\n",
       "      <td>642700</td>\n",
       "      <td>2021-07-29</td>\n",
       "      <td>NaN</td>\n",
       "      <td>NaN</td>\n",
       "      <td>NaN</td>\n",
       "      <td>NaN</td>\n",
       "      <td>NaN</td>\n",
       "      <td>кг</td>\n",
       "      <td>5550352</td>\n",
       "      <td>Сыры полутвердые крупнопористые</td>\n",
       "      <td>0</td>\n",
       "      <td>113.59</td>\n",
       "      <td>1.0</td>\n",
       "      <td>2</td>\n",
       "      <td>NaN</td>\n",
       "    </tr>\n",
       "    <tr>\n",
       "      <th>1666024</th>\n",
       "      <td>RR3305650</td>\n",
       "      <td>3095</td>\n",
       "      <td>642700</td>\n",
       "      <td>2021-07-30</td>\n",
       "      <td>NaN</td>\n",
       "      <td>NaN</td>\n",
       "      <td>NaN</td>\n",
       "      <td>NaN</td>\n",
       "      <td>NaN</td>\n",
       "      <td>кг</td>\n",
       "      <td>5550352</td>\n",
       "      <td>Сыры полутвердые крупнопористые</td>\n",
       "      <td>0</td>\n",
       "      <td>113.59</td>\n",
       "      <td>1.0</td>\n",
       "      <td>2</td>\n",
       "      <td>NaN</td>\n",
       "    </tr>\n",
       "    <tr>\n",
       "      <th>1666025</th>\n",
       "      <td>RR3305651</td>\n",
       "      <td>3095</td>\n",
       "      <td>642700</td>\n",
       "      <td>2021-07-31</td>\n",
       "      <td>NaN</td>\n",
       "      <td>NaN</td>\n",
       "      <td>NaN</td>\n",
       "      <td>NaN</td>\n",
       "      <td>NaN</td>\n",
       "      <td>кг</td>\n",
       "      <td>5550352</td>\n",
       "      <td>Сыры полутвердые крупнопористые</td>\n",
       "      <td>0</td>\n",
       "      <td>113.59</td>\n",
       "      <td>1.0</td>\n",
       "      <td>2</td>\n",
       "      <td>NaN</td>\n",
       "    </tr>\n",
       "    <tr>\n",
       "      <th>1666026</th>\n",
       "      <td>RR3305652</td>\n",
       "      <td>3095</td>\n",
       "      <td>642700</td>\n",
       "      <td>2021-08-01</td>\n",
       "      <td>NaN</td>\n",
       "      <td>NaN</td>\n",
       "      <td>NaN</td>\n",
       "      <td>NaN</td>\n",
       "      <td>NaN</td>\n",
       "      <td>кг</td>\n",
       "      <td>5550352</td>\n",
       "      <td>Сыры полутвердые крупнопористые</td>\n",
       "      <td>0</td>\n",
       "      <td>113.59</td>\n",
       "      <td>1.0</td>\n",
       "      <td>2</td>\n",
       "      <td>NaN</td>\n",
       "    </tr>\n",
       "    <tr>\n",
       "      <th>1666027</th>\n",
       "      <td>RR3305653</td>\n",
       "      <td>3095</td>\n",
       "      <td>642700</td>\n",
       "      <td>2021-08-02</td>\n",
       "      <td>NaN</td>\n",
       "      <td>NaN</td>\n",
       "      <td>NaN</td>\n",
       "      <td>NaN</td>\n",
       "      <td>NaN</td>\n",
       "      <td>кг</td>\n",
       "      <td>5550352</td>\n",
       "      <td>Сыры полутвердые крупнопористые</td>\n",
       "      <td>0</td>\n",
       "      <td>113.59</td>\n",
       "      <td>1.0</td>\n",
       "      <td>2</td>\n",
       "      <td>NaN</td>\n",
       "    </tr>\n",
       "  </tbody>\n",
       "</table>\n",
       "</div>"
      ],
      "text/plain": [
       "                ID  geoCluster     SKU        date  sales  month  day  \\\n",
       "1666023  RR3305649        3095  642700  2021-07-29    NaN    NaN  NaN   \n",
       "1666024  RR3305650        3095  642700  2021-07-30    NaN    NaN  NaN   \n",
       "1666025  RR3305651        3095  642700  2021-07-31    NaN    NaN  NaN   \n",
       "1666026  RR3305652        3095  642700  2021-08-01    NaN    NaN  NaN   \n",
       "1666027  RR3305653        3095  642700  2021-08-02    NaN    NaN  NaN   \n",
       "\n",
       "         weekday  week_num lagerUnitType_caption  commodity_group  \\\n",
       "1666023      NaN       NaN            кг                  5550352   \n",
       "1666024      NaN       NaN            кг                  5550352   \n",
       "1666025      NaN       NaN            кг                  5550352   \n",
       "1666026      NaN       NaN            кг                  5550352   \n",
       "1666027      NaN       NaN            кг                  5550352   \n",
       "\n",
       "              productCategory_caption_RU  cityId   price  lagerUnitQuantity  \\\n",
       "1666023  Сыры полутвердые крупнопористые       0  113.59                1.0   \n",
       "1666024  Сыры полутвердые крупнопористые       0  113.59                1.0   \n",
       "1666025  Сыры полутвердые крупнопористые       0  113.59                1.0   \n",
       "1666026  Сыры полутвердые крупнопористые       0  113.59                1.0   \n",
       "1666027  Сыры полутвердые крупнопористые       0  113.59                1.0   \n",
       "\n",
       "         lagerUnitTypeId  revanue  \n",
       "1666023                2      NaN  \n",
       "1666024                2      NaN  \n",
       "1666025                2      NaN  \n",
       "1666026                2      NaN  \n",
       "1666027                2      NaN  "
      ]
     },
     "execution_count": 34,
     "metadata": {},
     "output_type": "execute_result"
    }
   ],
   "source": [
    "full_data.tail()"
   ]
  },
  {
   "cell_type": "markdown",
   "id": "f7ebb4a7",
   "metadata": {},
   "source": [
    "### cleaning memory"
   ]
  },
  {
   "cell_type": "code",
   "execution_count": 35,
   "id": "9c074646",
   "metadata": {},
   "outputs": [],
   "source": [
    "full_data = change_type(full_data, 'geoCluster', 'uint16')\n",
    "full_data = change_type(full_data, 'SKU', 'uint32')\n",
    "full_data = change_type(full_data, 'commodity_group', 'uint8')\n",
    "full_data = change_type(full_data, 'cityId', 'uint8')\n",
    "full_data = change_type(full_data, 'lagerUnitTypeId', 'uint8')"
   ]
  },
  {
   "cell_type": "code",
   "execution_count": 36,
   "id": "79bb3d3d",
   "metadata": {},
   "outputs": [],
   "source": [
    "del train_data, sku_meta, geo_params;\n",
    "gc.collect();"
   ]
  },
  {
   "cell_type": "markdown",
   "id": "1ecb3006",
   "metadata": {},
   "source": [
    "## creation of features"
   ]
  },
  {
   "cell_type": "code",
   "execution_count": 37,
   "id": "7ba62d67",
   "metadata": {},
   "outputs": [],
   "source": [
    "full_data.drop(columns=['lagerUnitType_caption'],inplace=True)"
   ]
  },
  {
   "cell_type": "markdown",
   "id": "0a0d139e",
   "metadata": {},
   "source": [
    "### days on the market "
   ]
  },
  {
   "cell_type": "code",
   "execution_count": 38,
   "id": "1f2435c9",
   "metadata": {},
   "outputs": [],
   "source": [
    "full_data['date'] = pd.to_datetime(full_data['date'])"
   ]
  },
  {
   "cell_type": "code",
   "execution_count": 39,
   "id": "1adf4fd3",
   "metadata": {},
   "outputs": [
    {
     "name": "stderr",
     "output_type": "stream",
     "text": [
      "100%|██████████| 1961/1961 [05:39<00:00,  5.77it/s]\n"
     ]
    }
   ],
   "source": [
    "unique_SKU_list = full_data.SKU.unique()\n",
    "for sku in tqdm.tqdm(unique_SKU_list):\n",
    "    min_date = full_data[full_data['SKU'] == sku]['date'].min()\n",
    "    #print(min_date)\n",
    "    full_data.loc[full_data['SKU'] == sku , 'days_on_the_market'] = full_data.loc[full_data['SKU'] == sku,'date'] - min_date\n",
    "    #print(train_data[train_data['SKU'] == sku]['date'] - min_date)"
   ]
  },
  {
   "cell_type": "code",
   "execution_count": 40,
   "id": "c0494b70",
   "metadata": {},
   "outputs": [],
   "source": [
    "full_data['days_on_the_market']  = full_data['days_on_the_market'].dt.days"
   ]
  },
  {
   "cell_type": "code",
   "execution_count": 41,
   "id": "a20944c7",
   "metadata": {},
   "outputs": [
    {
     "data": {
      "text/plain": [
       "271.0507787786658"
      ]
     },
     "execution_count": 41,
     "metadata": {},
     "output_type": "execute_result"
    }
   ],
   "source": [
    "full_data['days_on_the_market'].mean()"
   ]
  },
  {
   "cell_type": "code",
   "execution_count": 42,
   "id": "4a70ce2e",
   "metadata": {},
   "outputs": [],
   "source": [
    "# groups = full_data[['date','geoCluster','SKU']].groupby(['geoCluster','SKU'], as_index=False)"
   ]
  },
  {
   "cell_type": "code",
   "execution_count": 43,
   "id": "9f33d46f",
   "metadata": {},
   "outputs": [],
   "source": [
    "# days_on_market_geo = pd.DataFrame()\n",
    "# for key in tqdm.tqdm(groups.groups.keys()):\n",
    "#     group = groups.get_group(key)\n",
    "#     group['date'] = group['date']-group['date'].min()\n",
    "#     days_on_market_geo = days_on_market_geo.append(group)"
   ]
  },
  {
   "cell_type": "code",
   "execution_count": null,
   "id": "bf29cb97",
   "metadata": {},
   "outputs": [],
   "source": []
  },
  {
   "cell_type": "markdown",
   "id": "8adf000b",
   "metadata": {},
   "source": [
    "### max sales, min sales, max ravenue, min ravenue"
   ]
  },
  {
   "cell_type": "code",
   "execution_count": 44,
   "id": "14c8d79d",
   "metadata": {},
   "outputs": [],
   "source": [
    "def agg_feature(df, dates_to_exclude, to_groupby, to_agg, func='min'):\n",
    "    if not isinstance(to_groupby, list):\n",
    "        to_groupby = [to_groupby]\n",
    "    result = df[~df['date'].isin(dates_to_exclude)].groupby(to_groupby,as_index=False).agg({to_agg:func})\n",
    "    result = result.rename(columns={to_agg:to_agg+'_grouped_{}_{}'.format('_'.join(to_groupby),func)})\n",
    "    df = df.merge(result, on=to_groupby, how='left')\n",
    "    return df"
   ]
  },
  {
   "cell_type": "code",
   "execution_count": 45,
   "id": "2bb973ee",
   "metadata": {},
   "outputs": [
    {
     "name": "stderr",
     "output_type": "stream",
     "text": [
      "/home/ec2-user/anaconda3/envs/amazonei_tensorflow2_p36/lib/python3.6/site-packages/ipykernel/__main__.py:7: FutureWarning: Series.dt.weekofyear and Series.dt.week have been deprecated.  Please use Series.dt.isocalendar().week instead.\n"
     ]
    }
   ],
   "source": [
    "full_data['date'] = pd.to_datetime(full_data['date'])\n",
    "full_data['weekday'] = full_data['date'].dt.weekday\n",
    "full_data['day'] = full_data['date'].dt.day\n",
    "full_data['year'] = full_data['date'].dt.year\n",
    "full_data['month'] = full_data['date'].dt.month\n",
    "max_week = full_data[full_data['year']==2020]['week_num'].max()\n",
    "full_data['week_num'] = full_data['date'].dt.week\n",
    "full_data.loc[full_data['year']==2021, 'week_num'] = full_data.loc[full_data['year']==2021, 'week_num'].apply(lambda x: x+max_week)\n",
    "full_data = change_type(full_data, 'month', 'uint8')\n",
    "full_data = change_type(full_data, 'day', 'uint8')\n",
    "full_data = change_type(full_data, 'weekday', 'uint8')\n",
    "full_data = change_type(full_data, 'week_num', 'uint8')"
   ]
  },
  {
   "cell_type": "code",
   "execution_count": 46,
   "id": "b3eae2f2",
   "metadata": {},
   "outputs": [],
   "source": [
    "full_data = agg_feature(full_data, dates_test, ['week_num','geoCluster'], 'sales', 'mean')\n",
    "full_data = agg_feature(full_data, dates_test, ['week_num','geoCluster'], 'sales', 'sum')"
   ]
  },
  {
   "cell_type": "code",
   "execution_count": 47,
   "id": "71aaab54",
   "metadata": {},
   "outputs": [
    {
     "data": {
      "text/plain": [
       "(1666028, 20)"
      ]
     },
     "execution_count": 47,
     "metadata": {},
     "output_type": "execute_result"
    }
   ],
   "source": [
    "full_data[full_data['date'].isin(dates_test)].shape"
   ]
  },
  {
   "cell_type": "code",
   "execution_count": 48,
   "id": "23267458",
   "metadata": {},
   "outputs": [],
   "source": [
    "full_data = agg_feature(full_data, dates_test, ['week_num','cityId'], 'sales', 'mean')\n",
    "full_data = agg_feature(full_data, dates_test, ['week_num','commodity_group'], 'sales', 'mean')"
   ]
  },
  {
   "cell_type": "code",
   "execution_count": 49,
   "id": "745d7f73",
   "metadata": {},
   "outputs": [],
   "source": [
    "full_data = agg_feature(full_data, dates_test, ['week_num','geoCluster'], 'revanue', 'sum')\n",
    "full_data = agg_feature(full_data, dates_test, ['week_num','geoCluster'], 'revanue', 'mean')\n",
    "full_data = agg_feature(full_data, dates_test, ['week_num','cityId'], 'revanue', 'mean')\n",
    "full_data = agg_feature(full_data, dates_test, ['week_num','commodity_group'], 'revanue', 'mean')"
   ]
  },
  {
   "cell_type": "code",
   "execution_count": 50,
   "id": "a8af1d74",
   "metadata": {},
   "outputs": [],
   "source": [
    "full_data = agg_feature(full_data, dates_test, ['week_num','SKU'], 'revanue', 'mean')\n",
    "full_data = agg_feature(full_data, dates_test, ['week_num','SKU'], 'sales', 'mean')\n",
    "full_data = agg_feature(full_data, dates_test, ['week_num','SKU'], 'revanue', 'sum')\n",
    "full_data = agg_feature(full_data, dates_test, ['week_num','SKU'], 'sales', 'sum')"
   ]
  },
  {
   "cell_type": "code",
   "execution_count": 51,
   "id": "a89665cd",
   "metadata": {},
   "outputs": [],
   "source": [
    "full_data = agg_feature(full_data, dates_test, ['week_num','SKU','commodity_group'], 'revanue', 'mean')\n",
    "full_data = agg_feature(full_data, dates_test, ['week_num','SKU','commodity_group'], 'sales', 'mean')\n",
    "full_data = agg_feature(full_data, dates_test, ['week_num','SKU','commodity_group'], 'revanue', 'sum')\n",
    "full_data = agg_feature(full_data, dates_test, ['week_num','SKU','commodity_group'], 'sales', 'sum')"
   ]
  },
  {
   "cell_type": "code",
   "execution_count": 52,
   "id": "a3c974c3",
   "metadata": {},
   "outputs": [],
   "source": [
    "full_data = agg_feature(full_data, dates_test, ['week_num','SKU','geoCluster'], 'revanue', 'mean')\n",
    "full_data = agg_feature(full_data, dates_test, ['week_num','SKU','geoCluster'], 'sales', 'mean')\n",
    "full_data = agg_feature(full_data, dates_test, ['week_num','SKU','geoCluster'], 'revanue', 'sum')\n",
    "full_data = agg_feature(full_data, dates_test, ['week_num','SKU','geoCluster'], 'sales', 'sum')"
   ]
  },
  {
   "cell_type": "code",
   "execution_count": 53,
   "id": "0a72651a",
   "metadata": {},
   "outputs": [
    {
     "data": {
      "text/plain": [
       "array([ 80,  81,  82,  71,  72,  73,  74,  75,  76,  77,  78,  79,  69,\n",
       "        70,  68,  67,  52,  53, 106,  54,  55,  56,  57,  58,  59,  60,\n",
       "        61,  62,  63,  64,  65,  66,  48,  49,  50,  51,  47,  45,  46,\n",
       "        17,  18,  19,  20,  21,  22,  23,  24,  25,  26,  27,  28,  29,\n",
       "        30,  31,  32,  33,  34,  35,  36,  37,  38,  39,  40,  41,  42,\n",
       "        43,  44,  16,  15,  14,   1,   2,   3,   4,   5,   6,   7,   8,\n",
       "         9,  10,  11,  12,  13,  83,  84], dtype=uint8)"
      ]
     },
     "execution_count": 53,
     "metadata": {},
     "output_type": "execute_result"
    }
   ],
   "source": [
    "full_data.week_num.unique()"
   ]
  },
  {
   "cell_type": "code",
   "execution_count": 54,
   "id": "3ddf5073",
   "metadata": {},
   "outputs": [
    {
     "data": {
      "text/plain": [
       "ID                                                   0\n",
       "geoCluster                                           0\n",
       "SKU                                                  0\n",
       "date                                                 0\n",
       "sales                                                0\n",
       "month                                                0\n",
       "day                                                  0\n",
       "weekday                                              0\n",
       "week_num                                             0\n",
       "commodity_group                                      0\n",
       "productCategory_caption_RU                           0\n",
       "cityId                                               0\n",
       "price                                                0\n",
       "lagerUnitQuantity                                    0\n",
       "lagerUnitTypeId                                      0\n",
       "revanue                                              0\n",
       "days_on_the_market                                   0\n",
       "year                                                 0\n",
       "sales_grouped_week_num_geoCluster_mean               0\n",
       "sales_grouped_week_num_geoCluster_sum                0\n",
       "sales_grouped_week_num_cityId_mean                   0\n",
       "sales_grouped_week_num_commodity_group_mean          0\n",
       "revanue_grouped_week_num_geoCluster_sum              0\n",
       "revanue_grouped_week_num_geoCluster_mean             0\n",
       "revanue_grouped_week_num_cityId_mean                 0\n",
       "revanue_grouped_week_num_commodity_group_mean        0\n",
       "revanue_grouped_week_num_SKU_mean                    0\n",
       "sales_grouped_week_num_SKU_mean                      0\n",
       "revanue_grouped_week_num_SKU_sum                     0\n",
       "sales_grouped_week_num_SKU_sum                       0\n",
       "revanue_grouped_week_num_SKU_commodity_group_mean    0\n",
       "sales_grouped_week_num_SKU_commodity_group_mean      0\n",
       "revanue_grouped_week_num_SKU_commodity_group_sum     0\n",
       "sales_grouped_week_num_SKU_commodity_group_sum       0\n",
       "revanue_grouped_week_num_SKU_geoCluster_mean         0\n",
       "sales_grouped_week_num_SKU_geoCluster_mean           0\n",
       "revanue_grouped_week_num_SKU_geoCluster_sum          0\n",
       "sales_grouped_week_num_SKU_geoCluster_sum            0\n",
       "dtype: int64"
      ]
     },
     "execution_count": 54,
     "metadata": {},
     "output_type": "execute_result"
    }
   ],
   "source": [
    "full_data[~full_data['date'].isin(dates_test)].isna().sum()"
   ]
  },
  {
   "cell_type": "code",
   "execution_count": 55,
   "id": "30ee55d4",
   "metadata": {},
   "outputs": [
    {
     "data": {
      "text/html": [
       "<div>\n",
       "<style scoped>\n",
       "    .dataframe tbody tr th:only-of-type {\n",
       "        vertical-align: middle;\n",
       "    }\n",
       "\n",
       "    .dataframe tbody tr th {\n",
       "        vertical-align: top;\n",
       "    }\n",
       "\n",
       "    .dataframe thead th {\n",
       "        text-align: right;\n",
       "    }\n",
       "</style>\n",
       "<table border=\"1\" class=\"dataframe\">\n",
       "  <thead>\n",
       "    <tr style=\"text-align: right;\">\n",
       "      <th></th>\n",
       "      <th>ID</th>\n",
       "      <th>geoCluster</th>\n",
       "      <th>SKU</th>\n",
       "      <th>date</th>\n",
       "      <th>sales</th>\n",
       "      <th>month</th>\n",
       "      <th>day</th>\n",
       "      <th>weekday</th>\n",
       "      <th>week_num</th>\n",
       "      <th>commodity_group</th>\n",
       "      <th>...</th>\n",
       "      <th>revanue_grouped_week_num_SKU_sum</th>\n",
       "      <th>sales_grouped_week_num_SKU_sum</th>\n",
       "      <th>revanue_grouped_week_num_SKU_commodity_group_mean</th>\n",
       "      <th>sales_grouped_week_num_SKU_commodity_group_mean</th>\n",
       "      <th>revanue_grouped_week_num_SKU_commodity_group_sum</th>\n",
       "      <th>sales_grouped_week_num_SKU_commodity_group_sum</th>\n",
       "      <th>revanue_grouped_week_num_SKU_geoCluster_mean</th>\n",
       "      <th>sales_grouped_week_num_SKU_geoCluster_mean</th>\n",
       "      <th>revanue_grouped_week_num_SKU_geoCluster_sum</th>\n",
       "      <th>sales_grouped_week_num_SKU_geoCluster_sum</th>\n",
       "    </tr>\n",
       "  </thead>\n",
       "  <tbody>\n",
       "    <tr>\n",
       "      <th>29622468</th>\n",
       "      <td>RR3305649</td>\n",
       "      <td>3095</td>\n",
       "      <td>642700</td>\n",
       "      <td>2021-07-29</td>\n",
       "      <td>NaN</td>\n",
       "      <td>7</td>\n",
       "      <td>29</td>\n",
       "      <td>3</td>\n",
       "      <td>83</td>\n",
       "      <td>16</td>\n",
       "      <td>...</td>\n",
       "      <td>NaN</td>\n",
       "      <td>NaN</td>\n",
       "      <td>NaN</td>\n",
       "      <td>NaN</td>\n",
       "      <td>NaN</td>\n",
       "      <td>NaN</td>\n",
       "      <td>NaN</td>\n",
       "      <td>NaN</td>\n",
       "      <td>NaN</td>\n",
       "      <td>NaN</td>\n",
       "    </tr>\n",
       "    <tr>\n",
       "      <th>29622469</th>\n",
       "      <td>RR3305650</td>\n",
       "      <td>3095</td>\n",
       "      <td>642700</td>\n",
       "      <td>2021-07-30</td>\n",
       "      <td>NaN</td>\n",
       "      <td>7</td>\n",
       "      <td>30</td>\n",
       "      <td>4</td>\n",
       "      <td>83</td>\n",
       "      <td>16</td>\n",
       "      <td>...</td>\n",
       "      <td>NaN</td>\n",
       "      <td>NaN</td>\n",
       "      <td>NaN</td>\n",
       "      <td>NaN</td>\n",
       "      <td>NaN</td>\n",
       "      <td>NaN</td>\n",
       "      <td>NaN</td>\n",
       "      <td>NaN</td>\n",
       "      <td>NaN</td>\n",
       "      <td>NaN</td>\n",
       "    </tr>\n",
       "    <tr>\n",
       "      <th>29622470</th>\n",
       "      <td>RR3305651</td>\n",
       "      <td>3095</td>\n",
       "      <td>642700</td>\n",
       "      <td>2021-07-31</td>\n",
       "      <td>NaN</td>\n",
       "      <td>7</td>\n",
       "      <td>31</td>\n",
       "      <td>5</td>\n",
       "      <td>83</td>\n",
       "      <td>16</td>\n",
       "      <td>...</td>\n",
       "      <td>NaN</td>\n",
       "      <td>NaN</td>\n",
       "      <td>NaN</td>\n",
       "      <td>NaN</td>\n",
       "      <td>NaN</td>\n",
       "      <td>NaN</td>\n",
       "      <td>NaN</td>\n",
       "      <td>NaN</td>\n",
       "      <td>NaN</td>\n",
       "      <td>NaN</td>\n",
       "    </tr>\n",
       "    <tr>\n",
       "      <th>29622471</th>\n",
       "      <td>RR3305652</td>\n",
       "      <td>3095</td>\n",
       "      <td>642700</td>\n",
       "      <td>2021-08-01</td>\n",
       "      <td>NaN</td>\n",
       "      <td>8</td>\n",
       "      <td>1</td>\n",
       "      <td>6</td>\n",
       "      <td>83</td>\n",
       "      <td>16</td>\n",
       "      <td>...</td>\n",
       "      <td>NaN</td>\n",
       "      <td>NaN</td>\n",
       "      <td>NaN</td>\n",
       "      <td>NaN</td>\n",
       "      <td>NaN</td>\n",
       "      <td>NaN</td>\n",
       "      <td>NaN</td>\n",
       "      <td>NaN</td>\n",
       "      <td>NaN</td>\n",
       "      <td>NaN</td>\n",
       "    </tr>\n",
       "    <tr>\n",
       "      <th>29622472</th>\n",
       "      <td>RR3305653</td>\n",
       "      <td>3095</td>\n",
       "      <td>642700</td>\n",
       "      <td>2021-08-02</td>\n",
       "      <td>NaN</td>\n",
       "      <td>8</td>\n",
       "      <td>2</td>\n",
       "      <td>0</td>\n",
       "      <td>84</td>\n",
       "      <td>16</td>\n",
       "      <td>...</td>\n",
       "      <td>NaN</td>\n",
       "      <td>NaN</td>\n",
       "      <td>NaN</td>\n",
       "      <td>NaN</td>\n",
       "      <td>NaN</td>\n",
       "      <td>NaN</td>\n",
       "      <td>NaN</td>\n",
       "      <td>NaN</td>\n",
       "      <td>NaN</td>\n",
       "      <td>NaN</td>\n",
       "    </tr>\n",
       "  </tbody>\n",
       "</table>\n",
       "<p>5 rows × 38 columns</p>\n",
       "</div>"
      ],
      "text/plain": [
       "                 ID  geoCluster     SKU       date  sales  month  day  \\\n",
       "29622468  RR3305649        3095  642700 2021-07-29    NaN      7   29   \n",
       "29622469  RR3305650        3095  642700 2021-07-30    NaN      7   30   \n",
       "29622470  RR3305651        3095  642700 2021-07-31    NaN      7   31   \n",
       "29622471  RR3305652        3095  642700 2021-08-01    NaN      8    1   \n",
       "29622472  RR3305653        3095  642700 2021-08-02    NaN      8    2   \n",
       "\n",
       "          weekday  week_num  commodity_group  ...  \\\n",
       "29622468        3        83               16  ...   \n",
       "29622469        4        83               16  ...   \n",
       "29622470        5        83               16  ...   \n",
       "29622471        6        83               16  ...   \n",
       "29622472        0        84               16  ...   \n",
       "\n",
       "         revanue_grouped_week_num_SKU_sum  sales_grouped_week_num_SKU_sum  \\\n",
       "29622468                              NaN                             NaN   \n",
       "29622469                              NaN                             NaN   \n",
       "29622470                              NaN                             NaN   \n",
       "29622471                              NaN                             NaN   \n",
       "29622472                              NaN                             NaN   \n",
       "\n",
       "          revanue_grouped_week_num_SKU_commodity_group_mean  \\\n",
       "29622468                                                NaN   \n",
       "29622469                                                NaN   \n",
       "29622470                                                NaN   \n",
       "29622471                                                NaN   \n",
       "29622472                                                NaN   \n",
       "\n",
       "          sales_grouped_week_num_SKU_commodity_group_mean  \\\n",
       "29622468                                              NaN   \n",
       "29622469                                              NaN   \n",
       "29622470                                              NaN   \n",
       "29622471                                              NaN   \n",
       "29622472                                              NaN   \n",
       "\n",
       "          revanue_grouped_week_num_SKU_commodity_group_sum  \\\n",
       "29622468                                               NaN   \n",
       "29622469                                               NaN   \n",
       "29622470                                               NaN   \n",
       "29622471                                               NaN   \n",
       "29622472                                               NaN   \n",
       "\n",
       "          sales_grouped_week_num_SKU_commodity_group_sum  \\\n",
       "29622468                                             NaN   \n",
       "29622469                                             NaN   \n",
       "29622470                                             NaN   \n",
       "29622471                                             NaN   \n",
       "29622472                                             NaN   \n",
       "\n",
       "          revanue_grouped_week_num_SKU_geoCluster_mean  \\\n",
       "29622468                                           NaN   \n",
       "29622469                                           NaN   \n",
       "29622470                                           NaN   \n",
       "29622471                                           NaN   \n",
       "29622472                                           NaN   \n",
       "\n",
       "          sales_grouped_week_num_SKU_geoCluster_mean  \\\n",
       "29622468                                         NaN   \n",
       "29622469                                         NaN   \n",
       "29622470                                         NaN   \n",
       "29622471                                         NaN   \n",
       "29622472                                         NaN   \n",
       "\n",
       "          revanue_grouped_week_num_SKU_geoCluster_sum  \\\n",
       "29622468                                          NaN   \n",
       "29622469                                          NaN   \n",
       "29622470                                          NaN   \n",
       "29622471                                          NaN   \n",
       "29622472                                          NaN   \n",
       "\n",
       "          sales_grouped_week_num_SKU_geoCluster_sum  \n",
       "29622468                                        NaN  \n",
       "29622469                                        NaN  \n",
       "29622470                                        NaN  \n",
       "29622471                                        NaN  \n",
       "29622472                                        NaN  \n",
       "\n",
       "[5 rows x 38 columns]"
      ]
     },
     "execution_count": 55,
     "metadata": {},
     "output_type": "execute_result"
    }
   ],
   "source": [
    "full_data.tail()"
   ]
  },
  {
   "cell_type": "code",
   "execution_count": 56,
   "id": "a82e548d",
   "metadata": {},
   "outputs": [
    {
     "data": {
      "text/plain": [
       "Index(['ID', 'geoCluster', 'SKU', 'date', 'sales', 'month', 'day', 'weekday',\n",
       "       'week_num', 'commodity_group', 'productCategory_caption_RU', 'cityId',\n",
       "       'price', 'lagerUnitQuantity', 'lagerUnitTypeId', 'revanue',\n",
       "       'days_on_the_market', 'year', 'sales_grouped_week_num_geoCluster_mean',\n",
       "       'sales_grouped_week_num_geoCluster_sum',\n",
       "       'sales_grouped_week_num_cityId_mean',\n",
       "       'sales_grouped_week_num_commodity_group_mean',\n",
       "       'revanue_grouped_week_num_geoCluster_sum',\n",
       "       'revanue_grouped_week_num_geoCluster_mean',\n",
       "       'revanue_grouped_week_num_cityId_mean',\n",
       "       'revanue_grouped_week_num_commodity_group_mean',\n",
       "       'revanue_grouped_week_num_SKU_mean', 'sales_grouped_week_num_SKU_mean',\n",
       "       'revanue_grouped_week_num_SKU_sum', 'sales_grouped_week_num_SKU_sum',\n",
       "       'revanue_grouped_week_num_SKU_commodity_group_mean',\n",
       "       'sales_grouped_week_num_SKU_commodity_group_mean',\n",
       "       'revanue_grouped_week_num_SKU_commodity_group_sum',\n",
       "       'sales_grouped_week_num_SKU_commodity_group_sum',\n",
       "       'revanue_grouped_week_num_SKU_geoCluster_mean',\n",
       "       'sales_grouped_week_num_SKU_geoCluster_mean',\n",
       "       'revanue_grouped_week_num_SKU_geoCluster_sum',\n",
       "       'sales_grouped_week_num_SKU_geoCluster_sum'],\n",
       "      dtype='object')"
      ]
     },
     "execution_count": 56,
     "metadata": {},
     "output_type": "execute_result"
    }
   ],
   "source": [
    "full_data.columns"
   ]
  },
  {
   "cell_type": "markdown",
   "id": "e77de7ac",
   "metadata": {},
   "source": [
    "### lag on aggregated features"
   ]
  },
  {
   "cell_type": "code",
   "execution_count": 57,
   "id": "44f6561d",
   "metadata": {},
   "outputs": [
    {
     "name": "stdout",
     "output_type": "stream",
     "text": [
      "<class 'pandas.core.frame.DataFrame'>\n",
      "Int64Index: 29622473 entries, 0 to 29622472\n",
      "Data columns (total 38 columns):\n",
      " #   Column                                             Dtype         \n",
      "---  ------                                             -----         \n",
      " 0   ID                                                 object        \n",
      " 1   geoCluster                                         uint16        \n",
      " 2   SKU                                                uint32        \n",
      " 3   date                                               datetime64[ns]\n",
      " 4   sales                                              float64       \n",
      " 5   month                                              uint8         \n",
      " 6   day                                                uint8         \n",
      " 7   weekday                                            uint8         \n",
      " 8   week_num                                           uint8         \n",
      " 9   commodity_group                                    uint8         \n",
      " 10  productCategory_caption_RU                         object        \n",
      " 11  cityId                                             uint8         \n",
      " 12  price                                              float64       \n",
      " 13  lagerUnitQuantity                                  float64       \n",
      " 14  lagerUnitTypeId                                    uint8         \n",
      " 15  revanue                                            float64       \n",
      " 16  days_on_the_market                                 int64         \n",
      " 17  year                                               int64         \n",
      " 18  sales_grouped_week_num_geoCluster_mean             float64       \n",
      " 19  sales_grouped_week_num_geoCluster_sum              float64       \n",
      " 20  sales_grouped_week_num_cityId_mean                 float64       \n",
      " 21  sales_grouped_week_num_commodity_group_mean        float64       \n",
      " 22  revanue_grouped_week_num_geoCluster_sum            float64       \n",
      " 23  revanue_grouped_week_num_geoCluster_mean           float64       \n",
      " 24  revanue_grouped_week_num_cityId_mean               float64       \n",
      " 25  revanue_grouped_week_num_commodity_group_mean      float64       \n",
      " 26  revanue_grouped_week_num_SKU_mean                  float64       \n",
      " 27  sales_grouped_week_num_SKU_mean                    float64       \n",
      " 28  revanue_grouped_week_num_SKU_sum                   float64       \n",
      " 29  sales_grouped_week_num_SKU_sum                     float64       \n",
      " 30  revanue_grouped_week_num_SKU_commodity_group_mean  float64       \n",
      " 31  sales_grouped_week_num_SKU_commodity_group_mean    float64       \n",
      " 32  revanue_grouped_week_num_SKU_commodity_group_sum   float64       \n",
      " 33  sales_grouped_week_num_SKU_commodity_group_sum     float64       \n",
      " 34  revanue_grouped_week_num_SKU_geoCluster_mean       float64       \n",
      " 35  sales_grouped_week_num_SKU_geoCluster_mean         float64       \n",
      " 36  revanue_grouped_week_num_SKU_geoCluster_sum        float64       \n",
      " 37  sales_grouped_week_num_SKU_geoCluster_sum          float64       \n",
      "dtypes: datetime64[ns](1), float64(24), int64(2), object(2), uint16(1), uint32(1), uint8(7)\n",
      "memory usage: 7.0+ GB\n"
     ]
    }
   ],
   "source": [
    "full_data.info()"
   ]
  },
  {
   "cell_type": "code",
   "execution_count": 58,
   "id": "f96e9e96",
   "metadata": {},
   "outputs": [],
   "source": [
    "for i in full_data.columns:\n",
    "    if 'float' in str(full_data[i].dtype):\n",
    "            full_data[i] = full_data[i].astype('float16')"
   ]
  },
  {
   "cell_type": "code",
   "execution_count": 59,
   "id": "6309335f",
   "metadata": {},
   "outputs": [],
   "source": [
    "def lag_feature(df, lags, agg_columns, col):\n",
    "    agg_columns = agg_columns+[col]\n",
    "    tmp = df[agg_columns]\n",
    "    for i in lags:\n",
    "        shifted = tmp.copy()\n",
    "        shifted.columns = agg_columns[:-1]+[col+'_lag_'+str(i)]\n",
    "        shifted['week_num'] += i\n",
    "        shifted = shifted.drop_duplicates(agg_columns[:-1])\n",
    "        df = pd.merge(df, shifted, on=agg_columns[:-1], how='left')\n",
    "        df[col+'_lag_'+str(i)] = df[col+'_lag_'+str(i)].fillna(0)\n",
    "    df = df.drop(columns=col)\n",
    "    return df"
   ]
  },
  {
   "cell_type": "code",
   "execution_count": 60,
   "id": "1ad6c61b",
   "metadata": {},
   "outputs": [],
   "source": [
    "full_data = lag_feature(full_data, [2,3], ['week_num','commodity_group'], 'revanue_grouped_week_num_commodity_group_mean')\n",
    "full_data = lag_feature(full_data, [2,3], ['week_num','cityId'], 'revanue_grouped_week_num_cityId_mean')\n",
    "full_data = lag_feature(full_data, [2,3], ['week_num','geoCluster'], 'revanue_grouped_week_num_geoCluster_mean')\n",
    "full_data = lag_feature(full_data, [2,3], ['week_num','geoCluster'], 'revanue_grouped_week_num_geoCluster_sum')"
   ]
  },
  {
   "cell_type": "code",
   "execution_count": 61,
   "id": "90224492",
   "metadata": {},
   "outputs": [],
   "source": [
    "full_data = lag_feature(full_data, [2,3], ['week_num','commodity_group'], 'sales_grouped_week_num_commodity_group_mean')\n",
    "full_data = lag_feature(full_data, [2,3], ['week_num','cityId'], 'sales_grouped_week_num_cityId_mean')\n",
    "full_data = lag_feature(full_data, [2,3], ['week_num','geoCluster'], 'sales_grouped_week_num_geoCluster_mean')\n",
    "full_data = lag_feature(full_data, [2,3], ['week_num','geoCluster'], 'sales_grouped_week_num_geoCluster_sum')"
   ]
  },
  {
   "cell_type": "code",
   "execution_count": 62,
   "id": "18e81103",
   "metadata": {},
   "outputs": [],
   "source": [
    "full_data = lag_feature(full_data, [2,3], ['week_num','SKU'], 'sales_grouped_week_num_SKU_mean')\n",
    "full_data = lag_feature(full_data, [2,3], ['week_num','SKU'], 'sales_grouped_week_num_SKU_sum')"
   ]
  },
  {
   "cell_type": "code",
   "execution_count": 63,
   "id": "409c4316",
   "metadata": {},
   "outputs": [],
   "source": [
    "full_data = lag_feature(full_data, [2,3], ['week_num','SKU'], 'revanue_grouped_week_num_SKU_sum')\n",
    "full_data = lag_feature(full_data, [2,3], ['week_num','SKU'], 'revanue_grouped_week_num_SKU_mean')"
   ]
  },
  {
   "cell_type": "code",
   "execution_count": 64,
   "id": "1ac8beb5",
   "metadata": {},
   "outputs": [],
   "source": [
    "full_data = lag_feature(full_data, [2,3], ['week_num','SKU','commodity_group'], 'revanue_grouped_week_num_SKU_commodity_group_sum')\n",
    "full_data = lag_feature(full_data, [2,3], ['week_num','SKU','commodity_group'], 'revanue_grouped_week_num_SKU_commodity_group_mean')"
   ]
  },
  {
   "cell_type": "code",
   "execution_count": 65,
   "id": "d03bb732",
   "metadata": {},
   "outputs": [],
   "source": [
    "full_data = lag_feature(full_data, [2,3], ['week_num','SKU','geoCluster'], 'revanue_grouped_week_num_SKU_geoCluster_sum')\n",
    "full_data = lag_feature(full_data, [2,3], ['week_num','SKU','geoCluster'], 'revanue_grouped_week_num_SKU_geoCluster_mean')"
   ]
  },
  {
   "cell_type": "code",
   "execution_count": 66,
   "id": "85fdc0e4",
   "metadata": {},
   "outputs": [],
   "source": [
    "full_data = lag_feature(full_data, [2,3], ['week_num','SKU','commodity_group'], 'sales_grouped_week_num_SKU_commodity_group_sum')\n"
   ]
  },
  {
   "cell_type": "code",
   "execution_count": 67,
   "id": "c692fc31",
   "metadata": {},
   "outputs": [],
   "source": [
    "full_data = lag_feature(full_data, [2,3], ['week_num','SKU','commodity_group'], 'sales_grouped_week_num_SKU_commodity_group_mean')"
   ]
  },
  {
   "cell_type": "code",
   "execution_count": 68,
   "id": "5de2608e",
   "metadata": {},
   "outputs": [],
   "source": [
    "full_data = lag_feature(full_data, [2,3], ['week_num','SKU','geoCluster'], 'sales_grouped_week_num_SKU_geoCluster_sum')\n",
    "full_data = lag_feature(full_data, [2,3], ['week_num','SKU','geoCluster'], 'sales_grouped_week_num_SKU_geoCluster_mean')"
   ]
  },
  {
   "cell_type": "code",
   "execution_count": 69,
   "id": "f31e6402",
   "metadata": {},
   "outputs": [
    {
     "name": "stdout",
     "output_type": "stream",
     "text": [
      "<class 'pandas.core.frame.DataFrame'>\n",
      "Int64Index: 29622473 entries, 0 to 29622472\n",
      "Data columns (total 58 columns):\n",
      " #   Column                                                   Dtype         \n",
      "---  ------                                                   -----         \n",
      " 0   ID                                                       object        \n",
      " 1   geoCluster                                               uint16        \n",
      " 2   SKU                                                      uint32        \n",
      " 3   date                                                     datetime64[ns]\n",
      " 4   sales                                                    float16       \n",
      " 5   month                                                    uint8         \n",
      " 6   day                                                      uint8         \n",
      " 7   weekday                                                  uint8         \n",
      " 8   week_num                                                 uint8         \n",
      " 9   commodity_group                                          uint8         \n",
      " 10  productCategory_caption_RU                               object        \n",
      " 11  cityId                                                   uint8         \n",
      " 12  price                                                    float16       \n",
      " 13  lagerUnitQuantity                                        float16       \n",
      " 14  lagerUnitTypeId                                          uint8         \n",
      " 15  revanue                                                  float16       \n",
      " 16  days_on_the_market                                       int64         \n",
      " 17  year                                                     int64         \n",
      " 18  revanue_grouped_week_num_commodity_group_mean_lag_2      float16       \n",
      " 19  revanue_grouped_week_num_commodity_group_mean_lag_3      float16       \n",
      " 20  revanue_grouped_week_num_cityId_mean_lag_2               float16       \n",
      " 21  revanue_grouped_week_num_cityId_mean_lag_3               float16       \n",
      " 22  revanue_grouped_week_num_geoCluster_mean_lag_2           float16       \n",
      " 23  revanue_grouped_week_num_geoCluster_mean_lag_3           float16       \n",
      " 24  revanue_grouped_week_num_geoCluster_sum_lag_2            float16       \n",
      " 25  revanue_grouped_week_num_geoCluster_sum_lag_3            float16       \n",
      " 26  sales_grouped_week_num_commodity_group_mean_lag_2        float16       \n",
      " 27  sales_grouped_week_num_commodity_group_mean_lag_3        float16       \n",
      " 28  sales_grouped_week_num_cityId_mean_lag_2                 float16       \n",
      " 29  sales_grouped_week_num_cityId_mean_lag_3                 float16       \n",
      " 30  sales_grouped_week_num_geoCluster_mean_lag_2             float16       \n",
      " 31  sales_grouped_week_num_geoCluster_mean_lag_3             float16       \n",
      " 32  sales_grouped_week_num_geoCluster_sum_lag_2              float16       \n",
      " 33  sales_grouped_week_num_geoCluster_sum_lag_3              float16       \n",
      " 34  sales_grouped_week_num_SKU_mean_lag_2                    float16       \n",
      " 35  sales_grouped_week_num_SKU_mean_lag_3                    float16       \n",
      " 36  sales_grouped_week_num_SKU_sum_lag_2                     float16       \n",
      " 37  sales_grouped_week_num_SKU_sum_lag_3                     float16       \n",
      " 38  revanue_grouped_week_num_SKU_sum_lag_2                   float16       \n",
      " 39  revanue_grouped_week_num_SKU_sum_lag_3                   float16       \n",
      " 40  revanue_grouped_week_num_SKU_mean_lag_2                  float16       \n",
      " 41  revanue_grouped_week_num_SKU_mean_lag_3                  float16       \n",
      " 42  revanue_grouped_week_num_SKU_commodity_group_sum_lag_2   float16       \n",
      " 43  revanue_grouped_week_num_SKU_commodity_group_sum_lag_3   float16       \n",
      " 44  revanue_grouped_week_num_SKU_commodity_group_mean_lag_2  float16       \n",
      " 45  revanue_grouped_week_num_SKU_commodity_group_mean_lag_3  float16       \n",
      " 46  revanue_grouped_week_num_SKU_geoCluster_sum_lag_2        float16       \n",
      " 47  revanue_grouped_week_num_SKU_geoCluster_sum_lag_3        float16       \n",
      " 48  revanue_grouped_week_num_SKU_geoCluster_mean_lag_2       float16       \n",
      " 49  revanue_grouped_week_num_SKU_geoCluster_mean_lag_3       float16       \n",
      " 50  sales_grouped_week_num_SKU_commodity_group_sum_lag_2     float16       \n",
      " 51  sales_grouped_week_num_SKU_commodity_group_sum_lag_3     float16       \n",
      " 52  sales_grouped_week_num_SKU_commodity_group_mean_lag_2    float16       \n",
      " 53  sales_grouped_week_num_SKU_commodity_group_mean_lag_3    float16       \n",
      " 54  sales_grouped_week_num_SKU_geoCluster_sum_lag_2          float16       \n",
      " 55  sales_grouped_week_num_SKU_geoCluster_sum_lag_3          float16       \n",
      " 56  sales_grouped_week_num_SKU_geoCluster_mean_lag_2         float16       \n",
      " 57  sales_grouped_week_num_SKU_geoCluster_mean_lag_3         float16       \n",
      "dtypes: datetime64[ns](1), float16(44), int64(2), object(2), uint16(1), uint32(1), uint8(7)\n",
      "memory usage: 4.1+ GB\n"
     ]
    }
   ],
   "source": [
    "full_data.info()"
   ]
  },
  {
   "cell_type": "markdown",
   "id": "0c07110c",
   "metadata": {},
   "source": [
    "### tf idf features"
   ]
  },
  {
   "cell_type": "code",
   "execution_count": 70,
   "id": "ed006849",
   "metadata": {},
   "outputs": [],
   "source": [
    "sku_meta = pd.read_csv('../sku_final.csv')"
   ]
  },
  {
   "cell_type": "code",
   "execution_count": 71,
   "id": "efa8ad29",
   "metadata": {},
   "outputs": [],
   "source": [
    "sku_meta['productCategory_caption_RU'] = sku_meta['productCategory_caption_RU'].str.lower()"
   ]
  },
  {
   "cell_type": "code",
   "execution_count": 72,
   "id": "8fe79092",
   "metadata": {},
   "outputs": [
    {
     "data": {
      "text/plain": [
       "874109"
      ]
     },
     "execution_count": 72,
     "metadata": {},
     "output_type": "execute_result"
    }
   ],
   "source": [
    "sku_meta['SKU'].max()\n"
   ]
  },
  {
   "cell_type": "code",
   "execution_count": 73,
   "id": "66b3a34d",
   "metadata": {},
   "outputs": [
    {
     "data": {
      "text/plain": [
       "874109"
      ]
     },
     "execution_count": 73,
     "metadata": {},
     "output_type": "execute_result"
    }
   ],
   "source": [
    "full_data['SKU'].max()"
   ]
  },
  {
   "cell_type": "code",
   "execution_count": 74,
   "id": "7d539d02",
   "metadata": {},
   "outputs": [
    {
     "data": {
      "text/plain": [
       "874109"
      ]
     },
     "execution_count": 74,
     "metadata": {},
     "output_type": "execute_result"
    }
   ],
   "source": [
    "sku_meta['SKU'].max()"
   ]
  },
  {
   "cell_type": "code",
   "execution_count": 75,
   "id": "81b222e0",
   "metadata": {},
   "outputs": [
    {
     "data": {
      "text/plain": [
       "874109"
      ]
     },
     "execution_count": 75,
     "metadata": {},
     "output_type": "execute_result"
    }
   ],
   "source": [
    "sku_meta['SKU'].max()"
   ]
  },
  {
   "cell_type": "code",
   "execution_count": 76,
   "id": "14406e31",
   "metadata": {},
   "outputs": [
    {
     "data": {
      "text/plain": [
       "0"
      ]
     },
     "execution_count": 76,
     "metadata": {},
     "output_type": "execute_result"
    }
   ],
   "source": [
    "len(set(sku_meta['SKU'].unique()).difference(full_data['SKU'].unique()))"
   ]
  },
  {
   "cell_type": "code",
   "execution_count": 77,
   "id": "1a7179fc",
   "metadata": {},
   "outputs": [],
   "source": [
    "description = np.hstack(sku_meta['productCategory_caption_RU'].apply(lambda x: x.split(' ')))\n",
    "unique_tokens_desc, frequency_desc = np.unique(description, return_counts=True)"
   ]
  },
  {
   "cell_type": "code",
   "execution_count": 78,
   "id": "81044042",
   "metadata": {},
   "outputs": [],
   "source": [
    "tokens = sorted(list(zip(unique_tokens_desc, frequency_desc)),key=lambda x: x[1])[::-1]"
   ]
  },
  {
   "cell_type": "code",
   "execution_count": 79,
   "id": "3ac4ad96",
   "metadata": {},
   "outputs": [],
   "source": [
    "top_tokens = [i[0] for i in tokens[1:21]]"
   ]
  },
  {
   "cell_type": "code",
   "execution_count": 80,
   "id": "a337622a",
   "metadata": {},
   "outputs": [
    {
     "data": {
      "text/plain": [
       "['собств',\n",
       " 'производства',\n",
       " 'сыры',\n",
       " 'начинкой',\n",
       " 'вода',\n",
       " 'произв',\n",
       " 'собственного',\n",
       " 'йогурты',\n",
       " 'полутвердые',\n",
       " 'украины',\n",
       " 'без',\n",
       " 'молочные',\n",
       " 'сдоба',\n",
       " 'хлеб',\n",
       " 'допек',\n",
       " 'десерты',\n",
       " 'добавками',\n",
       " 'газированная',\n",
       " 'добавок',\n",
       " 'импортная']"
      ]
     },
     "execution_count": 80,
     "metadata": {},
     "output_type": "execute_result"
    }
   ],
   "source": [
    "top_tokens"
   ]
  },
  {
   "cell_type": "code",
   "execution_count": 81,
   "id": "724281b7",
   "metadata": {},
   "outputs": [],
   "source": [
    "from sklearn.feature_extraction.text import TfidfVectorizer"
   ]
  },
  {
   "cell_type": "code",
   "execution_count": 82,
   "id": "b0941204",
   "metadata": {},
   "outputs": [],
   "source": [
    "vectorizer = TfidfVectorizer()"
   ]
  },
  {
   "cell_type": "code",
   "execution_count": 83,
   "id": "7c8e8c79",
   "metadata": {},
   "outputs": [],
   "source": [
    "tfidf_result = vectorizer.fit_transform(sku_meta['productCategory_caption_RU'])"
   ]
  },
  {
   "cell_type": "code",
   "execution_count": 84,
   "id": "ea5d6ef8",
   "metadata": {},
   "outputs": [],
   "source": [
    "tfidf_result = pd.DataFrame(tfidf_result.todense(), columns=vectorizer.get_feature_names())"
   ]
  },
  {
   "cell_type": "code",
   "execution_count": 85,
   "id": "6e5e1df8",
   "metadata": {},
   "outputs": [],
   "source": [
    "meta = pd.concat([sku_meta[['SKU']], tfidf_result[top_tokens]], axis=1)"
   ]
  },
  {
   "cell_type": "code",
   "execution_count": 86,
   "id": "578abe7e",
   "metadata": {},
   "outputs": [
    {
     "data": {
      "text/html": [
       "<div>\n",
       "<style scoped>\n",
       "    .dataframe tbody tr th:only-of-type {\n",
       "        vertical-align: middle;\n",
       "    }\n",
       "\n",
       "    .dataframe tbody tr th {\n",
       "        vertical-align: top;\n",
       "    }\n",
       "\n",
       "    .dataframe thead th {\n",
       "        text-align: right;\n",
       "    }\n",
       "</style>\n",
       "<table border=\"1\" class=\"dataframe\">\n",
       "  <thead>\n",
       "    <tr style=\"text-align: right;\">\n",
       "      <th></th>\n",
       "      <th>SKU</th>\n",
       "      <th>собств</th>\n",
       "      <th>производства</th>\n",
       "      <th>сыры</th>\n",
       "      <th>начинкой</th>\n",
       "      <th>вода</th>\n",
       "      <th>произв</th>\n",
       "      <th>собственного</th>\n",
       "      <th>йогурты</th>\n",
       "      <th>полутвердые</th>\n",
       "      <th>...</th>\n",
       "      <th>без</th>\n",
       "      <th>молочные</th>\n",
       "      <th>сдоба</th>\n",
       "      <th>хлеб</th>\n",
       "      <th>допек</th>\n",
       "      <th>десерты</th>\n",
       "      <th>добавками</th>\n",
       "      <th>газированная</th>\n",
       "      <th>добавок</th>\n",
       "      <th>импортная</th>\n",
       "    </tr>\n",
       "  </thead>\n",
       "  <tbody>\n",
       "    <tr>\n",
       "      <th>0</th>\n",
       "      <td>17</td>\n",
       "      <td>0.0</td>\n",
       "      <td>0.0</td>\n",
       "      <td>0.0</td>\n",
       "      <td>0.0</td>\n",
       "      <td>0.00000</td>\n",
       "      <td>0.0</td>\n",
       "      <td>0.0</td>\n",
       "      <td>0.0</td>\n",
       "      <td>0.0</td>\n",
       "      <td>...</td>\n",
       "      <td>0.0</td>\n",
       "      <td>0.0</td>\n",
       "      <td>0.0</td>\n",
       "      <td>0.0</td>\n",
       "      <td>0.0</td>\n",
       "      <td>0.0</td>\n",
       "      <td>0.0</td>\n",
       "      <td>0.000000</td>\n",
       "      <td>0.0</td>\n",
       "      <td>0.0</td>\n",
       "    </tr>\n",
       "    <tr>\n",
       "      <th>1</th>\n",
       "      <td>18</td>\n",
       "      <td>0.0</td>\n",
       "      <td>0.0</td>\n",
       "      <td>0.0</td>\n",
       "      <td>0.0</td>\n",
       "      <td>0.00000</td>\n",
       "      <td>0.0</td>\n",
       "      <td>0.0</td>\n",
       "      <td>0.0</td>\n",
       "      <td>0.0</td>\n",
       "      <td>...</td>\n",
       "      <td>0.0</td>\n",
       "      <td>0.0</td>\n",
       "      <td>0.0</td>\n",
       "      <td>0.0</td>\n",
       "      <td>0.0</td>\n",
       "      <td>0.0</td>\n",
       "      <td>0.0</td>\n",
       "      <td>0.000000</td>\n",
       "      <td>0.0</td>\n",
       "      <td>0.0</td>\n",
       "    </tr>\n",
       "    <tr>\n",
       "      <th>2</th>\n",
       "      <td>24</td>\n",
       "      <td>0.0</td>\n",
       "      <td>0.0</td>\n",
       "      <td>0.0</td>\n",
       "      <td>0.0</td>\n",
       "      <td>0.00000</td>\n",
       "      <td>0.0</td>\n",
       "      <td>0.0</td>\n",
       "      <td>0.0</td>\n",
       "      <td>0.0</td>\n",
       "      <td>...</td>\n",
       "      <td>0.0</td>\n",
       "      <td>0.0</td>\n",
       "      <td>0.0</td>\n",
       "      <td>0.0</td>\n",
       "      <td>0.0</td>\n",
       "      <td>0.0</td>\n",
       "      <td>0.0</td>\n",
       "      <td>0.000000</td>\n",
       "      <td>0.0</td>\n",
       "      <td>0.0</td>\n",
       "    </tr>\n",
       "    <tr>\n",
       "      <th>3</th>\n",
       "      <td>25</td>\n",
       "      <td>0.0</td>\n",
       "      <td>0.0</td>\n",
       "      <td>0.0</td>\n",
       "      <td>0.0</td>\n",
       "      <td>0.00000</td>\n",
       "      <td>0.0</td>\n",
       "      <td>0.0</td>\n",
       "      <td>0.0</td>\n",
       "      <td>0.0</td>\n",
       "      <td>...</td>\n",
       "      <td>0.0</td>\n",
       "      <td>0.0</td>\n",
       "      <td>0.0</td>\n",
       "      <td>0.0</td>\n",
       "      <td>0.0</td>\n",
       "      <td>0.0</td>\n",
       "      <td>0.0</td>\n",
       "      <td>0.000000</td>\n",
       "      <td>0.0</td>\n",
       "      <td>0.0</td>\n",
       "    </tr>\n",
       "    <tr>\n",
       "      <th>4</th>\n",
       "      <td>208</td>\n",
       "      <td>0.0</td>\n",
       "      <td>0.0</td>\n",
       "      <td>0.0</td>\n",
       "      <td>0.0</td>\n",
       "      <td>0.50504</td>\n",
       "      <td>0.0</td>\n",
       "      <td>0.0</td>\n",
       "      <td>0.0</td>\n",
       "      <td>0.0</td>\n",
       "      <td>...</td>\n",
       "      <td>0.0</td>\n",
       "      <td>0.0</td>\n",
       "      <td>0.0</td>\n",
       "      <td>0.0</td>\n",
       "      <td>0.0</td>\n",
       "      <td>0.0</td>\n",
       "      <td>0.0</td>\n",
       "      <td>0.632247</td>\n",
       "      <td>0.0</td>\n",
       "      <td>0.0</td>\n",
       "    </tr>\n",
       "  </tbody>\n",
       "</table>\n",
       "<p>5 rows × 21 columns</p>\n",
       "</div>"
      ],
      "text/plain": [
       "   SKU  собств  производства  сыры  начинкой     вода  произв  собственного  \\\n",
       "0   17     0.0           0.0   0.0       0.0  0.00000     0.0           0.0   \n",
       "1   18     0.0           0.0   0.0       0.0  0.00000     0.0           0.0   \n",
       "2   24     0.0           0.0   0.0       0.0  0.00000     0.0           0.0   \n",
       "3   25     0.0           0.0   0.0       0.0  0.00000     0.0           0.0   \n",
       "4  208     0.0           0.0   0.0       0.0  0.50504     0.0           0.0   \n",
       "\n",
       "   йогурты  полутвердые  ...  без  молочные  сдоба  хлеб  допек  десерты  \\\n",
       "0      0.0          0.0  ...  0.0       0.0    0.0   0.0    0.0      0.0   \n",
       "1      0.0          0.0  ...  0.0       0.0    0.0   0.0    0.0      0.0   \n",
       "2      0.0          0.0  ...  0.0       0.0    0.0   0.0    0.0      0.0   \n",
       "3      0.0          0.0  ...  0.0       0.0    0.0   0.0    0.0      0.0   \n",
       "4      0.0          0.0  ...  0.0       0.0    0.0   0.0    0.0      0.0   \n",
       "\n",
       "   добавками  газированная  добавок  импортная  \n",
       "0        0.0      0.000000      0.0        0.0  \n",
       "1        0.0      0.000000      0.0        0.0  \n",
       "2        0.0      0.000000      0.0        0.0  \n",
       "3        0.0      0.000000      0.0        0.0  \n",
       "4        0.0      0.632247      0.0        0.0  \n",
       "\n",
       "[5 rows x 21 columns]"
      ]
     },
     "execution_count": 86,
     "metadata": {},
     "output_type": "execute_result"
    }
   ],
   "source": [
    "meta.head()"
   ]
  },
  {
   "cell_type": "code",
   "execution_count": 87,
   "id": "d5afdb50",
   "metadata": {},
   "outputs": [
    {
     "data": {
      "text/plain": [
       "(1961, 21)"
      ]
     },
     "execution_count": 87,
     "metadata": {},
     "output_type": "execute_result"
    }
   ],
   "source": [
    "meta.shape"
   ]
  },
  {
   "cell_type": "code",
   "execution_count": 88,
   "id": "364a57d6",
   "metadata": {},
   "outputs": [],
   "source": [
    "for i in meta.columns:\n",
    "    if 'float' in str(meta[i].dtype):\n",
    "            meta[i] = meta[i].astype('float16')"
   ]
  },
  {
   "cell_type": "code",
   "execution_count": 89,
   "id": "46c79bf5",
   "metadata": {},
   "outputs": [
    {
     "data": {
      "text/plain": [
       "1961"
      ]
     },
     "execution_count": 89,
     "metadata": {},
     "output_type": "execute_result"
    }
   ],
   "source": [
    "len(set(full_data['SKU'].unique()).intersection(meta['SKU']))"
   ]
  },
  {
   "cell_type": "code",
   "execution_count": 90,
   "id": "b00db79d",
   "metadata": {},
   "outputs": [],
   "source": [
    "full_data = full_data.merge(meta, on='SKU', how='left')"
   ]
  },
  {
   "cell_type": "code",
   "execution_count": 91,
   "id": "608d5206",
   "metadata": {},
   "outputs": [
    {
     "name": "stdout",
     "output_type": "stream",
     "text": [
      "<class 'pandas.core.frame.DataFrame'>\n",
      "Int64Index: 29622473 entries, 0 to 29622472\n",
      "Data columns (total 78 columns):\n",
      " #   Column                                                   Dtype         \n",
      "---  ------                                                   -----         \n",
      " 0   ID                                                       object        \n",
      " 1   geoCluster                                               uint16        \n",
      " 2   SKU                                                      uint32        \n",
      " 3   date                                                     datetime64[ns]\n",
      " 4   sales                                                    float16       \n",
      " 5   month                                                    uint8         \n",
      " 6   day                                                      uint8         \n",
      " 7   weekday                                                  uint8         \n",
      " 8   week_num                                                 uint8         \n",
      " 9   commodity_group                                          uint8         \n",
      " 10  productCategory_caption_RU                               object        \n",
      " 11  cityId                                                   uint8         \n",
      " 12  price                                                    float16       \n",
      " 13  lagerUnitQuantity                                        float16       \n",
      " 14  lagerUnitTypeId                                          uint8         \n",
      " 15  revanue                                                  float16       \n",
      " 16  days_on_the_market                                       int64         \n",
      " 17  year                                                     int64         \n",
      " 18  revanue_grouped_week_num_commodity_group_mean_lag_2      float16       \n",
      " 19  revanue_grouped_week_num_commodity_group_mean_lag_3      float16       \n",
      " 20  revanue_grouped_week_num_cityId_mean_lag_2               float16       \n",
      " 21  revanue_grouped_week_num_cityId_mean_lag_3               float16       \n",
      " 22  revanue_grouped_week_num_geoCluster_mean_lag_2           float16       \n",
      " 23  revanue_grouped_week_num_geoCluster_mean_lag_3           float16       \n",
      " 24  revanue_grouped_week_num_geoCluster_sum_lag_2            float16       \n",
      " 25  revanue_grouped_week_num_geoCluster_sum_lag_3            float16       \n",
      " 26  sales_grouped_week_num_commodity_group_mean_lag_2        float16       \n",
      " 27  sales_grouped_week_num_commodity_group_mean_lag_3        float16       \n",
      " 28  sales_grouped_week_num_cityId_mean_lag_2                 float16       \n",
      " 29  sales_grouped_week_num_cityId_mean_lag_3                 float16       \n",
      " 30  sales_grouped_week_num_geoCluster_mean_lag_2             float16       \n",
      " 31  sales_grouped_week_num_geoCluster_mean_lag_3             float16       \n",
      " 32  sales_grouped_week_num_geoCluster_sum_lag_2              float16       \n",
      " 33  sales_grouped_week_num_geoCluster_sum_lag_3              float16       \n",
      " 34  sales_grouped_week_num_SKU_mean_lag_2                    float16       \n",
      " 35  sales_grouped_week_num_SKU_mean_lag_3                    float16       \n",
      " 36  sales_grouped_week_num_SKU_sum_lag_2                     float16       \n",
      " 37  sales_grouped_week_num_SKU_sum_lag_3                     float16       \n",
      " 38  revanue_grouped_week_num_SKU_sum_lag_2                   float16       \n",
      " 39  revanue_grouped_week_num_SKU_sum_lag_3                   float16       \n",
      " 40  revanue_grouped_week_num_SKU_mean_lag_2                  float16       \n",
      " 41  revanue_grouped_week_num_SKU_mean_lag_3                  float16       \n",
      " 42  revanue_grouped_week_num_SKU_commodity_group_sum_lag_2   float16       \n",
      " 43  revanue_grouped_week_num_SKU_commodity_group_sum_lag_3   float16       \n",
      " 44  revanue_grouped_week_num_SKU_commodity_group_mean_lag_2  float16       \n",
      " 45  revanue_grouped_week_num_SKU_commodity_group_mean_lag_3  float16       \n",
      " 46  revanue_grouped_week_num_SKU_geoCluster_sum_lag_2        float16       \n",
      " 47  revanue_grouped_week_num_SKU_geoCluster_sum_lag_3        float16       \n",
      " 48  revanue_grouped_week_num_SKU_geoCluster_mean_lag_2       float16       \n",
      " 49  revanue_grouped_week_num_SKU_geoCluster_mean_lag_3       float16       \n",
      " 50  sales_grouped_week_num_SKU_commodity_group_sum_lag_2     float16       \n",
      " 51  sales_grouped_week_num_SKU_commodity_group_sum_lag_3     float16       \n",
      " 52  sales_grouped_week_num_SKU_commodity_group_mean_lag_2    float16       \n",
      " 53  sales_grouped_week_num_SKU_commodity_group_mean_lag_3    float16       \n",
      " 54  sales_grouped_week_num_SKU_geoCluster_sum_lag_2          float16       \n",
      " 55  sales_grouped_week_num_SKU_geoCluster_sum_lag_3          float16       \n",
      " 56  sales_grouped_week_num_SKU_geoCluster_mean_lag_2         float16       \n",
      " 57  sales_grouped_week_num_SKU_geoCluster_mean_lag_3         float16       \n",
      " 58  собств                                                   float16       \n",
      " 59  производства                                             float16       \n",
      " 60  сыры                                                     float16       \n",
      " 61  начинкой                                                 float16       \n",
      " 62  вода                                                     float16       \n",
      " 63  произв                                                   float16       \n",
      " 64  собственного                                             float16       \n",
      " 65  йогурты                                                  float16       \n",
      " 66  полутвердые                                              float16       \n",
      " 67  украины                                                  float16       \n",
      " 68  без                                                      float16       \n",
      " 69  молочные                                                 float16       \n",
      " 70  сдоба                                                    float16       \n",
      " 71  хлеб                                                     float16       \n",
      " 72  допек                                                    float16       \n",
      " 73  десерты                                                  float16       \n",
      " 74  добавками                                                float16       \n",
      " 75  газированная                                             float16       \n",
      " 76  добавок                                                  float16       \n",
      " 77  импортная                                                float16       \n",
      "dtypes: datetime64[ns](1), float16(64), int64(2), object(2), uint16(1), uint32(1), uint8(7)\n",
      "memory usage: 5.2+ GB\n"
     ]
    }
   ],
   "source": [
    "full_data.info()"
   ]
  },
  {
   "cell_type": "markdown",
   "id": "7eaaa146",
   "metadata": {},
   "source": [
    "### holidays feture"
   ]
  },
  {
   "cell_type": "code",
   "execution_count": 92,
   "id": "b05e1433",
   "metadata": {},
   "outputs": [
    {
     "name": "stdout",
     "output_type": "stream",
     "text": [
      "Requirement already satisfied: holidays in /home/ec2-user/anaconda3/envs/amazonei_tensorflow2_p36/lib/python3.6/site-packages (0.11.3.1)\n",
      "Requirement already satisfied: hijri-converter in /home/ec2-user/anaconda3/envs/amazonei_tensorflow2_p36/lib/python3.6/site-packages (from holidays) (2.2.2)\n",
      "Requirement already satisfied: python-dateutil in /home/ec2-user/anaconda3/envs/amazonei_tensorflow2_p36/lib/python3.6/site-packages (from holidays) (2.8.1)\n",
      "Requirement already satisfied: korean-lunar-calendar in /home/ec2-user/anaconda3/envs/amazonei_tensorflow2_p36/lib/python3.6/site-packages (from holidays) (0.2.1)\n",
      "Requirement already satisfied: convertdate>=2.3.0 in /home/ec2-user/anaconda3/envs/amazonei_tensorflow2_p36/lib/python3.6/site-packages (from holidays) (2.3.2)\n",
      "Requirement already satisfied: pymeeus<=1,>=0.3.13 in /home/ec2-user/anaconda3/envs/amazonei_tensorflow2_p36/lib/python3.6/site-packages (from convertdate>=2.3.0->holidays) (0.5.11)\n",
      "Requirement already satisfied: pytz>=2014.10 in /home/ec2-user/anaconda3/envs/amazonei_tensorflow2_p36/lib/python3.6/site-packages (from convertdate>=2.3.0->holidays) (2021.1)\n",
      "Requirement already satisfied: six>=1.5 in /home/ec2-user/anaconda3/envs/amazonei_tensorflow2_p36/lib/python3.6/site-packages (from python-dateutil->holidays) (1.15.0)\n",
      "\u001b[33mWARNING: You are using pip version 21.2.4; however, version 21.3.1 is available.\n",
      "You should consider upgrading via the '/home/ec2-user/anaconda3/envs/amazonei_tensorflow2_p36/bin/python -m pip install --upgrade pip' command.\u001b[0m\n"
     ]
    }
   ],
   "source": [
    "!pip install holidays"
   ]
  },
  {
   "cell_type": "code",
   "execution_count": 93,
   "id": "b574c92c",
   "metadata": {},
   "outputs": [],
   "source": [
    "import datetime"
   ]
  },
  {
   "cell_type": "code",
   "execution_count": 94,
   "id": "4d296b25",
   "metadata": {},
   "outputs": [
    {
     "name": "stdout",
     "output_type": "stream",
     "text": [
      "2020-01-01 Новий рік\n",
      "2020-01-07 Різдво Христове (православне)\n",
      "2020-03-08 Міжнародний жіночий день\n",
      "2020-04-19 Пасха (Великдень)\n",
      "2020-05-01 День праці\n",
      "2020-05-09 День перемоги\n",
      "2020-06-07 Трійця\n",
      "2020-06-28 День Конституції України\n",
      "2020-08-24 День незалежності України\n",
      "2020-10-14 День захисника України\n",
      "2020-12-25 Різдво Христове (католицьке)\n",
      "2021-01-01 Новий рік\n",
      "2021-01-07 Різдво Христове (православне)\n",
      "2021-03-08 Міжнародний жіночий день\n",
      "2021-05-01 День праці\n",
      "2021-05-02 Пасха (Великдень)\n",
      "2021-05-09 День перемоги\n",
      "2021-06-20 Трійця\n",
      "2021-06-28 День Конституції України\n",
      "2021-08-24 День незалежності України\n",
      "2021-10-14 День захисника України\n",
      "2021-12-25 Різдво Христове (католицьке)\n"
     ]
    }
   ],
   "source": [
    "import holidays\n",
    "ukr_holidays = holidays.Ukraine()\n",
    "ukr_holidays_2020_2021 = {}\n",
    "for date, name in sorted(holidays.Ukraine(years=2020).items()):\n",
    "    print(date, name)\n",
    "    ukr_holidays_2020_2021[date] = name\n",
    "for date, name in sorted(holidays.Ukraine(years=2021).items()):\n",
    "    print(date, name)\n",
    "    ukr_holidays_2020_2021[date] = name\n",
    "\n",
    "ukr_holidays_2020_2021[datetime.datetime(2020, 11, 23)] = 'Black Friday'\n",
    "ukr_holidays_2020_2021[datetime.datetime(2020, 11, 24)] = 'Black Friday'\n",
    "ukr_holidays_2020_2021[datetime.datetime(2020, 11, 25)] = 'Black Friday'\n",
    "ukr_holidays_2020_2021[datetime.datetime(2020, 11, 26)] = 'Black Friday'\n",
    "ukr_holidays_2020_2021[datetime.datetime(2020, 11, 27)] = 'Black Friday'\n",
    "ukr_holidays_2020_2021[datetime.datetime(2020, 11, 28)] = 'Black Friday'\n",
    "ukr_holidays_2020_2021[datetime.datetime(2020, 11, 29)] = 'Black Friday'\n",
    "ukr_holidays_2020_2021_df = pd.DataFrame.from_dict(data = ukr_holidays_2020_2021.items())\n",
    "ukr_holidays_2020_2021_df.columns = ['date','holliday_name']\n",
    "ukr_holidays_2020_2021_df['date'] = pd.to_datetime(ukr_holidays_2020_2021_df['date'])\n",
    "ukr_holidays_2020_2021_df['is_holiday'] = 1"
   ]
  },
  {
   "cell_type": "code",
   "execution_count": 95,
   "id": "35546dbb",
   "metadata": {},
   "outputs": [
    {
     "data": {
      "text/html": [
       "<div>\n",
       "<style scoped>\n",
       "    .dataframe tbody tr th:only-of-type {\n",
       "        vertical-align: middle;\n",
       "    }\n",
       "\n",
       "    .dataframe tbody tr th {\n",
       "        vertical-align: top;\n",
       "    }\n",
       "\n",
       "    .dataframe thead th {\n",
       "        text-align: right;\n",
       "    }\n",
       "</style>\n",
       "<table border=\"1\" class=\"dataframe\">\n",
       "  <thead>\n",
       "    <tr style=\"text-align: right;\">\n",
       "      <th></th>\n",
       "      <th>date</th>\n",
       "      <th>holliday_name</th>\n",
       "      <th>is_holiday</th>\n",
       "    </tr>\n",
       "  </thead>\n",
       "  <tbody>\n",
       "    <tr>\n",
       "      <th>0</th>\n",
       "      <td>2020-01-01</td>\n",
       "      <td>Новий рік</td>\n",
       "      <td>1</td>\n",
       "    </tr>\n",
       "    <tr>\n",
       "      <th>1</th>\n",
       "      <td>2020-01-07</td>\n",
       "      <td>Різдво Христове (православне)</td>\n",
       "      <td>1</td>\n",
       "    </tr>\n",
       "    <tr>\n",
       "      <th>2</th>\n",
       "      <td>2020-03-08</td>\n",
       "      <td>Міжнародний жіночий день</td>\n",
       "      <td>1</td>\n",
       "    </tr>\n",
       "    <tr>\n",
       "      <th>3</th>\n",
       "      <td>2020-04-19</td>\n",
       "      <td>Пасха (Великдень)</td>\n",
       "      <td>1</td>\n",
       "    </tr>\n",
       "    <tr>\n",
       "      <th>4</th>\n",
       "      <td>2020-05-01</td>\n",
       "      <td>День праці</td>\n",
       "      <td>1</td>\n",
       "    </tr>\n",
       "  </tbody>\n",
       "</table>\n",
       "</div>"
      ],
      "text/plain": [
       "        date                  holliday_name  is_holiday\n",
       "0 2020-01-01                      Новий рік           1\n",
       "1 2020-01-07  Різдво Христове (православне)           1\n",
       "2 2020-03-08       Міжнародний жіночий день           1\n",
       "3 2020-04-19              Пасха (Великдень)           1\n",
       "4 2020-05-01                     День праці           1"
      ]
     },
     "execution_count": 95,
     "metadata": {},
     "output_type": "execute_result"
    }
   ],
   "source": [
    "ukr_holidays_2020_2021_df.head()"
   ]
  },
  {
   "cell_type": "code",
   "execution_count": 96,
   "id": "51d00f2a",
   "metadata": {},
   "outputs": [],
   "source": [
    "full_data = pd.merge(full_data, ukr_holidays_2020_2021_df[['date','is_holiday']], on = 'date', how='left')\n",
    "full_data['is_holiday'].fillna(0, inplace = True)"
   ]
  },
  {
   "cell_type": "code",
   "execution_count": 97,
   "id": "c439e84a",
   "metadata": {},
   "outputs": [
    {
     "data": {
      "text/plain": [
       "True"
      ]
     },
     "execution_count": 97,
     "metadata": {},
     "output_type": "execute_result"
    }
   ],
   "source": [
    "full_data.shape[0]==29622473"
   ]
  },
  {
   "cell_type": "code",
   "execution_count": 98,
   "id": "274d1e1d",
   "metadata": {},
   "outputs": [],
   "source": [
    "full_data = change_type(full_data, 'is_holiday','uint8')"
   ]
  },
  {
   "cell_type": "markdown",
   "id": "f16689bd",
   "metadata": {},
   "source": [
    "### lockdown feature"
   ]
  },
  {
   "cell_type": "code",
   "execution_count": 99,
   "id": "27fd5089",
   "metadata": {},
   "outputs": [],
   "source": [
    "lock_down = pd.read_csv('lockdown.csv')"
   ]
  },
  {
   "cell_type": "code",
   "execution_count": 100,
   "id": "0da5c49d",
   "metadata": {},
   "outputs": [
    {
     "data": {
      "text/html": [
       "<div>\n",
       "<style scoped>\n",
       "    .dataframe tbody tr th:only-of-type {\n",
       "        vertical-align: middle;\n",
       "    }\n",
       "\n",
       "    .dataframe tbody tr th {\n",
       "        vertical-align: top;\n",
       "    }\n",
       "\n",
       "    .dataframe thead th {\n",
       "        text-align: right;\n",
       "    }\n",
       "</style>\n",
       "<table border=\"1\" class=\"dataframe\">\n",
       "  <thead>\n",
       "    <tr style=\"text-align: right;\">\n",
       "      <th></th>\n",
       "      <th>date</th>\n",
       "      <th>lockdown</th>\n",
       "    </tr>\n",
       "  </thead>\n",
       "  <tbody>\n",
       "    <tr>\n",
       "      <th>0</th>\n",
       "      <td>2020-01-01</td>\n",
       "      <td>0</td>\n",
       "    </tr>\n",
       "    <tr>\n",
       "      <th>1</th>\n",
       "      <td>2020-01-02</td>\n",
       "      <td>0</td>\n",
       "    </tr>\n",
       "    <tr>\n",
       "      <th>2</th>\n",
       "      <td>2020-01-03</td>\n",
       "      <td>0</td>\n",
       "    </tr>\n",
       "    <tr>\n",
       "      <th>3</th>\n",
       "      <td>2020-01-04</td>\n",
       "      <td>0</td>\n",
       "    </tr>\n",
       "    <tr>\n",
       "      <th>4</th>\n",
       "      <td>2020-01-05</td>\n",
       "      <td>0</td>\n",
       "    </tr>\n",
       "  </tbody>\n",
       "</table>\n",
       "</div>"
      ],
      "text/plain": [
       "         date  lockdown\n",
       "0  2020-01-01         0\n",
       "1  2020-01-02         0\n",
       "2  2020-01-03         0\n",
       "3  2020-01-04         0\n",
       "4  2020-01-05         0"
      ]
     },
     "execution_count": 100,
     "metadata": {},
     "output_type": "execute_result"
    }
   ],
   "source": [
    "lock_down.head()"
   ]
  },
  {
   "cell_type": "code",
   "execution_count": 101,
   "id": "a4527359",
   "metadata": {},
   "outputs": [
    {
     "data": {
      "text/plain": [
       "(566, 2)"
      ]
     },
     "execution_count": 101,
     "metadata": {},
     "output_type": "execute_result"
    }
   ],
   "source": [
    "lock_down.shape"
   ]
  },
  {
   "cell_type": "code",
   "execution_count": 102,
   "id": "dc681f96",
   "metadata": {},
   "outputs": [
    {
     "data": {
      "text/plain": [
       "date          0\n",
       "lockdown    162\n",
       "dtype: int64"
      ]
     },
     "execution_count": 102,
     "metadata": {},
     "output_type": "execute_result"
    }
   ],
   "source": [
    "(lock_down==1).sum()"
   ]
  },
  {
   "cell_type": "code",
   "execution_count": 103,
   "id": "fdb1a015",
   "metadata": {},
   "outputs": [],
   "source": [
    "lock_down['date'] = pd.to_datetime(lock_down['date'])"
   ]
  },
  {
   "cell_type": "code",
   "execution_count": 104,
   "id": "efce02fd",
   "metadata": {},
   "outputs": [],
   "source": [
    "full_data = full_data.merge(lock_down, on='date', how='left')\n",
    "full_data['lockdown'].fillna(0, inplace=True)"
   ]
  },
  {
   "cell_type": "code",
   "execution_count": 105,
   "id": "c972f582",
   "metadata": {},
   "outputs": [],
   "source": [
    "full_data = change_type(full_data, 'lockdown','uint8')"
   ]
  },
  {
   "cell_type": "markdown",
   "id": "c258ce7d",
   "metadata": {},
   "source": [
    "### Leaving only features of interest"
   ]
  },
  {
   "cell_type": "code",
   "execution_count": 106,
   "id": "823403d9",
   "metadata": {},
   "outputs": [
    {
     "data": {
      "text/plain": [
       "Index(['ID', 'geoCluster', 'SKU', 'date', 'sales', 'month', 'day', 'weekday',\n",
       "       'week_num', 'commodity_group', 'productCategory_caption_RU', 'cityId',\n",
       "       'price', 'lagerUnitQuantity', 'lagerUnitTypeId', 'revanue',\n",
       "       'days_on_the_market', 'year',\n",
       "       'revanue_grouped_week_num_commodity_group_mean_lag_2',\n",
       "       'revanue_grouped_week_num_commodity_group_mean_lag_3',\n",
       "       'revanue_grouped_week_num_cityId_mean_lag_2',\n",
       "       'revanue_grouped_week_num_cityId_mean_lag_3',\n",
       "       'revanue_grouped_week_num_geoCluster_mean_lag_2',\n",
       "       'revanue_grouped_week_num_geoCluster_mean_lag_3',\n",
       "       'revanue_grouped_week_num_geoCluster_sum_lag_2',\n",
       "       'revanue_grouped_week_num_geoCluster_sum_lag_3',\n",
       "       'sales_grouped_week_num_commodity_group_mean_lag_2',\n",
       "       'sales_grouped_week_num_commodity_group_mean_lag_3',\n",
       "       'sales_grouped_week_num_cityId_mean_lag_2',\n",
       "       'sales_grouped_week_num_cityId_mean_lag_3',\n",
       "       'sales_grouped_week_num_geoCluster_mean_lag_2',\n",
       "       'sales_grouped_week_num_geoCluster_mean_lag_3',\n",
       "       'sales_grouped_week_num_geoCluster_sum_lag_2',\n",
       "       'sales_grouped_week_num_geoCluster_sum_lag_3',\n",
       "       'sales_grouped_week_num_SKU_mean_lag_2',\n",
       "       'sales_grouped_week_num_SKU_mean_lag_3',\n",
       "       'sales_grouped_week_num_SKU_sum_lag_2',\n",
       "       'sales_grouped_week_num_SKU_sum_lag_3',\n",
       "       'revanue_grouped_week_num_SKU_sum_lag_2',\n",
       "       'revanue_grouped_week_num_SKU_sum_lag_3',\n",
       "       'revanue_grouped_week_num_SKU_mean_lag_2',\n",
       "       'revanue_grouped_week_num_SKU_mean_lag_3',\n",
       "       'revanue_grouped_week_num_SKU_commodity_group_sum_lag_2',\n",
       "       'revanue_grouped_week_num_SKU_commodity_group_sum_lag_3',\n",
       "       'revanue_grouped_week_num_SKU_commodity_group_mean_lag_2',\n",
       "       'revanue_grouped_week_num_SKU_commodity_group_mean_lag_3',\n",
       "       'revanue_grouped_week_num_SKU_geoCluster_sum_lag_2',\n",
       "       'revanue_grouped_week_num_SKU_geoCluster_sum_lag_3',\n",
       "       'revanue_grouped_week_num_SKU_geoCluster_mean_lag_2',\n",
       "       'revanue_grouped_week_num_SKU_geoCluster_mean_lag_3',\n",
       "       'sales_grouped_week_num_SKU_commodity_group_sum_lag_2',\n",
       "       'sales_grouped_week_num_SKU_commodity_group_sum_lag_3',\n",
       "       'sales_grouped_week_num_SKU_commodity_group_mean_lag_2',\n",
       "       'sales_grouped_week_num_SKU_commodity_group_mean_lag_3',\n",
       "       'sales_grouped_week_num_SKU_geoCluster_sum_lag_2',\n",
       "       'sales_grouped_week_num_SKU_geoCluster_sum_lag_3',\n",
       "       'sales_grouped_week_num_SKU_geoCluster_mean_lag_2',\n",
       "       'sales_grouped_week_num_SKU_geoCluster_mean_lag_3', 'собств',\n",
       "       'производства', 'сыры', 'начинкой', 'вода', 'произв', 'собственного',\n",
       "       'йогурты', 'полутвердые', 'украины', 'без', 'молочные', 'сдоба', 'хлеб',\n",
       "       'допек', 'десерты', 'добавками', 'газированная', 'добавок', 'импортная',\n",
       "       'is_holiday', 'lockdown'],\n",
       "      dtype='object')"
      ]
     },
     "execution_count": 106,
     "metadata": {},
     "output_type": "execute_result"
    }
   ],
   "source": [
    "full_data.columns"
   ]
  },
  {
   "cell_type": "code",
   "execution_count": 107,
   "id": "911bd098",
   "metadata": {},
   "outputs": [],
   "source": [
    "full_data = full_data.drop(columns=['revanue'])"
   ]
  },
  {
   "cell_type": "markdown",
   "id": "5578ddf3",
   "metadata": {},
   "source": [
    "### train-test-submission split"
   ]
  },
  {
   "cell_type": "code",
   "execution_count": 108,
   "id": "ba06a602",
   "metadata": {},
   "outputs": [
    {
     "data": {
      "text/plain": [
       "ID                    0\n",
       "geoCluster            0\n",
       "SKU                   0\n",
       "date                  0\n",
       "sales           1666028\n",
       "                 ...   \n",
       "газированная          0\n",
       "добавок               0\n",
       "импортная             0\n",
       "is_holiday            0\n",
       "lockdown              0\n",
       "Length: 79, dtype: int64"
      ]
     },
     "execution_count": 108,
     "metadata": {},
     "output_type": "execute_result"
    }
   ],
   "source": [
    "full_data.isna().sum()"
   ]
  },
  {
   "cell_type": "code",
   "execution_count": 109,
   "id": "40e1017b",
   "metadata": {},
   "outputs": [],
   "source": [
    "sub_data = full_data[full_data['date'].isin(dates_test)]\n",
    "train_data = full_data[~full_data['date'].isin(dates_test)]"
   ]
  },
  {
   "cell_type": "code",
   "execution_count": 110,
   "id": "8877d9b8",
   "metadata": {},
   "outputs": [],
   "source": [
    "del full_data;\n",
    "gc.collect();"
   ]
  },
  {
   "cell_type": "code",
   "execution_count": 111,
   "id": "1cccdda0",
   "metadata": {},
   "outputs": [],
   "source": [
    "import datetime"
   ]
  },
  {
   "cell_type": "code",
   "execution_count": 112,
   "id": "8ffa5bb7",
   "metadata": {},
   "outputs": [],
   "source": [
    "max_date = train_data['date'].max()\n",
    "min_date = max_date-datetime.timedelta(days=14)"
   ]
  },
  {
   "cell_type": "code",
   "execution_count": 113,
   "id": "9f9362b0",
   "metadata": {},
   "outputs": [],
   "source": [
    "dates_val = pd.date_range(min_date, max_date)"
   ]
  },
  {
   "cell_type": "code",
   "execution_count": 114,
   "id": "fbd937bd",
   "metadata": {},
   "outputs": [],
   "source": [
    "val_data = train_data[train_data['date'].isin(dates_val)]"
   ]
  },
  {
   "cell_type": "code",
   "execution_count": 115,
   "id": "76e9a018",
   "metadata": {},
   "outputs": [
    {
     "data": {
      "text/plain": [
       "(1712995, 79)"
      ]
     },
     "execution_count": 115,
     "metadata": {},
     "output_type": "execute_result"
    }
   ],
   "source": [
    "val_data.shape"
   ]
  },
  {
   "cell_type": "code",
   "execution_count": 116,
   "id": "aa1564d8",
   "metadata": {},
   "outputs": [],
   "source": [
    "train_data = train_data[~train_data['date'].isin(dates_val)]"
   ]
  },
  {
   "cell_type": "markdown",
   "id": "bd18d484",
   "metadata": {},
   "source": [
    "# Training "
   ]
  },
  {
   "cell_type": "code",
   "execution_count": 117,
   "id": "b48760fd",
   "metadata": {},
   "outputs": [
    {
     "name": "stdout",
     "output_type": "stream",
     "text": [
      "Requirement already satisfied: lightgbm in /home/ec2-user/anaconda3/envs/amazonei_tensorflow2_p36/lib/python3.6/site-packages (3.3.1)\n",
      "Requirement already satisfied: scikit-learn!=0.22.0 in /home/ec2-user/anaconda3/envs/amazonei_tensorflow2_p36/lib/python3.6/site-packages (from lightgbm) (0.24.1)\n",
      "Requirement already satisfied: wheel in /home/ec2-user/anaconda3/envs/amazonei_tensorflow2_p36/lib/python3.6/site-packages (from lightgbm) (0.36.2)\n",
      "Requirement already satisfied: numpy in /home/ec2-user/anaconda3/envs/amazonei_tensorflow2_p36/lib/python3.6/site-packages (from lightgbm) (1.18.5)\n",
      "Requirement already satisfied: scipy in /home/ec2-user/anaconda3/envs/amazonei_tensorflow2_p36/lib/python3.6/site-packages (from lightgbm) (1.5.3)\n",
      "Requirement already satisfied: joblib>=0.11 in /home/ec2-user/anaconda3/envs/amazonei_tensorflow2_p36/lib/python3.6/site-packages (from scikit-learn!=0.22.0->lightgbm) (1.0.1)\n",
      "Requirement already satisfied: threadpoolctl>=2.0.0 in /home/ec2-user/anaconda3/envs/amazonei_tensorflow2_p36/lib/python3.6/site-packages (from scikit-learn!=0.22.0->lightgbm) (2.1.0)\n",
      "\u001b[33mWARNING: You are using pip version 21.2.4; however, version 21.3.1 is available.\n",
      "You should consider upgrading via the '/home/ec2-user/anaconda3/envs/amazonei_tensorflow2_p36/bin/python -m pip install --upgrade pip' command.\u001b[0m\n"
     ]
    }
   ],
   "source": [
    "!pip install lightgbm"
   ]
  },
  {
   "cell_type": "code",
   "execution_count": 118,
   "id": "1dc31685",
   "metadata": {},
   "outputs": [],
   "source": [
    "import lightgbm as lgb"
   ]
  },
  {
   "cell_type": "code",
   "execution_count": 119,
   "id": "42ffc0e3",
   "metadata": {},
   "outputs": [
    {
     "data": {
      "text/plain": [
       "Index(['ID', 'geoCluster', 'SKU', 'date', 'sales', 'month', 'day', 'weekday',\n",
       "       'week_num', 'commodity_group', 'productCategory_caption_RU', 'cityId',\n",
       "       'price', 'lagerUnitQuantity', 'lagerUnitTypeId', 'days_on_the_market',\n",
       "       'year', 'revanue_grouped_week_num_commodity_group_mean_lag_2',\n",
       "       'revanue_grouped_week_num_commodity_group_mean_lag_3',\n",
       "       'revanue_grouped_week_num_cityId_mean_lag_2',\n",
       "       'revanue_grouped_week_num_cityId_mean_lag_3',\n",
       "       'revanue_grouped_week_num_geoCluster_mean_lag_2',\n",
       "       'revanue_grouped_week_num_geoCluster_mean_lag_3',\n",
       "       'revanue_grouped_week_num_geoCluster_sum_lag_2',\n",
       "       'revanue_grouped_week_num_geoCluster_sum_lag_3',\n",
       "       'sales_grouped_week_num_commodity_group_mean_lag_2',\n",
       "       'sales_grouped_week_num_commodity_group_mean_lag_3',\n",
       "       'sales_grouped_week_num_cityId_mean_lag_2',\n",
       "       'sales_grouped_week_num_cityId_mean_lag_3',\n",
       "       'sales_grouped_week_num_geoCluster_mean_lag_2',\n",
       "       'sales_grouped_week_num_geoCluster_mean_lag_3',\n",
       "       'sales_grouped_week_num_geoCluster_sum_lag_2',\n",
       "       'sales_grouped_week_num_geoCluster_sum_lag_3',\n",
       "       'sales_grouped_week_num_SKU_mean_lag_2',\n",
       "       'sales_grouped_week_num_SKU_mean_lag_3',\n",
       "       'sales_grouped_week_num_SKU_sum_lag_2',\n",
       "       'sales_grouped_week_num_SKU_sum_lag_3',\n",
       "       'revanue_grouped_week_num_SKU_sum_lag_2',\n",
       "       'revanue_grouped_week_num_SKU_sum_lag_3',\n",
       "       'revanue_grouped_week_num_SKU_mean_lag_2',\n",
       "       'revanue_grouped_week_num_SKU_mean_lag_3',\n",
       "       'revanue_grouped_week_num_SKU_commodity_group_sum_lag_2',\n",
       "       'revanue_grouped_week_num_SKU_commodity_group_sum_lag_3',\n",
       "       'revanue_grouped_week_num_SKU_commodity_group_mean_lag_2',\n",
       "       'revanue_grouped_week_num_SKU_commodity_group_mean_lag_3',\n",
       "       'revanue_grouped_week_num_SKU_geoCluster_sum_lag_2',\n",
       "       'revanue_grouped_week_num_SKU_geoCluster_sum_lag_3',\n",
       "       'revanue_grouped_week_num_SKU_geoCluster_mean_lag_2',\n",
       "       'revanue_grouped_week_num_SKU_geoCluster_mean_lag_3',\n",
       "       'sales_grouped_week_num_SKU_commodity_group_sum_lag_2',\n",
       "       'sales_grouped_week_num_SKU_commodity_group_sum_lag_3',\n",
       "       'sales_grouped_week_num_SKU_commodity_group_mean_lag_2',\n",
       "       'sales_grouped_week_num_SKU_commodity_group_mean_lag_3',\n",
       "       'sales_grouped_week_num_SKU_geoCluster_sum_lag_2',\n",
       "       'sales_grouped_week_num_SKU_geoCluster_sum_lag_3',\n",
       "       'sales_grouped_week_num_SKU_geoCluster_mean_lag_2',\n",
       "       'sales_grouped_week_num_SKU_geoCluster_mean_lag_3', 'собств',\n",
       "       'производства', 'сыры', 'начинкой', 'вода', 'произв', 'собственного',\n",
       "       'йогурты', 'полутвердые', 'украины', 'без', 'молочные', 'сдоба', 'хлеб',\n",
       "       'допек', 'десерты', 'добавками', 'газированная', 'добавок', 'импортная',\n",
       "       'is_holiday', 'lockdown'],\n",
       "      dtype='object')"
      ]
     },
     "execution_count": 119,
     "metadata": {},
     "output_type": "execute_result"
    }
   ],
   "source": [
    "train_data.columns"
   ]
  },
  {
   "cell_type": "code",
   "execution_count": 120,
   "id": "f7c303d3",
   "metadata": {},
   "outputs": [],
   "source": [
    "train_X = train_data.drop(columns=['sales','ID','date','week_num','productCategory_caption_RU','year'])"
   ]
  },
  {
   "cell_type": "code",
   "execution_count": 121,
   "id": "916247b3",
   "metadata": {},
   "outputs": [],
   "source": [
    "dict_mapping = {'собств':'sobstv', 'производства':'proizvodstva',\n",
    "'сыры':'siri', 'начинкой':'na4inkoi', 'вода':'voda', 'произв':'proizv', \n",
    "'собственного':'sobstvennogo', 'йогурты' : 'yogurty',\n",
    "'полутвердые':'polytverdie', 'украины':'ukraini', 'без':'bez', 'молочные':'molochnie',\n",
    "'сдоба':'sdoba', 'хлеб':'hleb', 'допек':'dopek',\n",
    "'десерты':'deserti', 'добавками':'dobavkami', 'газированная':'gzirovanaya', \n",
    "'добавок':'dobavok', 'импортная':'importnaya'}"
   ]
  },
  {
   "cell_type": "code",
   "execution_count": 122,
   "id": "6f0bf882",
   "metadata": {},
   "outputs": [],
   "source": [
    "train_X = train_X.rename(columns=dict_mapping)"
   ]
  },
  {
   "cell_type": "code",
   "execution_count": 123,
   "id": "363b4f71",
   "metadata": {},
   "outputs": [],
   "source": [
    "train_y = train_data['sales']"
   ]
  },
  {
   "cell_type": "code",
   "execution_count": 124,
   "id": "2df859de",
   "metadata": {},
   "outputs": [],
   "source": [
    "val_X = val_data.drop(columns=['sales','ID','date','week_num','productCategory_caption_RU','year'])"
   ]
  },
  {
   "cell_type": "code",
   "execution_count": 125,
   "id": "830752a8",
   "metadata": {},
   "outputs": [],
   "source": [
    "val_X = val_X.rename(columns=dict_mapping)"
   ]
  },
  {
   "cell_type": "code",
   "execution_count": 126,
   "id": "11df3044",
   "metadata": {},
   "outputs": [],
   "source": [
    "val_y = val_data['sales']"
   ]
  },
  {
   "cell_type": "code",
   "execution_count": 127,
   "id": "a928d92a",
   "metadata": {},
   "outputs": [],
   "source": [
    "del sku_meta, test_data;\n",
    "gc.collect();"
   ]
  },
  {
   "cell_type": "code",
   "execution_count": 128,
   "id": "42ff0e67",
   "metadata": {},
   "outputs": [],
   "source": [
    "# lgb_model = lgb.LGBMRegressor(feature_fraction= 0.75,\n",
    "#                metric = 'mae',\n",
    "#                max_depth = 16, \n",
    "#                min_data_in_leaf = 2**7, \n",
    "#                bagging_fraction = 0.75, \n",
    "#                learning_rate = 0.03, \n",
    "#                objective = 'mae', \n",
    "#                bagging_seed = 2**7, \n",
    "#                num_leaves = 200,\n",
    "#                bagging_freq =1,\n",
    "#                verbose = 1,\n",
    "#             random_state=5,\n",
    "#                              n_estimators=100)\n",
    "# lgb_model.fit(train_X,train_y,eval_metric=\"mae\", \n",
    "#     eval_set=[(val_X, val_y)], \n",
    "#     verbose=True, \n",
    "#     early_stopping_rounds = 10)"
   ]
  },
  {
   "cell_type": "code",
   "execution_count": 129,
   "id": "c83b24cb",
   "metadata": {},
   "outputs": [],
   "source": [
    "# from lightgbm import plot_importance\n"
   ]
  },
  {
   "cell_type": "code",
   "execution_count": 130,
   "id": "6c3c55b7",
   "metadata": {},
   "outputs": [],
   "source": [
    "# plot_importance(lgb_model,ax=plt.subplots(1,1,figsize=(15,12))[1])"
   ]
  },
  {
   "cell_type": "code",
   "execution_count": 131,
   "id": "3aac46c9",
   "metadata": {},
   "outputs": [
    {
     "ename": "NameError",
     "evalue": "name 'lgb_model' is not defined",
     "output_type": "error",
     "traceback": [
      "\u001b[0;31m---------------------------------------------------------------------------\u001b[0m",
      "\u001b[0;31mNameError\u001b[0m                                 Traceback (most recent call last)",
      "\u001b[0;32m<ipython-input-131-46427ccbccc9>\u001b[0m in \u001b[0;36m<module>\u001b[0;34m\u001b[0m\n\u001b[0;32m----> 1\u001b[0;31m \u001b[0;32mdel\u001b[0m \u001b[0mlgb_model\u001b[0m\u001b[0;34m;\u001b[0m\u001b[0;34m\u001b[0m\u001b[0;34m\u001b[0m\u001b[0m\n\u001b[0m\u001b[1;32m      2\u001b[0m \u001b[0mgc\u001b[0m\u001b[0;34m.\u001b[0m\u001b[0mcollect\u001b[0m\u001b[0;34m(\u001b[0m\u001b[0;34m)\u001b[0m\u001b[0;34m;\u001b[0m\u001b[0;34m\u001b[0m\u001b[0;34m\u001b[0m\u001b[0m\n",
      "\u001b[0;31mNameError\u001b[0m: name 'lgb_model' is not defined"
     ]
    }
   ],
   "source": [
    "del lgb_model;\n",
    "gc.collect();"
   ]
  },
  {
   "cell_type": "code",
   "execution_count": 132,
   "id": "e51afa81",
   "metadata": {},
   "outputs": [],
   "source": [
    "full_data_X = pd.concat([train_X, val_X],axis=0)"
   ]
  },
  {
   "cell_type": "code",
   "execution_count": 133,
   "id": "da7de57d",
   "metadata": {},
   "outputs": [
    {
     "data": {
      "text/plain": [
       "(27956445, 73)"
      ]
     },
     "execution_count": 133,
     "metadata": {},
     "output_type": "execute_result"
    }
   ],
   "source": [
    "full_data_X.shape"
   ]
  },
  {
   "cell_type": "code",
   "execution_count": 134,
   "id": "87adfd54",
   "metadata": {},
   "outputs": [],
   "source": [
    "del train_X, val_X;\n",
    "gc.collect();"
   ]
  },
  {
   "cell_type": "code",
   "execution_count": 135,
   "id": "99a62123",
   "metadata": {},
   "outputs": [],
   "source": [
    "full_data_y = pd.concat([train_y,val_y],axis=0)"
   ]
  },
  {
   "cell_type": "code",
   "execution_count": 136,
   "id": "a96598c7",
   "metadata": {},
   "outputs": [],
   "source": [
    "del train_y, val_y;\n",
    "gc.collect();"
   ]
  },
  {
   "cell_type": "markdown",
   "id": "1c23efc7",
   "metadata": {},
   "source": [
    "### final train"
   ]
  },
  {
   "cell_type": "code",
   "execution_count": 137,
   "id": "13f7bfe0",
   "metadata": {},
   "outputs": [],
   "source": [
    "# gc.collect();"
   ]
  },
  {
   "cell_type": "code",
   "execution_count": 138,
   "id": "cb1b9866",
   "metadata": {},
   "outputs": [
    {
     "name": "stderr",
     "output_type": "stream",
     "text": [
      "/home/ec2-user/anaconda3/envs/amazonei_tensorflow2_p36/lib/python3.6/site-packages/lightgbm/sklearn.py:726: UserWarning: 'early_stopping_rounds' argument is deprecated and will be removed in a future release of LightGBM. Pass 'early_stopping()' callback via 'callbacks' argument instead.\n",
      "  _log_warning(\"'early_stopping_rounds' argument is deprecated and will be removed in a future release of LightGBM. \"\n",
      "/home/ec2-user/anaconda3/envs/amazonei_tensorflow2_p36/lib/python3.6/site-packages/lightgbm/sklearn.py:736: UserWarning: 'verbose' argument is deprecated and will be removed in a future release of LightGBM. Pass 'log_evaluation()' callback via 'callbacks' argument instead.\n",
      "  _log_warning(\"'verbose' argument is deprecated and will be removed in a future release of LightGBM. \"\n"
     ]
    },
    {
     "name": "stdout",
     "output_type": "stream",
     "text": [
      "[LightGBM] [Warning] bagging_fraction is set=0.75, subsample=1.0 will be ignored. Current value: bagging_fraction=0.75\n",
      "[LightGBM] [Warning] feature_fraction is set=0.75, colsample_bytree=1.0 will be ignored. Current value: feature_fraction=0.75\n",
      "[LightGBM] [Warning] min_data_in_leaf is set=128, min_child_samples=20 will be ignored. Current value: min_data_in_leaf=128\n",
      "[LightGBM] [Warning] bagging_freq is set=1, subsample_freq=0 will be ignored. Current value: bagging_freq=1\n",
      "[LightGBM] [Warning] bagging_fraction is set=0.75, subsample=1.0 will be ignored. Current value: bagging_fraction=0.75\n",
      "[LightGBM] [Warning] feature_fraction is set=0.75, colsample_bytree=1.0 will be ignored. Current value: feature_fraction=0.75\n",
      "[LightGBM] [Warning] min_data_in_leaf is set=128, min_child_samples=20 will be ignored. Current value: min_data_in_leaf=128\n",
      "[LightGBM] [Warning] bagging_freq is set=1, subsample_freq=0 will be ignored. Current value: bagging_freq=1\n",
      "[LightGBM] [Warning] Auto-choosing col-wise multi-threading, the overhead of testing was 14.835726 seconds.\n",
      "You can set `force_col_wise=true` to remove the overhead.\n",
      "[LightGBM] [Info] Total Bins 11060\n",
      "[LightGBM] [Info] Number of data points in the train set: 27956445, number of used features: 73\n",
      "[1]\ttraining's l1: 0.212675\n",
      "[2]\ttraining's l1: 0.211947\n",
      "[3]\ttraining's l1: 0.211223\n",
      "[4]\ttraining's l1: 0.21054\n",
      "[5]\ttraining's l1: 0.209863\n",
      "[6]\ttraining's l1: 0.209234\n",
      "[7]\ttraining's l1: 0.208621\n",
      "[8]\ttraining's l1: 0.20799\n",
      "[9]\ttraining's l1: 0.207436\n",
      "[10]\ttraining's l1: 0.206869\n",
      "[11]\ttraining's l1: 0.20634\n",
      "[12]\ttraining's l1: 0.205815\n",
      "[13]\ttraining's l1: 0.20531\n",
      "[14]\ttraining's l1: 0.204814\n",
      "[15]\ttraining's l1: 0.20435\n",
      "[16]\ttraining's l1: 0.203885\n",
      "[17]\ttraining's l1: 0.203448\n",
      "[18]\ttraining's l1: 0.20303\n",
      "[19]\ttraining's l1: 0.202609\n",
      "[20]\ttraining's l1: 0.202225\n",
      "[21]\ttraining's l1: 0.201862\n",
      "[22]\ttraining's l1: 0.201487\n",
      "[23]\ttraining's l1: 0.201118\n",
      "[24]\ttraining's l1: 0.200765\n",
      "[25]\ttraining's l1: 0.200451\n",
      "[26]\ttraining's l1: 0.200124\n",
      "[27]\ttraining's l1: 0.199825\n",
      "[28]\ttraining's l1: 0.199525\n",
      "[29]\ttraining's l1: 0.199237\n",
      "[30]\ttraining's l1: 0.198966\n",
      "[31]\ttraining's l1: 0.198707\n",
      "[32]\ttraining's l1: 0.198453\n",
      "[33]\ttraining's l1: 0.198221\n",
      "[34]\ttraining's l1: 0.197999\n",
      "[35]\ttraining's l1: 0.197798\n",
      "[36]\ttraining's l1: 0.197599\n",
      "[37]\ttraining's l1: 0.197405\n",
      "[38]\ttraining's l1: 0.197218\n",
      "[39]\ttraining's l1: 0.19705\n",
      "[40]\ttraining's l1: 0.19687\n",
      "[41]\ttraining's l1: 0.196703\n",
      "[42]\ttraining's l1: 0.196542\n",
      "[43]\ttraining's l1: 0.19638\n",
      "[44]\ttraining's l1: 0.19623\n",
      "[45]\ttraining's l1: 0.196095\n",
      "[46]\ttraining's l1: 0.195963\n",
      "[47]\ttraining's l1: 0.195829\n",
      "[48]\ttraining's l1: 0.195697\n",
      "[49]\ttraining's l1: 0.195589\n",
      "[50]\ttraining's l1: 0.195465\n",
      "[51]\ttraining's l1: 0.195357\n",
      "[52]\ttraining's l1: 0.195263\n",
      "[53]\ttraining's l1: 0.19516\n",
      "[54]\ttraining's l1: 0.195051\n",
      "[55]\ttraining's l1: 0.194956\n",
      "[56]\ttraining's l1: 0.194865\n",
      "[57]\ttraining's l1: 0.194775\n",
      "[58]\ttraining's l1: 0.194693\n",
      "[59]\ttraining's l1: 0.194616\n",
      "[60]\ttraining's l1: 0.194546\n",
      "[61]\ttraining's l1: 0.194466\n",
      "[62]\ttraining's l1: 0.194401\n",
      "[63]\ttraining's l1: 0.194336\n",
      "[64]\ttraining's l1: 0.194273\n",
      "[65]\ttraining's l1: 0.194215\n",
      "[66]\ttraining's l1: 0.194164\n",
      "[67]\ttraining's l1: 0.194109\n",
      "[68]\ttraining's l1: 0.194054\n",
      "[69]\ttraining's l1: 0.194001\n",
      "[70]\ttraining's l1: 0.193956\n",
      "[71]\ttraining's l1: 0.193916\n",
      "[72]\ttraining's l1: 0.193872\n",
      "[73]\ttraining's l1: 0.193825\n",
      "[74]\ttraining's l1: 0.193791\n",
      "[75]\ttraining's l1: 0.193753\n",
      "[76]\ttraining's l1: 0.193723\n",
      "[77]\ttraining's l1: 0.193691\n",
      "[78]\ttraining's l1: 0.193657\n",
      "[79]\ttraining's l1: 0.193631\n",
      "[80]\ttraining's l1: 0.193601\n",
      "[81]\ttraining's l1: 0.193574\n",
      "[82]\ttraining's l1: 0.193551\n",
      "[83]\ttraining's l1: 0.193524\n",
      "[84]\ttraining's l1: 0.193498\n",
      "[85]\ttraining's l1: 0.19347\n",
      "[86]\ttraining's l1: 0.193448\n",
      "[87]\ttraining's l1: 0.193427\n",
      "[88]\ttraining's l1: 0.193404\n",
      "[89]\ttraining's l1: 0.193383\n",
      "[90]\ttraining's l1: 0.193363\n",
      "[91]\ttraining's l1: 0.193339\n",
      "[92]\ttraining's l1: 0.193323\n",
      "[93]\ttraining's l1: 0.193302\n",
      "[94]\ttraining's l1: 0.193282\n",
      "[95]\ttraining's l1: 0.193268\n",
      "[96]\ttraining's l1: 0.193246\n",
      "[97]\ttraining's l1: 0.19323\n",
      "[98]\ttraining's l1: 0.193212\n",
      "[99]\ttraining's l1: 0.193194\n",
      "[100]\ttraining's l1: 0.193175\n"
     ]
    },
    {
     "data": {
      "text/plain": [
       "LGBMRegressor(bagging_fraction=0.75, bagging_freq=1, bagging_seed=128,\n",
       "              feature_fraction=0.75, learning_rate=0.03, max_depth=16,\n",
       "              metric='mae', min_data_in_leaf=128, num_leaves=200,\n",
       "              objective='mae', random_state=5, verbose=1)"
      ]
     },
     "execution_count": 138,
     "metadata": {},
     "output_type": "execute_result"
    }
   ],
   "source": [
    "lgb_model = lgb.LGBMRegressor(feature_fraction= 0.75,\n",
    "               metric = 'mae',\n",
    "               max_depth = 16, \n",
    "               min_data_in_leaf = 2**7, \n",
    "               bagging_fraction = 0.75, \n",
    "               learning_rate = 0.03, \n",
    "               objective = 'mae', \n",
    "               bagging_seed = 2**7, \n",
    "               num_leaves = 200,\n",
    "               bagging_freq =1,\n",
    "               verbose = 1,\n",
    "            random_state=5,\n",
    "                             n_estimators=100)\n",
    "lgb_model.fit(full_data_X,full_data_y,eval_metric=\"mae\", \n",
    "    eval_set=[(full_data_X, full_data_y)], \n",
    "    verbose=True, \n",
    "    early_stopping_rounds = 10)"
   ]
  },
  {
   "cell_type": "markdown",
   "id": "575df5f7",
   "metadata": {},
   "source": [
    "### prediction for submission"
   ]
  },
  {
   "cell_type": "code",
   "execution_count": 139,
   "id": "cb66abae",
   "metadata": {},
   "outputs": [],
   "source": [
    "sub_X = sub_data.drop(columns=['sales','ID','date','week_num','productCategory_caption_RU','year'])"
   ]
  },
  {
   "cell_type": "code",
   "execution_count": 140,
   "id": "c74120b2",
   "metadata": {},
   "outputs": [],
   "source": [
    "sub_X = sub_X.rename(columns=dict_mapping)"
   ]
  },
  {
   "cell_type": "code",
   "execution_count": 141,
   "id": "e5cf55b3",
   "metadata": {},
   "outputs": [],
   "source": [
    "prediction = lgb_model.predict(sub_X)"
   ]
  },
  {
   "cell_type": "code",
   "execution_count": 142,
   "id": "d8f54fc6",
   "metadata": {},
   "outputs": [
    {
     "data": {
      "text/plain": [
       "0.039439004760541"
      ]
     },
     "execution_count": 142,
     "metadata": {},
     "output_type": "execute_result"
    }
   ],
   "source": [
    "np.mean(prediction)"
   ]
  },
  {
   "cell_type": "code",
   "execution_count": 143,
   "id": "cb5b39ea",
   "metadata": {},
   "outputs": [
    {
     "data": {
      "text/plain": [
       "1666028"
      ]
     },
     "execution_count": 143,
     "metadata": {},
     "output_type": "execute_result"
    }
   ],
   "source": [
    "len(prediction)"
   ]
  },
  {
   "cell_type": "code",
   "execution_count": 144,
   "id": "864b8c84",
   "metadata": {},
   "outputs": [],
   "source": [
    "sub_data['sales'] = prediction"
   ]
  },
  {
   "cell_type": "code",
   "execution_count": 145,
   "id": "cd8fe541",
   "metadata": {},
   "outputs": [],
   "source": [
    "sub_data.loc[sub_data['sales']<0,'sales']= 0"
   ]
  },
  {
   "cell_type": "code",
   "execution_count": 146,
   "id": "4a405c9a",
   "metadata": {},
   "outputs": [
    {
     "data": {
      "text/plain": [
       "0.039444313284530526"
      ]
     },
     "execution_count": 146,
     "metadata": {},
     "output_type": "execute_result"
    }
   ],
   "source": [
    "sub_data['sales'].mean()"
   ]
  },
  {
   "cell_type": "code",
   "execution_count": 147,
   "id": "047d0fba",
   "metadata": {},
   "outputs": [],
   "source": [
    "sub_data = sub_data[['ID','sales']]"
   ]
  },
  {
   "cell_type": "code",
   "execution_count": 149,
   "id": "4a4fea63",
   "metadata": {},
   "outputs": [],
   "source": [
    "sub_data.to_csv('submission_6.csv',index=False)"
   ]
  },
  {
   "cell_type": "code",
   "execution_count": null,
   "id": "87f219ab",
   "metadata": {},
   "outputs": [],
   "source": []
  }
 ],
 "metadata": {
  "kernelspec": {
   "display_name": "conda_amazonei_tensorflow2_p36",
   "language": "python",
   "name": "conda_amazonei_tensorflow2_p36"
  },
  "language_info": {
   "codemirror_mode": {
    "name": "ipython",
    "version": 3
   },
   "file_extension": ".py",
   "mimetype": "text/x-python",
   "name": "python",
   "nbconvert_exporter": "python",
   "pygments_lexer": "ipython3",
   "version": "3.6.13"
  }
 },
 "nbformat": 4,
 "nbformat_minor": 5
}
