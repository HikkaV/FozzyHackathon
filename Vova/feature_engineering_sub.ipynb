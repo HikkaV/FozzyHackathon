{
 "cells": [
  {
   "cell_type": "code",
   "execution_count": 1,
   "id": "12f64ddc",
   "metadata": {},
   "outputs": [],
   "source": [
    "import pandas as pd\n",
    "import matplotlib.pyplot as plt\n",
    "import seaborn as sns\n",
    "import numpy as np\n",
    "import tqdm\n",
    "sns.set()"
   ]
  },
  {
   "cell_type": "code",
   "execution_count": 2,
   "id": "9312a4ef",
   "metadata": {},
   "outputs": [],
   "source": [
    "def change_type(df, col, type_):\n",
    "    df[col] = df[col].astype(type_)\n",
    "    return df"
   ]
  },
  {
   "cell_type": "code",
   "execution_count": 3,
   "id": "d7ce267d",
   "metadata": {},
   "outputs": [],
   "source": [
    "train_data = pd.read_csv('train_data.csv')"
   ]
  },
  {
   "cell_type": "code",
   "execution_count": 4,
   "id": "f7dae3d3",
   "metadata": {},
   "outputs": [
    {
     "data": {
      "text/plain": [
       "(27956445, 17)"
      ]
     },
     "execution_count": 4,
     "metadata": {},
     "output_type": "execute_result"
    }
   ],
   "source": [
    "train_data.shape"
   ]
  },
  {
   "cell_type": "code",
   "execution_count": 5,
   "id": "2118161c",
   "metadata": {},
   "outputs": [
    {
     "name": "stdout",
     "output_type": "stream",
     "text": [
      "<class 'pandas.core.frame.DataFrame'>\n",
      "RangeIndex: 27956445 entries, 0 to 27956444\n",
      "Data columns (total 17 columns):\n",
      " #   Column                      Dtype  \n",
      "---  ------                      -----  \n",
      " 0   ID                          object \n",
      " 1   geoCluster                  int64  \n",
      " 2   SKU                         int64  \n",
      " 3   date                        object \n",
      " 4   sales                       float64\n",
      " 5   month                       int64  \n",
      " 6   day                         int64  \n",
      " 7   weekday                     int64  \n",
      " 8   week_num                    int64  \n",
      " 9   lagerUnitType_caption       object \n",
      " 10  commodity_group             int64  \n",
      " 11  productCategory_caption_RU  object \n",
      " 12  cityId                      int64  \n",
      " 13  price                       float64\n",
      " 14  lagerUnitQuantity           float64\n",
      " 15  lagerUnitTypeId             int64  \n",
      " 16  revanue                     float64\n",
      "dtypes: float64(4), int64(9), object(4)\n",
      "memory usage: 3.5+ GB\n"
     ]
    }
   ],
   "source": [
    "train_data.info()"
   ]
  },
  {
   "cell_type": "code",
   "execution_count": 6,
   "id": "f144a4e6",
   "metadata": {},
   "outputs": [
    {
     "data": {
      "text/plain": [
       "198"
      ]
     },
     "execution_count": 6,
     "metadata": {},
     "output_type": "execute_result"
    }
   ],
   "source": [
    "train_data.commodity_group.max()"
   ]
  },
  {
   "cell_type": "code",
   "execution_count": 7,
   "id": "b3491371",
   "metadata": {},
   "outputs": [
    {
     "data": {
      "text/plain": [
       "25"
      ]
     },
     "execution_count": 7,
     "metadata": {},
     "output_type": "execute_result"
    }
   ],
   "source": [
    "train_data.cityId.max()"
   ]
  },
  {
   "cell_type": "code",
   "execution_count": 8,
   "id": "3b5fd2dc",
   "metadata": {},
   "outputs": [
    {
     "data": {
      "text/plain": [
       "6"
      ]
     },
     "execution_count": 8,
     "metadata": {},
     "output_type": "execute_result"
    }
   ],
   "source": [
    "train_data.lagerUnitTypeId.max()"
   ]
  },
  {
   "cell_type": "code",
   "execution_count": 9,
   "id": "18e529be",
   "metadata": {},
   "outputs": [
    {
     "data": {
      "text/plain": [
       "873803"
      ]
     },
     "execution_count": 9,
     "metadata": {},
     "output_type": "execute_result"
    }
   ],
   "source": [
    "train_data.SKU.max()"
   ]
  },
  {
   "cell_type": "code",
   "execution_count": 10,
   "id": "505aa00d",
   "metadata": {},
   "outputs": [
    {
     "data": {
      "text/plain": [
       "3230"
      ]
     },
     "execution_count": 10,
     "metadata": {},
     "output_type": "execute_result"
    }
   ],
   "source": [
    "train_data.geoCluster.max()"
   ]
  },
  {
   "cell_type": "code",
   "execution_count": 11,
   "id": "8e12d893",
   "metadata": {},
   "outputs": [],
   "source": [
    "train_data = change_type(train_data, 'geoCluster', 'uint16')\n",
    "train_data = change_type(train_data, 'SKU', 'uint32')\n",
    "train_data = change_type(train_data, 'commodity_group', 'uint8')\n",
    "train_data = change_type(train_data, 'cityId', 'uint8')\n",
    "train_data = change_type(train_data, 'lagerUnitTypeId', 'uint8')"
   ]
  },
  {
   "cell_type": "code",
   "execution_count": 12,
   "id": "3fe5b37a",
   "metadata": {},
   "outputs": [
    {
     "name": "stdout",
     "output_type": "stream",
     "text": [
      "<class 'pandas.core.frame.DataFrame'>\n",
      "RangeIndex: 27956445 entries, 0 to 27956444\n",
      "Data columns (total 17 columns):\n",
      " #   Column                      Dtype  \n",
      "---  ------                      -----  \n",
      " 0   ID                          object \n",
      " 1   geoCluster                  uint16 \n",
      " 2   SKU                         uint32 \n",
      " 3   date                        object \n",
      " 4   sales                       float64\n",
      " 5   month                       int64  \n",
      " 6   day                         int64  \n",
      " 7   weekday                     int64  \n",
      " 8   week_num                    int64  \n",
      " 9   lagerUnitType_caption       object \n",
      " 10  commodity_group             uint8  \n",
      " 11  productCategory_caption_RU  object \n",
      " 12  cityId                      uint8  \n",
      " 13  price                       float64\n",
      " 14  lagerUnitQuantity           float64\n",
      " 15  lagerUnitTypeId             uint8  \n",
      " 16  revanue                     float64\n",
      "dtypes: float64(4), int64(4), object(4), uint16(1), uint32(1), uint8(3)\n",
      "memory usage: 2.7+ GB\n"
     ]
    }
   ],
   "source": [
    "train_data.info()"
   ]
  },
  {
   "cell_type": "code",
   "execution_count": 13,
   "id": "9c3ab660",
   "metadata": {},
   "outputs": [],
   "source": [
    "sku_meta = pd.read_csv('../sku_final.csv')"
   ]
  },
  {
   "cell_type": "code",
   "execution_count": 14,
   "id": "68d514c5",
   "metadata": {},
   "outputs": [],
   "source": [
    "geo_params = pd.read_csv('../geo_params.csv')"
   ]
  },
  {
   "cell_type": "code",
   "execution_count": 15,
   "id": "265f1321",
   "metadata": {},
   "outputs": [],
   "source": [
    "test_data = pd.read_csv('../test_data.csv')"
   ]
  },
  {
   "cell_type": "code",
   "execution_count": 16,
   "id": "7daa6741",
   "metadata": {},
   "outputs": [
    {
     "data": {
      "text/html": [
       "<div>\n",
       "<style scoped>\n",
       "    .dataframe tbody tr th:only-of-type {\n",
       "        vertical-align: middle;\n",
       "    }\n",
       "\n",
       "    .dataframe tbody tr th {\n",
       "        vertical-align: top;\n",
       "    }\n",
       "\n",
       "    .dataframe thead th {\n",
       "        text-align: right;\n",
       "    }\n",
       "</style>\n",
       "<table border=\"1\" class=\"dataframe\">\n",
       "  <thead>\n",
       "    <tr style=\"text-align: right;\">\n",
       "      <th></th>\n",
       "      <th>ID</th>\n",
       "      <th>geoCluster</th>\n",
       "      <th>SKU</th>\n",
       "      <th>date</th>\n",
       "      <th>price</th>\n",
       "    </tr>\n",
       "  </thead>\n",
       "  <tbody>\n",
       "    <tr>\n",
       "      <th>0</th>\n",
       "      <td>RR1666030</td>\n",
       "      <td>21</td>\n",
       "      <td>32485</td>\n",
       "      <td>2021-07-20</td>\n",
       "      <td>66.69</td>\n",
       "    </tr>\n",
       "    <tr>\n",
       "      <th>1</th>\n",
       "      <td>RR1666031</td>\n",
       "      <td>21</td>\n",
       "      <td>32485</td>\n",
       "      <td>2021-07-21</td>\n",
       "      <td>66.69</td>\n",
       "    </tr>\n",
       "    <tr>\n",
       "      <th>2</th>\n",
       "      <td>RR1666032</td>\n",
       "      <td>21</td>\n",
       "      <td>32485</td>\n",
       "      <td>2021-07-22</td>\n",
       "      <td>66.69</td>\n",
       "    </tr>\n",
       "    <tr>\n",
       "      <th>3</th>\n",
       "      <td>RR1666033</td>\n",
       "      <td>21</td>\n",
       "      <td>32485</td>\n",
       "      <td>2021-07-23</td>\n",
       "      <td>66.69</td>\n",
       "    </tr>\n",
       "    <tr>\n",
       "      <th>4</th>\n",
       "      <td>RR1666034</td>\n",
       "      <td>21</td>\n",
       "      <td>32485</td>\n",
       "      <td>2021-07-24</td>\n",
       "      <td>66.69</td>\n",
       "    </tr>\n",
       "  </tbody>\n",
       "</table>\n",
       "</div>"
      ],
      "text/plain": [
       "          ID  geoCluster    SKU        date  price\n",
       "0  RR1666030          21  32485  2021-07-20  66.69\n",
       "1  RR1666031          21  32485  2021-07-21  66.69\n",
       "2  RR1666032          21  32485  2021-07-22  66.69\n",
       "3  RR1666033          21  32485  2021-07-23  66.69\n",
       "4  RR1666034          21  32485  2021-07-24  66.69"
      ]
     },
     "execution_count": 16,
     "metadata": {},
     "output_type": "execute_result"
    }
   ],
   "source": [
    "test_data.head()"
   ]
  },
  {
   "cell_type": "code",
   "execution_count": 17,
   "id": "4e5ebd81",
   "metadata": {},
   "outputs": [],
   "source": [
    "train_data = train_data.sort_values(by=['week_num'])"
   ]
  },
  {
   "cell_type": "code",
   "execution_count": 18,
   "id": "5634d090",
   "metadata": {},
   "outputs": [
    {
     "data": {
      "text/plain": [
       "array([ 1,  2,  3,  4,  5,  6,  7,  8,  9, 10, 11, 12, 13, 14, 15, 16, 17,\n",
       "       18, 19, 20, 21, 22, 23, 24, 25, 26, 27, 28, 29, 30, 31, 32, 33, 34,\n",
       "       35, 36, 37, 38, 39, 40, 41, 42, 43, 44, 45, 46, 47, 48, 49, 50, 51,\n",
       "       52, 53])"
      ]
     },
     "execution_count": 18,
     "metadata": {},
     "output_type": "execute_result"
    }
   ],
   "source": [
    "train_data['week_num'].unique()"
   ]
  },
  {
   "cell_type": "code",
   "execution_count": 19,
   "id": "5a979912",
   "metadata": {},
   "outputs": [
    {
     "data": {
      "text/plain": [
       "0.24557248818772717"
      ]
     },
     "execution_count": 19,
     "metadata": {},
     "output_type": "execute_result"
    }
   ],
   "source": [
    "train_data[train_data['week_num'].isin([51,53])].sales.mean()"
   ]
  },
  {
   "cell_type": "code",
   "execution_count": 20,
   "id": "3698352f",
   "metadata": {},
   "outputs": [
    {
     "data": {
      "text/plain": [
       "2043    12950\n",
       "2022    12558\n",
       "2049    12516\n",
       "2735    11984\n",
       "1935    11648\n",
       "        ...  \n",
       "2953       14\n",
       "607        14\n",
       "3095       14\n",
       "149        14\n",
       "287        14\n",
       "Name: geoCluster, Length: 515, dtype: int64"
      ]
     },
     "execution_count": 20,
     "metadata": {},
     "output_type": "execute_result"
    }
   ],
   "source": [
    "test_data['geoCluster'].value_counts()"
   ]
  },
  {
   "cell_type": "code",
   "execution_count": 21,
   "id": "136340bd",
   "metadata": {},
   "outputs": [],
   "source": [
    "train_data = train_data.sort_values(by=['geoCluster', 'SKU','date'])"
   ]
  },
  {
   "cell_type": "code",
   "execution_count": 22,
   "id": "61edaa2b",
   "metadata": {},
   "outputs": [],
   "source": [
    "test_data = test_data.merge(sku_meta, on='SKU', how='inner')\n",
    "test_data = test_data.merge(geo_params, on=['geoCluster'], how='inner')"
   ]
  },
  {
   "cell_type": "code",
   "execution_count": 23,
   "id": "695abe13",
   "metadata": {},
   "outputs": [
    {
     "data": {
      "text/plain": [
       "(1666028, 25)"
      ]
     },
     "execution_count": 23,
     "metadata": {},
     "output_type": "execute_result"
    }
   ],
   "source": [
    "test_data.shape"
   ]
  },
  {
   "cell_type": "code",
   "execution_count": 24,
   "id": "47c01405",
   "metadata": {},
   "outputs": [
    {
     "data": {
      "text/html": [
       "<div>\n",
       "<style scoped>\n",
       "    .dataframe tbody tr th:only-of-type {\n",
       "        vertical-align: middle;\n",
       "    }\n",
       "\n",
       "    .dataframe tbody tr th {\n",
       "        vertical-align: top;\n",
       "    }\n",
       "\n",
       "    .dataframe thead th {\n",
       "        text-align: right;\n",
       "    }\n",
       "</style>\n",
       "<table border=\"1\" class=\"dataframe\">\n",
       "  <thead>\n",
       "    <tr style=\"text-align: right;\">\n",
       "      <th></th>\n",
       "      <th>ID</th>\n",
       "      <th>geoCluster</th>\n",
       "      <th>SKU</th>\n",
       "      <th>date</th>\n",
       "      <th>price</th>\n",
       "      <th>productCategoryId</th>\n",
       "      <th>productCategory_caption_UKR</th>\n",
       "      <th>productCategory_caption_RU</th>\n",
       "      <th>productCategory_caption_ENG</th>\n",
       "      <th>productTypeId</th>\n",
       "      <th>...</th>\n",
       "      <th>lagerUnitTypeId</th>\n",
       "      <th>lagerUnitType_caption</th>\n",
       "      <th>trademark</th>\n",
       "      <th>countryOfOrigin</th>\n",
       "      <th>countryOfOrigin_caption</th>\n",
       "      <th>commodity_group</th>\n",
       "      <th>commodity_group_caption_UKR</th>\n",
       "      <th>commodity_group_caption_RU</th>\n",
       "      <th>commodity_group_caption_ENG</th>\n",
       "      <th>cityId</th>\n",
       "    </tr>\n",
       "  </thead>\n",
       "  <tbody>\n",
       "    <tr>\n",
       "      <th>0</th>\n",
       "      <td>RR1666030</td>\n",
       "      <td>21</td>\n",
       "      <td>32485</td>\n",
       "      <td>2021-07-20</td>\n",
       "      <td>66.69</td>\n",
       "      <td>5381.0</td>\n",
       "      <td>Банан</td>\n",
       "      <td>Банан</td>\n",
       "      <td>Banana</td>\n",
       "      <td>4752.0</td>\n",
       "      <td>...</td>\n",
       "      <td>1</td>\n",
       "      <td>г</td>\n",
       "      <td>NaN</td>\n",
       "      <td>NaN</td>\n",
       "      <td>NaN</td>\n",
       "      <td>5551018</td>\n",
       "      <td>Фрукти тропічні</td>\n",
       "      <td>Фрукты тропические</td>\n",
       "      <td>Tropical fruits</td>\n",
       "      <td>1</td>\n",
       "    </tr>\n",
       "    <tr>\n",
       "      <th>1</th>\n",
       "      <td>RR1666031</td>\n",
       "      <td>21</td>\n",
       "      <td>32485</td>\n",
       "      <td>2021-07-21</td>\n",
       "      <td>66.69</td>\n",
       "      <td>5381.0</td>\n",
       "      <td>Банан</td>\n",
       "      <td>Банан</td>\n",
       "      <td>Banana</td>\n",
       "      <td>4752.0</td>\n",
       "      <td>...</td>\n",
       "      <td>1</td>\n",
       "      <td>г</td>\n",
       "      <td>NaN</td>\n",
       "      <td>NaN</td>\n",
       "      <td>NaN</td>\n",
       "      <td>5551018</td>\n",
       "      <td>Фрукти тропічні</td>\n",
       "      <td>Фрукты тропические</td>\n",
       "      <td>Tropical fruits</td>\n",
       "      <td>1</td>\n",
       "    </tr>\n",
       "    <tr>\n",
       "      <th>2</th>\n",
       "      <td>RR1666032</td>\n",
       "      <td>21</td>\n",
       "      <td>32485</td>\n",
       "      <td>2021-07-22</td>\n",
       "      <td>66.69</td>\n",
       "      <td>5381.0</td>\n",
       "      <td>Банан</td>\n",
       "      <td>Банан</td>\n",
       "      <td>Banana</td>\n",
       "      <td>4752.0</td>\n",
       "      <td>...</td>\n",
       "      <td>1</td>\n",
       "      <td>г</td>\n",
       "      <td>NaN</td>\n",
       "      <td>NaN</td>\n",
       "      <td>NaN</td>\n",
       "      <td>5551018</td>\n",
       "      <td>Фрукти тропічні</td>\n",
       "      <td>Фрукты тропические</td>\n",
       "      <td>Tropical fruits</td>\n",
       "      <td>1</td>\n",
       "    </tr>\n",
       "    <tr>\n",
       "      <th>3</th>\n",
       "      <td>RR1666033</td>\n",
       "      <td>21</td>\n",
       "      <td>32485</td>\n",
       "      <td>2021-07-23</td>\n",
       "      <td>66.69</td>\n",
       "      <td>5381.0</td>\n",
       "      <td>Банан</td>\n",
       "      <td>Банан</td>\n",
       "      <td>Banana</td>\n",
       "      <td>4752.0</td>\n",
       "      <td>...</td>\n",
       "      <td>1</td>\n",
       "      <td>г</td>\n",
       "      <td>NaN</td>\n",
       "      <td>NaN</td>\n",
       "      <td>NaN</td>\n",
       "      <td>5551018</td>\n",
       "      <td>Фрукти тропічні</td>\n",
       "      <td>Фрукты тропические</td>\n",
       "      <td>Tropical fruits</td>\n",
       "      <td>1</td>\n",
       "    </tr>\n",
       "    <tr>\n",
       "      <th>4</th>\n",
       "      <td>RR1666034</td>\n",
       "      <td>21</td>\n",
       "      <td>32485</td>\n",
       "      <td>2021-07-24</td>\n",
       "      <td>66.69</td>\n",
       "      <td>5381.0</td>\n",
       "      <td>Банан</td>\n",
       "      <td>Банан</td>\n",
       "      <td>Banana</td>\n",
       "      <td>4752.0</td>\n",
       "      <td>...</td>\n",
       "      <td>1</td>\n",
       "      <td>г</td>\n",
       "      <td>NaN</td>\n",
       "      <td>NaN</td>\n",
       "      <td>NaN</td>\n",
       "      <td>5551018</td>\n",
       "      <td>Фрукти тропічні</td>\n",
       "      <td>Фрукты тропические</td>\n",
       "      <td>Tropical fruits</td>\n",
       "      <td>1</td>\n",
       "    </tr>\n",
       "  </tbody>\n",
       "</table>\n",
       "<p>5 rows × 25 columns</p>\n",
       "</div>"
      ],
      "text/plain": [
       "          ID  geoCluster    SKU        date  price  productCategoryId  \\\n",
       "0  RR1666030          21  32485  2021-07-20  66.69             5381.0   \n",
       "1  RR1666031          21  32485  2021-07-21  66.69             5381.0   \n",
       "2  RR1666032          21  32485  2021-07-22  66.69             5381.0   \n",
       "3  RR1666033          21  32485  2021-07-23  66.69             5381.0   \n",
       "4  RR1666034          21  32485  2021-07-24  66.69             5381.0   \n",
       "\n",
       "  productCategory_caption_UKR productCategory_caption_RU  \\\n",
       "0                       Банан                      Банан   \n",
       "1                       Банан                      Банан   \n",
       "2                       Банан                      Банан   \n",
       "3                       Банан                      Банан   \n",
       "4                       Банан                      Банан   \n",
       "\n",
       "  productCategory_caption_ENG  productTypeId  ... lagerUnitTypeId  \\\n",
       "0                      Banana         4752.0  ...               1   \n",
       "1                      Banana         4752.0  ...               1   \n",
       "2                      Banana         4752.0  ...               1   \n",
       "3                      Banana         4752.0  ...               1   \n",
       "4                      Banana         4752.0  ...               1   \n",
       "\n",
       "  lagerUnitType_caption trademark  countryOfOrigin  countryOfOrigin_caption  \\\n",
       "0            г                NaN              NaN                      NaN   \n",
       "1            г                NaN              NaN                      NaN   \n",
       "2            г                NaN              NaN                      NaN   \n",
       "3            г                NaN              NaN                      NaN   \n",
       "4            г                NaN              NaN                      NaN   \n",
       "\n",
       "   commodity_group commodity_group_caption_UKR  commodity_group_caption_RU  \\\n",
       "0          5551018             Фрукти тропічні          Фрукты тропические   \n",
       "1          5551018             Фрукти тропічні          Фрукты тропические   \n",
       "2          5551018             Фрукти тропічні          Фрукты тропические   \n",
       "3          5551018             Фрукти тропічні          Фрукты тропические   \n",
       "4          5551018             Фрукти тропічні          Фрукты тропические   \n",
       "\n",
       "   commodity_group_caption_ENG cityId  \n",
       "0              Tropical fruits      1  \n",
       "1              Tropical fruits      1  \n",
       "2              Tropical fruits      1  \n",
       "3              Tropical fruits      1  \n",
       "4              Tropical fruits      1  \n",
       "\n",
       "[5 rows x 25 columns]"
      ]
     },
     "execution_count": 24,
     "metadata": {},
     "output_type": "execute_result"
    }
   ],
   "source": [
    "test_data.head()"
   ]
  },
  {
   "cell_type": "code",
   "execution_count": 25,
   "id": "06e9d908",
   "metadata": {},
   "outputs": [],
   "source": [
    "test_cols, train_cols = test_data.columns, train_data.columns\n",
    "cols_to_use = set(train_cols).intersection(test_cols)"
   ]
  },
  {
   "cell_type": "code",
   "execution_count": 26,
   "id": "abd4f699",
   "metadata": {},
   "outputs": [],
   "source": [
    "test_data = test_data[cols_to_use]"
   ]
  },
  {
   "cell_type": "code",
   "execution_count": 27,
   "id": "82bbc1ce",
   "metadata": {},
   "outputs": [
    {
     "data": {
      "text/html": [
       "<div>\n",
       "<style scoped>\n",
       "    .dataframe tbody tr th:only-of-type {\n",
       "        vertical-align: middle;\n",
       "    }\n",
       "\n",
       "    .dataframe tbody tr th {\n",
       "        vertical-align: top;\n",
       "    }\n",
       "\n",
       "    .dataframe thead th {\n",
       "        text-align: right;\n",
       "    }\n",
       "</style>\n",
       "<table border=\"1\" class=\"dataframe\">\n",
       "  <thead>\n",
       "    <tr style=\"text-align: right;\">\n",
       "      <th></th>\n",
       "      <th>SKU</th>\n",
       "      <th>geoCluster</th>\n",
       "      <th>ID</th>\n",
       "      <th>productCategory_caption_RU</th>\n",
       "      <th>lagerUnitTypeId</th>\n",
       "      <th>commodity_group</th>\n",
       "      <th>price</th>\n",
       "      <th>lagerUnitQuantity</th>\n",
       "      <th>lagerUnitType_caption</th>\n",
       "      <th>date</th>\n",
       "      <th>cityId</th>\n",
       "    </tr>\n",
       "  </thead>\n",
       "  <tbody>\n",
       "    <tr>\n",
       "      <th>0</th>\n",
       "      <td>32485</td>\n",
       "      <td>21</td>\n",
       "      <td>RR1666030</td>\n",
       "      <td>Банан</td>\n",
       "      <td>1</td>\n",
       "      <td>5551018</td>\n",
       "      <td>66.69</td>\n",
       "      <td>1.0</td>\n",
       "      <td>г</td>\n",
       "      <td>2021-07-20</td>\n",
       "      <td>1</td>\n",
       "    </tr>\n",
       "    <tr>\n",
       "      <th>1</th>\n",
       "      <td>32485</td>\n",
       "      <td>21</td>\n",
       "      <td>RR1666031</td>\n",
       "      <td>Банан</td>\n",
       "      <td>1</td>\n",
       "      <td>5551018</td>\n",
       "      <td>66.69</td>\n",
       "      <td>1.0</td>\n",
       "      <td>г</td>\n",
       "      <td>2021-07-21</td>\n",
       "      <td>1</td>\n",
       "    </tr>\n",
       "    <tr>\n",
       "      <th>2</th>\n",
       "      <td>32485</td>\n",
       "      <td>21</td>\n",
       "      <td>RR1666032</td>\n",
       "      <td>Банан</td>\n",
       "      <td>1</td>\n",
       "      <td>5551018</td>\n",
       "      <td>66.69</td>\n",
       "      <td>1.0</td>\n",
       "      <td>г</td>\n",
       "      <td>2021-07-22</td>\n",
       "      <td>1</td>\n",
       "    </tr>\n",
       "    <tr>\n",
       "      <th>3</th>\n",
       "      <td>32485</td>\n",
       "      <td>21</td>\n",
       "      <td>RR1666033</td>\n",
       "      <td>Банан</td>\n",
       "      <td>1</td>\n",
       "      <td>5551018</td>\n",
       "      <td>66.69</td>\n",
       "      <td>1.0</td>\n",
       "      <td>г</td>\n",
       "      <td>2021-07-23</td>\n",
       "      <td>1</td>\n",
       "    </tr>\n",
       "    <tr>\n",
       "      <th>4</th>\n",
       "      <td>32485</td>\n",
       "      <td>21</td>\n",
       "      <td>RR1666034</td>\n",
       "      <td>Банан</td>\n",
       "      <td>1</td>\n",
       "      <td>5551018</td>\n",
       "      <td>66.69</td>\n",
       "      <td>1.0</td>\n",
       "      <td>г</td>\n",
       "      <td>2021-07-24</td>\n",
       "      <td>1</td>\n",
       "    </tr>\n",
       "  </tbody>\n",
       "</table>\n",
       "</div>"
      ],
      "text/plain": [
       "     SKU  geoCluster         ID productCategory_caption_RU  lagerUnitTypeId  \\\n",
       "0  32485          21  RR1666030                      Банан                1   \n",
       "1  32485          21  RR1666031                      Банан                1   \n",
       "2  32485          21  RR1666032                      Банан                1   \n",
       "3  32485          21  RR1666033                      Банан                1   \n",
       "4  32485          21  RR1666034                      Банан                1   \n",
       "\n",
       "   commodity_group  price  lagerUnitQuantity lagerUnitType_caption  \\\n",
       "0          5551018  66.69                1.0            г            \n",
       "1          5551018  66.69                1.0            г            \n",
       "2          5551018  66.69                1.0            г            \n",
       "3          5551018  66.69                1.0            г            \n",
       "4          5551018  66.69                1.0            г            \n",
       "\n",
       "         date  cityId  \n",
       "0  2021-07-20       1  \n",
       "1  2021-07-21       1  \n",
       "2  2021-07-22       1  \n",
       "3  2021-07-23       1  \n",
       "4  2021-07-24       1  "
      ]
     },
     "execution_count": 27,
     "metadata": {},
     "output_type": "execute_result"
    }
   ],
   "source": [
    "test_data.head()"
   ]
  },
  {
   "cell_type": "code",
   "execution_count": 28,
   "id": "d34aaf4f",
   "metadata": {},
   "outputs": [],
   "source": [
    "full_data = pd.concat([train_data, test_data],axis=0)"
   ]
  },
  {
   "cell_type": "code",
   "execution_count": 29,
   "id": "e2d5f983",
   "metadata": {},
   "outputs": [
    {
     "data": {
      "text/plain": [
       "(29622473, 17)"
      ]
     },
     "execution_count": 29,
     "metadata": {},
     "output_type": "execute_result"
    }
   ],
   "source": [
    "full_data.shape"
   ]
  },
  {
   "cell_type": "code",
   "execution_count": 30,
   "id": "f47770d3",
   "metadata": {},
   "outputs": [],
   "source": [
    "import gc"
   ]
  },
  {
   "cell_type": "code",
   "execution_count": 31,
   "id": "586cc37a",
   "metadata": {},
   "outputs": [],
   "source": [
    "dates_test = test_data['date'].unique()"
   ]
  },
  {
   "cell_type": "code",
   "execution_count": 32,
   "id": "6f3ad945",
   "metadata": {},
   "outputs": [
    {
     "data": {
      "text/plain": [
       "(1666028, 17)"
      ]
     },
     "execution_count": 32,
     "metadata": {},
     "output_type": "execute_result"
    }
   ],
   "source": [
    "full_data[full_data['date'].isin(dates_test)].shape"
   ]
  },
  {
   "cell_type": "code",
   "execution_count": 33,
   "id": "1e7a4d2f",
   "metadata": {},
   "outputs": [
    {
     "data": {
      "text/plain": [
       "(1666028, 11)"
      ]
     },
     "execution_count": 33,
     "metadata": {},
     "output_type": "execute_result"
    }
   ],
   "source": [
    "test_data.shape"
   ]
  },
  {
   "cell_type": "code",
   "execution_count": 34,
   "id": "b3754fa4",
   "metadata": {},
   "outputs": [
    {
     "data": {
      "text/html": [
       "<div>\n",
       "<style scoped>\n",
       "    .dataframe tbody tr th:only-of-type {\n",
       "        vertical-align: middle;\n",
       "    }\n",
       "\n",
       "    .dataframe tbody tr th {\n",
       "        vertical-align: top;\n",
       "    }\n",
       "\n",
       "    .dataframe thead th {\n",
       "        text-align: right;\n",
       "    }\n",
       "</style>\n",
       "<table border=\"1\" class=\"dataframe\">\n",
       "  <thead>\n",
       "    <tr style=\"text-align: right;\">\n",
       "      <th></th>\n",
       "      <th>ID</th>\n",
       "      <th>geoCluster</th>\n",
       "      <th>SKU</th>\n",
       "      <th>date</th>\n",
       "      <th>sales</th>\n",
       "      <th>month</th>\n",
       "      <th>day</th>\n",
       "      <th>weekday</th>\n",
       "      <th>week_num</th>\n",
       "      <th>lagerUnitType_caption</th>\n",
       "      <th>commodity_group</th>\n",
       "      <th>productCategory_caption_RU</th>\n",
       "      <th>cityId</th>\n",
       "      <th>price</th>\n",
       "      <th>lagerUnitQuantity</th>\n",
       "      <th>lagerUnitTypeId</th>\n",
       "      <th>revanue</th>\n",
       "    </tr>\n",
       "  </thead>\n",
       "  <tbody>\n",
       "    <tr>\n",
       "      <th>1666023</th>\n",
       "      <td>RR3305649</td>\n",
       "      <td>3095</td>\n",
       "      <td>642700</td>\n",
       "      <td>2021-07-29</td>\n",
       "      <td>NaN</td>\n",
       "      <td>NaN</td>\n",
       "      <td>NaN</td>\n",
       "      <td>NaN</td>\n",
       "      <td>NaN</td>\n",
       "      <td>кг</td>\n",
       "      <td>5550352</td>\n",
       "      <td>Сыры полутвердые крупнопористые</td>\n",
       "      <td>0</td>\n",
       "      <td>113.59</td>\n",
       "      <td>1.0</td>\n",
       "      <td>2</td>\n",
       "      <td>NaN</td>\n",
       "    </tr>\n",
       "    <tr>\n",
       "      <th>1666024</th>\n",
       "      <td>RR3305650</td>\n",
       "      <td>3095</td>\n",
       "      <td>642700</td>\n",
       "      <td>2021-07-30</td>\n",
       "      <td>NaN</td>\n",
       "      <td>NaN</td>\n",
       "      <td>NaN</td>\n",
       "      <td>NaN</td>\n",
       "      <td>NaN</td>\n",
       "      <td>кг</td>\n",
       "      <td>5550352</td>\n",
       "      <td>Сыры полутвердые крупнопористые</td>\n",
       "      <td>0</td>\n",
       "      <td>113.59</td>\n",
       "      <td>1.0</td>\n",
       "      <td>2</td>\n",
       "      <td>NaN</td>\n",
       "    </tr>\n",
       "    <tr>\n",
       "      <th>1666025</th>\n",
       "      <td>RR3305651</td>\n",
       "      <td>3095</td>\n",
       "      <td>642700</td>\n",
       "      <td>2021-07-31</td>\n",
       "      <td>NaN</td>\n",
       "      <td>NaN</td>\n",
       "      <td>NaN</td>\n",
       "      <td>NaN</td>\n",
       "      <td>NaN</td>\n",
       "      <td>кг</td>\n",
       "      <td>5550352</td>\n",
       "      <td>Сыры полутвердые крупнопористые</td>\n",
       "      <td>0</td>\n",
       "      <td>113.59</td>\n",
       "      <td>1.0</td>\n",
       "      <td>2</td>\n",
       "      <td>NaN</td>\n",
       "    </tr>\n",
       "    <tr>\n",
       "      <th>1666026</th>\n",
       "      <td>RR3305652</td>\n",
       "      <td>3095</td>\n",
       "      <td>642700</td>\n",
       "      <td>2021-08-01</td>\n",
       "      <td>NaN</td>\n",
       "      <td>NaN</td>\n",
       "      <td>NaN</td>\n",
       "      <td>NaN</td>\n",
       "      <td>NaN</td>\n",
       "      <td>кг</td>\n",
       "      <td>5550352</td>\n",
       "      <td>Сыры полутвердые крупнопористые</td>\n",
       "      <td>0</td>\n",
       "      <td>113.59</td>\n",
       "      <td>1.0</td>\n",
       "      <td>2</td>\n",
       "      <td>NaN</td>\n",
       "    </tr>\n",
       "    <tr>\n",
       "      <th>1666027</th>\n",
       "      <td>RR3305653</td>\n",
       "      <td>3095</td>\n",
       "      <td>642700</td>\n",
       "      <td>2021-08-02</td>\n",
       "      <td>NaN</td>\n",
       "      <td>NaN</td>\n",
       "      <td>NaN</td>\n",
       "      <td>NaN</td>\n",
       "      <td>NaN</td>\n",
       "      <td>кг</td>\n",
       "      <td>5550352</td>\n",
       "      <td>Сыры полутвердые крупнопористые</td>\n",
       "      <td>0</td>\n",
       "      <td>113.59</td>\n",
       "      <td>1.0</td>\n",
       "      <td>2</td>\n",
       "      <td>NaN</td>\n",
       "    </tr>\n",
       "  </tbody>\n",
       "</table>\n",
       "</div>"
      ],
      "text/plain": [
       "                ID  geoCluster     SKU        date  sales  month  day  \\\n",
       "1666023  RR3305649        3095  642700  2021-07-29    NaN    NaN  NaN   \n",
       "1666024  RR3305650        3095  642700  2021-07-30    NaN    NaN  NaN   \n",
       "1666025  RR3305651        3095  642700  2021-07-31    NaN    NaN  NaN   \n",
       "1666026  RR3305652        3095  642700  2021-08-01    NaN    NaN  NaN   \n",
       "1666027  RR3305653        3095  642700  2021-08-02    NaN    NaN  NaN   \n",
       "\n",
       "         weekday  week_num lagerUnitType_caption  commodity_group  \\\n",
       "1666023      NaN       NaN            кг                  5550352   \n",
       "1666024      NaN       NaN            кг                  5550352   \n",
       "1666025      NaN       NaN            кг                  5550352   \n",
       "1666026      NaN       NaN            кг                  5550352   \n",
       "1666027      NaN       NaN            кг                  5550352   \n",
       "\n",
       "              productCategory_caption_RU  cityId   price  lagerUnitQuantity  \\\n",
       "1666023  Сыры полутвердые крупнопористые       0  113.59                1.0   \n",
       "1666024  Сыры полутвердые крупнопористые       0  113.59                1.0   \n",
       "1666025  Сыры полутвердые крупнопористые       0  113.59                1.0   \n",
       "1666026  Сыры полутвердые крупнопористые       0  113.59                1.0   \n",
       "1666027  Сыры полутвердые крупнопористые       0  113.59                1.0   \n",
       "\n",
       "         lagerUnitTypeId  revanue  \n",
       "1666023                2      NaN  \n",
       "1666024                2      NaN  \n",
       "1666025                2      NaN  \n",
       "1666026                2      NaN  \n",
       "1666027                2      NaN  "
      ]
     },
     "execution_count": 34,
     "metadata": {},
     "output_type": "execute_result"
    }
   ],
   "source": [
    "full_data.tail()"
   ]
  },
  {
   "cell_type": "markdown",
   "id": "7828c8ca",
   "metadata": {},
   "source": [
    "### cleaning memory"
   ]
  },
  {
   "cell_type": "code",
   "execution_count": 35,
   "id": "2bad4dee",
   "metadata": {},
   "outputs": [],
   "source": [
    "full_data = change_type(full_data, 'geoCluster', 'uint16')\n",
    "full_data = change_type(full_data, 'SKU', 'uint32')\n",
    "full_data = change_type(full_data, 'commodity_group', 'uint8')\n",
    "full_data = change_type(full_data, 'cityId', 'uint8')\n",
    "full_data = change_type(full_data, 'lagerUnitTypeId', 'uint8')"
   ]
  },
  {
   "cell_type": "code",
   "execution_count": 36,
   "id": "4dba4f1f",
   "metadata": {},
   "outputs": [],
   "source": [
    "del train_data, sku_meta, geo_params;\n",
    "gc.collect();"
   ]
  },
  {
   "cell_type": "markdown",
   "id": "77262b74",
   "metadata": {},
   "source": [
    "## creation of features"
   ]
  },
  {
   "cell_type": "code",
   "execution_count": 37,
   "id": "3b0f8e9c",
   "metadata": {},
   "outputs": [],
   "source": [
    "full_data.drop(columns=['lagerUnitType_caption'],inplace=True)"
   ]
  },
  {
   "cell_type": "markdown",
   "id": "edd639be",
   "metadata": {},
   "source": [
    "### days on the market "
   ]
  },
  {
   "cell_type": "code",
   "execution_count": 38,
   "id": "bac31e1a",
   "metadata": {},
   "outputs": [],
   "source": [
    "full_data['date'] = pd.to_datetime(full_data['date'])"
   ]
  },
  {
   "cell_type": "code",
   "execution_count": 39,
   "id": "4ac4bb4f",
   "metadata": {},
   "outputs": [
    {
     "name": "stderr",
     "output_type": "stream",
     "text": [
      "100%|██████████| 1961/1961 [05:39<00:00,  5.77it/s]\n"
     ]
    }
   ],
   "source": [
    "unique_SKU_list = full_data.SKU.unique()\n",
    "for sku in tqdm.tqdm(unique_SKU_list):\n",
    "    min_date = full_data[full_data['SKU'] == sku]['date'].min()\n",
    "    #print(min_date)\n",
    "    full_data.loc[full_data['SKU'] == sku , 'days_on_the_market'] = full_data.loc[full_data['SKU'] == sku,'date'] - min_date\n",
    "    #print(train_data[train_data['SKU'] == sku]['date'] - min_date)"
   ]
  },
  {
   "cell_type": "code",
   "execution_count": 40,
   "id": "8ac22317",
   "metadata": {},
   "outputs": [],
   "source": [
    "full_data['days_on_the_market']  = full_data['days_on_the_market'].dt.days"
   ]
  },
  {
   "cell_type": "code",
   "execution_count": 41,
   "id": "1ea348f4",
   "metadata": {},
   "outputs": [
    {
     "data": {
      "text/plain": [
       "271.0507787786658"
      ]
     },
     "execution_count": 41,
     "metadata": {},
     "output_type": "execute_result"
    }
   ],
   "source": [
    "full_data['days_on_the_market'].mean()"
   ]
  },
  {
   "cell_type": "code",
   "execution_count": 42,
   "id": "78a16ac6",
   "metadata": {},
   "outputs": [],
   "source": [
    "# groups = full_data[['date','geoCluster','SKU']].groupby(['geoCluster','SKU'], as_index=False)"
   ]
  },
  {
   "cell_type": "code",
   "execution_count": 43,
   "id": "c90acbc8",
   "metadata": {},
   "outputs": [],
   "source": [
    "# days_on_market_geo = pd.DataFrame()\n",
    "# for key in tqdm.tqdm(groups.groups.keys()):\n",
    "#     group = groups.get_group(key)\n",
    "#     group['date'] = group['date']-group['date'].min()\n",
    "#     days_on_market_geo = days_on_market_geo.append(group)"
   ]
  },
  {
   "cell_type": "code",
   "execution_count": null,
   "id": "4f535287",
   "metadata": {},
   "outputs": [],
   "source": []
  },
  {
   "cell_type": "markdown",
   "id": "f8d95a82",
   "metadata": {},
   "source": [
    "### max sales, min sales, max ravenue, min ravenue"
   ]
  },
  {
   "cell_type": "code",
   "execution_count": 44,
   "id": "22a335a2",
   "metadata": {},
   "outputs": [],
   "source": [
    "def agg_feature(df, dates_to_exclude, to_groupby, to_agg, func='min'):\n",
    "    if not isinstance(to_groupby, list):\n",
    "        to_groupby = [to_groupby]\n",
    "    result = df[~df['date'].isin(dates_to_exclude)].groupby(to_groupby,as_index=False).agg({to_agg:func})\n",
    "    result = result.rename(columns={to_agg:to_agg+'_grouped_{}_{}'.format('_'.join(to_groupby),func)})\n",
    "    df = df.merge(result, on=to_groupby, how='left')\n",
    "    return df"
   ]
  },
  {
   "cell_type": "code",
   "execution_count": null,
   "id": "2fed2808",
   "metadata": {},
   "outputs": [],
   "source": [
    "full_data['date'] = pd.to_datetime(full_data['date'])\n",
    "full_data['weekday'] = full_data['date'].dt.weekday\n",
    "full_data['day'] = full_data['date'].dt.day\n",
    "full_data['year'] = full_data['date'].dt.year\n",
    "full_data['month'] = full_data['date'].dt.month\n",
    "max_week = full_data[full_data['year']==2020]['week_num'].max()\n",
    "full_data['week_num'] = full_data['date'].dt.week\n",
    "full_data.loc[full_data['year']==2021, 'week_num'] = full_data.loc[full_data['year']==2021, 'week_num'].apply(lambda x: x+max_week)\n",
    "full_data = change_type(full_data, 'month', 'uint8')\n",
    "full_data = change_type(full_data, 'day', 'uint8')\n",
    "full_data = change_type(full_data, 'weekday', 'uint8')\n",
    "full_data = change_type(full_data, 'week_num', 'uint8')"
   ]
  },
  {
   "cell_type": "code",
   "execution_count": null,
   "id": "7088051c",
   "metadata": {},
   "outputs": [],
   "source": [
    "full_data = agg_feature(full_data, dates_test, ['week_num','geoCluster'], 'sales', 'mean')\n",
    "full_data = agg_feature(full_data, dates_test, ['week_num','geoCluster'], 'sales', 'sum')"
   ]
  },
  {
   "cell_type": "code",
   "execution_count": null,
   "id": "e8279120",
   "metadata": {},
   "outputs": [],
   "source": [
    "full_data[full_data['date'].isin(dates_test)].shape"
   ]
  },
  {
   "cell_type": "code",
   "execution_count": null,
   "id": "6ee0d8f9",
   "metadata": {},
   "outputs": [],
   "source": [
    "full_data = agg_feature(full_data, dates_test, ['week_num','cityId'], 'sales', 'mean')\n",
    "full_data = agg_feature(full_data, dates_test, ['week_num','commodity_group'], 'sales', 'mean')"
   ]
  },
  {
   "cell_type": "code",
   "execution_count": null,
   "id": "449481db",
   "metadata": {},
   "outputs": [],
   "source": [
    "full_data = agg_feature(full_data, dates_test, ['week_num','geoCluster'], 'revanue', 'sum')\n",
    "full_data = agg_feature(full_data, dates_test, ['week_num','geoCluster'], 'revanue', 'mean')\n",
    "full_data = agg_feature(full_data, dates_test, ['week_num','cityId'], 'revanue', 'mean')\n",
    "full_data = agg_feature(full_data, dates_test, ['week_num','commodity_group'], 'revanue', 'mean')"
   ]
  },
  {
   "cell_type": "code",
   "execution_count": null,
   "id": "bc87dadb",
   "metadata": {},
   "outputs": [],
   "source": [
    "full_data = agg_feature(full_data, dates_test, ['week_num','SKU'], 'revanue', 'mean')\n",
    "full_data = agg_feature(full_data, dates_test, ['week_num','SKU'], 'sales', 'mean')\n",
    "full_data = agg_feature(full_data, dates_test, ['week_num','SKU'], 'revanue', 'sum')\n",
    "full_data = agg_feature(full_data, dates_test, ['week_num','SKU'], 'sales', 'sum')"
   ]
  },
  {
   "cell_type": "code",
   "execution_count": null,
   "id": "eb0ebda4",
   "metadata": {},
   "outputs": [],
   "source": [
    "full_data = agg_feature(full_data, dates_test, ['week_num','SKU','commodity_group'], 'revanue', 'mean')\n",
    "full_data = agg_feature(full_data, dates_test, ['week_num','SKU','commodity_group'], 'sales', 'mean')\n",
    "full_data = agg_feature(full_data, dates_test, ['week_num','SKU','commodity_group'], 'revanue', 'sum')\n",
    "full_data = agg_feature(full_data, dates_test, ['week_num','SKU','commodity_group'], 'sales', 'sum')"
   ]
  },
  {
   "cell_type": "code",
   "execution_count": null,
   "id": "2d92db0a",
   "metadata": {},
   "outputs": [],
   "source": [
    "full_data = agg_feature(full_data, dates_test, ['week_num','SKU','geoCluster'], 'revanue', 'mean')\n",
    "full_data = agg_feature(full_data, dates_test, ['week_num','SKU','geoCluster'], 'sales', 'mean')\n",
    "full_data = agg_feature(full_data, dates_test, ['week_num','SKU','geoCluster'], 'revanue', 'sum')\n",
    "full_data = agg_feature(full_data, dates_test, ['week_num','SKU','geoCluster'], 'sales', 'sum')"
   ]
  },
  {
   "cell_type": "code",
   "execution_count": null,
   "id": "cb1b90f5",
   "metadata": {},
   "outputs": [],
   "source": [
    "full_data.week_num.unique()"
   ]
  },
  {
   "cell_type": "code",
   "execution_count": null,
   "id": "31a84506",
   "metadata": {},
   "outputs": [],
   "source": [
    "full_data[~full_data['date'].isin(dates_test)].isna().sum()"
   ]
  },
  {
   "cell_type": "code",
   "execution_count": null,
   "id": "e0001d6c",
   "metadata": {},
   "outputs": [],
   "source": [
    "full_data.tail()"
   ]
  },
  {
   "cell_type": "code",
   "execution_count": null,
   "id": "2572be2b",
   "metadata": {},
   "outputs": [],
   "source": [
    "full_data.columns"
   ]
  },
  {
   "cell_type": "markdown",
   "id": "5562ebc0",
   "metadata": {},
   "source": [
    "### lag on aggregated features"
   ]
  },
  {
   "cell_type": "code",
   "execution_count": null,
   "id": "c0556644",
   "metadata": {},
   "outputs": [],
   "source": [
    "full_data.info()"
   ]
  },
  {
   "cell_type": "code",
   "execution_count": null,
   "id": "afc9c563",
   "metadata": {},
   "outputs": [],
   "source": [
    "for i in full_data.columns:\n",
    "    if 'float' in str(full_data[i].dtype):\n",
    "            full_data[i] = full_data[i].astype('float16')"
   ]
  },
  {
   "cell_type": "code",
   "execution_count": null,
   "id": "16d77f66",
   "metadata": {},
   "outputs": [],
   "source": [
    "def lag_feature(df, lags, agg_columns, col):\n",
    "    agg_columns = agg_columns+[col]\n",
    "    tmp = df[agg_columns]\n",
    "    for i in lags:\n",
    "        shifted = tmp.copy()\n",
    "        shifted.columns = agg_columns[:-1]+[col+'_lag_'+str(i)]\n",
    "        shifted['week_num'] += i\n",
    "        shifted = shifted.drop_duplicates(agg_columns[:-1])\n",
    "        df = pd.merge(df, shifted, on=agg_columns[:-1], how='left')\n",
    "        df[col+'_lag_'+str(i)] = df[col+'_lag_'+str(i)].fillna(0)\n",
    "    df = df.drop(columns=col)\n",
    "    return df"
   ]
  },
  {
   "cell_type": "code",
   "execution_count": null,
   "id": "86fb5fc2",
   "metadata": {},
   "outputs": [],
   "source": [
    "full_data = lag_feature(full_data, [2,3], ['week_num','commodity_group'], 'revanue_grouped_week_num_commodity_group_mean')\n",
    "full_data = lag_feature(full_data, [2,3], ['week_num','cityId'], 'revanue_grouped_week_num_cityId_mean')\n",
    "full_data = lag_feature(full_data, [2,3], ['week_num','geoCluster'], 'revanue_grouped_week_num_geoCluster_mean')\n",
    "full_data = lag_feature(full_data, [2,3], ['week_num','geoCluster'], 'revanue_grouped_week_num_geoCluster_sum')"
   ]
  },
  {
   "cell_type": "code",
   "execution_count": null,
   "id": "af6ca8e0",
   "metadata": {},
   "outputs": [],
   "source": [
    "full_data = lag_feature(full_data, [2,3], ['week_num','commodity_group'], 'sales_grouped_week_num_commodity_group_mean')\n",
    "full_data = lag_feature(full_data, [2,3], ['week_num','cityId'], 'sales_grouped_week_num_cityId_mean')\n",
    "full_data = lag_feature(full_data, [2,3], ['week_num','geoCluster'], 'sales_grouped_week_num_geoCluster_mean')\n",
    "full_data = lag_feature(full_data, [2,3], ['week_num','geoCluster'], 'sales_grouped_week_num_geoCluster_sum')"
   ]
  },
  {
   "cell_type": "code",
   "execution_count": null,
   "id": "817d6a38",
   "metadata": {},
   "outputs": [],
   "source": [
    "full_data = lag_feature(full_data, [2,3], ['week_num','SKU'], 'sales_grouped_week_num_SKU_mean')\n",
    "full_data = lag_feature(full_data, [2,3], ['week_num','SKU'], 'sales_grouped_week_num_SKU_sum')"
   ]
  },
  {
   "cell_type": "code",
   "execution_count": null,
   "id": "15caf4bb",
   "metadata": {},
   "outputs": [],
   "source": [
    "full_data = lag_feature(full_data, [2,3], ['week_num','SKU'], 'revanue_grouped_week_num_SKU_sum')\n",
    "full_data = lag_feature(full_data, [2,3], ['week_num','SKU'], 'revanue_grouped_week_num_SKU_mean')"
   ]
  },
  {
   "cell_type": "code",
   "execution_count": null,
   "id": "3f359686",
   "metadata": {},
   "outputs": [],
   "source": [
    "full_data = lag_feature(full_data, [2,3], ['week_num','SKU','commodity_group'], 'revanue_grouped_week_num_SKU_commodity_group_sum')\n",
    "full_data = lag_feature(full_data, [2,3], ['week_num','SKU','commodity_group'], 'revanue_grouped_week_num_SKU_commodity_group_mean')"
   ]
  },
  {
   "cell_type": "code",
   "execution_count": null,
   "id": "4c9c17c1",
   "metadata": {},
   "outputs": [],
   "source": [
    "full_data = lag_feature(full_data, [2,3], ['week_num','SKU','geoCluster'], 'revanue_grouped_week_num_SKU_geoCluster_sum')\n",
    "full_data = lag_feature(full_data, [2,3], ['week_num','SKU','geoCluster'], 'revanue_grouped_week_num_SKU_geoCluster_mean')"
   ]
  },
  {
   "cell_type": "code",
   "execution_count": null,
   "id": "66fb4c5d",
   "metadata": {},
   "outputs": [],
   "source": [
    "full_data = lag_feature(full_data, [2,3], ['week_num','SKU','commodity_group'], 'sales_grouped_week_num_SKU_commodity_group_sum')\n"
   ]
  },
  {
   "cell_type": "code",
   "execution_count": null,
   "id": "d75797c0",
   "metadata": {},
   "outputs": [],
   "source": [
    "full_data = lag_feature(full_data, [2,3], ['week_num','SKU','commodity_group'], 'sales_grouped_week_num_SKU_commodity_group_mean')"
   ]
  },
  {
   "cell_type": "code",
   "execution_count": null,
   "id": "ed23765b",
   "metadata": {},
   "outputs": [],
   "source": [
    "full_data = lag_feature(full_data, [2,3], ['week_num','SKU','geoCluster'], 'sales_grouped_week_num_SKU_geoCluster_sum')\n",
    "full_data = lag_feature(full_data, [2,3], ['week_num','SKU','geoCluster'], 'sales_grouped_week_num_SKU_geoCluster_mean')"
   ]
  },
  {
   "cell_type": "code",
   "execution_count": null,
   "id": "0f801273",
   "metadata": {},
   "outputs": [],
   "source": [
    "full_data.info()"
   ]
  },
  {
   "cell_type": "markdown",
   "id": "1ed1344c",
   "metadata": {},
   "source": [
    "### tf idf features"
   ]
  },
  {
   "cell_type": "code",
   "execution_count": null,
   "id": "20ce97d6",
   "metadata": {},
   "outputs": [],
   "source": [
    "sku_meta = pd.read_csv('../sku_final.csv')"
   ]
  },
  {
   "cell_type": "code",
   "execution_count": null,
   "id": "699cd87d",
   "metadata": {},
   "outputs": [],
   "source": [
    "sku_meta['productCategory_caption_RU'] = sku_meta['productCategory_caption_RU'].str.lower()"
   ]
  },
  {
   "cell_type": "code",
   "execution_count": null,
   "id": "038a69a5",
   "metadata": {},
   "outputs": [],
   "source": [
    "sku_meta['SKU'].max()\n"
   ]
  },
  {
   "cell_type": "code",
   "execution_count": null,
   "id": "dc93293a",
   "metadata": {},
   "outputs": [],
   "source": [
    "full_data['SKU'].max()"
   ]
  },
  {
   "cell_type": "code",
   "execution_count": null,
   "id": "1d1704cd",
   "metadata": {},
   "outputs": [],
   "source": [
    "sku_meta['SKU'].max()"
   ]
  },
  {
   "cell_type": "code",
   "execution_count": null,
   "id": "c54bcc16",
   "metadata": {},
   "outputs": [],
   "source": [
    "sku_meta['SKU'].max()"
   ]
  },
  {
   "cell_type": "code",
   "execution_count": null,
   "id": "3df3cff6",
   "metadata": {},
   "outputs": [],
   "source": [
    "len(set(sku_meta['SKU'].unique()).difference(full_data['SKU'].unique()))"
   ]
  },
  {
   "cell_type": "code",
   "execution_count": null,
   "id": "5aef84ae",
   "metadata": {},
   "outputs": [],
   "source": [
    "description = np.hstack(sku_meta['productCategory_caption_RU'].apply(lambda x: x.split(' ')))\n",
    "unique_tokens_desc, frequency_desc = np.unique(description, return_counts=True)"
   ]
  },
  {
   "cell_type": "code",
   "execution_count": null,
   "id": "0e7be83e",
   "metadata": {},
   "outputs": [],
   "source": [
    "tokens = sorted(list(zip(unique_tokens_desc, frequency_desc)),key=lambda x: x[1])[::-1]"
   ]
  },
  {
   "cell_type": "code",
   "execution_count": null,
   "id": "28b6c5ed",
   "metadata": {},
   "outputs": [],
   "source": [
    "top_tokens = [i[0] for i in tokens[1:21]]"
   ]
  },
  {
   "cell_type": "code",
   "execution_count": null,
   "id": "c49542a1",
   "metadata": {},
   "outputs": [],
   "source": [
    "top_tokens"
   ]
  },
  {
   "cell_type": "code",
   "execution_count": null,
   "id": "525b6f94",
   "metadata": {},
   "outputs": [],
   "source": [
    "from sklearn.feature_extraction.text import TfidfVectorizer"
   ]
  },
  {
   "cell_type": "code",
   "execution_count": null,
   "id": "f59ffc46",
   "metadata": {},
   "outputs": [],
   "source": [
    "vectorizer = TfidfVectorizer()"
   ]
  },
  {
   "cell_type": "code",
   "execution_count": null,
   "id": "953bba4f",
   "metadata": {},
   "outputs": [],
   "source": [
    "tfidf_result = vectorizer.fit_transform(sku_meta['productCategory_caption_RU'])"
   ]
  },
  {
   "cell_type": "code",
   "execution_count": null,
   "id": "2642864a",
   "metadata": {},
   "outputs": [],
   "source": [
    "tfidf_result = pd.DataFrame(tfidf_result.todense(), columns=vectorizer.get_feature_names())"
   ]
  },
  {
   "cell_type": "code",
   "execution_count": null,
   "id": "0bfab022",
   "metadata": {},
   "outputs": [],
   "source": [
    "meta = pd.concat([sku_meta[['SKU']], tfidf_result[top_tokens]], axis=1)"
   ]
  },
  {
   "cell_type": "code",
   "execution_count": null,
   "id": "f140431f",
   "metadata": {},
   "outputs": [],
   "source": [
    "meta.head()"
   ]
  },
  {
   "cell_type": "code",
   "execution_count": null,
   "id": "a16ba5a5",
   "metadata": {},
   "outputs": [],
   "source": [
    "meta.shape"
   ]
  },
  {
   "cell_type": "code",
   "execution_count": null,
   "id": "9b64d051",
   "metadata": {},
   "outputs": [],
   "source": [
    "for i in meta.columns:\n",
    "    if 'float' in str(meta[i].dtype):\n",
    "            meta[i] = meta[i].astype('float16')"
   ]
  },
  {
   "cell_type": "code",
   "execution_count": null,
   "id": "702967eb",
   "metadata": {},
   "outputs": [],
   "source": [
    "len(set(full_data['SKU'].unique()).intersection(meta['SKU']))"
   ]
  },
  {
   "cell_type": "code",
   "execution_count": null,
   "id": "128b8f49",
   "metadata": {},
   "outputs": [],
   "source": [
    "full_data = full_data.merge(meta, on='SKU', how='left')"
   ]
  },
  {
   "cell_type": "code",
   "execution_count": null,
   "id": "135ffcb0",
   "metadata": {},
   "outputs": [],
   "source": [
    "full_data.info()"
   ]
  },
  {
   "cell_type": "markdown",
   "id": "5ee172da",
   "metadata": {},
   "source": [
    "### holidays feture"
   ]
  },
  {
   "cell_type": "code",
   "execution_count": null,
   "id": "676eede5",
   "metadata": {},
   "outputs": [],
   "source": [
    "!pip install holidays"
   ]
  },
  {
   "cell_type": "code",
   "execution_count": null,
   "id": "5a96bae5",
   "metadata": {},
   "outputs": [],
   "source": [
    "import datetime"
   ]
  },
  {
   "cell_type": "code",
   "execution_count": null,
   "id": "916fc6f4",
   "metadata": {},
   "outputs": [],
   "source": [
    "import holidays\n",
    "ukr_holidays = holidays.Ukraine()\n",
    "ukr_holidays_2020_2021 = {}\n",
    "for date, name in sorted(holidays.Ukraine(years=2020).items()):\n",
    "    print(date, name)\n",
    "    ukr_holidays_2020_2021[date] = name\n",
    "for date, name in sorted(holidays.Ukraine(years=2021).items()):\n",
    "    print(date, name)\n",
    "    ukr_holidays_2020_2021[date] = name\n",
    "\n",
    "ukr_holidays_2020_2021[datetime.datetime(2020, 11, 23)] = 'Black Friday'\n",
    "ukr_holidays_2020_2021[datetime.datetime(2020, 11, 24)] = 'Black Friday'\n",
    "ukr_holidays_2020_2021[datetime.datetime(2020, 11, 25)] = 'Black Friday'\n",
    "ukr_holidays_2020_2021[datetime.datetime(2020, 11, 26)] = 'Black Friday'\n",
    "ukr_holidays_2020_2021[datetime.datetime(2020, 11, 27)] = 'Black Friday'\n",
    "ukr_holidays_2020_2021[datetime.datetime(2020, 11, 28)] = 'Black Friday'\n",
    "ukr_holidays_2020_2021[datetime.datetime(2020, 11, 29)] = 'Black Friday'\n",
    "ukr_holidays_2020_2021_df = pd.DataFrame.from_dict(data = ukr_holidays_2020_2021.items())\n",
    "ukr_holidays_2020_2021_df.columns = ['date','holliday_name']\n",
    "ukr_holidays_2020_2021_df['date'] = pd.to_datetime(ukr_holidays_2020_2021_df['date'])\n",
    "ukr_holidays_2020_2021_df['is_holiday'] = 1"
   ]
  },
  {
   "cell_type": "code",
   "execution_count": null,
   "id": "d53dc544",
   "metadata": {},
   "outputs": [],
   "source": [
    "ukr_holidays_2020_2021_df.head()"
   ]
  },
  {
   "cell_type": "code",
   "execution_count": null,
   "id": "968ebffb",
   "metadata": {},
   "outputs": [],
   "source": [
    "full_data = pd.merge(full_data, ukr_holidays_2020_2021_df[['date','is_holiday']], on = 'date', how='left')\n",
    "full_data['is_holiday'].fillna(0, inplace = True)"
   ]
  },
  {
   "cell_type": "code",
   "execution_count": null,
   "id": "9a226571",
   "metadata": {},
   "outputs": [],
   "source": [
    "full_data.shape[0]==29622473"
   ]
  },
  {
   "cell_type": "code",
   "execution_count": null,
   "id": "05d006cd",
   "metadata": {},
   "outputs": [],
   "source": [
    "full_data = change_type(full_data, 'is_holiday','uint8')"
   ]
  },
  {
   "cell_type": "markdown",
   "id": "d3b750ba",
   "metadata": {},
   "source": [
    "### lockdown feature"
   ]
  },
  {
   "cell_type": "code",
   "execution_count": null,
   "id": "e8fbfd3f",
   "metadata": {},
   "outputs": [],
   "source": [
    "lock_down = pd.read_csv('lockdown.csv')"
   ]
  },
  {
   "cell_type": "code",
   "execution_count": null,
   "id": "2526b59e",
   "metadata": {},
   "outputs": [],
   "source": [
    "lock_down.head()"
   ]
  },
  {
   "cell_type": "code",
   "execution_count": null,
   "id": "9cd8235c",
   "metadata": {},
   "outputs": [],
   "source": [
    "lock_down.shape"
   ]
  },
  {
   "cell_type": "code",
   "execution_count": null,
   "id": "3d94dec0",
   "metadata": {},
   "outputs": [],
   "source": [
    "(lock_down==1).sum()"
   ]
  },
  {
   "cell_type": "code",
   "execution_count": null,
   "id": "8229ea76",
   "metadata": {},
   "outputs": [],
   "source": [
    "lock_down['date'] = pd.to_datetime(lock_down['date'])"
   ]
  },
  {
   "cell_type": "code",
   "execution_count": null,
   "id": "f99fa82a",
   "metadata": {},
   "outputs": [],
   "source": [
    "full_data = full_data.merge(lock_down, on='date', how='left')\n",
    "full_data['lockdown'].fillna(0, inplace=True)"
   ]
  },
  {
   "cell_type": "code",
   "execution_count": null,
   "id": "333b7193",
   "metadata": {},
   "outputs": [],
   "source": [
    "full_data = change_type(full_data, 'lockdown','uint8')"
   ]
  },
  {
   "cell_type": "markdown",
   "id": "e98f75bc",
   "metadata": {},
   "source": [
    "### Leaving only features of interest"
   ]
  },
  {
   "cell_type": "code",
   "execution_count": null,
   "id": "5a29242c",
   "metadata": {},
   "outputs": [],
   "source": [
    "full_data.columns"
   ]
  },
  {
   "cell_type": "code",
   "execution_count": null,
   "id": "2b7cc6de",
   "metadata": {},
   "outputs": [],
   "source": [
    "full_data = full_data.drop(columns=['revanue'])"
   ]
  },
  {
   "cell_type": "markdown",
   "id": "32980c35",
   "metadata": {},
   "source": [
    "### train-test-submission split"
   ]
  },
  {
   "cell_type": "code",
   "execution_count": null,
   "id": "440203ea",
   "metadata": {},
   "outputs": [],
   "source": [
    "full_data.isna().sum()"
   ]
  },
  {
   "cell_type": "code",
   "execution_count": null,
   "id": "7b9a4233",
   "metadata": {},
   "outputs": [],
   "source": [
    "sub_data = full_data[full_data['date'].isin(dates_test)]\n",
    "train_data = full_data[~full_data['date'].isin(dates_test)]"
   ]
  },
  {
   "cell_type": "code",
   "execution_count": null,
   "id": "5d155f46",
   "metadata": {},
   "outputs": [],
   "source": [
    "del full_data;\n",
    "gc.collect();"
   ]
  },
  {
   "cell_type": "code",
   "execution_count": null,
   "id": "55f16bb4",
   "metadata": {},
   "outputs": [],
   "source": [
    "import datetime"
   ]
  },
  {
   "cell_type": "code",
   "execution_count": null,
   "id": "1ef5b5a2",
   "metadata": {},
   "outputs": [],
   "source": [
    "max_date = train_data['date'].max()\n",
    "min_date = max_date-datetime.timedelta(days=14)"
   ]
  },
  {
   "cell_type": "code",
   "execution_count": null,
   "id": "d56884e2",
   "metadata": {},
   "outputs": [],
   "source": [
    "dates_val = pd.date_range(min_date, max_date)"
   ]
  },
  {
   "cell_type": "code",
   "execution_count": null,
   "id": "154817a3",
   "metadata": {},
   "outputs": [],
   "source": [
    "val_data = train_data[train_data['date'].isin(dates_val)]"
   ]
  },
  {
   "cell_type": "code",
   "execution_count": null,
   "id": "6cd9c3d6",
   "metadata": {},
   "outputs": [],
   "source": [
    "val_data.shape"
   ]
  },
  {
   "cell_type": "code",
   "execution_count": null,
   "id": "3ef331f9",
   "metadata": {},
   "outputs": [],
   "source": [
    "train_data = train_data[~train_data['date'].isin(dates_val)]"
   ]
  },
  {
   "cell_type": "markdown",
   "id": "86a58957",
   "metadata": {},
   "source": [
    "# Training "
   ]
  },
  {
   "cell_type": "code",
   "execution_count": null,
   "id": "c18de872",
   "metadata": {},
   "outputs": [],
   "source": [
    "!pip install lightgbm"
   ]
  },
  {
   "cell_type": "code",
   "execution_count": null,
   "id": "7cba4764",
   "metadata": {},
   "outputs": [],
   "source": [
    "import lightgbm as lgb"
   ]
  },
  {
   "cell_type": "code",
   "execution_count": null,
   "id": "da6e4de9",
   "metadata": {},
   "outputs": [],
   "source": [
    "train_data.columns"
   ]
  },
  {
   "cell_type": "code",
   "execution_count": null,
   "id": "fe5f0b34",
   "metadata": {},
   "outputs": [],
   "source": [
    "train_X = train_data.drop(columns=['sales','ID','date','week_num','productCategory_caption_RU','year'])"
   ]
  },
  {
   "cell_type": "code",
   "execution_count": null,
   "id": "2a488908",
   "metadata": {},
   "outputs": [],
   "source": [
    "dict_mapping = {'собств':'sobstv', 'производства':'proizvodstva',\n",
    "'сыры':'siri', 'начинкой':'na4inkoi', 'вода':'voda', 'произв':'proizv', \n",
    "'собственного':'sobstvennogo', 'йогурты' : 'yogurty',\n",
    "'полутвердые':'polytverdie', 'украины':'ukraini', 'без':'bez', 'молочные':'molochnie',\n",
    "'сдоба':'sdoba', 'хлеб':'hleb', 'допек':'dopek',\n",
    "'десерты':'deserti', 'добавками':'dobavkami', 'газированная':'gzirovanaya', \n",
    "'добавок':'dobavok', 'импортная':'importnaya'}"
   ]
  },
  {
   "cell_type": "code",
   "execution_count": null,
   "id": "a22d5bde",
   "metadata": {},
   "outputs": [],
   "source": [
    "train_X = train_X.rename(columns=dict_mapping)"
   ]
  },
  {
   "cell_type": "code",
   "execution_count": null,
   "id": "f0325725",
   "metadata": {},
   "outputs": [],
   "source": [
    "train_y = train_data['sales']"
   ]
  },
  {
   "cell_type": "code",
   "execution_count": null,
   "id": "30dd34f5",
   "metadata": {},
   "outputs": [],
   "source": [
    "val_X = val_data.drop(columns=['sales','ID','date','week_num','productCategory_caption_RU','year'])"
   ]
  },
  {
   "cell_type": "code",
   "execution_count": null,
   "id": "4d47853b",
   "metadata": {},
   "outputs": [],
   "source": [
    "val_X = val_X.rename(columns=dict_mapping)"
   ]
  },
  {
   "cell_type": "code",
   "execution_count": null,
   "id": "7570cf39",
   "metadata": {},
   "outputs": [],
   "source": [
    "val_y = val_data['sales']"
   ]
  },
  {
   "cell_type": "code",
   "execution_count": null,
   "id": "9a2de597",
   "metadata": {},
   "outputs": [],
   "source": [
    "del sku_meta, test_data;\n",
    "gc.collect();"
   ]
  },
  {
   "cell_type": "code",
   "execution_count": null,
   "id": "94e96cc2",
   "metadata": {},
   "outputs": [],
   "source": [
    "# lgb_model = lgb.LGBMRegressor(feature_fraction= 0.75,\n",
    "#                metric = 'mae',\n",
    "#                max_depth = 16, \n",
    "#                min_data_in_leaf = 2**7, \n",
    "#                bagging_fraction = 0.75, \n",
    "#                learning_rate = 0.03, \n",
    "#                objective = 'mae', \n",
    "#                bagging_seed = 2**7, \n",
    "#                num_leaves = 200,\n",
    "#                bagging_freq =1,\n",
    "#                verbose = 1,\n",
    "#             random_state=5,\n",
    "#                              n_estimators=100)\n",
    "# lgb_model.fit(train_X,train_y,eval_metric=\"mae\", \n",
    "#     eval_set=[(val_X, val_y)], \n",
    "#     verbose=True, \n",
    "#     early_stopping_rounds = 10)"
   ]
  },
  {
   "cell_type": "code",
   "execution_count": null,
   "id": "5a3763ae",
   "metadata": {},
   "outputs": [],
   "source": [
    "# from lightgbm import plot_importance\n"
   ]
  },
  {
   "cell_type": "code",
   "execution_count": null,
   "id": "49f0008b",
   "metadata": {},
   "outputs": [],
   "source": [
    "# plot_importance(lgb_model,ax=plt.subplots(1,1,figsize=(15,12))[1])"
   ]
  },
  {
   "cell_type": "code",
   "execution_count": null,
   "id": "f6c1d497",
   "metadata": {},
   "outputs": [],
   "source": [
    "del lgb_model;\n",
    "gc.collect();"
   ]
  },
  {
   "cell_type": "code",
   "execution_count": null,
   "id": "ce7f7406",
   "metadata": {},
   "outputs": [],
   "source": [
    "full_data_X = pd.concat([train_X, val_X],axis=0)"
   ]
  },
  {
   "cell_type": "code",
   "execution_count": null,
   "id": "1714314f",
   "metadata": {},
   "outputs": [],
   "source": [
    "full_data_X.shape"
   ]
  },
  {
   "cell_type": "code",
   "execution_count": null,
   "id": "62a0018b",
   "metadata": {},
   "outputs": [],
   "source": [
    "del train_X, val_X;\n",
    "gc.collect();"
   ]
  },
  {
   "cell_type": "code",
   "execution_count": null,
   "id": "55614743",
   "metadata": {},
   "outputs": [],
   "source": [
    "full_data_y = pd.concat([train_y,val_y],axis=0)"
   ]
  },
  {
   "cell_type": "code",
   "execution_count": null,
   "id": "8094d205",
   "metadata": {},
   "outputs": [],
   "source": [
    "del train_y, val_y;\n",
    "gc.collect();"
   ]
  },
  {
   "cell_type": "markdown",
   "id": "b24158c7",
   "metadata": {},
   "source": [
    "### final train"
   ]
  },
  {
   "cell_type": "code",
   "execution_count": null,
   "id": "a340c2fd",
   "metadata": {},
   "outputs": [],
   "source": [
    "# gc.collect();"
   ]
  },
  {
   "cell_type": "code",
   "execution_count": null,
   "id": "d4b07e77",
   "metadata": {},
   "outputs": [],
   "source": [
    "lgb_model = lgb.LGBMRegressor(feature_fraction= 0.75,\n",
    "               metric = 'mae',\n",
    "               max_depth = 16, \n",
    "               min_data_in_leaf = 2**7, \n",
    "               bagging_fraction = 0.75, \n",
    "               learning_rate = 0.03, \n",
    "               objective = 'mae', \n",
    "               bagging_seed = 2**7, \n",
    "               num_leaves = 200,\n",
    "               bagging_freq =1,\n",
    "               verbose = 1,\n",
    "            random_state=5,\n",
    "                             n_estimators=100)\n",
    "lgb_model.fit(full_data_X,full_data_y,eval_metric=\"mae\", \n",
    "    eval_set=[(full_data_X, full_data_y)], \n",
    "    verbose=True, \n",
    "    early_stopping_rounds = 10)"
   ]
  },
  {
   "cell_type": "markdown",
   "id": "cff7febd",
   "metadata": {},
   "source": [
    "### prediction for submission"
   ]
  },
  {
   "cell_type": "code",
   "execution_count": null,
   "id": "74321961",
   "metadata": {},
   "outputs": [],
   "source": [
    "sub_X = sub_data.drop(columns=['sales','ID','date','week_num','productCategory_caption_RU','year'])"
   ]
  },
  {
   "cell_type": "code",
   "execution_count": null,
   "id": "12842b47",
   "metadata": {},
   "outputs": [],
   "source": [
    "sub_X = sub_X.rename(columns=dict_mapping)"
   ]
  },
  {
   "cell_type": "code",
   "execution_count": null,
   "id": "b14e9cb8",
   "metadata": {},
   "outputs": [],
   "source": [
    "prediction = lgb_model.predict(sub_X)"
   ]
  },
  {
   "cell_type": "code",
   "execution_count": null,
   "id": "54eca87a",
   "metadata": {},
   "outputs": [],
   "source": [
    "np.mean(prediction)"
   ]
  },
  {
   "cell_type": "code",
   "execution_count": null,
   "id": "2e4e4b2c",
   "metadata": {},
   "outputs": [],
   "source": [
    "len(prediction)"
   ]
  },
  {
   "cell_type": "code",
   "execution_count": null,
   "id": "15ba31ac",
   "metadata": {},
   "outputs": [],
   "source": [
    "sub_data['sales'] = prediction"
   ]
  },
  {
   "cell_type": "code",
   "execution_count": null,
   "id": "112c85d3",
   "metadata": {},
   "outputs": [],
   "source": [
    "sub_data.loc[sub_data['sales']<0,'sales']= 0"
   ]
  },
  {
   "cell_type": "code",
   "execution_count": null,
   "id": "aea266e5",
   "metadata": {},
   "outputs": [],
   "source": [
    "sub_data['sales'].mean()"
   ]
  },
  {
   "cell_type": "code",
   "execution_count": null,
   "id": "d80110cf",
   "metadata": {},
   "outputs": [],
   "source": [
    "sub_data = sub_data[['ID','sales']]"
   ]
  },
  {
   "cell_type": "code",
   "execution_count": null,
   "id": "cad36095",
   "metadata": {},
   "outputs": [],
   "source": [
    "sub_data.to_csv('submission_6.csv',index=False)"
   ]
  },
  {
   "cell_type": "code",
   "execution_count": null,
   "id": "aaf697f6",
   "metadata": {},
   "outputs": [],
   "source": []
  }
 ],
 "metadata": {
  "kernelspec": {
   "display_name": "conda_amazonei_tensorflow2_p36",
   "language": "python",
   "name": "conda_amazonei_tensorflow2_p36"
  },
  "language_info": {
   "codemirror_mode": {
    "name": "ipython",
    "version": 3
   },
   "file_extension": ".py",
   "mimetype": "text/x-python",
   "name": "python",
   "nbconvert_exporter": "python",
   "pygments_lexer": "ipython3",
   "version": "3.6.13"
  }
 },
 "nbformat": 4,
 "nbformat_minor": 5
}
