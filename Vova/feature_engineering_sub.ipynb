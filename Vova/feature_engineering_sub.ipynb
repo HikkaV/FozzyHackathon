{
 "cells": [
  {
   "cell_type": "code",
   "execution_count": 1,
   "id": "d9e9f2ef",
   "metadata": {},
   "outputs": [],
   "source": [
    "import pandas as pd\n",
    "import matplotlib.pyplot as plt\n",
    "import seaborn as sns\n",
    "import numpy as np\n",
    "import tqdm\n",
    "sns.set()"
   ]
  },
  {
   "cell_type": "code",
   "execution_count": 2,
   "id": "c5c942cf",
   "metadata": {},
   "outputs": [],
   "source": [
    "def change_type(df, col, type_):\n",
    "    df[col] = df[col].astype(type_)\n",
    "    return df"
   ]
  },
  {
   "cell_type": "code",
   "execution_count": 3,
   "id": "e2607eb4",
   "metadata": {},
   "outputs": [],
   "source": [
    "train_data = pd.read_csv('train_data.csv')"
   ]
  },
  {
   "cell_type": "code",
   "execution_count": 4,
   "id": "71ff2f9d",
   "metadata": {},
   "outputs": [
    {
     "data": {
      "text/plain": [
       "(27956445, 17)"
      ]
     },
     "execution_count": 4,
     "metadata": {},
     "output_type": "execute_result"
    }
   ],
   "source": [
    "train_data.shape"
   ]
  },
  {
   "cell_type": "code",
   "execution_count": 5,
   "id": "7a55ddfe",
   "metadata": {},
   "outputs": [
    {
     "name": "stdout",
     "output_type": "stream",
     "text": [
      "<class 'pandas.core.frame.DataFrame'>\n",
      "RangeIndex: 27956445 entries, 0 to 27956444\n",
      "Data columns (total 17 columns):\n",
      " #   Column                      Dtype  \n",
      "---  ------                      -----  \n",
      " 0   ID                          object \n",
      " 1   geoCluster                  int64  \n",
      " 2   SKU                         int64  \n",
      " 3   date                        object \n",
      " 4   sales                       float64\n",
      " 5   month                       int64  \n",
      " 6   day                         int64  \n",
      " 7   weekday                     int64  \n",
      " 8   week_num                    int64  \n",
      " 9   lagerUnitType_caption       object \n",
      " 10  commodity_group             int64  \n",
      " 11  productCategory_caption_RU  object \n",
      " 12  cityId                      int64  \n",
      " 13  price                       float64\n",
      " 14  lagerUnitQuantity           float64\n",
      " 15  lagerUnitTypeId             int64  \n",
      " 16  revanue                     float64\n",
      "dtypes: float64(4), int64(9), object(4)\n",
      "memory usage: 3.5+ GB\n"
     ]
    }
   ],
   "source": [
    "train_data.info()"
   ]
  },
  {
   "cell_type": "code",
   "execution_count": 6,
   "id": "9af187e1",
   "metadata": {},
   "outputs": [
    {
     "data": {
      "text/plain": [
       "198"
      ]
     },
     "execution_count": 6,
     "metadata": {},
     "output_type": "execute_result"
    }
   ],
   "source": [
    "train_data.commodity_group.max()"
   ]
  },
  {
   "cell_type": "code",
   "execution_count": 7,
   "id": "73118c0a",
   "metadata": {},
   "outputs": [
    {
     "data": {
      "text/plain": [
       "25"
      ]
     },
     "execution_count": 7,
     "metadata": {},
     "output_type": "execute_result"
    }
   ],
   "source": [
    "train_data.cityId.max()"
   ]
  },
  {
   "cell_type": "code",
   "execution_count": 8,
   "id": "762054f0",
   "metadata": {},
   "outputs": [
    {
     "data": {
      "text/plain": [
       "6"
      ]
     },
     "execution_count": 8,
     "metadata": {},
     "output_type": "execute_result"
    }
   ],
   "source": [
    "train_data.lagerUnitTypeId.max()"
   ]
  },
  {
   "cell_type": "code",
   "execution_count": 9,
   "id": "2be695b0",
   "metadata": {},
   "outputs": [
    {
     "data": {
      "text/plain": [
       "873803"
      ]
     },
     "execution_count": 9,
     "metadata": {},
     "output_type": "execute_result"
    }
   ],
   "source": [
    "train_data.SKU.max()"
   ]
  },
  {
   "cell_type": "code",
   "execution_count": 10,
   "id": "a1f143aa",
   "metadata": {},
   "outputs": [
    {
     "data": {
      "text/plain": [
       "3230"
      ]
     },
     "execution_count": 10,
     "metadata": {},
     "output_type": "execute_result"
    }
   ],
   "source": [
    "train_data.geoCluster.max()"
   ]
  },
  {
   "cell_type": "code",
   "execution_count": 11,
   "id": "8dc39ce3",
   "metadata": {},
   "outputs": [],
   "source": [
    "train_data = change_type(train_data, 'geoCluster', 'uint16')\n",
    "train_data = change_type(train_data, 'SKU', 'uint32')\n",
    "train_data = change_type(train_data, 'commodity_group', 'uint8')\n",
    "train_data = change_type(train_data, 'cityId', 'uint8')\n",
    "train_data = change_type(train_data, 'lagerUnitTypeId', 'uint8')"
   ]
  },
  {
   "cell_type": "code",
   "execution_count": 12,
   "id": "ee1d97e0",
   "metadata": {},
   "outputs": [
    {
     "name": "stdout",
     "output_type": "stream",
     "text": [
      "<class 'pandas.core.frame.DataFrame'>\n",
      "RangeIndex: 27956445 entries, 0 to 27956444\n",
      "Data columns (total 17 columns):\n",
      " #   Column                      Dtype  \n",
      "---  ------                      -----  \n",
      " 0   ID                          object \n",
      " 1   geoCluster                  uint16 \n",
      " 2   SKU                         uint32 \n",
      " 3   date                        object \n",
      " 4   sales                       float64\n",
      " 5   month                       int64  \n",
      " 6   day                         int64  \n",
      " 7   weekday                     int64  \n",
      " 8   week_num                    int64  \n",
      " 9   lagerUnitType_caption       object \n",
      " 10  commodity_group             uint8  \n",
      " 11  productCategory_caption_RU  object \n",
      " 12  cityId                      uint8  \n",
      " 13  price                       float64\n",
      " 14  lagerUnitQuantity           float64\n",
      " 15  lagerUnitTypeId             uint8  \n",
      " 16  revanue                     float64\n",
      "dtypes: float64(4), int64(4), object(4), uint16(1), uint32(1), uint8(3)\n",
      "memory usage: 2.7+ GB\n"
     ]
    }
   ],
   "source": [
    "train_data.info()"
   ]
  },
  {
   "cell_type": "code",
   "execution_count": 13,
   "id": "739d7dab",
   "metadata": {},
   "outputs": [],
   "source": [
    "sku_meta = pd.read_csv('../sku_final.csv')"
   ]
  },
  {
   "cell_type": "code",
   "execution_count": 14,
   "id": "b1644fd1",
   "metadata": {},
   "outputs": [],
   "source": [
    "geo_params = pd.read_csv('../geo_params.csv')"
   ]
  },
  {
   "cell_type": "code",
   "execution_count": 15,
   "id": "c2846d4b",
   "metadata": {},
   "outputs": [],
   "source": [
    "test_data = pd.read_csv('../test_data.csv')"
   ]
  },
  {
   "cell_type": "code",
   "execution_count": 16,
   "id": "ae5927ae",
   "metadata": {},
   "outputs": [
    {
     "data": {
      "text/html": [
       "<div>\n",
       "<style scoped>\n",
       "    .dataframe tbody tr th:only-of-type {\n",
       "        vertical-align: middle;\n",
       "    }\n",
       "\n",
       "    .dataframe tbody tr th {\n",
       "        vertical-align: top;\n",
       "    }\n",
       "\n",
       "    .dataframe thead th {\n",
       "        text-align: right;\n",
       "    }\n",
       "</style>\n",
       "<table border=\"1\" class=\"dataframe\">\n",
       "  <thead>\n",
       "    <tr style=\"text-align: right;\">\n",
       "      <th></th>\n",
       "      <th>ID</th>\n",
       "      <th>geoCluster</th>\n",
       "      <th>SKU</th>\n",
       "      <th>date</th>\n",
       "      <th>price</th>\n",
       "    </tr>\n",
       "  </thead>\n",
       "  <tbody>\n",
       "    <tr>\n",
       "      <th>0</th>\n",
       "      <td>RR1666030</td>\n",
       "      <td>21</td>\n",
       "      <td>32485</td>\n",
       "      <td>2021-07-20</td>\n",
       "      <td>66.69</td>\n",
       "    </tr>\n",
       "    <tr>\n",
       "      <th>1</th>\n",
       "      <td>RR1666031</td>\n",
       "      <td>21</td>\n",
       "      <td>32485</td>\n",
       "      <td>2021-07-21</td>\n",
       "      <td>66.69</td>\n",
       "    </tr>\n",
       "    <tr>\n",
       "      <th>2</th>\n",
       "      <td>RR1666032</td>\n",
       "      <td>21</td>\n",
       "      <td>32485</td>\n",
       "      <td>2021-07-22</td>\n",
       "      <td>66.69</td>\n",
       "    </tr>\n",
       "    <tr>\n",
       "      <th>3</th>\n",
       "      <td>RR1666033</td>\n",
       "      <td>21</td>\n",
       "      <td>32485</td>\n",
       "      <td>2021-07-23</td>\n",
       "      <td>66.69</td>\n",
       "    </tr>\n",
       "    <tr>\n",
       "      <th>4</th>\n",
       "      <td>RR1666034</td>\n",
       "      <td>21</td>\n",
       "      <td>32485</td>\n",
       "      <td>2021-07-24</td>\n",
       "      <td>66.69</td>\n",
       "    </tr>\n",
       "  </tbody>\n",
       "</table>\n",
       "</div>"
      ],
      "text/plain": [
       "          ID  geoCluster    SKU        date  price\n",
       "0  RR1666030          21  32485  2021-07-20  66.69\n",
       "1  RR1666031          21  32485  2021-07-21  66.69\n",
       "2  RR1666032          21  32485  2021-07-22  66.69\n",
       "3  RR1666033          21  32485  2021-07-23  66.69\n",
       "4  RR1666034          21  32485  2021-07-24  66.69"
      ]
     },
     "execution_count": 16,
     "metadata": {},
     "output_type": "execute_result"
    }
   ],
   "source": [
    "test_data.head()"
   ]
  },
  {
   "cell_type": "code",
   "execution_count": 17,
   "id": "a957c1c9",
   "metadata": {},
   "outputs": [],
   "source": [
    "train_data = train_data.sort_values(by=['week_num'])"
   ]
  },
  {
   "cell_type": "code",
   "execution_count": 18,
   "id": "64ea8e15",
   "metadata": {},
   "outputs": [
    {
     "data": {
      "text/plain": [
       "array([ 1,  2,  3,  4,  5,  6,  7,  8,  9, 10, 11, 12, 13, 14, 15, 16, 17,\n",
       "       18, 19, 20, 21, 22, 23, 24, 25, 26, 27, 28, 29, 30, 31, 32, 33, 34,\n",
       "       35, 36, 37, 38, 39, 40, 41, 42, 43, 44, 45, 46, 47, 48, 49, 50, 51,\n",
       "       52, 53])"
      ]
     },
     "execution_count": 18,
     "metadata": {},
     "output_type": "execute_result"
    }
   ],
   "source": [
    "train_data['week_num'].unique()"
   ]
  },
  {
   "cell_type": "code",
   "execution_count": 19,
   "id": "911b8959",
   "metadata": {},
   "outputs": [
    {
     "data": {
      "text/plain": [
       "0.24557248818772717"
      ]
     },
     "execution_count": 19,
     "metadata": {},
     "output_type": "execute_result"
    }
   ],
   "source": [
    "train_data[train_data['week_num'].isin([51,53])].sales.mean()"
   ]
  },
  {
   "cell_type": "code",
   "execution_count": 20,
   "id": "d4ad26f9",
   "metadata": {},
   "outputs": [
    {
     "data": {
      "text/plain": [
       "2043    12950\n",
       "2022    12558\n",
       "2049    12516\n",
       "2735    11984\n",
       "1935    11648\n",
       "        ...  \n",
       "2953       14\n",
       "607        14\n",
       "3095       14\n",
       "149        14\n",
       "287        14\n",
       "Name: geoCluster, Length: 515, dtype: int64"
      ]
     },
     "execution_count": 20,
     "metadata": {},
     "output_type": "execute_result"
    }
   ],
   "source": [
    "test_data['geoCluster'].value_counts()"
   ]
  },
  {
   "cell_type": "code",
   "execution_count": 21,
   "id": "a1963b88",
   "metadata": {},
   "outputs": [],
   "source": [
    "train_data = train_data.sort_values(by=['geoCluster', 'SKU','date'])"
   ]
  },
  {
   "cell_type": "code",
   "execution_count": 22,
   "id": "641bc493",
   "metadata": {},
   "outputs": [],
   "source": [
    "test_data = test_data.merge(sku_meta, on='SKU', how='inner')\n",
    "test_data = test_data.merge(geo_params, on=['geoCluster'], how='inner')"
   ]
  },
  {
   "cell_type": "code",
   "execution_count": 23,
   "id": "a2dc0ebb",
   "metadata": {},
   "outputs": [
    {
     "data": {
      "text/plain": [
       "(1666028, 25)"
      ]
     },
     "execution_count": 23,
     "metadata": {},
     "output_type": "execute_result"
    }
   ],
   "source": [
    "test_data.shape"
   ]
  },
  {
   "cell_type": "code",
   "execution_count": 24,
   "id": "ae5141ae",
   "metadata": {},
   "outputs": [
    {
     "data": {
      "text/html": [
       "<div>\n",
       "<style scoped>\n",
       "    .dataframe tbody tr th:only-of-type {\n",
       "        vertical-align: middle;\n",
       "    }\n",
       "\n",
       "    .dataframe tbody tr th {\n",
       "        vertical-align: top;\n",
       "    }\n",
       "\n",
       "    .dataframe thead th {\n",
       "        text-align: right;\n",
       "    }\n",
       "</style>\n",
       "<table border=\"1\" class=\"dataframe\">\n",
       "  <thead>\n",
       "    <tr style=\"text-align: right;\">\n",
       "      <th></th>\n",
       "      <th>ID</th>\n",
       "      <th>geoCluster</th>\n",
       "      <th>SKU</th>\n",
       "      <th>date</th>\n",
       "      <th>price</th>\n",
       "      <th>productCategoryId</th>\n",
       "      <th>productCategory_caption_UKR</th>\n",
       "      <th>productCategory_caption_RU</th>\n",
       "      <th>productCategory_caption_ENG</th>\n",
       "      <th>productTypeId</th>\n",
       "      <th>...</th>\n",
       "      <th>lagerUnitTypeId</th>\n",
       "      <th>lagerUnitType_caption</th>\n",
       "      <th>trademark</th>\n",
       "      <th>countryOfOrigin</th>\n",
       "      <th>countryOfOrigin_caption</th>\n",
       "      <th>commodity_group</th>\n",
       "      <th>commodity_group_caption_UKR</th>\n",
       "      <th>commodity_group_caption_RU</th>\n",
       "      <th>commodity_group_caption_ENG</th>\n",
       "      <th>cityId</th>\n",
       "    </tr>\n",
       "  </thead>\n",
       "  <tbody>\n",
       "    <tr>\n",
       "      <th>0</th>\n",
       "      <td>RR1666030</td>\n",
       "      <td>21</td>\n",
       "      <td>32485</td>\n",
       "      <td>2021-07-20</td>\n",
       "      <td>66.69</td>\n",
       "      <td>5381.0</td>\n",
       "      <td>Банан</td>\n",
       "      <td>Банан</td>\n",
       "      <td>Banana</td>\n",
       "      <td>4752.0</td>\n",
       "      <td>...</td>\n",
       "      <td>1</td>\n",
       "      <td>г</td>\n",
       "      <td>NaN</td>\n",
       "      <td>NaN</td>\n",
       "      <td>NaN</td>\n",
       "      <td>5551018</td>\n",
       "      <td>Фрукти тропічні</td>\n",
       "      <td>Фрукты тропические</td>\n",
       "      <td>Tropical fruits</td>\n",
       "      <td>1</td>\n",
       "    </tr>\n",
       "    <tr>\n",
       "      <th>1</th>\n",
       "      <td>RR1666031</td>\n",
       "      <td>21</td>\n",
       "      <td>32485</td>\n",
       "      <td>2021-07-21</td>\n",
       "      <td>66.69</td>\n",
       "      <td>5381.0</td>\n",
       "      <td>Банан</td>\n",
       "      <td>Банан</td>\n",
       "      <td>Banana</td>\n",
       "      <td>4752.0</td>\n",
       "      <td>...</td>\n",
       "      <td>1</td>\n",
       "      <td>г</td>\n",
       "      <td>NaN</td>\n",
       "      <td>NaN</td>\n",
       "      <td>NaN</td>\n",
       "      <td>5551018</td>\n",
       "      <td>Фрукти тропічні</td>\n",
       "      <td>Фрукты тропические</td>\n",
       "      <td>Tropical fruits</td>\n",
       "      <td>1</td>\n",
       "    </tr>\n",
       "    <tr>\n",
       "      <th>2</th>\n",
       "      <td>RR1666032</td>\n",
       "      <td>21</td>\n",
       "      <td>32485</td>\n",
       "      <td>2021-07-22</td>\n",
       "      <td>66.69</td>\n",
       "      <td>5381.0</td>\n",
       "      <td>Банан</td>\n",
       "      <td>Банан</td>\n",
       "      <td>Banana</td>\n",
       "      <td>4752.0</td>\n",
       "      <td>...</td>\n",
       "      <td>1</td>\n",
       "      <td>г</td>\n",
       "      <td>NaN</td>\n",
       "      <td>NaN</td>\n",
       "      <td>NaN</td>\n",
       "      <td>5551018</td>\n",
       "      <td>Фрукти тропічні</td>\n",
       "      <td>Фрукты тропические</td>\n",
       "      <td>Tropical fruits</td>\n",
       "      <td>1</td>\n",
       "    </tr>\n",
       "    <tr>\n",
       "      <th>3</th>\n",
       "      <td>RR1666033</td>\n",
       "      <td>21</td>\n",
       "      <td>32485</td>\n",
       "      <td>2021-07-23</td>\n",
       "      <td>66.69</td>\n",
       "      <td>5381.0</td>\n",
       "      <td>Банан</td>\n",
       "      <td>Банан</td>\n",
       "      <td>Banana</td>\n",
       "      <td>4752.0</td>\n",
       "      <td>...</td>\n",
       "      <td>1</td>\n",
       "      <td>г</td>\n",
       "      <td>NaN</td>\n",
       "      <td>NaN</td>\n",
       "      <td>NaN</td>\n",
       "      <td>5551018</td>\n",
       "      <td>Фрукти тропічні</td>\n",
       "      <td>Фрукты тропические</td>\n",
       "      <td>Tropical fruits</td>\n",
       "      <td>1</td>\n",
       "    </tr>\n",
       "    <tr>\n",
       "      <th>4</th>\n",
       "      <td>RR1666034</td>\n",
       "      <td>21</td>\n",
       "      <td>32485</td>\n",
       "      <td>2021-07-24</td>\n",
       "      <td>66.69</td>\n",
       "      <td>5381.0</td>\n",
       "      <td>Банан</td>\n",
       "      <td>Банан</td>\n",
       "      <td>Banana</td>\n",
       "      <td>4752.0</td>\n",
       "      <td>...</td>\n",
       "      <td>1</td>\n",
       "      <td>г</td>\n",
       "      <td>NaN</td>\n",
       "      <td>NaN</td>\n",
       "      <td>NaN</td>\n",
       "      <td>5551018</td>\n",
       "      <td>Фрукти тропічні</td>\n",
       "      <td>Фрукты тропические</td>\n",
       "      <td>Tropical fruits</td>\n",
       "      <td>1</td>\n",
       "    </tr>\n",
       "  </tbody>\n",
       "</table>\n",
       "<p>5 rows × 25 columns</p>\n",
       "</div>"
      ],
      "text/plain": [
       "          ID  geoCluster    SKU        date  price  productCategoryId  \\\n",
       "0  RR1666030          21  32485  2021-07-20  66.69             5381.0   \n",
       "1  RR1666031          21  32485  2021-07-21  66.69             5381.0   \n",
       "2  RR1666032          21  32485  2021-07-22  66.69             5381.0   \n",
       "3  RR1666033          21  32485  2021-07-23  66.69             5381.0   \n",
       "4  RR1666034          21  32485  2021-07-24  66.69             5381.0   \n",
       "\n",
       "  productCategory_caption_UKR productCategory_caption_RU  \\\n",
       "0                       Банан                      Банан   \n",
       "1                       Банан                      Банан   \n",
       "2                       Банан                      Банан   \n",
       "3                       Банан                      Банан   \n",
       "4                       Банан                      Банан   \n",
       "\n",
       "  productCategory_caption_ENG  productTypeId  ... lagerUnitTypeId  \\\n",
       "0                      Banana         4752.0  ...               1   \n",
       "1                      Banana         4752.0  ...               1   \n",
       "2                      Banana         4752.0  ...               1   \n",
       "3                      Banana         4752.0  ...               1   \n",
       "4                      Banana         4752.0  ...               1   \n",
       "\n",
       "  lagerUnitType_caption trademark  countryOfOrigin  countryOfOrigin_caption  \\\n",
       "0            г                NaN              NaN                      NaN   \n",
       "1            г                NaN              NaN                      NaN   \n",
       "2            г                NaN              NaN                      NaN   \n",
       "3            г                NaN              NaN                      NaN   \n",
       "4            г                NaN              NaN                      NaN   \n",
       "\n",
       "   commodity_group commodity_group_caption_UKR  commodity_group_caption_RU  \\\n",
       "0          5551018             Фрукти тропічні          Фрукты тропические   \n",
       "1          5551018             Фрукти тропічні          Фрукты тропические   \n",
       "2          5551018             Фрукти тропічні          Фрукты тропические   \n",
       "3          5551018             Фрукти тропічні          Фрукты тропические   \n",
       "4          5551018             Фрукти тропічні          Фрукты тропические   \n",
       "\n",
       "   commodity_group_caption_ENG cityId  \n",
       "0              Tropical fruits      1  \n",
       "1              Tropical fruits      1  \n",
       "2              Tropical fruits      1  \n",
       "3              Tropical fruits      1  \n",
       "4              Tropical fruits      1  \n",
       "\n",
       "[5 rows x 25 columns]"
      ]
     },
     "execution_count": 24,
     "metadata": {},
     "output_type": "execute_result"
    }
   ],
   "source": [
    "test_data.head()"
   ]
  },
  {
   "cell_type": "code",
   "execution_count": 25,
   "id": "1cc83fb0",
   "metadata": {},
   "outputs": [],
   "source": [
    "test_cols, train_cols = test_data.columns, train_data.columns\n",
    "cols_to_use = set(train_cols).intersection(test_cols)"
   ]
  },
  {
   "cell_type": "code",
   "execution_count": 26,
   "id": "4b02abac",
   "metadata": {},
   "outputs": [],
   "source": [
    "test_data = test_data[cols_to_use]"
   ]
  },
  {
   "cell_type": "code",
   "execution_count": 27,
   "id": "7071ea36",
   "metadata": {},
   "outputs": [
    {
     "data": {
      "text/html": [
       "<div>\n",
       "<style scoped>\n",
       "    .dataframe tbody tr th:only-of-type {\n",
       "        vertical-align: middle;\n",
       "    }\n",
       "\n",
       "    .dataframe tbody tr th {\n",
       "        vertical-align: top;\n",
       "    }\n",
       "\n",
       "    .dataframe thead th {\n",
       "        text-align: right;\n",
       "    }\n",
       "</style>\n",
       "<table border=\"1\" class=\"dataframe\">\n",
       "  <thead>\n",
       "    <tr style=\"text-align: right;\">\n",
       "      <th></th>\n",
       "      <th>commodity_group</th>\n",
       "      <th>geoCluster</th>\n",
       "      <th>cityId</th>\n",
       "      <th>SKU</th>\n",
       "      <th>lagerUnitTypeId</th>\n",
       "      <th>ID</th>\n",
       "      <th>date</th>\n",
       "      <th>productCategory_caption_RU</th>\n",
       "      <th>lagerUnitType_caption</th>\n",
       "      <th>lagerUnitQuantity</th>\n",
       "      <th>price</th>\n",
       "    </tr>\n",
       "  </thead>\n",
       "  <tbody>\n",
       "    <tr>\n",
       "      <th>0</th>\n",
       "      <td>5551018</td>\n",
       "      <td>21</td>\n",
       "      <td>1</td>\n",
       "      <td>32485</td>\n",
       "      <td>1</td>\n",
       "      <td>RR1666030</td>\n",
       "      <td>2021-07-20</td>\n",
       "      <td>Банан</td>\n",
       "      <td>г</td>\n",
       "      <td>1.0</td>\n",
       "      <td>66.69</td>\n",
       "    </tr>\n",
       "    <tr>\n",
       "      <th>1</th>\n",
       "      <td>5551018</td>\n",
       "      <td>21</td>\n",
       "      <td>1</td>\n",
       "      <td>32485</td>\n",
       "      <td>1</td>\n",
       "      <td>RR1666031</td>\n",
       "      <td>2021-07-21</td>\n",
       "      <td>Банан</td>\n",
       "      <td>г</td>\n",
       "      <td>1.0</td>\n",
       "      <td>66.69</td>\n",
       "    </tr>\n",
       "    <tr>\n",
       "      <th>2</th>\n",
       "      <td>5551018</td>\n",
       "      <td>21</td>\n",
       "      <td>1</td>\n",
       "      <td>32485</td>\n",
       "      <td>1</td>\n",
       "      <td>RR1666032</td>\n",
       "      <td>2021-07-22</td>\n",
       "      <td>Банан</td>\n",
       "      <td>г</td>\n",
       "      <td>1.0</td>\n",
       "      <td>66.69</td>\n",
       "    </tr>\n",
       "    <tr>\n",
       "      <th>3</th>\n",
       "      <td>5551018</td>\n",
       "      <td>21</td>\n",
       "      <td>1</td>\n",
       "      <td>32485</td>\n",
       "      <td>1</td>\n",
       "      <td>RR1666033</td>\n",
       "      <td>2021-07-23</td>\n",
       "      <td>Банан</td>\n",
       "      <td>г</td>\n",
       "      <td>1.0</td>\n",
       "      <td>66.69</td>\n",
       "    </tr>\n",
       "    <tr>\n",
       "      <th>4</th>\n",
       "      <td>5551018</td>\n",
       "      <td>21</td>\n",
       "      <td>1</td>\n",
       "      <td>32485</td>\n",
       "      <td>1</td>\n",
       "      <td>RR1666034</td>\n",
       "      <td>2021-07-24</td>\n",
       "      <td>Банан</td>\n",
       "      <td>г</td>\n",
       "      <td>1.0</td>\n",
       "      <td>66.69</td>\n",
       "    </tr>\n",
       "  </tbody>\n",
       "</table>\n",
       "</div>"
      ],
      "text/plain": [
       "   commodity_group  geoCluster  cityId    SKU  lagerUnitTypeId         ID  \\\n",
       "0          5551018          21       1  32485                1  RR1666030   \n",
       "1          5551018          21       1  32485                1  RR1666031   \n",
       "2          5551018          21       1  32485                1  RR1666032   \n",
       "3          5551018          21       1  32485                1  RR1666033   \n",
       "4          5551018          21       1  32485                1  RR1666034   \n",
       "\n",
       "         date productCategory_caption_RU lagerUnitType_caption  \\\n",
       "0  2021-07-20                      Банан            г            \n",
       "1  2021-07-21                      Банан            г            \n",
       "2  2021-07-22                      Банан            г            \n",
       "3  2021-07-23                      Банан            г            \n",
       "4  2021-07-24                      Банан            г            \n",
       "\n",
       "   lagerUnitQuantity  price  \n",
       "0                1.0  66.69  \n",
       "1                1.0  66.69  \n",
       "2                1.0  66.69  \n",
       "3                1.0  66.69  \n",
       "4                1.0  66.69  "
      ]
     },
     "execution_count": 27,
     "metadata": {},
     "output_type": "execute_result"
    }
   ],
   "source": [
    "test_data.head()"
   ]
  },
  {
   "cell_type": "code",
   "execution_count": 28,
   "id": "624d2c44",
   "metadata": {},
   "outputs": [],
   "source": [
    "full_data = pd.concat([train_data, test_data],axis=0)"
   ]
  },
  {
   "cell_type": "code",
   "execution_count": 29,
   "id": "80bf2bb2",
   "metadata": {},
   "outputs": [
    {
     "data": {
      "text/plain": [
       "(29622473, 17)"
      ]
     },
     "execution_count": 29,
     "metadata": {},
     "output_type": "execute_result"
    }
   ],
   "source": [
    "full_data.shape"
   ]
  },
  {
   "cell_type": "code",
   "execution_count": 30,
   "id": "ad1698f5",
   "metadata": {},
   "outputs": [],
   "source": [
    "import gc"
   ]
  },
  {
   "cell_type": "code",
   "execution_count": 31,
   "id": "240bbaf2",
   "metadata": {},
   "outputs": [],
   "source": [
    "dates_test = test_data['date'].unique()"
   ]
  },
  {
   "cell_type": "code",
   "execution_count": 32,
   "id": "a5606733",
   "metadata": {},
   "outputs": [
    {
     "data": {
      "text/plain": [
       "(1666028, 17)"
      ]
     },
     "execution_count": 32,
     "metadata": {},
     "output_type": "execute_result"
    }
   ],
   "source": [
    "full_data[full_data['date'].isin(dates_test)].shape"
   ]
  },
  {
   "cell_type": "code",
   "execution_count": 33,
   "id": "29250a1c",
   "metadata": {},
   "outputs": [
    {
     "data": {
      "text/plain": [
       "(1666028, 11)"
      ]
     },
     "execution_count": 33,
     "metadata": {},
     "output_type": "execute_result"
    }
   ],
   "source": [
    "test_data.shape"
   ]
  },
  {
   "cell_type": "code",
   "execution_count": 34,
   "id": "33789fde",
   "metadata": {},
   "outputs": [
    {
     "data": {
      "text/html": [
       "<div>\n",
       "<style scoped>\n",
       "    .dataframe tbody tr th:only-of-type {\n",
       "        vertical-align: middle;\n",
       "    }\n",
       "\n",
       "    .dataframe tbody tr th {\n",
       "        vertical-align: top;\n",
       "    }\n",
       "\n",
       "    .dataframe thead th {\n",
       "        text-align: right;\n",
       "    }\n",
       "</style>\n",
       "<table border=\"1\" class=\"dataframe\">\n",
       "  <thead>\n",
       "    <tr style=\"text-align: right;\">\n",
       "      <th></th>\n",
       "      <th>ID</th>\n",
       "      <th>geoCluster</th>\n",
       "      <th>SKU</th>\n",
       "      <th>date</th>\n",
       "      <th>sales</th>\n",
       "      <th>month</th>\n",
       "      <th>day</th>\n",
       "      <th>weekday</th>\n",
       "      <th>week_num</th>\n",
       "      <th>lagerUnitType_caption</th>\n",
       "      <th>commodity_group</th>\n",
       "      <th>productCategory_caption_RU</th>\n",
       "      <th>cityId</th>\n",
       "      <th>price</th>\n",
       "      <th>lagerUnitQuantity</th>\n",
       "      <th>lagerUnitTypeId</th>\n",
       "      <th>revanue</th>\n",
       "    </tr>\n",
       "  </thead>\n",
       "  <tbody>\n",
       "    <tr>\n",
       "      <th>1666023</th>\n",
       "      <td>RR3305649</td>\n",
       "      <td>3095</td>\n",
       "      <td>642700</td>\n",
       "      <td>2021-07-29</td>\n",
       "      <td>NaN</td>\n",
       "      <td>NaN</td>\n",
       "      <td>NaN</td>\n",
       "      <td>NaN</td>\n",
       "      <td>NaN</td>\n",
       "      <td>кг</td>\n",
       "      <td>5550352</td>\n",
       "      <td>Сыры полутвердые крупнопористые</td>\n",
       "      <td>0</td>\n",
       "      <td>113.59</td>\n",
       "      <td>1.0</td>\n",
       "      <td>2</td>\n",
       "      <td>NaN</td>\n",
       "    </tr>\n",
       "    <tr>\n",
       "      <th>1666024</th>\n",
       "      <td>RR3305650</td>\n",
       "      <td>3095</td>\n",
       "      <td>642700</td>\n",
       "      <td>2021-07-30</td>\n",
       "      <td>NaN</td>\n",
       "      <td>NaN</td>\n",
       "      <td>NaN</td>\n",
       "      <td>NaN</td>\n",
       "      <td>NaN</td>\n",
       "      <td>кг</td>\n",
       "      <td>5550352</td>\n",
       "      <td>Сыры полутвердые крупнопористые</td>\n",
       "      <td>0</td>\n",
       "      <td>113.59</td>\n",
       "      <td>1.0</td>\n",
       "      <td>2</td>\n",
       "      <td>NaN</td>\n",
       "    </tr>\n",
       "    <tr>\n",
       "      <th>1666025</th>\n",
       "      <td>RR3305651</td>\n",
       "      <td>3095</td>\n",
       "      <td>642700</td>\n",
       "      <td>2021-07-31</td>\n",
       "      <td>NaN</td>\n",
       "      <td>NaN</td>\n",
       "      <td>NaN</td>\n",
       "      <td>NaN</td>\n",
       "      <td>NaN</td>\n",
       "      <td>кг</td>\n",
       "      <td>5550352</td>\n",
       "      <td>Сыры полутвердые крупнопористые</td>\n",
       "      <td>0</td>\n",
       "      <td>113.59</td>\n",
       "      <td>1.0</td>\n",
       "      <td>2</td>\n",
       "      <td>NaN</td>\n",
       "    </tr>\n",
       "    <tr>\n",
       "      <th>1666026</th>\n",
       "      <td>RR3305652</td>\n",
       "      <td>3095</td>\n",
       "      <td>642700</td>\n",
       "      <td>2021-08-01</td>\n",
       "      <td>NaN</td>\n",
       "      <td>NaN</td>\n",
       "      <td>NaN</td>\n",
       "      <td>NaN</td>\n",
       "      <td>NaN</td>\n",
       "      <td>кг</td>\n",
       "      <td>5550352</td>\n",
       "      <td>Сыры полутвердые крупнопористые</td>\n",
       "      <td>0</td>\n",
       "      <td>113.59</td>\n",
       "      <td>1.0</td>\n",
       "      <td>2</td>\n",
       "      <td>NaN</td>\n",
       "    </tr>\n",
       "    <tr>\n",
       "      <th>1666027</th>\n",
       "      <td>RR3305653</td>\n",
       "      <td>3095</td>\n",
       "      <td>642700</td>\n",
       "      <td>2021-08-02</td>\n",
       "      <td>NaN</td>\n",
       "      <td>NaN</td>\n",
       "      <td>NaN</td>\n",
       "      <td>NaN</td>\n",
       "      <td>NaN</td>\n",
       "      <td>кг</td>\n",
       "      <td>5550352</td>\n",
       "      <td>Сыры полутвердые крупнопористые</td>\n",
       "      <td>0</td>\n",
       "      <td>113.59</td>\n",
       "      <td>1.0</td>\n",
       "      <td>2</td>\n",
       "      <td>NaN</td>\n",
       "    </tr>\n",
       "  </tbody>\n",
       "</table>\n",
       "</div>"
      ],
      "text/plain": [
       "                ID  geoCluster     SKU        date  sales  month  day  \\\n",
       "1666023  RR3305649        3095  642700  2021-07-29    NaN    NaN  NaN   \n",
       "1666024  RR3305650        3095  642700  2021-07-30    NaN    NaN  NaN   \n",
       "1666025  RR3305651        3095  642700  2021-07-31    NaN    NaN  NaN   \n",
       "1666026  RR3305652        3095  642700  2021-08-01    NaN    NaN  NaN   \n",
       "1666027  RR3305653        3095  642700  2021-08-02    NaN    NaN  NaN   \n",
       "\n",
       "         weekday  week_num lagerUnitType_caption  commodity_group  \\\n",
       "1666023      NaN       NaN            кг                  5550352   \n",
       "1666024      NaN       NaN            кг                  5550352   \n",
       "1666025      NaN       NaN            кг                  5550352   \n",
       "1666026      NaN       NaN            кг                  5550352   \n",
       "1666027      NaN       NaN            кг                  5550352   \n",
       "\n",
       "              productCategory_caption_RU  cityId   price  lagerUnitQuantity  \\\n",
       "1666023  Сыры полутвердые крупнопористые       0  113.59                1.0   \n",
       "1666024  Сыры полутвердые крупнопористые       0  113.59                1.0   \n",
       "1666025  Сыры полутвердые крупнопористые       0  113.59                1.0   \n",
       "1666026  Сыры полутвердые крупнопористые       0  113.59                1.0   \n",
       "1666027  Сыры полутвердые крупнопористые       0  113.59                1.0   \n",
       "\n",
       "         lagerUnitTypeId  revanue  \n",
       "1666023                2      NaN  \n",
       "1666024                2      NaN  \n",
       "1666025                2      NaN  \n",
       "1666026                2      NaN  \n",
       "1666027                2      NaN  "
      ]
     },
     "execution_count": 34,
     "metadata": {},
     "output_type": "execute_result"
    }
   ],
   "source": [
    "full_data.tail()"
   ]
  },
  {
   "cell_type": "markdown",
   "id": "5ee1c100",
   "metadata": {},
   "source": [
    "### cleaning memory"
   ]
  },
  {
   "cell_type": "code",
   "execution_count": 35,
   "id": "b6878cb8",
   "metadata": {},
   "outputs": [],
   "source": [
    "full_data = change_type(full_data, 'geoCluster', 'uint16')\n",
    "full_data = change_type(full_data, 'SKU', 'uint32')\n",
    "full_data = change_type(full_data, 'commodity_group', 'uint8')\n",
    "full_data = change_type(full_data, 'cityId', 'uint8')\n",
    "full_data = change_type(full_data, 'lagerUnitTypeId', 'uint8')"
   ]
  },
  {
   "cell_type": "code",
   "execution_count": 36,
   "id": "5a5a2c76",
   "metadata": {},
   "outputs": [],
   "source": [
    "del train_data, sku_meta, geo_params;\n",
    "gc.collect();"
   ]
  },
  {
   "cell_type": "markdown",
   "id": "0ffec4f7",
   "metadata": {},
   "source": [
    "## creation of features"
   ]
  },
  {
   "cell_type": "code",
   "execution_count": 37,
   "id": "b753e75f",
   "metadata": {},
   "outputs": [],
   "source": [
    "full_data.drop(columns=['lagerUnitType_caption'],inplace=True)"
   ]
  },
  {
   "cell_type": "markdown",
   "id": "2ec393ce",
   "metadata": {},
   "source": [
    "### days on the market "
   ]
  },
  {
   "cell_type": "code",
   "execution_count": 38,
   "id": "0907bc01",
   "metadata": {},
   "outputs": [],
   "source": [
    "full_data['date'] = pd.to_datetime(full_data['date'])"
   ]
  },
  {
   "cell_type": "code",
   "execution_count": 39,
   "id": "6e1f3c07",
   "metadata": {},
   "outputs": [
    {
     "name": "stderr",
     "output_type": "stream",
     "text": [
      "100%|██████████| 1961/1961 [05:58<00:00,  5.46it/s]\n"
     ]
    }
   ],
   "source": [
    "unique_SKU_list = full_data.SKU.unique()\n",
    "for sku in tqdm.tqdm(unique_SKU_list):\n",
    "    min_date = full_data[full_data['SKU'] == sku]['date'].min()\n",
    "    #print(min_date)\n",
    "    full_data.loc[full_data['SKU'] == sku , 'days_on_the_market'] = full_data.loc[full_data['SKU'] == sku,'date'] - min_date\n",
    "    #print(train_data[train_data['SKU'] == sku]['date'] - min_date)"
   ]
  },
  {
   "cell_type": "code",
   "execution_count": 40,
   "id": "8dbacc60",
   "metadata": {},
   "outputs": [],
   "source": [
    "full_data['days_on_the_market']  = full_data['days_on_the_market'].dt.days"
   ]
  },
  {
   "cell_type": "code",
   "execution_count": 41,
   "id": "6595ee2e",
   "metadata": {},
   "outputs": [
    {
     "data": {
      "text/plain": [
       "271.0507787786658"
      ]
     },
     "execution_count": 41,
     "metadata": {},
     "output_type": "execute_result"
    }
   ],
   "source": [
    "full_data['days_on_the_market'].mean()"
   ]
  },
  {
   "cell_type": "code",
   "execution_count": 42,
   "id": "75048038",
   "metadata": {},
   "outputs": [],
   "source": [
    "groups = full_data[['date','geoCluster','SKU']].groupby(['geoCluster','SKU'], as_index=False)"
   ]
  },
  {
   "cell_type": "code",
   "execution_count": null,
   "id": "272c3ed9",
   "metadata": {},
   "outputs": [
    {
     "name": "stderr",
     "output_type": "stream",
     "text": [
      "  0%|          | 0/119002 [00:00<?, ?it/s]/home/ec2-user/anaconda3/envs/amazonei_tensorflow2_p36/lib/python3.6/site-packages/ipykernel/__main__.py:4: SettingWithCopyWarning: \n",
      "A value is trying to be set on a copy of a slice from a DataFrame.\n",
      "Try using .loc[row_indexer,col_indexer] = value instead\n",
      "\n",
      "See the caveats in the documentation: https://pandas.pydata.org/pandas-docs/stable/user_guide/indexing.html#returning-a-view-versus-a-copy\n",
      " 11%|█         | 12543/119002 [02:05<32:51, 53.99it/s]"
     ]
    }
   ],
   "source": [
    "days_on_market_geo = pd.DataFrame()\n",
    "for key in tqdm.tqdm(groups.groups.keys()):\n",
    "    group = groups.get_group(key)\n",
    "    group['date'] = group['date']-group['date'].min()\n",
    "    days_on_market_geo = days_on_market_geo.append(group)"
   ]
  },
  {
   "cell_type": "code",
   "execution_count": null,
   "id": "7cfc7666",
   "metadata": {},
   "outputs": [],
   "source": []
  },
  {
   "cell_type": "markdown",
   "id": "c25f6228",
   "metadata": {},
   "source": [
    "### max sales, min sales, max ravenue, min ravenue"
   ]
  },
  {
   "cell_type": "code",
   "execution_count": 38,
   "id": "8fca1481",
   "metadata": {},
   "outputs": [],
   "source": [
    "def agg_feature(df, dates_to_exclude, to_groupby, to_agg, func='min'):\n",
    "    if not isinstance(to_groupby, list):\n",
    "        to_groupby = [to_groupby]\n",
    "    result = df[~df['date'].isin(dates_to_exclude)].groupby(to_groupby,as_index=False).agg({to_agg:func})\n",
    "    result = result.rename(columns={to_agg:to_agg+'_grouped_{}_{}'.format('_'.join(to_groupby),func)})\n",
    "    df = df.merge(result, on=to_groupby, how='left')\n",
    "    return df"
   ]
  },
  {
   "cell_type": "code",
   "execution_count": 39,
   "id": "179b73a8",
   "metadata": {},
   "outputs": [
    {
     "name": "stderr",
     "output_type": "stream",
     "text": [
      "/home/ec2-user/anaconda3/envs/amazonei_tensorflow2_p36/lib/python3.6/site-packages/ipykernel/__main__.py:7: FutureWarning: Series.dt.weekofyear and Series.dt.week have been deprecated.  Please use Series.dt.isocalendar().week instead.\n"
     ]
    }
   ],
   "source": [
    "full_data['date'] = pd.to_datetime(full_data['date'])\n",
    "full_data['weekday'] = full_data['date'].dt.weekday\n",
    "full_data['day'] = full_data['date'].dt.day\n",
    "full_data['year'] = full_data['date'].dt.year\n",
    "full_data['month'] = full_data['date'].dt.month\n",
    "max_week = full_data[full_data['year']==2020]['week_num'].max()\n",
    "full_data['week_num'] = full_data['date'].dt.week\n",
    "full_data.loc[full_data['year']==2021, 'week_num'] = full_data.loc[full_data['year']==2021, 'week_num'].apply(lambda x: x+max_week)\n",
    "full_data = change_type(full_data, 'month', 'uint8')\n",
    "full_data = change_type(full_data, 'day', 'uint8')\n",
    "full_data = change_type(full_data, 'weekday', 'uint8')\n",
    "full_data = change_type(full_data, 'week_num', 'uint8')"
   ]
  },
  {
   "cell_type": "code",
   "execution_count": 40,
   "id": "a238589a",
   "metadata": {},
   "outputs": [],
   "source": [
    "full_data = agg_feature(full_data, dates_test, ['week_num','geoCluster'], 'sales', 'mean')\n",
    "full_data = agg_feature(full_data, dates_test, ['week_num','geoCluster'], 'sales', 'sum')"
   ]
  },
  {
   "cell_type": "code",
   "execution_count": 41,
   "id": "8812cadf",
   "metadata": {},
   "outputs": [
    {
     "data": {
      "text/plain": [
       "(1666028, 19)"
      ]
     },
     "execution_count": 41,
     "metadata": {},
     "output_type": "execute_result"
    }
   ],
   "source": [
    "full_data[full_data['date'].isin(dates_test)].shape"
   ]
  },
  {
   "cell_type": "code",
   "execution_count": 42,
   "id": "8e41c046",
   "metadata": {},
   "outputs": [],
   "source": [
    "full_data = agg_feature(full_data, dates_test, ['week_num','cityId'], 'sales', 'mean')\n",
    "full_data = agg_feature(full_data, dates_test, ['week_num','commodity_group'], 'sales', 'mean')"
   ]
  },
  {
   "cell_type": "code",
   "execution_count": 43,
   "id": "29bccd82",
   "metadata": {},
   "outputs": [],
   "source": [
    "full_data = agg_feature(full_data, dates_test, ['week_num','geoCluster'], 'revanue', 'sum')\n",
    "full_data = agg_feature(full_data, dates_test, ['week_num','geoCluster'], 'revanue', 'mean')\n",
    "full_data = agg_feature(full_data, dates_test, ['week_num','cityId'], 'revanue', 'mean')\n",
    "full_data = agg_feature(full_data, dates_test, ['week_num','commodity_group'], 'revanue', 'mean')"
   ]
  },
  {
   "cell_type": "code",
   "execution_count": 44,
   "id": "3e128832",
   "metadata": {},
   "outputs": [],
   "source": [
    "full_data = agg_feature(full_data, dates_test, ['week_num','SKU'], 'revanue', 'mean')\n",
    "full_data = agg_feature(full_data, dates_test, ['week_num','SKU'], 'sales', 'mean')\n",
    "full_data = agg_feature(full_data, dates_test, ['week_num','SKU'], 'revanue', 'sum')\n",
    "full_data = agg_feature(full_data, dates_test, ['week_num','SKU'], 'sales', 'sum')"
   ]
  },
  {
   "cell_type": "code",
   "execution_count": null,
   "id": "2ae28bdc",
   "metadata": {},
   "outputs": [],
   "source": [
    "full_data = agg_feature(full_data, dates_test, ['week_num','SKU','commodity_group'], 'revanue', 'mean')\n",
    "full_data = agg_feature(full_data, dates_test, ['week_num','SKU','commodity_group'], 'sales', 'mean')\n",
    "full_data = agg_feature(full_data, dates_test, ['week_num','SKU','commodity_group'], 'revanue', 'sum')\n",
    "full_data = agg_feature(full_data, dates_test, ['week_num','SKU','commodity_group'], 'sales', 'sum')"
   ]
  },
  {
   "cell_type": "code",
   "execution_count": 45,
   "id": "772e3f10",
   "metadata": {},
   "outputs": [
    {
     "data": {
      "text/plain": [
       "array([ 80,  81,  82,  71,  72,  73,  74,  75,  76,  77,  78,  79,  69,\n",
       "        70,  68,  67,  52,  53, 106,  54,  55,  56,  57,  58,  59,  60,\n",
       "        61,  62,  63,  64,  65,  66,  48,  49,  50,  51,  47,  45,  46,\n",
       "        17,  18,  19,  20,  21,  22,  23,  24,  25,  26,  27,  28,  29,\n",
       "        30,  31,  32,  33,  34,  35,  36,  37,  38,  39,  40,  41,  42,\n",
       "        43,  44,  16,  15,  14,   1,   2,   3,   4,   5,   6,   7,   8,\n",
       "         9,  10,  11,  12,  13,  83,  84], dtype=uint8)"
      ]
     },
     "execution_count": 45,
     "metadata": {},
     "output_type": "execute_result"
    }
   ],
   "source": [
    "full_data.week_num.unique()"
   ]
  },
  {
   "cell_type": "code",
   "execution_count": 46,
   "id": "f83eb367",
   "metadata": {},
   "outputs": [
    {
     "data": {
      "text/plain": [
       "ID                                               0\n",
       "geoCluster                                       0\n",
       "SKU                                              0\n",
       "date                                             0\n",
       "sales                                            0\n",
       "month                                            0\n",
       "day                                              0\n",
       "weekday                                          0\n",
       "week_num                                         0\n",
       "commodity_group                                  0\n",
       "productCategory_caption_RU                       0\n",
       "cityId                                           0\n",
       "price                                            0\n",
       "lagerUnitQuantity                                0\n",
       "lagerUnitTypeId                                  0\n",
       "revanue                                          0\n",
       "year                                             0\n",
       "sales_grouped_week_num_geoCluster_mean           0\n",
       "sales_grouped_week_num_geoCluster_sum            0\n",
       "sales_grouped_week_num_cityId_mean               0\n",
       "sales_grouped_week_num_commodity_group_mean      0\n",
       "revanue_grouped_week_num_geoCluster_sum          0\n",
       "revanue_grouped_week_num_geoCluster_mean         0\n",
       "revanue_grouped_week_num_cityId_mean             0\n",
       "revanue_grouped_week_num_commodity_group_mean    0\n",
       "revanue_grouped_week_num_SKU_mean                0\n",
       "sales_grouped_week_num_SKU_mean                  0\n",
       "revanue_grouped_week_num_SKU_sum                 0\n",
       "sales_grouped_week_num_SKU_sum                   0\n",
       "dtype: int64"
      ]
     },
     "execution_count": 46,
     "metadata": {},
     "output_type": "execute_result"
    }
   ],
   "source": [
    "full_data[~full_data['date'].isin(dates_test)].isna().sum()"
   ]
  },
  {
   "cell_type": "code",
   "execution_count": 47,
   "id": "2757ab84",
   "metadata": {},
   "outputs": [
    {
     "data": {
      "text/html": [
       "<div>\n",
       "<style scoped>\n",
       "    .dataframe tbody tr th:only-of-type {\n",
       "        vertical-align: middle;\n",
       "    }\n",
       "\n",
       "    .dataframe tbody tr th {\n",
       "        vertical-align: top;\n",
       "    }\n",
       "\n",
       "    .dataframe thead th {\n",
       "        text-align: right;\n",
       "    }\n",
       "</style>\n",
       "<table border=\"1\" class=\"dataframe\">\n",
       "  <thead>\n",
       "    <tr style=\"text-align: right;\">\n",
       "      <th></th>\n",
       "      <th>ID</th>\n",
       "      <th>geoCluster</th>\n",
       "      <th>SKU</th>\n",
       "      <th>date</th>\n",
       "      <th>sales</th>\n",
       "      <th>month</th>\n",
       "      <th>day</th>\n",
       "      <th>weekday</th>\n",
       "      <th>week_num</th>\n",
       "      <th>commodity_group</th>\n",
       "      <th>...</th>\n",
       "      <th>sales_grouped_week_num_cityId_mean</th>\n",
       "      <th>sales_grouped_week_num_commodity_group_mean</th>\n",
       "      <th>revanue_grouped_week_num_geoCluster_sum</th>\n",
       "      <th>revanue_grouped_week_num_geoCluster_mean</th>\n",
       "      <th>revanue_grouped_week_num_cityId_mean</th>\n",
       "      <th>revanue_grouped_week_num_commodity_group_mean</th>\n",
       "      <th>revanue_grouped_week_num_SKU_mean</th>\n",
       "      <th>sales_grouped_week_num_SKU_mean</th>\n",
       "      <th>revanue_grouped_week_num_SKU_sum</th>\n",
       "      <th>sales_grouped_week_num_SKU_sum</th>\n",
       "    </tr>\n",
       "  </thead>\n",
       "  <tbody>\n",
       "    <tr>\n",
       "      <th>29622468</th>\n",
       "      <td>RR3305649</td>\n",
       "      <td>3095</td>\n",
       "      <td>642700</td>\n",
       "      <td>2021-07-29</td>\n",
       "      <td>NaN</td>\n",
       "      <td>7</td>\n",
       "      <td>29</td>\n",
       "      <td>3</td>\n",
       "      <td>83</td>\n",
       "      <td>16</td>\n",
       "      <td>...</td>\n",
       "      <td>NaN</td>\n",
       "      <td>NaN</td>\n",
       "      <td>NaN</td>\n",
       "      <td>NaN</td>\n",
       "      <td>NaN</td>\n",
       "      <td>NaN</td>\n",
       "      <td>NaN</td>\n",
       "      <td>NaN</td>\n",
       "      <td>NaN</td>\n",
       "      <td>NaN</td>\n",
       "    </tr>\n",
       "    <tr>\n",
       "      <th>29622469</th>\n",
       "      <td>RR3305650</td>\n",
       "      <td>3095</td>\n",
       "      <td>642700</td>\n",
       "      <td>2021-07-30</td>\n",
       "      <td>NaN</td>\n",
       "      <td>7</td>\n",
       "      <td>30</td>\n",
       "      <td>4</td>\n",
       "      <td>83</td>\n",
       "      <td>16</td>\n",
       "      <td>...</td>\n",
       "      <td>NaN</td>\n",
       "      <td>NaN</td>\n",
       "      <td>NaN</td>\n",
       "      <td>NaN</td>\n",
       "      <td>NaN</td>\n",
       "      <td>NaN</td>\n",
       "      <td>NaN</td>\n",
       "      <td>NaN</td>\n",
       "      <td>NaN</td>\n",
       "      <td>NaN</td>\n",
       "    </tr>\n",
       "    <tr>\n",
       "      <th>29622470</th>\n",
       "      <td>RR3305651</td>\n",
       "      <td>3095</td>\n",
       "      <td>642700</td>\n",
       "      <td>2021-07-31</td>\n",
       "      <td>NaN</td>\n",
       "      <td>7</td>\n",
       "      <td>31</td>\n",
       "      <td>5</td>\n",
       "      <td>83</td>\n",
       "      <td>16</td>\n",
       "      <td>...</td>\n",
       "      <td>NaN</td>\n",
       "      <td>NaN</td>\n",
       "      <td>NaN</td>\n",
       "      <td>NaN</td>\n",
       "      <td>NaN</td>\n",
       "      <td>NaN</td>\n",
       "      <td>NaN</td>\n",
       "      <td>NaN</td>\n",
       "      <td>NaN</td>\n",
       "      <td>NaN</td>\n",
       "    </tr>\n",
       "    <tr>\n",
       "      <th>29622471</th>\n",
       "      <td>RR3305652</td>\n",
       "      <td>3095</td>\n",
       "      <td>642700</td>\n",
       "      <td>2021-08-01</td>\n",
       "      <td>NaN</td>\n",
       "      <td>8</td>\n",
       "      <td>1</td>\n",
       "      <td>6</td>\n",
       "      <td>83</td>\n",
       "      <td>16</td>\n",
       "      <td>...</td>\n",
       "      <td>NaN</td>\n",
       "      <td>NaN</td>\n",
       "      <td>NaN</td>\n",
       "      <td>NaN</td>\n",
       "      <td>NaN</td>\n",
       "      <td>NaN</td>\n",
       "      <td>NaN</td>\n",
       "      <td>NaN</td>\n",
       "      <td>NaN</td>\n",
       "      <td>NaN</td>\n",
       "    </tr>\n",
       "    <tr>\n",
       "      <th>29622472</th>\n",
       "      <td>RR3305653</td>\n",
       "      <td>3095</td>\n",
       "      <td>642700</td>\n",
       "      <td>2021-08-02</td>\n",
       "      <td>NaN</td>\n",
       "      <td>8</td>\n",
       "      <td>2</td>\n",
       "      <td>0</td>\n",
       "      <td>84</td>\n",
       "      <td>16</td>\n",
       "      <td>...</td>\n",
       "      <td>NaN</td>\n",
       "      <td>NaN</td>\n",
       "      <td>NaN</td>\n",
       "      <td>NaN</td>\n",
       "      <td>NaN</td>\n",
       "      <td>NaN</td>\n",
       "      <td>NaN</td>\n",
       "      <td>NaN</td>\n",
       "      <td>NaN</td>\n",
       "      <td>NaN</td>\n",
       "    </tr>\n",
       "  </tbody>\n",
       "</table>\n",
       "<p>5 rows × 29 columns</p>\n",
       "</div>"
      ],
      "text/plain": [
       "                 ID  geoCluster     SKU       date  sales  month  day  \\\n",
       "29622468  RR3305649        3095  642700 2021-07-29    NaN      7   29   \n",
       "29622469  RR3305650        3095  642700 2021-07-30    NaN      7   30   \n",
       "29622470  RR3305651        3095  642700 2021-07-31    NaN      7   31   \n",
       "29622471  RR3305652        3095  642700 2021-08-01    NaN      8    1   \n",
       "29622472  RR3305653        3095  642700 2021-08-02    NaN      8    2   \n",
       "\n",
       "          weekday  week_num  commodity_group  ...  \\\n",
       "29622468        3        83               16  ...   \n",
       "29622469        4        83               16  ...   \n",
       "29622470        5        83               16  ...   \n",
       "29622471        6        83               16  ...   \n",
       "29622472        0        84               16  ...   \n",
       "\n",
       "         sales_grouped_week_num_cityId_mean  \\\n",
       "29622468                                NaN   \n",
       "29622469                                NaN   \n",
       "29622470                                NaN   \n",
       "29622471                                NaN   \n",
       "29622472                                NaN   \n",
       "\n",
       "          sales_grouped_week_num_commodity_group_mean  \\\n",
       "29622468                                          NaN   \n",
       "29622469                                          NaN   \n",
       "29622470                                          NaN   \n",
       "29622471                                          NaN   \n",
       "29622472                                          NaN   \n",
       "\n",
       "          revanue_grouped_week_num_geoCluster_sum  \\\n",
       "29622468                                      NaN   \n",
       "29622469                                      NaN   \n",
       "29622470                                      NaN   \n",
       "29622471                                      NaN   \n",
       "29622472                                      NaN   \n",
       "\n",
       "          revanue_grouped_week_num_geoCluster_mean  \\\n",
       "29622468                                       NaN   \n",
       "29622469                                       NaN   \n",
       "29622470                                       NaN   \n",
       "29622471                                       NaN   \n",
       "29622472                                       NaN   \n",
       "\n",
       "          revanue_grouped_week_num_cityId_mean  \\\n",
       "29622468                                   NaN   \n",
       "29622469                                   NaN   \n",
       "29622470                                   NaN   \n",
       "29622471                                   NaN   \n",
       "29622472                                   NaN   \n",
       "\n",
       "          revanue_grouped_week_num_commodity_group_mean  \\\n",
       "29622468                                            NaN   \n",
       "29622469                                            NaN   \n",
       "29622470                                            NaN   \n",
       "29622471                                            NaN   \n",
       "29622472                                            NaN   \n",
       "\n",
       "          revanue_grouped_week_num_SKU_mean  sales_grouped_week_num_SKU_mean  \\\n",
       "29622468                                NaN                              NaN   \n",
       "29622469                                NaN                              NaN   \n",
       "29622470                                NaN                              NaN   \n",
       "29622471                                NaN                              NaN   \n",
       "29622472                                NaN                              NaN   \n",
       "\n",
       "          revanue_grouped_week_num_SKU_sum  sales_grouped_week_num_SKU_sum  \n",
       "29622468                               NaN                             NaN  \n",
       "29622469                               NaN                             NaN  \n",
       "29622470                               NaN                             NaN  \n",
       "29622471                               NaN                             NaN  \n",
       "29622472                               NaN                             NaN  \n",
       "\n",
       "[5 rows x 29 columns]"
      ]
     },
     "execution_count": 47,
     "metadata": {},
     "output_type": "execute_result"
    }
   ],
   "source": [
    "full_data.tail()"
   ]
  },
  {
   "cell_type": "code",
   "execution_count": 48,
   "id": "f9adc1cc",
   "metadata": {},
   "outputs": [
    {
     "data": {
      "text/plain": [
       "Index(['ID', 'geoCluster', 'SKU', 'date', 'sales', 'month', 'day', 'weekday',\n",
       "       'week_num', 'commodity_group', 'productCategory_caption_RU', 'cityId',\n",
       "       'price', 'lagerUnitQuantity', 'lagerUnitTypeId', 'revanue', 'year',\n",
       "       'sales_grouped_week_num_geoCluster_mean',\n",
       "       'sales_grouped_week_num_geoCluster_sum',\n",
       "       'sales_grouped_week_num_cityId_mean',\n",
       "       'sales_grouped_week_num_commodity_group_mean',\n",
       "       'revanue_grouped_week_num_geoCluster_sum',\n",
       "       'revanue_grouped_week_num_geoCluster_mean',\n",
       "       'revanue_grouped_week_num_cityId_mean',\n",
       "       'revanue_grouped_week_num_commodity_group_mean',\n",
       "       'revanue_grouped_week_num_SKU_mean', 'sales_grouped_week_num_SKU_mean',\n",
       "       'revanue_grouped_week_num_SKU_sum', 'sales_grouped_week_num_SKU_sum'],\n",
       "      dtype='object')"
      ]
     },
     "execution_count": 48,
     "metadata": {},
     "output_type": "execute_result"
    }
   ],
   "source": [
    "full_data.columns"
   ]
  },
  {
   "cell_type": "markdown",
   "id": "7a996599",
   "metadata": {},
   "source": [
    "### lag on aggregated features"
   ]
  },
  {
   "cell_type": "code",
   "execution_count": 49,
   "id": "3a2d8e93",
   "metadata": {},
   "outputs": [
    {
     "name": "stdout",
     "output_type": "stream",
     "text": [
      "<class 'pandas.core.frame.DataFrame'>\n",
      "Int64Index: 29622473 entries, 0 to 29622472\n",
      "Data columns (total 29 columns):\n",
      " #   Column                                         Dtype         \n",
      "---  ------                                         -----         \n",
      " 0   ID                                             object        \n",
      " 1   geoCluster                                     uint16        \n",
      " 2   SKU                                            uint32        \n",
      " 3   date                                           datetime64[ns]\n",
      " 4   sales                                          float64       \n",
      " 5   month                                          uint8         \n",
      " 6   day                                            uint8         \n",
      " 7   weekday                                        uint8         \n",
      " 8   week_num                                       uint8         \n",
      " 9   commodity_group                                uint8         \n",
      " 10  productCategory_caption_RU                     object        \n",
      " 11  cityId                                         uint8         \n",
      " 12  price                                          float64       \n",
      " 13  lagerUnitQuantity                              float64       \n",
      " 14  lagerUnitTypeId                                uint8         \n",
      " 15  revanue                                        float64       \n",
      " 16  year                                           int64         \n",
      " 17  sales_grouped_week_num_geoCluster_mean         float64       \n",
      " 18  sales_grouped_week_num_geoCluster_sum          float64       \n",
      " 19  sales_grouped_week_num_cityId_mean             float64       \n",
      " 20  sales_grouped_week_num_commodity_group_mean    float64       \n",
      " 21  revanue_grouped_week_num_geoCluster_sum        float64       \n",
      " 22  revanue_grouped_week_num_geoCluster_mean       float64       \n",
      " 23  revanue_grouped_week_num_cityId_mean           float64       \n",
      " 24  revanue_grouped_week_num_commodity_group_mean  float64       \n",
      " 25  revanue_grouped_week_num_SKU_mean              float64       \n",
      " 26  sales_grouped_week_num_SKU_mean                float64       \n",
      " 27  revanue_grouped_week_num_SKU_sum               float64       \n",
      " 28  sales_grouped_week_num_SKU_sum                 float64       \n",
      "dtypes: datetime64[ns](1), float64(16), int64(1), object(2), uint16(1), uint32(1), uint8(7)\n",
      "memory usage: 5.0+ GB\n"
     ]
    }
   ],
   "source": [
    "full_data.info()"
   ]
  },
  {
   "cell_type": "code",
   "execution_count": 50,
   "id": "d754edaa",
   "metadata": {},
   "outputs": [],
   "source": [
    "for i in full_data.columns:\n",
    "    if 'float' in str(full_data[i].dtype):\n",
    "            full_data[i] = full_data[i].astype('float16')"
   ]
  },
  {
   "cell_type": "code",
   "execution_count": 51,
   "id": "bc4ef725",
   "metadata": {},
   "outputs": [],
   "source": [
    "def lag_feature(df, lags, agg_columns, col):\n",
    "    agg_columns = agg_columns+[col]\n",
    "    tmp = df[agg_columns]\n",
    "    for i in lags:\n",
    "        shifted = tmp.copy()\n",
    "        shifted.columns = agg_columns[:-1]+[col+'_lag_'+str(i)]\n",
    "        shifted['week_num'] += i\n",
    "        shifted = shifted.drop_duplicates(agg_columns[:-1])\n",
    "        df = pd.merge(df, shifted, on=agg_columns[:-1], how='left')\n",
    "        df[col+'_lag_'+str(i)] = df[col+'_lag_'+str(i)].fillna(0)\n",
    "    df = df.drop(columns=col)\n",
    "    return df"
   ]
  },
  {
   "cell_type": "code",
   "execution_count": 52,
   "id": "f0363f85",
   "metadata": {},
   "outputs": [],
   "source": [
    "full_data = lag_feature(full_data, [2,3], ['week_num','commodity_group'], 'revanue_grouped_week_num_commodity_group_mean')\n",
    "full_data = lag_feature(full_data, [2,3], ['week_num','cityId'], 'revanue_grouped_week_num_cityId_mean')\n",
    "full_data = lag_feature(full_data, [2,3], ['week_num','geoCluster'], 'revanue_grouped_week_num_geoCluster_mean')\n",
    "full_data = lag_feature(full_data, [2,3], ['week_num','geoCluster'], 'revanue_grouped_week_num_geoCluster_sum')"
   ]
  },
  {
   "cell_type": "code",
   "execution_count": 53,
   "id": "16f78acb",
   "metadata": {},
   "outputs": [],
   "source": [
    "full_data = lag_feature(full_data, [2,3], ['week_num','commodity_group'], 'sales_grouped_week_num_commodity_group_mean')\n",
    "full_data = lag_feature(full_data, [2,3], ['week_num','cityId'], 'sales_grouped_week_num_cityId_mean')\n",
    "full_data = lag_feature(full_data, [2,3], ['week_num','geoCluster'], 'sales_grouped_week_num_geoCluster_mean')\n",
    "full_data = lag_feature(full_data, [2,3], ['week_num','geoCluster'], 'sales_grouped_week_num_geoCluster_sum')"
   ]
  },
  {
   "cell_type": "code",
   "execution_count": 54,
   "id": "c5a0a043",
   "metadata": {},
   "outputs": [],
   "source": [
    "full_data = lag_feature(full_data, [2,3], ['week_num','SKU'], 'sales_grouped_week_num_SKU_mean')\n",
    "full_data = lag_feature(full_data, [2,3], ['week_num','SKU'], 'sales_grouped_week_num_SKU_sum')"
   ]
  },
  {
   "cell_type": "code",
   "execution_count": 55,
   "id": "0a6b82c0",
   "metadata": {},
   "outputs": [],
   "source": [
    "full_data = lag_feature(full_data, [2,3], ['week_num','SKU'], 'revanue_grouped_week_num_SKU_sum')\n",
    "full_data = lag_feature(full_data, [2,3], ['week_num','SKU'], 'revanue_grouped_week_num_SKU_mean')"
   ]
  },
  {
   "cell_type": "code",
   "execution_count": 56,
   "id": "89182014",
   "metadata": {},
   "outputs": [
    {
     "name": "stdout",
     "output_type": "stream",
     "text": [
      "<class 'pandas.core.frame.DataFrame'>\n",
      "Int64Index: 29622473 entries, 0 to 29622472\n",
      "Data columns (total 41 columns):\n",
      " #   Column                                               Dtype         \n",
      "---  ------                                               -----         \n",
      " 0   ID                                                   object        \n",
      " 1   geoCluster                                           uint16        \n",
      " 2   SKU                                                  uint32        \n",
      " 3   date                                                 datetime64[ns]\n",
      " 4   sales                                                float16       \n",
      " 5   month                                                uint8         \n",
      " 6   day                                                  uint8         \n",
      " 7   weekday                                              uint8         \n",
      " 8   week_num                                             uint8         \n",
      " 9   commodity_group                                      uint8         \n",
      " 10  productCategory_caption_RU                           object        \n",
      " 11  cityId                                               uint8         \n",
      " 12  price                                                float16       \n",
      " 13  lagerUnitQuantity                                    float16       \n",
      " 14  lagerUnitTypeId                                      uint8         \n",
      " 15  revanue                                              float16       \n",
      " 16  year                                                 int64         \n",
      " 17  revanue_grouped_week_num_commodity_group_mean_lag_2  float16       \n",
      " 18  revanue_grouped_week_num_commodity_group_mean_lag_3  float16       \n",
      " 19  revanue_grouped_week_num_cityId_mean_lag_2           float16       \n",
      " 20  revanue_grouped_week_num_cityId_mean_lag_3           float16       \n",
      " 21  revanue_grouped_week_num_geoCluster_mean_lag_2       float16       \n",
      " 22  revanue_grouped_week_num_geoCluster_mean_lag_3       float16       \n",
      " 23  revanue_grouped_week_num_geoCluster_sum_lag_2        float16       \n",
      " 24  revanue_grouped_week_num_geoCluster_sum_lag_3        float16       \n",
      " 25  sales_grouped_week_num_commodity_group_mean_lag_2    float16       \n",
      " 26  sales_grouped_week_num_commodity_group_mean_lag_3    float16       \n",
      " 27  sales_grouped_week_num_cityId_mean_lag_2             float16       \n",
      " 28  sales_grouped_week_num_cityId_mean_lag_3             float16       \n",
      " 29  sales_grouped_week_num_geoCluster_mean_lag_2         float16       \n",
      " 30  sales_grouped_week_num_geoCluster_mean_lag_3         float16       \n",
      " 31  sales_grouped_week_num_geoCluster_sum_lag_2          float16       \n",
      " 32  sales_grouped_week_num_geoCluster_sum_lag_3          float16       \n",
      " 33  sales_grouped_week_num_SKU_mean_lag_2                float16       \n",
      " 34  sales_grouped_week_num_SKU_mean_lag_3                float16       \n",
      " 35  sales_grouped_week_num_SKU_sum_lag_2                 float16       \n",
      " 36  sales_grouped_week_num_SKU_sum_lag_3                 float16       \n",
      " 37  revanue_grouped_week_num_SKU_sum_lag_2               float16       \n",
      " 38  revanue_grouped_week_num_SKU_sum_lag_3               float16       \n",
      " 39  revanue_grouped_week_num_SKU_mean_lag_2              float16       \n",
      " 40  revanue_grouped_week_num_SKU_mean_lag_3              float16       \n",
      "dtypes: datetime64[ns](1), float16(28), int64(1), object(2), uint16(1), uint32(1), uint8(7)\n",
      "memory usage: 3.0+ GB\n"
     ]
    }
   ],
   "source": [
    "full_data.info()"
   ]
  },
  {
   "cell_type": "markdown",
   "id": "cf45cf75",
   "metadata": {},
   "source": [
    "### tf idf features"
   ]
  },
  {
   "cell_type": "code",
   "execution_count": 63,
   "id": "f6db3df7",
   "metadata": {},
   "outputs": [],
   "source": [
    "sku_meta = pd.read_csv('../sku_final.csv')"
   ]
  },
  {
   "cell_type": "code",
   "execution_count": 64,
   "id": "fcd49b9d",
   "metadata": {},
   "outputs": [],
   "source": [
    "sku_meta['productCategory_caption_RU'] = sku_meta['productCategory_caption_RU'].str.lower()"
   ]
  },
  {
   "cell_type": "code",
   "execution_count": 65,
   "id": "a27dc3a1",
   "metadata": {},
   "outputs": [
    {
     "data": {
      "text/plain": [
       "874109"
      ]
     },
     "execution_count": 65,
     "metadata": {},
     "output_type": "execute_result"
    }
   ],
   "source": [
    "sku_meta['SKU'].max()\n"
   ]
  },
  {
   "cell_type": "code",
   "execution_count": 66,
   "id": "14bdc1a8",
   "metadata": {},
   "outputs": [
    {
     "data": {
      "text/plain": [
       "874109"
      ]
     },
     "execution_count": 66,
     "metadata": {},
     "output_type": "execute_result"
    }
   ],
   "source": [
    "full_data['SKU'].max()"
   ]
  },
  {
   "cell_type": "code",
   "execution_count": 67,
   "id": "ca4e4cc9",
   "metadata": {},
   "outputs": [
    {
     "data": {
      "text/plain": [
       "874109"
      ]
     },
     "execution_count": 67,
     "metadata": {},
     "output_type": "execute_result"
    }
   ],
   "source": [
    "sku_meta['SKU'].max()"
   ]
  },
  {
   "cell_type": "code",
   "execution_count": 68,
   "id": "68ae30d5",
   "metadata": {},
   "outputs": [
    {
     "data": {
      "text/plain": [
       "874109"
      ]
     },
     "execution_count": 68,
     "metadata": {},
     "output_type": "execute_result"
    }
   ],
   "source": [
    "sku_meta['SKU'].max()"
   ]
  },
  {
   "cell_type": "code",
   "execution_count": 69,
   "id": "ca4f7b38",
   "metadata": {},
   "outputs": [
    {
     "data": {
      "text/plain": [
       "0"
      ]
     },
     "execution_count": 69,
     "metadata": {},
     "output_type": "execute_result"
    }
   ],
   "source": [
    "len(set(sku_meta['SKU'].unique()).difference(full_data['SKU'].unique()))"
   ]
  },
  {
   "cell_type": "code",
   "execution_count": 70,
   "id": "aaef253a",
   "metadata": {},
   "outputs": [],
   "source": [
    "description = np.hstack(sku_meta['productCategory_caption_RU'].apply(lambda x: x.split(' ')))\n",
    "unique_tokens_desc, frequency_desc = np.unique(description, return_counts=True)"
   ]
  },
  {
   "cell_type": "code",
   "execution_count": 71,
   "id": "035cc552",
   "metadata": {},
   "outputs": [],
   "source": [
    "tokens = sorted(list(zip(unique_tokens_desc, frequency_desc)),key=lambda x: x[1])[::-1]"
   ]
  },
  {
   "cell_type": "code",
   "execution_count": 72,
   "id": "17a64ae4",
   "metadata": {},
   "outputs": [],
   "source": [
    "top_tokens = [i[0] for i in tokens[1:21]]"
   ]
  },
  {
   "cell_type": "code",
   "execution_count": 73,
   "id": "021124a9",
   "metadata": {},
   "outputs": [
    {
     "data": {
      "text/plain": [
       "['собств',\n",
       " 'производства',\n",
       " 'сыры',\n",
       " 'начинкой',\n",
       " 'вода',\n",
       " 'произв',\n",
       " 'собственного',\n",
       " 'йогурты',\n",
       " 'полутвердые',\n",
       " 'украины',\n",
       " 'без',\n",
       " 'молочные',\n",
       " 'сдоба',\n",
       " 'хлеб',\n",
       " 'допек',\n",
       " 'десерты',\n",
       " 'добавками',\n",
       " 'газированная',\n",
       " 'добавок',\n",
       " 'импортная']"
      ]
     },
     "execution_count": 73,
     "metadata": {},
     "output_type": "execute_result"
    }
   ],
   "source": [
    "top_tokens"
   ]
  },
  {
   "cell_type": "code",
   "execution_count": 74,
   "id": "3a2bad43",
   "metadata": {},
   "outputs": [],
   "source": [
    "from sklearn.feature_extraction.text import TfidfVectorizer"
   ]
  },
  {
   "cell_type": "code",
   "execution_count": 75,
   "id": "5248e55e",
   "metadata": {},
   "outputs": [],
   "source": [
    "vectorizer = TfidfVectorizer()"
   ]
  },
  {
   "cell_type": "code",
   "execution_count": 76,
   "id": "97ae60b0",
   "metadata": {},
   "outputs": [],
   "source": [
    "tfidf_result = vectorizer.fit_transform(sku_meta['productCategory_caption_RU'])"
   ]
  },
  {
   "cell_type": "code",
   "execution_count": 77,
   "id": "a8872a5b",
   "metadata": {},
   "outputs": [],
   "source": [
    "tfidf_result = pd.DataFrame(tfidf_result.todense(), columns=vectorizer.get_feature_names())"
   ]
  },
  {
   "cell_type": "code",
   "execution_count": 78,
   "id": "6c6e2eee",
   "metadata": {},
   "outputs": [],
   "source": [
    "meta = pd.concat([sku_meta[['SKU']], tfidf_result[top_tokens]], axis=1)"
   ]
  },
  {
   "cell_type": "code",
   "execution_count": 79,
   "id": "126794a2",
   "metadata": {},
   "outputs": [
    {
     "data": {
      "text/html": [
       "<div>\n",
       "<style scoped>\n",
       "    .dataframe tbody tr th:only-of-type {\n",
       "        vertical-align: middle;\n",
       "    }\n",
       "\n",
       "    .dataframe tbody tr th {\n",
       "        vertical-align: top;\n",
       "    }\n",
       "\n",
       "    .dataframe thead th {\n",
       "        text-align: right;\n",
       "    }\n",
       "</style>\n",
       "<table border=\"1\" class=\"dataframe\">\n",
       "  <thead>\n",
       "    <tr style=\"text-align: right;\">\n",
       "      <th></th>\n",
       "      <th>SKU</th>\n",
       "      <th>собств</th>\n",
       "      <th>производства</th>\n",
       "      <th>сыры</th>\n",
       "      <th>начинкой</th>\n",
       "      <th>вода</th>\n",
       "      <th>произв</th>\n",
       "      <th>собственного</th>\n",
       "      <th>йогурты</th>\n",
       "      <th>полутвердые</th>\n",
       "      <th>...</th>\n",
       "      <th>без</th>\n",
       "      <th>молочные</th>\n",
       "      <th>сдоба</th>\n",
       "      <th>хлеб</th>\n",
       "      <th>допек</th>\n",
       "      <th>десерты</th>\n",
       "      <th>добавками</th>\n",
       "      <th>газированная</th>\n",
       "      <th>добавок</th>\n",
       "      <th>импортная</th>\n",
       "    </tr>\n",
       "  </thead>\n",
       "  <tbody>\n",
       "    <tr>\n",
       "      <th>0</th>\n",
       "      <td>17</td>\n",
       "      <td>0.0</td>\n",
       "      <td>0.0</td>\n",
       "      <td>0.0</td>\n",
       "      <td>0.0</td>\n",
       "      <td>0.00000</td>\n",
       "      <td>0.0</td>\n",
       "      <td>0.0</td>\n",
       "      <td>0.0</td>\n",
       "      <td>0.0</td>\n",
       "      <td>...</td>\n",
       "      <td>0.0</td>\n",
       "      <td>0.0</td>\n",
       "      <td>0.0</td>\n",
       "      <td>0.0</td>\n",
       "      <td>0.0</td>\n",
       "      <td>0.0</td>\n",
       "      <td>0.0</td>\n",
       "      <td>0.000000</td>\n",
       "      <td>0.0</td>\n",
       "      <td>0.0</td>\n",
       "    </tr>\n",
       "    <tr>\n",
       "      <th>1</th>\n",
       "      <td>18</td>\n",
       "      <td>0.0</td>\n",
       "      <td>0.0</td>\n",
       "      <td>0.0</td>\n",
       "      <td>0.0</td>\n",
       "      <td>0.00000</td>\n",
       "      <td>0.0</td>\n",
       "      <td>0.0</td>\n",
       "      <td>0.0</td>\n",
       "      <td>0.0</td>\n",
       "      <td>...</td>\n",
       "      <td>0.0</td>\n",
       "      <td>0.0</td>\n",
       "      <td>0.0</td>\n",
       "      <td>0.0</td>\n",
       "      <td>0.0</td>\n",
       "      <td>0.0</td>\n",
       "      <td>0.0</td>\n",
       "      <td>0.000000</td>\n",
       "      <td>0.0</td>\n",
       "      <td>0.0</td>\n",
       "    </tr>\n",
       "    <tr>\n",
       "      <th>2</th>\n",
       "      <td>24</td>\n",
       "      <td>0.0</td>\n",
       "      <td>0.0</td>\n",
       "      <td>0.0</td>\n",
       "      <td>0.0</td>\n",
       "      <td>0.00000</td>\n",
       "      <td>0.0</td>\n",
       "      <td>0.0</td>\n",
       "      <td>0.0</td>\n",
       "      <td>0.0</td>\n",
       "      <td>...</td>\n",
       "      <td>0.0</td>\n",
       "      <td>0.0</td>\n",
       "      <td>0.0</td>\n",
       "      <td>0.0</td>\n",
       "      <td>0.0</td>\n",
       "      <td>0.0</td>\n",
       "      <td>0.0</td>\n",
       "      <td>0.000000</td>\n",
       "      <td>0.0</td>\n",
       "      <td>0.0</td>\n",
       "    </tr>\n",
       "    <tr>\n",
       "      <th>3</th>\n",
       "      <td>25</td>\n",
       "      <td>0.0</td>\n",
       "      <td>0.0</td>\n",
       "      <td>0.0</td>\n",
       "      <td>0.0</td>\n",
       "      <td>0.00000</td>\n",
       "      <td>0.0</td>\n",
       "      <td>0.0</td>\n",
       "      <td>0.0</td>\n",
       "      <td>0.0</td>\n",
       "      <td>...</td>\n",
       "      <td>0.0</td>\n",
       "      <td>0.0</td>\n",
       "      <td>0.0</td>\n",
       "      <td>0.0</td>\n",
       "      <td>0.0</td>\n",
       "      <td>0.0</td>\n",
       "      <td>0.0</td>\n",
       "      <td>0.000000</td>\n",
       "      <td>0.0</td>\n",
       "      <td>0.0</td>\n",
       "    </tr>\n",
       "    <tr>\n",
       "      <th>4</th>\n",
       "      <td>208</td>\n",
       "      <td>0.0</td>\n",
       "      <td>0.0</td>\n",
       "      <td>0.0</td>\n",
       "      <td>0.0</td>\n",
       "      <td>0.50504</td>\n",
       "      <td>0.0</td>\n",
       "      <td>0.0</td>\n",
       "      <td>0.0</td>\n",
       "      <td>0.0</td>\n",
       "      <td>...</td>\n",
       "      <td>0.0</td>\n",
       "      <td>0.0</td>\n",
       "      <td>0.0</td>\n",
       "      <td>0.0</td>\n",
       "      <td>0.0</td>\n",
       "      <td>0.0</td>\n",
       "      <td>0.0</td>\n",
       "      <td>0.632247</td>\n",
       "      <td>0.0</td>\n",
       "      <td>0.0</td>\n",
       "    </tr>\n",
       "  </tbody>\n",
       "</table>\n",
       "<p>5 rows × 21 columns</p>\n",
       "</div>"
      ],
      "text/plain": [
       "   SKU  собств  производства  сыры  начинкой     вода  произв  собственного  \\\n",
       "0   17     0.0           0.0   0.0       0.0  0.00000     0.0           0.0   \n",
       "1   18     0.0           0.0   0.0       0.0  0.00000     0.0           0.0   \n",
       "2   24     0.0           0.0   0.0       0.0  0.00000     0.0           0.0   \n",
       "3   25     0.0           0.0   0.0       0.0  0.00000     0.0           0.0   \n",
       "4  208     0.0           0.0   0.0       0.0  0.50504     0.0           0.0   \n",
       "\n",
       "   йогурты  полутвердые  ...  без  молочные  сдоба  хлеб  допек  десерты  \\\n",
       "0      0.0          0.0  ...  0.0       0.0    0.0   0.0    0.0      0.0   \n",
       "1      0.0          0.0  ...  0.0       0.0    0.0   0.0    0.0      0.0   \n",
       "2      0.0          0.0  ...  0.0       0.0    0.0   0.0    0.0      0.0   \n",
       "3      0.0          0.0  ...  0.0       0.0    0.0   0.0    0.0      0.0   \n",
       "4      0.0          0.0  ...  0.0       0.0    0.0   0.0    0.0      0.0   \n",
       "\n",
       "   добавками  газированная  добавок  импортная  \n",
       "0        0.0      0.000000      0.0        0.0  \n",
       "1        0.0      0.000000      0.0        0.0  \n",
       "2        0.0      0.000000      0.0        0.0  \n",
       "3        0.0      0.000000      0.0        0.0  \n",
       "4        0.0      0.632247      0.0        0.0  \n",
       "\n",
       "[5 rows x 21 columns]"
      ]
     },
     "execution_count": 79,
     "metadata": {},
     "output_type": "execute_result"
    }
   ],
   "source": [
    "meta.head()"
   ]
  },
  {
   "cell_type": "code",
   "execution_count": 80,
   "id": "7e1e0935",
   "metadata": {},
   "outputs": [
    {
     "data": {
      "text/plain": [
       "(1961, 21)"
      ]
     },
     "execution_count": 80,
     "metadata": {},
     "output_type": "execute_result"
    }
   ],
   "source": [
    "meta.shape"
   ]
  },
  {
   "cell_type": "code",
   "execution_count": 81,
   "id": "733f4c37",
   "metadata": {},
   "outputs": [],
   "source": [
    "for i in meta.columns:\n",
    "    if 'float' in str(meta[i].dtype):\n",
    "            meta[i] = meta[i].astype('float16')"
   ]
  },
  {
   "cell_type": "code",
   "execution_count": 82,
   "id": "2e312e0b",
   "metadata": {},
   "outputs": [
    {
     "data": {
      "text/plain": [
       "1961"
      ]
     },
     "execution_count": 82,
     "metadata": {},
     "output_type": "execute_result"
    }
   ],
   "source": [
    "len(set(full_data['SKU'].unique()).intersection(meta['SKU']))"
   ]
  },
  {
   "cell_type": "code",
   "execution_count": 83,
   "id": "05744d13",
   "metadata": {},
   "outputs": [],
   "source": [
    "full_data = full_data.merge(meta, on='SKU', how='left')"
   ]
  },
  {
   "cell_type": "code",
   "execution_count": 84,
   "id": "05a82d14",
   "metadata": {},
   "outputs": [
    {
     "name": "stdout",
     "output_type": "stream",
     "text": [
      "<class 'pandas.core.frame.DataFrame'>\n",
      "Int64Index: 29622473 entries, 0 to 29622472\n",
      "Data columns (total 61 columns):\n",
      " #   Column                                               Dtype         \n",
      "---  ------                                               -----         \n",
      " 0   ID                                                   object        \n",
      " 1   geoCluster                                           uint16        \n",
      " 2   SKU                                                  uint32        \n",
      " 3   date                                                 datetime64[ns]\n",
      " 4   sales                                                float16       \n",
      " 5   month                                                uint8         \n",
      " 6   day                                                  uint8         \n",
      " 7   weekday                                              uint8         \n",
      " 8   week_num                                             uint8         \n",
      " 9   commodity_group                                      uint8         \n",
      " 10  productCategory_caption_RU                           object        \n",
      " 11  cityId                                               uint8         \n",
      " 12  price                                                float16       \n",
      " 13  lagerUnitQuantity                                    float16       \n",
      " 14  lagerUnitTypeId                                      uint8         \n",
      " 15  revanue                                              float16       \n",
      " 16  year                                                 int64         \n",
      " 17  revanue_grouped_week_num_commodity_group_mean_lag_2  float16       \n",
      " 18  revanue_grouped_week_num_commodity_group_mean_lag_3  float16       \n",
      " 19  revanue_grouped_week_num_cityId_mean_lag_2           float16       \n",
      " 20  revanue_grouped_week_num_cityId_mean_lag_3           float16       \n",
      " 21  revanue_grouped_week_num_geoCluster_mean_lag_2       float16       \n",
      " 22  revanue_grouped_week_num_geoCluster_mean_lag_3       float16       \n",
      " 23  revanue_grouped_week_num_geoCluster_sum_lag_2        float16       \n",
      " 24  revanue_grouped_week_num_geoCluster_sum_lag_3        float16       \n",
      " 25  sales_grouped_week_num_commodity_group_mean_lag_2    float16       \n",
      " 26  sales_grouped_week_num_commodity_group_mean_lag_3    float16       \n",
      " 27  sales_grouped_week_num_cityId_mean_lag_2             float16       \n",
      " 28  sales_grouped_week_num_cityId_mean_lag_3             float16       \n",
      " 29  sales_grouped_week_num_geoCluster_mean_lag_2         float16       \n",
      " 30  sales_grouped_week_num_geoCluster_mean_lag_3         float16       \n",
      " 31  sales_grouped_week_num_geoCluster_sum_lag_2          float16       \n",
      " 32  sales_grouped_week_num_geoCluster_sum_lag_3          float16       \n",
      " 33  sales_grouped_week_num_SKU_mean_lag_2                float16       \n",
      " 34  sales_grouped_week_num_SKU_mean_lag_3                float16       \n",
      " 35  sales_grouped_week_num_SKU_sum_lag_2                 float16       \n",
      " 36  sales_grouped_week_num_SKU_sum_lag_3                 float16       \n",
      " 37  revanue_grouped_week_num_SKU_sum_lag_2               float16       \n",
      " 38  revanue_grouped_week_num_SKU_sum_lag_3               float16       \n",
      " 39  revanue_grouped_week_num_SKU_mean_lag_2              float16       \n",
      " 40  revanue_grouped_week_num_SKU_mean_lag_3              float16       \n",
      " 41  собств                                               float16       \n",
      " 42  производства                                         float16       \n",
      " 43  сыры                                                 float16       \n",
      " 44  начинкой                                             float16       \n",
      " 45  вода                                                 float16       \n",
      " 46  произв                                               float16       \n",
      " 47  собственного                                         float16       \n",
      " 48  йогурты                                              float16       \n",
      " 49  полутвердые                                          float16       \n",
      " 50  украины                                              float16       \n",
      " 51  без                                                  float16       \n",
      " 52  молочные                                             float16       \n",
      " 53  сдоба                                                float16       \n",
      " 54  хлеб                                                 float16       \n",
      " 55  допек                                                float16       \n",
      " 56  десерты                                              float16       \n",
      " 57  добавками                                            float16       \n",
      " 58  газированная                                         float16       \n",
      " 59  добавок                                              float16       \n",
      " 60  импортная                                            float16       \n",
      "dtypes: datetime64[ns](1), float16(48), int64(1), object(2), uint16(1), uint32(1), uint8(7)\n",
      "memory usage: 4.1+ GB\n"
     ]
    }
   ],
   "source": [
    "full_data.info()"
   ]
  },
  {
   "cell_type": "markdown",
   "id": "258b445f",
   "metadata": {},
   "source": [
    "### holidays feture"
   ]
  },
  {
   "cell_type": "code",
   "execution_count": 85,
   "id": "0811f76a",
   "metadata": {},
   "outputs": [
    {
     "name": "stdout",
     "output_type": "stream",
     "text": [
      "Requirement already satisfied: holidays in /home/ec2-user/anaconda3/envs/amazonei_tensorflow2_p36/lib/python3.6/site-packages (0.11.3.1)\n",
      "Requirement already satisfied: convertdate>=2.3.0 in /home/ec2-user/anaconda3/envs/amazonei_tensorflow2_p36/lib/python3.6/site-packages (from holidays) (2.3.2)\n",
      "Requirement already satisfied: korean-lunar-calendar in /home/ec2-user/anaconda3/envs/amazonei_tensorflow2_p36/lib/python3.6/site-packages (from holidays) (0.2.1)\n",
      "Requirement already satisfied: hijri-converter in /home/ec2-user/anaconda3/envs/amazonei_tensorflow2_p36/lib/python3.6/site-packages (from holidays) (2.2.2)\n",
      "Requirement already satisfied: python-dateutil in /home/ec2-user/anaconda3/envs/amazonei_tensorflow2_p36/lib/python3.6/site-packages (from holidays) (2.8.1)\n",
      "Requirement already satisfied: pymeeus<=1,>=0.3.13 in /home/ec2-user/anaconda3/envs/amazonei_tensorflow2_p36/lib/python3.6/site-packages (from convertdate>=2.3.0->holidays) (0.5.11)\n",
      "Requirement already satisfied: pytz>=2014.10 in /home/ec2-user/anaconda3/envs/amazonei_tensorflow2_p36/lib/python3.6/site-packages (from convertdate>=2.3.0->holidays) (2021.1)\n",
      "Requirement already satisfied: six>=1.5 in /home/ec2-user/anaconda3/envs/amazonei_tensorflow2_p36/lib/python3.6/site-packages (from python-dateutil->holidays) (1.15.0)\n",
      "\u001b[33mWARNING: You are using pip version 21.2.4; however, version 21.3.1 is available.\n",
      "You should consider upgrading via the '/home/ec2-user/anaconda3/envs/amazonei_tensorflow2_p36/bin/python -m pip install --upgrade pip' command.\u001b[0m\n"
     ]
    }
   ],
   "source": [
    "!pip install holidays"
   ]
  },
  {
   "cell_type": "code",
   "execution_count": 86,
   "id": "cf7172f4",
   "metadata": {},
   "outputs": [],
   "source": [
    "import datetime"
   ]
  },
  {
   "cell_type": "code",
   "execution_count": 87,
   "id": "295ac510",
   "metadata": {},
   "outputs": [
    {
     "name": "stdout",
     "output_type": "stream",
     "text": [
      "2020-01-01 Новий рік\n",
      "2020-01-07 Різдво Христове (православне)\n",
      "2020-03-08 Міжнародний жіночий день\n",
      "2020-04-19 Пасха (Великдень)\n",
      "2020-05-01 День праці\n",
      "2020-05-09 День перемоги\n",
      "2020-06-07 Трійця\n",
      "2020-06-28 День Конституції України\n",
      "2020-08-24 День незалежності України\n",
      "2020-10-14 День захисника України\n",
      "2020-12-25 Різдво Христове (католицьке)\n",
      "2021-01-01 Новий рік\n",
      "2021-01-07 Різдво Христове (православне)\n",
      "2021-03-08 Міжнародний жіночий день\n",
      "2021-05-01 День праці\n",
      "2021-05-02 Пасха (Великдень)\n",
      "2021-05-09 День перемоги\n",
      "2021-06-20 Трійця\n",
      "2021-06-28 День Конституції України\n",
      "2021-08-24 День незалежності України\n",
      "2021-10-14 День захисника України\n",
      "2021-12-25 Різдво Христове (католицьке)\n"
     ]
    }
   ],
   "source": [
    "import holidays\n",
    "ukr_holidays = holidays.Ukraine()\n",
    "ukr_holidays_2020_2021 = {}\n",
    "for date, name in sorted(holidays.Ukraine(years=2020).items()):\n",
    "    print(date, name)\n",
    "    ukr_holidays_2020_2021[date] = name\n",
    "for date, name in sorted(holidays.Ukraine(years=2021).items()):\n",
    "    print(date, name)\n",
    "    ukr_holidays_2020_2021[date] = name\n",
    "\n",
    "ukr_holidays_2020_2021[datetime.datetime(2020, 11, 23)] = 'Black Friday'\n",
    "ukr_holidays_2020_2021[datetime.datetime(2020, 11, 24)] = 'Black Friday'\n",
    "ukr_holidays_2020_2021[datetime.datetime(2020, 11, 25)] = 'Black Friday'\n",
    "ukr_holidays_2020_2021[datetime.datetime(2020, 11, 26)] = 'Black Friday'\n",
    "ukr_holidays_2020_2021[datetime.datetime(2020, 11, 27)] = 'Black Friday'\n",
    "ukr_holidays_2020_2021[datetime.datetime(2020, 11, 28)] = 'Black Friday'\n",
    "ukr_holidays_2020_2021[datetime.datetime(2020, 11, 29)] = 'Black Friday'\n",
    "ukr_holidays_2020_2021_df = pd.DataFrame.from_dict(data = ukr_holidays_2020_2021.items())\n",
    "ukr_holidays_2020_2021_df.columns = ['date','holliday_name']\n",
    "ukr_holidays_2020_2021_df['date'] = pd.to_datetime(ukr_holidays_2020_2021_df['date'])\n",
    "ukr_holidays_2020_2021_df['is_holiday'] = 1"
   ]
  },
  {
   "cell_type": "code",
   "execution_count": 88,
   "id": "8f30ef66",
   "metadata": {},
   "outputs": [
    {
     "data": {
      "text/html": [
       "<div>\n",
       "<style scoped>\n",
       "    .dataframe tbody tr th:only-of-type {\n",
       "        vertical-align: middle;\n",
       "    }\n",
       "\n",
       "    .dataframe tbody tr th {\n",
       "        vertical-align: top;\n",
       "    }\n",
       "\n",
       "    .dataframe thead th {\n",
       "        text-align: right;\n",
       "    }\n",
       "</style>\n",
       "<table border=\"1\" class=\"dataframe\">\n",
       "  <thead>\n",
       "    <tr style=\"text-align: right;\">\n",
       "      <th></th>\n",
       "      <th>date</th>\n",
       "      <th>holliday_name</th>\n",
       "      <th>is_holiday</th>\n",
       "    </tr>\n",
       "  </thead>\n",
       "  <tbody>\n",
       "    <tr>\n",
       "      <th>0</th>\n",
       "      <td>2020-01-01</td>\n",
       "      <td>Новий рік</td>\n",
       "      <td>1</td>\n",
       "    </tr>\n",
       "    <tr>\n",
       "      <th>1</th>\n",
       "      <td>2020-01-07</td>\n",
       "      <td>Різдво Христове (православне)</td>\n",
       "      <td>1</td>\n",
       "    </tr>\n",
       "    <tr>\n",
       "      <th>2</th>\n",
       "      <td>2020-03-08</td>\n",
       "      <td>Міжнародний жіночий день</td>\n",
       "      <td>1</td>\n",
       "    </tr>\n",
       "    <tr>\n",
       "      <th>3</th>\n",
       "      <td>2020-04-19</td>\n",
       "      <td>Пасха (Великдень)</td>\n",
       "      <td>1</td>\n",
       "    </tr>\n",
       "    <tr>\n",
       "      <th>4</th>\n",
       "      <td>2020-05-01</td>\n",
       "      <td>День праці</td>\n",
       "      <td>1</td>\n",
       "    </tr>\n",
       "  </tbody>\n",
       "</table>\n",
       "</div>"
      ],
      "text/plain": [
       "        date                  holliday_name  is_holiday\n",
       "0 2020-01-01                      Новий рік           1\n",
       "1 2020-01-07  Різдво Христове (православне)           1\n",
       "2 2020-03-08       Міжнародний жіночий день           1\n",
       "3 2020-04-19              Пасха (Великдень)           1\n",
       "4 2020-05-01                     День праці           1"
      ]
     },
     "execution_count": 88,
     "metadata": {},
     "output_type": "execute_result"
    }
   ],
   "source": [
    "ukr_holidays_2020_2021_df.head()"
   ]
  },
  {
   "cell_type": "code",
   "execution_count": 89,
   "id": "5b229f70",
   "metadata": {},
   "outputs": [],
   "source": [
    "full_data = pd.merge(full_data, ukr_holidays_2020_2021_df[['date','is_holiday']], on = 'date', how='left')\n",
    "full_data['is_holiday'].fillna(0, inplace = True)"
   ]
  },
  {
   "cell_type": "code",
   "execution_count": 90,
   "id": "0d7665a2",
   "metadata": {},
   "outputs": [
    {
     "data": {
      "text/plain": [
       "True"
      ]
     },
     "execution_count": 90,
     "metadata": {},
     "output_type": "execute_result"
    }
   ],
   "source": [
    "full_data.shape[0]==29622473"
   ]
  },
  {
   "cell_type": "code",
   "execution_count": 91,
   "id": "89ada7f1",
   "metadata": {},
   "outputs": [],
   "source": [
    "full_data = change_type(full_data, 'is_holiday','uint8')"
   ]
  },
  {
   "cell_type": "markdown",
   "id": "185891b5",
   "metadata": {},
   "source": [
    "### lockdown feature"
   ]
  },
  {
   "cell_type": "code",
   "execution_count": 92,
   "id": "b3c20aa8",
   "metadata": {},
   "outputs": [],
   "source": [
    "lock_down = pd.read_csv('lockdown.csv')"
   ]
  },
  {
   "cell_type": "code",
   "execution_count": 93,
   "id": "5723e1fb",
   "metadata": {},
   "outputs": [
    {
     "data": {
      "text/html": [
       "<div>\n",
       "<style scoped>\n",
       "    .dataframe tbody tr th:only-of-type {\n",
       "        vertical-align: middle;\n",
       "    }\n",
       "\n",
       "    .dataframe tbody tr th {\n",
       "        vertical-align: top;\n",
       "    }\n",
       "\n",
       "    .dataframe thead th {\n",
       "        text-align: right;\n",
       "    }\n",
       "</style>\n",
       "<table border=\"1\" class=\"dataframe\">\n",
       "  <thead>\n",
       "    <tr style=\"text-align: right;\">\n",
       "      <th></th>\n",
       "      <th>date</th>\n",
       "      <th>lockdown</th>\n",
       "    </tr>\n",
       "  </thead>\n",
       "  <tbody>\n",
       "    <tr>\n",
       "      <th>0</th>\n",
       "      <td>2020-01-01</td>\n",
       "      <td>0</td>\n",
       "    </tr>\n",
       "    <tr>\n",
       "      <th>1</th>\n",
       "      <td>2020-01-02</td>\n",
       "      <td>0</td>\n",
       "    </tr>\n",
       "    <tr>\n",
       "      <th>2</th>\n",
       "      <td>2020-01-03</td>\n",
       "      <td>0</td>\n",
       "    </tr>\n",
       "    <tr>\n",
       "      <th>3</th>\n",
       "      <td>2020-01-04</td>\n",
       "      <td>0</td>\n",
       "    </tr>\n",
       "    <tr>\n",
       "      <th>4</th>\n",
       "      <td>2020-01-05</td>\n",
       "      <td>0</td>\n",
       "    </tr>\n",
       "  </tbody>\n",
       "</table>\n",
       "</div>"
      ],
      "text/plain": [
       "         date  lockdown\n",
       "0  2020-01-01         0\n",
       "1  2020-01-02         0\n",
       "2  2020-01-03         0\n",
       "3  2020-01-04         0\n",
       "4  2020-01-05         0"
      ]
     },
     "execution_count": 93,
     "metadata": {},
     "output_type": "execute_result"
    }
   ],
   "source": [
    "lock_down.head()"
   ]
  },
  {
   "cell_type": "code",
   "execution_count": 94,
   "id": "23485851",
   "metadata": {},
   "outputs": [
    {
     "data": {
      "text/plain": [
       "(566, 2)"
      ]
     },
     "execution_count": 94,
     "metadata": {},
     "output_type": "execute_result"
    }
   ],
   "source": [
    "lock_down.shape"
   ]
  },
  {
   "cell_type": "code",
   "execution_count": 95,
   "id": "eb2499f7",
   "metadata": {},
   "outputs": [
    {
     "data": {
      "text/plain": [
       "date          0\n",
       "lockdown    162\n",
       "dtype: int64"
      ]
     },
     "execution_count": 95,
     "metadata": {},
     "output_type": "execute_result"
    }
   ],
   "source": [
    "(lock_down==1).sum()"
   ]
  },
  {
   "cell_type": "code",
   "execution_count": 96,
   "id": "a4445910",
   "metadata": {},
   "outputs": [],
   "source": [
    "lock_down['date'] = pd.to_datetime(lock_down['date'])"
   ]
  },
  {
   "cell_type": "code",
   "execution_count": 97,
   "id": "aca0f55d",
   "metadata": {},
   "outputs": [],
   "source": [
    "full_data = full_data.merge(lock_down, on='date', how='left')\n",
    "full_data['lockdown'].fillna(0, inplace=True)"
   ]
  },
  {
   "cell_type": "code",
   "execution_count": 98,
   "id": "1b05c79a",
   "metadata": {},
   "outputs": [],
   "source": [
    "full_data = change_type(full_data, 'lockdown','uint8')"
   ]
  },
  {
   "cell_type": "markdown",
   "id": "48f87508",
   "metadata": {},
   "source": [
    "### Leaving only features of interest"
   ]
  },
  {
   "cell_type": "code",
   "execution_count": 99,
   "id": "62cf6590",
   "metadata": {
    "collapsed": true,
    "jupyter": {
     "outputs_hidden": true
    }
   },
   "outputs": [
    {
     "data": {
      "text/plain": [
       "Index(['ID', 'geoCluster', 'SKU', 'date', 'sales', 'month', 'day', 'weekday',\n",
       "       'week_num', 'commodity_group', 'productCategory_caption_RU', 'cityId',\n",
       "       'price', 'lagerUnitQuantity', 'lagerUnitTypeId', 'revanue', 'year',\n",
       "       'revanue_grouped_week_num_commodity_group_mean_lag_2',\n",
       "       'revanue_grouped_week_num_commodity_group_mean_lag_3',\n",
       "       'revanue_grouped_week_num_cityId_mean_lag_2',\n",
       "       'revanue_grouped_week_num_cityId_mean_lag_3',\n",
       "       'revanue_grouped_week_num_geoCluster_mean_lag_2',\n",
       "       'revanue_grouped_week_num_geoCluster_mean_lag_3',\n",
       "       'revanue_grouped_week_num_geoCluster_sum_lag_2',\n",
       "       'revanue_grouped_week_num_geoCluster_sum_lag_3',\n",
       "       'sales_grouped_week_num_commodity_group_mean_lag_2',\n",
       "       'sales_grouped_week_num_commodity_group_mean_lag_3',\n",
       "       'sales_grouped_week_num_cityId_mean_lag_2',\n",
       "       'sales_grouped_week_num_cityId_mean_lag_3',\n",
       "       'sales_grouped_week_num_geoCluster_mean_lag_2',\n",
       "       'sales_grouped_week_num_geoCluster_mean_lag_3',\n",
       "       'sales_grouped_week_num_geoCluster_sum_lag_2',\n",
       "       'sales_grouped_week_num_geoCluster_sum_lag_3',\n",
       "       'sales_grouped_week_num_SKU_mean_lag_2',\n",
       "       'sales_grouped_week_num_SKU_mean_lag_3',\n",
       "       'sales_grouped_week_num_SKU_sum_lag_2',\n",
       "       'sales_grouped_week_num_SKU_sum_lag_3',\n",
       "       'revanue_grouped_week_num_SKU_sum_lag_2',\n",
       "       'revanue_grouped_week_num_SKU_sum_lag_3',\n",
       "       'revanue_grouped_week_num_SKU_mean_lag_2',\n",
       "       'revanue_grouped_week_num_SKU_mean_lag_3', 'собств', 'производства',\n",
       "       'сыры', 'начинкой', 'вода', 'произв', 'собственного', 'йогурты',\n",
       "       'полутвердые', 'украины', 'без', 'молочные', 'сдоба', 'хлеб', 'допек',\n",
       "       'десерты', 'добавками', 'газированная', 'добавок', 'импортная',\n",
       "       'is_holiday', 'lockdown'],\n",
       "      dtype='object')"
      ]
     },
     "execution_count": 99,
     "metadata": {},
     "output_type": "execute_result"
    }
   ],
   "source": [
    "full_data.columns"
   ]
  },
  {
   "cell_type": "code",
   "execution_count": 100,
   "id": "eaf1818d",
   "metadata": {},
   "outputs": [],
   "source": [
    "full_data = full_data.drop(columns=['revanue'])"
   ]
  },
  {
   "cell_type": "markdown",
   "id": "041aef0e",
   "metadata": {},
   "source": [
    "### train-test-submission split"
   ]
  },
  {
   "cell_type": "code",
   "execution_count": 101,
   "id": "ad5d21bf",
   "metadata": {},
   "outputs": [
    {
     "data": {
      "text/plain": [
       "ID                    0\n",
       "geoCluster            0\n",
       "SKU                   0\n",
       "date                  0\n",
       "sales           1666028\n",
       "                 ...   \n",
       "газированная          0\n",
       "добавок               0\n",
       "импортная             0\n",
       "is_holiday            0\n",
       "lockdown              0\n",
       "Length: 62, dtype: int64"
      ]
     },
     "execution_count": 101,
     "metadata": {},
     "output_type": "execute_result"
    }
   ],
   "source": [
    "full_data.isna().sum()"
   ]
  },
  {
   "cell_type": "code",
   "execution_count": 102,
   "id": "f548e4dc",
   "metadata": {},
   "outputs": [],
   "source": [
    "sub_data = full_data[full_data['date'].isin(dates_test)]\n",
    "train_data = full_data[~full_data['date'].isin(dates_test)]"
   ]
  },
  {
   "cell_type": "code",
   "execution_count": 103,
   "id": "d4b13078",
   "metadata": {},
   "outputs": [],
   "source": [
    "del full_data;\n",
    "gc.collect();"
   ]
  },
  {
   "cell_type": "code",
   "execution_count": 104,
   "id": "497a808e",
   "metadata": {},
   "outputs": [],
   "source": [
    "import datetime"
   ]
  },
  {
   "cell_type": "code",
   "execution_count": 105,
   "id": "a31b9df0",
   "metadata": {},
   "outputs": [],
   "source": [
    "max_date = train_data['date'].max()\n",
    "min_date = max_date-datetime.timedelta(days=14)"
   ]
  },
  {
   "cell_type": "code",
   "execution_count": 106,
   "id": "31a33ffa",
   "metadata": {},
   "outputs": [],
   "source": [
    "dates_val = pd.date_range(min_date, max_date)"
   ]
  },
  {
   "cell_type": "code",
   "execution_count": 107,
   "id": "b767e901",
   "metadata": {},
   "outputs": [],
   "source": [
    "val_data = train_data[train_data['date'].isin(dates_val)]"
   ]
  },
  {
   "cell_type": "code",
   "execution_count": 108,
   "id": "bcf3e5f1",
   "metadata": {},
   "outputs": [
    {
     "data": {
      "text/plain": [
       "(1712995, 62)"
      ]
     },
     "execution_count": 108,
     "metadata": {},
     "output_type": "execute_result"
    }
   ],
   "source": [
    "val_data.shape"
   ]
  },
  {
   "cell_type": "code",
   "execution_count": 109,
   "id": "9ac3abf0",
   "metadata": {},
   "outputs": [],
   "source": [
    "train_data = train_data[~train_data['date'].isin(dates_val)]"
   ]
  },
  {
   "cell_type": "markdown",
   "id": "df39d731",
   "metadata": {},
   "source": [
    "# Training "
   ]
  },
  {
   "cell_type": "code",
   "execution_count": 110,
   "id": "9bb77e90",
   "metadata": {},
   "outputs": [],
   "source": [
    "import lightgbm as lgb"
   ]
  },
  {
   "cell_type": "code",
   "execution_count": 111,
   "id": "046dce2f",
   "metadata": {
    "collapsed": true,
    "jupyter": {
     "outputs_hidden": true
    }
   },
   "outputs": [
    {
     "data": {
      "text/plain": [
       "Index(['ID', 'geoCluster', 'SKU', 'date', 'sales', 'month', 'day', 'weekday',\n",
       "       'week_num', 'commodity_group', 'productCategory_caption_RU', 'cityId',\n",
       "       'price', 'lagerUnitQuantity', 'lagerUnitTypeId', 'year',\n",
       "       'revanue_grouped_week_num_commodity_group_mean_lag_2',\n",
       "       'revanue_grouped_week_num_commodity_group_mean_lag_3',\n",
       "       'revanue_grouped_week_num_cityId_mean_lag_2',\n",
       "       'revanue_grouped_week_num_cityId_mean_lag_3',\n",
       "       'revanue_grouped_week_num_geoCluster_mean_lag_2',\n",
       "       'revanue_grouped_week_num_geoCluster_mean_lag_3',\n",
       "       'revanue_grouped_week_num_geoCluster_sum_lag_2',\n",
       "       'revanue_grouped_week_num_geoCluster_sum_lag_3',\n",
       "       'sales_grouped_week_num_commodity_group_mean_lag_2',\n",
       "       'sales_grouped_week_num_commodity_group_mean_lag_3',\n",
       "       'sales_grouped_week_num_cityId_mean_lag_2',\n",
       "       'sales_grouped_week_num_cityId_mean_lag_3',\n",
       "       'sales_grouped_week_num_geoCluster_mean_lag_2',\n",
       "       'sales_grouped_week_num_geoCluster_mean_lag_3',\n",
       "       'sales_grouped_week_num_geoCluster_sum_lag_2',\n",
       "       'sales_grouped_week_num_geoCluster_sum_lag_3',\n",
       "       'sales_grouped_week_num_SKU_mean_lag_2',\n",
       "       'sales_grouped_week_num_SKU_mean_lag_3',\n",
       "       'sales_grouped_week_num_SKU_sum_lag_2',\n",
       "       'sales_grouped_week_num_SKU_sum_lag_3',\n",
       "       'revanue_grouped_week_num_SKU_sum_lag_2',\n",
       "       'revanue_grouped_week_num_SKU_sum_lag_3',\n",
       "       'revanue_grouped_week_num_SKU_mean_lag_2',\n",
       "       'revanue_grouped_week_num_SKU_mean_lag_3', 'собств', 'производства',\n",
       "       'сыры', 'начинкой', 'вода', 'произв', 'собственного', 'йогурты',\n",
       "       'полутвердые', 'украины', 'без', 'молочные', 'сдоба', 'хлеб', 'допек',\n",
       "       'десерты', 'добавками', 'газированная', 'добавок', 'импортная',\n",
       "       'is_holiday', 'lockdown'],\n",
       "      dtype='object')"
      ]
     },
     "execution_count": 111,
     "metadata": {},
     "output_type": "execute_result"
    }
   ],
   "source": [
    "train_data.columns"
   ]
  },
  {
   "cell_type": "code",
   "execution_count": 112,
   "id": "15fd4f11",
   "metadata": {},
   "outputs": [],
   "source": [
    "train_X = train_data.drop(columns=['sales','ID','date','week_num','productCategory_caption_RU','lagerUnitQuantity','year'])"
   ]
  },
  {
   "cell_type": "code",
   "execution_count": 113,
   "id": "70d722af",
   "metadata": {},
   "outputs": [],
   "source": [
    "dict_mapping = {'собств':'sobstv', 'производства':'proizvodstva',\n",
    "'сыры':'siri', 'начинкой':'na4inkoi', 'вода':'voda', 'произв':'proizv', \n",
    "'собственного':'sobstvennogo', 'йогурты' : 'yogurty',\n",
    "'полутвердые':'polytverdie', 'украины':'ukraini', 'без':'bez', 'молочные':'molochnie',\n",
    "'сдоба':'sdoba', 'хлеб':'hleb', 'допек':'dopek',\n",
    "'десерты':'deserti', 'добавками':'dobavkami', 'газированная':'gzirovanaya', \n",
    "'добавок':'dobavok', 'импортная':'importnaya'}"
   ]
  },
  {
   "cell_type": "code",
   "execution_count": 114,
   "id": "f386a87a",
   "metadata": {},
   "outputs": [],
   "source": [
    "train_X = train_X.rename(columns=dict_mapping)"
   ]
  },
  {
   "cell_type": "code",
   "execution_count": 115,
   "id": "a472fd16",
   "metadata": {},
   "outputs": [],
   "source": [
    "train_y = train_data['sales']"
   ]
  },
  {
   "cell_type": "code",
   "execution_count": 116,
   "id": "5bebff28",
   "metadata": {},
   "outputs": [],
   "source": [
    "val_X = val_data.drop(columns=['sales','ID','date','week_num','productCategory_caption_RU','lagerUnitQuantity','year'])"
   ]
  },
  {
   "cell_type": "code",
   "execution_count": 117,
   "id": "e4e67e1b",
   "metadata": {},
   "outputs": [],
   "source": [
    "val_X = val_X.rename(columns=dict_mapping)"
   ]
  },
  {
   "cell_type": "code",
   "execution_count": 118,
   "id": "fcaa63cc",
   "metadata": {},
   "outputs": [],
   "source": [
    "val_y = val_data['sales']"
   ]
  },
  {
   "cell_type": "code",
   "execution_count": 119,
   "id": "fb551087",
   "metadata": {
    "collapsed": true,
    "jupyter": {
     "outputs_hidden": true
    }
   },
   "outputs": [
    {
     "name": "stderr",
     "output_type": "stream",
     "text": [
      "/home/ec2-user/anaconda3/envs/amazonei_tensorflow2_p36/lib/python3.6/site-packages/lightgbm/sklearn.py:726: UserWarning: 'early_stopping_rounds' argument is deprecated and will be removed in a future release of LightGBM. Pass 'early_stopping()' callback via 'callbacks' argument instead.\n",
      "  _log_warning(\"'early_stopping_rounds' argument is deprecated and will be removed in a future release of LightGBM. \"\n",
      "/home/ec2-user/anaconda3/envs/amazonei_tensorflow2_p36/lib/python3.6/site-packages/lightgbm/sklearn.py:736: UserWarning: 'verbose' argument is deprecated and will be removed in a future release of LightGBM. Pass 'log_evaluation()' callback via 'callbacks' argument instead.\n",
      "  _log_warning(\"'verbose' argument is deprecated and will be removed in a future release of LightGBM. \"\n"
     ]
    },
    {
     "name": "stdout",
     "output_type": "stream",
     "text": [
      "[LightGBM] [Warning] bagging_fraction is set=0.75, subsample=1.0 will be ignored. Current value: bagging_fraction=0.75\n",
      "[LightGBM] [Warning] feature_fraction is set=0.75, colsample_bytree=1.0 will be ignored. Current value: feature_fraction=0.75\n",
      "[LightGBM] [Warning] min_data_in_leaf is set=128, min_child_samples=20 will be ignored. Current value: min_data_in_leaf=128\n",
      "[LightGBM] [Warning] bagging_freq is set=1, subsample_freq=0 will be ignored. Current value: bagging_freq=1\n",
      "[LightGBM] [Warning] bagging_fraction is set=0.75, subsample=1.0 will be ignored. Current value: bagging_fraction=0.75\n",
      "[LightGBM] [Warning] feature_fraction is set=0.75, colsample_bytree=1.0 will be ignored. Current value: feature_fraction=0.75\n",
      "[LightGBM] [Warning] min_data_in_leaf is set=128, min_child_samples=20 will be ignored. Current value: min_data_in_leaf=128\n",
      "[LightGBM] [Warning] bagging_freq is set=1, subsample_freq=0 will be ignored. Current value: bagging_freq=1\n",
      "[LightGBM] [Warning] Auto-choosing row-wise multi-threading, the overhead of testing was 3.087916 seconds.\n",
      "You can set `force_row_wise=true` to remove the overhead.\n",
      "And if memory is not enough, you can set `force_col_wise=true`.\n",
      "[LightGBM] [Info] Total Bins 6571\n",
      "[LightGBM] [Info] Number of data points in the train set: 26243450, number of used features: 55\n",
      "[LightGBM] [Warning] bagging_fraction is set=0.75, subsample=1.0 will be ignored. Current value: bagging_fraction=0.75\n",
      "[LightGBM] [Warning] feature_fraction is set=0.75, colsample_bytree=1.0 will be ignored. Current value: feature_fraction=0.75\n",
      "[LightGBM] [Warning] min_data_in_leaf is set=128, min_child_samples=20 will be ignored. Current value: min_data_in_leaf=128\n",
      "[LightGBM] [Warning] bagging_freq is set=1, subsample_freq=0 will be ignored. Current value: bagging_freq=1\n",
      "[1]\tvalid_0's l1: 0.191609\n",
      "[2]\tvalid_0's l1: 0.191031\n",
      "[3]\tvalid_0's l1: 0.190536\n",
      "[4]\tvalid_0's l1: 0.190005\n",
      "[5]\tvalid_0's l1: 0.189573\n",
      "[6]\tvalid_0's l1: 0.189129\n",
      "[7]\tvalid_0's l1: 0.18864\n",
      "[8]\tvalid_0's l1: 0.188332\n",
      "[9]\tvalid_0's l1: 0.187962\n",
      "[10]\tvalid_0's l1: 0.187632\n",
      "[11]\tvalid_0's l1: 0.187241\n",
      "[12]\tvalid_0's l1: 0.18684\n",
      "[13]\tvalid_0's l1: 0.186476\n",
      "[14]\tvalid_0's l1: 0.186176\n",
      "[15]\tvalid_0's l1: 0.185833\n",
      "[16]\tvalid_0's l1: 0.185609\n",
      "[17]\tvalid_0's l1: 0.18532\n",
      "[18]\tvalid_0's l1: 0.185037\n",
      "[19]\tvalid_0's l1: 0.184767\n",
      "[20]\tvalid_0's l1: 0.184476\n",
      "[21]\tvalid_0's l1: 0.184251\n",
      "[22]\tvalid_0's l1: 0.184027\n",
      "[23]\tvalid_0's l1: 0.18379\n",
      "[24]\tvalid_0's l1: 0.183565\n",
      "[25]\tvalid_0's l1: 0.183348\n",
      "[26]\tvalid_0's l1: 0.183133\n",
      "[27]\tvalid_0's l1: 0.18291\n",
      "[28]\tvalid_0's l1: 0.182758\n",
      "[29]\tvalid_0's l1: 0.182574\n",
      "[30]\tvalid_0's l1: 0.182523\n",
      "[31]\tvalid_0's l1: 0.182501\n",
      "[32]\tvalid_0's l1: 0.18237\n",
      "[33]\tvalid_0's l1: 0.182206\n",
      "[34]\tvalid_0's l1: 0.18208\n",
      "[35]\tvalid_0's l1: 0.18204\n",
      "[36]\tvalid_0's l1: 0.181958\n",
      "[37]\tvalid_0's l1: 0.181974\n",
      "[38]\tvalid_0's l1: 0.181928\n",
      "[39]\tvalid_0's l1: 0.181833\n",
      "[40]\tvalid_0's l1: 0.181777\n",
      "[41]\tvalid_0's l1: 0.181694\n",
      "[42]\tvalid_0's l1: 0.18163\n",
      "[43]\tvalid_0's l1: 0.181545\n",
      "[44]\tvalid_0's l1: 0.18149\n",
      "[45]\tvalid_0's l1: 0.181423\n",
      "[46]\tvalid_0's l1: 0.181374\n",
      "[47]\tvalid_0's l1: 0.181358\n",
      "[48]\tvalid_0's l1: 0.181282\n",
      "[49]\tvalid_0's l1: 0.181217\n",
      "[50]\tvalid_0's l1: 0.181179\n",
      "[51]\tvalid_0's l1: 0.181148\n",
      "[52]\tvalid_0's l1: 0.181086\n",
      "[53]\tvalid_0's l1: 0.181085\n",
      "[54]\tvalid_0's l1: 0.181072\n",
      "[55]\tvalid_0's l1: 0.181028\n",
      "[56]\tvalid_0's l1: 0.180978\n",
      "[57]\tvalid_0's l1: 0.180942\n",
      "[58]\tvalid_0's l1: 0.180912\n",
      "[59]\tvalid_0's l1: 0.180895\n",
      "[60]\tvalid_0's l1: 0.180869\n",
      "[61]\tvalid_0's l1: 0.18086\n",
      "[62]\tvalid_0's l1: 0.180844\n",
      "[63]\tvalid_0's l1: 0.18081\n",
      "[64]\tvalid_0's l1: 0.180775\n",
      "[65]\tvalid_0's l1: 0.180753\n",
      "[66]\tvalid_0's l1: 0.180715\n",
      "[67]\tvalid_0's l1: 0.180733\n",
      "[68]\tvalid_0's l1: 0.18071\n",
      "[69]\tvalid_0's l1: 0.180702\n",
      "[70]\tvalid_0's l1: 0.180686\n",
      "[71]\tvalid_0's l1: 0.180659\n",
      "[72]\tvalid_0's l1: 0.18062\n",
      "[73]\tvalid_0's l1: 0.180591\n",
      "[74]\tvalid_0's l1: 0.180585\n",
      "[75]\tvalid_0's l1: 0.180597\n",
      "[76]\tvalid_0's l1: 0.180587\n",
      "[77]\tvalid_0's l1: 0.18052\n",
      "[78]\tvalid_0's l1: 0.180529\n",
      "[79]\tvalid_0's l1: 0.180518\n",
      "[80]\tvalid_0's l1: 0.1805\n",
      "[81]\tvalid_0's l1: 0.180485\n",
      "[82]\tvalid_0's l1: 0.180473\n",
      "[83]\tvalid_0's l1: 0.180465\n",
      "[84]\tvalid_0's l1: 0.180453\n",
      "[85]\tvalid_0's l1: 0.180433\n",
      "[86]\tvalid_0's l1: 0.180405\n",
      "[87]\tvalid_0's l1: 0.180393\n",
      "[88]\tvalid_0's l1: 0.180378\n",
      "[89]\tvalid_0's l1: 0.180396\n",
      "[90]\tvalid_0's l1: 0.180383\n",
      "[91]\tvalid_0's l1: 0.180378\n",
      "[92]\tvalid_0's l1: 0.180365\n",
      "[93]\tvalid_0's l1: 0.180355\n",
      "[94]\tvalid_0's l1: 0.180345\n",
      "[95]\tvalid_0's l1: 0.180334\n",
      "[96]\tvalid_0's l1: 0.180322\n",
      "[97]\tvalid_0's l1: 0.180316\n",
      "[98]\tvalid_0's l1: 0.180316\n",
      "[99]\tvalid_0's l1: 0.180313\n",
      "[100]\tvalid_0's l1: 0.180309\n"
     ]
    },
    {
     "data": {
      "text/plain": [
       "LGBMRegressor(bagging_fraction=0.75, bagging_freq=1, bagging_seed=128,\n",
       "              feature_fraction=0.75, learning_rate=0.03, max_depth=16,\n",
       "              metric='mae', min_data_in_leaf=128, num_leaves=200,\n",
       "              objective='mae', random_state=5, verbose=1)"
      ]
     },
     "execution_count": 119,
     "metadata": {},
     "output_type": "execute_result"
    }
   ],
   "source": [
    "lgb_model = lgb.LGBMRegressor(feature_fraction= 0.75,\n",
    "               metric = 'mae',\n",
    "               max_depth = 16, \n",
    "               min_data_in_leaf = 2**7, \n",
    "               bagging_fraction = 0.75, \n",
    "               learning_rate = 0.03, \n",
    "               objective = 'mae', \n",
    "               bagging_seed = 2**7, \n",
    "               num_leaves = 200,\n",
    "               bagging_freq =1,\n",
    "               verbose = 1,\n",
    "            random_state=5,\n",
    "                             n_estimators=100)\n",
    "lgb_model.fit(train_X,train_y,eval_metric=\"mae\", \n",
    "    eval_set=[(val_X, val_y)], \n",
    "    verbose=True, \n",
    "    early_stopping_rounds = 10)"
   ]
  },
  {
   "cell_type": "code",
   "execution_count": 120,
   "id": "81976c77",
   "metadata": {},
   "outputs": [],
   "source": [
    "from lightgbm import plot_importance\n"
   ]
  },
  {
   "cell_type": "code",
   "execution_count": 121,
   "id": "bdacad9d",
   "metadata": {},
   "outputs": [
    {
     "data": {
      "text/plain": [
       "<AxesSubplot:title={'center':'Feature importance'}, xlabel='Feature importance', ylabel='Features'>"
      ]
     },
     "execution_count": 121,
     "metadata": {},
     "output_type": "execute_result"
    },
    {
     "data": {
      "image/png": "[encoded data removed]",
      "text/plain": [
       "<Figure size 1080x864 with 1 Axes>"
      ]
     },
     "metadata": {},
     "output_type": "display_data"
    }
   ],
   "source": [
    "plot_importance(lgb_model,ax=plt.subplots(1,1,figsize=(15,12))[1])"
   ]
  },
  {
   "cell_type": "markdown",
   "id": "6bddb8c2",
   "metadata": {},
   "source": [
    "### final train"
   ]
  },
  {
   "cell_type": "code",
   "execution_count": 122,
   "id": "d80df491",
   "metadata": {},
   "outputs": [],
   "source": [
    "# lgb_model = lgb.LGBMRegressor(feature_fraction= 0.75,\n",
    "#                metric = 'mae',\n",
    "#                max_depth = 16, \n",
    "#                min_data_in_leaf = 2**7, \n",
    "#                bagging_fraction = 0.75, \n",
    "#                learning_rate = 0.03, \n",
    "#                objective = 'mae', \n",
    "#                bagging_seed = 2**7, \n",
    "#                num_leaves = 200,\n",
    "#                bagging_freq =1,\n",
    "#                verbose = 1,\n",
    "#             random_state=5,\n",
    "#                              n_estimators=100)\n",
    "# lgb_model.fit(train_X,train_y,eval_metric=\"mae\", \n",
    "#     eval_set=[(val_X, val_y)], \n",
    "#     verbose=True, # "
   ]
  },
  {
   "cell_type": "markdown",
   "id": "1e7eecbe",
   "metadata": {},
   "source": [
    "### prediction for submission"
   ]
  },
  {
   "cell_type": "code",
   "execution_count": 123,
   "id": "354e39b3",
   "metadata": {},
   "outputs": [],
   "source": [
    "sub_X = sub_data.drop(columns=['sales','ID','date','week_num','productCategory_caption_RU','lagerUnitQuantity','year'])"
   ]
  },
  {
   "cell_type": "code",
   "execution_count": 124,
   "id": "4c4bbc86",
   "metadata": {},
   "outputs": [],
   "source": [
    "sub_X = sub_X.rename(columns=dict_mapping)"
   ]
  },
  {
   "cell_type": "code",
   "execution_count": 125,
   "id": "141b0847",
   "metadata": {},
   "outputs": [],
   "source": [
    "prediction = lgb_model.predict(sub_X)"
   ]
  },
  {
   "cell_type": "code",
   "execution_count": 126,
   "id": "79ef83f9",
   "metadata": {},
   "outputs": [
    {
     "data": {
      "text/plain": [
       "0.03382135310206328"
      ]
     },
     "execution_count": 126,
     "metadata": {},
     "output_type": "execute_result"
    }
   ],
   "source": [
    "np.mean(prediction)"
   ]
  },
  {
   "cell_type": "code",
   "execution_count": 127,
   "id": "8ba432c7",
   "metadata": {},
   "outputs": [
    {
     "data": {
      "text/plain": [
       "1666028"
      ]
     },
     "execution_count": 127,
     "metadata": {},
     "output_type": "execute_result"
    }
   ],
   "source": [
    "len(prediction)"
   ]
  },
  {
   "cell_type": "code",
   "execution_count": 128,
   "id": "c8964f5f",
   "metadata": {},
   "outputs": [],
   "source": [
    "sub_data['sales'] = prediction"
   ]
  },
  {
   "cell_type": "code",
   "execution_count": 129,
   "id": "0bd99c5f",
   "metadata": {},
   "outputs": [],
   "source": [
    "sub_data.loc[sub_data['sales']<0,'sales']= 0"
   ]
  },
  {
   "cell_type": "code",
   "execution_count": 130,
   "id": "f9ac6abb",
   "metadata": {},
   "outputs": [
    {
     "data": {
      "text/plain": [
       "0.033830813325337675"
      ]
     },
     "execution_count": 130,
     "metadata": {},
     "output_type": "execute_result"
    }
   ],
   "source": [
    "sub_data['sales'].mean()"
   ]
  },
  {
   "cell_type": "code",
   "execution_count": 131,
   "id": "b352abcc",
   "metadata": {},
   "outputs": [],
   "source": [
    "sub_data = sub_data[['ID','sales']]"
   ]
  },
  {
   "cell_type": "code",
   "execution_count": 132,
   "id": "fd3e9c46",
   "metadata": {},
   "outputs": [],
   "source": [
    "sub_data.to_csv('submission_3.csv',index=False)"
   ]
  },
  {
   "cell_type": "code",
   "execution_count": null,
   "id": "f939a6f8",
   "metadata": {},
   "outputs": [],
   "source": []
  }
 ],
 "metadata": {
  "kernelspec": {
   "display_name": "conda_amazonei_tensorflow2_p36",
   "language": "python",
   "name": "conda_amazonei_tensorflow2_p36"
  },
  "language_info": {
   "codemirror_mode": {
    "name": "ipython",
    "version": 3
   },
   "file_extension": ".py",
   "mimetype": "text/x-python",
   "name": "python",
   "nbconvert_exporter": "python",
   "pygments_lexer": "ipython3",
   "version": "3.6.13"
  }
 },
 "nbformat": 4,
 "nbformat_minor": 5
}
