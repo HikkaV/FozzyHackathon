{
 "cells": [
  {
   "cell_type": "code",
   "execution_count": 1,
   "id": "c2ffa758",
   "metadata": {},
   "outputs": [],
   "source": [
    "import pandas as pd\n",
    "from tqdm import tqdm\n",
    "import itertools\n",
    "import numpy as np"
   ]
  },
  {
   "cell_type": "code",
   "execution_count": 2,
   "id": "210c0154",
   "metadata": {},
   "outputs": [],
   "source": [
    "data = pd.read_pickle('../processed/data_with_features.pkl')"
   ]
  },
  {
   "cell_type": "code",
   "execution_count": 3,
   "id": "fde1c42a",
   "metadata": {},
   "outputs": [
    {
     "data": {
      "text/plain": [
       "(29622473, 131)"
      ]
     },
     "execution_count": 3,
     "metadata": {},
     "output_type": "execute_result"
    }
   ],
   "source": [
    "data.shape"
   ]
  },
  {
   "cell_type": "code",
   "execution_count": 4,
   "id": "934ef389",
   "metadata": {},
   "outputs": [],
   "source": [
    "def print_groupby(iterable, keyfunc=None):\n",
    "    for k, g in itertools.groupby(iterable, keyfunc):\n",
    "        print(\"key: '{}'--> group: {}\".format(k, list(g)))"
   ]
  },
  {
   "cell_type": "code",
   "execution_count": 5,
   "id": "d65f0219",
   "metadata": {},
   "outputs": [],
   "source": [
    "def groupby_mark_for_ommit(iterable, keyfunc=None, threshold = 3, size = 0.4):\n",
    "    array_to_drop = []\n",
    "    for k, g in itertools.groupby(iterable, keyfunc):\n",
    "        g_len = len(list(g))\n",
    "        if( g_len>=threshold):\n",
    "            mask=np.array( [False]*g_len)\n",
    "            inds=np.random.choice(np.arange(g_len),size=  int(g_len * size)  )\n",
    "            mask[inds]=True\n",
    "            array_to_drop.append(mask)\n",
    "            #print(\"key: '{}'--> group: {}\".format(k, list(g)))\n",
    "        else:\n",
    "            array_to_drop.append([False]*g_len)\n",
    "    return array_to_drop"
   ]
  },
  {
   "cell_type": "code",
   "execution_count": 6,
   "id": "2a8e045e",
   "metadata": {},
   "outputs": [
    {
     "name": "stderr",
     "output_type": "stream",
     "text": [
      "  0%|                                                  | 0/1961 [00:00<?, ?it/s]/tmp/ipykernel_29143/4218711918.py:6: SettingWithCopyWarning: \n",
      "A value is trying to be set on a copy of a slice from a DataFrame.\n",
      "Try using .loc[row_indexer,col_indexer] = value instead\n",
      "\n",
      "See the caveats in the documentation: https://pandas.pydata.org/pandas-docs/stable/user_guide/indexing.html#returning-a-view-versus-a-copy\n",
      "  tmp_subset['to_drop'] = flat_list\n",
      "100%|███████████████████████████████████████| 1961/1961 [24:04<00:00,  1.36it/s]\n"
     ]
    }
   ],
   "source": [
    "unique_SKU_list = list(data.SKU.unique())\n",
    "for SKU_ in tqdm(unique_SKU_list):\n",
    "    tmp_subset = data[data['SKU'] == SKU_]\n",
    "    tmp_result = groupby_mark_for_ommit(tmp_subset.sales.values, None, 3, 0.9)\n",
    "    flat_list = [item for sublist in tmp_result for item in sublist]\n",
    "    tmp_subset['to_drop'] = flat_list\n",
    "    # assign to main DF\n",
    "    data.loc[data['SKU'] == SKU_,'to_drop'] = tmp_subset['to_drop']"
   ]
  },
  {
   "cell_type": "code",
   "execution_count": 7,
   "id": "ad4482ea",
   "metadata": {},
   "outputs": [],
   "source": [
    "data.to_pickle('../processed/data_with_features2.pkl')"
   ]
  },
  {
   "cell_type": "code",
   "execution_count": 8,
   "id": "ec9bbd99",
   "metadata": {},
   "outputs": [
    {
     "data": {
      "text/plain": [
       "array([False, True], dtype=object)"
      ]
     },
     "execution_count": 8,
     "metadata": {},
     "output_type": "execute_result"
    }
   ],
   "source": [
    "data['to_drop'].unique()"
   ]
  },
  {
   "cell_type": "code",
   "execution_count": null,
   "id": "5faa4c40",
   "metadata": {},
   "outputs": [],
   "source": []
  }
 ],
 "metadata": {
  "kernelspec": {
   "display_name": "Python 3 (ipykernel)",
   "language": "python",
   "name": "python3"
  },
  "language_info": {
   "codemirror_mode": {
    "name": "ipython",
    "version": 3
   },
   "file_extension": ".py",
   "mimetype": "text/x-python",
   "name": "python",
   "nbconvert_exporter": "python",
   "pygments_lexer": "ipython3",
   "version": "3.8.0"
  }
 },
 "nbformat": 4,
 "nbformat_minor": 5
}
